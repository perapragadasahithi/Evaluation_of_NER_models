{
 "cells": [
  {
   "cell_type": "code",
   "execution_count": 2,
   "metadata": {
    "scrolled": true
   },
   "outputs": [
    {
     "name": "stdout",
     "output_type": "stream",
     "text": [
      "batch_04_00011 annotator2_batch_04_00011_correct\n",
      "batch_04_00011.txt\n"
     ]
    },
    {
     "name": "stderr",
     "output_type": "stream",
     "text": [
      "DEBUG:urllib3.connectionpool:Starting new HTTPS connection (1): huggingface.co:443\n",
      "DEBUG:urllib3.connectionpool:https://huggingface.co:443 \"HEAD /sschet/bert-base-uncased_clinical-ner/resolve/main/vocab.txt HTTP/1.1\" 200 0\n",
      "DEBUG:urllib3.connectionpool:https://huggingface.co:443 \"HEAD /sschet/bert-base-uncased_clinical-ner/resolve/main/config.json HTTP/1.1\" 200 0\n",
      "DEBUG:urllib3.connectionpool:https://huggingface.co:443 \"HEAD /sschet/bert-base-uncased_clinical-ner/resolve/main/vocab.txt HTTP/1.1\" 200 0\n",
      "DEBUG:urllib3.connectionpool:https://huggingface.co:443 \"HEAD /sschet/bert-base-uncased_clinical-ner/resolve/main/config.json HTTP/1.1\" 200 0\n"
     ]
    },
    {
     "name": "stdout",
     "output_type": "stream",
     "text": [
      "1 112 284 0\n",
      "annotated_num: 1\n",
      "[['MS', 'problem'], ['MS', 'B-Disease_Subtype']]\n",
      "inscope: 1\n",
      "batch_05_00176 annotator2_batch_05_00176_correct\n",
      "batch_05_00176.txt\n"
     ]
    },
    {
     "name": "stderr",
     "output_type": "stream",
     "text": [
      "DEBUG:urllib3.connectionpool:https://huggingface.co:443 \"HEAD /sschet/bert-base-uncased_clinical-ner/resolve/main/vocab.txt HTTP/1.1\" 200 0\n"
     ]
    },
    {
     "name": "stdout",
     "output_type": "stream",
     "text": [
      "6 167 310 4\n",
      "annotated_num: 10\n",
      "[['Multiple', 'problem'], ['Multiple', 'I-Disease_Subtype']]\n",
      "[['Sclerosis', 'problem'], ['Sclerosis', 'I-Disease_Subtype']]\n",
      "[['MS', 'problem'], ['MS', 'B-Disease_Subtype']]\n",
      "[['relapse', 'problem'], ['relapse', 'B-Disease_Subtype']]\n",
      "[['relapse', 'problem'], ['relapse', 'B-Relapse_Temporality']]\n",
      "[['MS', 'problem'], ['MS', 'I-Disease_Subtype']]\n",
      "inscope: 6\n",
      "batch_05_00177 annotator2_batch_05_00177_correct\n",
      "batch_05_00177.txt\n"
     ]
    },
    {
     "name": "stderr",
     "output_type": "stream",
     "text": [
      "DEBUG:urllib3.connectionpool:https://huggingface.co:443 \"HEAD /sschet/bert-base-uncased_clinical-ner/resolve/main/config.json HTTP/1.1\" 200 0\n",
      "DEBUG:urllib3.connectionpool:https://huggingface.co:443 \"HEAD /sschet/bert-base-uncased_clinical-ner/resolve/main/vocab.txt HTTP/1.1\" 200 0\n"
     ]
    },
    {
     "name": "stdout",
     "output_type": "stream",
     "text": [
      "5 186 401 0\n",
      "annotated_num: 5\n",
      "[['MS', 'problem'], ['MS', 'B-Disease_Subtype']]\n",
      "[['Multiple', 'problem'], ['Multiple', 'B-Disease_Subtype']]\n",
      "[['sclerosis', 'problem'], ['sclerosis', 'I-Disease_Subtype']]\n",
      "[['Multiple', 'problem'], ['Multiple', 'B-Disease_Subtype']]\n",
      "[['sclerosis', 'problem'], ['sclerosis', 'I-Disease_Subtype']]\n",
      "inscope: 5\n",
      "batch_05_00178 annotator2_batch_05_00178_correct\n",
      "batch_05_00178.txt\n"
     ]
    },
    {
     "name": "stderr",
     "output_type": "stream",
     "text": [
      "DEBUG:urllib3.connectionpool:https://huggingface.co:443 \"HEAD /sschet/bert-base-uncased_clinical-ner/resolve/main/config.json HTTP/1.1\" 200 0\n",
      "DEBUG:urllib3.connectionpool:https://huggingface.co:443 \"HEAD /sschet/bert-base-uncased_clinical-ner/resolve/main/vocab.txt HTTP/1.1\" 200 0\n"
     ]
    },
    {
     "name": "stdout",
     "output_type": "stream",
     "text": [
      "3 55 426 3\n",
      "annotated_num: 7\n",
      "[['multiple', 'problem'], ['multiple', 'I-Disease_Subtype']]\n",
      "[['MS', 'problem'], ['MS', 'B-Disease_Subtype']]\n",
      "[['MS', 'problem'], ['MS', 'B-Disease_Subtype']]\n",
      "inscope: 3\n",
      "batch_05_00179 annotator2_batch_05_00179_correct\n",
      "batch_05_00179.txt\n"
     ]
    },
    {
     "name": "stderr",
     "output_type": "stream",
     "text": [
      "DEBUG:urllib3.connectionpool:https://huggingface.co:443 \"HEAD /sschet/bert-base-uncased_clinical-ner/resolve/main/config.json HTTP/1.1\" 200 0\n",
      "DEBUG:urllib3.connectionpool:https://huggingface.co:443 \"HEAD /sschet/bert-base-uncased_clinical-ner/resolve/main/vocab.txt HTTP/1.1\" 200 0\n"
     ]
    },
    {
     "name": "stdout",
     "output_type": "stream",
     "text": [
      "15 246 426 14\n",
      "annotated_num: 30\n",
      "[['MULTIPLE', 'problem'], ['MULTIPLE', 'B-Disease_Subtype']]\n",
      "[['SCLEROSIS', 'problem'], ['SCLEROSIS', 'I-Disease_Subtype']]\n",
      "[['Multiple', 'problem'], ['Multiple', 'B-Disease_Subtype']]\n",
      "[['Sclerosis', 'problem'], ['Sclerosis', 'I-Disease_Subtype']]\n",
      "[['MS', 'problem'], ['MS', 'B-Disease_Subtype']]\n",
      "[['-', 'problem'], ['-', 'I-Disease_Subtype']]\n",
      "[['-', 'problem'], ['-', 'I-Disease_Subtype']]\n",
      "[['-', 'problem'], ['-', 'I-Relapse_Date']]\n",
      "[['-', 'problem'], ['-', 'I-Relapse_Date']]\n",
      "[['MS', 'problem'], ['MS', 'B-Disease_Subtype']]\n",
      "[['Multiple', 'problem'], ['Multiple', 'B-Disease_Subtype']]\n",
      "[['sclerosis', 'problem'], ['sclerosis', 'I-Disease_Subtype']]\n",
      "[['MS', 'problem'], ['MS', 'B-Disease_Subtype']]\n",
      "[['MS', 'problem'], ['MS', 'B-Disease_Subtype']]\n",
      "[['MS', 'problem'], ['MS', 'B-Disease_Subtype']]\n",
      "inscope: 15\n",
      "batch_05_00180 annotator2_batch_05_00180_correct\n",
      "batch_05_00180.txt\n"
     ]
    },
    {
     "name": "stderr",
     "output_type": "stream",
     "text": [
      "DEBUG:urllib3.connectionpool:https://huggingface.co:443 \"HEAD /sschet/bert-base-uncased_clinical-ner/resolve/main/config.json HTTP/1.1\" 200 0\n",
      "DEBUG:urllib3.connectionpool:https://huggingface.co:443 \"HEAD /sschet/bert-base-uncased_clinical-ner/resolve/main/vocab.txt HTTP/1.1\" 200 0\n"
     ]
    },
    {
     "name": "stdout",
     "output_type": "stream",
     "text": [
      "7 287 573 3\n",
      "annotated_num: 11\n",
      "[['MS', 'problem'], ['MS', 'I-Disease_Subtype']]\n",
      "[['frequent', 'problem'], ['frequent', 'B-Relapse_Temporality']]\n",
      "[['relapses', 'problem'], ['relapses', 'I-Relapse_Temporality']]\n",
      "[['relapse', 'problem'], ['relapse', 'B-Disease_Subtype']]\n",
      "[['last', 'test'], ['last', 'B-Relapse_Temporality']]\n",
      "[['relapse', 'problem'], ['relapse', 'I-Relapse_Temporality']]\n",
      "[['RRMS', 'problem'], ['RRMS', 'B-Disease_Subtype']]\n",
      "inscope: 7\n",
      "batch_05_00181 annotator2_batch_05_00181_correct\n",
      "batch_05_00181.txt\n"
     ]
    },
    {
     "name": "stderr",
     "output_type": "stream",
     "text": [
      "DEBUG:urllib3.connectionpool:https://huggingface.co:443 \"HEAD /sschet/bert-base-uncased_clinical-ner/resolve/main/config.json HTTP/1.1\" 200 0\n",
      "DEBUG:urllib3.connectionpool:https://huggingface.co:443 \"HEAD /sschet/bert-base-uncased_clinical-ner/resolve/main/vocab.txt HTTP/1.1\" 200 0\n"
     ]
    },
    {
     "name": "stdout",
     "output_type": "stream",
     "text": [
      "7 373 589 7\n",
      "annotated_num: 14\n",
      "[['MS', 'problem'], ['MS', 'B-Disease_Subtype']]\n",
      "[['MS', 'problem'], ['MS', 'I-Disease_Subtype']]\n",
      "[['severe', 'problem'], ['severe', 'B-Relapse_Severity']]\n",
      "[['relapses', 'problem'], ['relapses', 'B-Relapse_Temporality']]\n",
      "[['MS', 'problem'], ['MS', 'I-Disease_Subtype']]\n",
      "[['several', 'problem'], ['several', 'B-Relapse_Temporality']]\n",
      "[['relapses', 'problem'], ['relapses', 'I-Relapse_Temporality']]\n",
      "inscope: 7\n",
      "batch_05_00182 annotator2_batch_05_00182_correct\n",
      "batch_05_00182.txt\n"
     ]
    },
    {
     "name": "stderr",
     "output_type": "stream",
     "text": [
      "DEBUG:urllib3.connectionpool:https://huggingface.co:443 \"HEAD /sschet/bert-base-uncased_clinical-ner/resolve/main/config.json HTTP/1.1\" 200 0\n",
      "DEBUG:urllib3.connectionpool:https://huggingface.co:443 \"HEAD /sschet/bert-base-uncased_clinical-ner/resolve/main/vocab.txt HTTP/1.1\" 200 0\n"
     ]
    },
    {
     "name": "stdout",
     "output_type": "stream",
     "text": [
      "11 445 322 2\n",
      "annotated_num: 13\n",
      "[['MS', 'problem'], ['MS', 'B-Disease_Subtype']]\n",
      "[['multiple', 'problem'], ['multiple', 'B-Disease_Subtype']]\n",
      "[['sclerosis', 'problem'], ['sclerosis', 'I-Disease_Subtype']]\n",
      "[['multiple', 'problem'], ['multiple', 'B-Disease_Subtype']]\n",
      "[['sclerosis', 'problem'], ['sclerosis', 'I-Disease_Subtype']]\n",
      "[['multiple', 'problem'], ['multiple', 'B-Disease_Subtype']]\n",
      "[['sclerosis', 'problem'], ['sclerosis', 'I-Disease_Subtype']]\n",
      "[['MS', 'problem'], ['MS', 'B-Disease_Subtype']]\n",
      "[['Multiple', 'problem'], ['Multiple', 'B-Disease_Subtype']]\n",
      "[['sclerosis', 'problem'], ['sclerosis', 'I-Disease_Subtype']]\n",
      "[['relapse', 'problem'], ['relapse', 'B-Relapse_Temporality']]\n",
      "inscope: 11\n",
      "batch_05_00183 annotator2_batch_05_00183_correct\n",
      "batch_05_00183.txt\n"
     ]
    },
    {
     "name": "stderr",
     "output_type": "stream",
     "text": [
      "DEBUG:urllib3.connectionpool:https://huggingface.co:443 \"HEAD /sschet/bert-base-uncased_clinical-ner/resolve/main/config.json HTTP/1.1\" 200 0\n",
      "DEBUG:urllib3.connectionpool:https://huggingface.co:443 \"HEAD /sschet/bert-base-uncased_clinical-ner/resolve/main/vocab.txt HTTP/1.1\" 200 0\n"
     ]
    },
    {
     "name": "stdout",
     "output_type": "stream",
     "text": [
      "7 319 463 0\n",
      "annotated_num: 7\n",
      "[['Multiple', 'problem'], ['Multiple', 'B-Disease_Subtype']]\n",
      "[['sclerosis', 'problem'], ['sclerosis', 'I-Disease_Subtype']]\n",
      "[['exacerbation', 'problem'], ['exacerbation', 'I-Disease_Subtype']]\n",
      "[['frequent', 'problem'], ['frequent', 'B-Disease_Subtype']]\n",
      "[['flare', 'problem'], ['flare', 'I-Disease_Subtype']]\n",
      "[['ups', 'problem'], ['ups', 'I-Disease_Subtype']]\n",
      "[['MS', 'problem'], ['MS', 'B-Disease_Subtype']]\n",
      "inscope: 7\n",
      "batch_05_00184 annotator2_batch_05_00184_correct\n",
      "batch_05_00184.txt\n"
     ]
    },
    {
     "name": "stderr",
     "output_type": "stream",
     "text": [
      "DEBUG:urllib3.connectionpool:https://huggingface.co:443 \"HEAD /sschet/bert-base-uncased_clinical-ner/resolve/main/config.json HTTP/1.1\" 200 0\n",
      "DEBUG:urllib3.connectionpool:https://huggingface.co:443 \"HEAD /sschet/bert-base-uncased_clinical-ner/resolve/main/vocab.txt HTTP/1.1\" 200 0\n"
     ]
    },
    {
     "name": "stdout",
     "output_type": "stream",
     "text": [
      "8 299 359 6\n",
      "annotated_num: 15\n",
      "[['Multiple', 'problem'], ['Multiple', 'B-Disease_Subtype']]\n",
      "[['sclerosis', 'problem'], ['sclerosis', 'I-Disease_Subtype']]\n",
      "[['multiple', 'problem'], ['multiple', 'B-Disease_Subtype']]\n",
      "[['sclerosis', 'problem'], ['sclerosis', 'I-Disease_Subtype']]\n",
      "[['MS', 'problem'], ['MS', 'B-Disease_Subtype']]\n",
      "[['last', 'problem'], ['last', 'B-Relapse_Temporality']]\n",
      "[['flair', 'problem'], ['flair', 'I-Relapse_Temporality']]\n",
      "[['LE', 'problem'], ['LE', 'I-Relapse_Temporality']]\n",
      "inscope: 8\n",
      "batch_05_00185 annotator2_batch_05_00185_correct\n",
      "batch_05_00185.txt\n"
     ]
    },
    {
     "name": "stderr",
     "output_type": "stream",
     "text": [
      "DEBUG:urllib3.connectionpool:https://huggingface.co:443 \"HEAD /sschet/bert-base-uncased_clinical-ner/resolve/main/config.json HTTP/1.1\" 200 0\n",
      "DEBUG:urllib3.connectionpool:https://huggingface.co:443 \"HEAD /sschet/bert-base-uncased_clinical-ner/resolve/main/vocab.txt HTTP/1.1\" 200 0\n"
     ]
    },
    {
     "name": "stdout",
     "output_type": "stream",
     "text": [
      "10 348 525 3\n",
      "annotated_num: 13\n",
      "[['MULTIPLE', 'problem'], ['MULTIPLE', 'B-Disease_Subtype']]\n",
      "[['SCLEROSIS', 'problem'], ['SCLEROSIS', 'I-Disease_Subtype']]\n",
      "[['Relapsing', 'problem'], ['Relapsing', 'B-Disease_Subtype']]\n",
      "[['Relapsing', 'problem'], ['Relapsing', 'B-Disease_Subtype']]\n",
      "[['RRMS', 'test'], ['RRMS', 'B-Disease_Subtype']]\n",
      "[['-', 'test'], ['-', 'I-Disease_Subtype']]\n",
      "[['Multiple', 'problem'], ['Multiple', 'B-Disease_Subtype']]\n",
      "[['sclerosis', 'problem'], ['sclerosis', 'I-Disease_Subtype']]\n",
      "[[',', 'problem'], [',', 'I-Disease_Subtype']]\n",
      "[['relapsing', 'problem'], ['relapsing', 'I-Disease_Subtype']]\n",
      "inscope: 10\n",
      "batch_05_00186 annotator2_batch_05_00186_correct\n",
      "batch_05_00186.txt\n"
     ]
    },
    {
     "name": "stderr",
     "output_type": "stream",
     "text": [
      "DEBUG:urllib3.connectionpool:https://huggingface.co:443 \"HEAD /sschet/bert-base-uncased_clinical-ner/resolve/main/config.json HTTP/1.1\" 200 0\n",
      "DEBUG:urllib3.connectionpool:https://huggingface.co:443 \"HEAD /sschet/bert-base-uncased_clinical-ner/resolve/main/vocab.txt HTTP/1.1\" 200 0\n"
     ]
    },
    {
     "name": "stdout",
     "output_type": "stream",
     "text": [
      "9 233 530 2\n",
      "annotated_num: 13\n",
      "[['Remitting', 'problem'], ['Remitting', 'I-Disease_Subtype']]\n",
      "[['Multiple', 'problem'], ['Multiple', 'B-Disease_Subtype']]\n",
      "[['Sclerosis', 'problem'], ['Sclerosis', 'I-Disease_Subtype']]\n",
      "[['multiple', 'problem'], ['multiple', 'B-Disease_Subtype']]\n",
      "[['sclerosis', 'problem'], ['sclerosis', 'I-Disease_Subtype']]\n",
      "[['multiple', 'problem'], ['multiple', 'B-Disease_Subtype']]\n",
      "[['sclerosis', 'problem'], ['sclerosis', 'I-Disease_Subtype']]\n",
      "[['Multiple', 'problem'], ['Multiple', 'B-Disease_Subtype']]\n",
      "[['Sclerosis', 'problem'], ['Sclerosis', 'I-Disease_Subtype']]\n",
      "inscope: 9\n",
      "batch_05_00187 annotator2_batch_05_00187_correct\n",
      "batch_05_00187.txt\n"
     ]
    },
    {
     "name": "stderr",
     "output_type": "stream",
     "text": [
      "DEBUG:urllib3.connectionpool:https://huggingface.co:443 \"HEAD /sschet/bert-base-uncased_clinical-ner/resolve/main/config.json HTTP/1.1\" 200 0\n"
     ]
    },
    {
     "name": "stdout",
     "output_type": "stream",
     "text": [
      "10 291 478 1\n",
      "annotated_num: 11\n",
      "[['MS', 'problem'], ['MS', 'B-Disease_Subtype']]\n",
      "[['multiple', 'problem'], ['multiple', 'B-Disease_Subtype']]\n",
      "[['sclerosis', 'problem'], ['sclerosis', 'I-Disease_Subtype']]\n",
      "[['Most', 'problem'], ['Most', 'B-Relapse_Temporality']]\n",
      "[['recent', 'problem'], ['recent', 'I-Relapse_Temporality']]\n",
      "[['attack', 'problem'], ['attack', 'I-Relapse_Temporality']]\n",
      "[['MS', 'problem'], ['MS', 'B-Disease_Subtype']]\n",
      "[['Multiple', 'problem'], ['Multiple', 'B-Disease_Subtype']]\n",
      "[['Sclerosis', 'problem'], ['Sclerosis', 'I-Disease_Subtype']]\n",
      "[['MS', 'problem'], ['MS', 'B-Disease_Subtype']]\n",
      "inscope: 10\n",
      "batch_05_00188 annotator2_batch_05_00188_correct\n",
      "batch_05_00188.txt\n"
     ]
    },
    {
     "name": "stderr",
     "output_type": "stream",
     "text": [
      "DEBUG:urllib3.connectionpool:https://huggingface.co:443 \"HEAD /sschet/bert-base-uncased_clinical-ner/resolve/main/vocab.txt HTTP/1.1\" 200 0\n",
      "DEBUG:urllib3.connectionpool:https://huggingface.co:443 \"HEAD /sschet/bert-base-uncased_clinical-ner/resolve/main/config.json HTTP/1.1\" 200 0\n"
     ]
    },
    {
     "name": "stdout",
     "output_type": "stream",
     "text": [
      "14 217 412 7\n",
      "annotated_num: 23\n",
      "[['MS', 'problem'], ['MS', 'B-Disease_Subtype']]\n",
      "[['Remitting', 'problem'], ['Remitting', 'I-Disease_Subtype']]\n",
      "[['Remitting', 'problem'], ['Remitting', 'I-Disease_Subtype']]\n",
      "[['sxs', 'problem'], ['sxs', 'B-Disease_Subtype']]\n",
      "[['numbness', 'problem'], ['numbness', 'I-Disease_Subtype']]\n",
      "[['and', 'problem'], ['and', 'I-Disease_Subtype']]\n",
      "[['tightness', 'problem'], ['tightness', 'I-Disease_Subtype']]\n",
      "[['in', 'problem'], ['in', 'I-Disease_Subtype']]\n",
      "[['shins', 'problem'], ['shins', 'I-Disease_Subtype']]\n",
      "[['MS', 'problem'], ['MS', 'B-Disease_Subtype']]\n",
      "[['MS', 'problem'], ['MS', 'B-Disease_Subtype']]\n",
      "[['MS', 'problem'], ['MS', 'B-Disease_Subtype']]\n",
      "[['a', 'problem'], ['a', 'I-Disease_Subtype']]\n",
      "[['relapse', 'problem'], ['relapse', 'I-Disease_Subtype']]\n",
      "inscope: 14\n",
      "batch_05_00189 annotator2_batch_05_00189_correct\n",
      "batch_05_00189.txt\n"
     ]
    },
    {
     "name": "stderr",
     "output_type": "stream",
     "text": [
      "DEBUG:urllib3.connectionpool:https://huggingface.co:443 \"HEAD /sschet/bert-base-uncased_clinical-ner/resolve/main/vocab.txt HTTP/1.1\" 200 0\n",
      "DEBUG:urllib3.connectionpool:https://huggingface.co:443 \"HEAD /sschet/bert-base-uncased_clinical-ner/resolve/main/config.json HTTP/1.1\" 200 0\n"
     ]
    },
    {
     "name": "stdout",
     "output_type": "stream",
     "text": [
      "3 118 283 4\n",
      "annotated_num: 7\n",
      "[['RRMS', 'problem'], ['RRMS', 'B-Disease_Subtype']]\n",
      "[['Relapse', 'problem'], ['Relapse', 'B-Relapse_Temporality']]\n",
      "[['MS', 'problem'], ['MS', 'B-Disease_Subtype']]\n",
      "inscope: 3\n",
      "batch_05_00190 annotator2_batch_05_00190_correct\n",
      "batch_05_00190.txt\n"
     ]
    },
    {
     "name": "stderr",
     "output_type": "stream",
     "text": [
      "DEBUG:urllib3.connectionpool:https://huggingface.co:443 \"HEAD /sschet/bert-base-uncased_clinical-ner/resolve/main/vocab.txt HTTP/1.1\" 200 0\n",
      "DEBUG:urllib3.connectionpool:https://huggingface.co:443 \"HEAD /sschet/bert-base-uncased_clinical-ner/resolve/main/config.json HTTP/1.1\" 200 0\n"
     ]
    },
    {
     "name": "stdout",
     "output_type": "stream",
     "text": [
      "6 185 699 0\n",
      "annotated_num: 6\n",
      "[['MS', 'problem'], ['MS', 'B-Disease_Subtype']]\n",
      "[['MS', 'problem'], ['MS', 'B-Disease_Subtype']]\n",
      "[['Multiple', 'problem'], ['Multiple', 'B-Disease_Subtype']]\n",
      "[['sclerosis', 'problem'], ['sclerosis', 'I-Disease_Subtype']]\n",
      "[['multiple', 'problem'], ['multiple', 'B-Disease_Subtype']]\n",
      "[['sclerosis', 'problem'], ['sclerosis', 'I-Disease_Subtype']]\n",
      "inscope: 6\n",
      "batch_05_00191 annotator2_batch_05_00191_correct\n",
      "batch_05_00191.txt\n"
     ]
    },
    {
     "name": "stderr",
     "output_type": "stream",
     "text": [
      "DEBUG:urllib3.connectionpool:https://huggingface.co:443 \"HEAD /sschet/bert-base-uncased_clinical-ner/resolve/main/vocab.txt HTTP/1.1\" 200 0\n",
      "DEBUG:urllib3.connectionpool:https://huggingface.co:443 \"HEAD /sschet/bert-base-uncased_clinical-ner/resolve/main/config.json HTTP/1.1\" 200 0\n"
     ]
    },
    {
     "name": "stdout",
     "output_type": "stream",
     "text": [
      "8 142 350 4\n",
      "annotated_num: 12\n",
      "[['multiple', 'problem'], ['multiple', 'B-Disease_Subtype']]\n",
      "[['sclerosis', 'problem'], ['sclerosis', 'I-Disease_Subtype']]\n",
      "[['major', 'problem'], ['major', 'B-Relapse_Severity']]\n",
      "[['exacerbation', 'problem'], ['exacerbation', 'B-Disease_Subtype']]\n",
      "[['Exacerbation', 'problem'], ['Exacerbation', 'B-Disease_Subtype']]\n",
      "[['of', 'problem'], ['of', 'I-Disease_Subtype']]\n",
      "[['multiple', 'problem'], ['multiple', 'I-Disease_Subtype']]\n",
      "[['sclerosis', 'problem'], ['sclerosis', 'I-Disease_Subtype']]\n",
      "inscope: 8\n",
      "batch_05_00192 annotator2_batch_05_00192_correct\n",
      "batch_05_00192.txt\n"
     ]
    },
    {
     "name": "stderr",
     "output_type": "stream",
     "text": [
      "DEBUG:urllib3.connectionpool:https://huggingface.co:443 \"HEAD /sschet/bert-base-uncased_clinical-ner/resolve/main/vocab.txt HTTP/1.1\" 200 0\n",
      "DEBUG:urllib3.connectionpool:https://huggingface.co:443 \"HEAD /sschet/bert-base-uncased_clinical-ner/resolve/main/config.json HTTP/1.1\" 200 0\n",
      "DEBUG:urllib3.connectionpool:https://huggingface.co:443 \"HEAD /sschet/bert-base-uncased_clinical-ner/resolve/main/vocab.txt HTTP/1.1\" 200 0\n"
     ]
    },
    {
     "name": "stdout",
     "output_type": "stream",
     "text": [
      "7 418 716 2\n",
      "annotated_num: 9\n",
      "[['multiple', 'problem'], ['multiple', 'B-Disease_Subtype']]\n",
      "[['sclerosis', 'problem'], ['sclerosis', 'I-Disease_Subtype']]\n",
      "[['MS', 'problem'], ['MS', 'B-Disease_Subtype']]\n",
      "[['last', 'problem'], ['last', 'B-Relapse_Temporality']]\n",
      "[['exacerbation', 'problem'], ['exacerbation', 'I-Relapse_Temporality']]\n",
      "[['MS', 'problem'], ['MS', 'B-Disease_Subtype']]\n",
      "[['MS', 'problem'], ['MS', 'B-Disease_Subtype']]\n",
      "inscope: 7\n",
      "batch_05_00193 annotator2_batch_05_00193_correct\n",
      "batch_05_00193.txt\n"
     ]
    },
    {
     "name": "stderr",
     "output_type": "stream",
     "text": [
      "DEBUG:urllib3.connectionpool:https://huggingface.co:443 \"HEAD /sschet/bert-base-uncased_clinical-ner/resolve/main/config.json HTTP/1.1\" 200 0\n",
      "DEBUG:urllib3.connectionpool:https://huggingface.co:443 \"HEAD /sschet/bert-base-uncased_clinical-ner/resolve/main/vocab.txt HTTP/1.1\" 200 0\n"
     ]
    },
    {
     "name": "stdout",
     "output_type": "stream",
     "text": [
      "9 177 281 12\n",
      "annotated_num: 21\n",
      "[['MULTIPLE', 'problem'], ['MULTIPLE', 'B-Disease_Subtype']]\n",
      "[['SCLEROSIS', 'problem'], ['SCLEROSIS', 'I-Disease_Subtype']]\n",
      "[['Multiple', 'problem'], ['Multiple', 'B-Disease_Subtype']]\n",
      "[['Sclerosis', 'problem'], ['Sclerosis', 'I-Disease_Subtype']]\n",
      "[['MS', 'problem'], ['MS', 'B-Disease_Subtype']]\n",
      "[['MS', 'problem'], ['MS', 'B-Disease_Subtype']]\n",
      "[['Multiple', 'problem'], ['Multiple', 'B-Disease_Subtype']]\n",
      "[['sclerosis', 'problem'], ['sclerosis', 'I-Disease_Subtype']]\n",
      "[['RRMS', 'problem'], ['RRMS', 'B-Disease_Subtype']]\n",
      "inscope: 9\n",
      "batch_05_00194 annotator2_batch_05_00194_correct\n",
      "batch_05_00194.txt\n"
     ]
    },
    {
     "name": "stderr",
     "output_type": "stream",
     "text": [
      "DEBUG:urllib3.connectionpool:https://huggingface.co:443 \"HEAD /sschet/bert-base-uncased_clinical-ner/resolve/main/config.json HTTP/1.1\" 200 0\n",
      "DEBUG:urllib3.connectionpool:https://huggingface.co:443 \"HEAD /sschet/bert-base-uncased_clinical-ner/resolve/main/vocab.txt HTTP/1.1\" 200 0\n"
     ]
    },
    {
     "name": "stdout",
     "output_type": "stream",
     "text": [
      "9 130 329 6\n",
      "annotated_num: 16\n",
      "[['MULTIPLE', 'problem'], ['MULTIPLE', 'B-Disease_Subtype']]\n",
      "[['SCLEROSIS', 'problem'], ['SCLEROSIS', 'I-Disease_Subtype']]\n",
      "[['Multiple', 'problem'], ['Multiple', 'B-Disease_Subtype']]\n",
      "[['Sclerosis', 'problem'], ['Sclerosis', 'I-Disease_Subtype']]\n",
      "[['MS', 'problem'], ['MS', 'B-Disease_Subtype']]\n",
      "[['-', 'problem'], ['-', 'I-Disease_Subtype']]\n",
      "[['-', 'problem'], ['-', 'I-Disease_Subtype']]\n",
      "[['MS', 'problem'], ['MS', 'B-Disease_Subtype']]\n",
      "[['Multiple', 'problem'], ['Multiple', 'B-Disease_Subtype']]\n",
      "inscope: 9\n",
      "batch_05_00195 annotator2_batch_05_00195_correct\n",
      "batch_05_00195.txt\n"
     ]
    },
    {
     "name": "stderr",
     "output_type": "stream",
     "text": [
      "DEBUG:urllib3.connectionpool:https://huggingface.co:443 \"HEAD /sschet/bert-base-uncased_clinical-ner/resolve/main/config.json HTTP/1.1\" 200 0\n",
      "DEBUG:urllib3.connectionpool:https://huggingface.co:443 \"HEAD /sschet/bert-base-uncased_clinical-ner/resolve/main/vocab.txt HTTP/1.1\" 200 0\n"
     ]
    },
    {
     "name": "stdout",
     "output_type": "stream",
     "text": [
      "10 226 532 3\n",
      "annotated_num: 13\n",
      "[['MS', 'problem'], ['MS', 'B-Disease_Subtype']]\n",
      "[['multiple', 'problem'], ['multiple', 'B-Disease_Subtype']]\n",
      "[['sclerosis', 'problem'], ['sclerosis', 'I-Disease_Subtype']]\n",
      "[['multiple', 'problem'], ['multiple', 'B-Disease_Subtype']]\n",
      "[['sclerosis', 'problem'], ['sclerosis', 'I-Disease_Subtype']]\n",
      "[['MS', 'problem'], ['MS', 'B-Disease_Subtype']]\n",
      "[['MS', 'problem'], ['MS', 'B-Disease_Subtype']]\n",
      "[['recent', 'problem'], ['recent', 'I-Relapse_Temporality']]\n",
      "[['MS', 'problem'], ['MS', 'B-Disease_Subtype']]\n",
      "[['MS', 'problem'], ['MS', 'B-Disease_Subtype']]\n",
      "inscope: 10\n",
      "batch_05_00196 annotator2_batch_05_00196_correct\n",
      "batch_05_00196.txt\n"
     ]
    },
    {
     "name": "stderr",
     "output_type": "stream",
     "text": [
      "DEBUG:urllib3.connectionpool:https://huggingface.co:443 \"HEAD /sschet/bert-base-uncased_clinical-ner/resolve/main/config.json HTTP/1.1\" 200 0\n",
      "DEBUG:urllib3.connectionpool:https://huggingface.co:443 \"HEAD /sschet/bert-base-uncased_clinical-ner/resolve/main/vocab.txt HTTP/1.1\" 200 0\n"
     ]
    },
    {
     "name": "stdout",
     "output_type": "stream",
     "text": [
      "4 222 331 4\n",
      "annotated_num: 8\n",
      "[['-', 'test'], ['-', 'I-Disease_Subtype']]\n",
      "[['MS', 'problem'], ['MS', 'I-Disease_Subtype']]\n",
      "[['relapse', 'problem'], ['relapse', 'B-Relapse_Temporality']]\n",
      "[['MS', 'problem'], ['MS', 'B-Disease_Subtype']]\n",
      "inscope: 4\n",
      "batch_05_00197 annotator2_batch_05_00197_correct\n",
      "batch_05_00197.txt\n"
     ]
    },
    {
     "name": "stderr",
     "output_type": "stream",
     "text": [
      "DEBUG:urllib3.connectionpool:https://huggingface.co:443 \"HEAD /sschet/bert-base-uncased_clinical-ner/resolve/main/config.json HTTP/1.1\" 200 0\n",
      "DEBUG:urllib3.connectionpool:https://huggingface.co:443 \"HEAD /sschet/bert-base-uncased_clinical-ner/resolve/main/vocab.txt HTTP/1.1\" 200 0\n"
     ]
    },
    {
     "name": "stdout",
     "output_type": "stream",
     "text": [
      "3 148 611 1\n",
      "annotated_num: 4\n",
      "[['Recent', 'problem'], ['Recent', 'B-Disease_Subtype']]\n",
      "[['MS', 'problem'], ['MS', 'I-Disease_Subtype']]\n",
      "[['exacerbation', 'problem'], ['exacerbation', 'I-Disease_Subtype']]\n",
      "inscope: 3\n",
      "batch_05_00198 annotator2_batch_05_00198_correct\n",
      "batch_05_00198.txt\n"
     ]
    },
    {
     "name": "stderr",
     "output_type": "stream",
     "text": [
      "DEBUG:urllib3.connectionpool:https://huggingface.co:443 \"HEAD /sschet/bert-base-uncased_clinical-ner/resolve/main/config.json HTTP/1.1\" 200 0\n",
      "DEBUG:urllib3.connectionpool:https://huggingface.co:443 \"HEAD /sschet/bert-base-uncased_clinical-ner/resolve/main/vocab.txt HTTP/1.1\" 200 0\n"
     ]
    },
    {
     "name": "stdout",
     "output_type": "stream",
     "text": [
      "8 376 606 4\n",
      "annotated_num: 12\n",
      "[['Multiple', 'problem'], ['Multiple', 'B-Disease_Subtype']]\n",
      "[['Sclerosis', 'problem'], ['Sclerosis', 'I-Disease_Subtype']]\n",
      "[['MS', 'problem'], ['MS', 'B-Disease_Subtype']]\n",
      "[['-', 'test'], ['-', 'I-Disease_Subtype']]\n",
      "[['-', 'test'], ['-', 'I-Disease_Subtype']]\n",
      "[['Multiple', 'problem'], ['Multiple', 'B-Disease_Subtype']]\n",
      "[['sclerosis', 'problem'], ['sclerosis', 'I-Disease_Subtype']]\n",
      "[['MS', 'problem'], ['MS', 'B-Disease_Subtype']]\n",
      "inscope: 8\n",
      "batch_05_00199 annotator2_batch_05_00199_correct\n",
      "batch_05_00199.txt\n"
     ]
    },
    {
     "name": "stderr",
     "output_type": "stream",
     "text": [
      "DEBUG:urllib3.connectionpool:https://huggingface.co:443 \"HEAD /sschet/bert-base-uncased_clinical-ner/resolve/main/config.json HTTP/1.1\" 200 0\n",
      "DEBUG:urllib3.connectionpool:https://huggingface.co:443 \"HEAD /sschet/bert-base-uncased_clinical-ner/resolve/main/vocab.txt HTTP/1.1\" 200 0\n"
     ]
    },
    {
     "name": "stdout",
     "output_type": "stream",
     "text": [
      "4 135 430 10\n",
      "annotated_num: 14\n",
      "[['MS', 'problem'], ['MS', 'B-Disease_Subtype']]\n",
      "[['exacerbation', 'problem'], ['exacerbation', 'I-Disease_Subtype']]\n",
      "[['MS', 'problem'], ['MS', 'B-Disease_Subtype']]\n",
      "[['exacerbation', 'problem'], ['exacerbation', 'I-Disease_Subtype']]\n",
      "inscope: 4\n",
      "batch_05_00200 annotator2_batch_05_00200_correct\n",
      "batch_05_00200.txt\n"
     ]
    },
    {
     "name": "stderr",
     "output_type": "stream",
     "text": [
      "DEBUG:urllib3.connectionpool:https://huggingface.co:443 \"HEAD /sschet/bert-base-uncased_clinical-ner/resolve/main/config.json HTTP/1.1\" 200 0\n",
      "DEBUG:urllib3.connectionpool:https://huggingface.co:443 \"HEAD /sschet/bert-base-uncased_clinical-ner/resolve/main/vocab.txt HTTP/1.1\" 200 0\n"
     ]
    },
    {
     "name": "stdout",
     "output_type": "stream",
     "text": [
      "26 245 418 19\n",
      "annotated_num: 46\n",
      "[['MS', 'problem'], ['MS', 'B-Disease_Subtype']]\n",
      "[['Remitting', 'problem'], ['Remitting', 'I-Disease_Subtype']]\n",
      "[['Disease', 'problem'], ['Disease', 'I-Disease_Subtype']]\n",
      "[['last', 'test'], ['last', 'I-Disease_Subtype']]\n",
      "[['Remitting', 'problem'], ['Remitting', 'I-Disease_Subtype']]\n",
      "[['disease', 'problem'], ['disease', 'I-Disease_Subtype']]\n",
      "[['Remitting', 'problem'], ['Remitting', 'I-Disease_Subtype']]\n",
      "[['Most', 'problem'], ['Most', 'B-Relapse_Temporality']]\n",
      "[['recent', 'problem'], ['recent', 'I-Relapse_Temporality']]\n",
      "[['attack', 'problem'], ['attack', 'I-Relapse_Temporality']]\n",
      "[['of', 'problem'], ['of', 'I-Relapse_Temporality']]\n",
      "[['MS', 'problem'], ['MS', 'I-Relapse_Temporality']]\n",
      "[['Minor', 'problem'], ['Minor', 'B-Relapse_Severity']]\n",
      "[['worsening', 'problem'], ['worsening', 'B-Disease_Subtype']]\n",
      "[['of', 'problem'], ['of', 'I-Disease_Subtype']]\n",
      "[['MS', 'problem'], ['MS', 'I-Disease_Subtype']]\n",
      "[['symptoms', 'problem'], ['symptoms', 'I-Disease_Subtype']]\n",
      "[['right', 'problem'], ['right', 'I-Disease_Subtype']]\n",
      "[['leg', 'problem'], ['leg', 'I-Disease_Subtype']]\n",
      "[['proximal', 'problem'], ['proximal', 'I-Disease_Subtype']]\n",
      "[['weakness', 'problem'], ['weakness', 'I-Disease_Subtype']]\n",
      "[['and', 'problem'], ['and', 'I-Disease_Subtype']]\n",
      "[['bladder', 'problem'], ['bladder', 'I-Disease_Subtype']]\n",
      "[['sx', 'problem'], ['sx', 'I-Disease_Subtype']]\n",
      "[['to', 'problem'], ['to', 'I-Disease_Subtype']]\n",
      "[['MS', 'problem'], ['MS', 'I-Disease_Subtype']]\n",
      "inscope: 26\n",
      "batch_05_00201 annotator2_batch_05_00201_correct\n",
      "batch_05_00201.txt\n"
     ]
    },
    {
     "name": "stderr",
     "output_type": "stream",
     "text": [
      "DEBUG:urllib3.connectionpool:https://huggingface.co:443 \"HEAD /sschet/bert-base-uncased_clinical-ner/resolve/main/config.json HTTP/1.1\" 200 0\n",
      "DEBUG:urllib3.connectionpool:https://huggingface.co:443 \"HEAD /sschet/bert-base-uncased_clinical-ner/resolve/main/vocab.txt HTTP/1.1\" 200 0\n"
     ]
    },
    {
     "name": "stdout",
     "output_type": "stream",
     "text": [
      "6 110 333 0\n",
      "annotated_num: 6\n",
      "[['MS', 'problem'], ['MS', 'B-Disease_Subtype']]\n",
      "[['multiple', 'problem'], ['multiple', 'B-Disease_Subtype']]\n",
      "[['sclerosis', 'problem'], ['sclerosis', 'I-Disease_Subtype']]\n",
      "[['MS', 'problem'], ['MS', 'B-Disease_Subtype']]\n",
      "[['Multiple', 'problem'], ['Multiple', 'B-Disease_Subtype']]\n",
      "[['sclerosis', 'problem'], ['sclerosis', 'I-Disease_Subtype']]\n",
      "inscope: 6\n",
      "batch_05_00202 annotator2_batch_05_00202_correct\n",
      "batch_05_00202.txt\n"
     ]
    },
    {
     "name": "stderr",
     "output_type": "stream",
     "text": [
      "DEBUG:urllib3.connectionpool:https://huggingface.co:443 \"HEAD /sschet/bert-base-uncased_clinical-ner/resolve/main/config.json HTTP/1.1\" 200 0\n",
      "DEBUG:urllib3.connectionpool:https://huggingface.co:443 \"HEAD /sschet/bert-base-uncased_clinical-ner/resolve/main/vocab.txt HTTP/1.1\" 200 0\n"
     ]
    },
    {
     "name": "stdout",
     "output_type": "stream",
     "text": [
      "3 74 402 1\n",
      "annotated_num: 4\n",
      "[['Multiple', 'problem'], ['Multiple', 'B-Disease_Subtype']]\n",
      "[['sclerosis', 'problem'], ['sclerosis', 'I-Disease_Subtype']]\n",
      "[['exacerbation', 'problem'], ['exacerbation', 'I-Disease_Subtype']]\n",
      "inscope: 3\n",
      "batch_05_00203 annotator2_batch_05_00203_correct\n",
      "batch_05_00203.txt\n"
     ]
    },
    {
     "name": "stderr",
     "output_type": "stream",
     "text": [
      "DEBUG:urllib3.connectionpool:https://huggingface.co:443 \"HEAD /sschet/bert-base-uncased_clinical-ner/resolve/main/config.json HTTP/1.1\" 200 0\n",
      "DEBUG:urllib3.connectionpool:https://huggingface.co:443 \"HEAD /sschet/bert-base-uncased_clinical-ner/resolve/main/vocab.txt HTTP/1.1\" 200 0\n"
     ]
    },
    {
     "name": "stdout",
     "output_type": "stream",
     "text": [
      "5 128 363 6\n",
      "annotated_num: 11\n",
      "[['RRMS', 'problem'], ['RRMS', 'B-Disease_Subtype']]\n",
      "[['Relapse', 'problem'], ['Relapse', 'B-Relapse_Temporality']]\n",
      "[['RRMS', 'problem'], ['RRMS', 'B-Disease_Subtype']]\n",
      "[['MS', 'problem'], ['MS', 'B-Disease_Subtype']]\n",
      "[['RRMS', 'problem'], ['RRMS', 'B-Disease_Subtype']]\n",
      "inscope: 5\n",
      "batch_05_00204 annotator2_batch_05_00204_correct\n",
      "batch_05_00204.txt\n"
     ]
    },
    {
     "name": "stderr",
     "output_type": "stream",
     "text": [
      "DEBUG:urllib3.connectionpool:https://huggingface.co:443 \"HEAD /sschet/bert-base-uncased_clinical-ner/resolve/main/config.json HTTP/1.1\" 200 0\n",
      "DEBUG:urllib3.connectionpool:https://huggingface.co:443 \"HEAD /sschet/bert-base-uncased_clinical-ner/resolve/main/vocab.txt HTTP/1.1\" 200 0\n"
     ]
    },
    {
     "name": "stdout",
     "output_type": "stream",
     "text": [
      "3 226 340 2\n",
      "annotated_num: 5\n",
      "[['MS', 'problem'], ['MS', 'B-Disease_Subtype']]\n",
      "[['episode', 'problem'], ['episode', 'B-Relapse_Temporality']]\n",
      "[['MS', 'problem'], ['MS', 'B-Disease_Subtype']]\n",
      "inscope: 3\n",
      "batch_05_00205 annotator2_batch_05_00205_correct\n",
      "batch_05_00205.txt\n"
     ]
    },
    {
     "name": "stderr",
     "output_type": "stream",
     "text": [
      "DEBUG:urllib3.connectionpool:https://huggingface.co:443 \"HEAD /sschet/bert-base-uncased_clinical-ner/resolve/main/config.json HTTP/1.1\" 200 0\n",
      "DEBUG:urllib3.connectionpool:https://huggingface.co:443 \"HEAD /sschet/bert-base-uncased_clinical-ner/resolve/main/vocab.txt HTTP/1.1\" 200 0\n"
     ]
    },
    {
     "name": "stdout",
     "output_type": "stream",
     "text": [
      "6 196 296 6\n",
      "annotated_num: 12\n",
      "[['MS', 'problem'], ['MS', 'I-Disease_Subtype']]\n",
      "[['mild', 'problem'], ['mild', 'B-Relapse_Severity']]\n",
      "[['flare', 'problem'], ['flare', 'B-Relapse_Temporality']]\n",
      "[['MS', 'problem'], ['MS', 'B-Disease_Subtype']]\n",
      "[['MS', 'problem'], ['MS', 'I-Disease_Subtype']]\n",
      "[['MS', 'problem'], ['MS', 'B-Disease_Subtype']]\n",
      "inscope: 6\n",
      "batch_05_00206 annotator2_batch_05_00206_correct\n",
      "batch_05_00206.txt\n"
     ]
    },
    {
     "name": "stderr",
     "output_type": "stream",
     "text": [
      "DEBUG:urllib3.connectionpool:https://huggingface.co:443 \"HEAD /sschet/bert-base-uncased_clinical-ner/resolve/main/config.json HTTP/1.1\" 200 0\n",
      "DEBUG:urllib3.connectionpool:https://huggingface.co:443 \"HEAD /sschet/bert-base-uncased_clinical-ner/resolve/main/vocab.txt HTTP/1.1\" 200 0\n"
     ]
    },
    {
     "name": "stdout",
     "output_type": "stream",
     "text": [
      "9 140 566 2\n",
      "annotated_num: 11\n",
      "[['MS', 'problem'], ['MS', 'B-Disease_Subtype']]\n",
      "[['MS', 'problem'], ['MS', 'B-Relapse_Temporality']]\n",
      "[['flare', 'problem'], ['flare', 'I-Relapse_Temporality']]\n",
      "[['up', 'problem'], ['up', 'I-Relapse_Temporality']]\n",
      "[['MS', 'problem'], ['MS', 'B-Disease_Subtype']]\n",
      "[['flareup', 'problem'], ['flareup', 'I-Disease_Subtype']]\n",
      "[['MS', 'problem'], ['MS', 'B-Disease_Subtype']]\n",
      "[['multiple', 'problem'], ['multiple', 'B-Disease_Subtype']]\n",
      "[['sclerosis', 'problem'], ['sclerosis', 'I-Disease_Subtype']]\n",
      "inscope: 9\n",
      "batch_05_00207 annotator2_batch_05_00207_correct\n",
      "batch_05_00207.txt\n"
     ]
    },
    {
     "name": "stderr",
     "output_type": "stream",
     "text": [
      "DEBUG:urllib3.connectionpool:https://huggingface.co:443 \"HEAD /sschet/bert-base-uncased_clinical-ner/resolve/main/config.json HTTP/1.1\" 200 0\n",
      "DEBUG:urllib3.connectionpool:https://huggingface.co:443 \"HEAD /sschet/bert-base-uncased_clinical-ner/resolve/main/vocab.txt HTTP/1.1\" 200 0\n"
     ]
    },
    {
     "name": "stdout",
     "output_type": "stream",
     "text": [
      "3 251 586 0\n",
      "annotated_num: 3\n",
      "[['MS', 'test'], ['MS', 'B-Disease_Subtype']]\n",
      "[['Multiple', 'problem'], ['Multiple', 'B-Disease_Subtype']]\n",
      "[['Sclerosis', 'problem'], ['Sclerosis', 'I-Disease_Subtype']]\n",
      "inscope: 3\n",
      "batch_05_00208 annotator2_batch_05_00208_correct\n",
      "batch_05_00208.txt\n"
     ]
    },
    {
     "name": "stderr",
     "output_type": "stream",
     "text": [
      "DEBUG:urllib3.connectionpool:https://huggingface.co:443 \"HEAD /sschet/bert-base-uncased_clinical-ner/resolve/main/config.json HTTP/1.1\" 200 0\n",
      "DEBUG:urllib3.connectionpool:https://huggingface.co:443 \"HEAD /sschet/bert-base-uncased_clinical-ner/resolve/main/vocab.txt HTTP/1.1\" 200 0\n",
      "DEBUG:urllib3.connectionpool:https://huggingface.co:443 \"HEAD /sschet/bert-base-uncased_clinical-ner/resolve/main/config.json HTTP/1.1\" 200 0\n"
     ]
    },
    {
     "name": "stdout",
     "output_type": "stream",
     "text": [
      "4 168 497 0\n",
      "annotated_num: 4\n",
      "[['MS', 'problem'], ['MS', 'B-Disease_Subtype']]\n",
      "[['MS', 'problem'], ['MS', 'B-Disease_Subtype']]\n",
      "[['multiple', 'problem'], ['multiple', 'B-Disease_Subtype']]\n",
      "[['sclerosis', 'problem'], ['sclerosis', 'I-Disease_Subtype']]\n",
      "inscope: 4\n",
      "batch_05_00209 annotator2_batch_05_00209_correct\n",
      "batch_05_00209.txt\n"
     ]
    },
    {
     "name": "stderr",
     "output_type": "stream",
     "text": [
      "DEBUG:urllib3.connectionpool:https://huggingface.co:443 \"HEAD /sschet/bert-base-uncased_clinical-ner/resolve/main/vocab.txt HTTP/1.1\" 200 0\n"
     ]
    },
    {
     "name": "stdout",
     "output_type": "stream",
     "text": [
      "17 357 558 2\n",
      "annotated_num: 22\n",
      "[['MS', 'problem'], ['MS', 'B-Disease_Subtype']]\n",
      "[['muscle', 'problem'], ['muscle', 'I-Disease_Subtype']]\n",
      "[['spasms', 'problem'], ['spasms', 'I-Disease_Subtype']]\n",
      "[['MS', 'problem'], ['MS', 'B-Disease_Subtype']]\n",
      "[['exacerbation', 'problem'], ['exacerbation', 'I-Disease_Subtype']]\n",
      "[['Ms', 'problem'], ['Ms', 'B-Disease_Subtype']]\n",
      "[['Multiple', 'problem'], ['Multiple', 'B-Disease_Subtype']]\n",
      "[['Sclerosis', 'problem'], ['Sclerosis', 'I-Disease_Subtype']]\n",
      "[['MS', 'problem'], ['MS', 'B-Disease_Subtype']]\n",
      "[['muscle', 'problem'], ['muscle', 'I-Disease_Subtype']]\n",
      "[['spasms', 'problem'], ['spasms', 'I-Disease_Subtype']]\n",
      "[['MS', 'problem'], ['MS', 'I-Disease_Subtype']]\n",
      "[['exacerbation', 'problem'], ['exacerbation', 'I-Disease_Subtype']]\n",
      "[['MS', 'problem'], ['MS', 'B-Disease_Subtype']]\n",
      "[['Muscle', 'problem'], ['Muscle', 'I-Disease_Subtype']]\n",
      "[['spasm', 'problem'], ['spasm', 'I-Disease_Subtype']]\n",
      "[['MS', 'problem'], ['MS', 'B-Disease_Subtype']]\n",
      "inscope: 17\n",
      "batch_05_00210 annotator2_batch_05_00210_correct\n",
      "batch_05_00210.txt\n"
     ]
    },
    {
     "name": "stderr",
     "output_type": "stream",
     "text": [
      "DEBUG:urllib3.connectionpool:https://huggingface.co:443 \"HEAD /sschet/bert-base-uncased_clinical-ner/resolve/main/config.json HTTP/1.1\" 200 0\n",
      "DEBUG:urllib3.connectionpool:https://huggingface.co:443 \"HEAD /sschet/bert-base-uncased_clinical-ner/resolve/main/vocab.txt HTTP/1.1\" 200 0\n"
     ]
    },
    {
     "name": "stdout",
     "output_type": "stream",
     "text": [
      "4 221 447 0\n",
      "annotated_num: 4\n",
      "[['Multiple', 'problem'], ['Multiple', 'B-Disease_Subtype']]\n",
      "[['sclerosis', 'problem'], ['sclerosis', 'I-Disease_Subtype']]\n",
      "[['multiple', 'problem'], ['multiple', 'B-Disease_Subtype']]\n",
      "[['sclerosis', 'problem'], ['sclerosis', 'I-Disease_Subtype']]\n",
      "inscope: 4\n",
      "batch_05_00211 annotator2_batch_05_00211_correct\n",
      "batch_05_00211.txt\n"
     ]
    },
    {
     "name": "stderr",
     "output_type": "stream",
     "text": [
      "DEBUG:urllib3.connectionpool:https://huggingface.co:443 \"HEAD /sschet/bert-base-uncased_clinical-ner/resolve/main/config.json HTTP/1.1\" 200 0\n",
      "DEBUG:urllib3.connectionpool:https://huggingface.co:443 \"HEAD /sschet/bert-base-uncased_clinical-ner/resolve/main/vocab.txt HTTP/1.1\" 200 0\n"
     ]
    },
    {
     "name": "stdout",
     "output_type": "stream",
     "text": [
      "6 171 400 9\n",
      "annotated_num: 16\n",
      "[['MS', 'test'], ['MS', 'B-Disease_Subtype']]\n",
      "[['Disease', 'problem'], ['Disease', 'I-Disease_Subtype']]\n",
      "[['Multiple', 'problem'], ['Multiple', 'B-Disease_Subtype']]\n",
      "[['Sclerosis', 'problem'], ['Sclerosis', 'I-Disease_Subtype']]\n",
      "[['Multiple', 'problem'], ['Multiple', 'B-Disease_Subtype']]\n",
      "[['Sclerosis', 'problem'], ['Sclerosis', 'I-Disease_Subtype']]\n",
      "inscope: 6\n",
      "batch_05_00212 annotator2_batch_05_00212_correct\n",
      "batch_05_00212.txt\n"
     ]
    },
    {
     "name": "stderr",
     "output_type": "stream",
     "text": [
      "DEBUG:urllib3.connectionpool:https://huggingface.co:443 \"HEAD /sschet/bert-base-uncased_clinical-ner/resolve/main/config.json HTTP/1.1\" 200 0\n",
      "DEBUG:urllib3.connectionpool:https://huggingface.co:443 \"HEAD /sschet/bert-base-uncased_clinical-ner/resolve/main/vocab.txt HTTP/1.1\" 200 0\n"
     ]
    },
    {
     "name": "stdout",
     "output_type": "stream",
     "text": [
      "10 137 393 7\n",
      "annotated_num: 18\n",
      "[['MS', 'problem'], ['MS', 'B-Disease_Subtype']]\n",
      "[['Remitting', 'problem'], ['Remitting', 'I-Disease_Subtype']]\n",
      "[['Disease', 'problem'], ['Disease', 'I-Disease_Subtype']]\n",
      "[['Progressive', 'problem'], ['Progressive', 'I-Disease_Subtype']]\n",
      "[['Multiple', 'problem'], ['Multiple', 'B-Disease_Subtype']]\n",
      "[['Sclerosis', 'problem'], ['Sclerosis', 'I-Disease_Subtype']]\n",
      "[['Multiple', 'problem'], ['Multiple', 'B-Disease_Subtype']]\n",
      "[['Sclerosis', 'problem'], ['Sclerosis', 'I-Disease_Subtype']]\n",
      "[['multiple', 'problem'], ['multiple', 'B-Disease_Subtype']]\n",
      "[['sclerosis', 'problem'], ['sclerosis', 'I-Disease_Subtype']]\n",
      "inscope: 10\n",
      "batch_05_00213 annotator2_batch_05_00213_correct\n",
      "batch_05_00213.txt\n"
     ]
    },
    {
     "name": "stderr",
     "output_type": "stream",
     "text": [
      "DEBUG:urllib3.connectionpool:https://huggingface.co:443 \"HEAD /sschet/bert-base-uncased_clinical-ner/resolve/main/config.json HTTP/1.1\" 200 0\n",
      "DEBUG:urllib3.connectionpool:https://huggingface.co:443 \"HEAD /sschet/bert-base-uncased_clinical-ner/resolve/main/vocab.txt HTTP/1.1\" 200 0\n"
     ]
    },
    {
     "name": "stdout",
     "output_type": "stream",
     "text": [
      "9 367 679 0\n",
      "annotated_num: 9\n",
      "[['MS', 'problem'], ['MS', 'B-Disease_Subtype']]\n",
      "[['MS', 'problem'], ['MS', 'B-Disease_Subtype']]\n",
      "[['MS', 'problem'], ['MS', 'B-Disease_Subtype']]\n",
      "[['MS', 'problem'], ['MS', 'B-Disease_Subtype']]\n",
      "[['multiple', 'problem'], ['multiple', 'B-Disease_Subtype']]\n",
      "[['sclerosis', 'problem'], ['sclerosis', 'I-Disease_Subtype']]\n",
      "[['MS', 'problem'], ['MS', 'B-Disease_Subtype']]\n",
      "[['multiple', 'problem'], ['multiple', 'B-Disease_Subtype']]\n",
      "[['sclerosis', 'problem'], ['sclerosis', 'I-Disease_Subtype']]\n",
      "inscope: 9\n",
      "batch_05_00214 annotator2_batch_05_00214_correct\n",
      "batch_05_00214.txt\n"
     ]
    },
    {
     "name": "stderr",
     "output_type": "stream",
     "text": [
      "DEBUG:urllib3.connectionpool:https://huggingface.co:443 \"HEAD /sschet/bert-base-uncased_clinical-ner/resolve/main/config.json HTTP/1.1\" 200 0\n",
      "DEBUG:urllib3.connectionpool:https://huggingface.co:443 \"HEAD /sschet/bert-base-uncased_clinical-ner/resolve/main/vocab.txt HTTP/1.1\" 200 0\n"
     ]
    },
    {
     "name": "stdout",
     "output_type": "stream",
     "text": [
      "6 202 388 0\n",
      "annotated_num: 6\n",
      "[['multiple', 'problem'], ['multiple', 'B-Disease_Subtype']]\n",
      "[['sclerosis', 'problem'], ['sclerosis', 'I-Disease_Subtype']]\n",
      "[['MS', 'problem'], ['MS', 'B-Disease_Subtype']]\n",
      "[['flare', 'problem'], ['flare', 'I-Disease_Subtype']]\n",
      "[['multiple', 'problem'], ['multiple', 'B-Disease_Subtype']]\n",
      "[['sclerosis', 'problem'], ['sclerosis', 'I-Disease_Subtype']]\n",
      "inscope: 6\n",
      "batch_05_00215 annotator2_batch_05_00215_correct\n",
      "batch_05_00215.txt\n"
     ]
    },
    {
     "name": "stderr",
     "output_type": "stream",
     "text": [
      "DEBUG:urllib3.connectionpool:https://huggingface.co:443 \"HEAD /sschet/bert-base-uncased_clinical-ner/resolve/main/config.json HTTP/1.1\" 200 0\n",
      "DEBUG:urllib3.connectionpool:https://huggingface.co:443 \"HEAD /sschet/bert-base-uncased_clinical-ner/resolve/main/vocab.txt HTTP/1.1\" 200 0\n"
     ]
    },
    {
     "name": "stdout",
     "output_type": "stream",
     "text": [
      "7 261 618 6\n",
      "annotated_num: 13\n",
      "[['multiple', 'problem'], ['multiple', 'B-Disease_Subtype']]\n",
      "[['sclerosis', 'problem'], ['sclerosis', 'I-Disease_Subtype']]\n",
      "[['MS', 'problem'], ['MS', 'B-Disease_Subtype']]\n",
      "[['MS', 'problem'], ['MS', 'B-Disease_Subtype']]\n",
      "[['Multiple', 'problem'], ['Multiple', 'B-Disease_Subtype']]\n",
      "[['Sclerosis', 'problem'], ['Sclerosis', 'I-Disease_Subtype']]\n",
      "[['MS', 'problem'], ['MS', 'B-Disease_Subtype']]\n",
      "inscope: 7\n",
      "batch_05_00216 annotator2_batch_05_00216_correct\n",
      "batch_05_00216.txt\n"
     ]
    },
    {
     "name": "stderr",
     "output_type": "stream",
     "text": [
      "DEBUG:urllib3.connectionpool:https://huggingface.co:443 \"HEAD /sschet/bert-base-uncased_clinical-ner/resolve/main/config.json HTTP/1.1\" 200 0\n"
     ]
    },
    {
     "name": "stdout",
     "output_type": "stream",
     "text": [
      "3 44 239 7\n",
      "annotated_num: 12\n",
      "[['ms', 'problem'], ['ms', 'B-Disease_Subtype']]\n",
      "[['exhaserbation', 'problem'], ['exhaserbation', 'I-Disease_Subtype']]\n",
      "[['MS', 'problem'], ['MS', 'I-Disease_Subtype']]\n",
      "inscope: 3\n",
      "batch_05_00217 annotator2_batch_05_00217_correct\n",
      "batch_05_00217.txt\n"
     ]
    },
    {
     "name": "stderr",
     "output_type": "stream",
     "text": [
      "DEBUG:urllib3.connectionpool:https://huggingface.co:443 \"HEAD /sschet/bert-base-uncased_clinical-ner/resolve/main/vocab.txt HTTP/1.1\" 200 0\n",
      "DEBUG:urllib3.connectionpool:https://huggingface.co:443 \"HEAD /sschet/bert-base-uncased_clinical-ner/resolve/main/config.json HTTP/1.1\" 200 0\n"
     ]
    },
    {
     "name": "stdout",
     "output_type": "stream",
     "text": [
      "6 153 419 4\n",
      "annotated_num: 10\n",
      "[['MS', 'problem'], ['MS', 'B-Disease_Subtype']]\n",
      "[['MS', 'problem'], ['MS', 'B-Disease_Subtype']]\n",
      "[['MS', 'problem'], ['MS', 'B-Disease_Subtype']]\n",
      "[['multiple', 'problem'], ['multiple', 'B-Disease_Subtype']]\n",
      "[['sclerosis', 'problem'], ['sclerosis', 'I-Disease_Subtype']]\n",
      "[['MS', 'problem'], ['MS', 'B-Disease_Subtype']]\n",
      "inscope: 6\n",
      "batch_05_00218 annotator2_batch_05_00218_correct\n",
      "batch_05_00218.txt\n"
     ]
    },
    {
     "name": "stderr",
     "output_type": "stream",
     "text": [
      "DEBUG:urllib3.connectionpool:https://huggingface.co:443 \"HEAD /sschet/bert-base-uncased_clinical-ner/resolve/main/vocab.txt HTTP/1.1\" 200 0\n",
      "DEBUG:urllib3.connectionpool:https://huggingface.co:443 \"HEAD /sschet/bert-base-uncased_clinical-ner/resolve/main/config.json HTTP/1.1\" 200 0\n"
     ]
    },
    {
     "name": "stdout",
     "output_type": "stream",
     "text": [
      "2 37 487 0\n",
      "annotated_num: 2\n",
      "[['MS', 'problem'], ['MS', 'B-Disease_Subtype']]\n",
      "[['exacerbation', 'problem'], ['exacerbation', 'I-Disease_Subtype']]\n",
      "inscope: 2\n",
      "batch_05_00219 annotator2_batch_05_00219_correct\n",
      "batch_05_00219.txt\n"
     ]
    },
    {
     "name": "stderr",
     "output_type": "stream",
     "text": [
      "DEBUG:urllib3.connectionpool:https://huggingface.co:443 \"HEAD /sschet/bert-base-uncased_clinical-ner/resolve/main/vocab.txt HTTP/1.1\" 200 0\n",
      "DEBUG:urllib3.connectionpool:https://huggingface.co:443 \"HEAD /sschet/bert-base-uncased_clinical-ner/resolve/main/config.json HTTP/1.1\" 200 0\n",
      "DEBUG:urllib3.connectionpool:https://huggingface.co:443 \"HEAD /sschet/bert-base-uncased_clinical-ner/resolve/main/vocab.txt HTTP/1.1\" 200 0\n"
     ]
    },
    {
     "name": "stdout",
     "output_type": "stream",
     "text": [
      "6 143 325 3\n",
      "annotated_num: 9\n",
      "[['MS', 'problem'], ['MS', 'B-Disease_Subtype']]\n",
      "[['MS', 'problem'], ['MS', 'B-Disease_Subtype']]\n",
      "[['MS', 'problem'], ['MS', 'B-Disease_Subtype']]\n",
      "[['MS', 'problem'], ['MS', 'B-Disease_Subtype']]\n",
      "[['multiple', 'problem'], ['multiple', 'B-Disease_Subtype']]\n",
      "[['sclerosis', 'problem'], ['sclerosis', 'I-Disease_Subtype']]\n",
      "inscope: 6\n",
      "batch_05_00220 annotator2_batch_05_00220_correct\n",
      "batch_05_00220.txt\n"
     ]
    },
    {
     "name": "stderr",
     "output_type": "stream",
     "text": [
      "DEBUG:urllib3.connectionpool:https://huggingface.co:443 \"HEAD /sschet/bert-base-uncased_clinical-ner/resolve/main/config.json HTTP/1.1\" 200 0\n",
      "DEBUG:urllib3.connectionpool:https://huggingface.co:443 \"HEAD /sschet/bert-base-uncased_clinical-ner/resolve/main/vocab.txt HTTP/1.1\" 200 0\n"
     ]
    },
    {
     "name": "stdout",
     "output_type": "stream",
     "text": [
      "8 260 360 1\n",
      "annotated_num: 9\n",
      "[['multiple', 'problem'], ['multiple', 'B-Disease_Subtype']]\n",
      "[['sclerosis', 'problem'], ['sclerosis', 'I-Disease_Subtype']]\n",
      "[['last', 'problem'], ['last', 'B-Relapse_Temporality']]\n",
      "[['major', 'problem'], ['major', 'I-Relapse_Temporality']]\n",
      "[['attack', 'problem'], ['attack', 'I-Relapse_Temporality']]\n",
      "[['MS', 'problem'], ['MS', 'B-Disease_Subtype']]\n",
      "[['Multiple', 'problem'], ['Multiple', 'B-Disease_Subtype']]\n",
      "[['sclerosis', 'problem'], ['sclerosis', 'I-Disease_Subtype']]\n",
      "inscope: 8\n",
      "batch_05_00221 annotator2_batch_05_00221_correct\n",
      "batch_05_00221.txt\n"
     ]
    },
    {
     "name": "stderr",
     "output_type": "stream",
     "text": [
      "DEBUG:urllib3.connectionpool:https://huggingface.co:443 \"HEAD /sschet/bert-base-uncased_clinical-ner/resolve/main/config.json HTTP/1.1\" 200 0\n",
      "DEBUG:urllib3.connectionpool:https://huggingface.co:443 \"HEAD /sschet/bert-base-uncased_clinical-ner/resolve/main/vocab.txt HTTP/1.1\" 200 0\n"
     ]
    },
    {
     "name": "stdout",
     "output_type": "stream",
     "text": [
      "5 165 442 2\n",
      "annotated_num: 8\n",
      "[['MS', 'problem'], ['MS', 'B-Disease_Subtype']]\n",
      "[['MS', 'problem'], ['MS', 'B-Disease_Subtype']]\n",
      "[['Multiple', 'problem'], ['Multiple', 'B-Disease_Subtype']]\n",
      "[['sclerosis', 'problem'], ['sclerosis', 'I-Disease_Subtype']]\n",
      "[['MS', 'problem'], ['MS', 'B-Disease_Subtype']]\n",
      "inscope: 5\n",
      "batch_05_00222 annotator2_batch_05_00222_correct\n",
      "batch_05_00222.txt\n"
     ]
    },
    {
     "name": "stderr",
     "output_type": "stream",
     "text": [
      "DEBUG:urllib3.connectionpool:https://huggingface.co:443 \"HEAD /sschet/bert-base-uncased_clinical-ner/resolve/main/config.json HTTP/1.1\" 200 0\n",
      "DEBUG:urllib3.connectionpool:https://huggingface.co:443 \"HEAD /sschet/bert-base-uncased_clinical-ner/resolve/main/vocab.txt HTTP/1.1\" 200 0\n"
     ]
    },
    {
     "name": "stdout",
     "output_type": "stream",
     "text": [
      "5 166 393 2\n",
      "annotated_num: 8\n",
      "[['MS', 'problem'], ['MS', 'B-Disease_Subtype']]\n",
      "[['MS', 'problem'], ['MS', 'B-Disease_Subtype']]\n",
      "[['Multiple', 'problem'], ['Multiple', 'B-Disease_Subtype']]\n",
      "[['sclerosis', 'problem'], ['sclerosis', 'I-Disease_Subtype']]\n",
      "[['MS', 'problem'], ['MS', 'I-Disease_Subtype']]\n",
      "inscope: 5\n",
      "batch_05_00223 annotator2_batch_05_00223_correct\n",
      "batch_05_00223.txt\n"
     ]
    },
    {
     "name": "stderr",
     "output_type": "stream",
     "text": [
      "DEBUG:urllib3.connectionpool:https://huggingface.co:443 \"HEAD /sschet/bert-base-uncased_clinical-ner/resolve/main/config.json HTTP/1.1\" 200 0\n",
      "DEBUG:urllib3.connectionpool:https://huggingface.co:443 \"HEAD /sschet/bert-base-uncased_clinical-ner/resolve/main/vocab.txt HTTP/1.1\" 200 0\n"
     ]
    },
    {
     "name": "stdout",
     "output_type": "stream",
     "text": [
      "5 296 562 1\n",
      "annotated_num: 6\n",
      "[['Multiple', 'problem'], ['Multiple', 'B-Disease_Subtype']]\n",
      "[['Sclerosis', 'problem'], ['Sclerosis', 'I-Disease_Subtype']]\n",
      "[['MS', 'problem'], ['MS', 'B-Disease_Subtype']]\n",
      "[['Attack', 'problem'], ['Attack', 'I-Disease_Subtype']]\n",
      "[['MS', 'problem'], ['MS', 'B-Disease_Subtype']]\n",
      "inscope: 5\n",
      "batch_05_00224 annotator2_batch_05_00224_correct\n",
      "batch_05_00224.txt\n"
     ]
    },
    {
     "name": "stderr",
     "output_type": "stream",
     "text": [
      "DEBUG:urllib3.connectionpool:https://huggingface.co:443 \"HEAD /sschet/bert-base-uncased_clinical-ner/resolve/main/config.json HTTP/1.1\" 200 0\n",
      "DEBUG:urllib3.connectionpool:https://huggingface.co:443 \"HEAD /sschet/bert-base-uncased_clinical-ner/resolve/main/vocab.txt HTTP/1.1\" 200 0\n"
     ]
    },
    {
     "name": "stdout",
     "output_type": "stream",
     "text": [
      "9 345 651 3\n",
      "annotated_num: 12\n",
      "[['4', 'test'], ['4', 'B-EDSS_Value']]\n",
      "[['Multiple', 'problem'], ['Multiple', 'B-Disease_Subtype']]\n",
      "[['Sclerosis', 'problem'], ['Sclerosis', 'I-Disease_Subtype']]\n",
      "[['MS', 'problem'], ['MS', 'B-Disease_Subtype']]\n",
      "[['Attack', 'problem'], ['Attack', 'I-Disease_Subtype']]\n",
      "[['Multiple', 'problem'], ['Multiple', 'B-Disease_Subtype']]\n",
      "[['sclerosis', 'problem'], ['sclerosis', 'I-Disease_Subtype']]\n",
      "[['multiple', 'problem'], ['multiple', 'I-Disease_Subtype']]\n",
      "[['sclerosis', 'problem'], ['sclerosis', 'I-Disease_Subtype']]\n",
      "inscope: 9\n",
      "batch_05_00225 annotator2_batch_05_00225_correct\n",
      "batch_05_00225.txt\n"
     ]
    },
    {
     "name": "stderr",
     "output_type": "stream",
     "text": [
      "DEBUG:urllib3.connectionpool:https://huggingface.co:443 \"HEAD /sschet/bert-base-uncased_clinical-ner/resolve/main/config.json HTTP/1.1\" 200 0\n",
      "DEBUG:urllib3.connectionpool:https://huggingface.co:443 \"HEAD /sschet/bert-base-uncased_clinical-ner/resolve/main/vocab.txt HTTP/1.1\" 200 0\n"
     ]
    },
    {
     "name": "stdout",
     "output_type": "stream",
     "text": [
      "2 187 375 1\n",
      "annotated_num: 3\n",
      "[['MS', 'problem'], ['MS', 'I-Disease_Subtype']]\n",
      "[['MS', 'problem'], ['MS', 'B-Disease_Subtype']]\n",
      "inscope: 2\n",
      "batch_05_00226 annotator2_batch_05_00226_correct\n",
      "batch_05_00226.txt\n"
     ]
    },
    {
     "name": "stderr",
     "output_type": "stream",
     "text": [
      "DEBUG:urllib3.connectionpool:https://huggingface.co:443 \"HEAD /sschet/bert-base-uncased_clinical-ner/resolve/main/config.json HTTP/1.1\" 200 0\n",
      "DEBUG:urllib3.connectionpool:https://huggingface.co:443 \"HEAD /sschet/bert-base-uncased_clinical-ner/resolve/main/vocab.txt HTTP/1.1\" 200 0\n"
     ]
    },
    {
     "name": "stdout",
     "output_type": "stream",
     "text": [
      "3 236 382 0\n",
      "annotated_num: 3\n",
      "[['Multiple', 'problem'], ['Multiple', 'B-Disease_Subtype']]\n",
      "[['sclerosis', 'problem'], ['sclerosis', 'I-Disease_Subtype']]\n",
      "[['CIS', 'problem'], ['CIS', 'B-Disease_Subtype']]\n",
      "inscope: 3\n",
      "batch_05_00227 annotator2_batch_05_00227_correct\n",
      "batch_05_00227.txt\n"
     ]
    },
    {
     "name": "stderr",
     "output_type": "stream",
     "text": [
      "DEBUG:urllib3.connectionpool:https://huggingface.co:443 \"HEAD /sschet/bert-base-uncased_clinical-ner/resolve/main/config.json HTTP/1.1\" 200 0\n",
      "DEBUG:urllib3.connectionpool:https://huggingface.co:443 \"HEAD /sschet/bert-base-uncased_clinical-ner/resolve/main/vocab.txt HTTP/1.1\" 200 0\n"
     ]
    },
    {
     "name": "stdout",
     "output_type": "stream",
     "text": [
      "3 177 291 0\n",
      "annotated_num: 3\n",
      "[['multiple', 'problem'], ['multiple', 'B-Disease_Subtype']]\n",
      "[['sclerosis', 'problem'], ['sclerosis', 'I-Disease_Subtype']]\n",
      "[['CIS', 'problem'], ['CIS', 'B-Disease_Subtype']]\n",
      "inscope: 3\n",
      "batch_05_00228 annotator2_batch_05_00228_correct\n",
      "batch_05_00228.txt\n"
     ]
    },
    {
     "name": "stderr",
     "output_type": "stream",
     "text": [
      "DEBUG:urllib3.connectionpool:https://huggingface.co:443 \"HEAD /sschet/bert-base-uncased_clinical-ner/resolve/main/config.json HTTP/1.1\" 200 0\n",
      "DEBUG:urllib3.connectionpool:https://huggingface.co:443 \"HEAD /sschet/bert-base-uncased_clinical-ner/resolve/main/vocab.txt HTTP/1.1\" 200 0\n"
     ]
    },
    {
     "name": "stdout",
     "output_type": "stream",
     "text": [
      "4 457 489 1\n",
      "annotated_num: 5\n",
      "[['EDSS', 'test'], ['EDSS', 'B-Functional_Disability']]\n",
      "[['clinically', 'problem'], ['clinically', 'B-Disease_Subtype']]\n",
      "[['isolated', 'problem'], ['isolated', 'I-Disease_Subtype']]\n",
      "[['syndrome', 'problem'], ['syndrome', 'I-Disease_Subtype']]\n",
      "inscope: 4\n",
      "batch_05_00229 annotator2_batch_05_00229_correct\n",
      "batch_05_00229.txt\n"
     ]
    },
    {
     "name": "stderr",
     "output_type": "stream",
     "text": [
      "DEBUG:urllib3.connectionpool:https://huggingface.co:443 \"HEAD /sschet/bert-base-uncased_clinical-ner/resolve/main/config.json HTTP/1.1\" 200 0\n",
      "DEBUG:urllib3.connectionpool:https://huggingface.co:443 \"HEAD /sschet/bert-base-uncased_clinical-ner/resolve/main/vocab.txt HTTP/1.1\" 200 0\n"
     ]
    },
    {
     "name": "stdout",
     "output_type": "stream",
     "text": [
      "6 490 480 1\n",
      "annotated_num: 7\n",
      "[['isolated', 'problem'], ['isolated', 'I-Disease_Subtype']]\n",
      "[['syndrome', 'problem'], ['syndrome', 'I-Disease_Subtype']]\n",
      "[['MS', 'problem'], ['MS', 'B-Disease_Subtype']]\n",
      "[['single', 'problem'], ['single', 'B-Disease_Subtype']]\n",
      "[['clinical', 'problem'], ['clinical', 'I-Disease_Subtype']]\n",
      "[['episode', 'problem'], ['episode', 'I-Disease_Subtype']]\n",
      "inscope: 6\n",
      "batch_05_00230 annotator2_batch_05_00230_correct\n",
      "batch_05_00230.txt\n"
     ]
    },
    {
     "name": "stderr",
     "output_type": "stream",
     "text": [
      "DEBUG:urllib3.connectionpool:https://huggingface.co:443 \"HEAD /sschet/bert-base-uncased_clinical-ner/resolve/main/config.json HTTP/1.1\" 200 0\n",
      "DEBUG:urllib3.connectionpool:https://huggingface.co:443 \"HEAD /sschet/bert-base-uncased_clinical-ner/resolve/main/vocab.txt HTTP/1.1\" 200 0\n"
     ]
    },
    {
     "name": "stdout",
     "output_type": "stream",
     "text": [
      "6 265 599 1\n",
      "annotated_num: 7\n",
      "[['Multiple', 'problem'], ['Multiple', 'B-Disease_Subtype']]\n",
      "[['Sclerosis', 'problem'], ['Sclerosis', 'I-Disease_Subtype']]\n",
      "[['MS', 'problem'], ['MS', 'B-Disease_Subtype']]\n",
      "[['Attack', 'problem'], ['Attack', 'I-Disease_Subtype']]\n",
      "[['Multiple', 'problem'], ['Multiple', 'B-Disease_Subtype']]\n",
      "[['sclerosis', 'problem'], ['sclerosis', 'I-Disease_Subtype']]\n",
      "inscope: 6\n",
      "batch_05_00231 annotator2_batch_05_00231_correct\n",
      "batch_05_00231.txt\n"
     ]
    },
    {
     "name": "stderr",
     "output_type": "stream",
     "text": [
      "DEBUG:urllib3.connectionpool:https://huggingface.co:443 \"HEAD /sschet/bert-base-uncased_clinical-ner/resolve/main/config.json HTTP/1.1\" 200 0\n",
      "DEBUG:urllib3.connectionpool:https://huggingface.co:443 \"HEAD /sschet/bert-base-uncased_clinical-ner/resolve/main/vocab.txt HTTP/1.1\" 200 0\n"
     ]
    },
    {
     "name": "stdout",
     "output_type": "stream",
     "text": [
      "7 259 339 1\n",
      "annotated_num: 9\n",
      "[['Multiple', 'problem'], ['Multiple', 'B-Disease_Subtype']]\n",
      "[['sclerosis', 'problem'], ['sclerosis', 'I-Disease_Subtype']]\n",
      "[['Multiple', 'problem'], ['Multiple', 'B-Disease_Subtype']]\n",
      "[['Multiple', 'problem'], ['Multiple', 'B-Disease_Subtype']]\n",
      "[['sclerosis', 'problem'], ['sclerosis', 'I-Disease_Subtype']]\n",
      "[['primary', 'problem'], ['primary', 'I-Disease_Subtype']]\n",
      "[['progressive', 'problem'], ['progressive', 'I-Disease_Subtype']]\n",
      "inscope: 7\n",
      "batch_05_00232 annotator2_batch_05_00232_correct\n",
      "batch_05_00232.txt\n"
     ]
    },
    {
     "name": "stderr",
     "output_type": "stream",
     "text": [
      "DEBUG:urllib3.connectionpool:https://huggingface.co:443 \"HEAD /sschet/bert-base-uncased_clinical-ner/resolve/main/config.json HTTP/1.1\" 200 0\n",
      "DEBUG:urllib3.connectionpool:https://huggingface.co:443 \"HEAD /sschet/bert-base-uncased_clinical-ner/resolve/main/vocab.txt HTTP/1.1\" 200 0\n"
     ]
    },
    {
     "name": "stdout",
     "output_type": "stream",
     "text": [
      "8 276 401 1\n",
      "annotated_num: 9\n",
      "[['PPMS', 'test'], ['PPMS', 'B-Disease_Subtype']]\n",
      "[['Multiple', 'problem'], ['Multiple', 'B-Disease_Subtype']]\n",
      "[['sclerosis', 'problem'], ['sclerosis', 'I-Disease_Subtype']]\n",
      "[['progressive', 'problem'], ['progressive', 'I-Disease_Subtype']]\n",
      "[['multiple', 'problem'], ['multiple', 'I-Disease_Subtype']]\n",
      "[['sclerosis', 'problem'], ['sclerosis', 'I-Disease_Subtype']]\n",
      "[['Multiple', 'problem'], ['Multiple', 'B-Disease_Subtype']]\n",
      "[['sclerosis', 'problem'], ['sclerosis', 'I-Disease_Subtype']]\n",
      "inscope: 8\n",
      "batch_05_00233 annotator2_batch_05_00233_correct\n",
      "batch_05_00233.txt\n"
     ]
    },
    {
     "name": "stderr",
     "output_type": "stream",
     "text": [
      "DEBUG:urllib3.connectionpool:https://huggingface.co:443 \"HEAD /sschet/bert-base-uncased_clinical-ner/resolve/main/config.json HTTP/1.1\" 200 0\n",
      "DEBUG:urllib3.connectionpool:https://huggingface.co:443 \"HEAD /sschet/bert-base-uncased_clinical-ner/resolve/main/vocab.txt HTTP/1.1\" 200 0\n"
     ]
    },
    {
     "name": "stdout",
     "output_type": "stream",
     "text": [
      "6 145 307 1\n",
      "annotated_num: 7\n",
      "[['MS', 'problem'], ['MS', 'B-Disease_Subtype']]\n",
      "[['Multiple', 'problem'], ['Multiple', 'B-Disease_Subtype']]\n",
      "[['sclerosis', 'problem'], ['sclerosis', 'I-Disease_Subtype']]\n",
      "[['primary', 'problem'], ['primary', 'I-Disease_Subtype']]\n",
      "[['progressive', 'problem'], ['progressive', 'I-Disease_Subtype']]\n",
      "[['MS', 'problem'], ['MS', 'B-Disease_Subtype']]\n",
      "inscope: 6\n",
      "batch_05_00234 annotator2_batch_05_00234_correct\n",
      "batch_05_00234.txt\n"
     ]
    },
    {
     "name": "stderr",
     "output_type": "stream",
     "text": [
      "DEBUG:urllib3.connectionpool:https://huggingface.co:443 \"HEAD /sschet/bert-base-uncased_clinical-ner/resolve/main/config.json HTTP/1.1\" 200 0\n",
      "DEBUG:urllib3.connectionpool:https://huggingface.co:443 \"HEAD /sschet/bert-base-uncased_clinical-ner/resolve/main/vocab.txt HTTP/1.1\" 200 0\n"
     ]
    },
    {
     "name": "stdout",
     "output_type": "stream",
     "text": [
      "12 215 658 0\n",
      "annotated_num: 12\n",
      "[['primary', 'problem'], ['primary', 'B-Disease_Subtype']]\n",
      "[['progressive', 'problem'], ['progressive', 'I-Disease_Subtype']]\n",
      "[['multiple', 'problem'], ['multiple', 'I-Disease_Subtype']]\n",
      "[['sclerosis', 'problem'], ['sclerosis', 'I-Disease_Subtype']]\n",
      "[['Primary', 'problem'], ['Primary', 'B-Disease_Subtype']]\n",
      "[['progressive', 'problem'], ['progressive', 'I-Disease_Subtype']]\n",
      "[['multiple', 'problem'], ['multiple', 'I-Disease_Subtype']]\n",
      "[['sclerosis', 'problem'], ['sclerosis', 'I-Disease_Subtype']]\n",
      "[['progressive', 'problem'], ['progressive', 'B-Disease_Subtype']]\n",
      "[['primary', 'problem'], ['primary', 'I-Disease_Subtype']]\n",
      "[['multiple', 'problem'], ['multiple', 'I-Disease_Subtype']]\n",
      "[['sclerosis', 'problem'], ['sclerosis', 'I-Disease_Subtype']]\n",
      "inscope: 12\n",
      "batch_05_00235 annotator2_batch_05_00235_correct\n",
      "batch_05_00235.txt\n"
     ]
    },
    {
     "name": "stderr",
     "output_type": "stream",
     "text": [
      "DEBUG:urllib3.connectionpool:https://huggingface.co:443 \"HEAD /sschet/bert-base-uncased_clinical-ner/resolve/main/config.json HTTP/1.1\" 200 0\n",
      "DEBUG:urllib3.connectionpool:https://huggingface.co:443 \"HEAD /sschet/bert-base-uncased_clinical-ner/resolve/main/vocab.txt HTTP/1.1\" 200 0\n"
     ]
    },
    {
     "name": "stdout",
     "output_type": "stream",
     "text": [
      "0 87 340 0\n",
      "somevalue is zer0\n",
      "batch_05_00237 annotator2_batch_05_00237_correct\n",
      "batch_05_00237.txt\n"
     ]
    },
    {
     "name": "stderr",
     "output_type": "stream",
     "text": [
      "DEBUG:urllib3.connectionpool:https://huggingface.co:443 \"HEAD /sschet/bert-base-uncased_clinical-ner/resolve/main/config.json HTTP/1.1\" 200 0\n",
      "DEBUG:urllib3.connectionpool:https://huggingface.co:443 \"HEAD /sschet/bert-base-uncased_clinical-ner/resolve/main/vocab.txt HTTP/1.1\" 200 0\n"
     ]
    },
    {
     "name": "stdout",
     "output_type": "stream",
     "text": [
      "4 147 709 1\n",
      "annotated_num: 7\n",
      "[['Multiple', 'problem'], ['Multiple', 'B-Disease_Subtype']]\n",
      "[['sclerosis', 'problem'], ['sclerosis', 'I-Disease_Subtype']]\n",
      "[['Multiple', 'problem'], ['Multiple', 'B-Disease_Subtype']]\n",
      "[['sclerosis', 'problem'], ['sclerosis', 'I-Disease_Subtype']]\n",
      "inscope: 4\n",
      "batch_05_00238 annotator2_batch_05_00238_correct\n",
      "batch_05_00238.txt\n"
     ]
    },
    {
     "name": "stderr",
     "output_type": "stream",
     "text": [
      "DEBUG:urllib3.connectionpool:https://huggingface.co:443 \"HEAD /sschet/bert-base-uncased_clinical-ner/resolve/main/config.json HTTP/1.1\" 200 0\n",
      "DEBUG:urllib3.connectionpool:https://huggingface.co:443 \"HEAD /sschet/bert-base-uncased_clinical-ner/resolve/main/vocab.txt HTTP/1.1\" 200 0\n"
     ]
    },
    {
     "name": "stdout",
     "output_type": "stream",
     "text": [
      "6 160 370 0\n",
      "annotated_num: 6\n",
      "[['primary', 'problem'], ['primary', 'B-Disease_Subtype']]\n",
      "[['progressive', 'problem'], ['progressive', 'I-Disease_Subtype']]\n",
      "[['multiple', 'problem'], ['multiple', 'I-Disease_Subtype']]\n",
      "[['sclerosis', 'problem'], ['sclerosis', 'I-Disease_Subtype']]\n",
      "[['Multiple', 'problem'], ['Multiple', 'B-Disease_Subtype']]\n",
      "[['sclerosis', 'problem'], ['sclerosis', 'I-Disease_Subtype']]\n",
      "inscope: 6\n",
      "batch_05_00240 annotator2_batch_05_00240_correct\n",
      "batch_05_00240.txt\n"
     ]
    },
    {
     "name": "stderr",
     "output_type": "stream",
     "text": [
      "DEBUG:urllib3.connectionpool:https://huggingface.co:443 \"HEAD /sschet/bert-base-uncased_clinical-ner/resolve/main/config.json HTTP/1.1\" 200 0\n",
      "DEBUG:urllib3.connectionpool:https://huggingface.co:443 \"HEAD /sschet/bert-base-uncased_clinical-ner/resolve/main/vocab.txt HTTP/1.1\" 200 0\n",
      "DEBUG:urllib3.connectionpool:https://huggingface.co:443 \"HEAD /sschet/bert-base-uncased_clinical-ner/resolve/main/config.json HTTP/1.1\" 200 0\n"
     ]
    },
    {
     "name": "stdout",
     "output_type": "stream",
     "text": [
      "8 73 331 0\n",
      "annotated_num: 8\n",
      "[['primary', 'problem'], ['primary', 'B-Disease_Subtype']]\n",
      "[['progressive', 'problem'], ['progressive', 'I-Disease_Subtype']]\n",
      "[['MS', 'problem'], ['MS', 'I-Disease_Subtype']]\n",
      "[['MS', 'problem'], ['MS', 'B-Disease_Subtype']]\n",
      "[['multiple', 'problem'], ['multiple', 'B-Disease_Subtype']]\n",
      "[['sclerosis', 'problem'], ['sclerosis', 'I-Disease_Subtype']]\n",
      "[['Multiple', 'problem'], ['Multiple', 'B-Disease_Subtype']]\n",
      "[['sclerosis', 'problem'], ['sclerosis', 'I-Disease_Subtype']]\n",
      "inscope: 8\n",
      "batch_05_00241 annotator2_batch_05_00241_correct\n",
      "batch_05_00241.txt\n"
     ]
    },
    {
     "name": "stderr",
     "output_type": "stream",
     "text": [
      "DEBUG:urllib3.connectionpool:https://huggingface.co:443 \"HEAD /sschet/bert-base-uncased_clinical-ner/resolve/main/vocab.txt HTTP/1.1\" 200 0\n"
     ]
    },
    {
     "name": "stdout",
     "output_type": "stream",
     "text": [
      "3 97 268 0\n",
      "annotated_num: 4\n",
      "[['MS', 'problem'], ['MS', 'B-Disease_Subtype']]\n",
      "[['MS', 'problem'], ['MS', 'B-Disease_Subtype']]\n",
      "[['MS', 'problem'], ['MS', 'B-Disease_Subtype']]\n",
      "inscope: 3\n",
      "batch_05_00242 annotator2_batch_05_00242_correct\n",
      "batch_05_00242.txt\n"
     ]
    },
    {
     "name": "stderr",
     "output_type": "stream",
     "text": [
      "DEBUG:urllib3.connectionpool:https://huggingface.co:443 \"HEAD /sschet/bert-base-uncased_clinical-ner/resolve/main/config.json HTTP/1.1\" 200 0\n",
      "DEBUG:urllib3.connectionpool:https://huggingface.co:443 \"HEAD /sschet/bert-base-uncased_clinical-ner/resolve/main/vocab.txt HTTP/1.1\" 200 0\n"
     ]
    },
    {
     "name": "stdout",
     "output_type": "stream",
     "text": [
      "7 144 427 0\n",
      "annotated_num: 7\n",
      "[['MS', 'test'], ['MS', 'B-Disease_Subtype']]\n",
      "[['MS', 'test'], ['MS', 'B-Disease_Subtype']]\n",
      "[['RRMS', 'test'], ['RRMS', 'B-Disease_Subtype']]\n",
      "[['SPMS', 'test'], ['SPMS', 'B-Disease_Subtype']]\n",
      "[['MS', 'test'], ['MS', 'B-Disease_Subtype']]\n",
      "[['multiple', 'problem'], ['multiple', 'B-Disease_Subtype']]\n",
      "[['sclerosis', 'problem'], ['sclerosis', 'I-Disease_Subtype']]\n",
      "inscope: 7\n",
      "batch_05_00243 annotator2_batch_05_00243_correct\n",
      "batch_05_00243.txt\n"
     ]
    },
    {
     "name": "stderr",
     "output_type": "stream",
     "text": [
      "DEBUG:urllib3.connectionpool:https://huggingface.co:443 \"HEAD /sschet/bert-base-uncased_clinical-ner/resolve/main/config.json HTTP/1.1\" 200 0\n",
      "DEBUG:urllib3.connectionpool:https://huggingface.co:443 \"HEAD /sschet/bert-base-uncased_clinical-ner/resolve/main/vocab.txt HTTP/1.1\" 200 0\n"
     ]
    },
    {
     "name": "stdout",
     "output_type": "stream",
     "text": [
      "16 307 456 3\n",
      "annotated_num: 19\n",
      "[['Multiple', 'problem'], ['Multiple', 'B-Disease_Subtype']]\n",
      "[['sclerosis', 'problem'], ['sclerosis', 'I-Disease_Subtype']]\n",
      "[['secondary', 'problem'], ['secondary', 'I-Disease_Subtype']]\n",
      "[['progressive', 'problem'], ['progressive', 'I-Disease_Subtype']]\n",
      "[['multiple', 'problem'], ['multiple', 'B-Disease_Subtype']]\n",
      "[['sclerosis', 'problem'], ['sclerosis', 'I-Disease_Subtype']]\n",
      "[['Multiple', 'problem'], ['Multiple', 'B-Disease_Subtype']]\n",
      "[['sclerosis', 'problem'], ['sclerosis', 'I-Disease_Subtype']]\n",
      "[['primary', 'problem'], ['primary', 'I-Disease_Subtype']]\n",
      "[['progressive', 'problem'], ['progressive', 'I-Disease_Subtype']]\n",
      "[['multiple', 'problem'], ['multiple', 'B-Disease_Subtype']]\n",
      "[['sclerosis', 'problem'], ['sclerosis', 'I-Disease_Subtype']]\n",
      "[['Multiple', 'problem'], ['Multiple', 'B-Disease_Subtype']]\n",
      "[['sclerosis', 'problem'], ['sclerosis', 'I-Disease_Subtype']]\n",
      "[['secondary', 'problem'], ['secondary', 'I-Disease_Subtype']]\n",
      "[['progressive', 'problem'], ['progressive', 'I-Disease_Subtype']]\n",
      "inscope: 16\n",
      "batch_05_00244 annotator2_batch_05_00244_correct\n",
      "batch_05_00244.txt\n"
     ]
    },
    {
     "name": "stderr",
     "output_type": "stream",
     "text": [
      "DEBUG:urllib3.connectionpool:https://huggingface.co:443 \"HEAD /sschet/bert-base-uncased_clinical-ner/resolve/main/config.json HTTP/1.1\" 200 0\n",
      "DEBUG:urllib3.connectionpool:https://huggingface.co:443 \"HEAD /sschet/bert-base-uncased_clinical-ner/resolve/main/vocab.txt HTTP/1.1\" 200 0\n"
     ]
    },
    {
     "name": "stdout",
     "output_type": "stream",
     "text": [
      "11 379 567 0\n",
      "annotated_num: 11\n",
      "[['multiple', 'problem'], ['multiple', 'B-Disease_Subtype']]\n",
      "[['sclerosis', 'problem'], ['sclerosis', 'I-Disease_Subtype']]\n",
      "[['multiple', 'problem'], ['multiple', 'B-Disease_Subtype']]\n",
      "[['sclerosis', 'problem'], ['sclerosis', 'I-Disease_Subtype']]\n",
      "[['Secondary', 'problem'], ['Secondary', 'B-Disease_Subtype']]\n",
      "[['progressive', 'problem'], ['progressive', 'I-Disease_Subtype']]\n",
      "[['multiple', 'problem'], ['multiple', 'I-Disease_Subtype']]\n",
      "[['sclerosis', 'problem'], ['sclerosis', 'I-Disease_Subtype']]\n",
      "[['secondary', 'problem'], ['secondary', 'B-Disease_Subtype']]\n",
      "[['progressive', 'problem'], ['progressive', 'I-Disease_Subtype']]\n",
      "[['MS', 'problem'], ['MS', 'I-Disease_Subtype']]\n",
      "inscope: 11\n",
      "batch_05_00245 annotator2_batch_05_00245_correct\n",
      "batch_05_00245.txt\n"
     ]
    },
    {
     "name": "stderr",
     "output_type": "stream",
     "text": [
      "DEBUG:urllib3.connectionpool:https://huggingface.co:443 \"HEAD /sschet/bert-base-uncased_clinical-ner/resolve/main/config.json HTTP/1.1\" 200 0\n",
      "DEBUG:urllib3.connectionpool:https://huggingface.co:443 \"HEAD /sschet/bert-base-uncased_clinical-ner/resolve/main/vocab.txt HTTP/1.1\" 200 0\n"
     ]
    },
    {
     "name": "stdout",
     "output_type": "stream",
     "text": [
      "12 239 291 7\n",
      "annotated_num: 19\n",
      "[['Multiple', 'problem'], ['Multiple', 'B-Disease_Subtype']]\n",
      "[['Sclerosis', 'problem'], ['Sclerosis', 'I-Disease_Subtype']]\n",
      "[['Multiple', 'problem'], ['Multiple', 'B-Disease_Subtype']]\n",
      "[['sclerosis', 'problem'], ['sclerosis', 'I-Disease_Subtype']]\n",
      "[['multiple', 'problem'], ['multiple', 'B-Disease_Subtype']]\n",
      "[['sclerosis', 'problem'], ['sclerosis', 'I-Disease_Subtype']]\n",
      "[['a', 'problem'], ['a', 'I-Disease_Subtype']]\n",
      "[['progressive', 'problem'], ['progressive', 'I-Disease_Subtype']]\n",
      "[['weakness', 'problem'], ['weakness', 'I-Disease_Subtype']]\n",
      "[['secondary', 'problem'], ['secondary', 'B-Disease_Subtype']]\n",
      "[['progressive', 'problem'], ['progressive', 'I-Disease_Subtype']]\n",
      "[['MS', 'test'], ['MS', 'I-Disease_Subtype']]\n",
      "inscope: 12\n",
      "batch_05_00246 annotator2_batch_05_00246_correct\n",
      "batch_05_00246.txt\n"
     ]
    },
    {
     "name": "stderr",
     "output_type": "stream",
     "text": [
      "DEBUG:urllib3.connectionpool:https://huggingface.co:443 \"HEAD /sschet/bert-base-uncased_clinical-ner/resolve/main/config.json HTTP/1.1\" 200 0\n",
      "DEBUG:urllib3.connectionpool:https://huggingface.co:443 \"HEAD /sschet/bert-base-uncased_clinical-ner/resolve/main/vocab.txt HTTP/1.1\" 200 0\n"
     ]
    },
    {
     "name": "stdout",
     "output_type": "stream",
     "text": [
      "9 340 506 0\n",
      "annotated_num: 9\n",
      "[['MS', 'problem'], ['MS', 'B-Disease_Subtype']]\n",
      "[['multiple', 'problem'], ['multiple', 'B-Disease_Subtype']]\n",
      "[['sclerosis', 'problem'], ['sclerosis', 'I-Disease_Subtype']]\n",
      "[['Secondary', 'problem'], ['Secondary', 'B-Disease_Subtype']]\n",
      "[['progressive', 'problem'], ['progressive', 'I-Disease_Subtype']]\n",
      "[['multiple', 'problem'], ['multiple', 'I-Disease_Subtype']]\n",
      "[['sclerosis', 'problem'], ['sclerosis', 'I-Disease_Subtype']]\n",
      "[['MS', 'problem'], ['MS', 'B-Disease_Subtype']]\n",
      "[['MS', 'problem'], ['MS', 'B-Disease_Subtype']]\n",
      "inscope: 9\n",
      "batch_05_00248 annotator2_batch_05_00248_correct\n",
      "batch_05_00248.txt\n"
     ]
    },
    {
     "name": "stderr",
     "output_type": "stream",
     "text": [
      "DEBUG:urllib3.connectionpool:https://huggingface.co:443 \"HEAD /sschet/bert-base-uncased_clinical-ner/resolve/main/config.json HTTP/1.1\" 200 0\n",
      "DEBUG:urllib3.connectionpool:https://huggingface.co:443 \"HEAD /sschet/bert-base-uncased_clinical-ner/resolve/main/vocab.txt HTTP/1.1\" 200 0\n"
     ]
    },
    {
     "name": "stdout",
     "output_type": "stream",
     "text": [
      "9 211 337 3\n",
      "annotated_num: 13\n",
      "[['secondary', 'problem'], ['secondary', 'B-Disease_Subtype']]\n",
      "[['progressive', 'problem'], ['progressive', 'I-Disease_Subtype']]\n",
      "[['MS', 'problem'], ['MS', 'I-Disease_Subtype']]\n",
      "[[',', 'problem'], [',', 'I-Disease_Subtype']]\n",
      "[['multiple', 'problem'], ['multiple', 'I-Disease_Subtype']]\n",
      "[['sclerosis', 'problem'], ['sclerosis', 'I-Disease_Subtype']]\n",
      "[['secondary', 'problem'], ['secondary', 'I-Disease_Subtype']]\n",
      "[['multiple', 'problem'], ['multiple', 'B-Disease_Subtype']]\n",
      "[['sclerosis', 'problem'], ['sclerosis', 'I-Disease_Subtype']]\n",
      "inscope: 9\n",
      "batch_05_00249 annotator2_batch_05_00249_correct\n",
      "batch_05_00249.txt\n"
     ]
    },
    {
     "name": "stderr",
     "output_type": "stream",
     "text": [
      "DEBUG:urllib3.connectionpool:https://huggingface.co:443 \"HEAD /sschet/bert-base-uncased_clinical-ner/resolve/main/config.json HTTP/1.1\" 200 0\n",
      "DEBUG:urllib3.connectionpool:https://huggingface.co:443 \"HEAD /sschet/bert-base-uncased_clinical-ner/resolve/main/vocab.txt HTTP/1.1\" 200 0\n"
     ]
    },
    {
     "name": "stdout",
     "output_type": "stream",
     "text": [
      "5 101 337 1\n",
      "annotated_num: 6\n",
      "[['MS', 'problem'], ['MS', 'B-Disease_Subtype']]\n",
      "[['secondary', 'problem'], ['secondary', 'I-Disease_Subtype']]\n",
      "[['progressive', 'problem'], ['progressive', 'I-Disease_Subtype']]\n",
      "[['secondary', 'problem'], ['secondary', 'B-Disease_Subtype']]\n",
      "[['progressive', 'problem'], ['progressive', 'I-Disease_Subtype']]\n",
      "inscope: 5\n",
      "batch_05_00250 annotator2_batch_05_00250_correct\n",
      "batch_05_00250.txt\n"
     ]
    },
    {
     "name": "stderr",
     "output_type": "stream",
     "text": [
      "DEBUG:urllib3.connectionpool:https://huggingface.co:443 \"HEAD /sschet/bert-base-uncased_clinical-ner/resolve/main/config.json HTTP/1.1\" 200 0\n",
      "DEBUG:urllib3.connectionpool:https://huggingface.co:443 \"HEAD /sschet/bert-base-uncased_clinical-ner/resolve/main/vocab.txt HTTP/1.1\" 200 0\n"
     ]
    },
    {
     "name": "stdout",
     "output_type": "stream",
     "text": [
      "12 319 425 0\n",
      "annotated_num: 12\n",
      "[['multiple', 'problem'], ['multiple', 'B-Disease_Subtype']]\n",
      "[['sclerosis', 'problem'], ['sclerosis', 'I-Disease_Subtype']]\n",
      "[['multiple', 'problem'], ['multiple', 'B-Disease_Subtype']]\n",
      "[['sclerosis', 'problem'], ['sclerosis', 'I-Disease_Subtype']]\n",
      "[['Secondary', 'problem'], ['Secondary', 'B-Disease_Subtype']]\n",
      "[['progressive', 'problem'], ['progressive', 'I-Disease_Subtype']]\n",
      "[['multiple', 'problem'], ['multiple', 'I-Disease_Subtype']]\n",
      "[['sclerosis', 'problem'], ['sclerosis', 'I-Disease_Subtype']]\n",
      "[['secondary', 'problem'], ['secondary', 'B-Disease_Subtype']]\n",
      "[['progressive', 'problem'], ['progressive', 'I-Disease_Subtype']]\n",
      "[['multiple', 'problem'], ['multiple', 'I-Disease_Subtype']]\n",
      "[['sclerosis', 'problem'], ['sclerosis', 'I-Disease_Subtype']]\n",
      "inscope: 12\n",
      "batch_05_00251 annotator2_batch_05_00251_correct\n",
      "batch_05_00251.txt\n"
     ]
    },
    {
     "name": "stderr",
     "output_type": "stream",
     "text": [
      "DEBUG:urllib3.connectionpool:https://huggingface.co:443 \"HEAD /sschet/bert-base-uncased_clinical-ner/resolve/main/config.json HTTP/1.1\" 200 0\n",
      "DEBUG:urllib3.connectionpool:https://huggingface.co:443 \"HEAD /sschet/bert-base-uncased_clinical-ner/resolve/main/vocab.txt HTTP/1.1\" 200 0\n"
     ]
    },
    {
     "name": "stdout",
     "output_type": "stream",
     "text": [
      "6 166 304 0\n",
      "annotated_num: 6\n",
      "[['multiple', 'problem'], ['multiple', 'B-Disease_Subtype']]\n",
      "[['sclerosis', 'problem'], ['sclerosis', 'I-Disease_Subtype']]\n",
      "[['Secondary', 'problem'], ['Secondary', 'B-Disease_Subtype']]\n",
      "[['progressive', 'problem'], ['progressive', 'I-Disease_Subtype']]\n",
      "[['multiple', 'problem'], ['multiple', 'I-Disease_Subtype']]\n",
      "[['sclerosis', 'problem'], ['sclerosis', 'I-Disease_Subtype']]\n",
      "inscope: 6\n",
      "batch_05_00252 annotator2_batch_05_00252_correct\n",
      "batch_05_00252.txt\n"
     ]
    },
    {
     "name": "stderr",
     "output_type": "stream",
     "text": [
      "DEBUG:urllib3.connectionpool:https://huggingface.co:443 \"HEAD /sschet/bert-base-uncased_clinical-ner/resolve/main/config.json HTTP/1.1\" 200 0\n",
      "DEBUG:urllib3.connectionpool:https://huggingface.co:443 \"HEAD /sschet/bert-base-uncased_clinical-ner/resolve/main/vocab.txt HTTP/1.1\" 200 0\n"
     ]
    },
    {
     "name": "stdout",
     "output_type": "stream",
     "text": [
      "7 132 395 0\n",
      "annotated_num: 7\n",
      "[['Multiple', 'problem'], ['Multiple', 'B-Disease_Subtype']]\n",
      "[['Sclerosis', 'problem'], ['Sclerosis', 'I-Disease_Subtype']]\n",
      "[['secondary', 'problem'], ['secondary', 'B-Disease_Subtype']]\n",
      "[['progressive', 'problem'], ['progressive', 'I-Disease_Subtype']]\n",
      "[['MS', 'problem'], ['MS', 'I-Disease_Subtype']]\n",
      "[['MS', 'problem'], ['MS', 'B-Disease_Subtype']]\n",
      "[['MS', 'problem'], ['MS', 'B-Disease_Subtype']]\n",
      "inscope: 7\n",
      "batch_05_00253 annotator2_batch_05_00253_correct\n",
      "batch_05_00253.txt\n"
     ]
    },
    {
     "name": "stderr",
     "output_type": "stream",
     "text": [
      "DEBUG:urllib3.connectionpool:https://huggingface.co:443 \"HEAD /sschet/bert-base-uncased_clinical-ner/resolve/main/config.json HTTP/1.1\" 200 0\n",
      "DEBUG:urllib3.connectionpool:https://huggingface.co:443 \"HEAD /sschet/bert-base-uncased_clinical-ner/resolve/main/vocab.txt HTTP/1.1\" 200 0\n"
     ]
    },
    {
     "name": "stdout",
     "output_type": "stream",
     "text": [
      "4 87 383 1\n",
      "annotated_num: 6\n",
      "[['multiple', 'problem'], ['multiple', 'B-Disease_Subtype']]\n",
      "[['sclerosis', 'problem'], ['sclerosis', 'I-Disease_Subtype']]\n",
      "[['MS', 'problem'], ['MS', 'B-Disease_Subtype']]\n",
      "[['Sclerosis', 'problem'], ['Sclerosis', 'I-Disease_Subtype']]\n",
      "inscope: 4\n",
      "batch_06_00075 annotator2_batch_06_00075_correct\n",
      "batch_06_00075.txt\n"
     ]
    },
    {
     "name": "stderr",
     "output_type": "stream",
     "text": [
      "DEBUG:urllib3.connectionpool:https://huggingface.co:443 \"HEAD /sschet/bert-base-uncased_clinical-ner/resolve/main/config.json HTTP/1.1\" 200 0\n",
      "DEBUG:urllib3.connectionpool:https://huggingface.co:443 \"HEAD /sschet/bert-base-uncased_clinical-ner/resolve/main/vocab.txt HTTP/1.1\" 200 0\n",
      "DEBUG:urllib3.connectionpool:https://huggingface.co:443 \"HEAD /sschet/bert-base-uncased_clinical-ner/resolve/main/config.json HTTP/1.1\" 200 0\n"
     ]
    },
    {
     "name": "stdout",
     "output_type": "stream",
     "text": [
      "1 146 254 0\n",
      "annotated_num: 1\n",
      "[['MS', 'problem'], ['MS', 'B-MS_no_subtype']]\n",
      "inscope: 1\n",
      "batch_06_00103 annotator2_batch_06_00103_correct\n",
      "batch_06_00103.txt\n"
     ]
    },
    {
     "name": "stderr",
     "output_type": "stream",
     "text": [
      "DEBUG:urllib3.connectionpool:https://huggingface.co:443 \"HEAD /sschet/bert-base-uncased_clinical-ner/resolve/main/vocab.txt HTTP/1.1\" 200 0\n",
      "DEBUG:urllib3.connectionpool:https://huggingface.co:443 \"HEAD /sschet/bert-base-uncased_clinical-ner/resolve/main/config.json HTTP/1.1\" 200 0\n"
     ]
    },
    {
     "name": "stdout",
     "output_type": "stream",
     "text": [
      "1 222 274 0\n",
      "annotated_num: 1\n",
      "[['MS', 'problem'], ['MS', 'B-MS_no_subtype']]\n",
      "inscope: 1\n",
      "batch_06_00127 annotator2_batch_06_00127_correct\n",
      "batch_06_00127.txt\n"
     ]
    },
    {
     "name": "stderr",
     "output_type": "stream",
     "text": [
      "DEBUG:urllib3.connectionpool:https://huggingface.co:443 \"HEAD /sschet/bert-base-uncased_clinical-ner/resolve/main/vocab.txt HTTP/1.1\" 200 0\n"
     ]
    },
    {
     "name": "stdout",
     "output_type": "stream",
     "text": [
      "4 245 584 0\n",
      "annotated_num: 4\n",
      "[['MS', 'problem'], ['MS', 'B-MS_no_subtype']]\n",
      "[['MULTIPLE', 'problem'], ['MULTIPLE', 'B-MS_no_subtype']]\n",
      "[['SCLEROSIS', 'problem'], ['SCLEROSIS', 'I-MS_no_subtype']]\n",
      "[['MS', 'problem'], ['MS', 'B-MS_no_subtype']]\n",
      "inscope: 4\n",
      "batch_07_00100 annotator2_batch_07_00100_correct\n",
      "batch_07_00100.txt\n"
     ]
    },
    {
     "name": "stderr",
     "output_type": "stream",
     "text": [
      "DEBUG:urllib3.connectionpool:https://huggingface.co:443 \"HEAD /sschet/bert-base-uncased_clinical-ner/resolve/main/config.json HTTP/1.1\" 200 0\n",
      "DEBUG:urllib3.connectionpool:https://huggingface.co:443 \"HEAD /sschet/bert-base-uncased_clinical-ner/resolve/main/vocab.txt HTTP/1.1\" 200 0\n"
     ]
    },
    {
     "name": "stdout",
     "output_type": "stream",
     "text": [
      "7 145 356 7\n",
      "annotated_num: 14\n",
      "[['MS', 'problem'], ['MS', 'B-RRMS']]\n",
      "[['MS', 'problem'], ['MS', 'B-RRMS']]\n",
      "[['MS', 'problem'], ['MS', 'B-RRMS']]\n",
      "[['MS', 'problem'], ['MS', 'B-RRMS']]\n",
      "[['Multiple', 'problem'], ['Multiple', 'B-RRMS']]\n",
      "[['sclerosis', 'problem'], ['sclerosis', 'I-RRMS']]\n",
      "[['MS', 'problem'], ['MS', 'B-RRMS']]\n",
      "inscope: 7\n",
      "batch_07_00101 annotator2_batch_07_00101_correct\n",
      "batch_07_00101.txt\n"
     ]
    },
    {
     "name": "stderr",
     "output_type": "stream",
     "text": [
      "DEBUG:urllib3.connectionpool:https://huggingface.co:443 \"HEAD /sschet/bert-base-uncased_clinical-ner/resolve/main/config.json HTTP/1.1\" 200 0\n",
      "DEBUG:urllib3.connectionpool:https://huggingface.co:443 \"HEAD /sschet/bert-base-uncased_clinical-ner/resolve/main/vocab.txt HTTP/1.1\" 200 0\n"
     ]
    },
    {
     "name": "stdout",
     "output_type": "stream",
     "text": [
      "8 199 288 4\n",
      "annotated_num: 12\n",
      "[['remitting', 'problem'], ['remitting', 'I-RRMS']]\n",
      "[['MS', 'problem'], ['MS', 'I-RRMS']]\n",
      "[['relapse', 'problem'], ['relapse', 'B-Temporal_history_of_relapse']]\n",
      "[['severe', 'problem'], ['severe', 'B-Severity_Severe']]\n",
      "[['remitting', 'problem'], ['remitting', 'I-RRMS']]\n",
      "[['MS', 'problem'], ['MS', 'I-RRMS']]\n",
      "[['MS', 'problem'], ['MS', 'B-RRMS']]\n",
      "[['MS', 'problem'], ['MS', 'B-RRMS']]\n",
      "inscope: 8\n",
      "batch_07_00102 annotator2_batch_07_00102_correct\n",
      "batch_07_00102.txt\n"
     ]
    },
    {
     "name": "stderr",
     "output_type": "stream",
     "text": [
      "DEBUG:urllib3.connectionpool:https://huggingface.co:443 \"HEAD /sschet/bert-base-uncased_clinical-ner/resolve/main/config.json HTTP/1.1\" 200 0\n",
      "DEBUG:urllib3.connectionpool:https://huggingface.co:443 \"HEAD /sschet/bert-base-uncased_clinical-ner/resolve/main/vocab.txt HTTP/1.1\" 200 0\n"
     ]
    },
    {
     "name": "stdout",
     "output_type": "stream",
     "text": [
      "1 102 385 0\n",
      "annotated_num: 1\n",
      "[['MS', 'problem'], ['MS', 'B-MS_no_subtype']]\n",
      "inscope: 1\n",
      "batch_07_00103 annotator2_batch_07_00103_correct\n",
      "batch_07_00103.txt\n"
     ]
    },
    {
     "name": "stderr",
     "output_type": "stream",
     "text": [
      "DEBUG:urllib3.connectionpool:https://huggingface.co:443 \"HEAD /sschet/bert-base-uncased_clinical-ner/resolve/main/config.json HTTP/1.1\" 200 0\n",
      "DEBUG:urllib3.connectionpool:https://huggingface.co:443 \"HEAD /sschet/bert-base-uncased_clinical-ner/resolve/main/vocab.txt HTTP/1.1\" 200 0\n"
     ]
    },
    {
     "name": "stdout",
     "output_type": "stream",
     "text": [
      "9 286 710 2\n",
      "annotated_num: 11\n",
      "[['Multiple', 'problem'], ['Multiple', 'B-RRMS']]\n",
      "[['sclerosis', 'problem'], ['sclerosis', 'I-RRMS']]\n",
      "[['MS', 'problem'], ['MS', 'B-RRMS']]\n",
      "[['flare', 'problem'], ['flare', 'I-RRMS']]\n",
      "[['MS', 'problem'], ['MS', 'B-RRMS']]\n",
      "[['MS', 'problem'], ['MS', 'B-RRMS']]\n",
      "[['ongoing', 'problem'], ['ongoing', 'B-Relapse_relative_date']]\n",
      "[['flareup', 'problem'], ['flareup', 'I-Relapse_relative_date']]\n",
      "[['flare', 'problem'], ['flare', 'I-RRMS']]\n",
      "inscope: 9\n",
      "batch_07_00105 annotator2_batch_07_00105_correct\n",
      "batch_07_00105.txt\n"
     ]
    },
    {
     "name": "stderr",
     "output_type": "stream",
     "text": [
      "DEBUG:urllib3.connectionpool:https://huggingface.co:443 \"HEAD /sschet/bert-base-uncased_clinical-ner/resolve/main/config.json HTTP/1.1\" 200 0\n",
      "DEBUG:urllib3.connectionpool:https://huggingface.co:443 \"HEAD /sschet/bert-base-uncased_clinical-ner/resolve/main/vocab.txt HTTP/1.1\" 200 0\n"
     ]
    },
    {
     "name": "stdout",
     "output_type": "stream",
     "text": [
      "5 432 518 3\n",
      "annotated_num: 8\n",
      "[['multiple', 'problem'], ['multiple', 'B-PRMS']]\n",
      "[['sclerosis', 'problem'], ['sclerosis', 'I-PRMS']]\n",
      "[['MS', 'problem'], ['MS', 'B-PRMS']]\n",
      "[['multiple', 'problem'], ['multiple', 'B-PRMS']]\n",
      "[['sclerosis', 'problem'], ['sclerosis', 'I-PRMS']]\n",
      "inscope: 5\n",
      "batch_07_00106 annotator2_batch_07_00106_correct\n",
      "batch_07_00106.txt\n"
     ]
    },
    {
     "name": "stderr",
     "output_type": "stream",
     "text": [
      "DEBUG:urllib3.connectionpool:https://huggingface.co:443 \"HEAD /sschet/bert-base-uncased_clinical-ner/resolve/main/config.json HTTP/1.1\" 200 0\n",
      "DEBUG:urllib3.connectionpool:https://huggingface.co:443 \"HEAD /sschet/bert-base-uncased_clinical-ner/resolve/main/vocab.txt HTTP/1.1\" 200 0\n"
     ]
    },
    {
     "name": "stdout",
     "output_type": "stream",
     "text": [
      "6 195 382 0\n",
      "annotated_num: 6\n",
      "[['MS', 'problem'], ['MS', 'B-MS_no_subtype']]\n",
      "[['Multiple', 'problem'], ['Multiple', 'B-MS_no_subtype']]\n",
      "[['Sclerosis', 'problem'], ['Sclerosis', 'I-MS_no_subtype']]\n",
      "[['SCLEROSIS', 'problem'], ['SCLEROSIS', 'I-MS_no_subtype']]\n",
      "[['MULTIPLE', 'problem'], ['MULTIPLE', 'B-MS_no_subtype']]\n",
      "[['MS', 'problem'], ['MS', 'B-MS_no_subtype']]\n",
      "inscope: 6\n",
      "batch_07_00107 annotator2_batch_07_00107_correct\n",
      "batch_07_00107.txt\n"
     ]
    },
    {
     "name": "stderr",
     "output_type": "stream",
     "text": [
      "DEBUG:urllib3.connectionpool:https://huggingface.co:443 \"HEAD /sschet/bert-base-uncased_clinical-ner/resolve/main/config.json HTTP/1.1\" 200 0\n",
      "DEBUG:urllib3.connectionpool:https://huggingface.co:443 \"HEAD /sschet/bert-base-uncased_clinical-ner/resolve/main/vocab.txt HTTP/1.1\" 200 0\n"
     ]
    },
    {
     "name": "stdout",
     "output_type": "stream",
     "text": [
      "6 158 274 2\n",
      "annotated_num: 8\n",
      "[['MS', 'problem'], ['MS', 'B-RRMS']]\n",
      "[['multiple', 'problem'], ['multiple', 'B-RRMS']]\n",
      "[['sclerosis', 'problem'], ['sclerosis', 'I-RRMS']]\n",
      "[['of', 'problem'], ['of', 'I-RRMS']]\n",
      "[['multiple', 'problem'], ['multiple', 'I-RRMS']]\n",
      "[['sclerosis', 'problem'], ['sclerosis', 'I-RRMS']]\n",
      "inscope: 6\n",
      "batch_07_00108 annotator2_batch_07_00108_correct\n",
      "batch_07_00108.txt\n"
     ]
    },
    {
     "name": "stderr",
     "output_type": "stream",
     "text": [
      "DEBUG:urllib3.connectionpool:https://huggingface.co:443 \"HEAD /sschet/bert-base-uncased_clinical-ner/resolve/main/config.json HTTP/1.1\" 200 0\n",
      "DEBUG:urllib3.connectionpool:https://huggingface.co:443 \"HEAD /sschet/bert-base-uncased_clinical-ner/resolve/main/vocab.txt HTTP/1.1\" 200 0\n"
     ]
    },
    {
     "name": "stdout",
     "output_type": "stream",
     "text": [
      "5 97 277 4\n",
      "annotated_num: 13\n",
      "[['MS', 'problem'], ['MS', 'B-RRMS']]\n",
      "[['MS', 'problem'], ['MS', 'B-RRMS']]\n",
      "[['multiple', 'problem'], ['multiple', 'B-RRMS']]\n",
      "[['sclerosis', 'problem'], ['sclerosis', 'I-RRMS']]\n",
      "[['MS', 'problem'], ['MS', 'I-RRMS']]\n",
      "inscope: 5\n",
      "batch_07_00109 annotator2_batch_07_00109_correct\n",
      "batch_07_00109.txt\n"
     ]
    },
    {
     "name": "stderr",
     "output_type": "stream",
     "text": [
      "DEBUG:urllib3.connectionpool:https://huggingface.co:443 \"HEAD /sschet/bert-base-uncased_clinical-ner/resolve/main/config.json HTTP/1.1\" 200 0\n"
     ]
    },
    {
     "name": "stdout",
     "output_type": "stream",
     "text": [
      "7 256 556 3\n",
      "annotated_num: 10\n",
      "[['Multiple', 'problem'], ['Multiple', 'B-RRMS']]\n",
      "[['Sclerosis', 'problem'], ['Sclerosis', 'I-RRMS']]\n",
      "[['exacerbation', 'problem'], ['exacerbation', 'B-Temporal_history_of_relapse']]\n",
      "[['Multiple', 'problem'], ['Multiple', 'B-RRMS']]\n",
      "[['sclerosis', 'problem'], ['sclerosis', 'I-RRMS']]\n",
      "[['Multiple', 'problem'], ['Multiple', 'B-RRMS']]\n",
      "[['sclerosis', 'problem'], ['sclerosis', 'I-RRMS']]\n",
      "inscope: 7\n",
      "batch_07_00110 annotator2_batch_07_00110_correct\n",
      "batch_07_00110.txt\n"
     ]
    },
    {
     "name": "stderr",
     "output_type": "stream",
     "text": [
      "DEBUG:urllib3.connectionpool:https://huggingface.co:443 \"HEAD /sschet/bert-base-uncased_clinical-ner/resolve/main/vocab.txt HTTP/1.1\" 200 0\n",
      "DEBUG:urllib3.connectionpool:https://huggingface.co:443 \"HEAD /sschet/bert-base-uncased_clinical-ner/resolve/main/config.json HTTP/1.1\" 200 0\n",
      "DEBUG:urllib3.connectionpool:https://huggingface.co:443 \"HEAD /sschet/bert-base-uncased_clinical-ner/resolve/main/vocab.txt HTTP/1.1\" 200 0\n"
     ]
    },
    {
     "name": "stdout",
     "output_type": "stream",
     "text": [
      "12 310 505 4\n",
      "annotated_num: 19\n",
      "[['Multiple', 'problem'], ['Multiple', 'B-RRMS']]\n",
      "[['sclerosis', 'problem'], ['sclerosis', 'I-RRMS']]\n",
      "[['MS', 'problem'], ['MS', 'B-RRMS']]\n",
      "[['relapsing', 'problem'], ['relapsing', 'B-RRMS']]\n",
      "[['relapsing', 'problem'], ['relapsing', 'B-RRMS']]\n",
      "[['Multiple', 'problem'], ['Multiple', 'B-RRMS']]\n",
      "[['Sclerosis', 'problem'], ['Sclerosis', 'I-RRMS']]\n",
      "[['Multiple', 'problem'], ['Multiple', 'B-RRMS']]\n",
      "[['Sclerosis', 'problem'], ['Sclerosis', 'I-RRMS']]\n",
      "[['Relapsing', 'problem'], ['Relapsing', 'I-RRMS']]\n",
      "[['multiple', 'problem'], ['multiple', 'B-RRMS']]\n",
      "[['sclerosis', 'problem'], ['sclerosis', 'I-RRMS']]\n",
      "inscope: 12\n",
      "batch_07_00111 annotator2_batch_07_00111_correct\n",
      "batch_07_00111.txt\n"
     ]
    },
    {
     "name": "stderr",
     "output_type": "stream",
     "text": [
      "DEBUG:urllib3.connectionpool:https://huggingface.co:443 \"HEAD /sschet/bert-base-uncased_clinical-ner/resolve/main/config.json HTTP/1.1\" 200 0\n",
      "DEBUG:urllib3.connectionpool:https://huggingface.co:443 \"HEAD /sschet/bert-base-uncased_clinical-ner/resolve/main/vocab.txt HTTP/1.1\" 200 0\n"
     ]
    },
    {
     "name": "stdout",
     "output_type": "stream",
     "text": [
      "8 357 642 0\n",
      "annotated_num: 8\n",
      "[['Multiple', 'problem'], ['Multiple', 'B-RRMS']]\n",
      "[['sclerosis', 'problem'], ['sclerosis', 'I-RRMS']]\n",
      "[['MS', 'problem'], ['MS', 'B-RRMS']]\n",
      "[['multiple', 'problem'], ['multiple', 'B-RRMS']]\n",
      "[['sclerosis', 'problem'], ['sclerosis', 'I-RRMS']]\n",
      "[['MS', 'problem'], ['MS', 'B-RRMS']]\n",
      "[['MS', 'problem'], ['MS', 'B-RRMS']]\n",
      "[['flare', 'problem'], ['flare', 'I-RRMS']]\n",
      "inscope: 8\n",
      "batch_07_00112 annotator2_batch_07_00112_correct\n",
      "batch_07_00112.txt\n"
     ]
    },
    {
     "name": "stderr",
     "output_type": "stream",
     "text": [
      "DEBUG:urllib3.connectionpool:https://huggingface.co:443 \"HEAD /sschet/bert-base-uncased_clinical-ner/resolve/main/config.json HTTP/1.1\" 200 0\n"
     ]
    },
    {
     "name": "stdout",
     "output_type": "stream",
     "text": [
      "7 89 246 1\n",
      "annotated_num: 8\n",
      "[['MS', 'problem'], ['MS', 'B-RRMS']]\n",
      "[['relapsing', 'problem'], ['relapsing', 'B-RRMS']]\n",
      "[['forms', 'problem'], ['forms', 'I-RRMS']]\n",
      "[['multiple', 'problem'], ['multiple', 'I-RRMS']]\n",
      "[['sclerosis', 'problem'], ['sclerosis', 'I-RRMS']]\n",
      "[['MS', 'problem'], ['MS', 'B-RRMS']]\n",
      "[['MS', 'problem'], ['MS', 'B-RRMS']]\n",
      "inscope: 7\n",
      "batch_07_00113 annotator2_batch_07_00113_correct\n",
      "batch_07_00113.txt\n"
     ]
    },
    {
     "name": "stderr",
     "output_type": "stream",
     "text": [
      "DEBUG:urllib3.connectionpool:https://huggingface.co:443 \"HEAD /sschet/bert-base-uncased_clinical-ner/resolve/main/vocab.txt HTTP/1.1\" 200 0\n",
      "DEBUG:urllib3.connectionpool:https://huggingface.co:443 \"HEAD /sschet/bert-base-uncased_clinical-ner/resolve/main/config.json HTTP/1.1\" 200 0\n",
      "DEBUG:urllib3.connectionpool:https://huggingface.co:443 \"HEAD /sschet/bert-base-uncased_clinical-ner/resolve/main/vocab.txt HTTP/1.1\" 200 0\n"
     ]
    },
    {
     "name": "stdout",
     "output_type": "stream",
     "text": [
      "3 84 234 0\n",
      "annotated_num: 3\n",
      "[['MS', 'problem'], ['MS', 'B-MS_no_subtype']]\n",
      "[['multiple', 'problem'], ['multiple', 'B-MS_no_subtype']]\n",
      "[['sclerosis', 'problem'], ['sclerosis', 'I-MS_no_subtype']]\n",
      "inscope: 3\n",
      "batch_07_00114 annotator2_batch_07_00114_correct\n",
      "batch_07_00114.txt\n"
     ]
    },
    {
     "name": "stderr",
     "output_type": "stream",
     "text": [
      "DEBUG:urllib3.connectionpool:https://huggingface.co:443 \"HEAD /sschet/bert-base-uncased_clinical-ner/resolve/main/config.json HTTP/1.1\" 200 0\n",
      "DEBUG:urllib3.connectionpool:https://huggingface.co:443 \"HEAD /sschet/bert-base-uncased_clinical-ner/resolve/main/vocab.txt HTTP/1.1\" 200 0\n"
     ]
    },
    {
     "name": "stdout",
     "output_type": "stream",
     "text": [
      "3 295 632 0\n",
      "annotated_num: 3\n",
      "[['MS', 'problem'], ['MS', 'B-MS_no_subtype']]\n",
      "[['multiple', 'problem'], ['multiple', 'B-MS_no_subtype']]\n",
      "[['sclerosis', 'problem'], ['sclerosis', 'I-MS_no_subtype']]\n",
      "inscope: 3\n",
      "batch_07_00115 annotator2_batch_07_00115_correct\n",
      "batch_07_00115.txt\n"
     ]
    },
    {
     "name": "stderr",
     "output_type": "stream",
     "text": [
      "DEBUG:urllib3.connectionpool:https://huggingface.co:443 \"HEAD /sschet/bert-base-uncased_clinical-ner/resolve/main/config.json HTTP/1.1\" 200 0\n",
      "DEBUG:urllib3.connectionpool:https://huggingface.co:443 \"HEAD /sschet/bert-base-uncased_clinical-ner/resolve/main/vocab.txt HTTP/1.1\" 200 0\n"
     ]
    },
    {
     "name": "stdout",
     "output_type": "stream",
     "text": [
      "2 256 597 0\n",
      "annotated_num: 2\n",
      "[['multiple', 'problem'], ['multiple', 'B-MS_no_subtype']]\n",
      "[['sclerosis', 'problem'], ['sclerosis', 'I-MS_no_subtype']]\n",
      "inscope: 2\n",
      "batch_07_00116 annotator2_batch_07_00116_correct\n",
      "batch_07_00116.txt\n"
     ]
    },
    {
     "name": "stderr",
     "output_type": "stream",
     "text": [
      "DEBUG:urllib3.connectionpool:https://huggingface.co:443 \"HEAD /sschet/bert-base-uncased_clinical-ner/resolve/main/config.json HTTP/1.1\" 200 0\n",
      "DEBUG:urllib3.connectionpool:https://huggingface.co:443 \"HEAD /sschet/bert-base-uncased_clinical-ner/resolve/main/vocab.txt HTTP/1.1\" 200 0\n"
     ]
    },
    {
     "name": "stdout",
     "output_type": "stream",
     "text": [
      "5 219 618 0\n",
      "annotated_num: 6\n",
      "[['Multiple', 'problem'], ['Multiple', 'B-MS_no_subtype']]\n",
      "[['sclerosis', 'problem'], ['sclerosis', 'I-MS_no_subtype']]\n",
      "[['sclerosis', 'problem'], ['sclerosis', 'I-MS_no_subtype']]\n",
      "[['Multiple', 'problem'], ['Multiple', 'B-MS_no_subtype']]\n",
      "[['sclerosis', 'problem'], ['sclerosis', 'I-MS_no_subtype']]\n",
      "inscope: 5\n",
      "batch_07_00117 annotator2_batch_07_00117_correct\n",
      "batch_07_00117.txt\n"
     ]
    },
    {
     "name": "stderr",
     "output_type": "stream",
     "text": [
      "DEBUG:urllib3.connectionpool:https://huggingface.co:443 \"HEAD /sschet/bert-base-uncased_clinical-ner/resolve/main/config.json HTTP/1.1\" 200 0\n",
      "DEBUG:urllib3.connectionpool:https://huggingface.co:443 \"HEAD /sschet/bert-base-uncased_clinical-ner/resolve/main/vocab.txt HTTP/1.1\" 200 0\n"
     ]
    },
    {
     "name": "stdout",
     "output_type": "stream",
     "text": [
      "10 212 439 4\n",
      "annotated_num: 14\n",
      "[['MS', 'problem'], ['MS', 'B-RRMS']]\n",
      "[['MS', 'problem'], ['MS', 'B-RRMS']]\n",
      "[['flare', 'problem'], ['flare', 'I-RRMS']]\n",
      "[['symptoms', 'problem'], ['symptoms', 'B-Relapse_date']]\n",
      "[['MS', 'problem'], ['MS', 'B-RRMS']]\n",
      "[['MS', 'problem'], ['MS', 'B-RRMS']]\n",
      "[['flares', 'problem'], ['flares', 'I-RRMS']]\n",
      "[['MS', 'problem'], ['MS', 'B-RRMS']]\n",
      "[['MS', 'problem'], ['MS', 'B-RRMS']]\n",
      "[['exacerbation', 'problem'], ['exacerbation', 'I-RRMS']]\n",
      "inscope: 10\n",
      "batch_07_00118 annotator2_batch_07_00118_correct\n",
      "batch_07_00118.txt\n"
     ]
    },
    {
     "name": "stderr",
     "output_type": "stream",
     "text": [
      "DEBUG:urllib3.connectionpool:https://huggingface.co:443 \"HEAD /sschet/bert-base-uncased_clinical-ner/resolve/main/config.json HTTP/1.1\" 200 0\n",
      "DEBUG:urllib3.connectionpool:https://huggingface.co:443 \"HEAD /sschet/bert-base-uncased_clinical-ner/resolve/main/vocab.txt HTTP/1.1\" 200 0\n"
     ]
    },
    {
     "name": "stdout",
     "output_type": "stream",
     "text": [
      "2 197 499 0\n",
      "annotated_num: 2\n",
      "[['MSSecondary', 'problem'], ['MSSecondary', 'B-SPMS']]\n",
      "[['progressive', 'problem'], ['progressive', 'I-SPMS']]\n",
      "inscope: 2\n",
      "batch_07_00119 annotator2_batch_07_00119_correct\n",
      "batch_07_00119.txt\n"
     ]
    },
    {
     "name": "stderr",
     "output_type": "stream",
     "text": [
      "DEBUG:urllib3.connectionpool:https://huggingface.co:443 \"HEAD /sschet/bert-base-uncased_clinical-ner/resolve/main/config.json HTTP/1.1\" 200 0\n",
      "DEBUG:urllib3.connectionpool:https://huggingface.co:443 \"HEAD /sschet/bert-base-uncased_clinical-ner/resolve/main/vocab.txt HTTP/1.1\" 200 0\n"
     ]
    },
    {
     "name": "stdout",
     "output_type": "stream",
     "text": [
      "3 119 335 1\n",
      "annotated_num: 4\n",
      "[['Multiple', 'problem'], ['Multiple', 'B-RRMS']]\n",
      "[['sclerosis', 'problem'], ['sclerosis', 'I-RRMS']]\n",
      "[['exacerbation', 'problem'], ['exacerbation', 'I-RRMS']]\n",
      "inscope: 3\n",
      "batch_07_00121 annotator2_batch_07_00121_correct\n",
      "batch_07_00121.txt\n"
     ]
    },
    {
     "name": "stderr",
     "output_type": "stream",
     "text": [
      "DEBUG:urllib3.connectionpool:https://huggingface.co:443 \"HEAD /sschet/bert-base-uncased_clinical-ner/resolve/main/config.json HTTP/1.1\" 200 0\n",
      "DEBUG:urllib3.connectionpool:https://huggingface.co:443 \"HEAD /sschet/bert-base-uncased_clinical-ner/resolve/main/vocab.txt HTTP/1.1\" 200 0\n"
     ]
    },
    {
     "name": "stdout",
     "output_type": "stream",
     "text": [
      "0 189 651 1\n",
      "somevalue is zer0\n",
      "batch_07_00122 annotator2_batch_07_00122_correct\n",
      "batch_07_00122.txt\n"
     ]
    },
    {
     "name": "stderr",
     "output_type": "stream",
     "text": [
      "DEBUG:urllib3.connectionpool:https://huggingface.co:443 \"HEAD /sschet/bert-base-uncased_clinical-ner/resolve/main/config.json HTTP/1.1\" 200 0\n",
      "DEBUG:urllib3.connectionpool:https://huggingface.co:443 \"HEAD /sschet/bert-base-uncased_clinical-ner/resolve/main/vocab.txt HTTP/1.1\" 200 0\n"
     ]
    },
    {
     "name": "stdout",
     "output_type": "stream",
     "text": [
      "9 75 274 19\n",
      "annotated_num: 35\n",
      "[['Multiple', 'problem'], ['Multiple', 'B-SPMS']]\n",
      "[['Sclerosis', 'problem'], ['Sclerosis', 'I-SPMS']]\n",
      "[['Remitting', 'problem'], ['Remitting', 'I-SPMS']]\n",
      "[['Progressive', 'problem'], ['Progressive', 'B-SPMS']]\n",
      "[['differences', 'problem'], ['differences', 'I-SPMS']]\n",
      "[['RRMS', 'problem'], ['RRMS', 'I-SPMS']]\n",
      "[['SPMS', 'problem'], ['SPMS', 'I-SPMS']]\n",
      "[['his', 'problem'], ['his', 'I-SPMS']]\n",
      "[['state', 'problem'], ['state', 'I-SPMS']]\n",
      "inscope: 9\n",
      "batch_07_00124 annotator2_batch_07_00124_correct\n",
      "batch_07_00124.txt\n"
     ]
    },
    {
     "name": "stderr",
     "output_type": "stream",
     "text": [
      "DEBUG:urllib3.connectionpool:https://huggingface.co:443 \"HEAD /sschet/bert-base-uncased_clinical-ner/resolve/main/config.json HTTP/1.1\" 200 0\n",
      "DEBUG:urllib3.connectionpool:https://huggingface.co:443 \"HEAD /sschet/bert-base-uncased_clinical-ner/resolve/main/vocab.txt HTTP/1.1\" 200 0\n"
     ]
    },
    {
     "name": "stdout",
     "output_type": "stream",
     "text": [
      "4 397 524 2\n",
      "annotated_num: 6\n",
      "[['MS', 'problem'], ['MS', 'B-RRMS']]\n",
      "[['MS', 'problem'], ['MS', 'B-RRMS']]\n",
      "[['multiple', 'problem'], ['multiple', 'I-RRMS']]\n",
      "[['sclerosis', 'problem'], ['sclerosis', 'I-RRMS']]\n",
      "inscope: 4\n",
      "batch_07_00125 annotator2_batch_07_00125_correct\n",
      "batch_07_00125.txt\n"
     ]
    },
    {
     "name": "stderr",
     "output_type": "stream",
     "text": [
      "DEBUG:urllib3.connectionpool:https://huggingface.co:443 \"HEAD /sschet/bert-base-uncased_clinical-ner/resolve/main/config.json HTTP/1.1\" 200 0\n"
     ]
    },
    {
     "name": "stdout",
     "output_type": "stream",
     "text": [
      "12 115 481 3\n",
      "annotated_num: 17\n",
      "[['Multiple', 'problem'], ['Multiple', 'B-RRMS']]\n",
      "[['Sclerosis', 'problem'], ['Sclerosis', 'I-RRMS']]\n",
      "[['Multiple', 'problem'], ['Multiple', 'B-RRMS']]\n",
      "[['Sclerosis', 'problem'], ['Sclerosis', 'I-RRMS']]\n",
      "[['MS', 'problem'], ['MS', 'B-RRMS']]\n",
      "[['exacerbation', 'problem'], ['exacerbation', 'I-RRMS']]\n",
      "[['Multiple', 'problem'], ['Multiple', 'B-RRMS']]\n",
      "[['Sclerosis', 'problem'], ['Sclerosis', 'I-RRMS']]\n",
      "[['an', 'problem'], ['an', 'I-RRMS']]\n",
      "[['MS', 'problem'], ['MS', 'I-RRMS']]\n",
      "[['flare', 'problem'], ['flare', 'I-RRMS']]\n",
      "[['up', 'problem'], ['up', 'I-RRMS']]\n",
      "inscope: 12\n",
      "batch_07_00126 annotator2_batch_07_00126_correct\n",
      "batch_07_00126.txt\n"
     ]
    },
    {
     "name": "stderr",
     "output_type": "stream",
     "text": [
      "DEBUG:urllib3.connectionpool:https://huggingface.co:443 \"HEAD /sschet/bert-base-uncased_clinical-ner/resolve/main/vocab.txt HTTP/1.1\" 200 0\n",
      "DEBUG:urllib3.connectionpool:https://huggingface.co:443 \"HEAD /sschet/bert-base-uncased_clinical-ner/resolve/main/config.json HTTP/1.1\" 200 0\n",
      "DEBUG:urllib3.connectionpool:https://huggingface.co:443 \"HEAD /sschet/bert-base-uncased_clinical-ner/resolve/main/vocab.txt HTTP/1.1\" 200 0\n"
     ]
    },
    {
     "name": "stdout",
     "output_type": "stream",
     "text": [
      "7 134 192 4\n",
      "annotated_num: 11\n",
      "[['multiple', 'problem'], ['multiple', 'B-RRMS']]\n",
      "[['sclerosis', 'problem'], ['sclerosis', 'I-RRMS']]\n",
      "[['MS', 'problem'], ['MS', 'B-RRMS']]\n",
      "[['MS', 'problem'], ['MS', 'B-RRMS']]\n",
      "[['Last', 'test'], ['Last', 'B-Temporal_history_of_relapse']]\n",
      "[['Multiple', 'problem'], ['Multiple', 'B-RRMS']]\n",
      "[['sclerosis', 'problem'], ['sclerosis', 'I-RRMS']]\n",
      "inscope: 7\n",
      "batch_07_00127 annotator2_batch_07_00127_correct\n",
      "batch_07_00127.txt\n"
     ]
    },
    {
     "name": "stderr",
     "output_type": "stream",
     "text": [
      "DEBUG:urllib3.connectionpool:https://huggingface.co:443 \"HEAD /sschet/bert-base-uncased_clinical-ner/resolve/main/config.json HTTP/1.1\" 200 0\n",
      "DEBUG:urllib3.connectionpool:https://huggingface.co:443 \"HEAD /sschet/bert-base-uncased_clinical-ner/resolve/main/vocab.txt HTTP/1.1\" 200 0\n"
     ]
    },
    {
     "name": "stdout",
     "output_type": "stream",
     "text": [
      "12 180 506 8\n",
      "annotated_num: 22\n",
      "[['multiple', 'problem'], ['multiple', 'B-RRMS']]\n",
      "[['sclerosis', 'problem'], ['sclerosis', 'I-RRMS']]\n",
      "[['multiple', 'problem'], ['multiple', 'B-RRMS']]\n",
      "[['sclerosis', 'problem'], ['sclerosis', 'I-RRMS']]\n",
      "[['MS', 'problem'], ['MS', 'B-Temporal_history_of_relapse']]\n",
      "[['exacerbation', 'problem'], ['exacerbation', 'I-Temporal_history_of_relapse']]\n",
      "[['multiple', 'problem'], ['multiple', 'B-RRMS']]\n",
      "[['sclerosis', 'problem'], ['sclerosis', 'I-RRMS']]\n",
      "[['Multiple', 'problem'], ['Multiple', 'B-RRMS']]\n",
      "[['sclerosis', 'problem'], ['sclerosis', 'I-RRMS']]\n",
      "[['multiple', 'problem'], ['multiple', 'B-RRMS']]\n",
      "[['sclerosis', 'problem'], ['sclerosis', 'I-RRMS']]\n",
      "inscope: 12\n",
      "batch_07_00128 annotator2_batch_07_00128_correct\n",
      "batch_07_00128.txt\n"
     ]
    },
    {
     "name": "stderr",
     "output_type": "stream",
     "text": [
      "DEBUG:urllib3.connectionpool:https://huggingface.co:443 \"HEAD /sschet/bert-base-uncased_clinical-ner/resolve/main/config.json HTTP/1.1\" 200 0\n",
      "DEBUG:urllib3.connectionpool:https://huggingface.co:443 \"HEAD /sschet/bert-base-uncased_clinical-ner/resolve/main/vocab.txt HTTP/1.1\" 200 0\n"
     ]
    },
    {
     "name": "stdout",
     "output_type": "stream",
     "text": [
      "3 190 360 2\n",
      "annotated_num: 5\n",
      "[['multiple', 'problem'], ['multiple', 'B-RRMS']]\n",
      "[['sclerosis', 'problem'], ['sclerosis', 'I-RRMS']]\n",
      "[['MS', 'problem'], ['MS', 'B-RRMS']]\n",
      "inscope: 3\n",
      "batch_07_00129 annotator2_batch_07_00129_correct\n",
      "batch_07_00129.txt\n"
     ]
    },
    {
     "name": "stderr",
     "output_type": "stream",
     "text": [
      "DEBUG:urllib3.connectionpool:https://huggingface.co:443 \"HEAD /sschet/bert-base-uncased_clinical-ner/resolve/main/config.json HTTP/1.1\" 200 0\n"
     ]
    },
    {
     "name": "stdout",
     "output_type": "stream",
     "text": [
      "5 101 263 0\n",
      "annotated_num: 5\n",
      "[['MS', 'problem'], ['MS', 'B-MS_no_subtype']]\n",
      "[['Multiple', 'problem'], ['Multiple', 'B-MS_no_subtype']]\n",
      "[['sclerosis', 'problem'], ['sclerosis', 'I-MS_no_subtype']]\n",
      "[['Multiple', 'problem'], ['Multiple', 'B-MS_no_subtype']]\n",
      "[['sclerosis', 'problem'], ['sclerosis', 'I-MS_no_subtype']]\n",
      "inscope: 5\n",
      "batch_07_00130 annotator2_batch_07_00130_correct\n",
      "batch_07_00130.txt\n"
     ]
    },
    {
     "name": "stderr",
     "output_type": "stream",
     "text": [
      "DEBUG:urllib3.connectionpool:https://huggingface.co:443 \"HEAD /sschet/bert-base-uncased_clinical-ner/resolve/main/vocab.txt HTTP/1.1\" 200 0\n",
      "DEBUG:urllib3.connectionpool:https://huggingface.co:443 \"HEAD /sschet/bert-base-uncased_clinical-ner/resolve/main/config.json HTTP/1.1\" 200 0\n",
      "DEBUG:urllib3.connectionpool:https://huggingface.co:443 \"HEAD /sschet/bert-base-uncased_clinical-ner/resolve/main/vocab.txt HTTP/1.1\" 200 0\n"
     ]
    },
    {
     "name": "stdout",
     "output_type": "stream",
     "text": [
      "9 214 478 0\n",
      "annotated_num: 9\n",
      "[['Multiple', 'problem'], ['Multiple', 'B-MS_no_subtype']]\n",
      "[['Sclerosis', 'problem'], ['Sclerosis', 'I-MS_no_subtype']]\n",
      "[['Multiple', 'problem'], ['Multiple', 'B-MS_no_subtype']]\n",
      "[['Sclerosis', 'problem'], ['Sclerosis', 'I-MS_no_subtype']]\n",
      "[['Multiple', 'problem'], ['Multiple', 'B-MS_no_subtype']]\n",
      "[['Sclerosis', 'problem'], ['Sclerosis', 'I-MS_no_subtype']]\n",
      "[['Multiple', 'problem'], ['Multiple', 'B-MS_no_subtype']]\n",
      "[['Sclerosis', 'problem'], ['Sclerosis', 'I-MS_no_subtype']]\n",
      "[['MS', 'problem'], ['MS', 'B-MS_no_subtype']]\n",
      "inscope: 9\n",
      "batch_07_00131 annotator2_batch_07_00131_correct\n",
      "batch_07_00131.txt\n"
     ]
    },
    {
     "name": "stderr",
     "output_type": "stream",
     "text": [
      "DEBUG:urllib3.connectionpool:https://huggingface.co:443 \"HEAD /sschet/bert-base-uncased_clinical-ner/resolve/main/config.json HTTP/1.1\" 200 0\n",
      "DEBUG:urllib3.connectionpool:https://huggingface.co:443 \"HEAD /sschet/bert-base-uncased_clinical-ner/resolve/main/vocab.txt HTTP/1.1\" 200 0\n"
     ]
    },
    {
     "name": "stdout",
     "output_type": "stream",
     "text": [
      "4 313 340 0\n",
      "annotated_num: 4\n",
      "[['multiple', 'problem'], ['multiple', 'B-MS_no_subtype']]\n",
      "[['sclerosis', 'problem'], ['sclerosis', 'I-MS_no_subtype']]\n",
      "[['Multiple', 'problem'], ['Multiple', 'B-MS_no_subtype']]\n",
      "[['sclerosis', 'problem'], ['sclerosis', 'I-MS_no_subtype']]\n",
      "inscope: 4\n",
      "batch_07_00132 annotator2_batch_07_00132_correct\n",
      "batch_07_00132.txt\n"
     ]
    },
    {
     "name": "stderr",
     "output_type": "stream",
     "text": [
      "DEBUG:urllib3.connectionpool:https://huggingface.co:443 \"HEAD /sschet/bert-base-uncased_clinical-ner/resolve/main/config.json HTTP/1.1\" 200 0\n",
      "DEBUG:urllib3.connectionpool:https://huggingface.co:443 \"HEAD /sschet/bert-base-uncased_clinical-ner/resolve/main/vocab.txt HTTP/1.1\" 200 0\n"
     ]
    },
    {
     "name": "stdout",
     "output_type": "stream",
     "text": [
      "8 106 241 10\n",
      "annotated_num: 18\n",
      "[['Multiple', 'problem'], ['Multiple', 'B-RRMS']]\n",
      "[['Sclerosis', 'problem'], ['Sclerosis', 'I-RRMS']]\n",
      "[['MS', 'problem'], ['MS', 'B-RRMS']]\n",
      "[['relapse', 'problem'], ['relapse', 'B-Temporal_history_of_relapse']]\n",
      "[['relapse', 'problem'], ['relapse', 'B-Temporal_history_of_relapse']]\n",
      "[['relapse', 'problem'], ['relapse', 'B-Temporal_history_of_relapse']]\n",
      "[['MS', 'problem'], ['MS', 'B-RRMS']]\n",
      "[['MS', 'problem'], ['MS', 'B-RRMS']]\n",
      "inscope: 8\n",
      "batch_07_00133 annotator2_batch_07_00133_correct\n",
      "batch_07_00133.txt\n"
     ]
    },
    {
     "name": "stderr",
     "output_type": "stream",
     "text": [
      "DEBUG:urllib3.connectionpool:https://huggingface.co:443 \"HEAD /sschet/bert-base-uncased_clinical-ner/resolve/main/config.json HTTP/1.1\" 200 0\n",
      "DEBUG:urllib3.connectionpool:https://huggingface.co:443 \"HEAD /sschet/bert-base-uncased_clinical-ner/resolve/main/vocab.txt HTTP/1.1\" 200 0\n"
     ]
    },
    {
     "name": "stdout",
     "output_type": "stream",
     "text": [
      "4 397 386 0\n",
      "annotated_num: 4\n",
      "[['multiple', 'problem'], ['multiple', 'B-MS_no_subtype']]\n",
      "[['sclerosis', 'problem'], ['sclerosis', 'I-MS_no_subtype']]\n",
      "[['multiple', 'problem'], ['multiple', 'B-MS_no_subtype']]\n",
      "[['sclerosis', 'problem'], ['sclerosis', 'I-MS_no_subtype']]\n",
      "inscope: 4\n",
      "batch_07_00134 annotator2_batch_07_00134_correct\n",
      "batch_07_00134.txt\n"
     ]
    },
    {
     "name": "stderr",
     "output_type": "stream",
     "text": [
      "DEBUG:urllib3.connectionpool:https://huggingface.co:443 \"HEAD /sschet/bert-base-uncased_clinical-ner/resolve/main/config.json HTTP/1.1\" 200 0\n",
      "DEBUG:urllib3.connectionpool:https://huggingface.co:443 \"HEAD /sschet/bert-base-uncased_clinical-ner/resolve/main/vocab.txt HTTP/1.1\" 200 0\n"
     ]
    },
    {
     "name": "stdout",
     "output_type": "stream",
     "text": [
      "1 61 289 0\n",
      "annotated_num: 1\n",
      "[['MS', 'problem'], ['MS', 'B-MS_no_subtype']]\n",
      "inscope: 1\n",
      "batch_07_00135 annotator2_batch_07_00135_correct\n",
      "batch_07_00135.txt\n"
     ]
    },
    {
     "name": "stderr",
     "output_type": "stream",
     "text": [
      "DEBUG:urllib3.connectionpool:https://huggingface.co:443 \"HEAD /sschet/bert-base-uncased_clinical-ner/resolve/main/config.json HTTP/1.1\" 200 0\n",
      "DEBUG:urllib3.connectionpool:https://huggingface.co:443 \"HEAD /sschet/bert-base-uncased_clinical-ner/resolve/main/vocab.txt HTTP/1.1\" 200 0\n"
     ]
    },
    {
     "name": "stdout",
     "output_type": "stream",
     "text": [
      "0 27 146 2\n",
      "somevalue is zer0\n",
      "batch_07_00136 annotator2_batch_07_00136_correct\n",
      "batch_07_00136.txt\n"
     ]
    },
    {
     "name": "stderr",
     "output_type": "stream",
     "text": [
      "DEBUG:urllib3.connectionpool:https://huggingface.co:443 \"HEAD /sschet/bert-base-uncased_clinical-ner/resolve/main/config.json HTTP/1.1\" 200 0\n",
      "DEBUG:urllib3.connectionpool:https://huggingface.co:443 \"HEAD /sschet/bert-base-uncased_clinical-ner/resolve/main/vocab.txt HTTP/1.1\" 200 0\n"
     ]
    },
    {
     "name": "stdout",
     "output_type": "stream",
     "text": [
      "4 343 610 0\n",
      "annotated_num: 4\n",
      "[['multiple', 'problem'], ['multiple', 'B-MS_no_subtype']]\n",
      "[['sclerosis', 'problem'], ['sclerosis', 'I-MS_no_subtype']]\n",
      "[['Multiple', 'problem'], ['Multiple', 'B-MS_no_subtype']]\n",
      "[['sclerosis', 'problem'], ['sclerosis', 'I-MS_no_subtype']]\n",
      "inscope: 4\n",
      "batch_07_00137 annotator2_batch_07_00137_correct\n",
      "batch_07_00137.txt\n"
     ]
    },
    {
     "name": "stderr",
     "output_type": "stream",
     "text": [
      "DEBUG:urllib3.connectionpool:https://huggingface.co:443 \"HEAD /sschet/bert-base-uncased_clinical-ner/resolve/main/config.json HTTP/1.1\" 200 0\n",
      "DEBUG:urllib3.connectionpool:https://huggingface.co:443 \"HEAD /sschet/bert-base-uncased_clinical-ner/resolve/main/vocab.txt HTTP/1.1\" 200 0\n"
     ]
    },
    {
     "name": "stdout",
     "output_type": "stream",
     "text": [
      "3 181 330 0\n",
      "annotated_num: 3\n",
      "[['MS', 'problem'], ['MS', 'B-MS_no_subtype']]\n",
      "[['MS', 'problem'], ['MS', 'B-MS_no_subtype']]\n",
      "[['MS', 'problem'], ['MS', 'B-MS_no_subtype']]\n",
      "inscope: 3\n",
      "batch_07_00138 annotator2_batch_07_00138_correct\n",
      "batch_07_00138.txt\n"
     ]
    },
    {
     "name": "stderr",
     "output_type": "stream",
     "text": [
      "DEBUG:urllib3.connectionpool:https://huggingface.co:443 \"HEAD /sschet/bert-base-uncased_clinical-ner/resolve/main/config.json HTTP/1.1\" 200 0\n",
      "DEBUG:urllib3.connectionpool:https://huggingface.co:443 \"HEAD /sschet/bert-base-uncased_clinical-ner/resolve/main/vocab.txt HTTP/1.1\" 200 0\n"
     ]
    },
    {
     "name": "stdout",
     "output_type": "stream",
     "text": [
      "6 395 451 2\n",
      "annotated_num: 8\n",
      "[['Multiple', 'problem'], ['Multiple', 'B-RRMS']]\n",
      "[['sclerosis', 'problem'], ['sclerosis', 'I-RRMS']]\n",
      "[[',', 'problem'], [',', 'I-RRMS']]\n",
      "[['MS', 'problem'], ['MS', 'B-RRMS']]\n",
      "[['multiple', 'problem'], ['multiple', 'B-RRMS']]\n",
      "[['sclerosis', 'problem'], ['sclerosis', 'I-RRMS']]\n",
      "inscope: 6\n",
      "batch_07_00139 annotator2_batch_07_00139_correct\n",
      "batch_07_00139.txt\n"
     ]
    },
    {
     "name": "stderr",
     "output_type": "stream",
     "text": [
      "DEBUG:urllib3.connectionpool:https://huggingface.co:443 \"HEAD /sschet/bert-base-uncased_clinical-ner/resolve/main/config.json HTTP/1.1\" 200 0\n",
      "DEBUG:urllib3.connectionpool:https://huggingface.co:443 \"HEAD /sschet/bert-base-uncased_clinical-ner/resolve/main/vocab.txt HTTP/1.1\" 200 0\n"
     ]
    },
    {
     "name": "stdout",
     "output_type": "stream",
     "text": [
      "2 114 417 0\n",
      "annotated_num: 2\n",
      "[['MS', 'problem'], ['MS', 'B-RRMS']]\n",
      "[['exacerbation', 'problem'], ['exacerbation', 'I-RRMS']]\n",
      "inscope: 2\n",
      "batch_07_00140 annotator2_batch_07_00140_correct\n",
      "batch_07_00140.txt\n"
     ]
    },
    {
     "name": "stderr",
     "output_type": "stream",
     "text": [
      "DEBUG:urllib3.connectionpool:https://huggingface.co:443 \"HEAD /sschet/bert-base-uncased_clinical-ner/resolve/main/config.json HTTP/1.1\" 200 0\n",
      "DEBUG:urllib3.connectionpool:https://huggingface.co:443 \"HEAD /sschet/bert-base-uncased_clinical-ner/resolve/main/vocab.txt HTTP/1.1\" 200 0\n"
     ]
    },
    {
     "name": "stdout",
     "output_type": "stream",
     "text": [
      "5 189 535 3\n",
      "annotated_num: 11\n",
      "[['MS', 'test'], ['MS', 'B-RRMS']]\n",
      "[['RRMS', 'problem'], ['RRMS', 'B-RRMS']]\n",
      "[['MS', 'test'], ['MS', 'B-RRMS']]\n",
      "[['MS', 'test'], ['MS', 'B-RRMS']]\n",
      "[['MS', 'test'], ['MS', 'B-RRMS']]\n",
      "inscope: 5\n",
      "batch_07_00141 annotator2_batch_07_00141_correct\n",
      "batch_07_00141.txt\n"
     ]
    },
    {
     "name": "stderr",
     "output_type": "stream",
     "text": [
      "DEBUG:urllib3.connectionpool:https://huggingface.co:443 \"HEAD /sschet/bert-base-uncased_clinical-ner/resolve/main/config.json HTTP/1.1\" 200 0\n",
      "DEBUG:urllib3.connectionpool:https://huggingface.co:443 \"HEAD /sschet/bert-base-uncased_clinical-ner/resolve/main/vocab.txt HTTP/1.1\" 200 0\n"
     ]
    },
    {
     "name": "stdout",
     "output_type": "stream",
     "text": [
      "7 126 509 2\n",
      "annotated_num: 9\n",
      "[['MS', 'problem'], ['MS', 'B-RRMS']]\n",
      "[['MULTIPLE', 'problem'], ['MULTIPLE', 'I-RRMS']]\n",
      "[['SCLEROSIS', 'problem'], ['SCLEROSIS', 'I-RRMS']]\n",
      "[['MS', 'problem'], ['MS', 'B-RRMS']]\n",
      "[['multiple', 'problem'], ['multiple', 'B-RRMS']]\n",
      "[['sclerosis', 'problem'], ['sclerosis', 'I-RRMS']]\n",
      "[['MS', 'problem'], ['MS', 'B-RRMS']]\n",
      "inscope: 7\n",
      "batch_07_00142 annotator2_batch_07_00142_correct\n",
      "batch_07_00142.txt\n"
     ]
    },
    {
     "name": "stderr",
     "output_type": "stream",
     "text": [
      "DEBUG:urllib3.connectionpool:https://huggingface.co:443 \"HEAD /sschet/bert-base-uncased_clinical-ner/resolve/main/config.json HTTP/1.1\" 200 0\n",
      "DEBUG:urllib3.connectionpool:https://huggingface.co:443 \"HEAD /sschet/bert-base-uncased_clinical-ner/resolve/main/vocab.txt HTTP/1.1\" 200 0\n"
     ]
    },
    {
     "name": "stdout",
     "output_type": "stream",
     "text": [
      "2 34 336 0\n",
      "annotated_num: 2\n",
      "[['Multiple', 'problem'], ['Multiple', 'B-MS_no_subtype']]\n",
      "[['sclerosis', 'problem'], ['sclerosis', 'I-MS_no_subtype']]\n",
      "inscope: 2\n",
      "batch_07_00144 annotator2_batch_07_00144_correct\n",
      "batch_07_00144.txt\n"
     ]
    },
    {
     "name": "stderr",
     "output_type": "stream",
     "text": [
      "DEBUG:urllib3.connectionpool:https://huggingface.co:443 \"HEAD /sschet/bert-base-uncased_clinical-ner/resolve/main/config.json HTTP/1.1\" 200 0\n",
      "DEBUG:urllib3.connectionpool:https://huggingface.co:443 \"HEAD /sschet/bert-base-uncased_clinical-ner/resolve/main/vocab.txt HTTP/1.1\" 200 0\n"
     ]
    },
    {
     "name": "stdout",
     "output_type": "stream",
     "text": [
      "2 212 266 0\n",
      "annotated_num: 2\n",
      "[['Multiple', 'problem'], ['Multiple', 'B-MS_no_subtype']]\n",
      "[['Sclerosis', 'problem'], ['Sclerosis', 'I-MS_no_subtype']]\n",
      "inscope: 2\n",
      "batch_07_00145 annotator2_batch_07_00145_correct\n",
      "batch_07_00145.txt\n"
     ]
    },
    {
     "name": "stderr",
     "output_type": "stream",
     "text": [
      "DEBUG:urllib3.connectionpool:https://huggingface.co:443 \"HEAD /sschet/bert-base-uncased_clinical-ner/resolve/main/config.json HTTP/1.1\" 200 0\n",
      "DEBUG:urllib3.connectionpool:https://huggingface.co:443 \"HEAD /sschet/bert-base-uncased_clinical-ner/resolve/main/vocab.txt HTTP/1.1\" 200 0\n"
     ]
    },
    {
     "name": "stdout",
     "output_type": "stream",
     "text": [
      "2 180 591 0\n",
      "annotated_num: 2\n",
      "[['Multiple', 'problem'], ['Multiple', 'B-MS_no_subtype']]\n",
      "[['Sclerosis', 'problem'], ['Sclerosis', 'I-MS_no_subtype']]\n",
      "inscope: 2\n",
      "batch_07_00146 annotator2_batch_07_00146_correct\n",
      "batch_07_00146.txt\n"
     ]
    },
    {
     "name": "stderr",
     "output_type": "stream",
     "text": [
      "DEBUG:urllib3.connectionpool:https://huggingface.co:443 \"HEAD /sschet/bert-base-uncased_clinical-ner/resolve/main/config.json HTTP/1.1\" 200 0\n",
      "DEBUG:urllib3.connectionpool:https://huggingface.co:443 \"HEAD /sschet/bert-base-uncased_clinical-ner/resolve/main/vocab.txt HTTP/1.1\" 200 0\n"
     ]
    },
    {
     "name": "stdout",
     "output_type": "stream",
     "text": [
      "4 77 274 4\n",
      "annotated_num: 8\n",
      "[['exacerbation', 'problem'], ['exacerbation', 'B-Temporal_history_of_relapse']]\n",
      "[['attack', 'problem'], ['attack', 'I-Temporal_history_of_relapse']]\n",
      "[['Multiple', 'problem'], ['Multiple', 'B-RRMS']]\n",
      "[['sclerosis', 'problem'], ['sclerosis', 'I-RRMS']]\n",
      "inscope: 4\n",
      "batch_07_00147 annotator2_batch_07_00147_correct\n",
      "batch_07_00147.txt\n"
     ]
    },
    {
     "name": "stderr",
     "output_type": "stream",
     "text": [
      "DEBUG:urllib3.connectionpool:https://huggingface.co:443 \"HEAD /sschet/bert-base-uncased_clinical-ner/resolve/main/config.json HTTP/1.1\" 200 0\n",
      "DEBUG:urllib3.connectionpool:https://huggingface.co:443 \"HEAD /sschet/bert-base-uncased_clinical-ner/resolve/main/vocab.txt HTTP/1.1\" 200 0\n"
     ]
    },
    {
     "name": "stdout",
     "output_type": "stream",
     "text": [
      "4 339 403 0\n",
      "annotated_num: 4\n",
      "[['Multiple', 'problem'], ['Multiple', 'B-MS_no_subtype']]\n",
      "[['sclerosis', 'problem'], ['sclerosis', 'I-MS_no_subtype']]\n",
      "[['Multiple', 'problem'], ['Multiple', 'B-MS_no_subtype']]\n",
      "[['sclerosis', 'problem'], ['sclerosis', 'I-MS_no_subtype']]\n",
      "inscope: 4\n",
      "batch_07_00149 annotator2_batch_07_00149_correct\n",
      "batch_07_00149.txt\n"
     ]
    },
    {
     "name": "stderr",
     "output_type": "stream",
     "text": [
      "DEBUG:urllib3.connectionpool:https://huggingface.co:443 \"HEAD /sschet/bert-base-uncased_clinical-ner/resolve/main/config.json HTTP/1.1\" 200 0\n",
      "DEBUG:urllib3.connectionpool:https://huggingface.co:443 \"HEAD /sschet/bert-base-uncased_clinical-ner/resolve/main/vocab.txt HTTP/1.1\" 200 0\n"
     ]
    },
    {
     "name": "stdout",
     "output_type": "stream",
     "text": [
      "7 402 343 0\n",
      "annotated_num: 7\n",
      "[['MS', 'test'], ['MS', 'B-MS_no_subtype']]\n",
      "[['MS', 'test'], ['MS', 'B-MS_no_subtype']]\n",
      "[['MS', 'test'], ['MS', 'B-MS_no_subtype']]\n",
      "[['MS', 'test'], ['MS', 'B-MS_no_subtype']]\n",
      "[['MS', 'test'], ['MS', 'B-MS_no_subtype']]\n",
      "[['MS', 'test'], ['MS', 'B-MS_no_subtype']]\n",
      "[['MS', 'test'], ['MS', 'B-MS_no_subtype']]\n",
      "inscope: 7\n",
      "batch_07_00150 annotator2_batch_07_00150_correct\n",
      "batch_07_00150.txt\n"
     ]
    },
    {
     "name": "stderr",
     "output_type": "stream",
     "text": [
      "DEBUG:urllib3.connectionpool:https://huggingface.co:443 \"HEAD /sschet/bert-base-uncased_clinical-ner/resolve/main/config.json HTTP/1.1\" 200 0\n",
      "DEBUG:urllib3.connectionpool:https://huggingface.co:443 \"HEAD /sschet/bert-base-uncased_clinical-ner/resolve/main/vocab.txt HTTP/1.1\" 200 0\n"
     ]
    },
    {
     "name": "stdout",
     "output_type": "stream",
     "text": [
      "8 303 508 0\n",
      "annotated_num: 8\n",
      "[['multiple', 'problem'], ['multiple', 'B-MS_no_subtype']]\n",
      "[['sclerosis', 'problem'], ['sclerosis', 'I-MS_no_subtype']]\n",
      "[['Multiple', 'problem'], ['Multiple', 'B-MS_no_subtype']]\n",
      "[['sclerosis', 'problem'], ['sclerosis', 'I-MS_no_subtype']]\n",
      "[['multiple', 'problem'], ['multiple', 'B-MS_no_subtype']]\n",
      "[['sclerosis', 'problem'], ['sclerosis', 'I-MS_no_subtype']]\n",
      "[['MS', 'problem'], ['MS', 'B-MS_no_subtype']]\n",
      "[['MS', 'problem'], ['MS', 'B-MS_no_subtype']]\n",
      "inscope: 8\n",
      "batch_07_00217 annotator2_batch_07_00217_correct\n",
      "batch_07_00217.txt\n"
     ]
    },
    {
     "name": "stderr",
     "output_type": "stream",
     "text": [
      "DEBUG:urllib3.connectionpool:https://huggingface.co:443 \"HEAD /sschet/bert-base-uncased_clinical-ner/resolve/main/config.json HTTP/1.1\" 200 0\n",
      "DEBUG:urllib3.connectionpool:https://huggingface.co:443 \"HEAD /sschet/bert-base-uncased_clinical-ner/resolve/main/vocab.txt HTTP/1.1\" 200 0\n"
     ]
    },
    {
     "name": "stdout",
     "output_type": "stream",
     "text": [
      "2 147 281 0\n",
      "annotated_num: 2\n",
      "[['multiple', 'problem'], ['multiple', 'B-MS_no_subtype']]\n",
      "[['sclerosis', 'problem'], ['sclerosis', 'I-MS_no_subtype']]\n",
      "inscope: 2\n",
      "change_00001 annotator2_change_00001_correct\n",
      "change_00001.txt\n"
     ]
    },
    {
     "name": "stderr",
     "output_type": "stream",
     "text": [
      "DEBUG:urllib3.connectionpool:https://huggingface.co:443 \"HEAD /sschet/bert-base-uncased_clinical-ner/resolve/main/config.json HTTP/1.1\" 200 0\n",
      "DEBUG:urllib3.connectionpool:https://huggingface.co:443 \"HEAD /sschet/bert-base-uncased_clinical-ner/resolve/main/vocab.txt HTTP/1.1\" 200 0\n"
     ]
    },
    {
     "name": "stdout",
     "output_type": "stream",
     "text": [
      "1 76 158 2\n",
      "annotated_num: 3\n",
      "[['EDSS', 'test'], ['EDSS', 'B-EDSS']]\n",
      "inscope: 1\n",
      "change_00002 annotator2_change_00002_correct\n",
      "change_00002.txt\n"
     ]
    },
    {
     "name": "stderr",
     "output_type": "stream",
     "text": [
      "DEBUG:urllib3.connectionpool:https://huggingface.co:443 \"HEAD /sschet/bert-base-uncased_clinical-ner/resolve/main/config.json HTTP/1.1\" 200 0\n",
      "DEBUG:urllib3.connectionpool:https://huggingface.co:443 \"HEAD /sschet/bert-base-uncased_clinical-ner/resolve/main/vocab.txt HTTP/1.1\" 200 0\n"
     ]
    },
    {
     "name": "stdout",
     "output_type": "stream",
     "text": [
      "6 177 245 2\n",
      "annotated_num: 8\n",
      "[['MS', 'problem'], ['MS', 'B-SPMS']]\n",
      "[['MS', 'problem'], ['MS', 'B-SPMS']]\n",
      "[['SECONDARY', 'problem'], ['SECONDARY', 'B-SPMS']]\n",
      "[['PROGRESSIVE', 'problem'], ['PROGRESSIVE', 'I-SPMS']]\n",
      "[['MULTIPLE', 'problem'], ['MULTIPLE', 'I-SPMS']]\n",
      "[['SCLEROSIS', 'problem'], ['SCLEROSIS', 'I-SPMS']]\n",
      "inscope: 6\n",
      "change_00003 annotator2_change_00003_correct\n",
      "change_00003.txt\n"
     ]
    },
    {
     "name": "stderr",
     "output_type": "stream",
     "text": [
      "DEBUG:urllib3.connectionpool:https://huggingface.co:443 \"HEAD /sschet/bert-base-uncased_clinical-ner/resolve/main/config.json HTTP/1.1\" 200 0\n",
      "DEBUG:urllib3.connectionpool:https://huggingface.co:443 \"HEAD /sschet/bert-base-uncased_clinical-ner/resolve/main/vocab.txt HTTP/1.1\" 200 0\n"
     ]
    },
    {
     "name": "stdout",
     "output_type": "stream",
     "text": [
      "20 464 535 13\n",
      "annotated_num: 35\n",
      "[['-', 'problem'], ['-', 'I-RRMS']]\n",
      "[['multiple', 'problem'], ['multiple', 'I-RRMS']]\n",
      "[['sclerosis', 'problem'], ['sclerosis', 'I-RRMS']]\n",
      "[['in', 'problem'], ['in', 'I-RRMS']]\n",
      "[['-', 'problem'], ['-', 'I-RRMS']]\n",
      "[['of', 'problem'], ['of', 'I-RRMS']]\n",
      "[['multiple', 'problem'], ['multiple', 'I-RRMS']]\n",
      "[['sclerosis', 'problem'], ['sclerosis', 'I-RRMS']]\n",
      "[['is', 'problem'], ['is', 'I-RRMS']]\n",
      "[['for', 'problem'], ['for', 'I-RRMS']]\n",
      "[['a', 'problem'], ['a', 'I-RRMS']]\n",
      "[['EDSS', 'test'], ['EDSS', 'B-EDSS']]\n",
      "[['6', 'problem'], ['6', 'B-EDSS_Value']]\n",
      "[['multiple', 'problem'], ['multiple', 'B-SPMS']]\n",
      "[['Multiple', 'problem'], ['Multiple', 'B-SPMS']]\n",
      "[['sclerosis', 'problem'], ['sclerosis', 'I-SPMS']]\n",
      "[['with', 'problem'], ['with', 'I-SPMS']]\n",
      "[['to', 'problem'], ['to', 'I-SPMS']]\n",
      "[['secondary', 'problem'], ['secondary', 'I-SPMS']]\n",
      "[['progressive', 'problem'], ['progressive', 'I-SPMS']]\n",
      "inscope: 20\n",
      "change_00004 annotator2_change_00004_correct\n",
      "change_00004.txt\n"
     ]
    },
    {
     "name": "stderr",
     "output_type": "stream",
     "text": [
      "DEBUG:urllib3.connectionpool:https://huggingface.co:443 \"HEAD /sschet/bert-base-uncased_clinical-ner/resolve/main/config.json HTTP/1.1\" 200 0\n",
      "DEBUG:urllib3.connectionpool:https://huggingface.co:443 \"HEAD /sschet/bert-base-uncased_clinical-ner/resolve/main/vocab.txt HTTP/1.1\" 200 0\n"
     ]
    },
    {
     "name": "stdout",
     "output_type": "stream",
     "text": [
      "20 381 645 21\n",
      "annotated_num: 47\n",
      "[['progressive', 'problem'], ['progressive', 'I-PRMS']]\n",
      "[['multiple', 'problem'], ['multiple', 'I-PRMS']]\n",
      "[['sclerosis', 'problem'], ['sclerosis', 'I-PRMS']]\n",
      "[['-', 'test'], ['-', 'I-PRMS']]\n",
      "[['-', 'test'], ['-', 'I-PRMS']]\n",
      "[['multiple', 'problem'], ['multiple', 'I-PRMS']]\n",
      "[['sclerosis', 'problem'], ['sclerosis', 'I-PRMS']]\n",
      "[['form', 'problem'], ['form', 'I-PRMS']]\n",
      "[['with', 'problem'], ['with', 'I-PRMS']]\n",
      "[['disability', 'problem'], ['disability', 'I-PRMS']]\n",
      "[['EDSS', 'test'], ['EDSS', 'B-EDSS']]\n",
      "[['multiple', 'problem'], ['multiple', 'I-PRMS']]\n",
      "[['sclerosis', 'problem'], ['sclerosis', 'I-PRMS']]\n",
      "[['with', 'problem'], ['with', 'I-PRMS']]\n",
      "[['new', 'problem'], ['new', 'I-PRMS']]\n",
      "[['relapse', 'problem'], ['relapse', 'I-PRMS']]\n",
      "[['symptoms', 'problem'], ['symptoms', 'I-PRMS']]\n",
      "[['EDSS', 'test'], ['EDSS', 'B-EDSS_Value']]\n",
      "[['increased', 'problem'], ['increased', 'I-EDSS_Value']]\n",
      "[['1', 'problem'], ['1', 'I-EDSS_Value']]\n",
      "inscope: 20\n",
      "change_00005 annotator2_change_00005_correct\n",
      "change_00005.txt\n"
     ]
    },
    {
     "name": "stderr",
     "output_type": "stream",
     "text": [
      "DEBUG:urllib3.connectionpool:https://huggingface.co:443 \"HEAD /sschet/bert-base-uncased_clinical-ner/resolve/main/config.json HTTP/1.1\" 200 0\n",
      "DEBUG:urllib3.connectionpool:https://huggingface.co:443 \"HEAD /sschet/bert-base-uncased_clinical-ner/resolve/main/vocab.txt HTTP/1.1\" 200 0\n",
      "DEBUG:urllib3.connectionpool:https://huggingface.co:443 \"HEAD /sschet/bert-base-uncased_clinical-ner/resolve/main/config.json HTTP/1.1\" 200 0\n"
     ]
    },
    {
     "name": "stdout",
     "output_type": "stream",
     "text": [
      "7 669 757 4\n",
      "annotated_num: 11\n",
      "[['multiple', 'problem'], ['multiple', 'B-MS_no_subtype']]\n",
      "[['sclerosis', 'problem'], ['sclerosis', 'I-MS_no_subtype']]\n",
      "[['EDSS', 'test'], ['EDSS', 'B-EDSS']]\n",
      "[['multiple', 'problem'], ['multiple', 'B-MS_no_subtype']]\n",
      "[['sclerosis', 'problem'], ['sclerosis', 'I-MS_no_subtype']]\n",
      "[['Multiple', 'problem'], ['Multiple', 'B-MS_no_subtype']]\n",
      "[['sclerosis', 'problem'], ['sclerosis', 'I-MS_no_subtype']]\n",
      "inscope: 7\n",
      "change_00006 annotator2_change_00006_correct\n",
      "change_00006.txt\n"
     ]
    },
    {
     "name": "stderr",
     "output_type": "stream",
     "text": [
      "DEBUG:urllib3.connectionpool:https://huggingface.co:443 \"HEAD /sschet/bert-base-uncased_clinical-ner/resolve/main/vocab.txt HTTP/1.1\" 200 0\n"
     ]
    },
    {
     "name": "stdout",
     "output_type": "stream",
     "text": [
      "8 251 517 10\n",
      "annotated_num: 20\n",
      "[['multiple', 'problem'], ['multiple', 'I-RRMS']]\n",
      "[['sclerosis', 'problem'], ['sclerosis', 'I-RRMS']]\n",
      "[['exacerbation', 'problem'], ['exacerbation', 'B-Temporal_history_of_relapse']]\n",
      "[['multiple', 'problem'], ['multiple', 'B-RRMS']]\n",
      "[['sclerosis', 'problem'], ['sclerosis', 'I-RRMS']]\n",
      "[['EDSS', 'test'], ['EDSS', 'B-EDSS']]\n",
      "[['multiple', 'problem'], ['multiple', 'I-RRMS']]\n",
      "[['sclerosis', 'problem'], ['sclerosis', 'I-RRMS']]\n",
      "inscope: 8\n",
      "change_00007 annotator2_change_00007_correct\n",
      "change_00007.txt\n"
     ]
    },
    {
     "name": "stderr",
     "output_type": "stream",
     "text": [
      "DEBUG:urllib3.connectionpool:https://huggingface.co:443 \"HEAD /sschet/bert-base-uncased_clinical-ner/resolve/main/config.json HTTP/1.1\" 200 0\n",
      "DEBUG:urllib3.connectionpool:https://huggingface.co:443 \"HEAD /sschet/bert-base-uncased_clinical-ner/resolve/main/vocab.txt HTTP/1.1\" 200 0\n"
     ]
    },
    {
     "name": "stdout",
     "output_type": "stream",
     "text": [
      "1 86 143 2\n",
      "annotated_num: 4\n",
      "[['EDSS', 'test'], ['EDSS', 'B-EDSS']]\n",
      "inscope: 1\n",
      "change_00008 annotator2_change_00008_correct\n",
      "change_00008.txt\n"
     ]
    },
    {
     "name": "stderr",
     "output_type": "stream",
     "text": [
      "DEBUG:urllib3.connectionpool:https://huggingface.co:443 \"HEAD /sschet/bert-base-uncased_clinical-ner/resolve/main/config.json HTTP/1.1\" 200 0\n",
      "DEBUG:urllib3.connectionpool:https://huggingface.co:443 \"HEAD /sschet/bert-base-uncased_clinical-ner/resolve/main/vocab.txt HTTP/1.1\" 200 0\n"
     ]
    },
    {
     "name": "stdout",
     "output_type": "stream",
     "text": [
      "19 480 505 15\n",
      "annotated_num: 35\n",
      "[['-', 'problem'], ['-', 'I-SPMS']]\n",
      "[['multiple', 'problem'], ['multiple', 'I-SPMS']]\n",
      "[['sclerosis', 'problem'], ['sclerosis', 'I-SPMS']]\n",
      "[['in', 'problem'], ['in', 'I-SPMS']]\n",
      "[['-', 'problem'], ['-', 'I-SPMS']]\n",
      "[['of', 'problem'], ['of', 'I-SPMS']]\n",
      "[['multiple', 'problem'], ['multiple', 'I-SPMS']]\n",
      "[['sclerosis', 'problem'], ['sclerosis', 'I-SPMS']]\n",
      "[['is', 'problem'], ['is', 'I-SPMS']]\n",
      "[['for', 'problem'], ['for', 'I-SPMS']]\n",
      "[['a', 'problem'], ['a', 'I-SPMS']]\n",
      "[['EDSS', 'test'], ['EDSS', 'B-EDSS']]\n",
      "[['multiple', 'problem'], ['multiple', 'B-SPMS']]\n",
      "[['sclerosis', 'problem'], ['sclerosis', 'I-SPMS']]\n",
      "[['Multiple', 'problem'], ['Multiple', 'B-SPMS']]\n",
      "[['sclerosis', 'problem'], ['sclerosis', 'I-SPMS']]\n",
      "[['with', 'problem'], ['with', 'I-SPMS']]\n",
      "[['to', 'problem'], ['to', 'I-SPMS']]\n",
      "[['MS', 'problem'], ['MS', 'I-SPMS']]\n",
      "inscope: 19\n",
      "change_00009 annotator2_change_00009_correct\n",
      "change_00009.txt\n"
     ]
    },
    {
     "name": "stderr",
     "output_type": "stream",
     "text": [
      "DEBUG:urllib3.connectionpool:https://huggingface.co:443 \"HEAD /sschet/bert-base-uncased_clinical-ner/resolve/main/config.json HTTP/1.1\" 200 0\n",
      "DEBUG:urllib3.connectionpool:https://huggingface.co:443 \"HEAD /sschet/bert-base-uncased_clinical-ner/resolve/main/vocab.txt HTTP/1.1\" 200 0\n"
     ]
    },
    {
     "name": "stdout",
     "output_type": "stream",
     "text": [
      "7 701 762 1\n",
      "annotated_num: 9\n",
      "[['relapsing', 'problem'], ['relapsing', 'B-RRMS']]\n",
      "[['multiple', 'problem'], ['multiple', 'I-RRMS']]\n",
      "[['sclerosis', 'problem'], ['sclerosis', 'I-RRMS']]\n",
      "[['EDSS', 'test'], ['EDSS', 'B-EDSS']]\n",
      "[['sclerosis', 'problem'], ['sclerosis', 'I-RRMS']]\n",
      "[['Multiple', 'problem'], ['Multiple', 'B-RRMS']]\n",
      "[['sclerosis', 'problem'], ['sclerosis', 'I-RRMS']]\n",
      "inscope: 7\n",
      "change_00010 annotator2_change_00010_correct\n",
      "change_00010.txt\n"
     ]
    },
    {
     "name": "stderr",
     "output_type": "stream",
     "text": [
      "DEBUG:urllib3.connectionpool:https://huggingface.co:443 \"HEAD /sschet/bert-base-uncased_clinical-ner/resolve/main/config.json HTTP/1.1\" 200 0\n",
      "DEBUG:urllib3.connectionpool:https://huggingface.co:443 \"HEAD /sschet/bert-base-uncased_clinical-ner/resolve/main/vocab.txt HTTP/1.1\" 200 0\n"
     ]
    },
    {
     "name": "stdout",
     "output_type": "stream",
     "text": [
      "1 237 200 0\n",
      "annotated_num: 1\n",
      "[['SPMS', 'test'], ['SPMS', 'B-SPMS']]\n",
      "inscope: 1\n",
      "change_00011 annotator2_change_00011_correct\n",
      "change_00011.txt\n"
     ]
    },
    {
     "name": "stderr",
     "output_type": "stream",
     "text": [
      "DEBUG:urllib3.connectionpool:https://huggingface.co:443 \"HEAD /sschet/bert-base-uncased_clinical-ner/resolve/main/config.json HTTP/1.1\" 200 0\n",
      "DEBUG:urllib3.connectionpool:https://huggingface.co:443 \"HEAD /sschet/bert-base-uncased_clinical-ner/resolve/main/vocab.txt HTTP/1.1\" 200 0\n"
     ]
    },
    {
     "name": "stdout",
     "output_type": "stream",
     "text": [
      "4 166 199 2\n",
      "annotated_num: 6\n",
      "[['SECONDARY', 'problem'], ['SECONDARY', 'B-SPMS']]\n",
      "[['PROGRESSIVE', 'problem'], ['PROGRESSIVE', 'I-SPMS']]\n",
      "[['MULTIPLE', 'problem'], ['MULTIPLE', 'I-SPMS']]\n",
      "[['SCLEROSIS', 'problem'], ['SCLEROSIS', 'I-SPMS']]\n",
      "inscope: 4\n",
      "change_00012 annotator2_change_00012_correct\n",
      "change_00012.txt\n"
     ]
    },
    {
     "name": "stderr",
     "output_type": "stream",
     "text": [
      "DEBUG:urllib3.connectionpool:https://huggingface.co:443 \"HEAD /sschet/bert-base-uncased_clinical-ner/resolve/main/config.json HTTP/1.1\" 200 0\n",
      "DEBUG:urllib3.connectionpool:https://huggingface.co:443 \"HEAD /sschet/bert-base-uncased_clinical-ner/resolve/main/vocab.txt HTTP/1.1\" 200 0\n"
     ]
    },
    {
     "name": "stdout",
     "output_type": "stream",
     "text": [
      "19 754 579 8\n",
      "annotated_num: 27\n",
      "[['-', 'problem'], ['-', 'I-RRMS']]\n",
      "[['demyelinating', 'problem'], ['demyelinating', 'I-RRMS']]\n",
      "[['disease', 'problem'], ['disease', 'I-RRMS']]\n",
      "[['MS', 'problem'], ['MS', 'I-RRMS']]\n",
      "[['-', 'problem'], ['-', 'I-RRMS']]\n",
      "[['multiple', 'problem'], ['multiple', 'I-RRMS']]\n",
      "[['sclerosis', 'problem'], ['sclerosis', 'I-RRMS']]\n",
      "[['flare', 'problem'], ['flare', 'B-RRMS']]\n",
      "[['EDSS', 'test'], ['EDSS', 'B-EDSS']]\n",
      "[['MS', 'problem'], ['MS', 'B-RRMS']]\n",
      "[['of', 'problem'], ['of', 'I-RRMS']]\n",
      "[['progressive', 'problem'], ['progressive', 'I-RRMS']]\n",
      "[['neurological', 'test'], ['neurological', 'I-RRMS']]\n",
      "[[',', 'problem'], [',', 'I-RRMS']]\n",
      "[['with', 'test'], ['with', 'I-RRMS']]\n",
      "[['multiple', 'problem'], ['multiple', 'I-RRMS']]\n",
      "[['sclerosis', 'problem'], ['sclerosis', 'I-RRMS']]\n",
      "[['disease', 'problem'], ['disease', 'I-RRMS']]\n",
      "[['disease', 'problem'], ['disease', 'I-RRMS']]\n",
      "inscope: 19\n",
      "change_00013 annotator2_change_00013_correct\n",
      "change_00013.txt\n"
     ]
    },
    {
     "name": "stderr",
     "output_type": "stream",
     "text": [
      "DEBUG:urllib3.connectionpool:https://huggingface.co:443 \"HEAD /sschet/bert-base-uncased_clinical-ner/resolve/main/config.json HTTP/1.1\" 200 0\n",
      "DEBUG:urllib3.connectionpool:https://huggingface.co:443 \"HEAD /sschet/bert-base-uncased_clinical-ner/resolve/main/vocab.txt HTTP/1.1\" 200 0\n"
     ]
    },
    {
     "name": "stdout",
     "output_type": "stream",
     "text": [
      "17 686 888 1\n",
      "annotated_num: 18\n",
      "[['multiple', 'problem'], ['multiple', 'B-PPMS']]\n",
      "[['sclerosis', 'problem'], ['sclerosis', 'I-PPMS']]\n",
      "[['multiple', 'problem'], ['multiple', 'B-PPMS']]\n",
      "[['sclerosis', 'problem'], ['sclerosis', 'I-PPMS']]\n",
      "[['primary', 'problem'], ['primary', 'B-PPMS']]\n",
      "[['progressive', 'problem'], ['progressive', 'I-PPMS']]\n",
      "[['disease', 'problem'], ['disease', 'I-PPMS']]\n",
      "[['primary', 'problem'], ['primary', 'B-PPMS']]\n",
      "[['progressive', 'problem'], ['progressive', 'I-PPMS']]\n",
      "[['MS', 'problem'], ['MS', 'I-PPMS']]\n",
      "[['EDSS', 'test'], ['EDSS', 'B-EDSS']]\n",
      "[['primary', 'problem'], ['primary', 'B-PPMS']]\n",
      "[['progressive', 'problem'], ['progressive', 'I-PPMS']]\n",
      "[['MS', 'problem'], ['MS', 'I-PPMS']]\n",
      "[['MS', 'problem'], ['MS', 'B-PPMS']]\n",
      "[['primary', 'problem'], ['primary', 'B-PPMS']]\n",
      "[['progressive', 'problem'], ['progressive', 'I-PPMS']]\n",
      "inscope: 17\n",
      "change_00014 annotator2_change_00014_correct\n",
      "change_00014.txt\n"
     ]
    },
    {
     "name": "stderr",
     "output_type": "stream",
     "text": [
      "DEBUG:urllib3.connectionpool:https://huggingface.co:443 \"HEAD /sschet/bert-base-uncased_clinical-ner/resolve/main/config.json HTTP/1.1\" 200 0\n",
      "DEBUG:urllib3.connectionpool:https://huggingface.co:443 \"HEAD /sschet/bert-base-uncased_clinical-ner/resolve/main/vocab.txt HTTP/1.1\" 200 0\n"
     ]
    },
    {
     "name": "stdout",
     "output_type": "stream",
     "text": [
      "4 262 368 4\n",
      "annotated_num: 10\n",
      "[['MS', 'problem'], ['MS', 'B-RRMS']]\n",
      "[['MS', 'problem'], ['MS', 'B-RRMS']]\n",
      "[['MULTIPLE', 'problem'], ['MULTIPLE', 'I-RRMS']]\n",
      "[['SCLEROSIS', 'problem'], ['SCLEROSIS', 'I-RRMS']]\n",
      "inscope: 4\n",
      "change_00015 annotator2_change_00015_correct\n",
      "change_00015.txt\n"
     ]
    },
    {
     "name": "stderr",
     "output_type": "stream",
     "text": [
      "DEBUG:urllib3.connectionpool:https://huggingface.co:443 \"HEAD /sschet/bert-base-uncased_clinical-ner/resolve/main/config.json HTTP/1.1\" 200 0\n",
      "DEBUG:urllib3.connectionpool:https://huggingface.co:443 \"HEAD /sschet/bert-base-uncased_clinical-ner/resolve/main/vocab.txt HTTP/1.1\" 200 0\n"
     ]
    },
    {
     "name": "stdout",
     "output_type": "stream",
     "text": [
      "17 277 457 11\n",
      "annotated_num: 28\n",
      "[['-', 'problem'], ['-', 'I-RRMS']]\n",
      "[['multiple', 'problem'], ['multiple', 'I-RRMS']]\n",
      "[['sclerosis', 'problem'], ['sclerosis', 'I-RRMS']]\n",
      "[['clinical', 'problem'], ['clinical', 'I-Temporal_history_of_relapse']]\n",
      "[['relapse', 'problem'], ['relapse', 'I-Temporal_history_of_relapse']]\n",
      "[['multiple', 'problem'], ['multiple', 'B-RRMS']]\n",
      "[['sclerosis', 'problem'], ['sclerosis', 'I-RRMS']]\n",
      "[['multiple', 'problem'], ['multiple', 'B-RRMS']]\n",
      "[['sclerosis', 'problem'], ['sclerosis', 'I-RRMS']]\n",
      "[['-', 'problem'], ['-', 'I-RRMS']]\n",
      "[['EDSS', 'test'], ['EDSS', 'B-EDSS']]\n",
      "[['-', 'problem'], ['-', 'I-Temporal_history_of_relapse']]\n",
      "[['multiple', 'problem'], ['multiple', 'I-RRMS']]\n",
      "[['sclerosis', 'problem'], ['sclerosis', 'I-RRMS']]\n",
      "[['relapse', 'problem'], ['relapse', 'B-Temporal_history_of_relapse']]\n",
      "[['MS', 'problem'], ['MS', 'B-RRMS']]\n",
      "[['1', 'problem'], ['1', 'B-EDSS_Value']]\n",
      "inscope: 17\n",
      "change_00016 annotator2_change_00016_correct\n",
      "change_00016.txt\n"
     ]
    },
    {
     "name": "stderr",
     "output_type": "stream",
     "text": [
      "DEBUG:urllib3.connectionpool:https://huggingface.co:443 \"HEAD /sschet/bert-base-uncased_clinical-ner/resolve/main/config.json HTTP/1.1\" 200 0\n",
      "DEBUG:urllib3.connectionpool:https://huggingface.co:443 \"HEAD /sschet/bert-base-uncased_clinical-ner/resolve/main/vocab.txt HTTP/1.1\" 200 0\n"
     ]
    },
    {
     "name": "stdout",
     "output_type": "stream",
     "text": [
      "3 421 397 5\n",
      "annotated_num: 10\n",
      "[['MS', 'problem'], ['MS', 'B-RRMS']]\n",
      "[['MS', 'problem'], ['MS', 'B-RRMS']]\n",
      "[['SCLEROSIS', 'problem'], ['SCLEROSIS', 'I-RRMS']]\n",
      "inscope: 3\n",
      "change_00017 annotator2_change_00017_correct\n",
      "change_00017.txt\n"
     ]
    },
    {
     "name": "stderr",
     "output_type": "stream",
     "text": [
      "DEBUG:urllib3.connectionpool:https://huggingface.co:443 \"HEAD /sschet/bert-base-uncased_clinical-ner/resolve/main/config.json HTTP/1.1\" 200 0\n",
      "DEBUG:urllib3.connectionpool:https://huggingface.co:443 \"HEAD /sschet/bert-base-uncased_clinical-ner/resolve/main/vocab.txt HTTP/1.1\" 200 0\n"
     ]
    },
    {
     "name": "stdout",
     "output_type": "stream",
     "text": [
      "15 350 547 12\n",
      "annotated_num: 27\n",
      "[['-', 'problem'], ['-', 'I-RRMS']]\n",
      "[['multiple', 'problem'], ['multiple', 'I-RRMS']]\n",
      "[['sclerosis', 'problem'], ['sclerosis', 'I-RRMS']]\n",
      "[['of', 'test'], ['of', 'I-SPMS']]\n",
      "[['multiple', 'problem'], ['multiple', 'I-SPMS']]\n",
      "[['sclerosis', 'problem'], ['sclerosis', 'I-SPMS']]\n",
      "[['EDSS', 'test'], ['EDSS', 'B-EDSS']]\n",
      "[['of', 'test'], ['of', 'I-SPMS']]\n",
      "[['secondary', 'problem'], ['secondary', 'I-SPMS']]\n",
      "[['progressive', 'problem'], ['progressive', 'I-SPMS']]\n",
      "[['multiple', 'problem'], ['multiple', 'I-SPMS']]\n",
      "[['sclerosis', 'problem'], ['sclerosis', 'I-SPMS']]\n",
      "[['with', 'test'], ['with', 'I-SPMS']]\n",
      "[['stable', 'problem'], ['stable', 'I-SPMS']]\n",
      "[['disease', 'problem'], ['disease', 'I-SPMS']]\n",
      "inscope: 15\n",
      "change_00018 annotator2_change_00018_correct\n",
      "change_00018.txt\n"
     ]
    },
    {
     "name": "stderr",
     "output_type": "stream",
     "text": [
      "DEBUG:urllib3.connectionpool:https://huggingface.co:443 \"HEAD /sschet/bert-base-uncased_clinical-ner/resolve/main/config.json HTTP/1.1\" 200 0\n"
     ]
    },
    {
     "name": "stdout",
     "output_type": "stream",
     "text": [
      "16 781 712 5\n",
      "annotated_num: 22\n",
      "[['-', 'problem'], ['-', 'I-RRMS']]\n",
      "[['multiple', 'problem'], ['multiple', 'I-RRMS']]\n",
      "[['sclerosis', 'problem'], ['sclerosis', 'I-RRMS']]\n",
      "[['MS', 'problem'], ['MS', 'B-RRMS']]\n",
      "[['MS', 'problem'], ['MS', 'B-RRMS']]\n",
      "[['last', 'problem'], ['last', 'B-Temporal_history_of_relapse']]\n",
      "[['relapse', 'problem'], ['relapse', 'I-Temporal_history_of_relapse']]\n",
      "[['MS', 'problem'], ['MS', 'B-RRMS']]\n",
      "[['multiple', 'problem'], ['multiple', 'B-RRMS']]\n",
      "[['sclerosis', 'problem'], ['sclerosis', 'I-RRMS']]\n",
      "[['-', 'problem'], ['-', 'I-RRMS']]\n",
      "[['EDSS', 'test'], ['EDSS', 'B-EDSS']]\n",
      "[['multiple', 'problem'], ['multiple', 'I-RRMS']]\n",
      "[['sclerosis', 'problem'], ['sclerosis', 'I-RRMS']]\n",
      "[['MS', 'problem'], ['MS', 'B-RRMS']]\n",
      "[['MS', 'problem'], ['MS', 'B-RRMS']]\n",
      "inscope: 16\n",
      "change_00019 annotator2_change_00019_correct\n",
      "change_00019.txt\n"
     ]
    },
    {
     "name": "stderr",
     "output_type": "stream",
     "text": [
      "DEBUG:urllib3.connectionpool:https://huggingface.co:443 \"HEAD /sschet/bert-base-uncased_clinical-ner/resolve/main/vocab.txt HTTP/1.1\" 200 0\n",
      "DEBUG:urllib3.connectionpool:https://huggingface.co:443 \"HEAD /sschet/bert-base-uncased_clinical-ner/resolve/main/config.json HTTP/1.1\" 200 0\n",
      "DEBUG:urllib3.connectionpool:https://huggingface.co:443 \"HEAD /sschet/bert-base-uncased_clinical-ner/resolve/main/vocab.txt HTTP/1.1\" 200 0\n"
     ]
    },
    {
     "name": "stdout",
     "output_type": "stream",
     "text": [
      "2 93 168 6\n",
      "annotated_num: 8\n",
      "[['MULTIPLE', 'problem'], ['MULTIPLE', 'I-RRMS']]\n",
      "[['SCLEROSIS', 'problem'], ['SCLEROSIS', 'I-RRMS']]\n",
      "inscope: 2\n",
      "change_00020 annotator2_change_00020_correct\n",
      "change_00020.txt\n"
     ]
    },
    {
     "name": "stderr",
     "output_type": "stream",
     "text": [
      "DEBUG:urllib3.connectionpool:https://huggingface.co:443 \"HEAD /sschet/bert-base-uncased_clinical-ner/resolve/main/config.json HTTP/1.1\" 200 0\n",
      "DEBUG:urllib3.connectionpool:https://huggingface.co:443 \"HEAD /sschet/bert-base-uncased_clinical-ner/resolve/main/vocab.txt HTTP/1.1\" 200 0\n"
     ]
    },
    {
     "name": "stdout",
     "output_type": "stream",
     "text": [
      "6 113 268 4\n",
      "annotated_num: 11\n",
      "[['MS', 'problem'], ['MS', 'B-RRMS']]\n",
      "[['MULTIPLE', 'problem'], ['MULTIPLE', 'B-RRMS']]\n",
      "[['SCLEROSIS', 'problem'], ['SCLEROSIS', 'I-RRMS']]\n",
      "[['MS', 'problem'], ['MS', 'B-RRMS']]\n",
      "[['SCLEROSIS', 'problem'], ['SCLEROSIS', 'I-RRMS']]\n",
      "[['MS', 'problem'], ['MS', 'B-RRMS']]\n",
      "inscope: 6\n",
      "change_00021 annotator2_change_00021_correct\n",
      "change_00021.txt\n"
     ]
    },
    {
     "name": "stderr",
     "output_type": "stream",
     "text": [
      "DEBUG:urllib3.connectionpool:https://huggingface.co:443 \"HEAD /sschet/bert-base-uncased_clinical-ner/resolve/main/config.json HTTP/1.1\" 200 0\n",
      "DEBUG:urllib3.connectionpool:https://huggingface.co:443 \"HEAD /sschet/bert-base-uncased_clinical-ner/resolve/main/vocab.txt HTTP/1.1\" 200 0\n"
     ]
    },
    {
     "name": "stdout",
     "output_type": "stream",
     "text": [
      "26 382 592 13\n",
      "annotated_num: 41\n",
      "[['progressive', 'problem'], ['progressive', 'I-PRMS']]\n",
      "[['multiple', 'problem'], ['multiple', 'I-PRMS']]\n",
      "[['sclerosis', 'problem'], ['sclerosis', 'I-PRMS']]\n",
      "[['multiple', 'problem'], ['multiple', 'I-SPMS']]\n",
      "[['sclerosis', 'problem'], ['sclerosis', 'I-SPMS']]\n",
      "[['with', 'problem'], ['with', 'I-SPMS']]\n",
      "[['a', 'problem'], ['a', 'I-SPMS']]\n",
      "[['secondary', 'problem'], ['secondary', 'I-SPMS']]\n",
      "[['progressive', 'problem'], ['progressive', 'I-SPMS']]\n",
      "[['disease', 'problem'], ['disease', 'I-SPMS']]\n",
      "[['EDSS', 'test'], ['EDSS', 'B-EDSS']]\n",
      "[['2', 'problem'], ['2', 'B-EDSS_Date']]\n",
      "[['multiple', 'problem'], ['multiple', 'B-SPMS']]\n",
      "[['sclerosis', 'problem'], ['sclerosis', 'I-SPMS']]\n",
      "[['multiple', 'problem'], ['multiple', 'B-SPMS']]\n",
      "[['sclerosis', 'problem'], ['sclerosis', 'I-SPMS']]\n",
      "[['multiple', 'problem'], ['multiple', 'I-SPMS']]\n",
      "[['sclerosis', 'problem'], ['sclerosis', 'I-SPMS']]\n",
      "[['in', 'problem'], ['in', 'I-SPMS']]\n",
      "[['the', 'problem'], ['the', 'I-SPMS']]\n",
      "[['past', 'problem'], ['past', 'I-SPMS']]\n",
      "[['with', 'problem'], ['with', 'I-SPMS']]\n",
      "[['secondary', 'problem'], ['secondary', 'I-SPMS']]\n",
      "[['progressive', 'problem'], ['progressive', 'I-SPMS']]\n",
      "[['disease', 'problem'], ['disease', 'I-SPMS']]\n",
      "[['course', 'problem'], ['course', 'I-SPMS']]\n",
      "inscope: 26\n",
      "change_00022 annotator2_change_00022_correct\n",
      "change_00022.txt\n"
     ]
    },
    {
     "name": "stderr",
     "output_type": "stream",
     "text": [
      "DEBUG:urllib3.connectionpool:https://huggingface.co:443 \"HEAD /sschet/bert-base-uncased_clinical-ner/resolve/main/config.json HTTP/1.1\" 200 0\n",
      "DEBUG:urllib3.connectionpool:https://huggingface.co:443 \"HEAD /sschet/bert-base-uncased_clinical-ner/resolve/main/vocab.txt HTTP/1.1\" 200 0\n",
      "DEBUG:urllib3.connectionpool:https://huggingface.co:443 \"HEAD /sschet/bert-base-uncased_clinical-ner/resolve/main/config.json HTTP/1.1\" 200 0\n"
     ]
    },
    {
     "name": "stdout",
     "output_type": "stream",
     "text": [
      "11 421 853 6\n",
      "annotated_num: 17\n",
      "[['secondary', 'problem'], ['secondary', 'B-SPMS']]\n",
      "[['progressive', 'problem'], ['progressive', 'I-SPMS']]\n",
      "[['MS', 'problem'], ['MS', 'I-SPMS']]\n",
      "[['multiple', 'problem'], ['multiple', 'B-SPMS']]\n",
      "[['sclerosis', 'problem'], ['sclerosis', 'I-SPMS']]\n",
      "[['EDSS', 'test'], ['EDSS', 'B-EDSS']]\n",
      "[['Secondary', 'problem'], ['Secondary', 'B-SPMS']]\n",
      "[['progressive', 'problem'], ['progressive', 'I-SPMS']]\n",
      "[['MS', 'problem'], ['MS', 'I-SPMS']]\n",
      "[['suspected', 'problem'], ['suspected', 'I-Temporal_history_of_relapse']]\n",
      "[['relpases', 'problem'], ['relpases', 'I-Temporal_history_of_relapse']]\n",
      "inscope: 11\n",
      "change_00023 annotator2_change_00023_correct\n",
      "change_00023.txt\n"
     ]
    },
    {
     "name": "stderr",
     "output_type": "stream",
     "text": [
      "DEBUG:urllib3.connectionpool:https://huggingface.co:443 \"HEAD /sschet/bert-base-uncased_clinical-ner/resolve/main/vocab.txt HTTP/1.1\" 200 0\n"
     ]
    },
    {
     "name": "stdout",
     "output_type": "stream",
     "text": [
      "2 48 74 4\n",
      "annotated_num: 6\n",
      "[['MULTIPLE', 'problem'], ['MULTIPLE', 'I-RRMS']]\n",
      "[['SCLEROSIS', 'problem'], ['SCLEROSIS', 'I-RRMS']]\n",
      "inscope: 2\n",
      "change_00024 annotator2_change_00024_correct\n",
      "change_00024.txt\n"
     ]
    },
    {
     "name": "stderr",
     "output_type": "stream",
     "text": [
      "DEBUG:urllib3.connectionpool:https://huggingface.co:443 \"HEAD /sschet/bert-base-uncased_clinical-ner/resolve/main/config.json HTTP/1.1\" 200 0\n",
      "DEBUG:urllib3.connectionpool:https://huggingface.co:443 \"HEAD /sschet/bert-base-uncased_clinical-ner/resolve/main/vocab.txt HTTP/1.1\" 200 0\n"
     ]
    },
    {
     "name": "stdout",
     "output_type": "stream",
     "text": [
      "12 464 859 2\n",
      "annotated_num: 15\n",
      "[['multiple', 'problem'], ['multiple', 'B-RRMS']]\n",
      "[['sclerosis', 'problem'], ['sclerosis', 'I-RRMS']]\n",
      "[['multiple', 'problem'], ['multiple', 'B-RRMS']]\n",
      "[['sclerosis', 'problem'], ['sclerosis', 'I-RRMS']]\n",
      "[['multiple', 'problem'], ['multiple', 'B-RRMS']]\n",
      "[['sclerosis', 'problem'], ['sclerosis', 'I-RRMS']]\n",
      "[['EDSS', 'test'], ['EDSS', 'B-EDSS']]\n",
      "[['-', 'test'], ['-', 'I-RRMS']]\n",
      "[['multiple', 'problem'], ['multiple', 'I-RRMS']]\n",
      "[['sclerosis', 'problem'], ['sclerosis', 'I-RRMS']]\n",
      "[['multiple', 'problem'], ['multiple', 'B-RRMS']]\n",
      "[['sclerosis', 'problem'], ['sclerosis', 'I-RRMS']]\n",
      "inscope: 12\n",
      "change_00025 annotator2_change_00025_correct\n",
      "change_00025.txt\n"
     ]
    },
    {
     "name": "stderr",
     "output_type": "stream",
     "text": [
      "DEBUG:urllib3.connectionpool:https://huggingface.co:443 \"HEAD /sschet/bert-base-uncased_clinical-ner/resolve/main/config.json HTTP/1.1\" 200 0\n",
      "DEBUG:urllib3.connectionpool:https://huggingface.co:443 \"HEAD /sschet/bert-base-uncased_clinical-ner/resolve/main/vocab.txt HTTP/1.1\" 200 0\n"
     ]
    },
    {
     "name": "stdout",
     "output_type": "stream",
     "text": [
      "6 56 305 7\n",
      "annotated_num: 13\n",
      "[['MULTIPLE', 'problem'], ['MULTIPLE', 'I-RRMS']]\n",
      "[['SCLEROSIS', 'problem'], ['SCLEROSIS', 'I-RRMS']]\n",
      "[['ms', 'problem'], ['ms', 'B-RRMS']]\n",
      "[['MS', 'problem'], ['MS', 'B-RRMS']]\n",
      "[['MULTIPLE', 'problem'], ['MULTIPLE', 'I-RRMS']]\n",
      "[['SCLEROSIS', 'problem'], ['SCLEROSIS', 'I-RRMS']]\n",
      "inscope: 6\n",
      "change_00026 annotator2_change_00026_correct\n",
      "change_00026.txt\n"
     ]
    },
    {
     "name": "stderr",
     "output_type": "stream",
     "text": [
      "DEBUG:urllib3.connectionpool:https://huggingface.co:443 \"HEAD /sschet/bert-base-uncased_clinical-ner/resolve/main/config.json HTTP/1.1\" 200 0\n",
      "DEBUG:urllib3.connectionpool:https://huggingface.co:443 \"HEAD /sschet/bert-base-uncased_clinical-ner/resolve/main/vocab.txt HTTP/1.1\" 200 0\n"
     ]
    },
    {
     "name": "stdout",
     "output_type": "stream",
     "text": [
      "13 527 568 6\n",
      "annotated_num: 19\n",
      "[['-', 'problem'], ['-', 'I-RRMS']]\n",
      "[['multiple', 'problem'], ['multiple', 'I-RRMS']]\n",
      "[['sclerosis', 'problem'], ['sclerosis', 'I-RRMS']]\n",
      "[['EDSS', 'test'], ['EDSS', 'B-EDSS']]\n",
      "[['6', 'problem'], ['6', 'B-EDSS_Value']]\n",
      "[['of', 'test'], ['of', 'I-SPMS']]\n",
      "[['secondary', 'problem'], ['secondary', 'I-SPMS']]\n",
      "[['progressive', 'problem'], ['progressive', 'I-SPMS']]\n",
      "[['multiple', 'problem'], ['multiple', 'I-SPMS']]\n",
      "[['sclerosis', 'problem'], ['sclerosis', 'I-SPMS']]\n",
      "[['active', 'problem'], ['active', 'I-SPMS']]\n",
      "[['disease', 'problem'], ['disease', 'I-SPMS']]\n",
      "[['with', 'problem'], ['with', 'I-SPMS']]\n",
      "inscope: 13\n",
      "change_00027 annotator2_change_00027_correct\n",
      "change_00027.txt\n"
     ]
    },
    {
     "name": "stderr",
     "output_type": "stream",
     "text": [
      "DEBUG:urllib3.connectionpool:https://huggingface.co:443 \"HEAD /sschet/bert-base-uncased_clinical-ner/resolve/main/config.json HTTP/1.1\" 200 0\n",
      "DEBUG:urllib3.connectionpool:https://huggingface.co:443 \"HEAD /sschet/bert-base-uncased_clinical-ner/resolve/main/vocab.txt HTTP/1.1\" 200 0\n"
     ]
    },
    {
     "name": "stdout",
     "output_type": "stream",
     "text": [
      "8 711 705 2\n",
      "annotated_num: 11\n",
      "[['multiple', 'problem'], ['multiple', 'B-RRMS']]\n",
      "[['sclerosis', 'problem'], ['sclerosis', 'I-RRMS']]\n",
      "[['remitting', 'problem'], ['remitting', 'I-RRMS']]\n",
      "[['multiple', 'problem'], ['multiple', 'I-RRMS']]\n",
      "[['sclerosis', 'problem'], ['sclerosis', 'I-RRMS']]\n",
      "[['EDSS', 'test'], ['EDSS', 'B-EDSS']]\n",
      "[['multiple', 'problem'], ['multiple', 'B-RRMS']]\n",
      "[['sclerosis', 'problem'], ['sclerosis', 'I-RRMS']]\n",
      "inscope: 8\n",
      "change_00028 annotator2_change_00028_correct\n",
      "change_00028.txt\n"
     ]
    },
    {
     "name": "stderr",
     "output_type": "stream",
     "text": [
      "DEBUG:urllib3.connectionpool:https://huggingface.co:443 \"HEAD /sschet/bert-base-uncased_clinical-ner/resolve/main/config.json HTTP/1.1\" 200 0\n",
      "DEBUG:urllib3.connectionpool:https://huggingface.co:443 \"HEAD /sschet/bert-base-uncased_clinical-ner/resolve/main/vocab.txt HTTP/1.1\" 200 0\n"
     ]
    },
    {
     "name": "stdout",
     "output_type": "stream",
     "text": [
      "14 379 477 6\n",
      "annotated_num: 21\n",
      "[['-', 'test'], ['-', 'I-RRMS']]\n",
      "[['multiple', 'problem'], ['multiple', 'I-RRMS']]\n",
      "[['sclerosis', 'problem'], ['sclerosis', 'I-RRMS']]\n",
      "[['multiple', 'problem'], ['multiple', 'B-SPMS']]\n",
      "[['sclerosis', 'problem'], ['sclerosis', 'I-SPMS']]\n",
      "[['EDSS', 'test'], ['EDSS', 'B-EDSS']]\n",
      "[['6', 'problem'], ['6', 'B-EDSS_Value']]\n",
      "[['of', 'test'], ['of', 'I-SPMS']]\n",
      "[['secondary', 'problem'], ['secondary', 'I-SPMS']]\n",
      "[['progressive', 'problem'], ['progressive', 'I-SPMS']]\n",
      "[['sclerosis', 'problem'], ['sclerosis', 'I-SPMS']]\n",
      "[['with', 'test'], ['with', 'I-SPMS']]\n",
      "[['stable', 'problem'], ['stable', 'I-SPMS']]\n",
      "[['disease', 'problem'], ['disease', 'I-SPMS']]\n",
      "inscope: 14\n",
      "change_00029 annotator2_change_00029_correct\n",
      "change_00029.txt\n"
     ]
    },
    {
     "name": "stderr",
     "output_type": "stream",
     "text": [
      "DEBUG:urllib3.connectionpool:https://huggingface.co:443 \"HEAD /sschet/bert-base-uncased_clinical-ner/resolve/main/config.json HTTP/1.1\" 200 0\n",
      "DEBUG:urllib3.connectionpool:https://huggingface.co:443 \"HEAD /sschet/bert-base-uncased_clinical-ner/resolve/main/vocab.txt HTTP/1.1\" 200 0\n"
     ]
    },
    {
     "name": "stdout",
     "output_type": "stream",
     "text": [
      "9 367 583 9\n",
      "annotated_num: 20\n",
      "[['multiple', 'problem'], ['multiple', 'I-RRMS']]\n",
      "[['sclerosis', 'problem'], ['sclerosis', 'I-RRMS']]\n",
      "[['multiple', 'problem'], ['multiple', 'B-RRMS']]\n",
      "[['sclerosis', 'problem'], ['sclerosis', 'I-RRMS']]\n",
      "[['multiple', 'problem'], ['multiple', 'I-RRMS']]\n",
      "[['sclerosis', 'problem'], ['sclerosis', 'I-RRMS']]\n",
      "[['active', 'problem'], ['active', 'B-RRMS']]\n",
      "[['disease', 'problem'], ['disease', 'I-RRMS']]\n",
      "[['relapse', 'problem'], ['relapse', 'B-RRMS']]\n",
      "inscope: 9\n",
      "change_00030 annotator2_change_00030_correct\n",
      "change_00030.txt\n"
     ]
    },
    {
     "name": "stderr",
     "output_type": "stream",
     "text": [
      "DEBUG:urllib3.connectionpool:https://huggingface.co:443 \"HEAD /sschet/bert-base-uncased_clinical-ner/resolve/main/config.json HTTP/1.1\" 200 0\n",
      "DEBUG:urllib3.connectionpool:https://huggingface.co:443 \"HEAD /sschet/bert-base-uncased_clinical-ner/resolve/main/vocab.txt HTTP/1.1\" 200 0\n"
     ]
    },
    {
     "name": "stdout",
     "output_type": "stream",
     "text": [
      "17 126 672 6\n",
      "annotated_num: 25\n",
      "[['multiple', 'problem'], ['multiple', 'B-SPMS']]\n",
      "[['sclerosis', 'problem'], ['sclerosis', 'I-SPMS']]\n",
      "[['Multiple', 'problem'], ['Multiple', 'B-SPMS']]\n",
      "[['sclerosis', 'problem'], ['sclerosis', 'I-SPMS']]\n",
      "[['Multiple', 'problem'], ['Multiple', 'B-SPMS']]\n",
      "[['secondary', 'problem'], ['secondary', 'I-SPMS']]\n",
      "[['progressive', 'problem'], ['progressive', 'I-SPMS']]\n",
      "[['sclerosis', 'problem'], ['sclerosis', 'I-SPMS']]\n",
      "[['EDSS', 'test'], ['EDSS', 'B-EDSS']]\n",
      "[['progressive', 'problem'], ['progressive', 'B-SPMS']]\n",
      "[['disability', 'problem'], ['disability', 'I-SPMS']]\n",
      "[['multiple', 'problem'], ['multiple', 'I-SPMS']]\n",
      "[['EDSS', 'test'], ['EDSS', 'B-EDSS']]\n",
      "[['Multiple', 'problem'], ['Multiple', 'B-SPMS']]\n",
      "[['sclerosis', 'problem'], ['sclerosis', 'I-SPMS']]\n",
      "[['secondary', 'problem'], ['secondary', 'I-SPMS']]\n",
      "[['progressive', 'problem'], ['progressive', 'I-SPMS']]\n",
      "inscope: 17\n",
      "change_00031 annotator2_change_00031_correct\n",
      "change_00031.txt\n"
     ]
    },
    {
     "name": "stderr",
     "output_type": "stream",
     "text": [
      "DEBUG:urllib3.connectionpool:https://huggingface.co:443 \"HEAD /sschet/bert-base-uncased_clinical-ner/resolve/main/config.json HTTP/1.1\" 200 0\n",
      "DEBUG:urllib3.connectionpool:https://huggingface.co:443 \"HEAD /sschet/bert-base-uncased_clinical-ner/resolve/main/vocab.txt HTTP/1.1\" 200 0\n",
      "DEBUG:urllib3.connectionpool:https://huggingface.co:443 \"HEAD /sschet/bert-base-uncased_clinical-ner/resolve/main/config.json HTTP/1.1\" 200 0\n"
     ]
    },
    {
     "name": "stdout",
     "output_type": "stream",
     "text": [
      "20 428 580 12\n",
      "annotated_num: 34\n",
      "[['-', 'problem'], ['-', 'I-RRMS']]\n",
      "[['multiple', 'problem'], ['multiple', 'I-RRMS']]\n",
      "[['sclerosis', 'problem'], ['sclerosis', 'I-RRMS']]\n",
      "[['-', 'problem'], ['-', 'I-RRMS']]\n",
      "[['multiple', 'problem'], ['multiple', 'I-RRMS']]\n",
      "[['sclerosis', 'problem'], ['sclerosis', 'I-RRMS']]\n",
      "[['she', 'problem'], ['she', 'B-Temporal_history_of_relapse']]\n",
      "[['another', 'problem'], ['another', 'I-Temporal_history_of_relapse']]\n",
      "[['relapse', 'problem'], ['relapse', 'I-Temporal_history_of_relapse']]\n",
      "[['of', 'problem'], ['of', 'I-Temporal_history_of_relapse']]\n",
      "[['her', 'problem'], ['her', 'I-Temporal_history_of_relapse']]\n",
      "[['MS', 'problem'], ['MS', 'I-Temporal_history_of_relapse']]\n",
      "[['a', 'problem'], ['a', 'I-Temporal_history_of_relapse']]\n",
      "[['UTI', 'problem'], ['UTI', 'I-Temporal_history_of_relapse']]\n",
      "[['infection', 'problem'], ['infection', 'I-Temporal_history_of_relapse']]\n",
      "[['EDSS', 'test'], ['EDSS', 'B-EDSS']]\n",
      "[['multiple', 'problem'], ['multiple', 'B-RRMS']]\n",
      "[['sclerosis', 'problem'], ['sclerosis', 'I-RRMS']]\n",
      "[['-', 'problem'], ['-', 'I-RRMS']]\n",
      "[['sclerosis', 'problem'], ['sclerosis', 'I-RRMS']]\n",
      "inscope: 20\n",
      "change_00032 annotator2_change_00032_correct\n",
      "change_00032.txt\n"
     ]
    },
    {
     "name": "stderr",
     "output_type": "stream",
     "text": [
      "DEBUG:urllib3.connectionpool:https://huggingface.co:443 \"HEAD /sschet/bert-base-uncased_clinical-ner/resolve/main/vocab.txt HTTP/1.1\" 200 0\n",
      "DEBUG:urllib3.connectionpool:https://huggingface.co:443 \"HEAD /sschet/bert-base-uncased_clinical-ner/resolve/main/config.json HTTP/1.1\" 200 0\n"
     ]
    },
    {
     "name": "stdout",
     "output_type": "stream",
     "text": [
      "12 344 289 5\n",
      "annotated_num: 18\n",
      "[['MULTIPLE', 'problem'], ['MULTIPLE', 'B-RRMS']]\n",
      "[['SCLEROSIS', 'problem'], ['SCLEROSIS', 'I-RRMS']]\n",
      "[['MS', 'problem'], ['MS', 'B-SPMS']]\n",
      "[['slight', 'problem'], ['slight', 'I-SPMS']]\n",
      "[['non', 'problem'], ['non', 'I-SPMS']]\n",
      "[['relapse', 'problem'], ['relapse', 'I-SPMS']]\n",
      "[['type', 'problem'], ['type', 'I-SPMS']]\n",
      "[['of', 'test'], ['of', 'I-SPMS']]\n",
      "[['progression', 'problem'], ['progression', 'I-SPMS']]\n",
      "[['MS', 'problem'], ['MS', 'B-RRMS']]\n",
      "[['MULTIPLE', 'problem'], ['MULTIPLE', 'I-RRMS']]\n",
      "[['SCLEROSIS', 'problem'], ['SCLEROSIS', 'I-RRMS']]\n",
      "inscope: 12\n",
      "change_00033 annotator2_change_00033_correct\n",
      "change_00033.txt\n"
     ]
    },
    {
     "name": "stderr",
     "output_type": "stream",
     "text": [
      "DEBUG:urllib3.connectionpool:https://huggingface.co:443 \"HEAD /sschet/bert-base-uncased_clinical-ner/resolve/main/vocab.txt HTTP/1.1\" 200 0\n"
     ]
    },
    {
     "name": "stdout",
     "output_type": "stream",
     "text": [
      "3 133 186 1\n",
      "annotated_num: 4\n",
      "[['MS', 'problem'], ['MS', 'B-RRMS']]\n",
      "[['RRMS', 'problem'], ['RRMS', 'B-RRMS']]\n",
      "[['high', 'problem'], ['high', 'B-EDSS_Value']]\n",
      "inscope: 3\n",
      "change_00034 annotator2_change_00034_correct\n",
      "change_00034.txt\n"
     ]
    },
    {
     "name": "stderr",
     "output_type": "stream",
     "text": [
      "DEBUG:urllib3.connectionpool:https://huggingface.co:443 \"HEAD /sschet/bert-base-uncased_clinical-ner/resolve/main/config.json HTTP/1.1\" 200 0\n",
      "DEBUG:urllib3.connectionpool:https://huggingface.co:443 \"HEAD /sschet/bert-base-uncased_clinical-ner/resolve/main/vocab.txt HTTP/1.1\" 200 0\n"
     ]
    },
    {
     "name": "stdout",
     "output_type": "stream",
     "text": [
      "7 165 215 5\n",
      "annotated_num: 12\n",
      "[['worsening', 'problem'], ['worsening', 'B-RRMS']]\n",
      "[['MS', 'test'], ['MS', 'I-RRMS']]\n",
      "[['EDSS', 'test'], ['EDSS', 'B-EDSS']]\n",
      "[['MS', 'test'], ['MS', 'I-RRMS']]\n",
      "[['relapse', 'problem'], ['relapse', 'B-RRMS']]\n",
      "[['severe', 'problem'], ['severe', 'B-Severity_Severe']]\n",
      "[['relapses', 'problem'], ['relapses', 'B-Temporal_history_of_relapse']]\n",
      "inscope: 7\n",
      "change_00035 annotator2_change_00035_correct\n",
      "change_00035.txt\n"
     ]
    },
    {
     "name": "stderr",
     "output_type": "stream",
     "text": [
      "DEBUG:urllib3.connectionpool:https://huggingface.co:443 \"HEAD /sschet/bert-base-uncased_clinical-ner/resolve/main/config.json HTTP/1.1\" 200 0\n",
      "DEBUG:urllib3.connectionpool:https://huggingface.co:443 \"HEAD /sschet/bert-base-uncased_clinical-ner/resolve/main/vocab.txt HTTP/1.1\" 200 0\n"
     ]
    },
    {
     "name": "stdout",
     "output_type": "stream",
     "text": [
      "5 299 336 5\n",
      "annotated_num: 12\n",
      "[['MULTIPLE', 'problem'], ['MULTIPLE', 'B-RRMS']]\n",
      "[['SCLEROSIS', 'problem'], ['SCLEROSIS', 'I-RRMS']]\n",
      "[['MS', 'problem'], ['MS', 'B-RRMS']]\n",
      "[['MS', 'problem'], ['MS', 'B-RRMS']]\n",
      "[['MULTIPLE', 'problem'], ['MULTIPLE', 'I-RRMS']]\n",
      "inscope: 5\n",
      "change_00036 annotator2_change_00036_correct\n",
      "change_00036.txt\n"
     ]
    },
    {
     "name": "stderr",
     "output_type": "stream",
     "text": [
      "DEBUG:urllib3.connectionpool:https://huggingface.co:443 \"HEAD /sschet/bert-base-uncased_clinical-ner/resolve/main/config.json HTTP/1.1\" 200 0\n",
      "DEBUG:urllib3.connectionpool:https://huggingface.co:443 \"HEAD /sschet/bert-base-uncased_clinical-ner/resolve/main/vocab.txt HTTP/1.1\" 200 0\n"
     ]
    },
    {
     "name": "stdout",
     "output_type": "stream",
     "text": [
      "13 684 819 2\n",
      "annotated_num: 15\n",
      "[['Multiple', 'problem'], ['Multiple', 'B-RRMS']]\n",
      "[['sclerosis', 'problem'], ['sclerosis', 'I-RRMS']]\n",
      "[['MS', 'problem'], ['MS', 'B-RRMS']]\n",
      "[['MS', 'problem'], ['MS', 'B-RRMS']]\n",
      "[['EDSS', 'test'], ['EDSS', 'B-EDSS']]\n",
      "[['multiple', 'problem'], ['multiple', 'B-RRMS']]\n",
      "[['sclerosis', 'problem'], ['sclerosis', 'I-RRMS']]\n",
      "[['Multiple', 'problem'], ['Multiple', 'B-RRMS']]\n",
      "[['sclerosis', 'problem'], ['sclerosis', 'I-RRMS']]\n",
      "[['MS', 'problem'], ['MS', 'B-RRMS']]\n",
      "[['MS', 'problem'], ['MS', 'B-RRMS']]\n",
      "[['Multiple', 'problem'], ['Multiple', 'B-RRMS']]\n",
      "[['sclerosis', 'problem'], ['sclerosis', 'I-RRMS']]\n",
      "inscope: 13\n",
      "change_00037 annotator2_change_00037_correct\n",
      "change_00037.txt\n"
     ]
    },
    {
     "name": "stderr",
     "output_type": "stream",
     "text": [
      "DEBUG:urllib3.connectionpool:https://huggingface.co:443 \"HEAD /sschet/bert-base-uncased_clinical-ner/resolve/main/config.json HTTP/1.1\" 200 0\n",
      "DEBUG:urllib3.connectionpool:https://huggingface.co:443 \"HEAD /sschet/bert-base-uncased_clinical-ner/resolve/main/vocab.txt HTTP/1.1\" 200 0\n"
     ]
    },
    {
     "name": "stdout",
     "output_type": "stream",
     "text": [
      "12 446 468 6\n",
      "annotated_num: 18\n",
      "[['-', 'problem'], ['-', 'I-RRMS']]\n",
      "[['multiple', 'problem'], ['multiple', 'I-RRMS']]\n",
      "[['sclerosis', 'problem'], ['sclerosis', 'I-RRMS']]\n",
      "[['multiple', 'problem'], ['multiple', 'B-SPMS']]\n",
      "[['sclerosis', 'problem'], ['sclerosis', 'I-SPMS']]\n",
      "[['EDSS', 'test'], ['EDSS', 'B-EDSS']]\n",
      "[['6', 'problem'], ['6', 'B-EDSS_Value']]\n",
      "[['of', 'test'], ['of', 'I-SPMS']]\n",
      "[['secondary', 'problem'], ['secondary', 'I-SPMS']]\n",
      "[['progressive', 'problem'], ['progressive', 'I-SPMS']]\n",
      "[['multiple', 'problem'], ['multiple', 'I-SPMS']]\n",
      "[['sclerosis', 'problem'], ['sclerosis', 'I-SPMS']]\n",
      "inscope: 12\n",
      "change_00038 annotator2_change_00038_correct\n",
      "change_00038.txt\n"
     ]
    },
    {
     "name": "stderr",
     "output_type": "stream",
     "text": [
      "DEBUG:urllib3.connectionpool:https://huggingface.co:443 \"HEAD /sschet/bert-base-uncased_clinical-ner/resolve/main/config.json HTTP/1.1\" 200 0\n",
      "DEBUG:urllib3.connectionpool:https://huggingface.co:443 \"HEAD /sschet/bert-base-uncased_clinical-ner/resolve/main/vocab.txt HTTP/1.1\" 200 0\n"
     ]
    },
    {
     "name": "stdout",
     "output_type": "stream",
     "text": [
      "17 597 623 12\n",
      "annotated_num: 30\n",
      "[['-', 'problem'], ['-', 'I-RRMS']]\n",
      "[['multiple', 'problem'], ['multiple', 'I-RRMS']]\n",
      "[['sclerosis', 'problem'], ['sclerosis', 'I-RRMS']]\n",
      "[['-', 'problem'], ['-', 'I-SPMS']]\n",
      "[['of', 'problem'], ['of', 'I-SPMS']]\n",
      "[['multiple', 'problem'], ['multiple', 'I-SPMS']]\n",
      "[['sclerosis', 'problem'], ['sclerosis', 'I-SPMS']]\n",
      "[['is', 'problem'], ['is', 'I-SPMS']]\n",
      "[['for', 'problem'], ['for', 'I-SPMS']]\n",
      "[['a', 'problem'], ['a', 'I-SPMS']]\n",
      "[['EDSS', 'test'], ['EDSS', 'B-EDSS']]\n",
      "[['multiple', 'problem'], ['multiple', 'B-SPMS']]\n",
      "[['sclerosis', 'problem'], ['sclerosis', 'I-SPMS']]\n",
      "[['Multiple', 'problem'], ['Multiple', 'B-SPMS']]\n",
      "[['sclerosis', 'problem'], ['sclerosis', 'I-SPMS']]\n",
      "[['secondary', 'problem'], ['secondary', 'I-SPMS']]\n",
      "[['progressive', 'problem'], ['progressive', 'I-SPMS']]\n",
      "inscope: 17\n",
      "change_00039 annotator2_change_00039_correct\n",
      "change_00039.txt\n"
     ]
    },
    {
     "name": "stderr",
     "output_type": "stream",
     "text": [
      "DEBUG:urllib3.connectionpool:https://huggingface.co:443 \"HEAD /sschet/bert-base-uncased_clinical-ner/resolve/main/config.json HTTP/1.1\" 200 0\n",
      "DEBUG:urllib3.connectionpool:https://huggingface.co:443 \"HEAD /sschet/bert-base-uncased_clinical-ner/resolve/main/vocab.txt HTTP/1.1\" 200 0\n"
     ]
    },
    {
     "name": "stdout",
     "output_type": "stream",
     "text": [
      "20 483 690 8\n",
      "annotated_num: 28\n",
      "[['multiple', 'problem'], ['multiple', 'B-RRMS']]\n",
      "[['sclerosis', 'problem'], ['sclerosis', 'I-RRMS']]\n",
      "[['multiple', 'problem'], ['multiple', 'B-RRMS']]\n",
      "[['sclerosis', 'problem'], ['sclerosis', 'I-RRMS']]\n",
      "[['(', 'problem'], ['(', 'I-RRMS']]\n",
      "[['MS', 'problem'], ['MS', 'I-RRMS']]\n",
      "[['MS', 'problem'], ['MS', 'B-RRMS']]\n",
      "[['MS', 'problem'], ['MS', 'B-RRMS']]\n",
      "[['MS', 'problem'], ['MS', 'B-RRMS']]\n",
      "[['flair', 'problem'], ['flair', 'I-RRMS']]\n",
      "[['multiple', 'problem'], ['multiple', 'I-RRMS']]\n",
      "[['sclerosis', 'problem'], ['sclerosis', 'I-RRMS']]\n",
      "[['EDSS', 'test'], ['EDSS', 'B-EDSS']]\n",
      "[['multiple', 'problem'], ['multiple', 'I-RRMS']]\n",
      "[['sclerosis', 'problem'], ['sclerosis', 'I-RRMS']]\n",
      "[['(', 'problem'], ['(', 'I-RRMS']]\n",
      "[['MS', 'problem'], ['MS', 'I-RRMS']]\n",
      "[['last', 'problem'], ['last', 'B-Temporal_history_of_relapse']]\n",
      "[['clinical', 'problem'], ['clinical', 'I-Temporal_history_of_relapse']]\n",
      "[['relapse', 'problem'], ['relapse', 'I-Temporal_history_of_relapse']]\n",
      "inscope: 20\n",
      "change_00040 annotator2_change_00040_correct\n",
      "change_00040.txt\n"
     ]
    },
    {
     "name": "stderr",
     "output_type": "stream",
     "text": [
      "DEBUG:urllib3.connectionpool:https://huggingface.co:443 \"HEAD /sschet/bert-base-uncased_clinical-ner/resolve/main/config.json HTTP/1.1\" 200 0\n",
      "DEBUG:urllib3.connectionpool:https://huggingface.co:443 \"HEAD /sschet/bert-base-uncased_clinical-ner/resolve/main/vocab.txt HTTP/1.1\" 200 0\n"
     ]
    },
    {
     "name": "stdout",
     "output_type": "stream",
     "text": [
      "4 170 246 5\n",
      "annotated_num: 10\n",
      "[['MS', 'problem'], ['MS', 'B-RRMS']]\n",
      "[['MS', 'problem'], ['MS', 'B-RRMS']]\n",
      "[['MULTIPLE', 'problem'], ['MULTIPLE', 'I-RRMS']]\n",
      "[['SCLEROSIS', 'problem'], ['SCLEROSIS', 'I-RRMS']]\n",
      "inscope: 4\n",
      "change_00041 annotator2_change_00041_correct\n",
      "change_00041.txt\n"
     ]
    },
    {
     "name": "stderr",
     "output_type": "stream",
     "text": [
      "DEBUG:urllib3.connectionpool:https://huggingface.co:443 \"HEAD /sschet/bert-base-uncased_clinical-ner/resolve/main/config.json HTTP/1.1\" 200 0\n",
      "DEBUG:urllib3.connectionpool:https://huggingface.co:443 \"HEAD /sschet/bert-base-uncased_clinical-ner/resolve/main/vocab.txt HTTP/1.1\" 200 0\n"
     ]
    },
    {
     "name": "stdout",
     "output_type": "stream",
     "text": [
      "13 489 758 4\n",
      "annotated_num: 20\n",
      "[['multiple', 'problem'], ['multiple', 'I-RRMS']]\n",
      "[['sclerosis', 'problem'], ['sclerosis', 'I-RRMS']]\n",
      "[['multiple', 'problem'], ['multiple', 'B-RRMS']]\n",
      "[['sclerosis', 'problem'], ['sclerosis', 'I-RRMS']]\n",
      "[['multiple', 'problem'], ['multiple', 'B-RRMS']]\n",
      "[['sclerosis', 'problem'], ['sclerosis', 'I-RRMS']]\n",
      "[['multiple', 'problem'], ['multiple', 'B-RRMS']]\n",
      "[['sclerosis', 'problem'], ['sclerosis', 'I-RRMS']]\n",
      "[['EDSS', 'test'], ['EDSS', 'B-EDSS']]\n",
      "[['multiple', 'problem'], ['multiple', 'I-RRMS']]\n",
      "[['sclerosis', 'problem'], ['sclerosis', 'I-RRMS']]\n",
      "[['multiple', 'problem'], ['multiple', 'B-RRMS']]\n",
      "[['sclerosis', 'problem'], ['sclerosis', 'I-RRMS']]\n",
      "inscope: 13\n",
      "change_00042 annotator2_change_00042_correct\n",
      "change_00042.txt\n"
     ]
    },
    {
     "name": "stderr",
     "output_type": "stream",
     "text": [
      "DEBUG:urllib3.connectionpool:https://huggingface.co:443 \"HEAD /sschet/bert-base-uncased_clinical-ner/resolve/main/config.json HTTP/1.1\" 200 0\n",
      "DEBUG:urllib3.connectionpool:https://huggingface.co:443 \"HEAD /sschet/bert-base-uncased_clinical-ner/resolve/main/vocab.txt HTTP/1.1\" 200 0\n"
     ]
    },
    {
     "name": "stdout",
     "output_type": "stream",
     "text": [
      "4 221 455 4\n",
      "annotated_num: 11\n",
      "[['-', 'test'], ['-', 'I-RRMS']]\n",
      "[['RRMS', 'problem'], ['RRMS', 'B-RRMS']]\n",
      "[['-', 'test'], ['-', 'I-RRMS']]\n",
      "[['EDSS', 'test'], ['EDSS', 'B-EDSS']]\n",
      "inscope: 4\n",
      "change_00043 annotator2_change_00043_correct\n",
      "change_00043.txt\n"
     ]
    },
    {
     "name": "stderr",
     "output_type": "stream",
     "text": [
      "DEBUG:urllib3.connectionpool:https://huggingface.co:443 \"HEAD /sschet/bert-base-uncased_clinical-ner/resolve/main/config.json HTTP/1.1\" 200 0\n",
      "DEBUG:urllib3.connectionpool:https://huggingface.co:443 \"HEAD /sschet/bert-base-uncased_clinical-ner/resolve/main/vocab.txt HTTP/1.1\" 200 0\n"
     ]
    },
    {
     "name": "stdout",
     "output_type": "stream",
     "text": [
      "9 253 428 1\n",
      "annotated_num: 10\n",
      "[['Secondary', 'problem'], ['Secondary', 'B-SPMS']]\n",
      "[['progressive', 'problem'], ['progressive', 'I-SPMS']]\n",
      "[['multiple', 'problem'], ['multiple', 'I-SPMS']]\n",
      "[['sclerosis', 'problem'], ['sclerosis', 'I-SPMS']]\n",
      "[['multiple', 'problem'], ['multiple', 'B-SPMS']]\n",
      "[['sclerosis', 'problem'], ['sclerosis', 'I-SPMS']]\n",
      "[['EDSS', 'test'], ['EDSS', 'B-EDSS']]\n",
      "[['multiple', 'problem'], ['multiple', 'B-SPMS']]\n",
      "[['sclerosis', 'problem'], ['sclerosis', 'I-SPMS']]\n",
      "inscope: 9\n",
      "change_00044 annotator2_change_00044_correct\n",
      "change_00044.txt\n"
     ]
    },
    {
     "name": "stderr",
     "output_type": "stream",
     "text": [
      "DEBUG:urllib3.connectionpool:https://huggingface.co:443 \"HEAD /sschet/bert-base-uncased_clinical-ner/resolve/main/config.json HTTP/1.1\" 200 0\n",
      "DEBUG:urllib3.connectionpool:https://huggingface.co:443 \"HEAD /sschet/bert-base-uncased_clinical-ner/resolve/main/vocab.txt HTTP/1.1\" 200 0\n"
     ]
    },
    {
     "name": "stdout",
     "output_type": "stream",
     "text": [
      "2 84 158 6\n",
      "annotated_num: 8\n",
      "[['MULTIPLE', 'problem'], ['MULTIPLE', 'I-RRMS']]\n",
      "[['SCLEROSIS', 'problem'], ['SCLEROSIS', 'I-RRMS']]\n",
      "inscope: 2\n",
      "change_00045 annotator2_change_00045_correct\n",
      "change_00045.txt\n"
     ]
    },
    {
     "name": "stderr",
     "output_type": "stream",
     "text": [
      "DEBUG:urllib3.connectionpool:https://huggingface.co:443 \"HEAD /sschet/bert-base-uncased_clinical-ner/resolve/main/config.json HTTP/1.1\" 200 0\n",
      "DEBUG:urllib3.connectionpool:https://huggingface.co:443 \"HEAD /sschet/bert-base-uncased_clinical-ner/resolve/main/vocab.txt HTTP/1.1\" 200 0\n"
     ]
    },
    {
     "name": "stdout",
     "output_type": "stream",
     "text": [
      "4 165 260 5\n",
      "annotated_num: 10\n",
      "[['MS', 'problem'], ['MS', 'B-RRMS']]\n",
      "[['MS', 'problem'], ['MS', 'B-RRMS']]\n",
      "[['MULTIPLE', 'problem'], ['MULTIPLE', 'I-RRMS']]\n",
      "[['SCLEROSIS', 'problem'], ['SCLEROSIS', 'I-RRMS']]\n",
      "inscope: 4\n",
      "change_00046 annotator2_change_00046_correct\n",
      "change_00046.txt\n"
     ]
    },
    {
     "name": "stderr",
     "output_type": "stream",
     "text": [
      "DEBUG:urllib3.connectionpool:https://huggingface.co:443 \"HEAD /sschet/bert-base-uncased_clinical-ner/resolve/main/config.json HTTP/1.1\" 200 0\n",
      "DEBUG:urllib3.connectionpool:https://huggingface.co:443 \"HEAD /sschet/bert-base-uncased_clinical-ner/resolve/main/vocab.txt HTTP/1.1\" 200 0\n"
     ]
    },
    {
     "name": "stdout",
     "output_type": "stream",
     "text": [
      "10 337 546 1\n",
      "annotated_num: 12\n",
      "[['multiple', 'problem'], ['multiple', 'B-SPMS']]\n",
      "[['sclerosis', 'problem'], ['sclerosis', 'I-SPMS']]\n",
      "[['secondary', 'problem'], ['secondary', 'B-SPMS']]\n",
      "[['progressive', 'problem'], ['progressive', 'I-SPMS']]\n",
      "[['multiple', 'problem'], ['multiple', 'I-SPMS']]\n",
      "[['sclerosis', 'problem'], ['sclerosis', 'I-SPMS']]\n",
      "[['secondary', 'problem'], ['secondary', 'B-SPMS']]\n",
      "[['progressive', 'problem'], ['progressive', 'I-SPMS']]\n",
      "[['multiple', 'problem'], ['multiple', 'I-SPMS']]\n",
      "[['sclerosis', 'problem'], ['sclerosis', 'I-SPMS']]\n",
      "inscope: 10\n",
      "change_00047 annotator2_change_00047_correct\n",
      "change_00047.txt\n"
     ]
    },
    {
     "name": "stderr",
     "output_type": "stream",
     "text": [
      "DEBUG:urllib3.connectionpool:https://huggingface.co:443 \"HEAD /sschet/bert-base-uncased_clinical-ner/resolve/main/config.json HTTP/1.1\" 200 0\n",
      "DEBUG:urllib3.connectionpool:https://huggingface.co:443 \"HEAD /sschet/bert-base-uncased_clinical-ner/resolve/main/vocab.txt HTTP/1.1\" 200 0\n",
      "DEBUG:urllib3.connectionpool:https://huggingface.co:443 \"HEAD /sschet/bert-base-uncased_clinical-ner/resolve/main/config.json HTTP/1.1\" 200 0\n"
     ]
    },
    {
     "name": "stdout",
     "output_type": "stream",
     "text": [
      "13 475 851 3\n",
      "annotated_num: 17\n",
      "[['-', 'problem'], ['-', 'I-RRMS']]\n",
      "[['remitting', 'problem'], ['remitting', 'I-RRMS']]\n",
      "[['multiple', 'problem'], ['multiple', 'I-RRMS']]\n",
      "[['sclerosis', 'problem'], ['sclerosis', 'I-RRMS']]\n",
      "[['MS', 'problem'], ['MS', 'B-RRMS']]\n",
      "[['-', 'problem'], ['-', 'I-RRMS']]\n",
      "[['remitting', 'problem'], ['remitting', 'I-RRMS']]\n",
      "[['MS', 'problem'], ['MS', 'I-RRMS']]\n",
      "[['EDSS', 'test'], ['EDSS', 'B-EDSS']]\n",
      "[['-', 'problem'], ['-', 'I-RRMS']]\n",
      "[['remitting', 'problem'], ['remitting', 'I-RRMS']]\n",
      "[['multiple', 'problem'], ['multiple', 'I-RRMS']]\n",
      "[['sclerosis', 'problem'], ['sclerosis', 'I-RRMS']]\n",
      "inscope: 13\n",
      "change_00048 annotator2_change_00048_correct\n",
      "change_00048.txt\n"
     ]
    },
    {
     "name": "stderr",
     "output_type": "stream",
     "text": [
      "DEBUG:urllib3.connectionpool:https://huggingface.co:443 \"HEAD /sschet/bert-base-uncased_clinical-ner/resolve/main/vocab.txt HTTP/1.1\" 200 0\n"
     ]
    },
    {
     "name": "stdout",
     "output_type": "stream",
     "text": [
      "2 64 143 5\n",
      "annotated_num: 7\n",
      "[['MULTIPLE', 'problem'], ['MULTIPLE', 'I-RRMS']]\n",
      "[['SCLEROSIS', 'problem'], ['SCLEROSIS', 'I-RRMS']]\n",
      "inscope: 2\n",
      "change_00049 annotator2_change_00049_correct\n",
      "change_00049.txt\n"
     ]
    },
    {
     "name": "stderr",
     "output_type": "stream",
     "text": [
      "DEBUG:urllib3.connectionpool:https://huggingface.co:443 \"HEAD /sschet/bert-base-uncased_clinical-ner/resolve/main/config.json HTTP/1.1\" 200 0\n",
      "DEBUG:urllib3.connectionpool:https://huggingface.co:443 \"HEAD /sschet/bert-base-uncased_clinical-ner/resolve/main/vocab.txt HTTP/1.1\" 200 0\n"
     ]
    },
    {
     "name": "stdout",
     "output_type": "stream",
     "text": [
      "18 216 738 14\n",
      "annotated_num: 32\n",
      "[['of', 'test'], ['of', 'I-SPMS']]\n",
      "[['-', 'test'], ['-', 'I-SPMS']]\n",
      "[['multiple', 'problem'], ['multiple', 'I-SPMS']]\n",
      "[['sclerosis', 'problem'], ['sclerosis', 'I-SPMS']]\n",
      "[['the', 'test'], ['the', 'I-SPMS']]\n",
      "[['secondary', 'problem'], ['secondary', 'I-SPMS']]\n",
      "[['progressive', 'problem'], ['progressive', 'I-SPMS']]\n",
      "[['Multiple', 'problem'], ['Multiple', 'B-SPMS']]\n",
      "[['sclerosis', 'problem'], ['sclerosis', 'I-SPMS']]\n",
      "[['EDSS', 'test'], ['EDSS', 'B-EDSS']]\n",
      "[['4', 'test'], ['4', 'B-EDSS_Value']]\n",
      "[['Secondary', 'problem'], ['Secondary', 'B-SPMS']]\n",
      "[['progressive', 'problem'], ['progressive', 'I-SPMS']]\n",
      "[['multiple', 'problem'], ['multiple', 'I-SPMS']]\n",
      "[['sclerosis', 'problem'], ['sclerosis', 'I-SPMS']]\n",
      "[['EDSS', 'test'], ['EDSS', 'B-EDSS']]\n",
      "[['4', 'test'], ['4', 'B-EDSS_Value']]\n",
      "[['MS', 'test'], ['MS', 'B-SPMS']]\n",
      "inscope: 18\n",
      "chron_00001 annotator2_chron_00001_correct\n",
      "chron_00001.txt\n"
     ]
    },
    {
     "name": "stderr",
     "output_type": "stream",
     "text": [
      "DEBUG:urllib3.connectionpool:https://huggingface.co:443 \"HEAD /sschet/bert-base-uncased_clinical-ner/resolve/main/config.json HTTP/1.1\" 200 0\n",
      "DEBUG:urllib3.connectionpool:https://huggingface.co:443 \"HEAD /sschet/bert-base-uncased_clinical-ner/resolve/main/vocab.txt HTTP/1.1\" 200 0\n"
     ]
    },
    {
     "name": "stdout",
     "output_type": "stream",
     "text": [
      "5 58 151 6\n",
      "annotated_num: 11\n",
      "[['MS', 'test'], ['MS', 'B-RRMS']]\n",
      "[['MS', 'test'], ['MS', 'B-RRMS']]\n",
      "[['Last', 'test'], ['Last', 'B-Temporal_history_of_relapse']]\n",
      "[['MS', 'test'], ['MS', 'B-RRMS']]\n",
      "[['EDSS', 'test'], ['EDSS', 'B-EDSS']]\n",
      "inscope: 5\n",
      "chron_00002 annotator2_chron_00002_correct\n",
      "chron_00002.txt\n"
     ]
    },
    {
     "name": "stderr",
     "output_type": "stream",
     "text": [
      "DEBUG:urllib3.connectionpool:https://huggingface.co:443 \"HEAD /sschet/bert-base-uncased_clinical-ner/resolve/main/config.json HTTP/1.1\" 200 0\n",
      "DEBUG:urllib3.connectionpool:https://huggingface.co:443 \"HEAD /sschet/bert-base-uncased_clinical-ner/resolve/main/vocab.txt HTTP/1.1\" 200 0\n"
     ]
    },
    {
     "name": "stdout",
     "output_type": "stream",
     "text": [
      "16 156 232 22\n",
      "annotated_num: 38\n",
      "[['relapses', 'problem'], ['relapses', 'B-Temporal_history_of_relapse']]\n",
      "[['relapse', 'problem'], ['relapse', 'B-Temporal_history_of_relapse']]\n",
      "[['sensory', 'problem'], ['sensory', 'B-Temporal_history_of_relapse']]\n",
      "[['relapse', 'problem'], ['relapse', 'I-Temporal_history_of_relapse']]\n",
      "[['relapse', 'problem'], ['relapse', 'B-Temporal_history_of_relapse']]\n",
      "[['MS', 'problem'], ['MS', 'B-RRMS']]\n",
      "[['RR', 'problem'], ['RR', 'B-RRMS']]\n",
      "[['MS', 'problem'], ['MS', 'I-RRMS']]\n",
      "[['rather', 'problem'], ['rather', 'I-RRMS']]\n",
      "[['aggressive', 'problem'], ['aggressive', 'I-RRMS']]\n",
      "[['in', 'test'], ['in', 'I-RRMS']]\n",
      "[['number', 'problem'], ['number', 'I-RRMS']]\n",
      "[['relapses', 'problem'], ['relapses', 'I-RRMS']]\n",
      "[['in', 'test'], ['in', 'I-RRMS']]\n",
      "[['EDSS', 'test'], ['EDSS', 'B-EDSS']]\n",
      "[['relapse', 'problem'], ['relapse', 'B-RRMS']]\n",
      "inscope: 16\n",
      "chron_00003 annotator2_chron_00003_correct\n",
      "chron_00003.txt\n"
     ]
    },
    {
     "name": "stderr",
     "output_type": "stream",
     "text": [
      "DEBUG:urllib3.connectionpool:https://huggingface.co:443 \"HEAD /sschet/bert-base-uncased_clinical-ner/resolve/main/config.json HTTP/1.1\" 200 0\n",
      "DEBUG:urllib3.connectionpool:https://huggingface.co:443 \"HEAD /sschet/bert-base-uncased_clinical-ner/resolve/main/vocab.txt HTTP/1.1\" 200 0\n"
     ]
    },
    {
     "name": "stdout",
     "output_type": "stream",
     "text": [
      "11 423 1201 5\n",
      "annotated_num: 16\n",
      "[['Multiple', 'problem'], ['Multiple', 'B-RRMS']]\n",
      "[['sclerosis', 'problem'], ['sclerosis', 'I-RRMS']]\n",
      "[['multiple', 'problem'], ['multiple', 'B-RRMS']]\n",
      "[['sclerosis', 'problem'], ['sclerosis', 'I-RRMS']]\n",
      "[['Multiple', 'problem'], ['Multiple', 'B-RRMS']]\n",
      "[['sclerosis', 'problem'], ['sclerosis', 'I-RRMS']]\n",
      "[['MS', 'problem'], ['MS', 'I-RRMS']]\n",
      "[['relapse', 'problem'], ['relapse', 'B-Temporal_history_of_relapse']]\n",
      "[['MS', 'problem'], ['MS', 'B-RRMS']]\n",
      "[['Multiple', 'problem'], ['Multiple', 'B-RRMS']]\n",
      "[['sclerosis', 'problem'], ['sclerosis', 'I-RRMS']]\n",
      "inscope: 11\n",
      "chron_00004 annotator2_chron_00004_correct\n",
      "chron_00004.txt\n"
     ]
    },
    {
     "name": "stderr",
     "output_type": "stream",
     "text": [
      "DEBUG:urllib3.connectionpool:https://huggingface.co:443 \"HEAD /sschet/bert-base-uncased_clinical-ner/resolve/main/config.json HTTP/1.1\" 200 0\n",
      "DEBUG:urllib3.connectionpool:https://huggingface.co:443 \"HEAD /sschet/bert-base-uncased_clinical-ner/resolve/main/vocab.txt HTTP/1.1\" 200 0\n"
     ]
    },
    {
     "name": "stdout",
     "output_type": "stream",
     "text": [
      "4 503 615 3\n",
      "annotated_num: 7\n",
      "[['Last', 'problem'], ['Last', 'B-Temporal_history_of_relapse']]\n",
      "[['Disease', 'problem'], ['Disease', 'I-Temporal_history_of_relapse']]\n",
      "[['Flare', 'problem'], ['Flare', 'I-Temporal_history_of_relapse']]\n",
      "[['EDSS', 'test'], ['EDSS', 'B-EDSS']]\n",
      "inscope: 4\n",
      "chron_00005 annotator2_chron_00005_correct\n",
      "chron_00005.txt\n"
     ]
    },
    {
     "name": "stderr",
     "output_type": "stream",
     "text": [
      "DEBUG:urllib3.connectionpool:https://huggingface.co:443 \"HEAD /sschet/bert-base-uncased_clinical-ner/resolve/main/config.json HTTP/1.1\" 200 0\n",
      "DEBUG:urllib3.connectionpool:https://huggingface.co:443 \"HEAD /sschet/bert-base-uncased_clinical-ner/resolve/main/vocab.txt HTTP/1.1\" 200 0\n"
     ]
    },
    {
     "name": "stdout",
     "output_type": "stream",
     "text": [
      "10 308 487 1\n",
      "annotated_num: 11\n",
      "[['secondary', 'problem'], ['secondary', 'B-SPMS']]\n",
      "[['progressive', 'problem'], ['progressive', 'I-SPMS']]\n",
      "[['multiple', 'problem'], ['multiple', 'I-SPMS']]\n",
      "[['sclerosis', 'problem'], ['sclerosis', 'I-SPMS']]\n",
      "[['MULTIPLE', 'problem'], ['MULTIPLE', 'B-SPMS']]\n",
      "[['SCLEROSIS', 'problem'], ['SCLEROSIS', 'I-SPMS']]\n",
      "[['RELAPSING', 'problem'], ['RELAPSING', 'B-SPMS']]\n",
      "[['SPMS', 'problem'], ['SPMS', 'B-SPMS']]\n",
      "[['SPMS', 'problem'], ['SPMS', 'B-SPMS']]\n",
      "[['EDSS', 'test'], ['EDSS', 'B-EDSS']]\n",
      "inscope: 10\n",
      "chron_00006 annotator2_chron_00006_correct\n",
      "chron_00006.txt\n"
     ]
    },
    {
     "name": "stderr",
     "output_type": "stream",
     "text": [
      "DEBUG:urllib3.connectionpool:https://huggingface.co:443 \"HEAD /sschet/bert-base-uncased_clinical-ner/resolve/main/config.json HTTP/1.1\" 200 0\n",
      "DEBUG:urllib3.connectionpool:https://huggingface.co:443 \"HEAD /sschet/bert-base-uncased_clinical-ner/resolve/main/vocab.txt HTTP/1.1\" 200 0\n"
     ]
    },
    {
     "name": "stdout",
     "output_type": "stream",
     "text": [
      "10 564 818 9\n",
      "annotated_num: 19\n",
      "[['MS', 'problem'], ['MS', 'B-SPMS']]\n",
      "[['MULTIPLE', 'problem'], ['MULTIPLE', 'B-SPMS']]\n",
      "[['SCLEROSIS', 'problem'], ['SCLEROSIS', 'I-SPMS']]\n",
      "[['multiple', 'problem'], ['multiple', 'B-SPMS']]\n",
      "[['sclerosis', 'problem'], ['sclerosis', 'I-SPMS']]\n",
      "[['MS', 'problem'], ['MS', 'B-SPMS']]\n",
      "[['MULTIPLE', 'problem'], ['MULTIPLE', 'B-SPMS']]\n",
      "[['SCLEROSIS', 'problem'], ['SCLEROSIS', 'I-SPMS']]\n",
      "[['SPMS', 'test'], ['SPMS', 'B-SPMS']]\n",
      "[['EDSS', 'test'], ['EDSS', 'B-EDSS']]\n",
      "inscope: 10\n",
      "chron_00007 annotator2_chron_00007_correct\n",
      "chron_00007.txt\n"
     ]
    },
    {
     "name": "stderr",
     "output_type": "stream",
     "text": [
      "DEBUG:urllib3.connectionpool:https://huggingface.co:443 \"HEAD /sschet/bert-base-uncased_clinical-ner/resolve/main/config.json HTTP/1.1\" 200 0\n",
      "DEBUG:urllib3.connectionpool:https://huggingface.co:443 \"HEAD /sschet/bert-base-uncased_clinical-ner/resolve/main/vocab.txt HTTP/1.1\" 200 0\n"
     ]
    },
    {
     "name": "stdout",
     "output_type": "stream",
     "text": [
      "12 428 863 6\n",
      "annotated_num: 20\n",
      "[['multiple', 'problem'], ['multiple', 'I-RRMS']]\n",
      "[['sclerosis', 'problem'], ['sclerosis', 'I-RRMS']]\n",
      "[['RRMS', 'test'], ['RRMS', 'B-RRMS']]\n",
      "[['MS', 'problem'], ['MS', 'B-RRMS']]\n",
      "[['multiple', 'problem'], ['multiple', 'B-RRMS']]\n",
      "[['sclerosis', 'problem'], ['sclerosis', 'I-RRMS']]\n",
      "[['MULTIPLE', 'problem'], ['MULTIPLE', 'B-RRMS']]\n",
      "[['SCLEROSIS', 'problem'], ['SCLEROSIS', 'I-RRMS']]\n",
      "[['MS', 'problem'], ['MS', 'B-RRMS']]\n",
      "[['Flare', 'problem'], ['Flare', 'I-Temporal_history_of_relapse']]\n",
      "[['RRMS', 'test'], ['RRMS', 'B-RRMS']]\n",
      "[['EDSS', 'test'], ['EDSS', 'B-EDSS']]\n",
      "inscope: 12\n",
      "chron_00008 annotator2_chron_00008_correct\n",
      "chron_00008.txt\n"
     ]
    },
    {
     "name": "stderr",
     "output_type": "stream",
     "text": [
      "DEBUG:urllib3.connectionpool:https://huggingface.co:443 \"HEAD /sschet/bert-base-uncased_clinical-ner/resolve/main/config.json HTTP/1.1\" 200 0\n",
      "DEBUG:urllib3.connectionpool:https://huggingface.co:443 \"HEAD /sschet/bert-base-uncased_clinical-ner/resolve/main/vocab.txt HTTP/1.1\" 200 0\n"
     ]
    },
    {
     "name": "stdout",
     "output_type": "stream",
     "text": [
      "12 166 241 12\n",
      "annotated_num: 25\n",
      "[['relapses', 'problem'], ['relapses', 'B-Temporal_history_of_relapse']]\n",
      "[['relapse', 'problem'], ['relapse', 'B-Temporal_history_of_relapse']]\n",
      "[['relapse', 'problem'], ['relapse', 'B-Temporal_history_of_relapse']]\n",
      "[['RR', 'problem'], ['RR', 'B-RRMS']]\n",
      "[['MS', 'problem'], ['MS', 'I-RRMS']]\n",
      "[['rather', 'problem'], ['rather', 'I-RRMS']]\n",
      "[['aggressive', 'problem'], ['aggressive', 'I-RRMS']]\n",
      "[['in', 'test'], ['in', 'I-RRMS']]\n",
      "[['of', 'problem'], ['of', 'I-RRMS']]\n",
      "[['number', 'problem'], ['number', 'I-RRMS']]\n",
      "[['relapses', 'problem'], ['relapses', 'I-RRMS']]\n",
      "[['EDSS', 'test'], ['EDSS', 'B-EDSS']]\n",
      "inscope: 12\n",
      "chron_00009 annotator2_chron_00009_correct\n",
      "chron_00009.txt\n"
     ]
    },
    {
     "name": "stderr",
     "output_type": "stream",
     "text": [
      "DEBUG:urllib3.connectionpool:https://huggingface.co:443 \"HEAD /sschet/bert-base-uncased_clinical-ner/resolve/main/config.json HTTP/1.1\" 200 0\n",
      "DEBUG:urllib3.connectionpool:https://huggingface.co:443 \"HEAD /sschet/bert-base-uncased_clinical-ner/resolve/main/vocab.txt HTTP/1.1\" 200 0\n"
     ]
    },
    {
     "name": "stdout",
     "output_type": "stream",
     "text": [
      "11 161 440 4\n",
      "annotated_num: 18\n",
      "[['multiple', 'problem'], ['multiple', 'B-SPMS']]\n",
      "[['Multiple', 'problem'], ['Multiple', 'B-SPMS']]\n",
      "[['sclerosis', 'problem'], ['sclerosis', 'I-SPMS']]\n",
      "[['chronic', 'problem'], ['chronic', 'I-SPMS']]\n",
      "[['as', 'test'], ['as', 'I-SPMS']]\n",
      "[['secondarily', 'problem'], ['secondarily', 'I-SPMS']]\n",
      "[['EDSS', 'test'], ['EDSS', 'B-EDSS']]\n",
      "[['Secondarily', 'problem'], ['Secondarily', 'B-SPMS']]\n",
      "[['progressive', 'problem'], ['progressive', 'I-SPMS']]\n",
      "[['multiple', 'problem'], ['multiple', 'I-SPMS']]\n",
      "[['sclerosis', 'problem'], ['sclerosis', 'I-SPMS']]\n",
      "inscope: 11\n",
      "chron_00010 annotator2_chron_00010_correct\n",
      "chron_00010.txt\n"
     ]
    },
    {
     "name": "stderr",
     "output_type": "stream",
     "text": [
      "DEBUG:urllib3.connectionpool:https://huggingface.co:443 \"HEAD /sschet/bert-base-uncased_clinical-ner/resolve/main/config.json HTTP/1.1\" 200 0\n",
      "DEBUG:urllib3.connectionpool:https://huggingface.co:443 \"HEAD /sschet/bert-base-uncased_clinical-ner/resolve/main/vocab.txt HTTP/1.1\" 200 0\n"
     ]
    },
    {
     "name": "stdout",
     "output_type": "stream",
     "text": [
      "14 589 771 7\n",
      "annotated_num: 22\n",
      "[['SCLEROSIS', 'problem'], ['SCLEROSIS', 'I-RRMS']]\n",
      "[['multiple', 'problem'], ['multiple', 'B-RRMS']]\n",
      "[['sclerosis', 'problem'], ['sclerosis', 'I-RRMS']]\n",
      "[['Multiple', 'problem'], ['Multiple', 'B-RRMS']]\n",
      "[['Sclerosis', 'problem'], ['Sclerosis', 'I-RRMS']]\n",
      "[['Last', 'problem'], ['Last', 'B-Temporal_history_of_relapse']]\n",
      "[['attack', 'problem'], ['attack', 'I-Temporal_history_of_relapse']]\n",
      "[['MULTIPLE', 'problem'], ['MULTIPLE', 'B-RRMS']]\n",
      "[['SCLEROSIS', 'problem'], ['SCLEROSIS', 'I-RRMS']]\n",
      "[['Last', 'problem'], ['Last', 'B-Temporal_history_of_relapse']]\n",
      "[['Disease', 'problem'], ['Disease', 'I-Temporal_history_of_relapse']]\n",
      "[['Flare', 'problem'], ['Flare', 'I-Temporal_history_of_relapse']]\n",
      "[['RRMS', 'test'], ['RRMS', 'B-RRMS']]\n",
      "[['EDSS', 'test'], ['EDSS', 'B-EDSS']]\n",
      "inscope: 14\n",
      "chron_00011 annotator2_chron_00011_correct\n",
      "chron_00011.txt\n"
     ]
    },
    {
     "name": "stderr",
     "output_type": "stream",
     "text": [
      "DEBUG:urllib3.connectionpool:https://huggingface.co:443 \"HEAD /sschet/bert-base-uncased_clinical-ner/resolve/main/config.json HTTP/1.1\" 200 0\n",
      "DEBUG:urllib3.connectionpool:https://huggingface.co:443 \"HEAD /sschet/bert-base-uncased_clinical-ner/resolve/main/vocab.txt HTTP/1.1\" 200 0\n"
     ]
    },
    {
     "name": "stdout",
     "output_type": "stream",
     "text": [
      "26 741 606 10\n",
      "annotated_num: 36\n",
      "[['MULTIPLE', 'problem'], ['MULTIPLE', 'B-RRMS']]\n",
      "[['SCLEROSIS', 'problem'], ['SCLEROSIS', 'I-RRMS']]\n",
      "[['multiple', 'problem'], ['multiple', 'B-RRMS']]\n",
      "[['sclerosis', 'problem'], ['sclerosis', 'I-RRMS']]\n",
      "[['flare', 'problem'], ['flare', 'B-Temporal_history_of_relapse']]\n",
      "[['in', 'problem'], ['in', 'I-Relapse_relative_date']]\n",
      "[['MS', 'problem'], ['MS', 'B-RRMS']]\n",
      "[['exacerbation', 'problem'], ['exacerbation', 'B-Temporal_history_of_relapse']]\n",
      "[['of', 'problem'], ['of', 'I-Temporal_history_of_relapse']]\n",
      "[['his', 'problem'], ['his', 'I-Temporal_history_of_relapse']]\n",
      "[['of', 'problem'], ['of', 'I-Relapse_relative_date']]\n",
      "[['disease', 'problem'], ['disease', 'I-Temporal_history_of_relapse']]\n",
      "[['Multiple', 'problem'], ['Multiple', 'B-RRMS']]\n",
      "[['sclerosis', 'problem'], ['sclerosis', 'I-RRMS']]\n",
      "[['MULTIPLE', 'problem'], ['MULTIPLE', 'B-RRMS']]\n",
      "[['SCLEROSIS', 'problem'], ['SCLEROSIS', 'I-RRMS']]\n",
      "[['multiple', 'problem'], ['multiple', 'I-RRMS']]\n",
      "[['sclerosis', 'problem'], ['sclerosis', 'I-RRMS']]\n",
      "[['RRMS', 'problem'], ['RRMS', 'B-RRMS']]\n",
      "[['recent', 'problem'], ['recent', 'B-RRMS']]\n",
      "[['flare', 'problem'], ['flare', 'I-RRMS']]\n",
      "[['Last', 'problem'], ['Last', 'B-Temporal_history_of_relapse']]\n",
      "[['Disease', 'problem'], ['Disease', 'I-Temporal_history_of_relapse']]\n",
      "[['Flare', 'problem'], ['Flare', 'I-Temporal_history_of_relapse']]\n",
      "[['RRMS', 'problem'], ['RRMS', 'B-RRMS']]\n",
      "[['EDSS', 'test'], ['EDSS', 'B-EDSS']]\n",
      "inscope: 26\n",
      "chron_00012 annotator2_chron_00012_correct\n",
      "chron_00012.txt\n"
     ]
    },
    {
     "name": "stderr",
     "output_type": "stream",
     "text": [
      "DEBUG:urllib3.connectionpool:https://huggingface.co:443 \"HEAD /sschet/bert-base-uncased_clinical-ner/resolve/main/config.json HTTP/1.1\" 200 0\n",
      "DEBUG:urllib3.connectionpool:https://huggingface.co:443 \"HEAD /sschet/bert-base-uncased_clinical-ner/resolve/main/vocab.txt HTTP/1.1\" 200 0\n"
     ]
    },
    {
     "name": "stdout",
     "output_type": "stream",
     "text": [
      "16 456 643 1\n",
      "annotated_num: 17\n",
      "[['primary', 'problem'], ['primary', 'B-PPMS']]\n",
      "[['progressive', 'problem'], ['progressive', 'I-PPMS']]\n",
      "[['multiple', 'problem'], ['multiple', 'I-PPMS']]\n",
      "[['sclerosis', 'problem'], ['sclerosis', 'I-PPMS']]\n",
      "[['PPMS', 'problem'], ['PPMS', 'B-PPMS']]\n",
      "[['Multiple', 'problem'], ['Multiple', 'B-PPMS']]\n",
      "[['Sclerosis', 'problem'], ['Sclerosis', 'I-PPMS']]\n",
      "[['MULTIPLE', 'problem'], ['MULTIPLE', 'B-PPMS']]\n",
      "[['SCLEROSIS', 'problem'], ['SCLEROSIS', 'I-PPMS']]\n",
      "[['Primary', 'problem'], ['Primary', 'B-PPMS']]\n",
      "[['progressive', 'problem'], ['progressive', 'I-PPMS']]\n",
      "[['multiple', 'problem'], ['multiple', 'I-PPMS']]\n",
      "[['sclerosis', 'problem'], ['sclerosis', 'I-PPMS']]\n",
      "[['PPMS', 'problem'], ['PPMS', 'B-PPMS']]\n",
      "[['PPMS', 'problem'], ['PPMS', 'B-PPMS']]\n",
      "[['EDSS', 'test'], ['EDSS', 'B-EDSS']]\n",
      "inscope: 16\n",
      "chron_00013 annotator2_chron_00013_correct\n",
      "chron_00013.txt\n"
     ]
    },
    {
     "name": "stderr",
     "output_type": "stream",
     "text": [
      "DEBUG:urllib3.connectionpool:https://huggingface.co:443 \"HEAD /sschet/bert-base-uncased_clinical-ner/resolve/main/config.json HTTP/1.1\" 200 0\n",
      "DEBUG:urllib3.connectionpool:https://huggingface.co:443 \"HEAD /sschet/bert-base-uncased_clinical-ner/resolve/main/vocab.txt HTTP/1.1\" 200 0\n"
     ]
    },
    {
     "name": "stdout",
     "output_type": "stream",
     "text": [
      "2 14 15 1\n",
      "annotated_num: 3\n",
      "[['EDSS', 'test'], ['EDSS', 'B-EDSS']]\n",
      "[['SPMS', 'test'], ['SPMS', 'B-SPMS']]\n",
      "inscope: 2\n",
      "chron_00014 annotator2_chron_00014_correct\n",
      "chron_00014.txt\n"
     ]
    },
    {
     "name": "stderr",
     "output_type": "stream",
     "text": [
      "DEBUG:urllib3.connectionpool:https://huggingface.co:443 \"HEAD /sschet/bert-base-uncased_clinical-ner/resolve/main/config.json HTTP/1.1\" 200 0\n",
      "DEBUG:urllib3.connectionpool:https://huggingface.co:443 \"HEAD /sschet/bert-base-uncased_clinical-ner/resolve/main/vocab.txt HTTP/1.1\" 200 0\n"
     ]
    },
    {
     "name": "stdout",
     "output_type": "stream",
     "text": [
      "10 154 214 20\n",
      "annotated_num: 30\n",
      "[['relapses', 'problem'], ['relapses', 'B-Temporal_history_of_relapse']]\n",
      "[['relapse', 'problem'], ['relapse', 'B-Temporal_history_of_relapse']]\n",
      "[['relapse', 'problem'], ['relapse', 'B-Temporal_history_of_relapse']]\n",
      "[['RR', 'problem'], ['RR', 'B-RRMS']]\n",
      "[['MS', 'problem'], ['MS', 'I-RRMS']]\n",
      "[['aggressive', 'problem'], ['aggressive', 'I-RRMS']]\n",
      "[['in', 'test'], ['in', 'I-RRMS']]\n",
      "[['number', 'problem'], ['number', 'I-RRMS']]\n",
      "[['relapses', 'problem'], ['relapses', 'I-RRMS']]\n",
      "[['EDSS', 'test'], ['EDSS', 'B-EDSS']]\n",
      "inscope: 10\n",
      "chron_00015 annotator2_chron_00015_correct\n",
      "chron_00015.txt\n"
     ]
    },
    {
     "name": "stderr",
     "output_type": "stream",
     "text": [
      "DEBUG:urllib3.connectionpool:https://huggingface.co:443 \"HEAD /sschet/bert-base-uncased_clinical-ner/resolve/main/config.json HTTP/1.1\" 200 0\n",
      "DEBUG:urllib3.connectionpool:https://huggingface.co:443 \"HEAD /sschet/bert-base-uncased_clinical-ner/resolve/main/vocab.txt HTTP/1.1\" 200 0\n",
      "DEBUG:urllib3.connectionpool:https://huggingface.co:443 \"HEAD /sschet/bert-base-uncased_clinical-ner/resolve/main/config.json HTTP/1.1\" 200 0\n"
     ]
    },
    {
     "name": "stdout",
     "output_type": "stream",
     "text": [
      "10 406 520 6\n",
      "annotated_num: 16\n",
      "[['-', 'test'], ['-', 'I-RRMS']]\n",
      "[['multiple', 'problem'], ['multiple', 'I-RRMS']]\n",
      "[['sclerosis', 'problem'], ['sclerosis', 'I-RRMS']]\n",
      "[['multiple', 'problem'], ['multiple', 'B-RRMS']]\n",
      "[['sclerosis', 'problem'], ['sclerosis', 'I-RRMS']]\n",
      "[['EDSS', 'test'], ['EDSS', 'B-EDSS']]\n",
      "[['MS', 'problem'], ['MS', 'B-RRMS']]\n",
      "[['-', 'test'], ['-', 'I-RRMS']]\n",
      "[['multiple', 'problem'], ['multiple', 'I-RRMS']]\n",
      "[['sclerosis', 'problem'], ['sclerosis', 'I-RRMS']]\n",
      "inscope: 10\n",
      "chron_00016 annotator2_chron_00016_correct\n",
      "chron_00016.txt\n"
     ]
    },
    {
     "name": "stderr",
     "output_type": "stream",
     "text": [
      "DEBUG:urllib3.connectionpool:https://huggingface.co:443 \"HEAD /sschet/bert-base-uncased_clinical-ner/resolve/main/vocab.txt HTTP/1.1\" 200 0\n"
     ]
    },
    {
     "name": "stdout",
     "output_type": "stream",
     "text": [
      "9 118 242 4\n",
      "annotated_num: 14\n",
      "[['multiple', 'problem'], ['multiple', 'B-RRMS']]\n",
      "[['sclerosis', 'problem'], ['sclerosis', 'I-RRMS']]\n",
      "[['RRMS', 'problem'], ['RRMS', 'B-RRMS']]\n",
      "[['EDSS', 'test'], ['EDSS', 'B-EDSS']]\n",
      "[['is', 'problem'], ['is', 'I-RRMS']]\n",
      "[['in', 'test'], ['in', 'I-RRMS']]\n",
      "[['the', 'test'], ['the', 'I-RRMS']]\n",
      "[['a', 'problem'], ['a', 'I-RRMS']]\n",
      "[['relapse', 'problem'], ['relapse', 'I-RRMS']]\n",
      "inscope: 9\n",
      "chron_00017 annotator2_chron_00017_correct\n",
      "chron_00017.txt\n"
     ]
    },
    {
     "name": "stderr",
     "output_type": "stream",
     "text": [
      "DEBUG:urllib3.connectionpool:https://huggingface.co:443 \"HEAD /sschet/bert-base-uncased_clinical-ner/resolve/main/config.json HTTP/1.1\" 200 0\n",
      "DEBUG:urllib3.connectionpool:https://huggingface.co:443 \"HEAD /sschet/bert-base-uncased_clinical-ner/resolve/main/vocab.txt HTTP/1.1\" 200 0\n"
     ]
    },
    {
     "name": "stdout",
     "output_type": "stream",
     "text": [
      "15 364 547 6\n",
      "annotated_num: 21\n",
      "[['-', 'problem'], ['-', 'I-RRMS']]\n",
      "[['multiple', 'problem'], ['multiple', 'I-RRMS']]\n",
      "[['sclerosis', 'problem'], ['sclerosis', 'I-RRMS']]\n",
      "[['RRMS', 'test'], ['RRMS', 'B-RRMS']]\n",
      "[['Multiple', 'problem'], ['Multiple', 'B-RRMS']]\n",
      "[['Sclerosis', 'problem'], ['Sclerosis', 'I-RRMS']]\n",
      "[['MULTIPLE', 'problem'], ['MULTIPLE', 'B-RRMS']]\n",
      "[['SCLEROSIS', 'problem'], ['SCLEROSIS', 'I-RRMS']]\n",
      "[['MS', 'problem'], ['MS', 'B-RRMS']]\n",
      "[['Last', 'problem'], ['Last', 'B-Temporal_history_of_relapse']]\n",
      "[['Disease', 'problem'], ['Disease', 'I-Temporal_history_of_relapse']]\n",
      "[['Flare', 'problem'], ['Flare', 'I-Temporal_history_of_relapse']]\n",
      "[['EDSS', 'test'], ['EDSS', 'B-EDSS']]\n",
      "[['RRMS', 'test'], ['RRMS', 'B-RRMS']]\n",
      "[['EDSS', 'test'], ['EDSS', 'B-EDSS']]\n",
      "inscope: 15\n",
      "chron_00018 annotator2_chron_00018_correct\n",
      "chron_00018.txt\n"
     ]
    },
    {
     "name": "stderr",
     "output_type": "stream",
     "text": [
      "DEBUG:urllib3.connectionpool:https://huggingface.co:443 \"HEAD /sschet/bert-base-uncased_clinical-ner/resolve/main/config.json HTTP/1.1\" 200 0\n",
      "DEBUG:urllib3.connectionpool:https://huggingface.co:443 \"HEAD /sschet/bert-base-uncased_clinical-ner/resolve/main/vocab.txt HTTP/1.1\" 200 0\n"
     ]
    },
    {
     "name": "stdout",
     "output_type": "stream",
     "text": [
      "6 154 436 4\n",
      "annotated_num: 14\n",
      "[['multiple', 'problem'], ['multiple', 'I-RRMS']]\n",
      "[['multiple', 'problem'], ['multiple', 'B-RRMS']]\n",
      "[['sclerosis', 'problem'], ['sclerosis', 'I-RRMS']]\n",
      "[['multiple', 'problem'], ['multiple', 'I-RRMS']]\n",
      "[['sclerosis', 'problem'], ['sclerosis', 'I-RRMS']]\n",
      "[['EDSS', 'test'], ['EDSS', 'B-EDSS']]\n",
      "inscope: 6\n",
      "chron_00019 annotator2_chron_00019_correct\n",
      "chron_00019.txt\n"
     ]
    },
    {
     "name": "stderr",
     "output_type": "stream",
     "text": [
      "DEBUG:urllib3.connectionpool:https://huggingface.co:443 \"HEAD /sschet/bert-base-uncased_clinical-ner/resolve/main/config.json HTTP/1.1\" 200 0\n",
      "DEBUG:urllib3.connectionpool:https://huggingface.co:443 \"HEAD /sschet/bert-base-uncased_clinical-ner/resolve/main/vocab.txt HTTP/1.1\" 200 0\n"
     ]
    },
    {
     "name": "stdout",
     "output_type": "stream",
     "text": [
      "8 249 671 9\n",
      "annotated_num: 17\n",
      "[['Multiple', 'problem'], ['Multiple', 'B-PPMS']]\n",
      "[['Sclerosis', 'problem'], ['Sclerosis', 'I-PPMS']]\n",
      "[['primary', 'problem'], ['primary', 'B-PPMS']]\n",
      "[['progressive', 'problem'], ['progressive', 'I-PPMS']]\n",
      "[['multiple', 'problem'], ['multiple', 'I-PPMS']]\n",
      "[['sclerosis', 'problem'], ['sclerosis', 'I-PPMS']]\n",
      "[['Flare', 'problem'], ['Flare', 'B-Temporal_history_of_relapse']]\n",
      "[['MS', 'problem'], ['MS', 'B-PPMS']]\n",
      "inscope: 8\n",
      "chron_00020 annotator2_chron_00020_correct\n",
      "chron_00020.txt\n"
     ]
    },
    {
     "name": "stderr",
     "output_type": "stream",
     "text": [
      "DEBUG:urllib3.connectionpool:https://huggingface.co:443 \"HEAD /sschet/bert-base-uncased_clinical-ner/resolve/main/config.json HTTP/1.1\" 200 0\n",
      "DEBUG:urllib3.connectionpool:https://huggingface.co:443 \"HEAD /sschet/bert-base-uncased_clinical-ner/resolve/main/vocab.txt HTTP/1.1\" 200 0\n"
     ]
    },
    {
     "name": "stdout",
     "output_type": "stream",
     "text": [
      "9 333 582 1\n",
      "annotated_num: 10\n",
      "[['multiple', 'problem'], ['multiple', 'B-CIS']]\n",
      "[['sclerosis', 'problem'], ['sclerosis', 'I-CIS']]\n",
      "[['MULTIPLE', 'problem'], ['MULTIPLE', 'B-CIS']]\n",
      "[['SCLEROSIS', 'problem'], ['SCLEROSIS', 'I-CIS']]\n",
      "[['CIS', 'problem'], ['CIS', 'B-CIS']]\n",
      "[['multiple', 'problem'], ['multiple', 'B-CIS']]\n",
      "[['sclerosis', 'problem'], ['sclerosis', 'I-CIS']]\n",
      "[['CIS', 'problem'], ['CIS', 'B-CIS']]\n",
      "[['EDSS', 'test'], ['EDSS', 'B-EDSS']]\n",
      "inscope: 9\n",
      "chron_00021 annotator2_chron_00021_correct\n",
      "chron_00021.txt\n"
     ]
    },
    {
     "name": "stderr",
     "output_type": "stream",
     "text": [
      "DEBUG:urllib3.connectionpool:https://huggingface.co:443 \"HEAD /sschet/bert-base-uncased_clinical-ner/resolve/main/config.json HTTP/1.1\" 200 0\n",
      "DEBUG:urllib3.connectionpool:https://huggingface.co:443 \"HEAD /sschet/bert-base-uncased_clinical-ner/resolve/main/vocab.txt HTTP/1.1\" 200 0\n"
     ]
    },
    {
     "name": "stdout",
     "output_type": "stream",
     "text": [
      "4 65 193 1\n",
      "annotated_num: 6\n",
      "[['Multiple', 'problem'], ['Multiple', 'B-MS_no_subtype']]\n",
      "[['Sclerosis', 'problem'], ['Sclerosis', 'I-MS_no_subtype']]\n",
      "[['multiple', 'problem'], ['multiple', 'B-MS_no_subtype']]\n",
      "[['sclerosis', 'problem'], ['sclerosis', 'I-MS_no_subtype']]\n",
      "inscope: 4\n",
      "chron_00022 annotator2_chron_00022_correct\n",
      "chron_00022.txt\n"
     ]
    },
    {
     "name": "stderr",
     "output_type": "stream",
     "text": [
      "DEBUG:urllib3.connectionpool:https://huggingface.co:443 \"HEAD /sschet/bert-base-uncased_clinical-ner/resolve/main/config.json HTTP/1.1\" 200 0\n",
      "DEBUG:urllib3.connectionpool:https://huggingface.co:443 \"HEAD /sschet/bert-base-uncased_clinical-ner/resolve/main/vocab.txt HTTP/1.1\" 200 0\n"
     ]
    },
    {
     "name": "stdout",
     "output_type": "stream",
     "text": [
      "9 376 567 1\n",
      "annotated_num: 12\n",
      "[['multiple', 'problem'], ['multiple', 'B-RRMS']]\n",
      "[['sclerosis', 'problem'], ['sclerosis', 'I-RRMS']]\n",
      "[['MULTIPLE', 'problem'], ['MULTIPLE', 'B-RRMS']]\n",
      "[['SCLEROSIS', 'problem'], ['SCLEROSIS', 'I-RRMS']]\n",
      "[['RRMS', 'test'], ['RRMS', 'B-RRMS']]\n",
      "[['Last', 'test'], ['Last', 'B-Temporal_history_of_relapse']]\n",
      "[['Flare', 'test'], ['Flare', 'I-Temporal_history_of_relapse']]\n",
      "[['RRMS', 'test'], ['RRMS', 'B-RRMS']]\n",
      "[['EDSS', 'test'], ['EDSS', 'B-EDSS']]\n",
      "inscope: 9\n",
      "chron_00023 annotator2_chron_00023_correct\n",
      "chron_00023.txt\n"
     ]
    },
    {
     "name": "stderr",
     "output_type": "stream",
     "text": [
      "DEBUG:urllib3.connectionpool:https://huggingface.co:443 \"HEAD /sschet/bert-base-uncased_clinical-ner/resolve/main/config.json HTTP/1.1\" 200 0\n",
      "DEBUG:urllib3.connectionpool:https://huggingface.co:443 \"HEAD /sschet/bert-base-uncased_clinical-ner/resolve/main/vocab.txt HTTP/1.1\" 200 0\n"
     ]
    },
    {
     "name": "stdout",
     "output_type": "stream",
     "text": [
      "2 17 19 1\n",
      "annotated_num: 3\n",
      "[['EDSS', 'test'], ['EDSS', 'B-EDSS']]\n",
      "[['SPMS', 'test'], ['SPMS', 'B-SPMS']]\n",
      "inscope: 2\n",
      "chron_00024 annotator2_chron_00024_correct\n",
      "chron_00024.txt\n"
     ]
    },
    {
     "name": "stderr",
     "output_type": "stream",
     "text": [
      "DEBUG:urllib3.connectionpool:https://huggingface.co:443 \"HEAD /sschet/bert-base-uncased_clinical-ner/resolve/main/config.json HTTP/1.1\" 200 0\n",
      "DEBUG:urllib3.connectionpool:https://huggingface.co:443 \"HEAD /sschet/bert-base-uncased_clinical-ner/resolve/main/vocab.txt HTTP/1.1\" 200 0\n"
     ]
    },
    {
     "name": "stdout",
     "output_type": "stream",
     "text": [
      "14 373 603 7\n",
      "annotated_num: 21\n",
      "[['multiple', 'problem'], ['multiple', 'I-RRMS']]\n",
      "[['sclerosis', 'problem'], ['sclerosis', 'I-RRMS']]\n",
      "[['MS', 'problem'], ['MS', 'B-RRMS']]\n",
      "[['MS', 'problem'], ['MS', 'B-RRMS']]\n",
      "[['Multiple', 'problem'], ['Multiple', 'B-RRMS']]\n",
      "[['Sclerosis', 'problem'], ['Sclerosis', 'I-RRMS']]\n",
      "[['MULTIPLE', 'problem'], ['MULTIPLE', 'B-RRMS']]\n",
      "[['SCLEROSIS', 'problem'], ['SCLEROSIS', 'I-RRMS']]\n",
      "[['RRMS', 'test'], ['RRMS', 'B-RRMS']]\n",
      "[['Last', 'test'], ['Last', 'B-Temporal_history_of_relapse']]\n",
      "[['Disease', 'problem'], ['Disease', 'I-Temporal_history_of_relapse']]\n",
      "[['Flare', 'problem'], ['Flare', 'I-Temporal_history_of_relapse']]\n",
      "[['RRMS', 'test'], ['RRMS', 'B-RRMS']]\n",
      "[['EDSS', 'test'], ['EDSS', 'B-EDSS']]\n",
      "inscope: 14\n",
      "chron_00025 annotator2_chron_00025_correct\n",
      "chron_00025.txt\n"
     ]
    },
    {
     "name": "stderr",
     "output_type": "stream",
     "text": [
      "DEBUG:urllib3.connectionpool:https://huggingface.co:443 \"HEAD /sschet/bert-base-uncased_clinical-ner/resolve/main/config.json HTTP/1.1\" 200 0\n",
      "DEBUG:urllib3.connectionpool:https://huggingface.co:443 \"HEAD /sschet/bert-base-uncased_clinical-ner/resolve/main/vocab.txt HTTP/1.1\" 200 0\n"
     ]
    },
    {
     "name": "stdout",
     "output_type": "stream",
     "text": [
      "7 244 527 0\n",
      "annotated_num: 8\n",
      "[['multiple', 'problem'], ['multiple', 'B-MS_no_subtype']]\n",
      "[['sclerosis', 'problem'], ['sclerosis', 'I-MS_no_subtype']]\n",
      "[['MS', 'problem'], ['MS', 'B-MS_no_subtype']]\n",
      "[['MS', 'problem'], ['MS', 'B-MS_no_subtype']]\n",
      "[['Multiple', 'problem'], ['Multiple', 'B-MS_no_subtype']]\n",
      "[['sclerosis', 'problem'], ['sclerosis', 'I-MS_no_subtype']]\n",
      "[['EDSS', 'test'], ['EDSS', 'B-EDSS']]\n",
      "inscope: 7\n",
      "chron_00026 annotator2_chron_00026_correct\n",
      "chron_00026.txt\n"
     ]
    },
    {
     "name": "stderr",
     "output_type": "stream",
     "text": [
      "DEBUG:urllib3.connectionpool:https://huggingface.co:443 \"HEAD /sschet/bert-base-uncased_clinical-ner/resolve/main/config.json HTTP/1.1\" 200 0\n",
      "DEBUG:urllib3.connectionpool:https://huggingface.co:443 \"HEAD /sschet/bert-base-uncased_clinical-ner/resolve/main/vocab.txt HTTP/1.1\" 200 0\n"
     ]
    },
    {
     "name": "stdout",
     "output_type": "stream",
     "text": [
      "16 547 859 4\n",
      "annotated_num: 20\n",
      "[['MULTIPLE', 'problem'], ['MULTIPLE', 'B-RRMS']]\n",
      "[['SCLEROSIS', 'problem'], ['SCLEROSIS', 'I-RRMS']]\n",
      "[['RRMS', 'test'], ['RRMS', 'B-RRMS']]\n",
      "[['minor', 'problem'], ['minor', 'B-Severity_Mild']]\n",
      "[['flare', 'problem'], ['flare', 'B-Temporal_history_of_relapse']]\n",
      "[['LLE', 'problem'], ['LLE', 'I-Temporal_history_of_relapse']]\n",
      "[['and', 'problem'], ['and', 'I-Temporal_history_of_relapse']]\n",
      "[['fatigue', 'problem'], ['fatigue', 'I-Temporal_history_of_relapse']]\n",
      "[['MS', 'test'], ['MS', 'B-RRMS']]\n",
      "[['MULTIPLE', 'problem'], ['MULTIPLE', 'B-RRMS']]\n",
      "[['SCLEROSIS', 'problem'], ['SCLEROSIS', 'I-RRMS']]\n",
      "[['Last', 'problem'], ['Last', 'B-Temporal_history_of_relapse']]\n",
      "[['Disease', 'problem'], ['Disease', 'I-Temporal_history_of_relapse']]\n",
      "[['Flare', 'problem'], ['Flare', 'I-Temporal_history_of_relapse']]\n",
      "[['RRMS', 'test'], ['RRMS', 'B-RRMS']]\n",
      "[['EDSS', 'test'], ['EDSS', 'B-EDSS']]\n",
      "inscope: 16\n",
      "chron_00027 annotator2_chron_00027_correct\n",
      "chron_00027.txt\n"
     ]
    },
    {
     "name": "stderr",
     "output_type": "stream",
     "text": [
      "DEBUG:urllib3.connectionpool:https://huggingface.co:443 \"HEAD /sschet/bert-base-uncased_clinical-ner/resolve/main/config.json HTTP/1.1\" 200 0\n",
      "DEBUG:urllib3.connectionpool:https://huggingface.co:443 \"HEAD /sschet/bert-base-uncased_clinical-ner/resolve/main/vocab.txt HTTP/1.1\" 200 0\n"
     ]
    },
    {
     "name": "stdout",
     "output_type": "stream",
     "text": [
      "7 545 785 1\n",
      "annotated_num: 8\n",
      "[['primary', 'problem'], ['primary', 'B-PPMS']]\n",
      "[['progressive', 'problem'], ['progressive', 'I-PPMS']]\n",
      "[['MS', 'problem'], ['MS', 'I-PPMS']]\n",
      "[['MULTIPLE', 'problem'], ['MULTIPLE', 'B-PPMS']]\n",
      "[['SCLEROSIS', 'problem'], ['SCLEROSIS', 'I-PPMS']]\n",
      "[['PPMS', 'problem'], ['PPMS', 'B-PPMS']]\n",
      "[['EDSS', 'test'], ['EDSS', 'B-EDSS']]\n",
      "inscope: 7\n",
      "chron_00028 annotator2_chron_00028_correct\n",
      "chron_00028.txt\n"
     ]
    },
    {
     "name": "stderr",
     "output_type": "stream",
     "text": [
      "DEBUG:urllib3.connectionpool:https://huggingface.co:443 \"HEAD /sschet/bert-base-uncased_clinical-ner/resolve/main/config.json HTTP/1.1\" 200 0\n",
      "DEBUG:urllib3.connectionpool:https://huggingface.co:443 \"HEAD /sschet/bert-base-uncased_clinical-ner/resolve/main/vocab.txt HTTP/1.1\" 200 0\n"
     ]
    },
    {
     "name": "stdout",
     "output_type": "stream",
     "text": [
      "18 488 717 11\n",
      "annotated_num: 30\n",
      "[['MULTIPLE', 'problem'], ['MULTIPLE', 'B-SPMS']]\n",
      "[['SCLEROSIS', 'problem'], ['SCLEROSIS', 'I-SPMS']]\n",
      "[['multiple', 'problem'], ['multiple', 'B-SPMS']]\n",
      "[['sclerosis', 'problem'], ['sclerosis', 'I-SPMS']]\n",
      "[['now', 'problem'], ['now', 'I-SPMS']]\n",
      "[['in', 'problem'], ['in', 'I-SPMS']]\n",
      "[['the', 'problem'], ['the', 'I-SPMS']]\n",
      "[['last', 'problem'], ['last', 'B-Temporal_history_of_relapse']]\n",
      "[['Multiple', 'problem'], ['Multiple', 'B-SPMS']]\n",
      "[['Sclerosis', 'problem'], ['Sclerosis', 'I-SPMS']]\n",
      "[['MULTIPLE', 'problem'], ['MULTIPLE', 'B-SPMS']]\n",
      "[['SCLEROSIS', 'problem'], ['SCLEROSIS', 'I-SPMS']]\n",
      "[['SPMS', 'problem'], ['SPMS', 'B-SPMS']]\n",
      "[['Last', 'problem'], ['Last', 'B-Temporal_history_of_relapse']]\n",
      "[['Disease', 'problem'], ['Disease', 'I-Temporal_history_of_relapse']]\n",
      "[['Flare', 'problem'], ['Flare', 'I-Temporal_history_of_relapse']]\n",
      "[['SPMS', 'problem'], ['SPMS', 'B-SPMS']]\n",
      "[['EDSS', 'test'], ['EDSS', 'B-EDSS']]\n",
      "inscope: 18\n",
      "chron_00029 annotator2_chron_00029_correct\n",
      "chron_00029.txt\n"
     ]
    },
    {
     "name": "stderr",
     "output_type": "stream",
     "text": [
      "DEBUG:urllib3.connectionpool:https://huggingface.co:443 \"HEAD /sschet/bert-base-uncased_clinical-ner/resolve/main/config.json HTTP/1.1\" 200 0\n",
      "DEBUG:urllib3.connectionpool:https://huggingface.co:443 \"HEAD /sschet/bert-base-uncased_clinical-ner/resolve/main/vocab.txt HTTP/1.1\" 200 0\n"
     ]
    },
    {
     "name": "stdout",
     "output_type": "stream",
     "text": [
      "17 476 700 14\n",
      "annotated_num: 31\n",
      "[['multiple', 'problem'], ['multiple', 'B-RRMS']]\n",
      "[['sclerosis', 'problem'], ['sclerosis', 'I-RRMS']]\n",
      "[['with', 'problem'], ['with', 'I-CIS']]\n",
      "[['clinically', 'problem'], ['clinically', 'I-CIS']]\n",
      "[['isolated', 'problem'], ['isolated', 'I-CIS']]\n",
      "[['syndrome', 'problem'], ['syndrome', 'I-CIS']]\n",
      "[['episode', 'problem'], ['episode', 'I-Temporal_history_of_relapse']]\n",
      "[['episode', 'problem'], ['episode', 'B-Temporal_history_of_relapse']]\n",
      "[['Multiple', 'problem'], ['Multiple', 'B-RRMS']]\n",
      "[['Sclerosis', 'problem'], ['Sclerosis', 'I-RRMS']]\n",
      "[['MULTIPLE', 'problem'], ['MULTIPLE', 'B-RRMS']]\n",
      "[['SCLEROSIS', 'problem'], ['SCLEROSIS', 'I-RRMS']]\n",
      "[['RRMS', 'test'], ['RRMS', 'B-RRMS']]\n",
      "[['MS', 'problem'], ['MS', 'B-RRMS']]\n",
      "[['RRMS', 'test'], ['RRMS', 'B-RRMS']]\n",
      "[['MS', 'problem'], ['MS', 'B-RRMS']]\n",
      "[['EDSS', 'test'], ['EDSS', 'B-EDSS']]\n",
      "inscope: 17\n",
      "chron_00030 annotator2_chron_00030_correct\n",
      "chron_00030.txt\n"
     ]
    },
    {
     "name": "stderr",
     "output_type": "stream",
     "text": [
      "DEBUG:urllib3.connectionpool:https://huggingface.co:443 \"HEAD /sschet/bert-base-uncased_clinical-ner/resolve/main/config.json HTTP/1.1\" 200 0\n",
      "DEBUG:urllib3.connectionpool:https://huggingface.co:443 \"HEAD /sschet/bert-base-uncased_clinical-ner/resolve/main/vocab.txt HTTP/1.1\" 200 0\n"
     ]
    },
    {
     "name": "stdout",
     "output_type": "stream",
     "text": [
      "15 556 772 5\n",
      "annotated_num: 20\n",
      "[['MS', 'problem'], ['MS', 'B-RRMS']]\n",
      "[['MULTIPLE', 'problem'], ['MULTIPLE', 'B-RRMS']]\n",
      "[['SCLEROSIS', 'problem'], ['SCLEROSIS', 'I-RRMS']]\n",
      "[['multiple', 'problem'], ['multiple', 'B-RRMS']]\n",
      "[['sclerosis', 'problem'], ['sclerosis', 'I-RRMS']]\n",
      "[['flare', 'problem'], ['flare', 'B-RRMS']]\n",
      "[['Multiple', 'problem'], ['Multiple', 'B-RRMS']]\n",
      "[['Sclerosis', 'problem'], ['Sclerosis', 'I-RRMS']]\n",
      "[['MULTIPLE', 'problem'], ['MULTIPLE', 'B-RRMS']]\n",
      "[['SCLEROSIS', 'problem'], ['SCLEROSIS', 'I-RRMS']]\n",
      "[['Last', 'problem'], ['Last', 'B-Temporal_history_of_relapse']]\n",
      "[['Disease', 'problem'], ['Disease', 'I-Temporal_history_of_relapse']]\n",
      "[['Flare', 'problem'], ['Flare', 'I-Temporal_history_of_relapse']]\n",
      "[['RRMS', 'test'], ['RRMS', 'B-RRMS']]\n",
      "[['EDSS', 'test'], ['EDSS', 'B-EDSS']]\n",
      "inscope: 15\n",
      "chron_00031 annotator2_chron_00031_correct\n",
      "chron_00031.txt\n"
     ]
    },
    {
     "name": "stderr",
     "output_type": "stream",
     "text": [
      "DEBUG:urllib3.connectionpool:https://huggingface.co:443 \"HEAD /sschet/bert-base-uncased_clinical-ner/resolve/main/config.json HTTP/1.1\" 200 0\n",
      "DEBUG:urllib3.connectionpool:https://huggingface.co:443 \"HEAD /sschet/bert-base-uncased_clinical-ner/resolve/main/vocab.txt HTTP/1.1\" 200 0\n",
      "DEBUG:urllib3.connectionpool:https://huggingface.co:443 \"HEAD /sschet/bert-base-uncased_clinical-ner/resolve/main/config.json HTTP/1.1\" 200 0\n"
     ]
    },
    {
     "name": "stdout",
     "output_type": "stream",
     "text": [
      "4 465 627 1\n",
      "annotated_num: 5\n",
      "[['MS', 'problem'], ['MS', 'B-MS_no_subtype']]\n",
      "[['EDSS', 'test'], ['EDSS', 'B-EDSS']]\n",
      "[['EDSS', 'test'], ['EDSS', 'B-EDSS']]\n",
      "[['MS', 'problem'], ['MS', 'B-MS_no_subtype']]\n",
      "inscope: 4\n",
      "chron_00032 annotator2_chron_00032_correct\n",
      "chron_00032.txt\n"
     ]
    },
    {
     "name": "stderr",
     "output_type": "stream",
     "text": [
      "DEBUG:urllib3.connectionpool:https://huggingface.co:443 \"HEAD /sschet/bert-base-uncased_clinical-ner/resolve/main/vocab.txt HTTP/1.1\" 200 0\n"
     ]
    },
    {
     "name": "stdout",
     "output_type": "stream",
     "text": [
      "8 366 443 3\n",
      "annotated_num: 12\n",
      "[['relapse', 'problem'], ['relapse', 'B-RRMS']]\n",
      "[['MS', 'problem'], ['MS', 'B-RRMS']]\n",
      "[['MS', 'problem'], ['MS', 'B-RRMS']]\n",
      "[['EDSS', 'test'], ['EDSS', 'B-EDSS']]\n",
      "[['MS', 'problem'], ['MS', 'B-RRMS']]\n",
      "[['relapse', 'problem'], ['relapse', 'B-RRMS']]\n",
      "[['EDSS', 'test'], ['EDSS', 'B-EDSS']]\n",
      "[['MS', 'problem'], ['MS', 'B-RRMS']]\n",
      "inscope: 8\n",
      "chron_00033 annotator2_chron_00033_correct\n",
      "chron_00033.txt\n"
     ]
    },
    {
     "name": "stderr",
     "output_type": "stream",
     "text": [
      "DEBUG:urllib3.connectionpool:https://huggingface.co:443 \"HEAD /sschet/bert-base-uncased_clinical-ner/resolve/main/config.json HTTP/1.1\" 200 0\n"
     ]
    },
    {
     "name": "stdout",
     "output_type": "stream",
     "text": [
      "2 414 567 2\n",
      "annotated_num: 4\n",
      "[['CIS', 'problem'], ['CIS', 'B-CIS']]\n",
      "[['EDSS', 'test'], ['EDSS', 'B-EDSS']]\n",
      "inscope: 2\n",
      "chron_00034 annotator2_chron_00034_correct\n",
      "chron_00034.txt\n"
     ]
    },
    {
     "name": "stderr",
     "output_type": "stream",
     "text": [
      "DEBUG:urllib3.connectionpool:https://huggingface.co:443 \"HEAD /sschet/bert-base-uncased_clinical-ner/resolve/main/vocab.txt HTTP/1.1\" 200 0\n",
      "DEBUG:urllib3.connectionpool:https://huggingface.co:443 \"HEAD /sschet/bert-base-uncased_clinical-ner/resolve/main/config.json HTTP/1.1\" 200 0\n",
      "DEBUG:urllib3.connectionpool:https://huggingface.co:443 \"HEAD /sschet/bert-base-uncased_clinical-ner/resolve/main/vocab.txt HTTP/1.1\" 200 0\n"
     ]
    },
    {
     "name": "stdout",
     "output_type": "stream",
     "text": [
      "11 161 438 6\n",
      "annotated_num: 20\n",
      "[['multiple', 'problem'], ['multiple', 'B-SPMS']]\n",
      "[['Multiple', 'problem'], ['Multiple', 'B-SPMS']]\n",
      "[['sclerosis', 'problem'], ['sclerosis', 'I-SPMS']]\n",
      "[['chronic', 'problem'], ['chronic', 'I-SPMS']]\n",
      "[['as', 'test'], ['as', 'I-SPMS']]\n",
      "[['secondarily', 'problem'], ['secondarily', 'I-SPMS']]\n",
      "[['EDSS', 'test'], ['EDSS', 'B-EDSS']]\n",
      "[['Secondarily', 'problem'], ['Secondarily', 'B-SPMS']]\n",
      "[['progressive', 'problem'], ['progressive', 'I-SPMS']]\n",
      "[['multiple', 'problem'], ['multiple', 'I-SPMS']]\n",
      "[['sclerosis', 'problem'], ['sclerosis', 'I-SPMS']]\n",
      "inscope: 11\n",
      "chron_00035 annotator2_chron_00035_correct\n",
      "chron_00035.txt\n"
     ]
    },
    {
     "name": "stderr",
     "output_type": "stream",
     "text": [
      "DEBUG:urllib3.connectionpool:https://huggingface.co:443 \"HEAD /sschet/bert-base-uncased_clinical-ner/resolve/main/config.json HTTP/1.1\" 200 0\n",
      "DEBUG:urllib3.connectionpool:https://huggingface.co:443 \"HEAD /sschet/bert-base-uncased_clinical-ner/resolve/main/vocab.txt HTTP/1.1\" 200 0\n"
     ]
    },
    {
     "name": "stdout",
     "output_type": "stream",
     "text": [
      "16 399 840 1\n",
      "annotated_num: 17\n",
      "[['multiple', 'problem'], ['multiple', 'B-PPMS']]\n",
      "[['sclerosis', 'problem'], ['sclerosis', 'I-PPMS']]\n",
      "[['primary', 'problem'], ['primary', 'B-PPMS']]\n",
      "[['progressive', 'problem'], ['progressive', 'I-PPMS']]\n",
      "[['MS', 'problem'], ['MS', 'I-PPMS']]\n",
      "[['PPMS', 'problem'], ['PPMS', 'B-PPMS']]\n",
      "[['Multiple', 'problem'], ['Multiple', 'B-PPMS']]\n",
      "[['Sclerosis', 'problem'], ['Sclerosis', 'I-PPMS']]\n",
      "[['MULTIPLE', 'problem'], ['MULTIPLE', 'B-PPMS']]\n",
      "[['SCLEROSIS', 'problem'], ['SCLEROSIS', 'I-PPMS']]\n",
      "[['Primary', 'problem'], ['Primary', 'B-PPMS']]\n",
      "[['progressive', 'problem'], ['progressive', 'I-PPMS']]\n",
      "[['multiple', 'problem'], ['multiple', 'I-PPMS']]\n",
      "[['sclerosis', 'problem'], ['sclerosis', 'I-PPMS']]\n",
      "[['PPMS', 'problem'], ['PPMS', 'B-PPMS']]\n",
      "[['EDSS', 'test'], ['EDSS', 'B-EDSS']]\n",
      "inscope: 16\n",
      "chron_00036 annotator2_chron_00036_correct\n",
      "chron_00036.txt\n"
     ]
    },
    {
     "name": "stderr",
     "output_type": "stream",
     "text": [
      "DEBUG:urllib3.connectionpool:https://huggingface.co:443 \"HEAD /sschet/bert-base-uncased_clinical-ner/resolve/main/config.json HTTP/1.1\" 200 0\n",
      "DEBUG:urllib3.connectionpool:https://huggingface.co:443 \"HEAD /sschet/bert-base-uncased_clinical-ner/resolve/main/vocab.txt HTTP/1.1\" 200 0\n"
     ]
    },
    {
     "name": "stdout",
     "output_type": "stream",
     "text": [
      "22 482 991 12\n",
      "annotated_num: 40\n",
      "[['MS', 'problem'], ['MS', 'B-RRMS']]\n",
      "[['RRMS', 'test'], ['RRMS', 'B-RRMS']]\n",
      "[['/', 'problem'], ['/', 'I-Temporal_history_of_relapse']]\n",
      "[['RR', 'test'], ['RR', 'B-RRMS']]\n",
      "[['MS', 'problem'], ['MS', 'I-RRMS']]\n",
      "[['new', 'problem'], ['new', 'B-Temporal_history_of_relapse']]\n",
      "[['and', 'problem'], ['and', 'I-Temporal_history_of_relapse']]\n",
      "[['intermittent', 'problem'], ['intermittent', 'I-Temporal_history_of_relapse']]\n",
      "[['numbness', 'problem'], ['numbness', 'I-Temporal_history_of_relapse']]\n",
      "[['tingling', 'problem'], ['tingling', 'I-Temporal_history_of_relapse']]\n",
      "[['Multiple', 'problem'], ['Multiple', 'B-RRMS']]\n",
      "[['sclerosis', 'problem'], ['sclerosis', 'I-RRMS']]\n",
      "[['MS', 'problem'], ['MS', 'B-RRMS']]\n",
      "[['1', 'test'], ['1', 'I-EDSS_Value']]\n",
      "[['EDSS', 'test'], ['EDSS', 'B-EDSS']]\n",
      "[['EDSS', 'test'], ['EDSS', 'B-EDSS']]\n",
      "[['Multiple', 'problem'], ['Multiple', 'B-RRMS']]\n",
      "[['sclerosis', 'problem'], ['sclerosis', 'I-RRMS']]\n",
      "[['MS', 'problem'], ['MS', 'B-RRMS']]\n",
      "[['MS', 'problem'], ['MS', 'B-RRMS']]\n",
      "[['RRMS', 'test'], ['RRMS', 'B-RRMS']]\n",
      "[['attacks', 'problem'], ['attacks', 'B-RRMS']]\n",
      "inscope: 22\n",
      "chron_00037 annotator2_chron_00037_correct\n",
      "chron_00037.txt\n"
     ]
    },
    {
     "name": "stderr",
     "output_type": "stream",
     "text": [
      "DEBUG:urllib3.connectionpool:https://huggingface.co:443 \"HEAD /sschet/bert-base-uncased_clinical-ner/resolve/main/config.json HTTP/1.1\" 200 0\n",
      "DEBUG:urllib3.connectionpool:https://huggingface.co:443 \"HEAD /sschet/bert-base-uncased_clinical-ner/resolve/main/vocab.txt HTTP/1.1\" 200 0\n"
     ]
    },
    {
     "name": "stdout",
     "output_type": "stream",
     "text": [
      "14 371 605 5\n",
      "annotated_num: 19\n",
      "[['multiple', 'problem'], ['multiple', 'I-RRMS']]\n",
      "[['sclerosis', 'problem'], ['sclerosis', 'I-RRMS']]\n",
      "[['MULTIPLE', 'problem'], ['MULTIPLE', 'B-RRMS']]\n",
      "[['SCLEROSIS', 'problem'], ['SCLEROSIS', 'I-RRMS']]\n",
      "[['multiple', 'problem'], ['multiple', 'I-RRMS']]\n",
      "[['sclerosis', 'problem'], ['sclerosis', 'I-RRMS']]\n",
      "[['Last', 'problem'], ['Last', 'B-Temporal_history_of_relapse']]\n",
      "[['Disease', 'problem'], ['Disease', 'I-Temporal_history_of_relapse']]\n",
      "[['Flare', 'problem'], ['Flare', 'I-Temporal_history_of_relapse']]\n",
      "[['EDSS', 'test'], ['EDSS', 'B-EDSS']]\n",
      "[['RRMS', 'test'], ['RRMS', 'B-RRMS']]\n",
      "[['EDSS', 'test'], ['EDSS', 'B-EDSS']]\n",
      "[['2', 'problem'], ['2', 'B-EDSS_Value']]\n",
      "[['2', 'problem'], ['2', 'B-EDSS_Value']]\n",
      "inscope: 14\n",
      "chron_00038 annotator2_chron_00038_correct\n",
      "chron_00038.txt\n"
     ]
    },
    {
     "name": "stderr",
     "output_type": "stream",
     "text": [
      "DEBUG:urllib3.connectionpool:https://huggingface.co:443 \"HEAD /sschet/bert-base-uncased_clinical-ner/resolve/main/config.json HTTP/1.1\" 200 0\n"
     ]
    },
    {
     "name": "stdout",
     "output_type": "stream",
     "text": [
      "12 460 654 6\n",
      "annotated_num: 18\n",
      "[['-', 'test'], ['-', 'I-RRMS']]\n",
      "[['multiple', 'problem'], ['multiple', 'I-RRMS']]\n",
      "[['sclerosis', 'problem'], ['sclerosis', 'I-RRMS']]\n",
      "[['MS', 'problem'], ['MS', 'B-RRMS']]\n",
      "[[',', 'problem'], [',', 'I-RRMS']]\n",
      "[['MS', 'problem'], ['MS', 'B-RRMS']]\n",
      "[['SCLEROSIS', 'problem'], ['SCLEROSIS', 'B-RRMS']]\n",
      "[['MULTIPLE', 'problem'], ['MULTIPLE', 'I-RRMS']]\n",
      "[['Last', 'problem'], ['Last', 'B-Temporal_history_of_relapse']]\n",
      "[['Disease', 'problem'], ['Disease', 'I-Temporal_history_of_relapse']]\n",
      "[['Flare', 'problem'], ['Flare', 'I-Temporal_history_of_relapse']]\n",
      "[['EDSS', 'test'], ['EDSS', 'B-EDSS']]\n",
      "inscope: 12\n",
      "chron_00039 annotator2_chron_00039_correct\n",
      "chron_00039.txt\n"
     ]
    },
    {
     "name": "stderr",
     "output_type": "stream",
     "text": [
      "DEBUG:urllib3.connectionpool:https://huggingface.co:443 \"HEAD /sschet/bert-base-uncased_clinical-ner/resolve/main/vocab.txt HTTP/1.1\" 200 0\n",
      "DEBUG:urllib3.connectionpool:https://huggingface.co:443 \"HEAD /sschet/bert-base-uncased_clinical-ner/resolve/main/config.json HTTP/1.1\" 200 0\n",
      "DEBUG:urllib3.connectionpool:https://huggingface.co:443 \"HEAD /sschet/bert-base-uncased_clinical-ner/resolve/main/vocab.txt HTTP/1.1\" 200 0\n"
     ]
    },
    {
     "name": "stdout",
     "output_type": "stream",
     "text": [
      "13 378 617 2\n",
      "annotated_num: 15\n",
      "[['MULTIPLE', 'problem'], ['MULTIPLE', 'B-RRMS']]\n",
      "[['SCLEROSIS', 'problem'], ['SCLEROSIS', 'I-RRMS']]\n",
      "[['multiple', 'problem'], ['multiple', 'B-RRMS']]\n",
      "[['sclerosis', 'problem'], ['sclerosis', 'I-RRMS']]\n",
      "[['Multiple', 'problem'], ['Multiple', 'B-RRMS']]\n",
      "[['Sclerosis', 'problem'], ['Sclerosis', 'I-RRMS']]\n",
      "[['MULTIPLE', 'problem'], ['MULTIPLE', 'B-RRMS']]\n",
      "[['SCLEROSIS', 'problem'], ['SCLEROSIS', 'I-RRMS']]\n",
      "[['Last', 'problem'], ['Last', 'B-Temporal_history_of_relapse']]\n",
      "[['Disease', 'problem'], ['Disease', 'I-Temporal_history_of_relapse']]\n",
      "[['Flare', 'problem'], ['Flare', 'I-Temporal_history_of_relapse']]\n",
      "[['RRMS', 'test'], ['RRMS', 'B-RRMS']]\n",
      "[['EDSS', 'test'], ['EDSS', 'B-EDSS']]\n",
      "inscope: 13\n",
      "chron_00040 annotator2_chron_00040_correct\n",
      "chron_00040.txt\n"
     ]
    },
    {
     "name": "stderr",
     "output_type": "stream",
     "text": [
      "DEBUG:urllib3.connectionpool:https://huggingface.co:443 \"HEAD /sschet/bert-base-uncased_clinical-ner/resolve/main/config.json HTTP/1.1\" 200 0\n",
      "DEBUG:urllib3.connectionpool:https://huggingface.co:443 \"HEAD /sschet/bert-base-uncased_clinical-ner/resolve/main/vocab.txt HTTP/1.1\" 200 0\n"
     ]
    },
    {
     "name": "stdout",
     "output_type": "stream",
     "text": [
      "7 478 933 3\n",
      "annotated_num: 12\n",
      "[['MS', 'problem'], ['MS', 'B-RRMS']]\n",
      "[['MS', 'problem'], ['MS', 'B-RRMS']]\n",
      "[['SCLEROSIS', 'problem'], ['SCLEROSIS', 'I-RRMS']]\n",
      "[['relapse', 'problem'], ['relapse', 'I-Temporal_history_of_relapse']]\n",
      "[['last', 'test'], ['last', 'B-Relapse_year']]\n",
      "[['y', 'problem'], ['y', 'I-Relapse_year']]\n",
      "[['EDSS', 'test'], ['EDSS', 'B-EDSS']]\n",
      "inscope: 7\n",
      "gastropa_00031 annotator2_gastropa_00031_correct\n",
      "gastropa_00031.txt\n"
     ]
    },
    {
     "name": "stderr",
     "output_type": "stream",
     "text": [
      "DEBUG:urllib3.connectionpool:https://huggingface.co:443 \"HEAD /sschet/bert-base-uncased_clinical-ner/resolve/main/config.json HTTP/1.1\" 200 0\n",
      "DEBUG:urllib3.connectionpool:https://huggingface.co:443 \"HEAD /sschet/bert-base-uncased_clinical-ner/resolve/main/vocab.txt HTTP/1.1\" 200 0\n"
     ]
    },
    {
     "name": "stdout",
     "output_type": "stream",
     "text": [
      "1 66 148 0\n",
      "annotated_num: 1\n",
      "[['MS', 'problem'], ['MS', 'B-MS_no_subtype']]\n",
      "inscope: 1\n",
      "quantitative_00001 annotator2_quantitative_00001_correct\n",
      "quantitative_00001.txt\n"
     ]
    },
    {
     "name": "stderr",
     "output_type": "stream",
     "text": [
      "DEBUG:urllib3.connectionpool:https://huggingface.co:443 \"HEAD /sschet/bert-base-uncased_clinical-ner/resolve/main/config.json HTTP/1.1\" 200 0\n",
      "DEBUG:urllib3.connectionpool:https://huggingface.co:443 \"HEAD /sschet/bert-base-uncased_clinical-ner/resolve/main/vocab.txt HTTP/1.1\" 200 0\n",
      "DEBUG:urllib3.connectionpool:https://huggingface.co:443 \"HEAD /sschet/bert-base-uncased_clinical-ner/resolve/main/config.json HTTP/1.1\" 200 0\n"
     ]
    },
    {
     "name": "stdout",
     "output_type": "stream",
     "text": [
      "5 624 752 4\n",
      "annotated_num: 10\n",
      "[['MS', 'problem'], ['MS', 'B-RRMS']]\n",
      "[['Multiple', 'problem'], ['Multiple', 'B-RRMS']]\n",
      "[['sclerosis', 'problem'], ['sclerosis', 'I-RRMS']]\n",
      "[['MS', 'problem'], ['MS', 'B-RRMS']]\n",
      "[['EDSS', 'test'], ['EDSS', 'B-EDSS']]\n",
      "inscope: 5\n",
      "quantitative_00002 annotator2_quantitative_00002_correct\n",
      "quantitative_00002.txt\n"
     ]
    },
    {
     "name": "stderr",
     "output_type": "stream",
     "text": [
      "DEBUG:urllib3.connectionpool:https://huggingface.co:443 \"HEAD /sschet/bert-base-uncased_clinical-ner/resolve/main/vocab.txt HTTP/1.1\" 200 0\n"
     ]
    },
    {
     "name": "stdout",
     "output_type": "stream",
     "text": [
      "7 662 659 3\n",
      "annotated_num: 12\n",
      "[['MS', 'problem'], ['MS', 'B-RRMS']]\n",
      "[['MS', 'problem'], ['MS', 'B-RRMS']]\n",
      "[['multiple', 'problem'], ['multiple', 'B-RRMS']]\n",
      "[['Multiple', 'problem'], ['Multiple', 'B-RRMS']]\n",
      "[['sclerosis', 'problem'], ['sclerosis', 'I-RRMS']]\n",
      "[['MS', 'problem'], ['MS', 'B-RRMS']]\n",
      "[['EDSS', 'test'], ['EDSS', 'B-EDSS']]\n",
      "inscope: 7\n",
      "quantitative_00003 annotator2_quantitative_00003_correct\n",
      "quantitative_00003.txt\n"
     ]
    },
    {
     "name": "stderr",
     "output_type": "stream",
     "text": [
      "DEBUG:urllib3.connectionpool:https://huggingface.co:443 \"HEAD /sschet/bert-base-uncased_clinical-ner/resolve/main/config.json HTTP/1.1\" 200 0\n",
      "DEBUG:urllib3.connectionpool:https://huggingface.co:443 \"HEAD /sschet/bert-base-uncased_clinical-ner/resolve/main/vocab.txt HTTP/1.1\" 200 0\n"
     ]
    },
    {
     "name": "stdout",
     "output_type": "stream",
     "text": [
      "7 168 127 1\n",
      "annotated_num: 8\n",
      "[['MS', 'test'], ['MS', 'B-MS_no_subtype']]\n",
      "[['multiple', 'problem'], ['multiple', 'B-MS_no_subtype']]\n",
      "[['sclerosis', 'problem'], ['sclerosis', 'I-MS_no_subtype']]\n",
      "[['multiple', 'problem'], ['multiple', 'B-MS_no_subtype']]\n",
      "[['sclerosis', 'problem'], ['sclerosis', 'I-MS_no_subtype']]\n",
      "[['MS', 'test'], ['MS', 'B-MS_no_subtype']]\n",
      "[['EDSS', 'test'], ['EDSS', 'B-EDSS']]\n",
      "inscope: 7\n",
      "quantitative_00004 annotator2_quantitative_00004_correct\n",
      "quantitative_00004.txt\n"
     ]
    },
    {
     "name": "stderr",
     "output_type": "stream",
     "text": [
      "DEBUG:urllib3.connectionpool:https://huggingface.co:443 \"HEAD /sschet/bert-base-uncased_clinical-ner/resolve/main/config.json HTTP/1.1\" 200 0\n",
      "DEBUG:urllib3.connectionpool:https://huggingface.co:443 \"HEAD /sschet/bert-base-uncased_clinical-ner/resolve/main/vocab.txt HTTP/1.1\" 200 0\n"
     ]
    },
    {
     "name": "stdout",
     "output_type": "stream",
     "text": [
      "9 252 455 6\n",
      "annotated_num: 17\n",
      "[['multiple', 'problem'], ['multiple', 'I-RRMS']]\n",
      "[['sclerosis', 'problem'], ['sclerosis', 'I-RRMS']]\n",
      "[['multiple', 'problem'], ['multiple', 'I-RRMS']]\n",
      "[['sclerosis', 'problem'], ['sclerosis', 'I-RRMS']]\n",
      "[['EDSS', 'test'], ['EDSS', 'B-EDSS']]\n",
      "[['multiple', 'problem'], ['multiple', 'B-RRMS']]\n",
      "[['sclerosis', 'problem'], ['sclerosis', 'I-RRMS']]\n",
      "[['multiple', 'problem'], ['multiple', 'I-RRMS']]\n",
      "[['sclerosis', 'problem'], ['sclerosis', 'I-RRMS']]\n",
      "inscope: 9\n",
      "quantitative_00006 annotator2_quantitative_00006_correct\n",
      "quantitative_00006.txt\n"
     ]
    },
    {
     "name": "stderr",
     "output_type": "stream",
     "text": [
      "DEBUG:urllib3.connectionpool:https://huggingface.co:443 \"HEAD /sschet/bert-base-uncased_clinical-ner/resolve/main/config.json HTTP/1.1\" 200 0\n",
      "DEBUG:urllib3.connectionpool:https://huggingface.co:443 \"HEAD /sschet/bert-base-uncased_clinical-ner/resolve/main/vocab.txt HTTP/1.1\" 200 0\n"
     ]
    },
    {
     "name": "stdout",
     "output_type": "stream",
     "text": [
      "12 484 742 12\n",
      "annotated_num: 24\n",
      "[['-', 'problem'], ['-', 'I-RRMS']]\n",
      "[['multiple', 'problem'], ['multiple', 'I-RRMS']]\n",
      "[['sclerosis', 'problem'], ['sclerosis', 'I-RRMS']]\n",
      "[['exacerbations', 'problem'], ['exacerbations', 'B-Temporal_history_of_relapse']]\n",
      "[['relapse', 'problem'], ['relapse', 'B-RRMS']]\n",
      "[['MS', 'problem'], ['MS', 'B-RRMS']]\n",
      "[['multiple', 'problem'], ['multiple', 'B-RRMS']]\n",
      "[['sclerosis', 'problem'], ['sclerosis', 'I-RRMS']]\n",
      "[['EDSS', 'test'], ['EDSS', 'B-EDSS']]\n",
      "[['-', 'problem'], ['-', 'I-RRMS']]\n",
      "[['multiple', 'problem'], ['multiple', 'I-RRMS']]\n",
      "[['sclerosis', 'problem'], ['sclerosis', 'I-RRMS']]\n",
      "inscope: 12\n",
      "quantitative_00007 annotator2_quantitative_00007_correct\n",
      "quantitative_00007.txt\n"
     ]
    },
    {
     "name": "stderr",
     "output_type": "stream",
     "text": [
      "DEBUG:urllib3.connectionpool:https://huggingface.co:443 \"HEAD /sschet/bert-base-uncased_clinical-ner/resolve/main/config.json HTTP/1.1\" 200 0\n",
      "DEBUG:urllib3.connectionpool:https://huggingface.co:443 \"HEAD /sschet/bert-base-uncased_clinical-ner/resolve/main/vocab.txt HTTP/1.1\" 200 0\n"
     ]
    },
    {
     "name": "stdout",
     "output_type": "stream",
     "text": [
      "1 37 103 2\n",
      "annotated_num: 4\n",
      "[['MS', 'problem'], ['MS', 'B-RRMS']]\n",
      "inscope: 1\n",
      "quantitative_00008 annotator2_quantitative_00008_correct\n",
      "quantitative_00008.txt\n"
     ]
    },
    {
     "name": "stderr",
     "output_type": "stream",
     "text": [
      "DEBUG:urllib3.connectionpool:https://huggingface.co:443 \"HEAD /sschet/bert-base-uncased_clinical-ner/resolve/main/config.json HTTP/1.1\" 200 0\n"
     ]
    },
    {
     "name": "stdout",
     "output_type": "stream",
     "text": [
      "10 709 716 3\n",
      "annotated_num: 15\n",
      "[['MS', 'problem'], ['MS', 'B-RRMS']]\n",
      "[['Multiple', 'problem'], ['Multiple', 'I-RRMS']]\n",
      "[['Sclerosis', 'problem'], ['Sclerosis', 'I-RRMS']]\n",
      "[['Multiple', 'problem'], ['Multiple', 'B-RRMS']]\n",
      "[['sclerosis', 'problem'], ['sclerosis', 'I-RRMS']]\n",
      "[['Multiple', 'problem'], ['Multiple', 'B-RRMS']]\n",
      "[['sclerosis', 'problem'], ['sclerosis', 'I-RRMS']]\n",
      "[['MS', 'problem'], ['MS', 'B-RRMS']]\n",
      "[['EDSS', 'test'], ['EDSS', 'B-EDSS']]\n",
      "[['relapse', 'problem'], ['relapse', 'B-RRMS']]\n",
      "inscope: 10\n",
      "quantitative_00009 annotator2_quantitative_00009_correct\n",
      "quantitative_00009.txt\n"
     ]
    },
    {
     "name": "stderr",
     "output_type": "stream",
     "text": [
      "DEBUG:urllib3.connectionpool:https://huggingface.co:443 \"HEAD /sschet/bert-base-uncased_clinical-ner/resolve/main/vocab.txt HTTP/1.1\" 200 0\n",
      "DEBUG:urllib3.connectionpool:https://huggingface.co:443 \"HEAD /sschet/bert-base-uncased_clinical-ner/resolve/main/config.json HTTP/1.1\" 200 0\n",
      "DEBUG:urllib3.connectionpool:https://huggingface.co:443 \"HEAD /sschet/bert-base-uncased_clinical-ner/resolve/main/vocab.txt HTTP/1.1\" 200 0\n",
      "DEBUG:urllib3.connectionpool:https://huggingface.co:443 \"HEAD /sschet/bert-base-uncased_clinical-ner/resolve/main/config.json HTTP/1.1\" 200 0\n"
     ]
    },
    {
     "name": "stdout",
     "output_type": "stream",
     "text": [
      "1 97 101 2\n",
      "annotated_num: 4\n",
      "[['EDSS', 'test'], ['EDSS', 'B-EDSS']]\n",
      "inscope: 1\n",
      "quantitative_00010 annotator2_quantitative_00010_correct\n",
      "quantitative_00010.txt\n"
     ]
    },
    {
     "name": "stderr",
     "output_type": "stream",
     "text": [
      "DEBUG:urllib3.connectionpool:https://huggingface.co:443 \"HEAD /sschet/bert-base-uncased_clinical-ner/resolve/main/vocab.txt HTTP/1.1\" 200 0\n",
      "DEBUG:urllib3.connectionpool:https://huggingface.co:443 \"HEAD /sschet/bert-base-uncased_clinical-ner/resolve/main/config.json HTTP/1.1\" 200 0\n"
     ]
    },
    {
     "name": "stdout",
     "output_type": "stream",
     "text": [
      "3 47 130 4\n",
      "annotated_num: 7\n",
      "[['MULTIPLE', 'problem'], ['MULTIPLE', 'I-RRMS']]\n",
      "[['SCLEROSIS', 'problem'], ['SCLEROSIS', 'I-RRMS']]\n",
      "[['MS', 'problem'], ['MS', 'B-RRMS']]\n",
      "inscope: 3\n",
      "quantitative_00011 annotator2_quantitative_00011_correct\n",
      "quantitative_00011.txt\n",
      "4 227 302 3\n",
      "annotated_num: 8\n",
      "[['MS', 'test'], ['MS', 'B-PPMS']]\n",
      "[['EDSS', 'test'], ['EDSS', 'B-EDSS']]\n",
      "[['MS', 'test'], ['MS', 'B-PPMS']]\n",
      "[['MS', 'test'], ['MS', 'B-PPMS']]\n",
      "inscope: 4\n",
      "quantitative_00012 annotator2_quantitative_00012_correct\n",
      "quantitative_00012.txt\n"
     ]
    },
    {
     "name": "stderr",
     "output_type": "stream",
     "text": [
      "DEBUG:urllib3.connectionpool:https://huggingface.co:443 \"HEAD /sschet/bert-base-uncased_clinical-ner/resolve/main/vocab.txt HTTP/1.1\" 200 0\n",
      "DEBUG:urllib3.connectionpool:https://huggingface.co:443 \"HEAD /sschet/bert-base-uncased_clinical-ner/resolve/main/config.json HTTP/1.1\" 200 0\n",
      "DEBUG:urllib3.connectionpool:https://huggingface.co:443 \"HEAD /sschet/bert-base-uncased_clinical-ner/resolve/main/vocab.txt HTTP/1.1\" 200 0\n"
     ]
    },
    {
     "name": "stdout",
     "output_type": "stream",
     "text": [
      "5 175 329 1\n",
      "annotated_num: 6\n",
      "[['MS', 'test'], ['MS', 'B-PPMS']]\n",
      "[['MS', 'test'], ['MS', 'B-PPMS']]\n",
      "[['MS', 'test'], ['MS', 'B-PPMS']]\n",
      "[['PPMS', 'problem'], ['PPMS', 'B-PPMS']]\n",
      "[['EDSS', 'test'], ['EDSS', 'B-EDSS']]\n",
      "inscope: 5\n",
      "quantitative_00013 annotator2_quantitative_00013_correct\n",
      "quantitative_00013.txt\n"
     ]
    },
    {
     "name": "stderr",
     "output_type": "stream",
     "text": [
      "DEBUG:urllib3.connectionpool:https://huggingface.co:443 \"HEAD /sschet/bert-base-uncased_clinical-ner/resolve/main/config.json HTTP/1.1\" 200 0\n",
      "DEBUG:urllib3.connectionpool:https://huggingface.co:443 \"HEAD /sschet/bert-base-uncased_clinical-ner/resolve/main/vocab.txt HTTP/1.1\" 200 0\n"
     ]
    },
    {
     "name": "stdout",
     "output_type": "stream",
     "text": [
      "13 275 579 4\n",
      "annotated_num: 20\n",
      "[['multiple', 'problem'], ['multiple', 'B-SPMS']]\n",
      "[['sclerosis', 'problem'], ['sclerosis', 'I-SPMS']]\n",
      "[['MS', 'problem'], ['MS', 'B-SPMS']]\n",
      "[['with', 'problem'], ['with', 'I-SPMS']]\n",
      "[['to', 'problem'], ['to', 'I-SPMS']]\n",
      "[['a', 'problem'], ['a', 'I-SPMS']]\n",
      "[['secondary', 'problem'], ['secondary', 'I-SPMS']]\n",
      "[['progressive', 'problem'], ['progressive', 'I-SPMS']]\n",
      "[['MS', 'problem'], ['MS', 'I-SPMS']]\n",
      "[['EDSS', 'test'], ['EDSS', 'B-EDSS']]\n",
      "[['MS', 'problem'], ['MS', 'B-SPMS']]\n",
      "[['Multiple', 'problem'], ['Multiple', 'B-SPMS']]\n",
      "[['sclerosis', 'problem'], ['sclerosis', 'I-SPMS']]\n",
      "inscope: 13\n",
      "quantitative_00014 annotator2_quantitative_00014_correct\n",
      "quantitative_00014.txt\n"
     ]
    },
    {
     "name": "stderr",
     "output_type": "stream",
     "text": [
      "DEBUG:urllib3.connectionpool:https://huggingface.co:443 \"HEAD /sschet/bert-base-uncased_clinical-ner/resolve/main/config.json HTTP/1.1\" 200 0\n",
      "DEBUG:urllib3.connectionpool:https://huggingface.co:443 \"HEAD /sschet/bert-base-uncased_clinical-ner/resolve/main/vocab.txt HTTP/1.1\" 200 0\n"
     ]
    },
    {
     "name": "stdout",
     "output_type": "stream",
     "text": [
      "15 450 757 1\n",
      "annotated_num: 16\n",
      "[['multiple', 'problem'], ['multiple', 'B-PPMS']]\n",
      "[['sclerosis', 'problem'], ['sclerosis', 'I-PPMS']]\n",
      "[['multiple', 'problem'], ['multiple', 'B-PPMS']]\n",
      "[['sclerosis', 'problem'], ['sclerosis', 'I-PPMS']]\n",
      "[['primary', 'problem'], ['primary', 'B-PPMS']]\n",
      "[['progressive', 'problem'], ['progressive', 'I-PPMS']]\n",
      "[['MS', 'problem'], ['MS', 'I-PPMS']]\n",
      "[['Primary', 'problem'], ['Primary', 'B-PPMS']]\n",
      "[['progressive', 'problem'], ['progressive', 'I-PPMS']]\n",
      "[['MS', 'problem'], ['MS', 'I-PPMS']]\n",
      "[['primary', 'problem'], ['primary', 'B-PPMS']]\n",
      "[['progressive', 'problem'], ['progressive', 'I-PPMS']]\n",
      "[['multiple', 'problem'], ['multiple', 'I-PPMS']]\n",
      "[['sclerosis', 'problem'], ['sclerosis', 'I-PPMS']]\n",
      "[['EDSS', 'test'], ['EDSS', 'B-EDSS']]\n",
      "inscope: 15\n",
      "quantitative_00015 annotator2_quantitative_00015_correct\n",
      "quantitative_00015.txt\n"
     ]
    },
    {
     "name": "stderr",
     "output_type": "stream",
     "text": [
      "DEBUG:urllib3.connectionpool:https://huggingface.co:443 \"HEAD /sschet/bert-base-uncased_clinical-ner/resolve/main/config.json HTTP/1.1\" 200 0\n",
      "DEBUG:urllib3.connectionpool:https://huggingface.co:443 \"HEAD /sschet/bert-base-uncased_clinical-ner/resolve/main/vocab.txt HTTP/1.1\" 200 0\n"
     ]
    },
    {
     "name": "stdout",
     "output_type": "stream",
     "text": [
      "13 435 801 6\n",
      "annotated_num: 21\n",
      "[['multiple', 'problem'], ['multiple', 'B-RRMS']]\n",
      "[['sclerosis', 'problem'], ['sclerosis', 'I-RRMS']]\n",
      "[['-', 'problem'], ['-', 'I-RRMS']]\n",
      "[['multiple', 'problem'], ['multiple', 'I-RRMS']]\n",
      "[['sclerosis', 'problem'], ['sclerosis', 'I-RRMS']]\n",
      "[['relapse', 'problem'], ['relapse', 'B-Temporal_history_of_relapse']]\n",
      "[['and', 'problem'], ['and', 'I-Relapse_relative_date']]\n",
      "[['Multiple', 'problem'], ['Multiple', 'B-RRMS']]\n",
      "[['sclerosis', 'problem'], ['sclerosis', 'I-RRMS']]\n",
      "[['EDSS', 'test'], ['EDSS', 'B-EDSS']]\n",
      "[['-', 'problem'], ['-', 'I-RRMS']]\n",
      "[['multiple', 'problem'], ['multiple', 'I-RRMS']]\n",
      "[['sclerosis', 'problem'], ['sclerosis', 'I-RRMS']]\n",
      "inscope: 13\n",
      "quantitative_00016 annotator2_quantitative_00016_correct\n",
      "quantitative_00016.txt\n"
     ]
    },
    {
     "name": "stderr",
     "output_type": "stream",
     "text": [
      "DEBUG:urllib3.connectionpool:https://huggingface.co:443 \"HEAD /sschet/bert-base-uncased_clinical-ner/resolve/main/config.json HTTP/1.1\" 200 0\n",
      "DEBUG:urllib3.connectionpool:https://huggingface.co:443 \"HEAD /sschet/bert-base-uncased_clinical-ner/resolve/main/vocab.txt HTTP/1.1\" 200 0\n",
      "DEBUG:urllib3.connectionpool:https://huggingface.co:443 \"HEAD /sschet/bert-base-uncased_clinical-ner/resolve/main/config.json HTTP/1.1\" 200 0\n"
     ]
    },
    {
     "name": "stdout",
     "output_type": "stream",
     "text": [
      "6 714 772 2\n",
      "annotated_num: 9\n",
      "[['MS', 'problem'], ['MS', 'B-RRMS']]\n",
      "[['Multiple', 'problem'], ['Multiple', 'B-RRMS']]\n",
      "[['sclerosis', 'problem'], ['sclerosis', 'I-RRMS']]\n",
      "[['Multiple', 'problem'], ['Multiple', 'B-RRMS']]\n",
      "[['sclerosis', 'problem'], ['sclerosis', 'I-RRMS']]\n",
      "[['EDSS', 'test'], ['EDSS', 'B-EDSS']]\n",
      "inscope: 6\n",
      "quantitative_00017 annotator2_quantitative_00017_correct\n",
      "quantitative_00017.txt\n"
     ]
    },
    {
     "name": "stderr",
     "output_type": "stream",
     "text": [
      "DEBUG:urllib3.connectionpool:https://huggingface.co:443 \"HEAD /sschet/bert-base-uncased_clinical-ner/resolve/main/vocab.txt HTTP/1.1\" 200 0\n"
     ]
    },
    {
     "name": "stdout",
     "output_type": "stream",
     "text": [
      "6 309 468 1\n",
      "annotated_num: 7\n",
      "[['MS', 'problem'], ['MS', 'B-SPMS']]\n",
      "[['Multiple', 'problem'], ['Multiple', 'B-SPMS']]\n",
      "[['sclerosis', 'problem'], ['sclerosis', 'I-SPMS']]\n",
      "[['EDSS', 'test'], ['EDSS', 'B-EDSS']]\n",
      "[['SPMS', 'problem'], ['SPMS', 'B-SPMS']]\n",
      "[['SPMS', 'problem'], ['SPMS', 'B-SPMS']]\n",
      "inscope: 6\n",
      "quantitative_00018 annotator2_quantitative_00018_correct\n",
      "quantitative_00018.txt\n"
     ]
    },
    {
     "name": "stderr",
     "output_type": "stream",
     "text": [
      "DEBUG:urllib3.connectionpool:https://huggingface.co:443 \"HEAD /sschet/bert-base-uncased_clinical-ner/resolve/main/config.json HTTP/1.1\" 200 0\n",
      "DEBUG:urllib3.connectionpool:https://huggingface.co:443 \"HEAD /sschet/bert-base-uncased_clinical-ner/resolve/main/vocab.txt HTTP/1.1\" 200 0\n",
      "DEBUG:urllib3.connectionpool:https://huggingface.co:443 \"HEAD /sschet/bert-base-uncased_clinical-ner/resolve/main/config.json HTTP/1.1\" 200 0\n"
     ]
    },
    {
     "name": "stdout",
     "output_type": "stream",
     "text": [
      "8 717 920 2\n",
      "annotated_num: 11\n",
      "[['MS', 'problem'], ['MS', 'B-RRMS']]\n",
      "[['Multiple', 'problem'], ['Multiple', 'B-RRMS']]\n",
      "[['sclerosis', 'problem'], ['sclerosis', 'I-RRMS']]\n",
      "[['Multiple', 'problem'], ['Multiple', 'B-RRMS']]\n",
      "[['sclerosis', 'problem'], ['sclerosis', 'I-RRMS']]\n",
      "[['MS', 'problem'], ['MS', 'B-RRMS']]\n",
      "[['MS', 'problem'], ['MS', 'B-RRMS']]\n",
      "[['EDSS', 'test'], ['EDSS', 'B-EDSS']]\n",
      "inscope: 8\n",
      "quantitative_00019 annotator2_quantitative_00019_correct\n",
      "quantitative_00019.txt\n"
     ]
    },
    {
     "name": "stderr",
     "output_type": "stream",
     "text": [
      "DEBUG:urllib3.connectionpool:https://huggingface.co:443 \"HEAD /sschet/bert-base-uncased_clinical-ner/resolve/main/vocab.txt HTTP/1.1\" 200 0\n",
      "DEBUG:urllib3.connectionpool:https://huggingface.co:443 \"HEAD /sschet/bert-base-uncased_clinical-ner/resolve/main/config.json HTTP/1.1\" 200 0\n"
     ]
    },
    {
     "name": "stdout",
     "output_type": "stream",
     "text": [
      "12 426 536 5\n",
      "annotated_num: 17\n",
      "[['-', 'problem'], ['-', 'I-RRMS']]\n",
      "[['multiple', 'problem'], ['multiple', 'I-RRMS']]\n",
      "[['sclerosis', 'problem'], ['sclerosis', 'I-RRMS']]\n",
      "[['MS', 'problem'], ['MS', 'B-RRMS']]\n",
      "[['MS', 'problem'], ['MS', 'B-RRMS']]\n",
      "[['multiple', 'problem'], ['multiple', 'B-RRMS']]\n",
      "[['sclerosis', 'problem'], ['sclerosis', 'I-RRMS']]\n",
      "[['EDSS', 'test'], ['EDSS', 'B-EDSS']]\n",
      "[['-', 'problem'], ['-', 'I-RRMS']]\n",
      "[['multiple', 'problem'], ['multiple', 'I-RRMS']]\n",
      "[['sclerosis', 'problem'], ['sclerosis', 'I-RRMS']]\n",
      "[['MS', 'problem'], ['MS', 'B-RRMS']]\n",
      "inscope: 12\n",
      "quantitative_00020 annotator2_quantitative_00020_correct\n",
      "quantitative_00020.txt\n"
     ]
    },
    {
     "name": "stderr",
     "output_type": "stream",
     "text": [
      "DEBUG:urllib3.connectionpool:https://huggingface.co:443 \"HEAD /sschet/bert-base-uncased_clinical-ner/resolve/main/vocab.txt HTTP/1.1\" 200 0\n",
      "DEBUG:urllib3.connectionpool:https://huggingface.co:443 \"HEAD /sschet/bert-base-uncased_clinical-ner/resolve/main/config.json HTTP/1.1\" 200 0\n"
     ]
    },
    {
     "name": "stdout",
     "output_type": "stream",
     "text": [
      "6 95 323 2\n",
      "annotated_num: 8\n",
      "[['MS', 'test'], ['MS', 'B-MS_no_subtype']]\n",
      "[['multiple', 'problem'], ['multiple', 'B-MS_no_subtype']]\n",
      "[['sclerosis', 'problem'], ['sclerosis', 'I-MS_no_subtype']]\n",
      "[['MULTIPLE', 'problem'], ['MULTIPLE', 'B-MS_no_subtype']]\n",
      "[['SCLEROSIS', 'problem'], ['SCLEROSIS', 'I-MS_no_subtype']]\n",
      "[['MS', 'test'], ['MS', 'B-MS_no_subtype']]\n",
      "inscope: 6\n",
      "quantitative_00021 annotator2_quantitative_00021_correct\n",
      "quantitative_00021.txt\n"
     ]
    },
    {
     "name": "stderr",
     "output_type": "stream",
     "text": [
      "DEBUG:urllib3.connectionpool:https://huggingface.co:443 \"HEAD /sschet/bert-base-uncased_clinical-ner/resolve/main/vocab.txt HTTP/1.1\" 200 0\n"
     ]
    },
    {
     "name": "stdout",
     "output_type": "stream",
     "text": [
      "2 94 141 1\n",
      "annotated_num: 4\n",
      "[['MS', 'problem'], ['MS', 'B-RRMS']]\n",
      "[['EDSS', 'test'], ['EDSS', 'B-EDSS']]\n",
      "inscope: 2\n",
      "quantitative_00022 annotator2_quantitative_00022_correct\n",
      "quantitative_00022.txt\n"
     ]
    },
    {
     "name": "stderr",
     "output_type": "stream",
     "text": [
      "DEBUG:urllib3.connectionpool:https://huggingface.co:443 \"HEAD /sschet/bert-base-uncased_clinical-ner/resolve/main/config.json HTTP/1.1\" 200 0\n",
      "DEBUG:urllib3.connectionpool:https://huggingface.co:443 \"HEAD /sschet/bert-base-uncased_clinical-ner/resolve/main/vocab.txt HTTP/1.1\" 200 0\n",
      "DEBUG:urllib3.connectionpool:https://huggingface.co:443 \"HEAD /sschet/bert-base-uncased_clinical-ner/resolve/main/config.json HTTP/1.1\" 200 0\n"
     ]
    },
    {
     "name": "stdout",
     "output_type": "stream",
     "text": [
      "7 720 779 2\n",
      "annotated_num: 10\n",
      "[['MS', 'problem'], ['MS', 'B-RRMS']]\n",
      "[['Multiple', 'problem'], ['Multiple', 'B-RRMS']]\n",
      "[['sclerosis', 'problem'], ['sclerosis', 'I-RRMS']]\n",
      "[['Multiple', 'problem'], ['Multiple', 'B-RRMS']]\n",
      "[['sclerosis', 'problem'], ['sclerosis', 'I-RRMS']]\n",
      "[['MS', 'problem'], ['MS', 'B-RRMS']]\n",
      "[['EDSS', 'test'], ['EDSS', 'B-EDSS']]\n",
      "inscope: 7\n",
      "quantitative_00023 annotator2_quantitative_00023_correct\n",
      "quantitative_00023.txt\n"
     ]
    },
    {
     "name": "stderr",
     "output_type": "stream",
     "text": [
      "DEBUG:urllib3.connectionpool:https://huggingface.co:443 \"HEAD /sschet/bert-base-uncased_clinical-ner/resolve/main/vocab.txt HTTP/1.1\" 200 0\n"
     ]
    },
    {
     "name": "stdout",
     "output_type": "stream",
     "text": [
      "8 293 476 3\n",
      "annotated_num: 11\n",
      "[['MS', 'problem'], ['MS', 'B-RRMS']]\n",
      "[['EDSS', 'test'], ['EDSS', 'B-EDSS']]\n",
      "[['MS', 'problem'], ['MS', 'B-RRMS']]\n",
      "[['severe', 'problem'], ['severe', 'B-Severity_Severe']]\n",
      "[['attack', 'problem'], ['attack', 'I-Severity_Severe']]\n",
      "[['MS', 'problem'], ['MS', 'B-RRMS']]\n",
      "[['attacks', 'problem'], ['attacks', 'I-RRMS']]\n",
      "[['MS', 'problem'], ['MS', 'B-RRMS']]\n",
      "inscope: 8\n",
      "quantitative_00024 annotator2_quantitative_00024_correct\n",
      "quantitative_00024.txt\n"
     ]
    },
    {
     "name": "stderr",
     "output_type": "stream",
     "text": [
      "DEBUG:urllib3.connectionpool:https://huggingface.co:443 \"HEAD /sschet/bert-base-uncased_clinical-ner/resolve/main/config.json HTTP/1.1\" 200 0\n",
      "DEBUG:urllib3.connectionpool:https://huggingface.co:443 \"HEAD /sschet/bert-base-uncased_clinical-ner/resolve/main/vocab.txt HTTP/1.1\" 200 0\n"
     ]
    },
    {
     "name": "stdout",
     "output_type": "stream",
     "text": [
      "11 565 601 3\n",
      "annotated_num: 15\n",
      "[['multiple', 'problem'], ['multiple', 'B-RRMS']]\n",
      "[['relapse', 'problem'], ['relapse', 'B-RRMS']]\n",
      "[['MS', 'problem'], ['MS', 'B-RRMS']]\n",
      "[['multiple', 'problem'], ['multiple', 'B-RRMS']]\n",
      "[['sclerosis', 'problem'], ['sclerosis', 'I-RRMS']]\n",
      "[['multiple', 'problem'], ['multiple', 'B-RRMS']]\n",
      "[['sclerosis', 'problem'], ['sclerosis', 'I-RRMS']]\n",
      "[['EDSS', 'test'], ['EDSS', 'B-EDSS']]\n",
      "[['multiple', 'problem'], ['multiple', 'I-RRMS']]\n",
      "[['sclerosis', 'problem'], ['sclerosis', 'I-RRMS']]\n",
      "[['MS', 'problem'], ['MS', 'B-RRMS']]\n",
      "inscope: 11\n",
      "quantitative_00025 annotator2_quantitative_00025_correct\n",
      "quantitative_00025.txt\n"
     ]
    },
    {
     "name": "stderr",
     "output_type": "stream",
     "text": [
      "DEBUG:urllib3.connectionpool:https://huggingface.co:443 \"HEAD /sschet/bert-base-uncased_clinical-ner/resolve/main/config.json HTTP/1.1\" 200 0\n",
      "DEBUG:urllib3.connectionpool:https://huggingface.co:443 \"HEAD /sschet/bert-base-uncased_clinical-ner/resolve/main/vocab.txt HTTP/1.1\" 200 0\n"
     ]
    },
    {
     "name": "stdout",
     "output_type": "stream",
     "text": [
      "5 357 533 3\n",
      "annotated_num: 9\n",
      "[['MS', 'problem'], ['MS', 'B-SPMS']]\n",
      "[['secondarily', 'problem'], ['secondarily', 'B-SPMS']]\n",
      "[['progressive', 'problem'], ['progressive', 'I-SPMS']]\n",
      "[['progressive', 'problem'], ['progressive', 'I-SPMS']]\n",
      "[['EDSS', 'test'], ['EDSS', 'B-EDSS']]\n",
      "inscope: 5\n",
      "quantitative_00026 annotator2_quantitative_00026_correct\n",
      "quantitative_00026.txt\n"
     ]
    },
    {
     "name": "stderr",
     "output_type": "stream",
     "text": [
      "DEBUG:urllib3.connectionpool:https://huggingface.co:443 \"HEAD /sschet/bert-base-uncased_clinical-ner/resolve/main/config.json HTTP/1.1\" 200 0\n",
      "DEBUG:urllib3.connectionpool:https://huggingface.co:443 \"HEAD /sschet/bert-base-uncased_clinical-ner/resolve/main/vocab.txt HTTP/1.1\" 200 0\n"
     ]
    },
    {
     "name": "stdout",
     "output_type": "stream",
     "text": [
      "2 75 170 5\n",
      "annotated_num: 7\n",
      "[['MULTIPLE', 'problem'], ['MULTIPLE', 'I-RRMS']]\n",
      "[['SCLEROSIS', 'problem'], ['SCLEROSIS', 'I-RRMS']]\n",
      "inscope: 2\n",
      "quantitative_00027 annotator2_quantitative_00027_correct\n",
      "quantitative_00027.txt\n"
     ]
    },
    {
     "name": "stderr",
     "output_type": "stream",
     "text": [
      "DEBUG:urllib3.connectionpool:https://huggingface.co:443 \"HEAD /sschet/bert-base-uncased_clinical-ner/resolve/main/config.json HTTP/1.1\" 200 0\n"
     ]
    },
    {
     "name": "stdout",
     "output_type": "stream",
     "text": [
      "3 316 293 4\n",
      "annotated_num: 7\n",
      "[['MS', 'problem'], ['MS', 'B-RRMS']]\n",
      "[['MULTIPLE', 'problem'], ['MULTIPLE', 'I-RRMS']]\n",
      "[['SCLEROSIS', 'problem'], ['SCLEROSIS', 'I-RRMS']]\n",
      "inscope: 3\n",
      "quantitative_00028 annotator2_quantitative_00028_correct\n",
      "quantitative_00028.txt\n"
     ]
    },
    {
     "name": "stderr",
     "output_type": "stream",
     "text": [
      "DEBUG:urllib3.connectionpool:https://huggingface.co:443 \"HEAD /sschet/bert-base-uncased_clinical-ner/resolve/main/vocab.txt HTTP/1.1\" 200 0\n",
      "DEBUG:urllib3.connectionpool:https://huggingface.co:443 \"HEAD /sschet/bert-base-uncased_clinical-ner/resolve/main/config.json HTTP/1.1\" 200 0\n",
      "DEBUG:urllib3.connectionpool:https://huggingface.co:443 \"HEAD /sschet/bert-base-uncased_clinical-ner/resolve/main/vocab.txt HTTP/1.1\" 200 0\n"
     ]
    },
    {
     "name": "stdout",
     "output_type": "stream",
     "text": [
      "4 279 544 4\n",
      "annotated_num: 8\n",
      "[['ms', 'problem'], ['ms', 'B-RRMS']]\n",
      "[['ms', 'problem'], ['ms', 'B-RRMS']]\n",
      "[['MULTIPLE', 'problem'], ['MULTIPLE', 'I-RRMS']]\n",
      "[['SCLEROSIS', 'problem'], ['SCLEROSIS', 'I-RRMS']]\n",
      "inscope: 4\n",
      "quantitative_00029 annotator2_quantitative_00029_correct\n",
      "quantitative_00029.txt\n"
     ]
    },
    {
     "name": "stderr",
     "output_type": "stream",
     "text": [
      "DEBUG:urllib3.connectionpool:https://huggingface.co:443 \"HEAD /sschet/bert-base-uncased_clinical-ner/resolve/main/config.json HTTP/1.1\" 200 0\n",
      "DEBUG:urllib3.connectionpool:https://huggingface.co:443 \"HEAD /sschet/bert-base-uncased_clinical-ner/resolve/main/vocab.txt HTTP/1.1\" 200 0\n"
     ]
    },
    {
     "name": "stdout",
     "output_type": "stream",
     "text": [
      "5 376 637 2\n",
      "annotated_num: 7\n",
      "[['MS', 'problem'], ['MS', 'B-MS_no_subtype']]\n",
      "[['Multiple', 'problem'], ['Multiple', 'B-MS_no_subtype']]\n",
      "[['sclerosis', 'problem'], ['sclerosis', 'I-MS_no_subtype']]\n",
      "[['MS', 'problem'], ['MS', 'B-MS_no_subtype']]\n",
      "[['MS', 'problem'], ['MS', 'B-MS_no_subtype']]\n",
      "inscope: 5\n",
      "quantitative_00030 annotator2_quantitative_00030_correct\n",
      "quantitative_00030.txt\n"
     ]
    },
    {
     "name": "stderr",
     "output_type": "stream",
     "text": [
      "DEBUG:urllib3.connectionpool:https://huggingface.co:443 \"HEAD /sschet/bert-base-uncased_clinical-ner/resolve/main/config.json HTTP/1.1\" 200 0\n",
      "DEBUG:urllib3.connectionpool:https://huggingface.co:443 \"HEAD /sschet/bert-base-uncased_clinical-ner/resolve/main/vocab.txt HTTP/1.1\" 200 0\n"
     ]
    },
    {
     "name": "stdout",
     "output_type": "stream",
     "text": [
      "2 66 147 5\n",
      "annotated_num: 7\n",
      "[['MULTIPLE', 'problem'], ['MULTIPLE', 'I-RRMS']]\n",
      "[['SCLEROSIS', 'problem'], ['SCLEROSIS', 'I-RRMS']]\n",
      "inscope: 2\n",
      "quantitative_00031 annotator2_quantitative_00031_correct\n",
      "quantitative_00031.txt\n"
     ]
    },
    {
     "name": "stderr",
     "output_type": "stream",
     "text": [
      "DEBUG:urllib3.connectionpool:https://huggingface.co:443 \"HEAD /sschet/bert-base-uncased_clinical-ner/resolve/main/config.json HTTP/1.1\" 200 0\n",
      "DEBUG:urllib3.connectionpool:https://huggingface.co:443 \"HEAD /sschet/bert-base-uncased_clinical-ner/resolve/main/vocab.txt HTTP/1.1\" 200 0\n",
      "DEBUG:urllib3.connectionpool:https://huggingface.co:443 \"HEAD /sschet/bert-base-uncased_clinical-ner/resolve/main/config.json HTTP/1.1\" 200 0\n"
     ]
    },
    {
     "name": "stdout",
     "output_type": "stream",
     "text": [
      "2 63 205 5\n",
      "annotated_num: 8\n",
      "[['MULTIPLE', 'problem'], ['MULTIPLE', 'I-RRMS']]\n",
      "[['SCLEROSIS', 'problem'], ['SCLEROSIS', 'I-RRMS']]\n",
      "inscope: 2\n",
      "quantitative_00032 annotator2_quantitative_00032_correct\n",
      "quantitative_00032.txt\n"
     ]
    },
    {
     "name": "stderr",
     "output_type": "stream",
     "text": [
      "DEBUG:urllib3.connectionpool:https://huggingface.co:443 \"HEAD /sschet/bert-base-uncased_clinical-ner/resolve/main/vocab.txt HTTP/1.1\" 200 0\n"
     ]
    },
    {
     "name": "stdout",
     "output_type": "stream",
     "text": [
      "7 169 227 5\n",
      "annotated_num: 14\n",
      "[['MS', 'problem'], ['MS', 'B-RRMS']]\n",
      "[['MS', 'problem'], ['MS', 'B-RRMS']]\n",
      "[['MS', 'problem'], ['MS', 'B-RRMS']]\n",
      "[['-', 'test'], ['-', 'I-EDSS_Value']]\n",
      "[['progressive', 'problem'], ['progressive', 'B-RRMS']]\n",
      "[['MS', 'problem'], ['MS', 'I-RRMS']]\n",
      "[['MS', 'problem'], ['MS', 'B-RRMS']]\n",
      "inscope: 7\n",
      "quantitative_00033 annotator2_quantitative_00033_correct\n",
      "quantitative_00033.txt\n"
     ]
    },
    {
     "name": "stderr",
     "output_type": "stream",
     "text": [
      "DEBUG:urllib3.connectionpool:https://huggingface.co:443 \"HEAD /sschet/bert-base-uncased_clinical-ner/resolve/main/config.json HTTP/1.1\" 200 0\n",
      "DEBUG:urllib3.connectionpool:https://huggingface.co:443 \"HEAD /sschet/bert-base-uncased_clinical-ner/resolve/main/vocab.txt HTTP/1.1\" 200 0\n"
     ]
    },
    {
     "name": "stdout",
     "output_type": "stream",
     "text": [
      "7 611 729 3\n",
      "annotated_num: 12\n",
      "[['-', 'test'], ['-', 'I-RRMS']]\n",
      "[['sclerosis', 'problem'], ['sclerosis', 'I-RRMS']]\n",
      "[['Multiple', 'problem'], ['Multiple', 'B-RRMS']]\n",
      "[['sclerosis', 'problem'], ['sclerosis', 'I-RRMS']]\n",
      "[['multiple', 'problem'], ['multiple', 'B-RRMS']]\n",
      "[['sclerosis', 'problem'], ['sclerosis', 'I-RRMS']]\n",
      "[['MS', 'problem'], ['MS', 'B-RRMS']]\n",
      "inscope: 7\n",
      "quantitative_00034 annotator2_quantitative_00034_correct\n",
      "quantitative_00034.txt\n"
     ]
    },
    {
     "name": "stderr",
     "output_type": "stream",
     "text": [
      "DEBUG:urllib3.connectionpool:https://huggingface.co:443 \"HEAD /sschet/bert-base-uncased_clinical-ner/resolve/main/config.json HTTP/1.1\" 200 0\n",
      "DEBUG:urllib3.connectionpool:https://huggingface.co:443 \"HEAD /sschet/bert-base-uncased_clinical-ner/resolve/main/vocab.txt HTTP/1.1\" 200 0\n"
     ]
    },
    {
     "name": "stdout",
     "output_type": "stream",
     "text": [
      "14 515 904 1\n",
      "annotated_num: 17\n",
      "[['primary', 'problem'], ['primary', 'B-PPMS']]\n",
      "[['progressive', 'problem'], ['progressive', 'I-PPMS']]\n",
      "[['MS', 'problem'], ['MS', 'I-PPMS']]\n",
      "[['MS', 'problem'], ['MS', 'B-PPMS']]\n",
      "[['MS', 'problem'], ['MS', 'B-PPMS']]\n",
      "[['MS', 'problem'], ['MS', 'B-PPMS']]\n",
      "[['sclerosis', 'problem'], ['sclerosis', 'I-PPMS']]\n",
      "[['EDSS', 'test'], ['EDSS', 'B-EDSS']]\n",
      "[['primary', 'problem'], ['primary', 'B-PPMS']]\n",
      "[['progressive', 'problem'], ['progressive', 'I-PPMS']]\n",
      "[['MS', 'problem'], ['MS', 'I-PPMS']]\n",
      "[['MS', 'problem'], ['MS', 'B-PPMS']]\n",
      "[['primary', 'problem'], ['primary', 'B-PPMS']]\n",
      "[['progressive', 'problem'], ['progressive', 'I-PPMS']]\n",
      "inscope: 14\n",
      "quantitative_00036 annotator2_quantitative_00036_correct\n",
      "quantitative_00036.txt\n"
     ]
    },
    {
     "name": "stderr",
     "output_type": "stream",
     "text": [
      "DEBUG:urllib3.connectionpool:https://huggingface.co:443 \"HEAD /sschet/bert-base-uncased_clinical-ner/resolve/main/config.json HTTP/1.1\" 200 0\n",
      "DEBUG:urllib3.connectionpool:https://huggingface.co:443 \"HEAD /sschet/bert-base-uncased_clinical-ner/resolve/main/vocab.txt HTTP/1.1\" 200 0\n"
     ]
    },
    {
     "name": "stdout",
     "output_type": "stream",
     "text": [
      "2 249 304 5\n",
      "annotated_num: 7\n",
      "[['MULTIPLE', 'problem'], ['MULTIPLE', 'I-RRMS']]\n",
      "[['SCLEROSIS', 'problem'], ['SCLEROSIS', 'I-RRMS']]\n",
      "inscope: 2\n",
      "quantitative_00037 annotator2_quantitative_00037_correct\n",
      "quantitative_00037.txt\n"
     ]
    },
    {
     "name": "stderr",
     "output_type": "stream",
     "text": [
      "DEBUG:urllib3.connectionpool:https://huggingface.co:443 \"HEAD /sschet/bert-base-uncased_clinical-ner/resolve/main/config.json HTTP/1.1\" 200 0\n",
      "DEBUG:urllib3.connectionpool:https://huggingface.co:443 \"HEAD /sschet/bert-base-uncased_clinical-ner/resolve/main/vocab.txt HTTP/1.1\" 200 0\n"
     ]
    },
    {
     "name": "stdout",
     "output_type": "stream",
     "text": [
      "8 216 402 2\n",
      "annotated_num: 10\n",
      "[['MS', 'problem'], ['MS', 'B-RRMS']]\n",
      "[['MS', 'problem'], ['MS', 'B-RRMS']]\n",
      "[['MS', 'problem'], ['MS', 'B-RRMS']]\n",
      "[['MS', 'problem'], ['MS', 'B-RRMS']]\n",
      "[['EDSS', 'test'], ['EDSS', 'B-EDSS']]\n",
      "[['Multiple', 'problem'], ['Multiple', 'B-RRMS']]\n",
      "[['Sclerosis', 'problem'], ['Sclerosis', 'I-RRMS']]\n",
      "[['MS', 'problem'], ['MS', 'B-RRMS']]\n",
      "inscope: 8\n",
      "quantitative_00038 annotator2_quantitative_00038_correct\n",
      "quantitative_00038.txt\n"
     ]
    },
    {
     "name": "stderr",
     "output_type": "stream",
     "text": [
      "DEBUG:urllib3.connectionpool:https://huggingface.co:443 \"HEAD /sschet/bert-base-uncased_clinical-ner/resolve/main/config.json HTTP/1.1\" 200 0\n",
      "DEBUG:urllib3.connectionpool:https://huggingface.co:443 \"HEAD /sschet/bert-base-uncased_clinical-ner/resolve/main/vocab.txt HTTP/1.1\" 200 0\n",
      "DEBUG:urllib3.connectionpool:https://huggingface.co:443 \"HEAD /sschet/bert-base-uncased_clinical-ner/resolve/main/config.json HTTP/1.1\" 200 0\n"
     ]
    },
    {
     "name": "stdout",
     "output_type": "stream",
     "text": [
      "12 512 542 8\n",
      "annotated_num: 20\n",
      "[['-', 'test'], ['-', 'I-RRMS']]\n",
      "[['multiple', 'problem'], ['multiple', 'I-RRMS']]\n",
      "[['sclerosis', 'problem'], ['sclerosis', 'I-RRMS']]\n",
      "[['multiple', 'problem'], ['multiple', 'I-RRMS']]\n",
      "[['sclerosis', 'problem'], ['sclerosis', 'I-RRMS']]\n",
      "[['relapse', 'problem'], ['relapse', 'B-Temporal_history_of_relapse']]\n",
      "[[',', 'problem'], [',', 'I-Relapse_relative_date']]\n",
      "[['EDSS', 'test'], ['EDSS', 'B-EDSS']]\n",
      "[['2', 'test'], ['2', 'B-EDSS_Value']]\n",
      "[['-', 'test'], ['-', 'I-RRMS']]\n",
      "[['multiple', 'problem'], ['multiple', 'I-RRMS']]\n",
      "[['sclerosis', 'problem'], ['sclerosis', 'I-RRMS']]\n",
      "inscope: 12\n",
      "quantitative_00039 annotator2_quantitative_00039_correct\n",
      "quantitative_00039.txt\n"
     ]
    },
    {
     "name": "stderr",
     "output_type": "stream",
     "text": [
      "DEBUG:urllib3.connectionpool:https://huggingface.co:443 \"HEAD /sschet/bert-base-uncased_clinical-ner/resolve/main/vocab.txt HTTP/1.1\" 200 0\n"
     ]
    },
    {
     "name": "stdout",
     "output_type": "stream",
     "text": [
      "2 70 203 5\n",
      "annotated_num: 9\n",
      "[['MULTIPLE', 'problem'], ['MULTIPLE', 'I-RRMS']]\n",
      "[['SCLEROSIS', 'problem'], ['SCLEROSIS', 'I-RRMS']]\n",
      "inscope: 2\n",
      "quantitative_00040 annotator2_quantitative_00040_correct\n",
      "quantitative_00040.txt\n"
     ]
    },
    {
     "name": "stderr",
     "output_type": "stream",
     "text": [
      "DEBUG:urllib3.connectionpool:https://huggingface.co:443 \"HEAD /sschet/bert-base-uncased_clinical-ner/resolve/main/config.json HTTP/1.1\" 200 0\n",
      "DEBUG:urllib3.connectionpool:https://huggingface.co:443 \"HEAD /sschet/bert-base-uncased_clinical-ner/resolve/main/vocab.txt HTTP/1.1\" 200 0\n"
     ]
    },
    {
     "name": "stdout",
     "output_type": "stream",
     "text": [
      "1 74 112 1\n",
      "annotated_num: 3\n",
      "[['EDSS', 'test'], ['EDSS', 'B-EDSS']]\n",
      "inscope: 1\n",
      "quantitative_00041 annotator2_quantitative_00041_correct\n",
      "quantitative_00041.txt\n"
     ]
    },
    {
     "name": "stderr",
     "output_type": "stream",
     "text": [
      "DEBUG:urllib3.connectionpool:https://huggingface.co:443 \"HEAD /sschet/bert-base-uncased_clinical-ner/resolve/main/config.json HTTP/1.1\" 200 0\n",
      "DEBUG:urllib3.connectionpool:https://huggingface.co:443 \"HEAD /sschet/bert-base-uncased_clinical-ner/resolve/main/vocab.txt HTTP/1.1\" 200 0\n"
     ]
    },
    {
     "name": "stdout",
     "output_type": "stream",
     "text": [
      "7 651 813 3\n",
      "annotated_num: 10\n",
      "[['ms', 'problem'], ['ms', 'B-SPMS']]\n",
      "[['SECONDARY', 'problem'], ['SECONDARY', 'B-SPMS']]\n",
      "[['PROGRESSIVE', 'problem'], ['PROGRESSIVE', 'I-SPMS']]\n",
      "[['MULTIPLE', 'problem'], ['MULTIPLE', 'I-SPMS']]\n",
      "[['SCLEROSIS', 'problem'], ['SCLEROSIS', 'I-SPMS']]\n",
      "[['multiple', 'problem'], ['multiple', 'B-SPMS']]\n",
      "[['sclerosis', 'problem'], ['sclerosis', 'I-SPMS']]\n",
      "inscope: 7\n",
      "quantitative_00042 annotator2_quantitative_00042_correct\n",
      "quantitative_00042.txt\n"
     ]
    },
    {
     "name": "stderr",
     "output_type": "stream",
     "text": [
      "DEBUG:urllib3.connectionpool:https://huggingface.co:443 \"HEAD /sschet/bert-base-uncased_clinical-ner/resolve/main/config.json HTTP/1.1\" 200 0\n",
      "DEBUG:urllib3.connectionpool:https://huggingface.co:443 \"HEAD /sschet/bert-base-uncased_clinical-ner/resolve/main/vocab.txt HTTP/1.1\" 200 0\n",
      "DEBUG:urllib3.connectionpool:https://huggingface.co:443 \"HEAD /sschet/bert-base-uncased_clinical-ner/resolve/main/config.json HTTP/1.1\" 200 0\n"
     ]
    },
    {
     "name": "stdout",
     "output_type": "stream",
     "text": [
      "2 66 222 5\n",
      "annotated_num: 8\n",
      "[['MS', 'problem'], ['MS', 'B-SPMS']]\n",
      "[['SECONDARY', 'problem'], ['SECONDARY', 'B-SPMS']]\n",
      "inscope: 2\n",
      "quantitative_00043 annotator2_quantitative_00043_correct\n",
      "quantitative_00043.txt\n"
     ]
    },
    {
     "name": "stderr",
     "output_type": "stream",
     "text": [
      "DEBUG:urllib3.connectionpool:https://huggingface.co:443 \"HEAD /sschet/bert-base-uncased_clinical-ner/resolve/main/vocab.txt HTTP/1.1\" 200 0\n"
     ]
    },
    {
     "name": "stdout",
     "output_type": "stream",
     "text": [
      "1 40 84 1\n",
      "annotated_num: 3\n",
      "[['EDSS', 'test'], ['EDSS', 'B-EDSS']]\n",
      "inscope: 1\n",
      "quantitative_00044 annotator2_quantitative_00044_correct\n",
      "quantitative_00044.txt\n"
     ]
    },
    {
     "name": "stderr",
     "output_type": "stream",
     "text": [
      "DEBUG:urllib3.connectionpool:https://huggingface.co:443 \"HEAD /sschet/bert-base-uncased_clinical-ner/resolve/main/config.json HTTP/1.1\" 200 0\n",
      "DEBUG:urllib3.connectionpool:https://huggingface.co:443 \"HEAD /sschet/bert-base-uncased_clinical-ner/resolve/main/vocab.txt HTTP/1.1\" 200 0\n",
      "DEBUG:urllib3.connectionpool:https://huggingface.co:443 \"HEAD /sschet/bert-base-uncased_clinical-ner/resolve/main/config.json HTTP/1.1\" 200 0\n"
     ]
    },
    {
     "name": "stdout",
     "output_type": "stream",
     "text": [
      "2 87 156 5\n",
      "annotated_num: 8\n",
      "[['MS', 'problem'], ['MS', 'B-RRMS']]\n",
      "[['MULTIPLE', 'problem'], ['MULTIPLE', 'I-RRMS']]\n",
      "inscope: 2\n",
      "quantitative_00045 annotator2_quantitative_00045_correct\n",
      "quantitative_00045.txt\n"
     ]
    },
    {
     "name": "stderr",
     "output_type": "stream",
     "text": [
      "DEBUG:urllib3.connectionpool:https://huggingface.co:443 \"HEAD /sschet/bert-base-uncased_clinical-ner/resolve/main/vocab.txt HTTP/1.1\" 200 0\n"
     ]
    },
    {
     "name": "stdout",
     "output_type": "stream",
     "text": [
      "7 126 171 3\n",
      "annotated_num: 12\n",
      "[['ADVANCED', 'problem'], ['ADVANCED', 'B-MS_no_subtype']]\n",
      "[['MS', 'problem'], ['MS', 'I-MS_no_subtype']]\n",
      "[['ADVANCED', 'problem'], ['ADVANCED', 'B-MS_no_subtype']]\n",
      "[['MS', 'problem'], ['MS', 'I-MS_no_subtype']]\n",
      "[['MS', 'problem'], ['MS', 'B-MS_no_subtype']]\n",
      "[['MS', 'problem'], ['MS', 'B-MS_no_subtype']]\n",
      "[['ADVANCED', 'problem'], ['ADVANCED', 'B-MS_no_subtype']]\n",
      "inscope: 7\n",
      "quantitative_00046 annotator2_quantitative_00046_correct\n",
      "quantitative_00046.txt\n"
     ]
    },
    {
     "name": "stderr",
     "output_type": "stream",
     "text": [
      "DEBUG:urllib3.connectionpool:https://huggingface.co:443 \"HEAD /sschet/bert-base-uncased_clinical-ner/resolve/main/config.json HTTP/1.1\" 200 0\n",
      "DEBUG:urllib3.connectionpool:https://huggingface.co:443 \"HEAD /sschet/bert-base-uncased_clinical-ner/resolve/main/vocab.txt HTTP/1.1\" 200 0\n"
     ]
    },
    {
     "name": "stdout",
     "output_type": "stream",
     "text": [
      "2 129 146 2\n",
      "annotated_num: 5\n",
      "[['MS', 'problem'], ['MS', 'B-MS_no_subtype']]\n",
      "[['MS', 'problem'], ['MS', 'B-MS_no_subtype']]\n",
      "inscope: 2\n",
      "quantitative_00047 annotator2_quantitative_00047_correct\n",
      "quantitative_00047.txt\n"
     ]
    },
    {
     "name": "stderr",
     "output_type": "stream",
     "text": [
      "DEBUG:urllib3.connectionpool:https://huggingface.co:443 \"HEAD /sschet/bert-base-uncased_clinical-ner/resolve/main/config.json HTTP/1.1\" 200 0\n",
      "DEBUG:urllib3.connectionpool:https://huggingface.co:443 \"HEAD /sschet/bert-base-uncased_clinical-ner/resolve/main/vocab.txt HTTP/1.1\" 200 0\n"
     ]
    },
    {
     "name": "stdout",
     "output_type": "stream",
     "text": [
      "4 327 299 4\n",
      "annotated_num: 9\n",
      "[['MS', 'problem'], ['MS', 'B-RRMS']]\n",
      "[['MULTIPLE', 'problem'], ['MULTIPLE', 'I-RRMS']]\n",
      "[['SCLEROSIS', 'problem'], ['SCLEROSIS', 'I-RRMS']]\n",
      "[['3', 'problem'], ['3', 'I-EDSS_Value']]\n",
      "inscope: 4\n",
      "quantitative_00048 annotator2_quantitative_00048_correct\n",
      "quantitative_00048.txt\n"
     ]
    },
    {
     "name": "stderr",
     "output_type": "stream",
     "text": [
      "DEBUG:urllib3.connectionpool:https://huggingface.co:443 \"HEAD /sschet/bert-base-uncased_clinical-ner/resolve/main/config.json HTTP/1.1\" 200 0\n",
      "DEBUG:urllib3.connectionpool:https://huggingface.co:443 \"HEAD /sschet/bert-base-uncased_clinical-ner/resolve/main/vocab.txt HTTP/1.1\" 200 0\n"
     ]
    },
    {
     "name": "stdout",
     "output_type": "stream",
     "text": [
      "1 100 125 1\n",
      "annotated_num: 3\n",
      "[['EDSS', 'test'], ['EDSS', 'B-EDSS']]\n",
      "inscope: 1\n",
      "quantitative_00049 annotator2_quantitative_00049_correct\n",
      "quantitative_00049.txt\n"
     ]
    },
    {
     "name": "stderr",
     "output_type": "stream",
     "text": [
      "DEBUG:urllib3.connectionpool:https://huggingface.co:443 \"HEAD /sschet/bert-base-uncased_clinical-ner/resolve/main/config.json HTTP/1.1\" 200 0\n",
      "DEBUG:urllib3.connectionpool:https://huggingface.co:443 \"HEAD /sschet/bert-base-uncased_clinical-ner/resolve/main/vocab.txt HTTP/1.1\" 200 0\n"
     ]
    },
    {
     "name": "stdout",
     "output_type": "stream",
     "text": [
      "2 403 312 1\n",
      "annotated_num: 4\n",
      "[['MS', 'problem'], ['MS', 'B-RRMS']]\n",
      "[['EDSS', 'test'], ['EDSS', 'B-EDSS']]\n",
      "inscope: 2\n",
      "quantitative_00050 annotator2_quantitative_00050_correct\n",
      "quantitative_00050.txt\n"
     ]
    },
    {
     "name": "stderr",
     "output_type": "stream",
     "text": [
      "DEBUG:urllib3.connectionpool:https://huggingface.co:443 \"HEAD /sschet/bert-base-uncased_clinical-ner/resolve/main/config.json HTTP/1.1\" 200 0\n",
      "DEBUG:urllib3.connectionpool:https://huggingface.co:443 \"HEAD /sschet/bert-base-uncased_clinical-ner/resolve/main/vocab.txt HTTP/1.1\" 200 0\n"
     ]
    },
    {
     "name": "stdout",
     "output_type": "stream",
     "text": [
      "3 121 262 7\n",
      "annotated_num: 10\n",
      "[['relapse', 'problem'], ['relapse', 'B-Temporal_history_of_relapse']]\n",
      "[['MS', 'problem'], ['MS', 'I-RRMS']]\n",
      "[['EDSS', 'problem'], ['EDSS', 'B-EDSS']]\n",
      "inscope: 3\n",
      "quantitative_00051 annotator2_quantitative_00051_correct\n",
      "quantitative_00051.txt\n"
     ]
    },
    {
     "name": "stderr",
     "output_type": "stream",
     "text": [
      "DEBUG:urllib3.connectionpool:https://huggingface.co:443 \"HEAD /sschet/bert-base-uncased_clinical-ner/resolve/main/config.json HTTP/1.1\" 200 0\n",
      "DEBUG:urllib3.connectionpool:https://huggingface.co:443 \"HEAD /sschet/bert-base-uncased_clinical-ner/resolve/main/vocab.txt HTTP/1.1\" 200 0\n"
     ]
    },
    {
     "name": "stdout",
     "output_type": "stream",
     "text": [
      "2 70 148 5\n",
      "annotated_num: 9\n",
      "[['MULTIPLE', 'problem'], ['MULTIPLE', 'I-RRMS']]\n",
      "[['SCLEROSIS', 'problem'], ['SCLEROSIS', 'I-RRMS']]\n",
      "inscope: 2\n",
      "quantitative_00052 annotator2_quantitative_00052_correct\n",
      "quantitative_00052.txt\n"
     ]
    },
    {
     "name": "stderr",
     "output_type": "stream",
     "text": [
      "DEBUG:urllib3.connectionpool:https://huggingface.co:443 \"HEAD /sschet/bert-base-uncased_clinical-ner/resolve/main/config.json HTTP/1.1\" 200 0\n",
      "DEBUG:urllib3.connectionpool:https://huggingface.co:443 \"HEAD /sschet/bert-base-uncased_clinical-ner/resolve/main/vocab.txt HTTP/1.1\" 200 0\n",
      "DEBUG:urllib3.connectionpool:https://huggingface.co:443 \"HEAD /sschet/bert-base-uncased_clinical-ner/resolve/main/config.json HTTP/1.1\" 200 0\n"
     ]
    },
    {
     "name": "stdout",
     "output_type": "stream",
     "text": [
      "16 691 723 20\n",
      "annotated_num: 41\n",
      "[['MS', 'problem'], ['MS', 'B-RRMS']]\n",
      "[['sclerosis', 'problem'], ['sclerosis', 'I-RRMS']]\n",
      "[['RRMS', 'problem'], ['RRMS', 'B-RRMS']]\n",
      "[['MS', 'problem'], ['MS', 'B-RRMS']]\n",
      "[['multiple', 'problem'], ['multiple', 'I-RRMS']]\n",
      "[['MS', 'problem'], ['MS', 'B-RRMS']]\n",
      "[['episode', 'problem'], ['episode', 'B-Temporal_history_of_relapse']]\n",
      "[['MS', 'problem'], ['MS', 'B-RRMS']]\n",
      "[['MS', 'problem'], ['MS', 'B-RRMS']]\n",
      "[['-', 'test'], ['-', 'I-EDSS_Value']]\n",
      "[[',', 'test'], [',', 'I-EDSS_Date']]\n",
      "[['EDSS', 'test'], ['EDSS', 'B-EDSS']]\n",
      "[['Scale', 'test'], ['Scale', 'I-EDSS']]\n",
      "[['EDSS', 'test'], ['EDSS', 'B-EDSS']]\n",
      "[['RRMS', 'problem'], ['RRMS', 'B-RRMS']]\n",
      "[['MS', 'problem'], ['MS', 'B-RRMS']]\n",
      "inscope: 16\n",
      "quantitative_00053 annotator2_quantitative_00053_correct\n",
      "quantitative_00053.txt\n"
     ]
    },
    {
     "name": "stderr",
     "output_type": "stream",
     "text": [
      "DEBUG:urllib3.connectionpool:https://huggingface.co:443 \"HEAD /sschet/bert-base-uncased_clinical-ner/resolve/main/vocab.txt HTTP/1.1\" 200 0\n"
     ]
    },
    {
     "name": "stdout",
     "output_type": "stream",
     "text": [
      "2 86 153 2\n",
      "annotated_num: 4\n",
      "[['MS', 'problem'], ['MS', 'B-RRMS']]\n",
      "[['EDSS', 'test'], ['EDSS', 'B-EDSS']]\n",
      "inscope: 2\n",
      "quantitative_00054 annotator2_quantitative_00054_correct\n",
      "quantitative_00054.txt\n"
     ]
    },
    {
     "name": "stderr",
     "output_type": "stream",
     "text": [
      "DEBUG:urllib3.connectionpool:https://huggingface.co:443 \"HEAD /sschet/bert-base-uncased_clinical-ner/resolve/main/config.json HTTP/1.1\" 200 0\n",
      "DEBUG:urllib3.connectionpool:https://huggingface.co:443 \"HEAD /sschet/bert-base-uncased_clinical-ner/resolve/main/vocab.txt HTTP/1.1\" 200 0\n"
     ]
    },
    {
     "name": "stdout",
     "output_type": "stream",
     "text": [
      "10 661 860 1\n",
      "annotated_num: 13\n",
      "[['MS', 'problem'], ['MS', 'B-RRMS']]\n",
      "[['multiple', 'problem'], ['multiple', 'B-RRMS']]\n",
      "[['sclerosis', 'problem'], ['sclerosis', 'I-RRMS']]\n",
      "[['Multiple', 'problem'], ['Multiple', 'B-RRMS']]\n",
      "[['sclerosis', 'problem'], ['sclerosis', 'I-RRMS']]\n",
      "[['Multiple', 'problem'], ['Multiple', 'B-RRMS']]\n",
      "[['sclerosis', 'problem'], ['sclerosis', 'I-RRMS']]\n",
      "[['MS', 'problem'], ['MS', 'B-RRMS']]\n",
      "[['MS', 'problem'], ['MS', 'B-RRMS']]\n",
      "[['EDSS', 'test'], ['EDSS', 'B-EDSS']]\n",
      "inscope: 10\n",
      "quantitative_00055 annotator2_quantitative_00055_correct\n",
      "quantitative_00055.txt\n"
     ]
    },
    {
     "name": "stderr",
     "output_type": "stream",
     "text": [
      "DEBUG:urllib3.connectionpool:https://huggingface.co:443 \"HEAD /sschet/bert-base-uncased_clinical-ner/resolve/main/config.json HTTP/1.1\" 200 0\n",
      "DEBUG:urllib3.connectionpool:https://huggingface.co:443 \"HEAD /sschet/bert-base-uncased_clinical-ner/resolve/main/vocab.txt HTTP/1.1\" 200 0\n"
     ]
    },
    {
     "name": "stdout",
     "output_type": "stream",
     "text": [
      "5 459 579 4\n",
      "annotated_num: 10\n",
      "[['RRMS', 'problem'], ['RRMS', 'B-RRMS']]\n",
      "[['exacerbation', 'problem'], ['exacerbation', 'B-Temporal_history_of_relapse']]\n",
      "[['MS', 'problem'], ['MS', 'B-RRMS']]\n",
      "[['RRMS', 'problem'], ['RRMS', 'B-RRMS']]\n",
      "[['EDSS', 'test'], ['EDSS', 'B-EDSS']]\n",
      "inscope: 5\n",
      "quantitative_00056 annotator2_quantitative_00056_correct\n",
      "quantitative_00056.txt\n"
     ]
    },
    {
     "name": "stderr",
     "output_type": "stream",
     "text": [
      "DEBUG:urllib3.connectionpool:https://huggingface.co:443 \"HEAD /sschet/bert-base-uncased_clinical-ner/resolve/main/config.json HTTP/1.1\" 200 0\n",
      "DEBUG:urllib3.connectionpool:https://huggingface.co:443 \"HEAD /sschet/bert-base-uncased_clinical-ner/resolve/main/vocab.txt HTTP/1.1\" 200 0\n"
     ]
    },
    {
     "name": "stdout",
     "output_type": "stream",
     "text": [
      "3 217 261 6\n",
      "annotated_num: 9\n",
      "[['PROGRESSIVE', 'problem'], ['PROGRESSIVE', 'I-RRMS']]\n",
      "[['MULTIPLE', 'problem'], ['MULTIPLE', 'I-RRMS']]\n",
      "[['SCLEROSIS', 'problem'], ['SCLEROSIS', 'I-RRMS']]\n",
      "inscope: 3\n",
      "quantitative_00057 annotator2_quantitative_00057_correct\n",
      "quantitative_00057.txt\n"
     ]
    },
    {
     "name": "stderr",
     "output_type": "stream",
     "text": [
      "DEBUG:urllib3.connectionpool:https://huggingface.co:443 \"HEAD /sschet/bert-base-uncased_clinical-ner/resolve/main/config.json HTTP/1.1\" 200 0\n",
      "DEBUG:urllib3.connectionpool:https://huggingface.co:443 \"HEAD /sschet/bert-base-uncased_clinical-ner/resolve/main/vocab.txt HTTP/1.1\" 200 0\n"
     ]
    },
    {
     "name": "stdout",
     "output_type": "stream",
     "text": [
      "1 78 89 1\n",
      "annotated_num: 3\n",
      "[['EDSS', 'test'], ['EDSS', 'B-EDSS']]\n",
      "inscope: 1\n",
      "quantitative_00058 annotator2_quantitative_00058_correct\n",
      "quantitative_00058.txt\n"
     ]
    },
    {
     "name": "stderr",
     "output_type": "stream",
     "text": [
      "DEBUG:urllib3.connectionpool:https://huggingface.co:443 \"HEAD /sschet/bert-base-uncased_clinical-ner/resolve/main/config.json HTTP/1.1\" 200 0\n",
      "DEBUG:urllib3.connectionpool:https://huggingface.co:443 \"HEAD /sschet/bert-base-uncased_clinical-ner/resolve/main/vocab.txt HTTP/1.1\" 200 0\n"
     ]
    },
    {
     "name": "stdout",
     "output_type": "stream",
     "text": [
      "2 49 141 1\n",
      "annotated_num: 4\n",
      "[['MS', 'problem'], ['MS', 'B-RRMS']]\n",
      "[['EDSS', 'test'], ['EDSS', 'B-EDSS']]\n",
      "inscope: 2\n",
      "quantitative_00059 annotator2_quantitative_00059_correct\n",
      "quantitative_00059.txt\n"
     ]
    },
    {
     "name": "stderr",
     "output_type": "stream",
     "text": [
      "DEBUG:urllib3.connectionpool:https://huggingface.co:443 \"HEAD /sschet/bert-base-uncased_clinical-ner/resolve/main/config.json HTTP/1.1\" 200 0\n",
      "DEBUG:urllib3.connectionpool:https://huggingface.co:443 \"HEAD /sschet/bert-base-uncased_clinical-ner/resolve/main/vocab.txt HTTP/1.1\" 200 0\n"
     ]
    },
    {
     "name": "stdout",
     "output_type": "stream",
     "text": [
      "3 302 296 5\n",
      "annotated_num: 8\n",
      "[['MULTIPLE', 'problem'], ['MULTIPLE', 'I-RRMS']]\n",
      "[['SCLEROSIS', 'problem'], ['SCLEROSIS', 'I-RRMS']]\n",
      "[['3', 'problem'], ['3', 'I-EDSS_Value']]\n",
      "inscope: 3\n",
      "quantitative_00060 annotator2_quantitative_00060_correct\n",
      "quantitative_00060.txt\n"
     ]
    },
    {
     "name": "stderr",
     "output_type": "stream",
     "text": [
      "DEBUG:urllib3.connectionpool:https://huggingface.co:443 \"HEAD /sschet/bert-base-uncased_clinical-ner/resolve/main/config.json HTTP/1.1\" 200 0\n",
      "DEBUG:urllib3.connectionpool:https://huggingface.co:443 \"HEAD /sschet/bert-base-uncased_clinical-ner/resolve/main/vocab.txt HTTP/1.1\" 200 0\n"
     ]
    },
    {
     "name": "stdout",
     "output_type": "stream",
     "text": [
      "17 388 684 13\n",
      "annotated_num: 32\n",
      "[['multiple', 'problem'], ['multiple', 'B-CIS']]\n",
      "[['sclerosis', 'problem'], ['sclerosis', 'I-CIS']]\n",
      "[['clinical', 'problem'], ['clinical', 'I-CIS']]\n",
      "[['episode', 'problem'], ['episode', 'I-CIS']]\n",
      "[['in', 'problem'], ['in', 'I-CIS']]\n",
      "[['multiple', 'problem'], ['multiple', 'B-CIS']]\n",
      "[['sclerosis', 'problem'], ['sclerosis', 'I-CIS']]\n",
      "[['EDSS', 'test'], ['EDSS', 'B-EDSS']]\n",
      "[['multiple', 'problem'], ['multiple', 'I-CIS']]\n",
      "[['sclerosis', 'problem'], ['sclerosis', 'I-CIS']]\n",
      "[['clinically', 'problem'], ['clinically', 'I-CIS']]\n",
      "[['isolated', 'problem'], ['isolated', 'I-CIS']]\n",
      "[['syndrome', 'problem'], ['syndrome', 'I-CIS']]\n",
      "[['a', 'problem'], ['a', 'I-CIS']]\n",
      "[['clinical', 'problem'], ['clinical', 'I-CIS']]\n",
      "[['episode', 'problem'], ['episode', 'I-CIS']]\n",
      "[['in', 'problem'], ['in', 'I-CIS']]\n",
      "inscope: 17\n",
      "quantitative_00061 annotator2_quantitative_00061_correct\n",
      "quantitative_00061.txt\n"
     ]
    },
    {
     "name": "stderr",
     "output_type": "stream",
     "text": [
      "DEBUG:urllib3.connectionpool:https://huggingface.co:443 \"HEAD /sschet/bert-base-uncased_clinical-ner/resolve/main/config.json HTTP/1.1\" 200 0\n",
      "DEBUG:urllib3.connectionpool:https://huggingface.co:443 \"HEAD /sschet/bert-base-uncased_clinical-ner/resolve/main/vocab.txt HTTP/1.1\" 200 0\n"
     ]
    },
    {
     "name": "stdout",
     "output_type": "stream",
     "text": [
      "4 359 603 1\n",
      "annotated_num: 6\n",
      "[['Multiple', 'problem'], ['Multiple', 'B-RRMS']]\n",
      "[['sclerosis', 'problem'], ['sclerosis', 'I-RRMS']]\n",
      "[['MS', 'problem'], ['MS', 'B-RRMS']]\n",
      "[['EDSS', 'test'], ['EDSS', 'B-EDSS']]\n",
      "inscope: 4\n",
      "quantitative_00062 annotator2_quantitative_00062_correct\n",
      "quantitative_00062.txt\n"
     ]
    },
    {
     "name": "stderr",
     "output_type": "stream",
     "text": [
      "DEBUG:urllib3.connectionpool:https://huggingface.co:443 \"HEAD /sschet/bert-base-uncased_clinical-ner/resolve/main/config.json HTTP/1.1\" 200 0\n",
      "DEBUG:urllib3.connectionpool:https://huggingface.co:443 \"HEAD /sschet/bert-base-uncased_clinical-ner/resolve/main/vocab.txt HTTP/1.1\" 200 0\n"
     ]
    },
    {
     "name": "stdout",
     "output_type": "stream",
     "text": [
      "9 255 548 4\n",
      "annotated_num: 14\n",
      "[['-', 'test'], ['-', 'I-RRMS']]\n",
      "[['multiple', 'problem'], ['multiple', 'I-RRMS']]\n",
      "[['sclerosis', 'problem'], ['sclerosis', 'I-RRMS']]\n",
      "[['multiple', 'problem'], ['multiple', 'B-RRMS']]\n",
      "[['sclerosis', 'problem'], ['sclerosis', 'I-RRMS']]\n",
      "[['EDSS', 'test'], ['EDSS', 'B-EDSS']]\n",
      "[['-', 'test'], ['-', 'I-RRMS']]\n",
      "[['multiple', 'problem'], ['multiple', 'I-RRMS']]\n",
      "[['sclerosis', 'problem'], ['sclerosis', 'I-RRMS']]\n",
      "inscope: 9\n",
      "quantitative_00063 annotator2_quantitative_00063_correct\n",
      "quantitative_00063.txt\n"
     ]
    },
    {
     "name": "stderr",
     "output_type": "stream",
     "text": [
      "DEBUG:urllib3.connectionpool:https://huggingface.co:443 \"HEAD /sschet/bert-base-uncased_clinical-ner/resolve/main/config.json HTTP/1.1\" 200 0\n",
      "DEBUG:urllib3.connectionpool:https://huggingface.co:443 \"HEAD /sschet/bert-base-uncased_clinical-ner/resolve/main/vocab.txt HTTP/1.1\" 200 0\n"
     ]
    },
    {
     "name": "stdout",
     "output_type": "stream",
     "text": [
      "6 539 522 3\n",
      "annotated_num: 9\n",
      "[['MS', 'problem'], ['MS', 'B-RRMS']]\n",
      "[['Relapse', 'problem'], ['Relapse', 'B-Temporal_history_of_relapse']]\n",
      "[['EDSS', 'test'], ['EDSS', 'B-EDSS']]\n",
      "[['MS', 'problem'], ['MS', 'B-RRMS']]\n",
      "[['MS', 'problem'], ['MS', 'B-RRMS']]\n",
      "[['MS', 'problem'], ['MS', 'B-RRMS']]\n",
      "inscope: 6\n",
      "quantitative_00064 annotator2_quantitative_00064_correct\n",
      "quantitative_00064.txt\n"
     ]
    },
    {
     "name": "stderr",
     "output_type": "stream",
     "text": [
      "DEBUG:urllib3.connectionpool:https://huggingface.co:443 \"HEAD /sschet/bert-base-uncased_clinical-ner/resolve/main/config.json HTTP/1.1\" 200 0\n",
      "DEBUG:urllib3.connectionpool:https://huggingface.co:443 \"HEAD /sschet/bert-base-uncased_clinical-ner/resolve/main/vocab.txt HTTP/1.1\" 200 0\n"
     ]
    },
    {
     "name": "stdout",
     "output_type": "stream",
     "text": [
      "8 762 850 7\n",
      "annotated_num: 15\n",
      "[['MS', 'test'], ['MS', 'B-RRMS']]\n",
      "[['Multiple', 'problem'], ['Multiple', 'B-RRMS']]\n",
      "[['sclerosis', 'problem'], ['sclerosis', 'I-RRMS']]\n",
      "[['MS', 'test'], ['MS', 'B-RRMS']]\n",
      "[['EDSS', 'test'], ['EDSS', 'B-EDSS']]\n",
      "[['MS', 'test'], ['MS', 'B-RRMS']]\n",
      "[['MS', 'test'], ['MS', 'B-RRMS']]\n",
      "[['MS', 'test'], ['MS', 'B-RRMS']]\n",
      "inscope: 8\n",
      "quantitative_00066 annotator2_quantitative_00066_correct\n",
      "quantitative_00066.txt\n"
     ]
    },
    {
     "name": "stderr",
     "output_type": "stream",
     "text": [
      "DEBUG:urllib3.connectionpool:https://huggingface.co:443 \"HEAD /sschet/bert-base-uncased_clinical-ner/resolve/main/config.json HTTP/1.1\" 200 0\n",
      "DEBUG:urllib3.connectionpool:https://huggingface.co:443 \"HEAD /sschet/bert-base-uncased_clinical-ner/resolve/main/vocab.txt HTTP/1.1\" 200 0\n"
     ]
    },
    {
     "name": "stdout",
     "output_type": "stream",
     "text": [
      "6 153 318 0\n",
      "annotated_num: 6\n",
      "[['Multiple', 'problem'], ['Multiple', 'B-MS_no_subtype']]\n",
      "[['Sclerosis', 'problem'], ['Sclerosis', 'I-MS_no_subtype']]\n",
      "[['MS', 'problem'], ['MS', 'B-MS_no_subtype']]\n",
      "[['Multiple', 'problem'], ['Multiple', 'B-MS_no_subtype']]\n",
      "[['sclerosis', 'problem'], ['sclerosis', 'I-MS_no_subtype']]\n",
      "[['MS', 'problem'], ['MS', 'B-MS_no_subtype']]\n",
      "inscope: 6\n",
      "quantitative_00067 annotator2_quantitative_00067_correct\n",
      "quantitative_00067.txt\n"
     ]
    },
    {
     "name": "stderr",
     "output_type": "stream",
     "text": [
      "DEBUG:urllib3.connectionpool:https://huggingface.co:443 \"HEAD /sschet/bert-base-uncased_clinical-ner/resolve/main/config.json HTTP/1.1\" 200 0\n",
      "DEBUG:urllib3.connectionpool:https://huggingface.co:443 \"HEAD /sschet/bert-base-uncased_clinical-ner/resolve/main/vocab.txt HTTP/1.1\" 200 0\n"
     ]
    },
    {
     "name": "stdout",
     "output_type": "stream",
     "text": [
      "8 751 937 1\n",
      "annotated_num: 11\n",
      "[['MS', 'problem'], ['MS', 'B-RRMS']]\n",
      "[['Multiple', 'problem'], ['Multiple', 'B-RRMS']]\n",
      "[['sclerosis', 'problem'], ['sclerosis', 'I-RRMS']]\n",
      "[['multiple', 'problem'], ['multiple', 'B-RRMS']]\n",
      "[['sclerosis', 'problem'], ['sclerosis', 'I-RRMS']]\n",
      "[['Multiple', 'problem'], ['Multiple', 'B-RRMS']]\n",
      "[['sclerosis', 'problem'], ['sclerosis', 'I-RRMS']]\n",
      "[['EDSS', 'test'], ['EDSS', 'B-EDSS']]\n",
      "inscope: 8\n",
      "quantitative_00068 annotator2_quantitative_00068_correct\n",
      "quantitative_00068.txt\n"
     ]
    },
    {
     "name": "stderr",
     "output_type": "stream",
     "text": [
      "DEBUG:urllib3.connectionpool:https://huggingface.co:443 \"HEAD /sschet/bert-base-uncased_clinical-ner/resolve/main/config.json HTTP/1.1\" 200 0\n",
      "DEBUG:urllib3.connectionpool:https://huggingface.co:443 \"HEAD /sschet/bert-base-uncased_clinical-ner/resolve/main/vocab.txt HTTP/1.1\" 200 0\n"
     ]
    },
    {
     "name": "stdout",
     "output_type": "stream",
     "text": [
      "6 45 136 4\n",
      "annotated_num: 10\n",
      "[['MS', 'problem'], ['MS', 'B-RRMS']]\n",
      "[['MULTIPLE', 'problem'], ['MULTIPLE', 'B-RRMS']]\n",
      "[['SCLEROSIS', 'problem'], ['SCLEROSIS', 'I-RRMS']]\n",
      "[['MULTIPLE', 'problem'], ['MULTIPLE', 'I-RRMS']]\n",
      "[['SCLEROSIS', 'problem'], ['SCLEROSIS', 'I-RRMS']]\n",
      "[['MS', 'problem'], ['MS', 'B-RRMS']]\n",
      "inscope: 6\n",
      "quantitative_00069 annotator2_quantitative_00069_correct\n",
      "quantitative_00069.txt\n"
     ]
    },
    {
     "name": "stderr",
     "output_type": "stream",
     "text": [
      "DEBUG:urllib3.connectionpool:https://huggingface.co:443 \"HEAD /sschet/bert-base-uncased_clinical-ner/resolve/main/config.json HTTP/1.1\" 200 0\n",
      "DEBUG:urllib3.connectionpool:https://huggingface.co:443 \"HEAD /sschet/bert-base-uncased_clinical-ner/resolve/main/vocab.txt HTTP/1.1\" 200 0\n"
     ]
    },
    {
     "name": "stdout",
     "output_type": "stream",
     "text": [
      "7 175 515 3\n",
      "annotated_num: 10\n",
      "[['MS', 'problem'], ['MS', 'B-SPMS']]\n",
      "[['MS', 'problem'], ['MS', 'B-SPMS']]\n",
      "[['EDSS', 'test'], ['EDSS', 'B-EDSS']]\n",
      "[['secondary', 'problem'], ['secondary', 'B-SPMS']]\n",
      "[['progressive', 'problem'], ['progressive', 'I-SPMS']]\n",
      "[['MS', 'problem'], ['MS', 'I-SPMS']]\n",
      "[['MS', 'problem'], ['MS', 'B-SPMS']]\n",
      "inscope: 7\n",
      "quantitative_00070 annotator2_quantitative_00070_correct\n",
      "quantitative_00070.txt\n"
     ]
    },
    {
     "name": "stderr",
     "output_type": "stream",
     "text": [
      "DEBUG:urllib3.connectionpool:https://huggingface.co:443 \"HEAD /sschet/bert-base-uncased_clinical-ner/resolve/main/config.json HTTP/1.1\" 200 0\n",
      "DEBUG:urllib3.connectionpool:https://huggingface.co:443 \"HEAD /sschet/bert-base-uncased_clinical-ner/resolve/main/vocab.txt HTTP/1.1\" 200 0\n"
     ]
    },
    {
     "name": "stdout",
     "output_type": "stream",
     "text": [
      "5 623 782 3\n",
      "annotated_num: 9\n",
      "[['MS', 'problem'], ['MS', 'B-RRMS']]\n",
      "[['Multiple', 'problem'], ['Multiple', 'B-RRMS']]\n",
      "[['sclerosis', 'problem'], ['sclerosis', 'I-RRMS']]\n",
      "[['MS', 'problem'], ['MS', 'B-RRMS']]\n",
      "[['EDSS', 'test'], ['EDSS', 'B-EDSS']]\n",
      "inscope: 5\n",
      "quantitative_00071 annotator2_quantitative_00071_correct\n",
      "quantitative_00071.txt\n"
     ]
    },
    {
     "name": "stderr",
     "output_type": "stream",
     "text": [
      "DEBUG:urllib3.connectionpool:https://huggingface.co:443 \"HEAD /sschet/bert-base-uncased_clinical-ner/resolve/main/config.json HTTP/1.1\" 200 0\n",
      "DEBUG:urllib3.connectionpool:https://huggingface.co:443 \"HEAD /sschet/bert-base-uncased_clinical-ner/resolve/main/vocab.txt HTTP/1.1\" 200 0\n"
     ]
    },
    {
     "name": "stdout",
     "output_type": "stream",
     "text": [
      "2 106 178 6\n",
      "annotated_num: 10\n",
      "[['MULTIPLE', 'problem'], ['MULTIPLE', 'I-RRMS']]\n",
      "[['SCLEROSIS', 'problem'], ['SCLEROSIS', 'I-RRMS']]\n",
      "inscope: 2\n",
      "quantitative_00072 annotator2_quantitative_00072_correct\n",
      "quantitative_00072.txt\n"
     ]
    },
    {
     "name": "stderr",
     "output_type": "stream",
     "text": [
      "DEBUG:urllib3.connectionpool:https://huggingface.co:443 \"HEAD /sschet/bert-base-uncased_clinical-ner/resolve/main/config.json HTTP/1.1\" 200 0\n",
      "DEBUG:urllib3.connectionpool:https://huggingface.co:443 \"HEAD /sschet/bert-base-uncased_clinical-ner/resolve/main/vocab.txt HTTP/1.1\" 200 0\n"
     ]
    },
    {
     "name": "stdout",
     "output_type": "stream",
     "text": [
      "2 65 214 3\n",
      "annotated_num: 6\n",
      "[['MS', 'problem'], ['MS', 'B-RRMS']]\n",
      "[['MS', 'problem'], ['MS', 'B-RRMS']]\n",
      "inscope: 2\n",
      "quantitative_00073 annotator2_quantitative_00073_correct\n",
      "quantitative_00073.txt\n"
     ]
    },
    {
     "name": "stderr",
     "output_type": "stream",
     "text": [
      "DEBUG:urllib3.connectionpool:https://huggingface.co:443 \"HEAD /sschet/bert-base-uncased_clinical-ner/resolve/main/config.json HTTP/1.1\" 200 0\n",
      "DEBUG:urllib3.connectionpool:https://huggingface.co:443 \"HEAD /sschet/bert-base-uncased_clinical-ner/resolve/main/vocab.txt HTTP/1.1\" 200 0\n"
     ]
    },
    {
     "name": "stdout",
     "output_type": "stream",
     "text": [
      "11 530 617 2\n",
      "annotated_num: 14\n",
      "[['MS', 'problem'], ['MS', 'B-RRMS']]\n",
      "[['Multiple', 'problem'], ['Multiple', 'B-RRMS']]\n",
      "[['sclerosis', 'problem'], ['sclerosis', 'I-RRMS']]\n",
      "[['multiple', 'problem'], ['multiple', 'B-RRMS']]\n",
      "[['sclerosis', 'problem'], ['sclerosis', 'I-RRMS']]\n",
      "[['multiple', 'problem'], ['multiple', 'B-RRMS']]\n",
      "[['sclerosis', 'problem'], ['sclerosis', 'I-RRMS']]\n",
      "[['Multiple', 'problem'], ['Multiple', 'B-RRMS']]\n",
      "[['sclerosis', 'problem'], ['sclerosis', 'I-RRMS']]\n",
      "[['MS', 'problem'], ['MS', 'B-RRMS']]\n",
      "[['EDSS', 'test'], ['EDSS', 'B-EDSS']]\n",
      "inscope: 11\n",
      "quantitative_00074 annotator2_quantitative_00074_correct\n",
      "quantitative_00074.txt\n"
     ]
    },
    {
     "name": "stderr",
     "output_type": "stream",
     "text": [
      "DEBUG:urllib3.connectionpool:https://huggingface.co:443 \"HEAD /sschet/bert-base-uncased_clinical-ner/resolve/main/config.json HTTP/1.1\" 200 0\n",
      "DEBUG:urllib3.connectionpool:https://huggingface.co:443 \"HEAD /sschet/bert-base-uncased_clinical-ner/resolve/main/vocab.txt HTTP/1.1\" 200 0\n"
     ]
    },
    {
     "name": "stdout",
     "output_type": "stream",
     "text": [
      "12 329 675 4\n",
      "annotated_num: 17\n",
      "[['-', 'problem'], ['-', 'I-RRMS']]\n",
      "[['multiple', 'problem'], ['multiple', 'I-RRMS']]\n",
      "[['sclerosis', 'problem'], ['sclerosis', 'I-RRMS']]\n",
      "[['relapse', 'problem'], ['relapse', 'B-RRMS']]\n",
      "[['exacerbation', 'problem'], ['exacerbation', 'B-Temporal_history_of_relapse']]\n",
      "[['multiple', 'problem'], ['multiple', 'B-RRMS']]\n",
      "[['sclerosis', 'problem'], ['sclerosis', 'I-RRMS']]\n",
      "[['-', 'problem'], ['-', 'I-RRMS']]\n",
      "[['EDSS', 'test'], ['EDSS', 'B-EDSS']]\n",
      "[['1', 'problem'], ['1', 'B-EDSS_Value']]\n",
      "[['multiple', 'problem'], ['multiple', 'I-RRMS']]\n",
      "[['sclerosis', 'problem'], ['sclerosis', 'I-RRMS']]\n",
      "inscope: 12\n",
      "quantitative_00075 annotator2_quantitative_00075_correct\n",
      "quantitative_00075.txt\n"
     ]
    },
    {
     "name": "stderr",
     "output_type": "stream",
     "text": [
      "DEBUG:urllib3.connectionpool:https://huggingface.co:443 \"HEAD /sschet/bert-base-uncased_clinical-ner/resolve/main/config.json HTTP/1.1\" 200 0\n",
      "DEBUG:urllib3.connectionpool:https://huggingface.co:443 \"HEAD /sschet/bert-base-uncased_clinical-ner/resolve/main/vocab.txt HTTP/1.1\" 200 0\n"
     ]
    },
    {
     "name": "stdout",
     "output_type": "stream",
     "text": [
      "5 285 291 1\n",
      "annotated_num: 7\n",
      "[['multiple', 'problem'], ['multiple', 'B-RRMS']]\n",
      "[['sclerosis', 'problem'], ['sclerosis', 'I-RRMS']]\n",
      "[['multiple', 'problem'], ['multiple', 'B-RRMS']]\n",
      "[['sclerosis', 'problem'], ['sclerosis', 'I-RRMS']]\n",
      "[['EDSS', 'test'], ['EDSS', 'B-EDSS']]\n",
      "inscope: 5\n",
      "quantitative_00076 annotator2_quantitative_00076_correct\n",
      "quantitative_00076.txt\n"
     ]
    },
    {
     "name": "stderr",
     "output_type": "stream",
     "text": [
      "DEBUG:urllib3.connectionpool:https://huggingface.co:443 \"HEAD /sschet/bert-base-uncased_clinical-ner/resolve/main/config.json HTTP/1.1\" 200 0\n",
      "DEBUG:urllib3.connectionpool:https://huggingface.co:443 \"HEAD /sschet/bert-base-uncased_clinical-ner/resolve/main/vocab.txt HTTP/1.1\" 200 0\n"
     ]
    },
    {
     "name": "stdout",
     "output_type": "stream",
     "text": [
      "6 329 753 9\n",
      "annotated_num: 15\n",
      "[['multiple', 'problem'], ['multiple', 'I-RRMS']]\n",
      "[['sclerosis', 'problem'], ['sclerosis', 'I-RRMS']]\n",
      "[['relapse', 'problem'], ['relapse', 'B-Temporal_history_of_relapse']]\n",
      "[['EDSS', 'test'], ['EDSS', 'B-EDSS']]\n",
      "[['multiple', 'problem'], ['multiple', 'I-RRMS']]\n",
      "[['sclerosis', 'problem'], ['sclerosis', 'I-RRMS']]\n",
      "inscope: 6\n",
      "quantitative_00077 annotator2_quantitative_00077_correct\n",
      "quantitative_00077.txt\n"
     ]
    },
    {
     "name": "stderr",
     "output_type": "stream",
     "text": [
      "DEBUG:urllib3.connectionpool:https://huggingface.co:443 \"HEAD /sschet/bert-base-uncased_clinical-ner/resolve/main/config.json HTTP/1.1\" 200 0\n",
      "DEBUG:urllib3.connectionpool:https://huggingface.co:443 \"HEAD /sschet/bert-base-uncased_clinical-ner/resolve/main/vocab.txt HTTP/1.1\" 200 0\n"
     ]
    },
    {
     "name": "stdout",
     "output_type": "stream",
     "text": [
      "3 249 312 0\n",
      "annotated_num: 4\n",
      "[['MS', 'problem'], ['MS', 'B-SPMS']]\n",
      "[['SPMS', 'problem'], ['SPMS', 'B-SPMS']]\n",
      "[['EDSS', 'test'], ['EDSS', 'B-EDSS']]\n",
      "inscope: 3\n",
      "quantitative_00078 annotator2_quantitative_00078_correct\n",
      "quantitative_00078.txt\n"
     ]
    },
    {
     "name": "stderr",
     "output_type": "stream",
     "text": [
      "DEBUG:urllib3.connectionpool:https://huggingface.co:443 \"HEAD /sschet/bert-base-uncased_clinical-ner/resolve/main/config.json HTTP/1.1\" 200 0\n",
      "DEBUG:urllib3.connectionpool:https://huggingface.co:443 \"HEAD /sschet/bert-base-uncased_clinical-ner/resolve/main/vocab.txt HTTP/1.1\" 200 0\n"
     ]
    },
    {
     "name": "stdout",
     "output_type": "stream",
     "text": [
      "2 262 314 1\n",
      "annotated_num: 4\n",
      "[['MS', 'problem'], ['MS', 'B-RRMS']]\n",
      "[['EDSS', 'test'], ['EDSS', 'B-EDSS']]\n",
      "inscope: 2\n",
      "quantitative_00079 annotator2_quantitative_00079_correct\n",
      "quantitative_00079.txt\n"
     ]
    },
    {
     "name": "stderr",
     "output_type": "stream",
     "text": [
      "DEBUG:urllib3.connectionpool:https://huggingface.co:443 \"HEAD /sschet/bert-base-uncased_clinical-ner/resolve/main/config.json HTTP/1.1\" 200 0\n",
      "DEBUG:urllib3.connectionpool:https://huggingface.co:443 \"HEAD /sschet/bert-base-uncased_clinical-ner/resolve/main/vocab.txt HTTP/1.1\" 200 0\n"
     ]
    },
    {
     "name": "stdout",
     "output_type": "stream",
     "text": [
      "6 151 180 2\n",
      "annotated_num: 8\n",
      "[['multiple', 'problem'], ['multiple', 'B-RRMS']]\n",
      "[['sclerosis', 'problem'], ['sclerosis', 'I-RRMS']]\n",
      "[['-', 'test'], ['-', 'I-RRMS']]\n",
      "[['MS', 'problem'], ['MS', 'B-RRMS']]\n",
      "[['RR', 'test'], ['RR', 'B-RRMS']]\n",
      "[['MS', 'problem'], ['MS', 'I-RRMS']]\n",
      "inscope: 6\n",
      "quantitative_00080 annotator2_quantitative_00080_correct\n",
      "quantitative_00080.txt\n"
     ]
    },
    {
     "name": "stderr",
     "output_type": "stream",
     "text": [
      "DEBUG:urllib3.connectionpool:https://huggingface.co:443 \"HEAD /sschet/bert-base-uncased_clinical-ner/resolve/main/config.json HTTP/1.1\" 200 0\n",
      "DEBUG:urllib3.connectionpool:https://huggingface.co:443 \"HEAD /sschet/bert-base-uncased_clinical-ner/resolve/main/vocab.txt HTTP/1.1\" 200 0\n"
     ]
    },
    {
     "name": "stdout",
     "output_type": "stream",
     "text": [
      "11 596 936 7\n",
      "annotated_num: 18\n",
      "[['-', 'problem'], ['-', 'I-RRMS']]\n",
      "[['multiple', 'problem'], ['multiple', 'I-RRMS']]\n",
      "[['sclerosis', 'problem'], ['sclerosis', 'I-RRMS']]\n",
      "[['relapse', 'problem'], ['relapse', 'B-Temporal_history_of_relapse']]\n",
      "[['MS', 'problem'], ['MS', 'B-RRMS']]\n",
      "[['multiple', 'problem'], ['multiple', 'B-RRMS']]\n",
      "[['sclerosis', 'problem'], ['sclerosis', 'I-RRMS']]\n",
      "[['-', 'problem'], ['-', 'I-RRMS']]\n",
      "[['EDSS', 'test'], ['EDSS', 'B-EDSS']]\n",
      "[['multiple', 'problem'], ['multiple', 'I-RRMS']]\n",
      "[['sclerosis', 'problem'], ['sclerosis', 'I-RRMS']]\n",
      "inscope: 11\n",
      "quantitative_00081 annotator2_quantitative_00081_correct\n",
      "quantitative_00081.txt\n"
     ]
    },
    {
     "name": "stderr",
     "output_type": "stream",
     "text": [
      "DEBUG:urllib3.connectionpool:https://huggingface.co:443 \"HEAD /sschet/bert-base-uncased_clinical-ner/resolve/main/config.json HTTP/1.1\" 200 0\n",
      "DEBUG:urllib3.connectionpool:https://huggingface.co:443 \"HEAD /sschet/bert-base-uncased_clinical-ner/resolve/main/vocab.txt HTTP/1.1\" 200 0\n"
     ]
    },
    {
     "name": "stdout",
     "output_type": "stream",
     "text": [
      "9 447 792 8\n",
      "annotated_num: 19\n",
      "[['multiple', 'problem'], ['multiple', 'I-RRMS']]\n",
      "[['sclerosis', 'problem'], ['sclerosis', 'I-RRMS']]\n",
      "[['MS', 'problem'], ['MS', 'B-RRMS']]\n",
      "[['multiple', 'problem'], ['multiple', 'B-RRMS']]\n",
      "[['sclerosis', 'problem'], ['sclerosis', 'I-RRMS']]\n",
      "[['EDSS', 'test'], ['EDSS', 'B-EDSS']]\n",
      "[['multiple', 'problem'], ['multiple', 'I-RRMS']]\n",
      "[['sclerosis', 'problem'], ['sclerosis', 'I-RRMS']]\n",
      "[['relapse', 'problem'], ['relapse', 'B-Temporal_history_of_relapse']]\n",
      "inscope: 9\n",
      "quantitative_00082 annotator2_quantitative_00082_correct\n",
      "quantitative_00082.txt\n"
     ]
    },
    {
     "name": "stderr",
     "output_type": "stream",
     "text": [
      "DEBUG:urllib3.connectionpool:https://huggingface.co:443 \"HEAD /sschet/bert-base-uncased_clinical-ner/resolve/main/config.json HTTP/1.1\" 200 0\n",
      "DEBUG:urllib3.connectionpool:https://huggingface.co:443 \"HEAD /sschet/bert-base-uncased_clinical-ner/resolve/main/vocab.txt HTTP/1.1\" 200 0\n"
     ]
    },
    {
     "name": "stdout",
     "output_type": "stream",
     "text": [
      "6 384 767 1\n",
      "annotated_num: 8\n",
      "[['MS', 'problem'], ['MS', 'B-RRMS']]\n",
      "[['MS', 'problem'], ['MS', 'B-RRMS']]\n",
      "[['Multiple', 'problem'], ['Multiple', 'B-RRMS']]\n",
      "[['sclerosis', 'problem'], ['sclerosis', 'I-RRMS']]\n",
      "[['MS', 'problem'], ['MS', 'B-RRMS']]\n",
      "[['MS', 'problem'], ['MS', 'I-RRMS']]\n",
      "inscope: 6\n",
      "quantitative_00083 annotator2_quantitative_00083_correct\n",
      "quantitative_00083.txt\n"
     ]
    },
    {
     "name": "stderr",
     "output_type": "stream",
     "text": [
      "DEBUG:urllib3.connectionpool:https://huggingface.co:443 \"HEAD /sschet/bert-base-uncased_clinical-ner/resolve/main/config.json HTTP/1.1\" 200 0\n",
      "DEBUG:urllib3.connectionpool:https://huggingface.co:443 \"HEAD /sschet/bert-base-uncased_clinical-ner/resolve/main/vocab.txt HTTP/1.1\" 200 0\n"
     ]
    },
    {
     "name": "stdout",
     "output_type": "stream",
     "text": [
      "9 711 727 4\n",
      "annotated_num: 14\n",
      "[['MS', 'problem'], ['MS', 'B-RRMS']]\n",
      "[['multiple', 'problem'], ['multiple', 'B-RRMS']]\n",
      "[['sclerosis', 'problem'], ['sclerosis', 'I-RRMS']]\n",
      "[['multiple', 'problem'], ['multiple', 'B-RRMS']]\n",
      "[['sclerosis', 'problem'], ['sclerosis', 'I-RRMS']]\n",
      "[['Multiple', 'problem'], ['Multiple', 'B-RRMS']]\n",
      "[['sclerosis', 'problem'], ['sclerosis', 'I-RRMS']]\n",
      "[['MS', 'problem'], ['MS', 'B-RRMS']]\n",
      "[['EDSS', 'test'], ['EDSS', 'B-EDSS']]\n",
      "inscope: 9\n",
      "quantitative_00084 annotator2_quantitative_00084_correct\n",
      "quantitative_00084.txt\n"
     ]
    },
    {
     "name": "stderr",
     "output_type": "stream",
     "text": [
      "DEBUG:urllib3.connectionpool:https://huggingface.co:443 \"HEAD /sschet/bert-base-uncased_clinical-ner/resolve/main/config.json HTTP/1.1\" 200 0\n",
      "DEBUG:urllib3.connectionpool:https://huggingface.co:443 \"HEAD /sschet/bert-base-uncased_clinical-ner/resolve/main/vocab.txt HTTP/1.1\" 200 0\n"
     ]
    },
    {
     "name": "stdout",
     "output_type": "stream",
     "text": [
      "3 315 297 2\n",
      "annotated_num: 5\n",
      "[['MS', 'problem'], ['MS', 'B-RRMS']]\n",
      "[['MS', 'problem'], ['MS', 'B-RRMS']]\n",
      "[['EDSS', 'test'], ['EDSS', 'B-EDSS']]\n",
      "inscope: 3\n",
      "quantitative_00085 annotator2_quantitative_00085_correct\n",
      "quantitative_00085.txt\n"
     ]
    },
    {
     "name": "stderr",
     "output_type": "stream",
     "text": [
      "DEBUG:urllib3.connectionpool:https://huggingface.co:443 \"HEAD /sschet/bert-base-uncased_clinical-ner/resolve/main/config.json HTTP/1.1\" 200 0\n",
      "DEBUG:urllib3.connectionpool:https://huggingface.co:443 \"HEAD /sschet/bert-base-uncased_clinical-ner/resolve/main/vocab.txt HTTP/1.1\" 200 0\n"
     ]
    },
    {
     "name": "stdout",
     "output_type": "stream",
     "text": [
      "6 760 493 3\n",
      "annotated_num: 10\n",
      "[['MS', 'problem'], ['MS', 'B-RRMS']]\n",
      "[['MS', 'problem'], ['MS', 'B-RRMS']]\n",
      "[['MS', 'problem'], ['MS', 'B-RRMS']]\n",
      "[['MS', 'problem'], ['MS', 'B-RRMS']]\n",
      "[['MULTIPLE', 'problem'], ['MULTIPLE', 'I-RRMS']]\n",
      "[['SCLEROSIS', 'problem'], ['SCLEROSIS', 'I-RRMS']]\n",
      "inscope: 6\n",
      "quantitative_00086 annotator2_quantitative_00086_correct\n",
      "quantitative_00086.txt\n"
     ]
    },
    {
     "name": "stderr",
     "output_type": "stream",
     "text": [
      "DEBUG:urllib3.connectionpool:https://huggingface.co:443 \"HEAD /sschet/bert-base-uncased_clinical-ner/resolve/main/config.json HTTP/1.1\" 200 0\n",
      "DEBUG:urllib3.connectionpool:https://huggingface.co:443 \"HEAD /sschet/bert-base-uncased_clinical-ner/resolve/main/vocab.txt HTTP/1.1\" 200 0\n"
     ]
    },
    {
     "name": "stdout",
     "output_type": "stream",
     "text": [
      "16 657 1104 7\n",
      "annotated_num: 25\n",
      "[['multiple', 'problem'], ['multiple', 'B-SPMS']]\n",
      "[['sclerosis', 'problem'], ['sclerosis', 'I-SPMS']]\n",
      "[['MS', 'problem'], ['MS', 'B-SPMS']]\n",
      "[['SPMS', 'test'], ['SPMS', 'I-SPMS']]\n",
      "[['MS', 'problem'], ['MS', 'B-SPMS']]\n",
      "[['Multiple', 'problem'], ['Multiple', 'B-RRMS']]\n",
      "[['sclerosis', 'problem'], ['sclerosis', 'I-RRMS']]\n",
      "[['EDSS', 'test'], ['EDSS', 'B-EDSS']]\n",
      "[['MS', 'problem'], ['MS', 'B-SPMS']]\n",
      "[['MS', 'problem'], ['MS', 'B-SPMS']]\n",
      "[['(', 'test'], ['(', 'I-SPMS']]\n",
      "[['MULTIPLE', 'problem'], ['MULTIPLE', 'B-SPMS']]\n",
      "[['SCLEROSIS', 'problem'], ['SCLEROSIS', 'I-SPMS']]\n",
      "[['SPMS', 'test'], ['SPMS', 'I-SPMS']]\n",
      "[['MS', 'problem'], ['MS', 'B-SPMS']]\n",
      "[['SPMS', 'test'], ['SPMS', 'B-SPMS']]\n",
      "inscope: 16\n",
      "quantitative_00087 annotator2_quantitative_00087_correct\n",
      "quantitative_00087.txt\n"
     ]
    },
    {
     "name": "stderr",
     "output_type": "stream",
     "text": [
      "DEBUG:urllib3.connectionpool:https://huggingface.co:443 \"HEAD /sschet/bert-base-uncased_clinical-ner/resolve/main/config.json HTTP/1.1\" 200 0\n",
      "DEBUG:urllib3.connectionpool:https://huggingface.co:443 \"HEAD /sschet/bert-base-uncased_clinical-ner/resolve/main/vocab.txt HTTP/1.1\" 200 0\n",
      "DEBUG:urllib3.connectionpool:https://huggingface.co:443 \"HEAD /sschet/bert-base-uncased_clinical-ner/resolve/main/config.json HTTP/1.1\" 200 0\n"
     ]
    },
    {
     "name": "stdout",
     "output_type": "stream",
     "text": [
      "13 514 1004 12\n",
      "annotated_num: 28\n",
      "[['Multiple', 'problem'], ['Multiple', 'B-RRMS']]\n",
      "[['sclerosis', 'problem'], ['sclerosis', 'I-RRMS']]\n",
      "[['MS', 'problem'], ['MS', 'B-RRMS']]\n",
      "[['Multiple', 'problem'], ['Multiple', 'B-RRMS']]\n",
      "[['sclerosis', 'problem'], ['sclerosis', 'I-RRMS']]\n",
      "[['relapses', 'problem'], ['relapses', 'B-RRMS']]\n",
      "[['relapses', 'problem'], ['relapses', 'I-Temporal_history_of_relapse']]\n",
      "[['EDSS', 'test'], ['EDSS', 'B-EDSS']]\n",
      "[['EDSS', 'test'], ['EDSS', 'B-EDSS']]\n",
      "[['MS', 'problem'], ['MS', 'B-RRMS']]\n",
      "[['MS', 'problem'], ['MS', 'B-RRMS']]\n",
      "[['Multiple', 'problem'], ['Multiple', 'B-RRMS']]\n",
      "[['sclerosis', 'problem'], ['sclerosis', 'I-RRMS']]\n",
      "inscope: 13\n",
      "quantitative_00088 annotator2_quantitative_00088_correct\n",
      "quantitative_00088.txt\n"
     ]
    },
    {
     "name": "stderr",
     "output_type": "stream",
     "text": [
      "DEBUG:urllib3.connectionpool:https://huggingface.co:443 \"HEAD /sschet/bert-base-uncased_clinical-ner/resolve/main/vocab.txt HTTP/1.1\" 200 0\n"
     ]
    },
    {
     "name": "stdout",
     "output_type": "stream",
     "text": [
      "8 67 176 0\n",
      "annotated_num: 11\n",
      "[['MS', 'problem'], ['MS', 'B-RRMS']]\n",
      "[['RRMS', 'problem'], ['RRMS', 'B-RRMS']]\n",
      "[['last', 'problem'], ['last', 'B-Temporal_history_of_relapse']]\n",
      "[['flare', 'problem'], ['flare', 'I-Temporal_history_of_relapse']]\n",
      "[['MS', 'problem'], ['MS', 'B-SPMS']]\n",
      "[['secondary', 'problem'], ['secondary', 'B-SPMS']]\n",
      "[['progressive', 'problem'], ['progressive', 'I-SPMS']]\n",
      "[['MS', 'problem'], ['MS', 'I-SPMS']]\n",
      "inscope: 8\n",
      "quantitative_00089 annotator2_quantitative_00089_correct\n",
      "quantitative_00089.txt\n"
     ]
    },
    {
     "name": "stderr",
     "output_type": "stream",
     "text": [
      "DEBUG:urllib3.connectionpool:https://huggingface.co:443 \"HEAD /sschet/bert-base-uncased_clinical-ner/resolve/main/config.json HTTP/1.1\" 200 0\n"
     ]
    },
    {
     "name": "stdout",
     "output_type": "stream",
     "text": [
      "27 573 799 22\n",
      "annotated_num: 49\n",
      "[['multiple', 'problem'], ['multiple', 'I-RRMS']]\n",
      "[['sclerosis', 'problem'], ['sclerosis', 'I-RRMS']]\n",
      "[['-', 'test'], ['-', 'I-RRMS']]\n",
      "[['Multiple', 'problem'], ['Multiple', 'I-RRMS']]\n",
      "[['Sclerosis', 'problem'], ['Sclerosis', 'I-RRMS']]\n",
      "[['Last', 'problem'], ['Last', 'B-Temporal_history_of_relapse']]\n",
      "[['relapse', 'problem'], ['relapse', 'I-Temporal_history_of_relapse']]\n",
      "[['multiple', 'problem'], ['multiple', 'I-RRMS']]\n",
      "[['sclerosis', 'problem'], ['sclerosis', 'I-RRMS']]\n",
      "[['relapse', 'problem'], ['relapse', 'B-Temporal_history_of_relapse']]\n",
      "[['MS', 'problem'], ['MS', 'B-RRMS']]\n",
      "[['(', 'problem'], ['(', 'I-RRMS']]\n",
      "[['multiple', 'problem'], ['multiple', 'I-RRMS']]\n",
      "[['sclerosis', 'problem'], ['sclerosis', 'I-RRMS']]\n",
      "[[')', 'problem'], [')', 'I-RRMS']]\n",
      "[['EDSS', 'test'], ['EDSS', 'B-EDSS']]\n",
      "[['2', 'test'], ['2', 'B-EDSS_Value']]\n",
      "[['multiple', 'problem'], ['multiple', 'I-RRMS']]\n",
      "[['sclerosis', 'problem'], ['sclerosis', 'I-RRMS']]\n",
      "[['relapse', 'problem'], ['relapse', 'B-Temporal_history_of_relapse']]\n",
      "[['EDSS', 'test'], ['EDSS', 'B-EDSS']]\n",
      "[['1', 'test'], ['1', 'I-EDSS_Value']]\n",
      "[['to', 'problem'], ['to', 'I-EDSS_Value']]\n",
      "[['2', 'test'], ['2', 'I-EDSS_Value']]\n",
      "[['the', 'test'], ['the', 'I-EDSS_Date']]\n",
      "[['of', 'test'], ['of', 'I-EDSS_Date']]\n",
      "[['and', 'test'], ['and', 'I-EDSS_Date']]\n",
      "inscope: 27\n",
      "quantitative_00090 annotator2_quantitative_00090_correct\n",
      "quantitative_00090.txt\n"
     ]
    },
    {
     "name": "stderr",
     "output_type": "stream",
     "text": [
      "DEBUG:urllib3.connectionpool:https://huggingface.co:443 \"HEAD /sschet/bert-base-uncased_clinical-ner/resolve/main/vocab.txt HTTP/1.1\" 200 0\n",
      "DEBUG:urllib3.connectionpool:https://huggingface.co:443 \"HEAD /sschet/bert-base-uncased_clinical-ner/resolve/main/config.json HTTP/1.1\" 200 0\n",
      "DEBUG:urllib3.connectionpool:https://huggingface.co:443 \"HEAD /sschet/bert-base-uncased_clinical-ner/resolve/main/vocab.txt HTTP/1.1\" 200 0\n"
     ]
    },
    {
     "name": "stdout",
     "output_type": "stream",
     "text": [
      "11 404 736 9\n",
      "annotated_num: 25\n",
      "[['-', 'test'], ['-', 'I-RRMS']]\n",
      "[['RRMS', 'problem'], ['RRMS', 'B-RRMS']]\n",
      "[['New', 'problem'], ['New', 'B-RRMS']]\n",
      "[['relapse', 'problem'], ['relapse', 'I-RRMS']]\n",
      "[['last', 'test'], ['last', 'B-Relapse_relative_date']]\n",
      "[['sclerosis', 'problem'], ['sclerosis', 'I-RRMS']]\n",
      "[['worsening', 'problem'], ['worsening', 'B-RRMS']]\n",
      "[['-', 'test'], ['-', 'I-RRMS']]\n",
      "[['sclerosis', 'problem'], ['sclerosis', 'I-RRMS']]\n",
      "[['sclerosis', 'problem'], ['sclerosis', 'I-RRMS']]\n",
      "[['relapse', 'problem'], ['relapse', 'B-RRMS']]\n",
      "inscope: 11\n",
      "quantitative_00091 annotator2_quantitative_00091_correct\n",
      "quantitative_00091.txt\n"
     ]
    },
    {
     "name": "stderr",
     "output_type": "stream",
     "text": [
      "DEBUG:urllib3.connectionpool:https://huggingface.co:443 \"HEAD /sschet/bert-base-uncased_clinical-ner/resolve/main/config.json HTTP/1.1\" 200 0\n",
      "DEBUG:urllib3.connectionpool:https://huggingface.co:443 \"HEAD /sschet/bert-base-uncased_clinical-ner/resolve/main/vocab.txt HTTP/1.1\" 200 0\n"
     ]
    },
    {
     "name": "stdout",
     "output_type": "stream",
     "text": [
      "3 831 661 4\n",
      "annotated_num: 8\n",
      "[['multiple', 'problem'], ['multiple', 'B-RRMS']]\n",
      "[['sclerosis', 'problem'], ['sclerosis', 'I-RRMS']]\n",
      "[['sclerosis', 'problem'], ['sclerosis', 'I-RRMS']]\n",
      "inscope: 3\n",
      "quantitative_00092 annotator2_quantitative_00092_correct\n",
      "quantitative_00092.txt\n"
     ]
    },
    {
     "name": "stderr",
     "output_type": "stream",
     "text": [
      "DEBUG:urllib3.connectionpool:https://huggingface.co:443 \"HEAD /sschet/bert-base-uncased_clinical-ner/resolve/main/config.json HTTP/1.1\" 200 0\n",
      "DEBUG:urllib3.connectionpool:https://huggingface.co:443 \"HEAD /sschet/bert-base-uncased_clinical-ner/resolve/main/vocab.txt HTTP/1.1\" 200 0\n"
     ]
    },
    {
     "name": "stdout",
     "output_type": "stream",
     "text": [
      "1 64 155 6\n",
      "annotated_num: 8\n",
      "[['MULTIPLE', 'problem'], ['MULTIPLE', 'I-RRMS']]\n",
      "inscope: 1\n",
      "quantitative_00093 annotator2_quantitative_00093_correct\n",
      "quantitative_00093.txt\n"
     ]
    },
    {
     "name": "stderr",
     "output_type": "stream",
     "text": [
      "DEBUG:urllib3.connectionpool:https://huggingface.co:443 \"HEAD /sschet/bert-base-uncased_clinical-ner/resolve/main/config.json HTTP/1.1\" 200 0\n",
      "DEBUG:urllib3.connectionpool:https://huggingface.co:443 \"HEAD /sschet/bert-base-uncased_clinical-ner/resolve/main/vocab.txt HTTP/1.1\" 200 0\n",
      "DEBUG:urllib3.connectionpool:https://huggingface.co:443 \"HEAD /sschet/bert-base-uncased_clinical-ner/resolve/main/config.json HTTP/1.1\" 200 0\n"
     ]
    },
    {
     "name": "stdout",
     "output_type": "stream",
     "text": [
      "14 294 428 4\n",
      "annotated_num: 19\n",
      "[['Aggressive', 'problem'], ['Aggressive', 'B-RRMS']]\n",
      "[['relapsing', 'problem'], ['relapsing', 'I-RRMS']]\n",
      "[['multiple', 'problem'], ['multiple', 'I-RRMS']]\n",
      "[['sclerosis', 'problem'], ['sclerosis', 'I-RRMS']]\n",
      "[['aggressive', 'problem'], ['aggressive', 'B-RRMS']]\n",
      "[['relapsing', 'problem'], ['relapsing', 'I-RRMS']]\n",
      "[['multiple', 'problem'], ['multiple', 'I-RRMS']]\n",
      "[['sclerosis', 'problem'], ['sclerosis', 'I-RRMS']]\n",
      "[['EDSS', 'test'], ['EDSS', 'B-EDSS']]\n",
      "[['aggressive', 'problem'], ['aggressive', 'B-RRMS']]\n",
      "[['relapsing', 'problem'], ['relapsing', 'I-RRMS']]\n",
      "[['multiple', 'problem'], ['multiple', 'I-RRMS']]\n",
      "[['sclerosis', 'problem'], ['sclerosis', 'I-RRMS']]\n",
      "[['relapse', 'problem'], ['relapse', 'I-RRMS']]\n",
      "inscope: 14\n",
      "quantitative_00094 annotator2_quantitative_00094_correct\n",
      "quantitative_00094.txt\n"
     ]
    },
    {
     "name": "stderr",
     "output_type": "stream",
     "text": [
      "DEBUG:urllib3.connectionpool:https://huggingface.co:443 \"HEAD /sschet/bert-base-uncased_clinical-ner/resolve/main/vocab.txt HTTP/1.1\" 200 0\n"
     ]
    },
    {
     "name": "stdout",
     "output_type": "stream",
     "text": [
      "4 75 285 3\n",
      "annotated_num: 7\n",
      "[['multiple', 'problem'], ['multiple', 'B-RRMS']]\n",
      "[['sclerosis', 'problem'], ['sclerosis', 'I-RRMS']]\n",
      "[['MS', 'problem'], ['MS', 'B-RRMS']]\n",
      "[['EDSS', 'test'], ['EDSS', 'B-EDSS']]\n",
      "inscope: 4\n",
      "quantitative_00095 annotator2_quantitative_00095_correct\n",
      "quantitative_00095.txt\n"
     ]
    },
    {
     "name": "stderr",
     "output_type": "stream",
     "text": [
      "DEBUG:urllib3.connectionpool:https://huggingface.co:443 \"HEAD /sschet/bert-base-uncased_clinical-ner/resolve/main/config.json HTTP/1.1\" 200 0\n",
      "DEBUG:urllib3.connectionpool:https://huggingface.co:443 \"HEAD /sschet/bert-base-uncased_clinical-ner/resolve/main/vocab.txt HTTP/1.1\" 200 0\n"
     ]
    },
    {
     "name": "stdout",
     "output_type": "stream",
     "text": [
      "6 168 194 1\n",
      "annotated_num: 9\n",
      "[['multiple', 'problem'], ['multiple', 'B-SPMS']]\n",
      "[['sclerosis', 'problem'], ['sclerosis', 'I-SPMS']]\n",
      "[['SECONDARY', 'problem'], ['SECONDARY', 'B-SPMS']]\n",
      "[['PROGRESSIVE', 'problem'], ['PROGRESSIVE', 'I-SPMS']]\n",
      "[['MULTIPLE', 'problem'], ['MULTIPLE', 'I-SPMS']]\n",
      "[['SCLEROSIS', 'problem'], ['SCLEROSIS', 'I-SPMS']]\n",
      "inscope: 6\n",
      "quantitative_00096 annotator2_quantitative_00096_correct\n",
      "quantitative_00096.txt\n"
     ]
    },
    {
     "name": "stderr",
     "output_type": "stream",
     "text": [
      "DEBUG:urllib3.connectionpool:https://huggingface.co:443 \"HEAD /sschet/bert-base-uncased_clinical-ner/resolve/main/config.json HTTP/1.1\" 200 0\n",
      "DEBUG:urllib3.connectionpool:https://huggingface.co:443 \"HEAD /sschet/bert-base-uncased_clinical-ner/resolve/main/vocab.txt HTTP/1.1\" 200 0\n"
     ]
    },
    {
     "name": "stdout",
     "output_type": "stream",
     "text": [
      "15 520 865 7\n",
      "annotated_num: 22\n",
      "[['-', 'problem'], ['-', 'I-RRMS']]\n",
      "[['multiple', 'problem'], ['multiple', 'I-RRMS']]\n",
      "[['sclerosis', 'problem'], ['sclerosis', 'I-RRMS']]\n",
      "[['last', 'problem'], ['last', 'B-Temporal_history_of_relapse']]\n",
      "[['clinical', 'problem'], ['clinical', 'I-Temporal_history_of_relapse']]\n",
      "[['relapse', 'problem'], ['relapse', 'I-Temporal_history_of_relapse']]\n",
      "[['MS', 'problem'], ['MS', 'B-RRMS']]\n",
      "[['multiple', 'problem'], ['multiple', 'B-RRMS']]\n",
      "[['sclerosis', 'problem'], ['sclerosis', 'I-RRMS']]\n",
      "[['-', 'problem'], ['-', 'I-RRMS']]\n",
      "[['EDSS', 'test'], ['EDSS', 'B-EDSS']]\n",
      "[['multiple', 'problem'], ['multiple', 'I-RRMS']]\n",
      "[['sclerosis', 'problem'], ['sclerosis', 'I-RRMS']]\n",
      "[['clinical', 'problem'], ['clinical', 'B-Temporal_history_of_relapse']]\n",
      "[['relapse', 'problem'], ['relapse', 'I-Temporal_history_of_relapse']]\n",
      "inscope: 15\n",
      "quantitative_00097 annotator2_quantitative_00097_correct\n",
      "quantitative_00097.txt\n"
     ]
    },
    {
     "name": "stderr",
     "output_type": "stream",
     "text": [
      "DEBUG:urllib3.connectionpool:https://huggingface.co:443 \"HEAD /sschet/bert-base-uncased_clinical-ner/resolve/main/config.json HTTP/1.1\" 200 0\n",
      "DEBUG:urllib3.connectionpool:https://huggingface.co:443 \"HEAD /sschet/bert-base-uncased_clinical-ner/resolve/main/vocab.txt HTTP/1.1\" 200 0\n"
     ]
    },
    {
     "name": "stdout",
     "output_type": "stream",
     "text": [
      "3 148 140 2\n",
      "annotated_num: 5\n",
      "[['MS', 'problem'], ['MS', 'B-CIS']]\n",
      "[['CIS', 'problem'], ['CIS', 'B-CIS']]\n",
      "[['EDSS', 'test'], ['EDSS', 'B-EDSS']]\n",
      "inscope: 3\n",
      "quantitative_00098 annotator2_quantitative_00098_correct\n",
      "quantitative_00098.txt\n"
     ]
    },
    {
     "name": "stderr",
     "output_type": "stream",
     "text": [
      "DEBUG:urllib3.connectionpool:https://huggingface.co:443 \"HEAD /sschet/bert-base-uncased_clinical-ner/resolve/main/config.json HTTP/1.1\" 200 0\n",
      "DEBUG:urllib3.connectionpool:https://huggingface.co:443 \"HEAD /sschet/bert-base-uncased_clinical-ner/resolve/main/vocab.txt HTTP/1.1\" 200 0\n"
     ]
    },
    {
     "name": "stdout",
     "output_type": "stream",
     "text": [
      "8 671 905 5\n",
      "annotated_num: 13\n",
      "[['Multiple', 'problem'], ['Multiple', 'B-RRMS']]\n",
      "[['sclerosis', 'problem'], ['sclerosis', 'I-RRMS']]\n",
      "[['Multiple', 'problem'], ['Multiple', 'B-RRMS']]\n",
      "[['sclerosis', 'problem'], ['sclerosis', 'I-RRMS']]\n",
      "[['MS', 'problem'], ['MS', 'B-RRMS']]\n",
      "[['EDSS', 'test'], ['EDSS', 'B-EDSS']]\n",
      "[['relapse', 'problem'], ['relapse', 'B-Temporal_history_of_relapse']]\n",
      "[['relapse', 'problem'], ['relapse', 'B-Temporal_history_of_relapse']]\n",
      "inscope: 8\n",
      "quantitative_00099 annotator2_quantitative_00099_correct\n",
      "quantitative_00099.txt\n"
     ]
    },
    {
     "name": "stderr",
     "output_type": "stream",
     "text": [
      "DEBUG:urllib3.connectionpool:https://huggingface.co:443 \"HEAD /sschet/bert-base-uncased_clinical-ner/resolve/main/config.json HTTP/1.1\" 200 0\n",
      "DEBUG:urllib3.connectionpool:https://huggingface.co:443 \"HEAD /sschet/bert-base-uncased_clinical-ner/resolve/main/vocab.txt HTTP/1.1\" 200 0\n"
     ]
    },
    {
     "name": "stdout",
     "output_type": "stream",
     "text": [
      "12 322 791 8\n",
      "annotated_num: 22\n",
      "[['multiple', 'problem'], ['multiple', 'I-RRMS']]\n",
      "[['sclerosis', 'problem'], ['sclerosis', 'I-RRMS']]\n",
      "[['Last', 'problem'], ['Last', 'B-Temporal_history_of_relapse']]\n",
      "[['relapse', 'problem'], ['relapse', 'I-Temporal_history_of_relapse']]\n",
      "[['worsening', 'problem'], ['worsening', 'B-RRMS']]\n",
      "[['EDSS', 'test'], ['EDSS', 'B-EDSS']]\n",
      "[['multiple', 'problem'], ['multiple', 'B-RRMS']]\n",
      "[['sclerosis', 'problem'], ['sclerosis', 'I-RRMS']]\n",
      "[['multiple', 'problem'], ['multiple', 'B-RRMS']]\n",
      "[['sclerosis', 'problem'], ['sclerosis', 'I-RRMS']]\n",
      "[['multiple', 'problem'], ['multiple', 'I-RRMS']]\n",
      "[['sclerosis', 'problem'], ['sclerosis', 'I-RRMS']]\n",
      "inscope: 12\n",
      "quantitative_00100 annotator2_quantitative_00100_correct\n",
      "quantitative_00100.txt\n"
     ]
    },
    {
     "name": "stderr",
     "output_type": "stream",
     "text": [
      "DEBUG:urllib3.connectionpool:https://huggingface.co:443 \"HEAD /sschet/bert-base-uncased_clinical-ner/resolve/main/config.json HTTP/1.1\" 200 0\n",
      "DEBUG:urllib3.connectionpool:https://huggingface.co:443 \"HEAD /sschet/bert-base-uncased_clinical-ner/resolve/main/vocab.txt HTTP/1.1\" 200 0\n"
     ]
    },
    {
     "name": "stdout",
     "output_type": "stream",
     "text": [
      "9 582 924 6\n",
      "annotated_num: 16\n",
      "[['accrued', 'problem'], ['accrued', 'I-RRMS']]\n",
      "[['deficits', 'problem'], ['deficits', 'I-RRMS']]\n",
      "[['Multiple', 'problem'], ['Multiple', 'B-SPMS']]\n",
      "[['sclerosis', 'problem'], ['sclerosis', 'I-SPMS']]\n",
      "[['MS', 'problem'], ['MS', 'B-SPMS']]\n",
      "[['relapse', 'problem'], ['relapse', 'B-Temporal_history_of_relapse']]\n",
      "[['Active', 'problem'], ['Active', 'B-SPMS']]\n",
      "[['accrued', 'problem'], ['accrued', 'I-SPMS']]\n",
      "[['disability', 'problem'], ['disability', 'I-SPMS']]\n",
      "inscope: 9\n",
      "quantitative_00101 annotator2_quantitative_00101_correct\n",
      "quantitative_00101.txt\n"
     ]
    },
    {
     "name": "stderr",
     "output_type": "stream",
     "text": [
      "DEBUG:urllib3.connectionpool:https://huggingface.co:443 \"HEAD /sschet/bert-base-uncased_clinical-ner/resolve/main/config.json HTTP/1.1\" 200 0\n",
      "DEBUG:urllib3.connectionpool:https://huggingface.co:443 \"HEAD /sschet/bert-base-uncased_clinical-ner/resolve/main/vocab.txt HTTP/1.1\" 200 0\n"
     ]
    },
    {
     "name": "stdout",
     "output_type": "stream",
     "text": [
      "11 86 187 4\n",
      "annotated_num: 15\n",
      "[['MS', 'problem'], ['MS', 'B-RRMS']]\n",
      "[['MS', 'problem'], ['MS', 'B-RRMS']]\n",
      "[['(', 'problem'], ['(', 'I-RRMS']]\n",
      "[['multiple', 'problem'], ['multiple', 'I-RRMS']]\n",
      "[['sclerosis', 'problem'], ['sclerosis', 'I-RRMS']]\n",
      "[[')', 'problem'], [')', 'I-RRMS']]\n",
      "[['MULTIPLE', 'problem'], ['MULTIPLE', 'B-RRMS']]\n",
      "[['SCLEROSIS', 'problem'], ['SCLEROSIS', 'I-RRMS']]\n",
      "[['MS', 'problem'], ['MS', 'B-RRMS']]\n",
      "[['MULTIPLE', 'problem'], ['MULTIPLE', 'I-RRMS']]\n",
      "[['SCLEROSIS', 'problem'], ['SCLEROSIS', 'I-RRMS']]\n",
      "inscope: 11\n",
      "quantitative_00102 annotator2_quantitative_00102_correct\n",
      "quantitative_00102.txt\n"
     ]
    },
    {
     "name": "stderr",
     "output_type": "stream",
     "text": [
      "DEBUG:urllib3.connectionpool:https://huggingface.co:443 \"HEAD /sschet/bert-base-uncased_clinical-ner/resolve/main/config.json HTTP/1.1\" 200 0\n",
      "DEBUG:urllib3.connectionpool:https://huggingface.co:443 \"HEAD /sschet/bert-base-uncased_clinical-ner/resolve/main/vocab.txt HTTP/1.1\" 200 0\n"
     ]
    },
    {
     "name": "stdout",
     "output_type": "stream",
     "text": [
      "16 408 585 8\n",
      "annotated_num: 25\n",
      "[['-', 'problem'], ['-', 'I-RRMS']]\n",
      "[['relapsing', 'problem'], ['relapsing', 'B-RRMS']]\n",
      "[['remitting', 'problem'], ['remitting', 'I-RRMS']]\n",
      "[['MS', 'problem'], ['MS', 'I-RRMS']]\n",
      "[['relapse', 'problem'], ['relapse', 'B-Temporal_history_of_relapse']]\n",
      "[['-', 'problem'], ['-', 'I-RRMS']]\n",
      "[['Relapsing', 'problem'], ['Relapsing', 'B-RRMS']]\n",
      "[['remitting', 'problem'], ['remitting', 'I-RRMS']]\n",
      "[['multiple', 'problem'], ['multiple', 'I-RRMS']]\n",
      "[['sclerosis', 'problem'], ['sclerosis', 'I-RRMS']]\n",
      "[['EDSS', 'test'], ['EDSS', 'B-EDSS']]\n",
      "[['-', 'problem'], ['-', 'I-RRMS']]\n",
      "[['relapsing', 'problem'], ['relapsing', 'B-RRMS']]\n",
      "[['remitting', 'problem'], ['remitting', 'I-RRMS']]\n",
      "[['MS', 'problem'], ['MS', 'I-RRMS']]\n",
      "[['relapse', 'problem'], ['relapse', 'B-Temporal_history_of_relapse']]\n",
      "inscope: 16\n",
      "quantitative_00103 annotator2_quantitative_00103_correct\n",
      "quantitative_00103.txt\n"
     ]
    },
    {
     "name": "stderr",
     "output_type": "stream",
     "text": [
      "DEBUG:urllib3.connectionpool:https://huggingface.co:443 \"HEAD /sschet/bert-base-uncased_clinical-ner/resolve/main/config.json HTTP/1.1\" 200 0\n",
      "DEBUG:urllib3.connectionpool:https://huggingface.co:443 \"HEAD /sschet/bert-base-uncased_clinical-ner/resolve/main/vocab.txt HTTP/1.1\" 200 0\n"
     ]
    },
    {
     "name": "stdout",
     "output_type": "stream",
     "text": [
      "22 368 619 14\n",
      "annotated_num: 36\n",
      "[['MS', 'problem'], ['MS', 'B-RRMS']]\n",
      "[['MS', 'problem'], ['MS', 'B-RRMS']]\n",
      "[['MS', 'problem'], ['MS', 'B-RRMS']]\n",
      "[['of', 'problem'], ['of', 'I-RRMS']]\n",
      "[['ON', 'problem'], ['ON', 'I-RRMS']]\n",
      "[['attacks', 'problem'], ['attacks', 'I-RRMS']]\n",
      "[['left', 'problem'], ['left', 'I-RRMS']]\n",
      "[['sided', 'problem'], ['sided', 'I-RRMS']]\n",
      "[['weakness', 'problem'], ['weakness', 'I-RRMS']]\n",
      "[['many', 'problem'], ['many', 'B-Temporal_history_of_relapse']]\n",
      "[['relapses', 'problem'], ['relapses', 'I-Temporal_history_of_relapse']]\n",
      "[['in', 'problem'], ['in', 'B-Relapse_year']]\n",
      "[['the', 'problem'], ['the', 'I-Relapse_year']]\n",
      "[['past', 'problem'], ['past', 'I-Relapse_year']]\n",
      "[['in', 'problem'], ['in', 'I-Relapse_year']]\n",
      "[['the', 'problem'], ['the', 'I-Relapse_year']]\n",
      "[['MS', 'problem'], ['MS', 'B-RRMS']]\n",
      "[['MS', 'problem'], ['MS', 'B-RRMS']]\n",
      "[['Recent', 'problem'], ['Recent', 'B-RRMS']]\n",
      "[['of', 'problem'], ['of', 'I-RRMS']]\n",
      "[['optic', 'problem'], ['optic', 'I-RRMS']]\n",
      "[['neuritis', 'problem'], ['neuritis', 'I-RRMS']]\n",
      "inscope: 22\n",
      "quantitative_00104 annotator2_quantitative_00104_correct\n",
      "quantitative_00104.txt\n"
     ]
    },
    {
     "name": "stderr",
     "output_type": "stream",
     "text": [
      "DEBUG:urllib3.connectionpool:https://huggingface.co:443 \"HEAD /sschet/bert-base-uncased_clinical-ner/resolve/main/config.json HTTP/1.1\" 200 0\n",
      "DEBUG:urllib3.connectionpool:https://huggingface.co:443 \"HEAD /sschet/bert-base-uncased_clinical-ner/resolve/main/vocab.txt HTTP/1.1\" 200 0\n"
     ]
    },
    {
     "name": "stdout",
     "output_type": "stream",
     "text": [
      "1 52 90 2\n",
      "annotated_num: 3\n",
      "[['EDSS', 'test'], ['EDSS', 'B-EDSS']]\n",
      "inscope: 1\n",
      "quantitative_00105 annotator2_quantitative_00105_correct\n",
      "quantitative_00105.txt\n"
     ]
    },
    {
     "name": "stderr",
     "output_type": "stream",
     "text": [
      "DEBUG:urllib3.connectionpool:https://huggingface.co:443 \"HEAD /sschet/bert-base-uncased_clinical-ner/resolve/main/config.json HTTP/1.1\" 200 0\n",
      "DEBUG:urllib3.connectionpool:https://huggingface.co:443 \"HEAD /sschet/bert-base-uncased_clinical-ner/resolve/main/vocab.txt HTTP/1.1\" 200 0\n"
     ]
    },
    {
     "name": "stdout",
     "output_type": "stream",
     "text": [
      "3 444 653 0\n",
      "annotated_num: 3\n",
      "[['MS', 'test'], ['MS', 'B-MS_no_subtype']]\n",
      "[['Multiple', 'problem'], ['Multiple', 'B-MS_no_subtype']]\n",
      "[['sclerosis', 'problem'], ['sclerosis', 'I-MS_no_subtype']]\n",
      "inscope: 3\n",
      "quantitative_00106 annotator2_quantitative_00106_correct\n",
      "quantitative_00106.txt\n"
     ]
    },
    {
     "name": "stderr",
     "output_type": "stream",
     "text": [
      "DEBUG:urllib3.connectionpool:https://huggingface.co:443 \"HEAD /sschet/bert-base-uncased_clinical-ner/resolve/main/config.json HTTP/1.1\" 200 0\n",
      "DEBUG:urllib3.connectionpool:https://huggingface.co:443 \"HEAD /sschet/bert-base-uncased_clinical-ner/resolve/main/vocab.txt HTTP/1.1\" 200 0\n"
     ]
    },
    {
     "name": "stdout",
     "output_type": "stream",
     "text": [
      "11 398 517 2\n",
      "annotated_num: 15\n",
      "[['MS', 'problem'], ['MS', 'I-SPMS']]\n",
      "[['accrued', 'problem'], ['accrued', 'I-SPMS']]\n",
      "[['disability', 'problem'], ['disability', 'I-SPMS']]\n",
      "[['Multiple', 'problem'], ['Multiple', 'B-SPMS']]\n",
      "[['sclerosis', 'problem'], ['sclerosis', 'I-SPMS']]\n",
      "[['MS', 'problem'], ['MS', 'B-SPMS']]\n",
      "[['Progressive', 'problem'], ['Progressive', 'B-SPMS']]\n",
      "[['MS', 'problem'], ['MS', 'I-SPMS']]\n",
      "[['accrued', 'problem'], ['accrued', 'I-SPMS']]\n",
      "[['disability', 'problem'], ['disability', 'I-SPMS']]\n",
      "[['EDSS', 'test'], ['EDSS', 'B-EDSS']]\n",
      "inscope: 11\n",
      "quantitative_00107 annotator2_quantitative_00107_correct\n",
      "quantitative_00107.txt\n"
     ]
    },
    {
     "name": "stderr",
     "output_type": "stream",
     "text": [
      "DEBUG:urllib3.connectionpool:https://huggingface.co:443 \"HEAD /sschet/bert-base-uncased_clinical-ner/resolve/main/config.json HTTP/1.1\" 200 0\n",
      "DEBUG:urllib3.connectionpool:https://huggingface.co:443 \"HEAD /sschet/bert-base-uncased_clinical-ner/resolve/main/vocab.txt HTTP/1.1\" 200 0\n"
     ]
    },
    {
     "name": "stdout",
     "output_type": "stream",
     "text": [
      "13 635 790 2\n",
      "annotated_num: 16\n",
      "[['Multiple', 'problem'], ['Multiple', 'B-RRMS']]\n",
      "[['sclerosis', 'problem'], ['sclerosis', 'I-RRMS']]\n",
      "[['multiple', 'problem'], ['multiple', 'B-RRMS']]\n",
      "[['sclerosis', 'problem'], ['sclerosis', 'I-RRMS']]\n",
      "[['multiple', 'problem'], ['multiple', 'B-RRMS']]\n",
      "[['sclerosis', 'problem'], ['sclerosis', 'I-RRMS']]\n",
      "[['Multiple', 'problem'], ['Multiple', 'B-RRMS']]\n",
      "[['sclerosis', 'problem'], ['sclerosis', 'I-RRMS']]\n",
      "[['multiple', 'problem'], ['multiple', 'B-RRMS']]\n",
      "[['sclerosis', 'problem'], ['sclerosis', 'I-RRMS']]\n",
      "[['multiple', 'problem'], ['multiple', 'B-RRMS']]\n",
      "[['sclerosis', 'problem'], ['sclerosis', 'I-RRMS']]\n",
      "[['EDSS', 'test'], ['EDSS', 'B-EDSS']]\n",
      "inscope: 13\n",
      "quantitative_00108 annotator2_quantitative_00108_correct\n",
      "quantitative_00108.txt\n"
     ]
    },
    {
     "name": "stderr",
     "output_type": "stream",
     "text": [
      "DEBUG:urllib3.connectionpool:https://huggingface.co:443 \"HEAD /sschet/bert-base-uncased_clinical-ner/resolve/main/config.json HTTP/1.1\" 200 0\n",
      "DEBUG:urllib3.connectionpool:https://huggingface.co:443 \"HEAD /sschet/bert-base-uncased_clinical-ner/resolve/main/vocab.txt HTTP/1.1\" 200 0\n"
     ]
    },
    {
     "name": "stdout",
     "output_type": "stream",
     "text": [
      "5 59 189 2\n",
      "annotated_num: 7\n",
      "[['MS', 'problem'], ['MS', 'B-SPMS']]\n",
      "[['SECONDARY', 'problem'], ['SECONDARY', 'B-SPMS']]\n",
      "[['PROGRESSIVE', 'problem'], ['PROGRESSIVE', 'I-SPMS']]\n",
      "[['MULTIPLE', 'problem'], ['MULTIPLE', 'I-SPMS']]\n",
      "[['SCLEROSIS', 'problem'], ['SCLEROSIS', 'I-SPMS']]\n",
      "inscope: 5\n",
      "quantitative_00109 annotator2_quantitative_00109_correct\n",
      "quantitative_00109.txt\n"
     ]
    },
    {
     "name": "stderr",
     "output_type": "stream",
     "text": [
      "DEBUG:urllib3.connectionpool:https://huggingface.co:443 \"HEAD /sschet/bert-base-uncased_clinical-ner/resolve/main/config.json HTTP/1.1\" 200 0\n",
      "DEBUG:urllib3.connectionpool:https://huggingface.co:443 \"HEAD /sschet/bert-base-uncased_clinical-ner/resolve/main/vocab.txt HTTP/1.1\" 200 0\n"
     ]
    },
    {
     "name": "stdout",
     "output_type": "stream",
     "text": [
      "5 302 704 1\n",
      "annotated_num: 6\n",
      "[['MS', 'problem'], ['MS', 'B-MS_no_subtype']]\n",
      "[['Multiple', 'problem'], ['Multiple', 'B-MS_no_subtype']]\n",
      "[['sclerosis', 'problem'], ['sclerosis', 'I-MS_no_subtype']]\n",
      "[['EDSS', 'test'], ['EDSS', 'B-EDSS']]\n",
      "[['MS', 'problem'], ['MS', 'B-MS_no_subtype']]\n",
      "inscope: 5\n",
      "quantitative_00110 annotator2_quantitative_00110_correct\n",
      "quantitative_00110.txt\n"
     ]
    },
    {
     "name": "stderr",
     "output_type": "stream",
     "text": [
      "DEBUG:urllib3.connectionpool:https://huggingface.co:443 \"HEAD /sschet/bert-base-uncased_clinical-ner/resolve/main/config.json HTTP/1.1\" 200 0\n",
      "DEBUG:urllib3.connectionpool:https://huggingface.co:443 \"HEAD /sschet/bert-base-uncased_clinical-ner/resolve/main/vocab.txt HTTP/1.1\" 200 0\n"
     ]
    },
    {
     "name": "stdout",
     "output_type": "stream",
     "text": [
      "2 69 125 1\n",
      "annotated_num: 4\n",
      "[['MS', 'test'], ['MS', 'B-RRMS']]\n",
      "[['EDSS', 'test'], ['EDSS', 'B-EDSS']]\n",
      "inscope: 2\n",
      "quantitative_00111 annotator2_quantitative_00111_correct\n",
      "quantitative_00111.txt\n"
     ]
    },
    {
     "name": "stderr",
     "output_type": "stream",
     "text": [
      "DEBUG:urllib3.connectionpool:https://huggingface.co:443 \"HEAD /sschet/bert-base-uncased_clinical-ner/resolve/main/config.json HTTP/1.1\" 200 0\n",
      "DEBUG:urllib3.connectionpool:https://huggingface.co:443 \"HEAD /sschet/bert-base-uncased_clinical-ner/resolve/main/vocab.txt HTTP/1.1\" 200 0\n"
     ]
    },
    {
     "name": "stdout",
     "output_type": "stream",
     "text": [
      "9 356 454 10\n",
      "annotated_num: 20\n",
      "[['-', 'test'], ['-', 'I-RRMS']]\n",
      "[['multiple', 'problem'], ['multiple', 'I-RRMS']]\n",
      "[['sclerosis', 'problem'], ['sclerosis', 'I-RRMS']]\n",
      "[['EDSS', 'test'], ['EDSS', 'B-EDSS']]\n",
      "[['-', 'test'], ['-', 'I-RRMS']]\n",
      "[['multiple', 'problem'], ['multiple', 'I-RRMS']]\n",
      "[['sclerosis', 'problem'], ['sclerosis', 'I-RRMS']]\n",
      "[['new', 'problem'], ['new', 'B-RRMS']]\n",
      "[['flare', 'problem'], ['flare', 'I-RRMS']]\n",
      "inscope: 9\n",
      "quantitative_00112 annotator2_quantitative_00112_correct\n",
      "quantitative_00112.txt\n"
     ]
    },
    {
     "name": "stderr",
     "output_type": "stream",
     "text": [
      "DEBUG:urllib3.connectionpool:https://huggingface.co:443 \"HEAD /sschet/bert-base-uncased_clinical-ner/resolve/main/config.json HTTP/1.1\" 200 0\n",
      "DEBUG:urllib3.connectionpool:https://huggingface.co:443 \"HEAD /sschet/bert-base-uncased_clinical-ner/resolve/main/vocab.txt HTTP/1.1\" 200 0\n"
     ]
    },
    {
     "name": "stdout",
     "output_type": "stream",
     "text": [
      "1 42 159 2\n",
      "annotated_num: 3\n",
      "[['EDSS', 'test'], ['EDSS', 'B-EDSS']]\n",
      "inscope: 1\n",
      "quantitative_00113 annotator2_quantitative_00113_correct\n",
      "quantitative_00113.txt\n"
     ]
    },
    {
     "name": "stderr",
     "output_type": "stream",
     "text": [
      "DEBUG:urllib3.connectionpool:https://huggingface.co:443 \"HEAD /sschet/bert-base-uncased_clinical-ner/resolve/main/config.json HTTP/1.1\" 200 0\n",
      "DEBUG:urllib3.connectionpool:https://huggingface.co:443 \"HEAD /sschet/bert-base-uncased_clinical-ner/resolve/main/vocab.txt HTTP/1.1\" 200 0\n"
     ]
    },
    {
     "name": "stdout",
     "output_type": "stream",
     "text": [
      "9 612 698 8\n",
      "annotated_num: 18\n",
      "[['disability', 'problem'], ['disability', 'I-SPMS']]\n",
      "[['Multiple', 'problem'], ['Multiple', 'B-SPMS']]\n",
      "[['sclerosis', 'problem'], ['sclerosis', 'I-SPMS']]\n",
      "[['MS', 'test'], ['MS', 'B-SPMS']]\n",
      "[[',', 'test'], [',', 'I-SPMS']]\n",
      "[['EDSS', 'test'], ['EDSS', 'B-EDSS']]\n",
      "[['progressive', 'problem'], ['progressive', 'I-SPMS']]\n",
      "[['intermittent', 'problem'], ['intermittent', 'I-SPMS']]\n",
      "[['relapses', 'problem'], ['relapses', 'I-SPMS']]\n",
      "inscope: 9\n",
      "quantitative_00114 annotator2_quantitative_00114_correct\n",
      "quantitative_00114.txt\n"
     ]
    },
    {
     "name": "stderr",
     "output_type": "stream",
     "text": [
      "DEBUG:urllib3.connectionpool:https://huggingface.co:443 \"HEAD /sschet/bert-base-uncased_clinical-ner/resolve/main/config.json HTTP/1.1\" 200 0\n",
      "DEBUG:urllib3.connectionpool:https://huggingface.co:443 \"HEAD /sschet/bert-base-uncased_clinical-ner/resolve/main/vocab.txt HTTP/1.1\" 200 0\n"
     ]
    },
    {
     "name": "stdout",
     "output_type": "stream",
     "text": [
      "5 107 174 3\n",
      "annotated_num: 8\n",
      "[['MS', 'problem'], ['MS', 'B-RRMS']]\n",
      "[['MULTIPLE', 'problem'], ['MULTIPLE', 'I-RRMS']]\n",
      "[['SCLEROSIS', 'problem'], ['SCLEROSIS', 'I-RRMS']]\n",
      "[['EDSS', 'test'], ['EDSS', 'B-EDSS']]\n",
      "[['MS', 'problem'], ['MS', 'B-RRMS']]\n",
      "inscope: 5\n",
      "quantitative_00115 annotator2_quantitative_00115_correct\n",
      "quantitative_00115.txt\n"
     ]
    },
    {
     "name": "stderr",
     "output_type": "stream",
     "text": [
      "DEBUG:urllib3.connectionpool:https://huggingface.co:443 \"HEAD /sschet/bert-base-uncased_clinical-ner/resolve/main/config.json HTTP/1.1\" 200 0\n",
      "DEBUG:urllib3.connectionpool:https://huggingface.co:443 \"HEAD /sschet/bert-base-uncased_clinical-ner/resolve/main/vocab.txt HTTP/1.1\" 200 0\n"
     ]
    },
    {
     "name": "stdout",
     "output_type": "stream",
     "text": [
      "9 227 518 4\n",
      "annotated_num: 15\n",
      "[['MS', 'problem'], ['MS', 'B-RRMS']]\n",
      "[['MS', 'problem'], ['MS', 'B-RRMS']]\n",
      "[['MULTIPLE', 'problem'], ['MULTIPLE', 'I-RRMS']]\n",
      "[['1', 'problem'], ['1', 'B-EDSS_Value']]\n",
      "[['MS', 'problem'], ['MS', 'B-RRMS']]\n",
      "[['multiple', 'problem'], ['multiple', 'B-RRMS']]\n",
      "[['sclerosis', 'problem'], ['sclerosis', 'I-RRMS']]\n",
      "[['MULTIPLE', 'problem'], ['MULTIPLE', 'I-RRMS']]\n",
      "[['SCLEROSIS', 'problem'], ['SCLEROSIS', 'I-RRMS']]\n",
      "inscope: 9\n",
      "quantitative_00116 annotator2_quantitative_00116_correct\n",
      "quantitative_00116.txt\n"
     ]
    },
    {
     "name": "stderr",
     "output_type": "stream",
     "text": [
      "DEBUG:urllib3.connectionpool:https://huggingface.co:443 \"HEAD /sschet/bert-base-uncased_clinical-ner/resolve/main/config.json HTTP/1.1\" 200 0\n",
      "DEBUG:urllib3.connectionpool:https://huggingface.co:443 \"HEAD /sschet/bert-base-uncased_clinical-ner/resolve/main/vocab.txt HTTP/1.1\" 200 0\n"
     ]
    },
    {
     "name": "stdout",
     "output_type": "stream",
     "text": [
      "2 254 206 2\n",
      "annotated_num: 4\n",
      "[['MS', 'problem'], ['MS', 'B-RRMS']]\n",
      "[['EDSS', 'test'], ['EDSS', 'B-EDSS']]\n",
      "inscope: 2\n",
      "quantitative_00117 annotator2_quantitative_00117_correct\n",
      "quantitative_00117.txt\n"
     ]
    },
    {
     "name": "stderr",
     "output_type": "stream",
     "text": [
      "DEBUG:urllib3.connectionpool:https://huggingface.co:443 \"HEAD /sschet/bert-base-uncased_clinical-ner/resolve/main/config.json HTTP/1.1\" 200 0\n",
      "DEBUG:urllib3.connectionpool:https://huggingface.co:443 \"HEAD /sschet/bert-base-uncased_clinical-ner/resolve/main/vocab.txt HTTP/1.1\" 200 0\n"
     ]
    },
    {
     "name": "stdout",
     "output_type": "stream",
     "text": [
      "13 352 652 4\n",
      "annotated_num: 17\n",
      "[['Relapsing', 'problem'], ['Relapsing', 'B-RRMS']]\n",
      "[['-', 'test'], ['-', 'I-RRMS']]\n",
      "[['multiple', 'problem'], ['multiple', 'I-RRMS']]\n",
      "[['sclerosis', 'problem'], ['sclerosis', 'I-RRMS']]\n",
      "[['-', 'test'], ['-', 'I-RRMS']]\n",
      "[['relapsing', 'problem'], ['relapsing', 'B-RRMS']]\n",
      "[['multiple', 'problem'], ['multiple', 'I-RRMS']]\n",
      "[['sclerosis', 'problem'], ['sclerosis', 'I-RRMS']]\n",
      "[['EDSS', 'test'], ['EDSS', 'B-EDSS']]\n",
      "[['-', 'test'], ['-', 'I-RRMS']]\n",
      "[['relapsing', 'problem'], ['relapsing', 'B-RRMS']]\n",
      "[['multiple', 'problem'], ['multiple', 'I-RRMS']]\n",
      "[['sclerosis', 'problem'], ['sclerosis', 'I-RRMS']]\n",
      "inscope: 13\n",
      "quantitative_00118 annotator2_quantitative_00118_correct\n",
      "quantitative_00118.txt\n"
     ]
    },
    {
     "name": "stderr",
     "output_type": "stream",
     "text": [
      "DEBUG:urllib3.connectionpool:https://huggingface.co:443 \"HEAD /sschet/bert-base-uncased_clinical-ner/resolve/main/config.json HTTP/1.1\" 200 0\n",
      "DEBUG:urllib3.connectionpool:https://huggingface.co:443 \"HEAD /sschet/bert-base-uncased_clinical-ner/resolve/main/vocab.txt HTTP/1.1\" 200 0\n"
     ]
    },
    {
     "name": "stdout",
     "output_type": "stream",
     "text": [
      "7 452 701 2\n",
      "annotated_num: 9\n",
      "[['Multiple', 'problem'], ['Multiple', 'B-PPMS']]\n",
      "[['sclerosis', 'problem'], ['sclerosis', 'I-PPMS']]\n",
      "[['Primary', 'problem'], ['Primary', 'B-PPMS']]\n",
      "[['Progressive', 'problem'], ['Progressive', 'I-PPMS']]\n",
      "[['Multiple', 'problem'], ['Multiple', 'I-PPMS']]\n",
      "[['Sclerosis', 'problem'], ['Sclerosis', 'I-PPMS']]\n",
      "[['EDSS', 'test'], ['EDSS', 'B-EDSS']]\n",
      "inscope: 7\n",
      "quantitative_00119 annotator2_quantitative_00119_correct\n",
      "quantitative_00119.txt\n"
     ]
    },
    {
     "name": "stderr",
     "output_type": "stream",
     "text": [
      "DEBUG:urllib3.connectionpool:https://huggingface.co:443 \"HEAD /sschet/bert-base-uncased_clinical-ner/resolve/main/config.json HTTP/1.1\" 200 0\n",
      "DEBUG:urllib3.connectionpool:https://huggingface.co:443 \"HEAD /sschet/bert-base-uncased_clinical-ner/resolve/main/vocab.txt HTTP/1.1\" 200 0\n",
      "DEBUG:urllib3.connectionpool:https://huggingface.co:443 \"HEAD /sschet/bert-base-uncased_clinical-ner/resolve/main/config.json HTTP/1.1\" 200 0\n"
     ]
    },
    {
     "name": "stdout",
     "output_type": "stream",
     "text": [
      "4 89 153 6\n",
      "annotated_num: 10\n",
      "[['MS', 'problem'], ['MS', 'B-RRMS']]\n",
      "[['MS', 'problem'], ['MS', 'B-RRMS']]\n",
      "[['MULTIPLE', 'problem'], ['MULTIPLE', 'I-RRMS']]\n",
      "[['SCLEROSIS', 'problem'], ['SCLEROSIS', 'I-RRMS']]\n",
      "inscope: 4\n",
      "quantitative_00120 annotator2_quantitative_00120_correct\n",
      "quantitative_00120.txt\n"
     ]
    },
    {
     "name": "stderr",
     "output_type": "stream",
     "text": [
      "DEBUG:urllib3.connectionpool:https://huggingface.co:443 \"HEAD /sschet/bert-base-uncased_clinical-ner/resolve/main/vocab.txt HTTP/1.1\" 200 0\n"
     ]
    },
    {
     "name": "stdout",
     "output_type": "stream",
     "text": [
      "9 139 210 5\n",
      "annotated_num: 14\n",
      "[['multiple', 'problem'], ['multiple', 'B-RRMS']]\n",
      "[['sclerosis', 'problem'], ['sclerosis', 'I-RRMS']]\n",
      "[['MULTIPLE', 'problem'], ['MULTIPLE', 'B-RRMS']]\n",
      "[['SCLEROSIS', 'problem'], ['SCLEROSIS', 'I-RRMS']]\n",
      "[['MS', 'problem'], ['MS', 'B-RRMS']]\n",
      "[['MS', 'problem'], ['MS', 'B-RRMS']]\n",
      "[['MULTIPLE', 'problem'], ['MULTIPLE', 'I-RRMS']]\n",
      "[['SCLEROSIS', 'problem'], ['SCLEROSIS', 'I-RRMS']]\n",
      "[['MS', 'problem'], ['MS', 'B-RRMS']]\n",
      "inscope: 9\n",
      "quantitative_00121 annotator2_quantitative_00121_correct\n",
      "quantitative_00121.txt\n"
     ]
    },
    {
     "name": "stderr",
     "output_type": "stream",
     "text": [
      "DEBUG:urllib3.connectionpool:https://huggingface.co:443 \"HEAD /sschet/bert-base-uncased_clinical-ner/resolve/main/config.json HTTP/1.1\" 200 0\n",
      "DEBUG:urllib3.connectionpool:https://huggingface.co:443 \"HEAD /sschet/bert-base-uncased_clinical-ner/resolve/main/vocab.txt HTTP/1.1\" 200 0\n"
     ]
    },
    {
     "name": "stdout",
     "output_type": "stream",
     "text": [
      "1 62 147 1\n",
      "annotated_num: 3\n",
      "[['EDSS', 'test'], ['EDSS', 'B-EDSS']]\n",
      "inscope: 1\n",
      "quantitative_00122 annotator2_quantitative_00122_correct\n",
      "quantitative_00122.txt\n"
     ]
    },
    {
     "name": "stderr",
     "output_type": "stream",
     "text": [
      "DEBUG:urllib3.connectionpool:https://huggingface.co:443 \"HEAD /sschet/bert-base-uncased_clinical-ner/resolve/main/config.json HTTP/1.1\" 200 0\n"
     ]
    },
    {
     "name": "stdout",
     "output_type": "stream",
     "text": [
      "5 258 295 1\n",
      "annotated_num: 7\n",
      "[['MS', 'test'], ['MS', 'B-RRMS']]\n",
      "[['flare', 'problem'], ['flare', 'B-RRMS']]\n",
      "[['EDSS', 'test'], ['EDSS', 'B-EDSS']]\n",
      "[['multiple', 'problem'], ['multiple', 'B-RRMS']]\n",
      "[['sclerosis', 'problem'], ['sclerosis', 'I-RRMS']]\n",
      "inscope: 5\n",
      "quantitative_00123 annotator2_quantitative_00123_correct\n",
      "quantitative_00123.txt\n"
     ]
    },
    {
     "name": "stderr",
     "output_type": "stream",
     "text": [
      "DEBUG:urllib3.connectionpool:https://huggingface.co:443 \"HEAD /sschet/bert-base-uncased_clinical-ner/resolve/main/vocab.txt HTTP/1.1\" 200 0\n",
      "DEBUG:urllib3.connectionpool:https://huggingface.co:443 \"HEAD /sschet/bert-base-uncased_clinical-ner/resolve/main/config.json HTTP/1.1\" 200 0\n",
      "DEBUG:urllib3.connectionpool:https://huggingface.co:443 \"HEAD /sschet/bert-base-uncased_clinical-ner/resolve/main/vocab.txt HTTP/1.1\" 200 0\n"
     ]
    },
    {
     "name": "stdout",
     "output_type": "stream",
     "text": [
      "10 678 787 0\n",
      "annotated_num: 11\n",
      "[['Progressive', 'problem'], ['Progressive', 'B-SPMS']]\n",
      "[['MS', 'problem'], ['MS', 'I-SPMS']]\n",
      "[['multiple', 'problem'], ['multiple', 'B-SPMS']]\n",
      "[['sclerosis', 'problem'], ['sclerosis', 'I-SPMS']]\n",
      "[['Multiple', 'problem'], ['Multiple', 'B-SPMS']]\n",
      "[['sclerosis', 'problem'], ['sclerosis', 'I-SPMS']]\n",
      "[['MS', 'problem'], ['MS', 'B-SPMS']]\n",
      "[['Progressive', 'problem'], ['Progressive', 'B-SPMS']]\n",
      "[['MS', 'problem'], ['MS', 'I-SPMS']]\n",
      "[['EDSS', 'test'], ['EDSS', 'B-EDSS']]\n",
      "inscope: 10\n",
      "quantitative_00124 annotator2_quantitative_00124_correct\n",
      "quantitative_00124.txt\n"
     ]
    },
    {
     "name": "stderr",
     "output_type": "stream",
     "text": [
      "DEBUG:urllib3.connectionpool:https://huggingface.co:443 \"HEAD /sschet/bert-base-uncased_clinical-ner/resolve/main/config.json HTTP/1.1\" 200 0\n"
     ]
    },
    {
     "name": "stdout",
     "output_type": "stream",
     "text": [
      "3 49 139 2\n",
      "annotated_num: 6\n",
      "[['MS', 'test'], ['MS', 'B-RRMS']]\n",
      "[['Flare', 'problem'], ['Flare', 'B-RRMS']]\n",
      "[['EDSS', 'test'], ['EDSS', 'B-EDSS']]\n",
      "inscope: 3\n",
      "quantitative_00125 annotator2_quantitative_00125_correct\n",
      "quantitative_00125.txt\n"
     ]
    },
    {
     "name": "stderr",
     "output_type": "stream",
     "text": [
      "DEBUG:urllib3.connectionpool:https://huggingface.co:443 \"HEAD /sschet/bert-base-uncased_clinical-ner/resolve/main/vocab.txt HTTP/1.1\" 200 0\n",
      "DEBUG:urllib3.connectionpool:https://huggingface.co:443 \"HEAD /sschet/bert-base-uncased_clinical-ner/resolve/main/config.json HTTP/1.1\" 200 0\n",
      "DEBUG:urllib3.connectionpool:https://huggingface.co:443 \"HEAD /sschet/bert-base-uncased_clinical-ner/resolve/main/vocab.txt HTTP/1.1\" 200 0\n"
     ]
    },
    {
     "name": "stdout",
     "output_type": "stream",
     "text": [
      "1 58 108 1\n",
      "annotated_num: 3\n",
      "[['EDSS', 'test'], ['EDSS', 'B-EDSS']]\n",
      "inscope: 1\n",
      "quantitative_00126 annotator2_quantitative_00126_correct\n",
      "quantitative_00126.txt\n"
     ]
    },
    {
     "name": "stderr",
     "output_type": "stream",
     "text": [
      "DEBUG:urllib3.connectionpool:https://huggingface.co:443 \"HEAD /sschet/bert-base-uncased_clinical-ner/resolve/main/config.json HTTP/1.1\" 200 0\n",
      "DEBUG:urllib3.connectionpool:https://huggingface.co:443 \"HEAD /sschet/bert-base-uncased_clinical-ner/resolve/main/vocab.txt HTTP/1.1\" 200 0\n"
     ]
    },
    {
     "name": "stdout",
     "output_type": "stream",
     "text": [
      "6 467 630 2\n",
      "annotated_num: 9\n",
      "[['MS', 'problem'], ['MS', 'B-RRMS']]\n",
      "[['MS', 'problem'], ['MS', 'B-RRMS']]\n",
      "[['MS', 'problem'], ['MS', 'B-RRMS']]\n",
      "[['EDSS', 'test'], ['EDSS', 'B-EDSS']]\n",
      "[['Multiple', 'problem'], ['Multiple', 'B-RRMS']]\n",
      "[['sclerosis', 'problem'], ['sclerosis', 'I-RRMS']]\n",
      "inscope: 6\n",
      "quantitative_00127 annotator2_quantitative_00127_correct\n",
      "quantitative_00127.txt\n"
     ]
    },
    {
     "name": "stderr",
     "output_type": "stream",
     "text": [
      "DEBUG:urllib3.connectionpool:https://huggingface.co:443 \"HEAD /sschet/bert-base-uncased_clinical-ner/resolve/main/config.json HTTP/1.1\" 200 0\n",
      "DEBUG:urllib3.connectionpool:https://huggingface.co:443 \"HEAD /sschet/bert-base-uncased_clinical-ner/resolve/main/vocab.txt HTTP/1.1\" 200 0\n"
     ]
    },
    {
     "name": "stdout",
     "output_type": "stream",
     "text": [
      "10 54 199 2\n",
      "annotated_num: 13\n",
      "[['secondary', 'problem'], ['secondary', 'B-SPMS']]\n",
      "[['progressive', 'problem'], ['progressive', 'I-SPMS']]\n",
      "[['MS', 'problem'], ['MS', 'I-SPMS']]\n",
      "[['MS', 'problem'], ['MS', 'B-SPMS']]\n",
      "[['EDSS', 'test'], ['EDSS', 'B-EDSS']]\n",
      "[['progressive', 'problem'], ['progressive', 'B-SPMS']]\n",
      "[['form', 'problem'], ['form', 'I-SPMS']]\n",
      "[['MS', 'problem'], ['MS', 'I-SPMS']]\n",
      "[['worsening', 'problem'], ['worsening', 'I-SPMS']]\n",
      "[['falling', 'problem'], ['falling', 'I-SPMS']]\n",
      "inscope: 10\n",
      "quantitative_00128 annotator2_quantitative_00128_correct\n",
      "quantitative_00128.txt\n"
     ]
    },
    {
     "name": "stderr",
     "output_type": "stream",
     "text": [
      "DEBUG:urllib3.connectionpool:https://huggingface.co:443 \"HEAD /sschet/bert-base-uncased_clinical-ner/resolve/main/config.json HTTP/1.1\" 200 0\n",
      "DEBUG:urllib3.connectionpool:https://huggingface.co:443 \"HEAD /sschet/bert-base-uncased_clinical-ner/resolve/main/vocab.txt HTTP/1.1\" 200 0\n"
     ]
    },
    {
     "name": "stdout",
     "output_type": "stream",
     "text": [
      "6 114 181 6\n",
      "annotated_num: 13\n",
      "[['MULTIPLE', 'problem'], ['MULTIPLE', 'B-RRMS']]\n",
      "[['SCLEROSIS', 'problem'], ['SCLEROSIS', 'I-RRMS']]\n",
      "[['MS', 'problem'], ['MS', 'B-RRMS']]\n",
      "[['MULTIPLE', 'problem'], ['MULTIPLE', 'I-RRMS']]\n",
      "[['SCLEROSIS', 'problem'], ['SCLEROSIS', 'I-RRMS']]\n",
      "[['MS', 'problem'], ['MS', 'B-RRMS']]\n",
      "inscope: 6\n",
      "quantitative_00129 annotator2_quantitative_00129_correct\n",
      "quantitative_00129.txt\n"
     ]
    },
    {
     "name": "stderr",
     "output_type": "stream",
     "text": [
      "DEBUG:urllib3.connectionpool:https://huggingface.co:443 \"HEAD /sschet/bert-base-uncased_clinical-ner/resolve/main/config.json HTTP/1.1\" 200 0\n",
      "DEBUG:urllib3.connectionpool:https://huggingface.co:443 \"HEAD /sschet/bert-base-uncased_clinical-ner/resolve/main/vocab.txt HTTP/1.1\" 200 0\n"
     ]
    },
    {
     "name": "stdout",
     "output_type": "stream",
     "text": [
      "6 500 710 2\n",
      "annotated_num: 9\n",
      "[['Multiple', 'problem'], ['Multiple', 'B-RRMS']]\n",
      "[['sclerosis', 'problem'], ['sclerosis', 'I-RRMS']]\n",
      "[['Multiple', 'problem'], ['Multiple', 'B-RRMS']]\n",
      "[['sclerosis', 'problem'], ['sclerosis', 'I-RRMS']]\n",
      "[['MS', 'problem'], ['MS', 'B-RRMS']]\n",
      "[['EDSS', 'test'], ['EDSS', 'B-EDSS']]\n",
      "inscope: 6\n",
      "quantitative_00130 annotator2_quantitative_00130_correct\n",
      "quantitative_00130.txt\n"
     ]
    },
    {
     "name": "stderr",
     "output_type": "stream",
     "text": [
      "DEBUG:urllib3.connectionpool:https://huggingface.co:443 \"HEAD /sschet/bert-base-uncased_clinical-ner/resolve/main/config.json HTTP/1.1\" 200 0\n",
      "DEBUG:urllib3.connectionpool:https://huggingface.co:443 \"HEAD /sschet/bert-base-uncased_clinical-ner/resolve/main/vocab.txt HTTP/1.1\" 200 0\n"
     ]
    },
    {
     "name": "stdout",
     "output_type": "stream",
     "text": [
      "7 762 778 5\n",
      "annotated_num: 13\n",
      "[['MS', 'problem'], ['MS', 'B-RRMS']]\n",
      "[['Multiple', 'problem'], ['Multiple', 'B-RRMS']]\n",
      "[['sclerosis', 'problem'], ['sclerosis', 'I-RRMS']]\n",
      "[['Multiple', 'problem'], ['Multiple', 'B-RRMS']]\n",
      "[['sclerosis', 'problem'], ['sclerosis', 'I-RRMS']]\n",
      "[['MS', 'problem'], ['MS', 'B-RRMS']]\n",
      "[['relapse', 'problem'], ['relapse', 'I-Temporal_history_of_relapse']]\n",
      "inscope: 7\n",
      "quantitative_00131 annotator2_quantitative_00131_correct\n",
      "quantitative_00131.txt\n"
     ]
    },
    {
     "name": "stderr",
     "output_type": "stream",
     "text": [
      "DEBUG:urllib3.connectionpool:https://huggingface.co:443 \"HEAD /sschet/bert-base-uncased_clinical-ner/resolve/main/config.json HTTP/1.1\" 200 0\n",
      "DEBUG:urllib3.connectionpool:https://huggingface.co:443 \"HEAD /sschet/bert-base-uncased_clinical-ner/resolve/main/vocab.txt HTTP/1.1\" 200 0\n",
      "DEBUG:urllib3.connectionpool:https://huggingface.co:443 \"HEAD /sschet/bert-base-uncased_clinical-ner/resolve/main/config.json HTTP/1.1\" 200 0\n"
     ]
    },
    {
     "name": "stdout",
     "output_type": "stream",
     "text": [
      "10 751 795 2\n",
      "annotated_num: 13\n",
      "[['multiple', 'problem'], ['multiple', 'B-RRMS']]\n",
      "[['sclerosis', 'problem'], ['sclerosis', 'I-RRMS']]\n",
      "[['Multiple', 'problem'], ['Multiple', 'B-RRMS']]\n",
      "[['sclerosis', 'problem'], ['sclerosis', 'I-RRMS']]\n",
      "[['multiple', 'problem'], ['multiple', 'B-RRMS']]\n",
      "[['sclerosis', 'problem'], ['sclerosis', 'I-RRMS']]\n",
      "[['Multiple', 'problem'], ['Multiple', 'B-RRMS']]\n",
      "[['sclerosis', 'problem'], ['sclerosis', 'I-RRMS']]\n",
      "[['MS', 'test'], ['MS', 'B-RRMS']]\n",
      "[['EDSS', 'test'], ['EDSS', 'B-EDSS']]\n",
      "inscope: 10\n",
      "quantitative_00132 annotator2_quantitative_00132_correct\n",
      "quantitative_00132.txt\n"
     ]
    },
    {
     "name": "stderr",
     "output_type": "stream",
     "text": [
      "DEBUG:urllib3.connectionpool:https://huggingface.co:443 \"HEAD /sschet/bert-base-uncased_clinical-ner/resolve/main/vocab.txt HTTP/1.1\" 200 0\n",
      "DEBUG:urllib3.connectionpool:https://huggingface.co:443 \"HEAD /sschet/bert-base-uncased_clinical-ner/resolve/main/config.json HTTP/1.1\" 200 0\n"
     ]
    },
    {
     "name": "stdout",
     "output_type": "stream",
     "text": [
      "2 37 153 2\n",
      "annotated_num: 4\n",
      "[['MS', 'test'], ['MS', 'B-RRMS']]\n",
      "[['EDSS', 'test'], ['EDSS', 'B-EDSS']]\n",
      "inscope: 2\n",
      "quantitative_00133 annotator2_quantitative_00133_correct\n",
      "quantitative_00133.txt\n"
     ]
    },
    {
     "name": "stderr",
     "output_type": "stream",
     "text": [
      "DEBUG:urllib3.connectionpool:https://huggingface.co:443 \"HEAD /sschet/bert-base-uncased_clinical-ner/resolve/main/vocab.txt HTTP/1.1\" 200 0\n"
     ]
    },
    {
     "name": "stdout",
     "output_type": "stream",
     "text": [
      "2 59 93 1\n",
      "annotated_num: 4\n",
      "[['MS', 'problem'], ['MS', 'B-RRMS']]\n",
      "[['EDSS', 'test'], ['EDSS', 'B-EDSS']]\n",
      "inscope: 2\n",
      "quantitative_00134 annotator2_quantitative_00134_correct\n",
      "quantitative_00134.txt\n"
     ]
    },
    {
     "name": "stderr",
     "output_type": "stream",
     "text": [
      "DEBUG:urllib3.connectionpool:https://huggingface.co:443 \"HEAD /sschet/bert-base-uncased_clinical-ner/resolve/main/config.json HTTP/1.1\" 200 0\n",
      "DEBUG:urllib3.connectionpool:https://huggingface.co:443 \"HEAD /sschet/bert-base-uncased_clinical-ner/resolve/main/vocab.txt HTTP/1.1\" 200 0\n",
      "DEBUG:urllib3.connectionpool:https://huggingface.co:443 \"HEAD /sschet/bert-base-uncased_clinical-ner/resolve/main/config.json HTTP/1.1\" 200 0\n"
     ]
    },
    {
     "name": "stdout",
     "output_type": "stream",
     "text": [
      "1 67 99 1\n",
      "annotated_num: 3\n",
      "[['EDSS', 'test'], ['EDSS', 'B-EDSS']]\n",
      "inscope: 1\n",
      "quantitative_00135 annotator2_quantitative_00135_correct\n",
      "quantitative_00135.txt\n"
     ]
    },
    {
     "name": "stderr",
     "output_type": "stream",
     "text": [
      "DEBUG:urllib3.connectionpool:https://huggingface.co:443 \"HEAD /sschet/bert-base-uncased_clinical-ner/resolve/main/vocab.txt HTTP/1.1\" 200 0\n"
     ]
    },
    {
     "name": "stdout",
     "output_type": "stream",
     "text": [
      "2 48 141 1\n",
      "annotated_num: 4\n",
      "[['MS', 'problem'], ['MS', 'B-RRMS']]\n",
      "[['EDSS', 'test'], ['EDSS', 'B-EDSS']]\n",
      "inscope: 2\n",
      "quantitative_00136 annotator2_quantitative_00136_correct\n",
      "quantitative_00136.txt\n"
     ]
    },
    {
     "name": "stderr",
     "output_type": "stream",
     "text": [
      "DEBUG:urllib3.connectionpool:https://huggingface.co:443 \"HEAD /sschet/bert-base-uncased_clinical-ner/resolve/main/config.json HTTP/1.1\" 200 0\n",
      "DEBUG:urllib3.connectionpool:https://huggingface.co:443 \"HEAD /sschet/bert-base-uncased_clinical-ner/resolve/main/vocab.txt HTTP/1.1\" 200 0\n"
     ]
    },
    {
     "name": "stdout",
     "output_type": "stream",
     "text": [
      "4 75 128 3\n",
      "annotated_num: 7\n",
      "[['MS', 'problem'], ['MS', 'B-RRMS']]\n",
      "[['with', 'problem'], ['with', 'I-RRMS']]\n",
      "[['disability', 'problem'], ['disability', 'I-RRMS']]\n",
      "[['EDSS', 'test'], ['EDSS', 'B-EDSS']]\n",
      "inscope: 4\n",
      "quantitative_00137 annotator2_quantitative_00137_correct\n",
      "quantitative_00137.txt\n"
     ]
    },
    {
     "name": "stderr",
     "output_type": "stream",
     "text": [
      "DEBUG:urllib3.connectionpool:https://huggingface.co:443 \"HEAD /sschet/bert-base-uncased_clinical-ner/resolve/main/config.json HTTP/1.1\" 200 0\n",
      "DEBUG:urllib3.connectionpool:https://huggingface.co:443 \"HEAD /sschet/bert-base-uncased_clinical-ner/resolve/main/vocab.txt HTTP/1.1\" 200 0\n"
     ]
    },
    {
     "name": "stdout",
     "output_type": "stream",
     "text": [
      "11 596 777 9\n",
      "annotated_num: 22\n",
      "[['multiple', 'problem'], ['multiple', 'I-RRMS']]\n",
      "[['sclerosis', 'problem'], ['sclerosis', 'I-RRMS']]\n",
      "[['clinical', 'problem'], ['clinical', 'B-Temporal_history_of_relapse']]\n",
      "[['exacerbation', 'problem'], ['exacerbation', 'I-Temporal_history_of_relapse']]\n",
      "[['multiple', 'problem'], ['multiple', 'B-RRMS']]\n",
      "[['sclerosis', 'problem'], ['sclerosis', 'I-RRMS']]\n",
      "[['EDSS', 'test'], ['EDSS', 'B-EDSS']]\n",
      "[['multiple', 'problem'], ['multiple', 'I-RRMS']]\n",
      "[['sclerosis', 'problem'], ['sclerosis', 'I-RRMS']]\n",
      "[['relapse', 'problem'], ['relapse', 'B-Temporal_history_of_relapse']]\n",
      "[['MS', 'problem'], ['MS', 'B-RRMS']]\n",
      "inscope: 11\n",
      "quantitative_00138 annotator2_quantitative_00138_correct\n",
      "quantitative_00138.txt\n"
     ]
    },
    {
     "name": "stderr",
     "output_type": "stream",
     "text": [
      "DEBUG:urllib3.connectionpool:https://huggingface.co:443 \"HEAD /sschet/bert-base-uncased_clinical-ner/resolve/main/config.json HTTP/1.1\" 200 0\n"
     ]
    },
    {
     "name": "stdout",
     "output_type": "stream",
     "text": [
      "5 366 473 3\n",
      "annotated_num: 8\n",
      "[['MS', 'problem'], ['MS', 'B-MS_no_subtype']]\n",
      "[['flare', 'problem'], ['flare', 'B-Temporal_history_of_relapse']]\n",
      "[['ups', 'problem'], ['ups', 'I-Temporal_history_of_relapse']]\n",
      "[['MS', 'problem'], ['MS', 'B-MS_no_subtype']]\n",
      "[['MS', 'problem'], ['MS', 'B-MS_no_subtype']]\n",
      "inscope: 5\n",
      "quantitative_00139 annotator2_quantitative_00139_correct\n",
      "quantitative_00139.txt\n"
     ]
    },
    {
     "name": "stderr",
     "output_type": "stream",
     "text": [
      "DEBUG:urllib3.connectionpool:https://huggingface.co:443 \"HEAD /sschet/bert-base-uncased_clinical-ner/resolve/main/vocab.txt HTTP/1.1\" 200 0\n",
      "DEBUG:urllib3.connectionpool:https://huggingface.co:443 \"HEAD /sschet/bert-base-uncased_clinical-ner/resolve/main/config.json HTTP/1.1\" 200 0\n",
      "DEBUG:urllib3.connectionpool:https://huggingface.co:443 \"HEAD /sschet/bert-base-uncased_clinical-ner/resolve/main/vocab.txt HTTP/1.1\" 200 0\n"
     ]
    },
    {
     "name": "stdout",
     "output_type": "stream",
     "text": [
      "5 88 163 3\n",
      "annotated_num: 9\n",
      "[['MS', 'problem'], ['MS', 'B-RRMS']]\n",
      "[['MS', 'problem'], ['MS', 'B-RRMS']]\n",
      "[['last', 'test'], ['last', 'B-Temporal_history_of_relapse']]\n",
      "[['relapse', 'test'], ['relapse', 'I-Temporal_history_of_relapse']]\n",
      "[['EDSS', 'test'], ['EDSS', 'B-EDSS']]\n",
      "inscope: 5\n",
      "quantitative_00140 annotator2_quantitative_00140_correct\n",
      "quantitative_00140.txt\n"
     ]
    },
    {
     "name": "stderr",
     "output_type": "stream",
     "text": [
      "DEBUG:urllib3.connectionpool:https://huggingface.co:443 \"HEAD /sschet/bert-base-uncased_clinical-ner/resolve/main/config.json HTTP/1.1\" 200 0\n",
      "DEBUG:urllib3.connectionpool:https://huggingface.co:443 \"HEAD /sschet/bert-base-uncased_clinical-ner/resolve/main/vocab.txt HTTP/1.1\" 200 0\n"
     ]
    },
    {
     "name": "stdout",
     "output_type": "stream",
     "text": [
      "9 786 775 4\n",
      "annotated_num: 14\n",
      "[['Relapse', 'problem'], ['Relapse', 'I-Temporal_history_of_relapse']]\n",
      "[['multiple', 'problem'], ['multiple', 'B-RRMS']]\n",
      "[['sclerosis', 'problem'], ['sclerosis', 'I-RRMS']]\n",
      "[['Multiple', 'problem'], ['Multiple', 'B-RRMS']]\n",
      "[['sclerosis', 'problem'], ['sclerosis', 'I-RRMS']]\n",
      "[['MS', 'problem'], ['MS', 'B-RRMS']]\n",
      "[['EDSS', 'test'], ['EDSS', 'B-EDSS']]\n",
      "[['multiple', 'problem'], ['multiple', 'B-RRMS']]\n",
      "[['sclerosis', 'problem'], ['sclerosis', 'I-RRMS']]\n",
      "inscope: 9\n",
      "quantitative_00141 annotator2_quantitative_00141_correct\n",
      "quantitative_00141.txt\n"
     ]
    },
    {
     "name": "stderr",
     "output_type": "stream",
     "text": [
      "DEBUG:urllib3.connectionpool:https://huggingface.co:443 \"HEAD /sschet/bert-base-uncased_clinical-ner/resolve/main/config.json HTTP/1.1\" 200 0\n",
      "DEBUG:urllib3.connectionpool:https://huggingface.co:443 \"HEAD /sschet/bert-base-uncased_clinical-ner/resolve/main/vocab.txt HTTP/1.1\" 200 0\n"
     ]
    },
    {
     "name": "stdout",
     "output_type": "stream",
     "text": [
      "16 332 575 14\n",
      "annotated_num: 30\n",
      "[['-', 'test'], ['-', 'I-RRMS']]\n",
      "[['multiple', 'problem'], ['multiple', 'I-RRMS']]\n",
      "[['sclerosis', 'problem'], ['sclerosis', 'I-RRMS']]\n",
      "[['multiple', 'problem'], ['multiple', 'I-RRMS']]\n",
      "[['sclerosis', 'problem'], ['sclerosis', 'I-RRMS']]\n",
      "[['Scale', 'test'], ['Scale', 'I-EDSS']]\n",
      "[['EDSS', 'test'], ['EDSS', 'B-EDSS']]\n",
      "[['multiple', 'problem'], ['multiple', 'B-RRMS']]\n",
      "[['sclerosis', 'problem'], ['sclerosis', 'I-RRMS']]\n",
      "[['multiple', 'problem'], ['multiple', 'B-RRMS']]\n",
      "[['sclerosis', 'problem'], ['sclerosis', 'I-RRMS']]\n",
      "[['-', 'test'], ['-', 'I-RRMS']]\n",
      "[['multiple', 'problem'], ['multiple', 'I-RRMS']]\n",
      "[['sclerosis', 'problem'], ['sclerosis', 'I-RRMS']]\n",
      "[['multiple', 'problem'], ['multiple', 'B-RRMS']]\n",
      "[['sclerosis', 'problem'], ['sclerosis', 'I-RRMS']]\n",
      "inscope: 16\n",
      "quantitative_00142 annotator2_quantitative_00142_correct\n",
      "quantitative_00142.txt\n"
     ]
    },
    {
     "name": "stderr",
     "output_type": "stream",
     "text": [
      "DEBUG:urllib3.connectionpool:https://huggingface.co:443 \"HEAD /sschet/bert-base-uncased_clinical-ner/resolve/main/config.json HTTP/1.1\" 200 0\n",
      "DEBUG:urllib3.connectionpool:https://huggingface.co:443 \"HEAD /sschet/bert-base-uncased_clinical-ner/resolve/main/vocab.txt HTTP/1.1\" 200 0\n",
      "DEBUG:urllib3.connectionpool:https://huggingface.co:443 \"HEAD /sschet/bert-base-uncased_clinical-ner/resolve/main/config.json HTTP/1.1\" 200 0\n"
     ]
    },
    {
     "name": "stdout",
     "output_type": "stream",
     "text": [
      "7 467 418 5\n",
      "annotated_num: 12\n",
      "[['FOR', 'problem'], ['FOR', 'B-Temporal_history_of_relapse']]\n",
      "[['RELAPSE', 'problem'], ['RELAPSE', 'I-Temporal_history_of_relapse']]\n",
      "[['MS', 'problem'], ['MS', 'B-RRMS']]\n",
      "[['MS', 'problem'], ['MS', 'B-RRMS']]\n",
      "[['FORM', 'problem'], ['FORM', 'I-RRMS']]\n",
      "[['MULTIPLE', 'problem'], ['MULTIPLE', 'I-RRMS']]\n",
      "[['SCLEROSIS', 'problem'], ['SCLEROSIS', 'I-RRMS']]\n",
      "inscope: 7\n",
      "quantitative_00143 annotator2_quantitative_00143_correct\n",
      "quantitative_00143.txt\n"
     ]
    },
    {
     "name": "stderr",
     "output_type": "stream",
     "text": [
      "DEBUG:urllib3.connectionpool:https://huggingface.co:443 \"HEAD /sschet/bert-base-uncased_clinical-ner/resolve/main/vocab.txt HTTP/1.1\" 200 0\n"
     ]
    },
    {
     "name": "stdout",
     "output_type": "stream",
     "text": [
      "6 303 757 4\n",
      "annotated_num: 10\n",
      "[['ms', 'problem'], ['ms', 'B-RRMS']]\n",
      "[['MS', 'problem'], ['MS', 'B-RRMS']]\n",
      "[['MS', 'problem'], ['MS', 'B-RRMS']]\n",
      "[['MULTIPLE', 'problem'], ['MULTIPLE', 'I-RRMS']]\n",
      "[['SCLEROSIS', 'problem'], ['SCLEROSIS', 'I-RRMS']]\n",
      "[['MS', 'problem'], ['MS', 'B-RRMS']]\n",
      "inscope: 6\n",
      "quantitative_00144 annotator2_quantitative_00144_correct\n",
      "quantitative_00144.txt\n"
     ]
    },
    {
     "name": "stderr",
     "output_type": "stream",
     "text": [
      "DEBUG:urllib3.connectionpool:https://huggingface.co:443 \"HEAD /sschet/bert-base-uncased_clinical-ner/resolve/main/config.json HTTP/1.1\" 200 0\n",
      "DEBUG:urllib3.connectionpool:https://huggingface.co:443 \"HEAD /sschet/bert-base-uncased_clinical-ner/resolve/main/vocab.txt HTTP/1.1\" 200 0\n"
     ]
    },
    {
     "name": "stdout",
     "output_type": "stream",
     "text": [
      "10 533 826 3\n",
      "annotated_num: 13\n",
      "[['Progressive', 'problem'], ['Progressive', 'B-SPMS']]\n",
      "[['MS', 'problem'], ['MS', 'I-SPMS']]\n",
      "[['Multiple', 'problem'], ['Multiple', 'B-SPMS']]\n",
      "[['sclerosis', 'problem'], ['sclerosis', 'I-SPMS']]\n",
      "[['MS', 'problem'], ['MS', 'B-SPMS']]\n",
      "[['MS', 'problem'], ['MS', 'B-SPMS']]\n",
      "[['Progressive', 'problem'], ['Progressive', 'B-SPMS']]\n",
      "[['MS', 'problem'], ['MS', 'I-SPMS']]\n",
      "[['accrued', 'problem'], ['accrued', 'I-SPMS']]\n",
      "[['disability', 'problem'], ['disability', 'I-SPMS']]\n",
      "inscope: 10\n",
      "quantitative_00145 annotator2_quantitative_00145_correct\n",
      "quantitative_00145.txt\n"
     ]
    },
    {
     "name": "stderr",
     "output_type": "stream",
     "text": [
      "DEBUG:urllib3.connectionpool:https://huggingface.co:443 \"HEAD /sschet/bert-base-uncased_clinical-ner/resolve/main/config.json HTTP/1.1\" 200 0\n",
      "DEBUG:urllib3.connectionpool:https://huggingface.co:443 \"HEAD /sschet/bert-base-uncased_clinical-ner/resolve/main/vocab.txt HTTP/1.1\" 200 0\n"
     ]
    },
    {
     "name": "stdout",
     "output_type": "stream",
     "text": [
      "18 425 676 1\n",
      "annotated_num: 20\n",
      "[['relapsing', 'problem'], ['relapsing', 'B-RRMS']]\n",
      "[['-', 'problem'], ['-', 'I-RRMS']]\n",
      "[['remitting', 'problem'], ['remitting', 'I-RRMS']]\n",
      "[['MS', 'problem'], ['MS', 'B-RRMS']]\n",
      "[['relapsing', 'problem'], ['relapsing', 'B-RRMS']]\n",
      "[['-', 'problem'], ['-', 'I-RRMS']]\n",
      "[['remitting', 'problem'], ['remitting', 'I-RRMS']]\n",
      "[['MS', 'problem'], ['MS', 'I-RRMS']]\n",
      "[['MS', 'problem'], ['MS', 'B-RRMS']]\n",
      "[['relapsing', 'problem'], ['relapsing', 'B-RRMS']]\n",
      "[['-', 'problem'], ['-', 'I-RRMS']]\n",
      "[['remitting', 'problem'], ['remitting', 'I-RRMS']]\n",
      "[['MS', 'problem'], ['MS', 'I-RRMS']]\n",
      "[['EDSS', 'test'], ['EDSS', 'B-EDSS']]\n",
      "[['-', 'problem'], ['-', 'I-RRMS']]\n",
      "[['relapsing', 'problem'], ['relapsing', 'B-RRMS']]\n",
      "[['remitting', 'problem'], ['remitting', 'I-RRMS']]\n",
      "[['MS', 'problem'], ['MS', 'I-RRMS']]\n",
      "inscope: 18\n",
      "quantitative_00147 annotator2_quantitative_00147_correct\n",
      "quantitative_00147.txt\n"
     ]
    },
    {
     "name": "stderr",
     "output_type": "stream",
     "text": [
      "DEBUG:urllib3.connectionpool:https://huggingface.co:443 \"HEAD /sschet/bert-base-uncased_clinical-ner/resolve/main/config.json HTTP/1.1\" 200 0\n",
      "DEBUG:urllib3.connectionpool:https://huggingface.co:443 \"HEAD /sschet/bert-base-uncased_clinical-ner/resolve/main/vocab.txt HTTP/1.1\" 200 0\n"
     ]
    },
    {
     "name": "stdout",
     "output_type": "stream",
     "text": [
      "15 651 884 1\n",
      "annotated_num: 16\n",
      "[['primary', 'problem'], ['primary', 'B-PPMS']]\n",
      "[['progressive', 'problem'], ['progressive', 'I-PPMS']]\n",
      "[['MS', 'problem'], ['MS', 'I-PPMS']]\n",
      "[['primary', 'problem'], ['primary', 'B-PPMS']]\n",
      "[['progressive', 'problem'], ['progressive', 'I-PPMS']]\n",
      "[['MS', 'problem'], ['MS', 'I-PPMS']]\n",
      "[[',', 'problem'], [',', 'I-PPMS']]\n",
      "[['EDSS', 'test'], ['EDSS', 'B-EDSS']]\n",
      "[['multiple', 'problem'], ['multiple', 'B-PPMS']]\n",
      "[['sclerosis', 'problem'], ['sclerosis', 'I-PPMS']]\n",
      "[['primary', 'problem'], ['primary', 'I-PPMS']]\n",
      "[['progressive', 'problem'], ['progressive', 'I-PPMS']]\n",
      "[['primary', 'problem'], ['primary', 'B-PPMS']]\n",
      "[['progressive', 'problem'], ['progressive', 'I-PPMS']]\n",
      "[['MS', 'problem'], ['MS', 'I-PPMS']]\n",
      "inscope: 15\n",
      "quantitative_00148 annotator2_quantitative_00148_correct\n",
      "quantitative_00148.txt\n"
     ]
    },
    {
     "name": "stderr",
     "output_type": "stream",
     "text": [
      "DEBUG:urllib3.connectionpool:https://huggingface.co:443 \"HEAD /sschet/bert-base-uncased_clinical-ner/resolve/main/config.json HTTP/1.1\" 200 0\n",
      "DEBUG:urllib3.connectionpool:https://huggingface.co:443 \"HEAD /sschet/bert-base-uncased_clinical-ner/resolve/main/vocab.txt HTTP/1.1\" 200 0\n"
     ]
    },
    {
     "name": "stdout",
     "output_type": "stream",
     "text": [
      "6 181 264 3\n",
      "annotated_num: 10\n",
      "[['multiple', 'problem'], ['multiple', 'B-RRMS']]\n",
      "[['sclerosis', 'problem'], ['sclerosis', 'I-RRMS']]\n",
      "[['MS', 'test'], ['MS', 'B-RRMS']]\n",
      "[['MS', 'test'], ['MS', 'B-RRMS']]\n",
      "[['MULTIPLE', 'problem'], ['MULTIPLE', 'I-RRMS']]\n",
      "[['SCLEROSIS', 'problem'], ['SCLEROSIS', 'I-RRMS']]\n",
      "inscope: 6\n",
      "quantitative_00149 annotator2_quantitative_00149_correct\n",
      "quantitative_00149.txt\n"
     ]
    },
    {
     "name": "stderr",
     "output_type": "stream",
     "text": [
      "DEBUG:urllib3.connectionpool:https://huggingface.co:443 \"HEAD /sschet/bert-base-uncased_clinical-ner/resolve/main/config.json HTTP/1.1\" 200 0\n",
      "DEBUG:urllib3.connectionpool:https://huggingface.co:443 \"HEAD /sschet/bert-base-uncased_clinical-ner/resolve/main/vocab.txt HTTP/1.1\" 200 0\n"
     ]
    },
    {
     "name": "stdout",
     "output_type": "stream",
     "text": [
      "5 289 489 0\n",
      "annotated_num: 6\n",
      "[['multiple', 'problem'], ['multiple', 'B-MS_no_subtype']]\n",
      "[['sclerosis', 'problem'], ['sclerosis', 'I-MS_no_subtype']]\n",
      "[['EDSS', 'test'], ['EDSS', 'B-EDSS']]\n",
      "[['Multiple', 'problem'], ['Multiple', 'B-MS_no_subtype']]\n",
      "[['sclerosis', 'problem'], ['sclerosis', 'I-MS_no_subtype']]\n",
      "inscope: 5\n",
      "quantitative_00150 annotator2_quantitative_00150_correct\n",
      "quantitative_00150.txt\n"
     ]
    },
    {
     "name": "stderr",
     "output_type": "stream",
     "text": [
      "DEBUG:urllib3.connectionpool:https://huggingface.co:443 \"HEAD /sschet/bert-base-uncased_clinical-ner/resolve/main/config.json HTTP/1.1\" 200 0\n",
      "DEBUG:urllib3.connectionpool:https://huggingface.co:443 \"HEAD /sschet/bert-base-uncased_clinical-ner/resolve/main/vocab.txt HTTP/1.1\" 200 0\n"
     ]
    },
    {
     "name": "stdout",
     "output_type": "stream",
     "text": [
      "11 219 378 11\n",
      "annotated_num: 25\n",
      "[['relapsing', 'problem'], ['relapsing', 'B-RRMS']]\n",
      "[['remitting', 'problem'], ['remitting', 'I-RRMS']]\n",
      "[['MS', 'problem'], ['MS', 'I-RRMS']]\n",
      "[['flare', 'problem'], ['flare', 'B-RRMS']]\n",
      "[['the', 'problem'], ['the', 'I-Relapse_relative_date']]\n",
      "[['EDSS', 'test'], ['EDSS', 'B-EDSS']]\n",
      "[['relapsing', 'problem'], ['relapsing', 'B-RRMS']]\n",
      "[['MS', 'problem'], ['MS', 'I-RRMS']]\n",
      "[['flares', 'problem'], ['flares', 'I-RRMS']]\n",
      "[['with', 'test'], ['with', 'I-RRMS']]\n",
      "[['severe', 'problem'], ['severe', 'B-Severity_Severe']]\n",
      "inscope: 11\n",
      "quantitative_00151 annotator2_quantitative_00151_correct\n",
      "quantitative_00151.txt\n"
     ]
    },
    {
     "name": "stderr",
     "output_type": "stream",
     "text": [
      "DEBUG:urllib3.connectionpool:https://huggingface.co:443 \"HEAD /sschet/bert-base-uncased_clinical-ner/resolve/main/config.json HTTP/1.1\" 200 0\n"
     ]
    },
    {
     "name": "stdout",
     "output_type": "stream",
     "text": [
      "5 271 505 1\n",
      "annotated_num: 6\n",
      "[['multiple', 'problem'], ['multiple', 'B-MS_no_subtype']]\n",
      "[['sclerosis', 'problem'], ['sclerosis', 'I-MS_no_subtype']]\n",
      "[['Multiple', 'problem'], ['Multiple', 'B-MS_no_subtype']]\n",
      "[['sclerosis', 'problem'], ['sclerosis', 'I-MS_no_subtype']]\n",
      "[['EDSS', 'test'], ['EDSS', 'B-EDSS']]\n",
      "inscope: 5\n",
      "quantitative_00152 annotator2_quantitative_00152_correct\n",
      "quantitative_00152.txt\n"
     ]
    },
    {
     "name": "stderr",
     "output_type": "stream",
     "text": [
      "DEBUG:urllib3.connectionpool:https://huggingface.co:443 \"HEAD /sschet/bert-base-uncased_clinical-ner/resolve/main/vocab.txt HTTP/1.1\" 200 0\n",
      "DEBUG:urllib3.connectionpool:https://huggingface.co:443 \"HEAD /sschet/bert-base-uncased_clinical-ner/resolve/main/config.json HTTP/1.1\" 200 0\n",
      "DEBUG:urllib3.connectionpool:https://huggingface.co:443 \"HEAD /sschet/bert-base-uncased_clinical-ner/resolve/main/vocab.txt HTTP/1.1\" 200 0\n",
      "DEBUG:urllib3.connectionpool:https://huggingface.co:443 \"HEAD /sschet/bert-base-uncased_clinical-ner/resolve/main/config.json HTTP/1.1\" 200 0\n"
     ]
    },
    {
     "name": "stdout",
     "output_type": "stream",
     "text": [
      "12 358 642 8\n",
      "annotated_num: 24\n",
      "[['remitting', 'problem'], ['remitting', 'I-RRMS']]\n",
      "[['multiple', 'problem'], ['multiple', 'I-RRMS']]\n",
      "[['sclerosis', 'problem'], ['sclerosis', 'I-RRMS']]\n",
      "[['remitting', 'problem'], ['remitting', 'I-RRMS']]\n",
      "[['multiple', 'problem'], ['multiple', 'B-RRMS']]\n",
      "[['sclerosis', 'problem'], ['sclerosis', 'I-RRMS']]\n",
      "[['a', 'problem'], ['a', 'I-RRMS']]\n",
      "[['relapse', 'problem'], ['relapse', 'I-RRMS']]\n",
      "[['MS', 'problem'], ['MS', 'B-RRMS']]\n",
      "[['relapse', 'problem'], ['relapse', 'I-RRMS']]\n",
      "[['EDSS', 'test'], ['EDSS', 'B-EDSS']]\n",
      "[['remitting', 'problem'], ['remitting', 'I-RRMS']]\n",
      "inscope: 12\n",
      "quantitative_00153 annotator2_quantitative_00153_correct\n",
      "quantitative_00153.txt\n"
     ]
    },
    {
     "name": "stderr",
     "output_type": "stream",
     "text": [
      "DEBUG:urllib3.connectionpool:https://huggingface.co:443 \"HEAD /sschet/bert-base-uncased_clinical-ner/resolve/main/vocab.txt HTTP/1.1\" 200 0\n"
     ]
    },
    {
     "name": "stdout",
     "output_type": "stream",
     "text": [
      "8 51 127 5\n",
      "annotated_num: 13\n",
      "[['MS', 'problem'], ['MS', 'B-MS_no_subtype']]\n",
      "[['brainstem', 'problem'], ['brainstem', 'B-Temporal_history_of_relapse']]\n",
      "[['exacerbation', 'problem'], ['exacerbation', 'I-Temporal_history_of_relapse']]\n",
      "[['aggressive', 'problem'], ['aggressive', 'B-MS_no_subtype']]\n",
      "[['MS', 'problem'], ['MS', 'I-MS_no_subtype']]\n",
      "[['EDSS', 'test'], ['EDSS', 'B-EDSS']]\n",
      "[['Last', 'problem'], ['Last', 'B-Temporal_history_of_relapse']]\n",
      "[['exacerbation', 'problem'], ['exacerbation', 'I-Temporal_history_of_relapse']]\n",
      "inscope: 8\n",
      "quantitative_00154 annotator2_quantitative_00154_correct\n",
      "quantitative_00154.txt\n"
     ]
    },
    {
     "name": "stderr",
     "output_type": "stream",
     "text": [
      "DEBUG:urllib3.connectionpool:https://huggingface.co:443 \"HEAD /sschet/bert-base-uncased_clinical-ner/resolve/main/config.json HTTP/1.1\" 200 0\n",
      "DEBUG:urllib3.connectionpool:https://huggingface.co:443 \"HEAD /sschet/bert-base-uncased_clinical-ner/resolve/main/vocab.txt HTTP/1.1\" 200 0\n"
     ]
    },
    {
     "name": "stdout",
     "output_type": "stream",
     "text": [
      "7 81 208 1\n",
      "annotated_num: 8\n",
      "[['Multiple', 'problem'], ['Multiple', 'B-SPMS']]\n",
      "[['sclerosis', 'problem'], ['sclerosis', 'I-SPMS']]\n",
      "[[',', 'problem'], [',', 'I-SPMS']]\n",
      "[['secondary', 'problem'], ['secondary', 'I-SPMS']]\n",
      "[['progressive', 'problem'], ['progressive', 'I-SPMS']]\n",
      "[['type', 'problem'], ['type', 'I-SPMS']]\n",
      "[['EDSS', 'test'], ['EDSS', 'B-EDSS']]\n",
      "inscope: 7\n",
      "quantitative_00155 annotator2_quantitative_00155_correct\n",
      "quantitative_00155.txt\n"
     ]
    },
    {
     "name": "stderr",
     "output_type": "stream",
     "text": [
      "DEBUG:urllib3.connectionpool:https://huggingface.co:443 \"HEAD /sschet/bert-base-uncased_clinical-ner/resolve/main/config.json HTTP/1.1\" 200 0\n",
      "DEBUG:urllib3.connectionpool:https://huggingface.co:443 \"HEAD /sschet/bert-base-uncased_clinical-ner/resolve/main/vocab.txt HTTP/1.1\" 200 0\n"
     ]
    },
    {
     "name": "stdout",
     "output_type": "stream",
     "text": [
      "2 377 413 1\n",
      "annotated_num: 4\n",
      "[['MS', 'problem'], ['MS', 'B-RRMS']]\n",
      "[['EDSS', 'test'], ['EDSS', 'B-EDSS']]\n",
      "inscope: 2\n",
      "quantitative_00156 annotator2_quantitative_00156_correct\n",
      "quantitative_00156.txt\n"
     ]
    },
    {
     "name": "stderr",
     "output_type": "stream",
     "text": [
      "DEBUG:urllib3.connectionpool:https://huggingface.co:443 \"HEAD /sschet/bert-base-uncased_clinical-ner/resolve/main/config.json HTTP/1.1\" 200 0\n",
      "DEBUG:urllib3.connectionpool:https://huggingface.co:443 \"HEAD /sschet/bert-base-uncased_clinical-ner/resolve/main/vocab.txt HTTP/1.1\" 200 0\n"
     ]
    },
    {
     "name": "stdout",
     "output_type": "stream",
     "text": [
      "3 161 193 4\n",
      "annotated_num: 7\n",
      "[['MS', 'problem'], ['MS', 'B-RRMS']]\n",
      "[['MULTIPLE', 'problem'], ['MULTIPLE', 'I-RRMS']]\n",
      "[['SCLEROSIS', 'problem'], ['SCLEROSIS', 'I-RRMS']]\n",
      "inscope: 3\n",
      "quantitative_00157 annotator2_quantitative_00157_correct\n",
      "quantitative_00157.txt\n"
     ]
    },
    {
     "name": "stderr",
     "output_type": "stream",
     "text": [
      "DEBUG:urllib3.connectionpool:https://huggingface.co:443 \"HEAD /sschet/bert-base-uncased_clinical-ner/resolve/main/config.json HTTP/1.1\" 200 0\n",
      "DEBUG:urllib3.connectionpool:https://huggingface.co:443 \"HEAD /sschet/bert-base-uncased_clinical-ner/resolve/main/vocab.txt HTTP/1.1\" 200 0\n"
     ]
    },
    {
     "name": "stdout",
     "output_type": "stream",
     "text": [
      "9 262 377 2\n",
      "annotated_num: 13\n",
      "[['MS', 'problem'], ['MS', 'B-RRMS']]\n",
      "[['Multiple', 'problem'], ['Multiple', 'B-RRMS']]\n",
      "[['sclerosis', 'problem'], ['sclerosis', 'I-RRMS']]\n",
      "[['MS', 'problem'], ['MS', 'B-RRMS']]\n",
      "[['multiple', 'problem'], ['multiple', 'I-RRMS']]\n",
      "[['sclerosis', 'problem'], ['sclerosis', 'I-RRMS']]\n",
      "[['multiple', 'problem'], ['multiple', 'B-RRMS']]\n",
      "[['sclerosis', 'problem'], ['sclerosis', 'I-RRMS']]\n",
      "[['RRMS', 'test'], ['RRMS', 'B-RRMS']]\n",
      "inscope: 9\n",
      "quantitative_00158 annotator2_quantitative_00158_correct\n",
      "quantitative_00158.txt\n"
     ]
    },
    {
     "name": "stderr",
     "output_type": "stream",
     "text": [
      "DEBUG:urllib3.connectionpool:https://huggingface.co:443 \"HEAD /sschet/bert-base-uncased_clinical-ner/resolve/main/config.json HTTP/1.1\" 200 0\n",
      "DEBUG:urllib3.connectionpool:https://huggingface.co:443 \"HEAD /sschet/bert-base-uncased_clinical-ner/resolve/main/vocab.txt HTTP/1.1\" 200 0\n"
     ]
    },
    {
     "name": "stdout",
     "output_type": "stream",
     "text": [
      "18 195 234 8\n",
      "annotated_num: 26\n",
      "[['MS', 'problem'], ['MS', 'B-RRMS']]\n",
      "[['(', 'problem'], ['(', 'I-RRMS']]\n",
      "[['multiple', 'problem'], ['multiple', 'I-RRMS']]\n",
      "[['sclerosis', 'problem'], ['sclerosis', 'I-RRMS']]\n",
      "[[')', 'problem'], [')', 'I-RRMS']]\n",
      "[['multiple', 'problem'], ['multiple', 'B-RRMS']]\n",
      "[['sclerosis', 'problem'], ['sclerosis', 'I-RRMS']]\n",
      "[['Multiple', 'problem'], ['Multiple', 'B-RRMS']]\n",
      "[['Sclerosis', 'problem'], ['Sclerosis', 'I-RRMS']]\n",
      "[['SEVERE', 'problem'], ['SEVERE', 'B-Severity_Severe']]\n",
      "[['Flare', 'problem'], ['Flare', 'B-RRMS']]\n",
      "[['up', 'problem'], ['up', 'I-RRMS']]\n",
      "[['MULTIPLE', 'problem'], ['MULTIPLE', 'I-RRMS']]\n",
      "[['SCLEROSIS', 'problem'], ['SCLEROSIS', 'I-RRMS']]\n",
      "[['MS', 'problem'], ['MS', 'B-RRMS']]\n",
      "[['MS', 'problem'], ['MS', 'B-RRMS']]\n",
      "[['MULTIPLE', 'problem'], ['MULTIPLE', 'I-RRMS']]\n",
      "[['SCLEROSIS', 'problem'], ['SCLEROSIS', 'I-RRMS']]\n",
      "inscope: 18\n",
      "quantitative_00159 annotator2_quantitative_00159_correct\n",
      "quantitative_00159.txt\n"
     ]
    },
    {
     "name": "stderr",
     "output_type": "stream",
     "text": [
      "DEBUG:urllib3.connectionpool:https://huggingface.co:443 \"HEAD /sschet/bert-base-uncased_clinical-ner/resolve/main/config.json HTTP/1.1\" 200 0\n",
      "DEBUG:urllib3.connectionpool:https://huggingface.co:443 \"HEAD /sschet/bert-base-uncased_clinical-ner/resolve/main/vocab.txt HTTP/1.1\" 200 0\n"
     ]
    },
    {
     "name": "stdout",
     "output_type": "stream",
     "text": [
      "4 145 228 3\n",
      "annotated_num: 7\n",
      "[['multiple', 'problem'], ['multiple', 'B-RRMS']]\n",
      "[['sclerosis', 'problem'], ['sclerosis', 'I-RRMS']]\n",
      "[['RRMS', 'problem'], ['RRMS', 'B-RRMS']]\n",
      "[['EDSS', 'test'], ['EDSS', 'B-EDSS']]\n",
      "inscope: 4\n",
      "quantitative_00160 annotator2_quantitative_00160_correct\n",
      "quantitative_00160.txt\n"
     ]
    },
    {
     "name": "stderr",
     "output_type": "stream",
     "text": [
      "DEBUG:urllib3.connectionpool:https://huggingface.co:443 \"HEAD /sschet/bert-base-uncased_clinical-ner/resolve/main/config.json HTTP/1.1\" 200 0\n",
      "DEBUG:urllib3.connectionpool:https://huggingface.co:443 \"HEAD /sschet/bert-base-uncased_clinical-ner/resolve/main/vocab.txt HTTP/1.1\" 200 0\n",
      "DEBUG:urllib3.connectionpool:https://huggingface.co:443 \"HEAD /sschet/bert-base-uncased_clinical-ner/resolve/main/config.json HTTP/1.1\" 200 0\n"
     ]
    },
    {
     "name": "stdout",
     "output_type": "stream",
     "text": [
      "2 45 154 5\n",
      "annotated_num: 7\n",
      "[['MULTIPLE', 'problem'], ['MULTIPLE', 'I-RRMS']]\n",
      "[['SCLEROSIS', 'problem'], ['SCLEROSIS', 'I-RRMS']]\n",
      "inscope: 2\n",
      "quantitative_00161 annotator2_quantitative_00161_correct\n",
      "quantitative_00161.txt\n"
     ]
    },
    {
     "name": "stderr",
     "output_type": "stream",
     "text": [
      "DEBUG:urllib3.connectionpool:https://huggingface.co:443 \"HEAD /sschet/bert-base-uncased_clinical-ner/resolve/main/vocab.txt HTTP/1.1\" 200 0\n"
     ]
    },
    {
     "name": "stdout",
     "output_type": "stream",
     "text": [
      "2 112 166 1\n",
      "annotated_num: 4\n",
      "[['MS', 'problem'], ['MS', 'B-MS_no_subtype']]\n",
      "[['MS', 'problem'], ['MS', 'B-MS_no_subtype']]\n",
      "inscope: 2\n",
      "quantitative_00162 annotator2_quantitative_00162_correct\n",
      "quantitative_00162.txt\n"
     ]
    },
    {
     "name": "stderr",
     "output_type": "stream",
     "text": [
      "DEBUG:urllib3.connectionpool:https://huggingface.co:443 \"HEAD /sschet/bert-base-uncased_clinical-ner/resolve/main/config.json HTTP/1.1\" 200 0\n",
      "DEBUG:urllib3.connectionpool:https://huggingface.co:443 \"HEAD /sschet/bert-base-uncased_clinical-ner/resolve/main/vocab.txt HTTP/1.1\" 200 0\n"
     ]
    },
    {
     "name": "stdout",
     "output_type": "stream",
     "text": [
      "2 228 364 3\n",
      "annotated_num: 6\n",
      "[['MS', 'problem'], ['MS', 'B-RRMS']]\n",
      "[['MS', 'problem'], ['MS', 'I-RRMS']]\n",
      "inscope: 2\n",
      "quantitative_00163 annotator2_quantitative_00163_correct\n",
      "quantitative_00163.txt\n"
     ]
    },
    {
     "name": "stderr",
     "output_type": "stream",
     "text": [
      "DEBUG:urllib3.connectionpool:https://huggingface.co:443 \"HEAD /sschet/bert-base-uncased_clinical-ner/resolve/main/config.json HTTP/1.1\" 200 0\n",
      "DEBUG:urllib3.connectionpool:https://huggingface.co:443 \"HEAD /sschet/bert-base-uncased_clinical-ner/resolve/main/vocab.txt HTTP/1.1\" 200 0\n"
     ]
    },
    {
     "name": "stdout",
     "output_type": "stream",
     "text": [
      "7 127 539 1\n",
      "annotated_num: 9\n",
      "[['MS', 'problem'], ['MS', 'B-MS_no_subtype']]\n",
      "[['-', 'test'], ['-', 'I-EDSS_Value']]\n",
      "[['multiple', 'problem'], ['multiple', 'B-MS_no_subtype']]\n",
      "[['sclerosis', 'problem'], ['sclerosis', 'I-MS_no_subtype']]\n",
      "[['EDSS', 'test'], ['EDSS', 'B-EDSS']]\n",
      "[['Multiple', 'problem'], ['Multiple', 'B-MS_no_subtype']]\n",
      "[['Sclerosis', 'problem'], ['Sclerosis', 'I-MS_no_subtype']]\n",
      "inscope: 7\n",
      "quantitative_00164 annotator2_quantitative_00164_correct\n",
      "quantitative_00164.txt\n"
     ]
    },
    {
     "name": "stderr",
     "output_type": "stream",
     "text": [
      "DEBUG:urllib3.connectionpool:https://huggingface.co:443 \"HEAD /sschet/bert-base-uncased_clinical-ner/resolve/main/config.json HTTP/1.1\" 200 0\n",
      "DEBUG:urllib3.connectionpool:https://huggingface.co:443 \"HEAD /sschet/bert-base-uncased_clinical-ner/resolve/main/vocab.txt HTTP/1.1\" 200 0\n"
     ]
    },
    {
     "name": "stdout",
     "output_type": "stream",
     "text": [
      "17 412 767 11\n",
      "annotated_num: 31\n",
      "[['of', 'problem'], ['of', 'I-SPMS']]\n",
      "[['multiple', 'problem'], ['multiple', 'I-SPMS']]\n",
      "[['sclerosis', 'problem'], ['sclerosis', 'I-SPMS']]\n",
      "[[',', 'problem'], [',', 'I-SPMS']]\n",
      "[['in', 'problem'], ['in', 'I-SPMS']]\n",
      "[[',', 'problem'], [',', 'I-SPMS']]\n",
      "[['to', 'problem'], ['to', 'I-SPMS']]\n",
      "[['the', 'test'], ['the', 'I-SPMS']]\n",
      "[['secondary', 'problem'], ['secondary', 'I-SPMS']]\n",
      "[['progressive', 'problem'], ['progressive', 'I-SPMS']]\n",
      "[['EDSS', 'test'], ['EDSS', 'B-EDSS']]\n",
      "[['secondary', 'problem'], ['secondary', 'B-SPMS']]\n",
      "[['progressive', 'problem'], ['progressive', 'I-SPMS']]\n",
      "[['MS', 'problem'], ['MS', 'I-SPMS']]\n",
      "[['EDSS', 'test'], ['EDSS', 'B-EDSS']]\n",
      "[['a', 'problem'], ['a', 'I-EDSS_Value']]\n",
      "[['to', 'problem'], ['to', 'I-EDSS_Value']]\n",
      "inscope: 17\n",
      "quantitative_00165 annotator2_quantitative_00165_correct\n",
      "quantitative_00165.txt\n"
     ]
    },
    {
     "name": "stderr",
     "output_type": "stream",
     "text": [
      "DEBUG:urllib3.connectionpool:https://huggingface.co:443 \"HEAD /sschet/bert-base-uncased_clinical-ner/resolve/main/config.json HTTP/1.1\" 200 0\n",
      "DEBUG:urllib3.connectionpool:https://huggingface.co:443 \"HEAD /sschet/bert-base-uncased_clinical-ner/resolve/main/vocab.txt HTTP/1.1\" 200 0\n"
     ]
    },
    {
     "name": "stdout",
     "output_type": "stream",
     "text": [
      "5 76 165 2\n",
      "annotated_num: 8\n",
      "[['multiple', 'problem'], ['multiple', 'B-MS_no_subtype']]\n",
      "[['sclerosis', 'problem'], ['sclerosis', 'I-MS_no_subtype']]\n",
      "[['relapse', 'problem'], ['relapse', 'B-Temporal_history_of_relapse']]\n",
      "[['EDSS', 'test'], ['EDSS', 'B-EDSS']]\n",
      "[['MS', 'problem'], ['MS', 'B-MS_no_subtype']]\n",
      "inscope: 5\n",
      "quantitative_00166 annotator2_quantitative_00166_correct\n",
      "quantitative_00166.txt\n"
     ]
    },
    {
     "name": "stderr",
     "output_type": "stream",
     "text": [
      "DEBUG:urllib3.connectionpool:https://huggingface.co:443 \"HEAD /sschet/bert-base-uncased_clinical-ner/resolve/main/config.json HTTP/1.1\" 200 0\n",
      "DEBUG:urllib3.connectionpool:https://huggingface.co:443 \"HEAD /sschet/bert-base-uncased_clinical-ner/resolve/main/vocab.txt HTTP/1.1\" 200 0\n"
     ]
    },
    {
     "name": "stdout",
     "output_type": "stream",
     "text": [
      "5 363 804 2\n",
      "annotated_num: 7\n",
      "[['MS', 'test'], ['MS', 'B-RRMS']]\n",
      "[['MS', 'test'], ['MS', 'B-RRMS']]\n",
      "[['Multiple', 'problem'], ['Multiple', 'B-RRMS']]\n",
      "[['sclerosis', 'problem'], ['sclerosis', 'I-RRMS']]\n",
      "[['MS', 'test'], ['MS', 'I-RRMS']]\n",
      "inscope: 5\n",
      "quantitative_00167 annotator2_quantitative_00167_correct\n",
      "quantitative_00167.txt\n"
     ]
    },
    {
     "name": "stderr",
     "output_type": "stream",
     "text": [
      "DEBUG:urllib3.connectionpool:https://huggingface.co:443 \"HEAD /sschet/bert-base-uncased_clinical-ner/resolve/main/config.json HTTP/1.1\" 200 0\n",
      "DEBUG:urllib3.connectionpool:https://huggingface.co:443 \"HEAD /sschet/bert-base-uncased_clinical-ner/resolve/main/vocab.txt HTTP/1.1\" 200 0\n"
     ]
    },
    {
     "name": "stdout",
     "output_type": "stream",
     "text": [
      "9 626 710 4\n",
      "annotated_num: 13\n",
      "[['multiple', 'problem'], ['multiple', 'I-RRMS']]\n",
      "[['sclerosis', 'problem'], ['sclerosis', 'I-RRMS']]\n",
      "[['multiple', 'problem'], ['multiple', 'I-RRMS']]\n",
      "[['sclerosis', 'problem'], ['sclerosis', 'I-RRMS']]\n",
      "[['multiple', 'problem'], ['multiple', 'B-RRMS']]\n",
      "[['sclerosis', 'problem'], ['sclerosis', 'I-RRMS']]\n",
      "[['EDSS', 'test'], ['EDSS', 'B-EDSS']]\n",
      "[['multiple', 'problem'], ['multiple', 'I-RRMS']]\n",
      "[['sclerosis', 'problem'], ['sclerosis', 'I-RRMS']]\n",
      "inscope: 9\n",
      "quantitative_00168 annotator2_quantitative_00168_correct\n",
      "quantitative_00168.txt\n"
     ]
    },
    {
     "name": "stderr",
     "output_type": "stream",
     "text": [
      "DEBUG:urllib3.connectionpool:https://huggingface.co:443 \"HEAD /sschet/bert-base-uncased_clinical-ner/resolve/main/config.json HTTP/1.1\" 200 0\n",
      "DEBUG:urllib3.connectionpool:https://huggingface.co:443 \"HEAD /sschet/bert-base-uncased_clinical-ner/resolve/main/vocab.txt HTTP/1.1\" 200 0\n"
     ]
    },
    {
     "name": "stdout",
     "output_type": "stream",
     "text": [
      "2 36 96 2\n",
      "annotated_num: 4\n",
      "[['MS', 'test'], ['MS', 'B-RRMS']]\n",
      "[['EDSS', 'test'], ['EDSS', 'B-EDSS']]\n",
      "inscope: 2\n",
      "quantitative_00169 annotator2_quantitative_00169_correct\n",
      "quantitative_00169.txt\n"
     ]
    },
    {
     "name": "stderr",
     "output_type": "stream",
     "text": [
      "DEBUG:urllib3.connectionpool:https://huggingface.co:443 \"HEAD /sschet/bert-base-uncased_clinical-ner/resolve/main/config.json HTTP/1.1\" 200 0\n"
     ]
    },
    {
     "name": "stdout",
     "output_type": "stream",
     "text": [
      "3 88 150 0\n",
      "annotated_num: 4\n",
      "[['MS', 'problem'], ['MS', 'B-RRMS']]\n",
      "[['RRMS', 'test'], ['RRMS', 'B-RRMS']]\n",
      "[['EDSS', 'test'], ['EDSS', 'B-EDSS']]\n",
      "inscope: 3\n",
      "quantitative_00170 annotator2_quantitative_00170_correct\n",
      "quantitative_00170.txt\n"
     ]
    },
    {
     "name": "stderr",
     "output_type": "stream",
     "text": [
      "DEBUG:urllib3.connectionpool:https://huggingface.co:443 \"HEAD /sschet/bert-base-uncased_clinical-ner/resolve/main/vocab.txt HTTP/1.1\" 200 0\n",
      "DEBUG:urllib3.connectionpool:https://huggingface.co:443 \"HEAD /sschet/bert-base-uncased_clinical-ner/resolve/main/config.json HTTP/1.1\" 200 0\n",
      "DEBUG:urllib3.connectionpool:https://huggingface.co:443 \"HEAD /sschet/bert-base-uncased_clinical-ner/resolve/main/vocab.txt HTTP/1.1\" 200 0\n"
     ]
    },
    {
     "name": "stdout",
     "output_type": "stream",
     "text": [
      "10 213 540 6\n",
      "annotated_num: 17\n",
      "[['-', 'test'], ['-', 'I-RRMS']]\n",
      "[['multiple', 'problem'], ['multiple', 'I-RRMS']]\n",
      "[['sclerosis', 'problem'], ['sclerosis', 'I-RRMS']]\n",
      "[['-', 'test'], ['-', 'I-RRMS']]\n",
      "[['multiple', 'problem'], ['multiple', 'I-RRMS']]\n",
      "[['sclerosis', 'problem'], ['sclerosis', 'I-RRMS']]\n",
      "[['-', 'test'], ['-', 'I-RRMS']]\n",
      "[['EDSS', 'test'], ['EDSS', 'B-EDSS']]\n",
      "[['multiple', 'problem'], ['multiple', 'I-RRMS']]\n",
      "[['sclerosis', 'problem'], ['sclerosis', 'I-RRMS']]\n",
      "inscope: 10\n",
      "quantitative_00171 annotator2_quantitative_00171_correct\n",
      "quantitative_00171.txt\n"
     ]
    },
    {
     "name": "stderr",
     "output_type": "stream",
     "text": [
      "DEBUG:urllib3.connectionpool:https://huggingface.co:443 \"HEAD /sschet/bert-base-uncased_clinical-ner/resolve/main/config.json HTTP/1.1\" 200 0\n",
      "DEBUG:urllib3.connectionpool:https://huggingface.co:443 \"HEAD /sschet/bert-base-uncased_clinical-ner/resolve/main/vocab.txt HTTP/1.1\" 200 0\n"
     ]
    },
    {
     "name": "stdout",
     "output_type": "stream",
     "text": [
      "5 82 204 7\n",
      "annotated_num: 13\n",
      "[['MULTIPLE', 'problem'], ['MULTIPLE', 'I-RRMS']]\n",
      "[['SCLEROSIS', 'problem'], ['SCLEROSIS', 'I-RRMS']]\n",
      "[['MULTIPLE', 'problem'], ['MULTIPLE', 'B-Temporal_history_of_relapse']]\n",
      "[['FLARE', 'problem'], ['FLARE', 'I-Temporal_history_of_relapse']]\n",
      "[['UPS', 'problem'], ['UPS', 'I-Temporal_history_of_relapse']]\n",
      "inscope: 5\n",
      "quantitative_00172 annotator2_quantitative_00172_correct\n",
      "quantitative_00172.txt\n"
     ]
    },
    {
     "name": "stderr",
     "output_type": "stream",
     "text": [
      "DEBUG:urllib3.connectionpool:https://huggingface.co:443 \"HEAD /sschet/bert-base-uncased_clinical-ner/resolve/main/config.json HTTP/1.1\" 200 0\n",
      "DEBUG:urllib3.connectionpool:https://huggingface.co:443 \"HEAD /sschet/bert-base-uncased_clinical-ner/resolve/main/vocab.txt HTTP/1.1\" 200 0\n"
     ]
    },
    {
     "name": "stdout",
     "output_type": "stream",
     "text": [
      "5 217 459 1\n",
      "annotated_num: 8\n",
      "[['Multiple', 'problem'], ['Multiple', 'B-RRMS']]\n",
      "[['sclerosis', 'problem'], ['sclerosis', 'I-RRMS']]\n",
      "[['MS', 'problem'], ['MS', 'B-RRMS']]\n",
      "[['RRMS', 'problem'], ['RRMS', 'B-RRMS']]\n",
      "[['EDSS', 'test'], ['EDSS', 'B-EDSS']]\n",
      "inscope: 5\n",
      "quantitative_00173 annotator2_quantitative_00173_correct\n",
      "quantitative_00173.txt\n"
     ]
    },
    {
     "name": "stderr",
     "output_type": "stream",
     "text": [
      "DEBUG:urllib3.connectionpool:https://huggingface.co:443 \"HEAD /sschet/bert-base-uncased_clinical-ner/resolve/main/config.json HTTP/1.1\" 200 0\n",
      "DEBUG:urllib3.connectionpool:https://huggingface.co:443 \"HEAD /sschet/bert-base-uncased_clinical-ner/resolve/main/vocab.txt HTTP/1.1\" 200 0\n"
     ]
    },
    {
     "name": "stdout",
     "output_type": "stream",
     "text": [
      "5 128 517 1\n",
      "annotated_num: 9\n",
      "[['MS', 'problem'], ['MS', 'B-MS_no_subtype']]\n",
      "[['panel', 'test'], ['panel', 'I-MS_no_subtype']]\n",
      "[['positive', 'problem'], ['positive', 'I-MS_no_subtype']]\n",
      "[['oligoclonal', 'problem'], ['oligoclonal', 'I-MS_no_subtype']]\n",
      "[['bands', 'problem'], ['bands', 'I-MS_no_subtype']]\n",
      "inscope: 5\n",
      "quantitative_00174 annotator2_quantitative_00174_correct\n",
      "quantitative_00174.txt\n"
     ]
    },
    {
     "name": "stderr",
     "output_type": "stream",
     "text": [
      "DEBUG:urllib3.connectionpool:https://huggingface.co:443 \"HEAD /sschet/bert-base-uncased_clinical-ner/resolve/main/config.json HTTP/1.1\" 200 0\n",
      "DEBUG:urllib3.connectionpool:https://huggingface.co:443 \"HEAD /sschet/bert-base-uncased_clinical-ner/resolve/main/vocab.txt HTTP/1.1\" 200 0\n"
     ]
    },
    {
     "name": "stdout",
     "output_type": "stream",
     "text": [
      "2 93 126 1\n",
      "annotated_num: 4\n",
      "[['MS', 'problem'], ['MS', 'B-RRMS']]\n",
      "[['EDSS', 'test'], ['EDSS', 'B-EDSS']]\n",
      "inscope: 2\n",
      "quantitative_00175 annotator2_quantitative_00175_correct\n",
      "quantitative_00175.txt\n"
     ]
    },
    {
     "name": "stderr",
     "output_type": "stream",
     "text": [
      "DEBUG:urllib3.connectionpool:https://huggingface.co:443 \"HEAD /sschet/bert-base-uncased_clinical-ner/resolve/main/config.json HTTP/1.1\" 200 0\n",
      "DEBUG:urllib3.connectionpool:https://huggingface.co:443 \"HEAD /sschet/bert-base-uncased_clinical-ner/resolve/main/vocab.txt HTTP/1.1\" 200 0\n"
     ]
    },
    {
     "name": "stdout",
     "output_type": "stream",
     "text": [
      "10 673 888 4\n",
      "annotated_num: 15\n",
      "[['MS', 'problem'], ['MS', 'B-RRMS']]\n",
      "[['Multiple', 'problem'], ['Multiple', 'B-RRMS']]\n",
      "[['sclerosis', 'problem'], ['sclerosis', 'I-RRMS']]\n",
      "[['multiple', 'problem'], ['multiple', 'B-RRMS']]\n",
      "[['sclerosis', 'problem'], ['sclerosis', 'I-RRMS']]\n",
      "[['multiple', 'problem'], ['multiple', 'B-RRMS']]\n",
      "[['sclerosis', 'problem'], ['sclerosis', 'I-RRMS']]\n",
      "[['Multiple', 'problem'], ['Multiple', 'B-RRMS']]\n",
      "[['sclerosis', 'problem'], ['sclerosis', 'I-RRMS']]\n",
      "[['EDSS', 'test'], ['EDSS', 'B-EDSS']]\n",
      "inscope: 10\n",
      "quantitative_00176 annotator2_quantitative_00176_correct\n",
      "quantitative_00176.txt\n"
     ]
    },
    {
     "name": "stderr",
     "output_type": "stream",
     "text": [
      "DEBUG:urllib3.connectionpool:https://huggingface.co:443 \"HEAD /sschet/bert-base-uncased_clinical-ner/resolve/main/config.json HTTP/1.1\" 200 0\n",
      "DEBUG:urllib3.connectionpool:https://huggingface.co:443 \"HEAD /sschet/bert-base-uncased_clinical-ner/resolve/main/vocab.txt HTTP/1.1\" 200 0\n"
     ]
    },
    {
     "name": "stdout",
     "output_type": "stream",
     "text": [
      "2 256 487 3\n",
      "annotated_num: 5\n",
      "[['Multiple', 'problem'], ['Multiple', 'B-PPMS']]\n",
      "[['Sclerosis', 'problem'], ['Sclerosis', 'I-PPMS']]\n",
      "inscope: 2\n",
      "quantitative_00177 annotator2_quantitative_00177_correct\n",
      "quantitative_00177.txt\n"
     ]
    },
    {
     "name": "stderr",
     "output_type": "stream",
     "text": [
      "DEBUG:urllib3.connectionpool:https://huggingface.co:443 \"HEAD /sschet/bert-base-uncased_clinical-ner/resolve/main/config.json HTTP/1.1\" 200 0\n",
      "DEBUG:urllib3.connectionpool:https://huggingface.co:443 \"HEAD /sschet/bert-base-uncased_clinical-ner/resolve/main/vocab.txt HTTP/1.1\" 200 0\n"
     ]
    },
    {
     "name": "stdout",
     "output_type": "stream",
     "text": [
      "2 63 128 1\n",
      "annotated_num: 4\n",
      "[['MS', 'problem'], ['MS', 'B-RRMS']]\n",
      "[['EDSS', 'test'], ['EDSS', 'B-EDSS']]\n",
      "inscope: 2\n",
      "quantitative_00178 annotator2_quantitative_00178_correct\n",
      "quantitative_00178.txt\n"
     ]
    },
    {
     "name": "stderr",
     "output_type": "stream",
     "text": [
      "DEBUG:urllib3.connectionpool:https://huggingface.co:443 \"HEAD /sschet/bert-base-uncased_clinical-ner/resolve/main/config.json HTTP/1.1\" 200 0\n",
      "DEBUG:urllib3.connectionpool:https://huggingface.co:443 \"HEAD /sschet/bert-base-uncased_clinical-ner/resolve/main/vocab.txt HTTP/1.1\" 200 0\n"
     ]
    },
    {
     "name": "stdout",
     "output_type": "stream",
     "text": [
      "9 901 847 4\n",
      "annotated_num: 14\n",
      "[['MS', 'problem'], ['MS', 'B-RRMS']]\n",
      "[['multiple', 'problem'], ['multiple', 'B-RRMS']]\n",
      "[['sclerosis', 'problem'], ['sclerosis', 'I-RRMS']]\n",
      "[['Multiple', 'problem'], ['Multiple', 'B-RRMS']]\n",
      "[['sclerosis', 'problem'], ['sclerosis', 'I-RRMS']]\n",
      "[['Multiple', 'problem'], ['Multiple', 'B-RRMS']]\n",
      "[['sclerosis', 'problem'], ['sclerosis', 'I-RRMS']]\n",
      "[['MS', 'problem'], ['MS', 'B-RRMS']]\n",
      "[['EDSS', 'test'], ['EDSS', 'B-EDSS']]\n",
      "inscope: 9\n",
      "quantitative_00179 annotator2_quantitative_00179_correct\n",
      "quantitative_00179.txt\n"
     ]
    },
    {
     "name": "stderr",
     "output_type": "stream",
     "text": [
      "DEBUG:urllib3.connectionpool:https://huggingface.co:443 \"HEAD /sschet/bert-base-uncased_clinical-ner/resolve/main/config.json HTTP/1.1\" 200 0\n",
      "DEBUG:urllib3.connectionpool:https://huggingface.co:443 \"HEAD /sschet/bert-base-uncased_clinical-ner/resolve/main/vocab.txt HTTP/1.1\" 200 0\n"
     ]
    },
    {
     "name": "stdout",
     "output_type": "stream",
     "text": [
      "11 476 596 4\n",
      "annotated_num: 16\n",
      "[['-', 'problem'], ['-', 'I-RRMS']]\n",
      "[['relapsing', 'problem'], ['relapsing', 'B-RRMS']]\n",
      "[['multiple', 'problem'], ['multiple', 'I-RRMS']]\n",
      "[['sclerosis', 'problem'], ['sclerosis', 'I-RRMS']]\n",
      "[['-', 'problem'], ['-', 'I-RRMS']]\n",
      "[['Relapsing', 'problem'], ['Relapsing', 'B-RRMS']]\n",
      "[['multiple', 'problem'], ['multiple', 'I-RRMS']]\n",
      "[['sclerosis', 'problem'], ['sclerosis', 'I-RRMS']]\n",
      "[['-', 'problem'], ['-', 'I-RRMS']]\n",
      "[['relapsing', 'problem'], ['relapsing', 'B-RRMS']]\n",
      "[['MS', 'problem'], ['MS', 'I-RRMS']]\n",
      "inscope: 11\n",
      "quantitative_00180 annotator2_quantitative_00180_correct\n",
      "quantitative_00180.txt\n"
     ]
    },
    {
     "name": "stderr",
     "output_type": "stream",
     "text": [
      "DEBUG:urllib3.connectionpool:https://huggingface.co:443 \"HEAD /sschet/bert-base-uncased_clinical-ner/resolve/main/config.json HTTP/1.1\" 200 0\n",
      "DEBUG:urllib3.connectionpool:https://huggingface.co:443 \"HEAD /sschet/bert-base-uncased_clinical-ner/resolve/main/vocab.txt HTTP/1.1\" 200 0\n"
     ]
    },
    {
     "name": "stdout",
     "output_type": "stream",
     "text": [
      "13 733 582 9\n",
      "annotated_num: 23\n",
      "[['-', 'problem'], ['-', 'I-RRMS']]\n",
      "[['multiple', 'problem'], ['multiple', 'I-RRMS']]\n",
      "[['sclerosis', 'problem'], ['sclerosis', 'I-RRMS']]\n",
      "[['relapse', 'problem'], ['relapse', 'I-Temporal_history_of_relapse']]\n",
      "[['-', 'problem'], ['-', 'I-RRMS']]\n",
      "[['Extended', 'test'], ['Extended', 'B-EDSS']]\n",
      "[['disability', 'problem'], ['disability', 'I-EDSS']]\n",
      "[['status', 'test'], ['status', 'I-EDSS']]\n",
      "[['scale', 'test'], ['scale', 'I-EDSS']]\n",
      "[['EDSS', 'test'], ['EDSS', 'B-EDSS']]\n",
      "[['sclerosis', 'problem'], ['sclerosis', 'I-RRMS']]\n",
      "[['multiple', 'problem'], ['multiple', 'B-RRMS']]\n",
      "[['sclerosis', 'problem'], ['sclerosis', 'I-RRMS']]\n",
      "inscope: 13\n",
      "quantitative_00181 annotator2_quantitative_00181_correct\n",
      "quantitative_00181.txt\n"
     ]
    },
    {
     "name": "stderr",
     "output_type": "stream",
     "text": [
      "DEBUG:urllib3.connectionpool:https://huggingface.co:443 \"HEAD /sschet/bert-base-uncased_clinical-ner/resolve/main/config.json HTTP/1.1\" 200 0\n",
      "DEBUG:urllib3.connectionpool:https://huggingface.co:443 \"HEAD /sschet/bert-base-uncased_clinical-ner/resolve/main/vocab.txt HTTP/1.1\" 200 0\n"
     ]
    },
    {
     "name": "stdout",
     "output_type": "stream",
     "text": [
      "3 38 109 3\n",
      "annotated_num: 7\n",
      "[['multiple', 'problem'], ['multiple', 'B-SPMS']]\n",
      "[['sclerosis', 'problem'], ['sclerosis', 'I-SPMS']]\n",
      "[['EDSS', 'test'], ['EDSS', 'B-EDSS']]\n",
      "inscope: 3\n",
      "quantitative_00182 annotator2_quantitative_00182_correct\n",
      "quantitative_00182.txt\n"
     ]
    },
    {
     "name": "stderr",
     "output_type": "stream",
     "text": [
      "DEBUG:urllib3.connectionpool:https://huggingface.co:443 \"HEAD /sschet/bert-base-uncased_clinical-ner/resolve/main/config.json HTTP/1.1\" 200 0\n"
     ]
    },
    {
     "name": "stdout",
     "output_type": "stream",
     "text": [
      "7 431 843 8\n",
      "annotated_num: 16\n",
      "[['MS', 'problem'], ['MS', 'B-MS_no_subtype']]\n",
      "[['in', 'problem'], ['in', 'I-Temporal_history_of_relapse']]\n",
      "[['an', 'problem'], ['an', 'I-Temporal_history_of_relapse']]\n",
      "[['MS', 'problem'], ['MS', 'B-MS_no_subtype']]\n",
      "[['MS', 'problem'], ['MS', 'B-MS_no_subtype']]\n",
      "[['MS', 'problem'], ['MS', 'B-MS_no_subtype']]\n",
      "[['EDSS', 'test'], ['EDSS', 'B-EDSS']]\n",
      "inscope: 7\n",
      "quantitative_00184 annotator2_quantitative_00184_correct\n",
      "quantitative_00184.txt\n"
     ]
    },
    {
     "name": "stderr",
     "output_type": "stream",
     "text": [
      "DEBUG:urllib3.connectionpool:https://huggingface.co:443 \"HEAD /sschet/bert-base-uncased_clinical-ner/resolve/main/vocab.txt HTTP/1.1\" 200 0\n",
      "DEBUG:urllib3.connectionpool:https://huggingface.co:443 \"HEAD /sschet/bert-base-uncased_clinical-ner/resolve/main/config.json HTTP/1.1\" 200 0\n",
      "DEBUG:urllib3.connectionpool:https://huggingface.co:443 \"HEAD /sschet/bert-base-uncased_clinical-ner/resolve/main/vocab.txt HTTP/1.1\" 200 0\n"
     ]
    },
    {
     "name": "stdout",
     "output_type": "stream",
     "text": [
      "7 65 509 10\n",
      "annotated_num: 17\n",
      "[['Multiple', 'problem'], ['Multiple', 'I-RRMS']]\n",
      "[['Sclerosis', 'problem'], ['Sclerosis', 'I-RRMS']]\n",
      "[['EDSS', 'test'], ['EDSS', 'B-EDSS']]\n",
      "[['exacerbation', 'problem'], ['exacerbation', 'B-Temporal_history_of_relapse']]\n",
      "[['last', 'test'], ['last', 'B-Relapse_year']]\n",
      "[['Multiple', 'problem'], ['Multiple', 'B-RRMS']]\n",
      "[['sclerosis', 'problem'], ['sclerosis', 'I-RRMS']]\n",
      "inscope: 7\n",
      "quantitative_00185 annotator2_quantitative_00185_correct\n",
      "quantitative_00185.txt\n"
     ]
    },
    {
     "name": "stderr",
     "output_type": "stream",
     "text": [
      "DEBUG:urllib3.connectionpool:https://huggingface.co:443 \"HEAD /sschet/bert-base-uncased_clinical-ner/resolve/main/config.json HTTP/1.1\" 200 0\n",
      "DEBUG:urllib3.connectionpool:https://huggingface.co:443 \"HEAD /sschet/bert-base-uncased_clinical-ner/resolve/main/vocab.txt HTTP/1.1\" 200 0\n"
     ]
    },
    {
     "name": "stdout",
     "output_type": "stream",
     "text": [
      "3 112 183 1\n",
      "annotated_num: 4\n",
      "[['MS', 'problem'], ['MS', 'B-RRMS']]\n",
      "[['MS', 'problem'], ['MS', 'B-RRMS']]\n",
      "[['EDSS', 'test'], ['EDSS', 'B-EDSS']]\n",
      "inscope: 3\n",
      "quantitative_00186 annotator2_quantitative_00186_correct\n",
      "quantitative_00186.txt\n"
     ]
    },
    {
     "name": "stderr",
     "output_type": "stream",
     "text": [
      "DEBUG:urllib3.connectionpool:https://huggingface.co:443 \"HEAD /sschet/bert-base-uncased_clinical-ner/resolve/main/config.json HTTP/1.1\" 200 0\n",
      "DEBUG:urllib3.connectionpool:https://huggingface.co:443 \"HEAD /sschet/bert-base-uncased_clinical-ner/resolve/main/vocab.txt HTTP/1.1\" 200 0\n"
     ]
    },
    {
     "name": "stdout",
     "output_type": "stream",
     "text": [
      "15 381 928 7\n",
      "annotated_num: 22\n",
      "[['multiple', 'problem'], ['multiple', 'B-RRMS']]\n",
      "[['sclerosis', 'problem'], ['sclerosis', 'I-RRMS']]\n",
      "[['-', 'test'], ['-', 'I-RRMS']]\n",
      "[['multiple', 'problem'], ['multiple', 'I-RRMS']]\n",
      "[['sclerosis', 'problem'], ['sclerosis', 'I-RRMS']]\n",
      "[['multiple', 'problem'], ['multiple', 'B-RRMS']]\n",
      "[['sclerosis', 'problem'], ['sclerosis', 'I-RRMS']]\n",
      "[['MS', 'problem'], ['MS', 'B-RRMS']]\n",
      "[['-', 'test'], ['-', 'I-RRMS']]\n",
      "[['multiple', 'problem'], ['multiple', 'I-RRMS']]\n",
      "[['sclerosis', 'problem'], ['sclerosis', 'I-RRMS']]\n",
      "[['EDSS', 'test'], ['EDSS', 'B-EDSS']]\n",
      "[['-', 'test'], ['-', 'I-RRMS']]\n",
      "[['multiple', 'problem'], ['multiple', 'I-RRMS']]\n",
      "[['sclerosis', 'problem'], ['sclerosis', 'I-RRMS']]\n",
      "inscope: 15\n",
      "quantitative_00187 annotator2_quantitative_00187_correct\n",
      "quantitative_00187.txt\n"
     ]
    },
    {
     "name": "stderr",
     "output_type": "stream",
     "text": [
      "DEBUG:urllib3.connectionpool:https://huggingface.co:443 \"HEAD /sschet/bert-base-uncased_clinical-ner/resolve/main/config.json HTTP/1.1\" 200 0\n",
      "DEBUG:urllib3.connectionpool:https://huggingface.co:443 \"HEAD /sschet/bert-base-uncased_clinical-ner/resolve/main/vocab.txt HTTP/1.1\" 200 0\n"
     ]
    },
    {
     "name": "stdout",
     "output_type": "stream",
     "text": [
      "9 381 742 2\n",
      "annotated_num: 12\n",
      "[['syndrome', 'problem'], ['syndrome', 'I-CIS']]\n",
      "[['MS', 'problem'], ['MS', 'B-CIS']]\n",
      "[['MS', 'problem'], ['MS', 'B-CIS']]\n",
      "[['multiple', 'problem'], ['multiple', 'B-CIS']]\n",
      "[['sclerosis', 'problem'], ['sclerosis', 'I-CIS']]\n",
      "[['EDSS', 'test'], ['EDSS', 'B-EDSS']]\n",
      "[['1', 'problem'], ['1', 'B-EDSS_Value']]\n",
      "[['isolated', 'problem'], ['isolated', 'I-CIS']]\n",
      "[['syndrome', 'problem'], ['syndrome', 'I-CIS']]\n",
      "inscope: 9\n",
      "quantitative_00188 annotator2_quantitative_00188_correct\n",
      "quantitative_00188.txt\n"
     ]
    },
    {
     "name": "stderr",
     "output_type": "stream",
     "text": [
      "DEBUG:urllib3.connectionpool:https://huggingface.co:443 \"HEAD /sschet/bert-base-uncased_clinical-ner/resolve/main/config.json HTTP/1.1\" 200 0\n",
      "DEBUG:urllib3.connectionpool:https://huggingface.co:443 \"HEAD /sschet/bert-base-uncased_clinical-ner/resolve/main/vocab.txt HTTP/1.1\" 200 0\n"
     ]
    },
    {
     "name": "stdout",
     "output_type": "stream",
     "text": [
      "2 24 116 2\n",
      "annotated_num: 4\n",
      "[['MS', 'problem'], ['MS', 'B-RRMS']]\n",
      "[['EDSS', 'test'], ['EDSS', 'B-EDSS']]\n",
      "inscope: 2\n",
      "quantitative_00189 annotator2_quantitative_00189_correct\n",
      "quantitative_00189.txt\n"
     ]
    },
    {
     "name": "stderr",
     "output_type": "stream",
     "text": [
      "DEBUG:urllib3.connectionpool:https://huggingface.co:443 \"HEAD /sschet/bert-base-uncased_clinical-ner/resolve/main/config.json HTTP/1.1\" 200 0\n",
      "DEBUG:urllib3.connectionpool:https://huggingface.co:443 \"HEAD /sschet/bert-base-uncased_clinical-ner/resolve/main/vocab.txt HTTP/1.1\" 200 0\n"
     ]
    },
    {
     "name": "stdout",
     "output_type": "stream",
     "text": [
      "4 152 473 0\n",
      "annotated_num: 5\n",
      "[['MS', 'problem'], ['MS', 'B-MS_no_subtype']]\n",
      "[['multiple', 'problem'], ['multiple', 'B-MS_no_subtype']]\n",
      "[['sclerosis', 'problem'], ['sclerosis', 'I-MS_no_subtype']]\n",
      "[['EDSS', 'test'], ['EDSS', 'B-EDSS']]\n",
      "inscope: 4\n",
      "quantitative_00190 annotator2_quantitative_00190_correct\n",
      "quantitative_00190.txt\n"
     ]
    },
    {
     "name": "stderr",
     "output_type": "stream",
     "text": [
      "DEBUG:urllib3.connectionpool:https://huggingface.co:443 \"HEAD /sschet/bert-base-uncased_clinical-ner/resolve/main/config.json HTTP/1.1\" 200 0\n",
      "DEBUG:urllib3.connectionpool:https://huggingface.co:443 \"HEAD /sschet/bert-base-uncased_clinical-ner/resolve/main/vocab.txt HTTP/1.1\" 200 0\n"
     ]
    },
    {
     "name": "stdout",
     "output_type": "stream",
     "text": [
      "6 309 572 3\n",
      "annotated_num: 9\n",
      "[['left', 'problem'], ['left', 'B-CIS']]\n",
      "[['optic', 'problem'], ['optic', 'I-CIS']]\n",
      "[['neuritis', 'problem'], ['neuritis', 'I-CIS']]\n",
      "[['Optic', 'problem'], ['Optic', 'B-CIS']]\n",
      "[['Neuritis', 'problem'], ['Neuritis', 'I-CIS']]\n",
      "[['left', 'problem'], ['left', 'I-CIS']]\n",
      "inscope: 6\n",
      "quantitative_00191 annotator2_quantitative_00191_correct\n",
      "quantitative_00191.txt\n"
     ]
    },
    {
     "name": "stderr",
     "output_type": "stream",
     "text": [
      "DEBUG:urllib3.connectionpool:https://huggingface.co:443 \"HEAD /sschet/bert-base-uncased_clinical-ner/resolve/main/config.json HTTP/1.1\" 200 0\n",
      "DEBUG:urllib3.connectionpool:https://huggingface.co:443 \"HEAD /sschet/bert-base-uncased_clinical-ner/resolve/main/vocab.txt HTTP/1.1\" 200 0\n"
     ]
    },
    {
     "name": "stdout",
     "output_type": "stream",
     "text": [
      "9 362 498 7\n",
      "annotated_num: 16\n",
      "[['-', 'test'], ['-', 'I-RRMS']]\n",
      "[['multiple', 'problem'], ['multiple', 'I-RRMS']]\n",
      "[['sclerosis', 'problem'], ['sclerosis', 'I-RRMS']]\n",
      "[['multiple', 'problem'], ['multiple', 'B-RRMS']]\n",
      "[['sclerosis', 'problem'], ['sclerosis', 'I-RRMS']]\n",
      "[['MS', 'test'], ['MS', 'B-RRMS']]\n",
      "[['EDSS', 'test'], ['EDSS', 'B-EDSS']]\n",
      "[['multiple', 'problem'], ['multiple', 'I-RRMS']]\n",
      "[['sclerosis', 'problem'], ['sclerosis', 'I-RRMS']]\n",
      "inscope: 9\n",
      "quantitative_00193 annotator2_quantitative_00193_correct\n",
      "quantitative_00193.txt\n"
     ]
    },
    {
     "name": "stderr",
     "output_type": "stream",
     "text": [
      "DEBUG:urllib3.connectionpool:https://huggingface.co:443 \"HEAD /sschet/bert-base-uncased_clinical-ner/resolve/main/config.json HTTP/1.1\" 200 0\n",
      "DEBUG:urllib3.connectionpool:https://huggingface.co:443 \"HEAD /sschet/bert-base-uncased_clinical-ner/resolve/main/vocab.txt HTTP/1.1\" 200 0\n"
     ]
    },
    {
     "name": "stdout",
     "output_type": "stream",
     "text": [
      "5 412 292 2\n",
      "annotated_num: 7\n",
      "[['MS', 'problem'], ['MS', 'B-SPMS']]\n",
      "[['SECONDARY', 'problem'], ['SECONDARY', 'B-SPMS']]\n",
      "[['PROGRESSIVE', 'problem'], ['PROGRESSIVE', 'I-SPMS']]\n",
      "[['MULTIPLE', 'problem'], ['MULTIPLE', 'I-SPMS']]\n",
      "[['SCLEROSIS', 'problem'], ['SCLEROSIS', 'I-SPMS']]\n",
      "inscope: 5\n",
      "quantitative_00194 annotator2_quantitative_00194_correct\n",
      "quantitative_00194.txt\n"
     ]
    },
    {
     "name": "stderr",
     "output_type": "stream",
     "text": [
      "DEBUG:urllib3.connectionpool:https://huggingface.co:443 \"HEAD /sschet/bert-base-uncased_clinical-ner/resolve/main/config.json HTTP/1.1\" 200 0\n",
      "DEBUG:urllib3.connectionpool:https://huggingface.co:443 \"HEAD /sschet/bert-base-uncased_clinical-ner/resolve/main/vocab.txt HTTP/1.1\" 200 0\n"
     ]
    },
    {
     "name": "stdout",
     "output_type": "stream",
     "text": [
      "11 409 680 5\n",
      "annotated_num: 16\n",
      "[['-', 'test'], ['-', 'I-RRMS']]\n",
      "[['multiple', 'problem'], ['multiple', 'I-RRMS']]\n",
      "[['sclerosis', 'problem'], ['sclerosis', 'I-RRMS']]\n",
      "[['MS', 'problem'], ['MS', 'B-RRMS']]\n",
      "[['multiple', 'problem'], ['multiple', 'B-RRMS']]\n",
      "[['sclerosis', 'problem'], ['sclerosis', 'I-RRMS']]\n",
      "[['-', 'test'], ['-', 'I-RRMS']]\n",
      "[['EDSS', 'test'], ['EDSS', 'B-EDSS']]\n",
      "[['multiple', 'problem'], ['multiple', 'I-RRMS']]\n",
      "[['sclerosis', 'problem'], ['sclerosis', 'I-RRMS']]\n",
      "[['MS', 'problem'], ['MS', 'B-RRMS']]\n",
      "inscope: 11\n",
      "quantitative_00195 annotator2_quantitative_00195_correct\n",
      "quantitative_00195.txt\n"
     ]
    },
    {
     "name": "stderr",
     "output_type": "stream",
     "text": [
      "DEBUG:urllib3.connectionpool:https://huggingface.co:443 \"HEAD /sschet/bert-base-uncased_clinical-ner/resolve/main/config.json HTTP/1.1\" 200 0\n",
      "DEBUG:urllib3.connectionpool:https://huggingface.co:443 \"HEAD /sschet/bert-base-uncased_clinical-ner/resolve/main/vocab.txt HTTP/1.1\" 200 0\n"
     ]
    },
    {
     "name": "stdout",
     "output_type": "stream",
     "text": [
      "10 101 200 0\n",
      "annotated_num: 12\n",
      "[['MS', 'problem'], ['MS', 'B-SPMS']]\n",
      "[['MS', 'problem'], ['MS', 'B-SPMS']]\n",
      "[['RRMS', 'problem'], ['RRMS', 'B-RRMS']]\n",
      "[['flare', 'problem'], ['flare', 'B-Temporal_history_of_relapse']]\n",
      "[['MS', 'problem'], ['MS', 'B-SPMS']]\n",
      "[['MS', 'problem'], ['MS', 'B-SPMS']]\n",
      "[['secondary', 'problem'], ['secondary', 'B-SPMS']]\n",
      "[['progressive', 'problem'], ['progressive', 'I-SPMS']]\n",
      "[['MS', 'problem'], ['MS', 'I-SPMS']]\n",
      "[['EDSS', 'test'], ['EDSS', 'B-EDSS']]\n",
      "inscope: 10\n",
      "quantitative_00196 annotator2_quantitative_00196_correct\n",
      "quantitative_00196.txt\n"
     ]
    },
    {
     "name": "stderr",
     "output_type": "stream",
     "text": [
      "DEBUG:urllib3.connectionpool:https://huggingface.co:443 \"HEAD /sschet/bert-base-uncased_clinical-ner/resolve/main/config.json HTTP/1.1\" 200 0\n",
      "DEBUG:urllib3.connectionpool:https://huggingface.co:443 \"HEAD /sschet/bert-base-uncased_clinical-ner/resolve/main/vocab.txt HTTP/1.1\" 200 0\n"
     ]
    },
    {
     "name": "stdout",
     "output_type": "stream",
     "text": [
      "11 579 734 6\n",
      "annotated_num: 18\n",
      "[['end', 'test'], ['end', 'B-Relapse_relative_date']]\n",
      "[['of', 'problem'], ['of', 'I-Relapse_relative_date']]\n",
      "[['MS', 'problem'], ['MS', 'B-RRMS']]\n",
      "[['Multiple', 'problem'], ['Multiple', 'B-RRMS']]\n",
      "[['sclerosis', 'problem'], ['sclerosis', 'I-RRMS']]\n",
      "[['Multiple', 'problem'], ['Multiple', 'B-RRMS']]\n",
      "[['sclerosis', 'problem'], ['sclerosis', 'I-RRMS']]\n",
      "[['MS', 'problem'], ['MS', 'B-RRMS']]\n",
      "[['Flare', 'problem'], ['Flare', 'B-Temporal_history_of_relapse']]\n",
      "[['end', 'test'], ['end', 'B-Relapse_relative_date']]\n",
      "[['of', 'problem'], ['of', 'I-Relapse_relative_date']]\n",
      "inscope: 11\n",
      "quantitative_00197 annotator2_quantitative_00197_correct\n",
      "quantitative_00197.txt\n"
     ]
    },
    {
     "name": "stderr",
     "output_type": "stream",
     "text": [
      "DEBUG:urllib3.connectionpool:https://huggingface.co:443 \"HEAD /sschet/bert-base-uncased_clinical-ner/resolve/main/config.json HTTP/1.1\" 200 0\n",
      "DEBUG:urllib3.connectionpool:https://huggingface.co:443 \"HEAD /sschet/bert-base-uncased_clinical-ner/resolve/main/vocab.txt HTTP/1.1\" 200 0\n"
     ]
    },
    {
     "name": "stdout",
     "output_type": "stream",
     "text": [
      "13 704 649 8\n",
      "annotated_num: 21\n",
      "[['-', 'test'], ['-', 'I-RRMS']]\n",
      "[['multiple', 'problem'], ['multiple', 'I-RRMS']]\n",
      "[['sclerosis', 'problem'], ['sclerosis', 'I-RRMS']]\n",
      "[['exacerbation', 'problem'], ['exacerbation', 'B-Temporal_history_of_relapse']]\n",
      "[['multiple', 'problem'], ['multiple', 'B-RRMS']]\n",
      "[['sclerosis', 'problem'], ['sclerosis', 'I-RRMS']]\n",
      "[['-', 'test'], ['-', 'I-RRMS']]\n",
      "[['EDSS', 'test'], ['EDSS', 'B-EDSS']]\n",
      "[['2', 'problem'], ['2', 'B-EDSS_Value']]\n",
      "[['multiple', 'problem'], ['multiple', 'I-RRMS']]\n",
      "[['sclerosis', 'problem'], ['sclerosis', 'I-RRMS']]\n",
      "[['exacerbation', 'problem'], ['exacerbation', 'B-Temporal_history_of_relapse']]\n",
      "[['MS', 'problem'], ['MS', 'B-RRMS']]\n",
      "inscope: 13\n",
      "quantitative_00198 annotator2_quantitative_00198_correct\n",
      "quantitative_00198.txt\n"
     ]
    },
    {
     "name": "stderr",
     "output_type": "stream",
     "text": [
      "DEBUG:urllib3.connectionpool:https://huggingface.co:443 \"HEAD /sschet/bert-base-uncased_clinical-ner/resolve/main/config.json HTTP/1.1\" 200 0\n",
      "DEBUG:urllib3.connectionpool:https://huggingface.co:443 \"HEAD /sschet/bert-base-uncased_clinical-ner/resolve/main/vocab.txt HTTP/1.1\" 200 0\n"
     ]
    },
    {
     "name": "stdout",
     "output_type": "stream",
     "text": [
      "3 53 168 5\n",
      "annotated_num: 9\n",
      "[['MS', 'test'], ['MS', 'B-RRMS']]\n",
      "[['Flare', 'problem'], ['Flare', 'B-Temporal_history_of_relapse']]\n",
      "[['EDSS', 'test'], ['EDSS', 'B-EDSS']]\n",
      "inscope: 3\n",
      "quantitative_00199 annotator2_quantitative_00199_correct\n",
      "quantitative_00199.txt\n"
     ]
    },
    {
     "name": "stderr",
     "output_type": "stream",
     "text": [
      "DEBUG:urllib3.connectionpool:https://huggingface.co:443 \"HEAD /sschet/bert-base-uncased_clinical-ner/resolve/main/config.json HTTP/1.1\" 200 0\n",
      "DEBUG:urllib3.connectionpool:https://huggingface.co:443 \"HEAD /sschet/bert-base-uncased_clinical-ner/resolve/main/vocab.txt HTTP/1.1\" 200 0\n"
     ]
    },
    {
     "name": "stdout",
     "output_type": "stream",
     "text": [
      "9 35 143 4\n",
      "annotated_num: 13\n",
      "[['secondary', 'problem'], ['secondary', 'B-SPMS']]\n",
      "[['progressive', 'problem'], ['progressive', 'I-SPMS']]\n",
      "[['MS', 'problem'], ['MS', 'I-SPMS']]\n",
      "[['EDSS', 'test'], ['EDSS', 'B-EDSS']]\n",
      "[['progressive', 'problem'], ['progressive', 'B-SPMS']]\n",
      "[['form', 'problem'], ['form', 'I-SPMS']]\n",
      "[['MS', 'problem'], ['MS', 'I-SPMS']]\n",
      "[['worsening', 'problem'], ['worsening', 'I-SPMS']]\n",
      "[['MS', 'problem'], ['MS', 'B-SPMS']]\n",
      "inscope: 9\n",
      "recent_00001 annotator2_recent_00001_correct\n",
      "recent_00001.txt\n"
     ]
    },
    {
     "name": "stderr",
     "output_type": "stream",
     "text": [
      "DEBUG:urllib3.connectionpool:https://huggingface.co:443 \"HEAD /sschet/bert-base-uncased_clinical-ner/resolve/main/config.json HTTP/1.1\" 200 0\n",
      "DEBUG:urllib3.connectionpool:https://huggingface.co:443 \"HEAD /sschet/bert-base-uncased_clinical-ner/resolve/main/vocab.txt HTTP/1.1\" 200 0\n"
     ]
    },
    {
     "name": "stdout",
     "output_type": "stream",
     "text": [
      "9 389 390 4\n",
      "annotated_num: 14\n",
      "[['multiple', 'problem'], ['multiple', 'B-RRMS']]\n",
      "[['sclerosis', 'problem'], ['sclerosis', 'I-RRMS']]\n",
      "[['MULTIPLE', 'problem'], ['MULTIPLE', 'B-RRMS']]\n",
      "[['SCLEROSIS', 'problem'], ['SCLEROSIS', 'I-RRMS']]\n",
      "[['MS', 'problem'], ['MS', 'B-RRMS']]\n",
      "[['sclerosis', 'problem'], ['sclerosis', 'I-RRMS']]\n",
      "[['MS', 'problem'], ['MS', 'B-RRMS']]\n",
      "[['MULTIPLE', 'problem'], ['MULTIPLE', 'I-RRMS']]\n",
      "[['SCLEROSIS', 'problem'], ['SCLEROSIS', 'I-RRMS']]\n",
      "inscope: 9\n",
      "recent_00002 annotator2_recent_00002_correct\n",
      "recent_00002.txt\n"
     ]
    },
    {
     "name": "stderr",
     "output_type": "stream",
     "text": [
      "DEBUG:urllib3.connectionpool:https://huggingface.co:443 \"HEAD /sschet/bert-base-uncased_clinical-ner/resolve/main/config.json HTTP/1.1\" 200 0\n",
      "DEBUG:urllib3.connectionpool:https://huggingface.co:443 \"HEAD /sschet/bert-base-uncased_clinical-ner/resolve/main/vocab.txt HTTP/1.1\" 200 0\n"
     ]
    },
    {
     "name": "stdout",
     "output_type": "stream",
     "text": [
      "0 262 345 3\n",
      "somevalue is zer0\n",
      "recent_00003 annotator2_recent_00003_correct\n",
      "recent_00003.txt\n"
     ]
    },
    {
     "name": "stderr",
     "output_type": "stream",
     "text": [
      "DEBUG:urllib3.connectionpool:https://huggingface.co:443 \"HEAD /sschet/bert-base-uncased_clinical-ner/resolve/main/config.json HTTP/1.1\" 200 0\n",
      "DEBUG:urllib3.connectionpool:https://huggingface.co:443 \"HEAD /sschet/bert-base-uncased_clinical-ner/resolve/main/vocab.txt HTTP/1.1\" 200 0\n"
     ]
    },
    {
     "name": "stdout",
     "output_type": "stream",
     "text": [
      "8 506 648 8\n",
      "annotated_num: 16\n",
      "[['Multiple', 'problem'], ['Multiple', 'B-RRMS']]\n",
      "[['sclerosis', 'problem'], ['sclerosis', 'I-RRMS']]\n",
      "[[',', 'problem'], [',', 'I-RRMS']]\n",
      "[['-', 'problem'], ['-', 'I-RRMS']]\n",
      "[['discrete', 'problem'], ['discrete', 'I-Temporal_history_of_relapse']]\n",
      "[['attacks', 'problem'], ['attacks', 'I-Temporal_history_of_relapse']]\n",
      "[['EDSS', 'test'], ['EDSS', 'B-EDSS']]\n",
      "[['MS', 'problem'], ['MS', 'B-RRMS']]\n",
      "inscope: 8\n",
      "recent_00004 annotator2_recent_00004_correct\n",
      "recent_00004.txt\n"
     ]
    },
    {
     "name": "stderr",
     "output_type": "stream",
     "text": [
      "DEBUG:urllib3.connectionpool:https://huggingface.co:443 \"HEAD /sschet/bert-base-uncased_clinical-ner/resolve/main/config.json HTTP/1.1\" 200 0\n",
      "DEBUG:urllib3.connectionpool:https://huggingface.co:443 \"HEAD /sschet/bert-base-uncased_clinical-ner/resolve/main/vocab.txt HTTP/1.1\" 200 0\n"
     ]
    },
    {
     "name": "stdout",
     "output_type": "stream",
     "text": [
      "3 300 252 5\n",
      "annotated_num: 9\n",
      "[['MS', 'problem'], ['MS', 'B-RRMS']]\n",
      "[['MS', 'problem'], ['MS', 'B-RRMS']]\n",
      "[['MULTIPLE', 'problem'], ['MULTIPLE', 'I-RRMS']]\n",
      "inscope: 3\n",
      "recent_00005 annotator2_recent_00005_correct\n",
      "recent_00005.txt\n"
     ]
    },
    {
     "name": "stderr",
     "output_type": "stream",
     "text": [
      "DEBUG:urllib3.connectionpool:https://huggingface.co:443 \"HEAD /sschet/bert-base-uncased_clinical-ner/resolve/main/config.json HTTP/1.1\" 200 0\n",
      "DEBUG:urllib3.connectionpool:https://huggingface.co:443 \"HEAD /sschet/bert-base-uncased_clinical-ner/resolve/main/vocab.txt HTTP/1.1\" 200 0\n"
     ]
    },
    {
     "name": "stdout",
     "output_type": "stream",
     "text": [
      "11 178 373 2\n",
      "annotated_num: 14\n",
      "[['MS', 'problem'], ['MS', 'B-MS_no_subtype']]\n",
      "[['MS', 'problem'], ['MS', 'B-MS_no_subtype']]\n",
      "[['MS', 'problem'], ['MS', 'B-MS_no_subtype']]\n",
      "[['pediatric', 'problem'], ['pediatric', 'B-MS_no_subtype']]\n",
      "[['onset', 'problem'], ['onset', 'I-MS_no_subtype']]\n",
      "[['MS', 'problem'], ['MS', 'I-MS_no_subtype']]\n",
      "[['Multiple', 'problem'], ['Multiple', 'B-MS_no_subtype']]\n",
      "[['Sclerosis', 'problem'], ['Sclerosis', 'I-MS_no_subtype']]\n",
      "[['MS', 'problem'], ['MS', 'B-MS_no_subtype']]\n",
      "[['EDSS', 'test'], ['EDSS', 'B-EDSS']]\n",
      "[['relapse', 'problem'], ['relapse', 'I-Temporal_history_of_relapse']]\n",
      "inscope: 11\n",
      "recent_00006 annotator2_recent_00006_correct\n",
      "recent_00006.txt\n"
     ]
    },
    {
     "name": "stderr",
     "output_type": "stream",
     "text": [
      "DEBUG:urllib3.connectionpool:https://huggingface.co:443 \"HEAD /sschet/bert-base-uncased_clinical-ner/resolve/main/config.json HTTP/1.1\" 200 0\n",
      "DEBUG:urllib3.connectionpool:https://huggingface.co:443 \"HEAD /sschet/bert-base-uncased_clinical-ner/resolve/main/vocab.txt HTTP/1.1\" 200 0\n"
     ]
    },
    {
     "name": "stdout",
     "output_type": "stream",
     "text": [
      "4 29 207 1\n",
      "annotated_num: 5\n",
      "[['MS', 'problem'], ['MS', 'B-SPMS']]\n",
      "[['SPMS', 'problem'], ['SPMS', 'B-SPMS']]\n",
      "[['EDSS', 'test'], ['EDSS', 'B-EDSS']]\n",
      "[['SPMS', 'problem'], ['SPMS', 'B-SPMS']]\n",
      "inscope: 4\n",
      "recent_00007 annotator2_recent_00007_correct\n",
      "recent_00007.txt\n"
     ]
    },
    {
     "name": "stderr",
     "output_type": "stream",
     "text": [
      "DEBUG:urllib3.connectionpool:https://huggingface.co:443 \"HEAD /sschet/bert-base-uncased_clinical-ner/resolve/main/config.json HTTP/1.1\" 200 0\n",
      "DEBUG:urllib3.connectionpool:https://huggingface.co:443 \"HEAD /sschet/bert-base-uncased_clinical-ner/resolve/main/vocab.txt HTTP/1.1\" 200 0\n"
     ]
    },
    {
     "name": "stdout",
     "output_type": "stream",
     "text": [
      "6 405 421 0\n",
      "annotated_num: 8\n",
      "[['MS', 'problem'], ['MS', 'B-RRMS']]\n",
      "[['SCLEROSIS', 'problem'], ['SCLEROSIS', 'I-RRMS']]\n",
      "[['multiple', 'problem'], ['multiple', 'B-RRMS']]\n",
      "[['sclerosis', 'problem'], ['sclerosis', 'I-RRMS']]\n",
      "[['RRMS', 'test'], ['RRMS', 'B-RRMS']]\n",
      "[['EDSS', 'test'], ['EDSS', 'B-EDSS']]\n",
      "inscope: 6\n",
      "recent_00008 annotator2_recent_00008_correct\n",
      "recent_00008.txt\n"
     ]
    },
    {
     "name": "stderr",
     "output_type": "stream",
     "text": [
      "DEBUG:urllib3.connectionpool:https://huggingface.co:443 \"HEAD /sschet/bert-base-uncased_clinical-ner/resolve/main/config.json HTTP/1.1\" 200 0\n",
      "DEBUG:urllib3.connectionpool:https://huggingface.co:443 \"HEAD /sschet/bert-base-uncased_clinical-ner/resolve/main/vocab.txt HTTP/1.1\" 200 0\n"
     ]
    },
    {
     "name": "stdout",
     "output_type": "stream",
     "text": [
      "2 74 113 2\n",
      "annotated_num: 4\n",
      "[['MS', 'problem'], ['MS', 'B-RRMS']]\n",
      "[['EDSS', 'test'], ['EDSS', 'B-EDSS']]\n",
      "inscope: 2\n",
      "recent_00009 annotator2_recent_00009_correct\n",
      "recent_00009.txt\n"
     ]
    },
    {
     "name": "stderr",
     "output_type": "stream",
     "text": [
      "DEBUG:urllib3.connectionpool:https://huggingface.co:443 \"HEAD /sschet/bert-base-uncased_clinical-ner/resolve/main/config.json HTTP/1.1\" 200 0\n",
      "DEBUG:urllib3.connectionpool:https://huggingface.co:443 \"HEAD /sschet/bert-base-uncased_clinical-ner/resolve/main/vocab.txt HTTP/1.1\" 200 0\n"
     ]
    },
    {
     "name": "stdout",
     "output_type": "stream",
     "text": [
      "11 357 683 7\n",
      "annotated_num: 20\n",
      "[['multiple', 'problem'], ['multiple', 'I-RRMS']]\n",
      "[['sclerosis', 'problem'], ['sclerosis', 'I-RRMS']]\n",
      "[['MS', 'problem'], ['MS', 'B-RRMS']]\n",
      "[['clinical', 'problem'], ['clinical', 'B-Temporal_history_of_relapse']]\n",
      "[['exacerbation', 'problem'], ['exacerbation', 'I-Temporal_history_of_relapse']]\n",
      "[['multiple', 'problem'], ['multiple', 'B-RRMS']]\n",
      "[['sclerosis', 'problem'], ['sclerosis', 'I-RRMS']]\n",
      "[['EDSS', 'test'], ['EDSS', 'B-EDSS']]\n",
      "[['multiple', 'problem'], ['multiple', 'I-RRMS']]\n",
      "[['sclerosis', 'problem'], ['sclerosis', 'I-RRMS']]\n",
      "[['MS', 'problem'], ['MS', 'B-RRMS']]\n",
      "inscope: 11\n",
      "recent_00010 annotator2_recent_00010_correct\n",
      "recent_00010.txt\n"
     ]
    },
    {
     "name": "stderr",
     "output_type": "stream",
     "text": [
      "DEBUG:urllib3.connectionpool:https://huggingface.co:443 \"HEAD /sschet/bert-base-uncased_clinical-ner/resolve/main/config.json HTTP/1.1\" 200 0\n",
      "DEBUG:urllib3.connectionpool:https://huggingface.co:443 \"HEAD /sschet/bert-base-uncased_clinical-ner/resolve/main/vocab.txt HTTP/1.1\" 200 0\n"
     ]
    },
    {
     "name": "stdout",
     "output_type": "stream",
     "text": [
      "4 81 184 4\n",
      "annotated_num: 8\n",
      "[['MS', 'problem'], ['MS', 'B-RRMS']]\n",
      "[['MS', 'problem'], ['MS', 'B-RRMS']]\n",
      "[['MULTIPLE', 'problem'], ['MULTIPLE', 'I-RRMS']]\n",
      "[['SCLEROSIS', 'problem'], ['SCLEROSIS', 'I-RRMS']]\n",
      "inscope: 4\n",
      "recent_00011 annotator2_recent_00011_correct\n",
      "recent_00011.txt\n"
     ]
    },
    {
     "name": "stderr",
     "output_type": "stream",
     "text": [
      "DEBUG:urllib3.connectionpool:https://huggingface.co:443 \"HEAD /sschet/bert-base-uncased_clinical-ner/resolve/main/config.json HTTP/1.1\" 200 0\n",
      "DEBUG:urllib3.connectionpool:https://huggingface.co:443 \"HEAD /sschet/bert-base-uncased_clinical-ner/resolve/main/vocab.txt HTTP/1.1\" 200 0\n"
     ]
    },
    {
     "name": "stdout",
     "output_type": "stream",
     "text": [
      "4 726 650 2\n",
      "annotated_num: 7\n",
      "[['Multiple', 'problem'], ['Multiple', 'B-RRMS']]\n",
      "[['sclerosis', 'problem'], ['sclerosis', 'I-RRMS']]\n",
      "[['MS', 'problem'], ['MS', 'B-RRMS']]\n",
      "[['EDSS', 'test'], ['EDSS', 'B-EDSS']]\n",
      "inscope: 4\n",
      "recent_00012 annotator2_recent_00012_correct\n",
      "recent_00012.txt\n"
     ]
    },
    {
     "name": "stderr",
     "output_type": "stream",
     "text": [
      "DEBUG:urllib3.connectionpool:https://huggingface.co:443 \"HEAD /sschet/bert-base-uncased_clinical-ner/resolve/main/config.json HTTP/1.1\" 200 0\n",
      "DEBUG:urllib3.connectionpool:https://huggingface.co:443 \"HEAD /sschet/bert-base-uncased_clinical-ner/resolve/main/vocab.txt HTTP/1.1\" 200 0\n"
     ]
    },
    {
     "name": "stdout",
     "output_type": "stream",
     "text": [
      "4 131 177 2\n",
      "annotated_num: 8\n",
      "[['MS', 'problem'], ['MS', 'B-MS_no_subtype']]\n",
      "[['MS', 'problem'], ['MS', 'B-MS_no_subtype']]\n",
      "[['MS', 'problem'], ['MS', 'B-MS_no_subtype']]\n",
      "[['ADVANCED', 'problem'], ['ADVANCED', 'B-MS_no_subtype']]\n",
      "inscope: 4\n",
      "recent_00013 annotator2_recent_00013_correct\n",
      "recent_00013.txt\n"
     ]
    },
    {
     "name": "stderr",
     "output_type": "stream",
     "text": [
      "DEBUG:urllib3.connectionpool:https://huggingface.co:443 \"HEAD /sschet/bert-base-uncased_clinical-ner/resolve/main/config.json HTTP/1.1\" 200 0\n",
      "DEBUG:urllib3.connectionpool:https://huggingface.co:443 \"HEAD /sschet/bert-base-uncased_clinical-ner/resolve/main/vocab.txt HTTP/1.1\" 200 0\n"
     ]
    },
    {
     "name": "stdout",
     "output_type": "stream",
     "text": [
      "27 366 498 17\n",
      "annotated_num: 46\n",
      "[['MULTIPLE', 'problem'], ['MULTIPLE', 'B-RRMS']]\n",
      "[['SCLEROSIS', 'problem'], ['SCLEROSIS', 'I-RRMS']]\n",
      "[[',', 'problem'], [',', 'I-RRMS']]\n",
      "[['EDSS', 'test'], ['EDSS', 'B-EDSS']]\n",
      "[['LUE', 'problem'], ['LUE', 'B-Temporal_history_of_relapse']]\n",
      "[['sensory', 'problem'], ['sensory', 'I-Temporal_history_of_relapse']]\n",
      "[['attack', 'problem'], ['attack', 'I-Temporal_history_of_relapse']]\n",
      "[[',', 'problem'], [',', 'I-Temporal_history_of_relapse']]\n",
      "[['no', 'problem'], ['no', 'I-Temporal_history_of_relapse']]\n",
      "[['rx', 'problem'], ['rx', 'I-Temporal_history_of_relapse']]\n",
      "[['MS', 'problem'], ['MS', 'B-RRMS']]\n",
      "[['Multiple', 'problem'], ['Multiple', 'B-RRMS']]\n",
      "[['sclerosis', 'problem'], ['sclerosis', 'I-RRMS']]\n",
      "[[',', 'problem'], [',', 'I-RRMS']]\n",
      "[['EDSS', 'test'], ['EDSS', 'B-EDSS']]\n",
      "[['Jun', 'problem'], ['Jun', 'B-Relapse_relative_date']]\n",
      "[['vertigo', 'problem'], ['vertigo', 'B-Temporal_history_of_relapse']]\n",
      "[['LUE', 'problem'], ['LUE', 'B-Temporal_history_of_relapse']]\n",
      "[['sensory', 'problem'], ['sensory', 'I-Temporal_history_of_relapse']]\n",
      "[['attack', 'problem'], ['attack', 'I-Temporal_history_of_relapse']]\n",
      "[[',', 'problem'], [',', 'I-Temporal_history_of_relapse']]\n",
      "[['no', 'problem'], ['no', 'I-Temporal_history_of_relapse']]\n",
      "[['rx', 'problem'], ['rx', 'I-Temporal_history_of_relapse']]\n",
      "[['legs', 'test'], ['legs', 'B-Temporal_history_of_relapse']]\n",
      "[['go', 'problem'], ['go', 'I-Temporal_history_of_relapse']]\n",
      "[['in', 'problem'], ['in', 'I-Temporal_history_of_relapse']]\n",
      "[['MS', 'problem'], ['MS', 'B-RRMS']]\n",
      "inscope: 27\n",
      "recent_00014 annotator2_recent_00014_correct\n",
      "recent_00014.txt\n"
     ]
    },
    {
     "name": "stderr",
     "output_type": "stream",
     "text": [
      "DEBUG:urllib3.connectionpool:https://huggingface.co:443 \"HEAD /sschet/bert-base-uncased_clinical-ner/resolve/main/config.json HTTP/1.1\" 200 0\n",
      "DEBUG:urllib3.connectionpool:https://huggingface.co:443 \"HEAD /sschet/bert-base-uncased_clinical-ner/resolve/main/vocab.txt HTTP/1.1\" 200 0\n"
     ]
    },
    {
     "name": "stdout",
     "output_type": "stream",
     "text": [
      "4 55 123 4\n",
      "annotated_num: 9\n",
      "[['last', 'problem'], ['last', 'B-Temporal_history_of_relapse']]\n",
      "[['relapse', 'problem'], ['relapse', 'I-Temporal_history_of_relapse']]\n",
      "[['EDSS', 'test'], ['EDSS', 'B-EDSS']]\n",
      "[['EDSS', 'test'], ['EDSS', 'B-EDSS']]\n",
      "inscope: 4\n",
      "recent_00016 annotator2_recent_00016_correct\n",
      "recent_00016.txt\n"
     ]
    },
    {
     "name": "stderr",
     "output_type": "stream",
     "text": [
      "DEBUG:urllib3.connectionpool:https://huggingface.co:443 \"HEAD /sschet/bert-base-uncased_clinical-ner/resolve/main/config.json HTTP/1.1\" 200 0\n",
      "DEBUG:urllib3.connectionpool:https://huggingface.co:443 \"HEAD /sschet/bert-base-uncased_clinical-ner/resolve/main/vocab.txt HTTP/1.1\" 200 0\n"
     ]
    },
    {
     "name": "stdout",
     "output_type": "stream",
     "text": [
      "15 504 857 6\n",
      "annotated_num: 23\n",
      "[['-', 'problem'], ['-', 'I-RRMS']]\n",
      "[['multiple', 'problem'], ['multiple', 'I-RRMS']]\n",
      "[['sclerosis', 'problem'], ['sclerosis', 'I-RRMS']]\n",
      "[['multiple', 'problem'], ['multiple', 'B-RRMS']]\n",
      "[['sclerosis', 'problem'], ['sclerosis', 'I-RRMS']]\n",
      "[['few', 'problem'], ['few', 'B-Temporal_history_of_relapse']]\n",
      "[['exacerbations', 'problem'], ['exacerbations', 'I-Temporal_history_of_relapse']]\n",
      "[['exacerbation', 'problem'], ['exacerbation', 'I-Temporal_history_of_relapse']]\n",
      "[['sensory', 'problem'], ['sensory', 'B-Temporal_history_of_relapse']]\n",
      "[['exacerbations', 'problem'], ['exacerbations', 'I-Temporal_history_of_relapse']]\n",
      "[['MS', 'problem'], ['MS', 'B-RRMS']]\n",
      "[['-', 'problem'], ['-', 'I-RRMS']]\n",
      "[['EDSS', 'test'], ['EDSS', 'B-EDSS']]\n",
      "[['multiple', 'problem'], ['multiple', 'I-RRMS']]\n",
      "[['sclerosis', 'problem'], ['sclerosis', 'I-RRMS']]\n",
      "inscope: 15\n",
      "recent_00017 annotator2_recent_00017_correct\n",
      "recent_00017.txt\n"
     ]
    },
    {
     "name": "stderr",
     "output_type": "stream",
     "text": [
      "DEBUG:urllib3.connectionpool:https://huggingface.co:443 \"HEAD /sschet/bert-base-uncased_clinical-ner/resolve/main/config.json HTTP/1.1\" 200 0\n",
      "DEBUG:urllib3.connectionpool:https://huggingface.co:443 \"HEAD /sschet/bert-base-uncased_clinical-ner/resolve/main/vocab.txt HTTP/1.1\" 200 0\n"
     ]
    },
    {
     "name": "stdout",
     "output_type": "stream",
     "text": [
      "5 548 696 2\n",
      "annotated_num: 8\n",
      "[['Multiple', 'problem'], ['Multiple', 'B-RRMS']]\n",
      "[['sclerosis', 'problem'], ['sclerosis', 'I-RRMS']]\n",
      "[['MS', 'problem'], ['MS', 'B-RRMS']]\n",
      "[['MS', 'problem'], ['MS', 'B-RRMS']]\n",
      "[['EDSS', 'test'], ['EDSS', 'B-EDSS']]\n",
      "inscope: 5\n",
      "recent_00018 annotator2_recent_00018_correct\n",
      "recent_00018.txt\n"
     ]
    },
    {
     "name": "stderr",
     "output_type": "stream",
     "text": [
      "DEBUG:urllib3.connectionpool:https://huggingface.co:443 \"HEAD /sschet/bert-base-uncased_clinical-ner/resolve/main/config.json HTTP/1.1\" 200 0\n",
      "DEBUG:urllib3.connectionpool:https://huggingface.co:443 \"HEAD /sschet/bert-base-uncased_clinical-ner/resolve/main/vocab.txt HTTP/1.1\" 200 0\n"
     ]
    },
    {
     "name": "stdout",
     "output_type": "stream",
     "text": [
      "10 461 865 6\n",
      "annotated_num: 18\n",
      "[['-', 'problem'], ['-', 'I-RRMS']]\n",
      "[['multiple', 'problem'], ['multiple', 'I-RRMS']]\n",
      "[['sclerosis', 'problem'], ['sclerosis', 'I-RRMS']]\n",
      "[['exacerbation', 'problem'], ['exacerbation', 'B-Temporal_history_of_relapse']]\n",
      "[['multiple', 'problem'], ['multiple', 'B-RRMS']]\n",
      "[['sclerosis', 'problem'], ['sclerosis', 'I-RRMS']]\n",
      "[['-', 'problem'], ['-', 'I-RRMS']]\n",
      "[['EDSS', 'test'], ['EDSS', 'B-EDSS']]\n",
      "[['multiple', 'problem'], ['multiple', 'I-RRMS']]\n",
      "[['sclerosis', 'problem'], ['sclerosis', 'I-RRMS']]\n",
      "inscope: 10\n",
      "recent_00019 annotator2_recent_00019_correct\n",
      "recent_00019.txt\n"
     ]
    },
    {
     "name": "stderr",
     "output_type": "stream",
     "text": [
      "DEBUG:urllib3.connectionpool:https://huggingface.co:443 \"HEAD /sschet/bert-base-uncased_clinical-ner/resolve/main/config.json HTTP/1.1\" 200 0\n",
      "DEBUG:urllib3.connectionpool:https://huggingface.co:443 \"HEAD /sschet/bert-base-uncased_clinical-ner/resolve/main/vocab.txt HTTP/1.1\" 200 0\n"
     ]
    },
    {
     "name": "stdout",
     "output_type": "stream",
     "text": [
      "7 372 440 3\n",
      "annotated_num: 12\n",
      "[['multiple', 'problem'], ['multiple', 'B-RRMS']]\n",
      "[['sclerosis', 'problem'], ['sclerosis', 'I-RRMS']]\n",
      "[['multiple', 'problem'], ['multiple', 'B-RRMS']]\n",
      "[['sclerosis', 'problem'], ['sclerosis', 'I-RRMS']]\n",
      "[['MULTIPLE', 'problem'], ['MULTIPLE', 'B-RRMS']]\n",
      "[['MULTIPLE', 'problem'], ['MULTIPLE', 'I-RRMS']]\n",
      "[['SCLEROSIS', 'problem'], ['SCLEROSIS', 'I-RRMS']]\n",
      "inscope: 7\n",
      "recent_00020 annotator2_recent_00020_correct\n",
      "recent_00020.txt\n"
     ]
    },
    {
     "name": "stderr",
     "output_type": "stream",
     "text": [
      "DEBUG:urllib3.connectionpool:https://huggingface.co:443 \"HEAD /sschet/bert-base-uncased_clinical-ner/resolve/main/config.json HTTP/1.1\" 200 0\n",
      "DEBUG:urllib3.connectionpool:https://huggingface.co:443 \"HEAD /sschet/bert-base-uncased_clinical-ner/resolve/main/vocab.txt HTTP/1.1\" 200 0\n"
     ]
    },
    {
     "name": "stdout",
     "output_type": "stream",
     "text": [
      "1 62 164 2\n",
      "annotated_num: 3\n",
      "[['EDSS', 'test'], ['EDSS', 'B-EDSS']]\n",
      "inscope: 1\n",
      "recent_00021 annotator2_recent_00021_correct\n",
      "recent_00021.txt\n"
     ]
    },
    {
     "name": "stderr",
     "output_type": "stream",
     "text": [
      "DEBUG:urllib3.connectionpool:https://huggingface.co:443 \"HEAD /sschet/bert-base-uncased_clinical-ner/resolve/main/config.json HTTP/1.1\" 200 0\n",
      "DEBUG:urllib3.connectionpool:https://huggingface.co:443 \"HEAD /sschet/bert-base-uncased_clinical-ner/resolve/main/vocab.txt HTTP/1.1\" 200 0\n"
     ]
    },
    {
     "name": "stdout",
     "output_type": "stream",
     "text": [
      "18 324 503 8\n",
      "annotated_num: 27\n",
      "[['Relapsing', 'problem'], ['Relapsing', 'B-RRMS']]\n",
      "[['-', 'test'], ['-', 'I-RRMS']]\n",
      "[['multiple', 'problem'], ['multiple', 'I-RRMS']]\n",
      "[['sclerosis', 'problem'], ['sclerosis', 'I-RRMS']]\n",
      "[['-', 'test'], ['-', 'I-RRMS']]\n",
      "[['relapsing', 'problem'], ['relapsing', 'B-RRMS']]\n",
      "[['multiple', 'problem'], ['multiple', 'I-RRMS']]\n",
      "[['sclerosis', 'problem'], ['sclerosis', 'I-RRMS']]\n",
      "[['relapse', 'problem'], ['relapse', 'B-Temporal_history_of_relapse']]\n",
      "[['EDSS', 'test'], ['EDSS', 'B-EDSS']]\n",
      "[['aggressive', 'problem'], ['aggressive', 'B-RRMS']]\n",
      "[['relapsing', 'problem'], ['relapsing', 'I-RRMS']]\n",
      "[['multiple', 'problem'], ['multiple', 'I-RRMS']]\n",
      "[['sclerosis', 'problem'], ['sclerosis', 'I-RRMS']]\n",
      "[['with', 'problem'], ['with', 'I-RRMS']]\n",
      "[['of', 'problem'], ['of', 'I-RRMS']]\n",
      "[['disability', 'problem'], ['disability', 'I-RRMS']]\n",
      "[['to', 'problem'], ['to', 'I-RRMS']]\n",
      "inscope: 18\n",
      "recent_00022 annotator2_recent_00022_correct\n",
      "recent_00022.txt\n"
     ]
    },
    {
     "name": "stderr",
     "output_type": "stream",
     "text": [
      "DEBUG:urllib3.connectionpool:https://huggingface.co:443 \"HEAD /sschet/bert-base-uncased_clinical-ner/resolve/main/config.json HTTP/1.1\" 200 0\n",
      "DEBUG:urllib3.connectionpool:https://huggingface.co:443 \"HEAD /sschet/bert-base-uncased_clinical-ner/resolve/main/vocab.txt HTTP/1.1\" 200 0\n"
     ]
    },
    {
     "name": "stdout",
     "output_type": "stream",
     "text": [
      "3 354 302 3\n",
      "annotated_num: 6\n",
      "[['MS', 'problem'], ['MS', 'B-RRMS']]\n",
      "[['EDSS', 'test'], ['EDSS', 'B-EDSS']]\n",
      "[['relapse', 'problem'], ['relapse', 'I-Temporal_history_of_relapse']]\n",
      "inscope: 3\n",
      "recent_00023 annotator2_recent_00023_correct\n",
      "recent_00023.txt\n"
     ]
    },
    {
     "name": "stderr",
     "output_type": "stream",
     "text": [
      "DEBUG:urllib3.connectionpool:https://huggingface.co:443 \"HEAD /sschet/bert-base-uncased_clinical-ner/resolve/main/config.json HTTP/1.1\" 200 0\n",
      "DEBUG:urllib3.connectionpool:https://huggingface.co:443 \"HEAD /sschet/bert-base-uncased_clinical-ner/resolve/main/vocab.txt HTTP/1.1\" 200 0\n"
     ]
    },
    {
     "name": "stdout",
     "output_type": "stream",
     "text": [
      "9 214 333 5\n",
      "annotated_num: 14\n",
      "[['-', 'test'], ['-', 'I-RRMS']]\n",
      "[['multiple', 'problem'], ['multiple', 'I-RRMS']]\n",
      "[['sclerosis', 'problem'], ['sclerosis', 'I-RRMS']]\n",
      "[['multiple', 'problem'], ['multiple', 'B-RRMS']]\n",
      "[['sclerosis', 'problem'], ['sclerosis', 'I-RRMS']]\n",
      "[['EDSS', 'test'], ['EDSS', 'B-EDSS']]\n",
      "[['-', 'test'], ['-', 'I-RRMS']]\n",
      "[['multiple', 'problem'], ['multiple', 'I-RRMS']]\n",
      "[['sclerosis', 'problem'], ['sclerosis', 'I-RRMS']]\n",
      "inscope: 9\n",
      "recent_00024 annotator2_recent_00024_correct\n",
      "recent_00024.txt\n"
     ]
    },
    {
     "name": "stderr",
     "output_type": "stream",
     "text": [
      "DEBUG:urllib3.connectionpool:https://huggingface.co:443 \"HEAD /sschet/bert-base-uncased_clinical-ner/resolve/main/config.json HTTP/1.1\" 200 0\n",
      "DEBUG:urllib3.connectionpool:https://huggingface.co:443 \"HEAD /sschet/bert-base-uncased_clinical-ner/resolve/main/vocab.txt HTTP/1.1\" 200 0\n"
     ]
    },
    {
     "name": "stdout",
     "output_type": "stream",
     "text": [
      "11 352 710 16\n",
      "annotated_num: 30\n",
      "[['multiple', 'problem'], ['multiple', 'I-RRMS']]\n",
      "[['sclerosis', 'problem'], ['sclerosis', 'I-RRMS']]\n",
      "[['last', 'problem'], ['last', 'B-Temporal_history_of_relapse']]\n",
      "[['episode', 'problem'], ['episode', 'I-Temporal_history_of_relapse']]\n",
      "[['last', 'problem'], ['last', 'B-Temporal_history_of_relapse']]\n",
      "[['episode', 'problem'], ['episode', 'I-Temporal_history_of_relapse']]\n",
      "[['MS', 'problem'], ['MS', 'B-RRMS']]\n",
      "[['MS', 'problem'], ['MS', 'B-RRMS']]\n",
      "[['EDSS', 'test'], ['EDSS', 'B-EDSS']]\n",
      "[['multiple', 'problem'], ['multiple', 'I-RRMS']]\n",
      "[['sclerosis', 'problem'], ['sclerosis', 'I-RRMS']]\n",
      "inscope: 11\n",
      "recent_00025 annotator2_recent_00025_correct\n",
      "recent_00025.txt\n"
     ]
    },
    {
     "name": "stderr",
     "output_type": "stream",
     "text": [
      "DEBUG:urllib3.connectionpool:https://huggingface.co:443 \"HEAD /sschet/bert-base-uncased_clinical-ner/resolve/main/config.json HTTP/1.1\" 200 0\n",
      "DEBUG:urllib3.connectionpool:https://huggingface.co:443 \"HEAD /sschet/bert-base-uncased_clinical-ner/resolve/main/vocab.txt HTTP/1.1\" 200 0\n"
     ]
    },
    {
     "name": "stdout",
     "output_type": "stream",
     "text": [
      "4 106 158 5\n",
      "annotated_num: 9\n",
      "[['SECONDAY', 'problem'], ['SECONDAY', 'B-SPMS']]\n",
      "[['PROGRESSIVE', 'problem'], ['PROGRESSIVE', 'I-SPMS']]\n",
      "[['MULTIPLE', 'problem'], ['MULTIPLE', 'I-SPMS']]\n",
      "[['SCLEROSIS', 'problem'], ['SCLEROSIS', 'I-SPMS']]\n",
      "inscope: 4\n",
      "recent_00026 annotator2_recent_00026_correct\n",
      "recent_00026.txt\n"
     ]
    },
    {
     "name": "stderr",
     "output_type": "stream",
     "text": [
      "DEBUG:urllib3.connectionpool:https://huggingface.co:443 \"HEAD /sschet/bert-base-uncased_clinical-ner/resolve/main/config.json HTTP/1.1\" 200 0\n",
      "DEBUG:urllib3.connectionpool:https://huggingface.co:443 \"HEAD /sschet/bert-base-uncased_clinical-ner/resolve/main/vocab.txt HTTP/1.1\" 200 0\n"
     ]
    },
    {
     "name": "stdout",
     "output_type": "stream",
     "text": [
      "2 61 143 5\n",
      "annotated_num: 7\n",
      "[['MULTIPLE', 'problem'], ['MULTIPLE', 'I-RRMS']]\n",
      "[['SCLEROSIS', 'problem'], ['SCLEROSIS', 'I-RRMS']]\n",
      "inscope: 2\n",
      "recent_00028 annotator2_recent_00028_correct\n",
      "recent_00028.txt\n"
     ]
    },
    {
     "name": "stderr",
     "output_type": "stream",
     "text": [
      "DEBUG:urllib3.connectionpool:https://huggingface.co:443 \"HEAD /sschet/bert-base-uncased_clinical-ner/resolve/main/config.json HTTP/1.1\" 200 0\n",
      "DEBUG:urllib3.connectionpool:https://huggingface.co:443 \"HEAD /sschet/bert-base-uncased_clinical-ner/resolve/main/vocab.txt HTTP/1.1\" 200 0\n"
     ]
    },
    {
     "name": "stdout",
     "output_type": "stream",
     "text": [
      "1 387 536 2\n",
      "annotated_num: 3\n",
      "[['EDSS', 'test'], ['EDSS', 'B-EDSS']]\n",
      "inscope: 1\n",
      "recent_00029 annotator2_recent_00029_correct\n",
      "recent_00029.txt\n"
     ]
    },
    {
     "name": "stderr",
     "output_type": "stream",
     "text": [
      "DEBUG:urllib3.connectionpool:https://huggingface.co:443 \"HEAD /sschet/bert-base-uncased_clinical-ner/resolve/main/config.json HTTP/1.1\" 200 0\n",
      "DEBUG:urllib3.connectionpool:https://huggingface.co:443 \"HEAD /sschet/bert-base-uncased_clinical-ner/resolve/main/vocab.txt HTTP/1.1\" 200 0\n"
     ]
    },
    {
     "name": "stdout",
     "output_type": "stream",
     "text": [
      "3 195 231 4\n",
      "annotated_num: 8\n",
      "[['MS', 'test'], ['MS', 'B-RRMS']]\n",
      "[['MS', 'test'], ['MS', 'B-RRMS']]\n",
      "[['SCLEROSIS', 'problem'], ['SCLEROSIS', 'I-RRMS']]\n",
      "inscope: 3\n",
      "recent_00030 annotator2_recent_00030_correct\n",
      "recent_00030.txt\n"
     ]
    },
    {
     "name": "stderr",
     "output_type": "stream",
     "text": [
      "DEBUG:urllib3.connectionpool:https://huggingface.co:443 \"HEAD /sschet/bert-base-uncased_clinical-ner/resolve/main/config.json HTTP/1.1\" 200 0\n",
      "DEBUG:urllib3.connectionpool:https://huggingface.co:443 \"HEAD /sschet/bert-base-uncased_clinical-ner/resolve/main/vocab.txt HTTP/1.1\" 200 0\n"
     ]
    },
    {
     "name": "stdout",
     "output_type": "stream",
     "text": [
      "15 423 758 10\n",
      "annotated_num: 28\n",
      "[['of', 'problem'], ['of', 'I-SPMS']]\n",
      "[['multiple', 'problem'], ['multiple', 'I-SPMS']]\n",
      "[['sclerosis', 'problem'], ['sclerosis', 'I-SPMS']]\n",
      "[[',', 'problem'], [',', 'I-SPMS']]\n",
      "[['in', 'problem'], ['in', 'I-SPMS']]\n",
      "[[',', 'problem'], [',', 'I-SPMS']]\n",
      "[['to', 'problem'], ['to', 'I-SPMS']]\n",
      "[['the', 'test'], ['the', 'I-SPMS']]\n",
      "[['secondary', 'problem'], ['secondary', 'I-SPMS']]\n",
      "[['progressive', 'problem'], ['progressive', 'I-SPMS']]\n",
      "[['EDSS', 'test'], ['EDSS', 'B-EDSS']]\n",
      "[['secondary', 'problem'], ['secondary', 'B-SPMS']]\n",
      "[['progressive', 'problem'], ['progressive', 'I-SPMS']]\n",
      "[['MS', 'problem'], ['MS', 'I-SPMS']]\n",
      "[['EDSS', 'test'], ['EDSS', 'B-EDSS']]\n",
      "inscope: 15\n",
      "recent_00031 annotator2_recent_00031_correct\n",
      "recent_00031.txt\n"
     ]
    },
    {
     "name": "stderr",
     "output_type": "stream",
     "text": [
      "DEBUG:urllib3.connectionpool:https://huggingface.co:443 \"HEAD /sschet/bert-base-uncased_clinical-ner/resolve/main/config.json HTTP/1.1\" 200 0\n"
     ]
    },
    {
     "name": "stdout",
     "output_type": "stream",
     "text": [
      "7 125 199 1\n",
      "annotated_num: 8\n",
      "[['multiple', 'problem'], ['multiple', 'B-MS_no_subtype']]\n",
      "[['sclerosis', 'problem'], ['sclerosis', 'I-MS_no_subtype']]\n",
      "[['MS', 'problem'], ['MS', 'B-MS_no_subtype']]\n",
      "[['EDSS', 'test'], ['EDSS', 'B-EDSS']]\n",
      "[['prior', 'problem'], ['prior', 'B-Temporal_history_of_relapse']]\n",
      "[['sensory', 'problem'], ['sensory', 'I-Temporal_history_of_relapse']]\n",
      "[['relapses', 'problem'], ['relapses', 'I-Temporal_history_of_relapse']]\n",
      "inscope: 7\n",
      "recent_00032 annotator2_recent_00032_correct\n",
      "recent_00032.txt\n"
     ]
    },
    {
     "name": "stderr",
     "output_type": "stream",
     "text": [
      "DEBUG:urllib3.connectionpool:https://huggingface.co:443 \"HEAD /sschet/bert-base-uncased_clinical-ner/resolve/main/vocab.txt HTTP/1.1\" 200 0\n",
      "DEBUG:urllib3.connectionpool:https://huggingface.co:443 \"HEAD /sschet/bert-base-uncased_clinical-ner/resolve/main/config.json HTTP/1.1\" 200 0\n",
      "DEBUG:urllib3.connectionpool:https://huggingface.co:443 \"HEAD /sschet/bert-base-uncased_clinical-ner/resolve/main/vocab.txt HTTP/1.1\" 200 0\n"
     ]
    },
    {
     "name": "stdout",
     "output_type": "stream",
     "text": [
      "3 64 220 4\n",
      "annotated_num: 8\n",
      "[['MS', 'test'], ['MS', 'B-RRMS']]\n",
      "[['MULTIPLE', 'problem'], ['MULTIPLE', 'I-RRMS']]\n",
      "[['SCLEROSIS', 'problem'], ['SCLEROSIS', 'I-RRMS']]\n",
      "inscope: 3\n",
      "recent_00033 annotator2_recent_00033_correct\n",
      "recent_00033.txt\n"
     ]
    },
    {
     "name": "stderr",
     "output_type": "stream",
     "text": [
      "DEBUG:urllib3.connectionpool:https://huggingface.co:443 \"HEAD /sschet/bert-base-uncased_clinical-ner/resolve/main/config.json HTTP/1.1\" 200 0\n",
      "DEBUG:urllib3.connectionpool:https://huggingface.co:443 \"HEAD /sschet/bert-base-uncased_clinical-ner/resolve/main/vocab.txt HTTP/1.1\" 200 0\n"
     ]
    },
    {
     "name": "stdout",
     "output_type": "stream",
     "text": [
      "4 586 704 1\n",
      "annotated_num: 8\n",
      "[['Multiple', 'problem'], ['Multiple', 'B-SPMS']]\n",
      "[['sclerosis', 'problem'], ['sclerosis', 'I-SPMS']]\n",
      "[['MS', 'problem'], ['MS', 'B-SPMS']]\n",
      "[['EDSS', 'test'], ['EDSS', 'B-EDSS']]\n",
      "inscope: 4\n",
      "recent_00034 annotator2_recent_00034_correct\n",
      "recent_00034.txt\n"
     ]
    },
    {
     "name": "stderr",
     "output_type": "stream",
     "text": [
      "DEBUG:urllib3.connectionpool:https://huggingface.co:443 \"HEAD /sschet/bert-base-uncased_clinical-ner/resolve/main/config.json HTTP/1.1\" 200 0\n",
      "DEBUG:urllib3.connectionpool:https://huggingface.co:443 \"HEAD /sschet/bert-base-uncased_clinical-ner/resolve/main/vocab.txt HTTP/1.1\" 200 0\n"
     ]
    },
    {
     "name": "stdout",
     "output_type": "stream",
     "text": [
      "19 811 731 15\n",
      "annotated_num: 36\n",
      "[['progressive', 'problem'], ['progressive', 'I-SPMS']]\n",
      "[['multiple', 'problem'], ['multiple', 'I-SPMS']]\n",
      "[['sclerosis', 'problem'], ['sclerosis', 'I-SPMS']]\n",
      "[['progressive', 'problem'], ['progressive', 'I-SPMS']]\n",
      "[['multiple', 'problem'], ['multiple', 'I-SPMS']]\n",
      "[['sclerosis', 'problem'], ['sclerosis', 'I-SPMS']]\n",
      "[['MS', 'problem'], ['MS', 'B-Temporal_history_of_relapse']]\n",
      "[[',', 'problem'], [',', 'I-Relapse_relative_date']]\n",
      "[['Scale', 'test'], ['Scale', 'I-EDSS']]\n",
      "[['EDSS', 'test'], ['EDSS', 'B-EDSS']]\n",
      "[['EDSS', 'test'], ['EDSS', 'B-EDSS']]\n",
      "[['multiple', 'problem'], ['multiple', 'B-SPMS']]\n",
      "[['sclerosis', 'problem'], ['sclerosis', 'I-SPMS']]\n",
      "[['multiple', 'problem'], ['multiple', 'B-SPMS']]\n",
      "[['sclerosis', 'problem'], ['sclerosis', 'I-SPMS']]\n",
      "[['secondary', 'problem'], ['secondary', 'B-SPMS']]\n",
      "[['progressive', 'problem'], ['progressive', 'I-SPMS']]\n",
      "[['multiple', 'problem'], ['multiple', 'I-SPMS']]\n",
      "[['sclerosis', 'problem'], ['sclerosis', 'I-SPMS']]\n",
      "inscope: 19\n",
      "recent_00035 annotator2_recent_00035_correct\n",
      "recent_00035.txt\n"
     ]
    },
    {
     "name": "stderr",
     "output_type": "stream",
     "text": [
      "DEBUG:urllib3.connectionpool:https://huggingface.co:443 \"HEAD /sschet/bert-base-uncased_clinical-ner/resolve/main/config.json HTTP/1.1\" 200 0\n",
      "DEBUG:urllib3.connectionpool:https://huggingface.co:443 \"HEAD /sschet/bert-base-uncased_clinical-ner/resolve/main/vocab.txt HTTP/1.1\" 200 0\n"
     ]
    },
    {
     "name": "stdout",
     "output_type": "stream",
     "text": [
      "1 250 609 3\n",
      "annotated_num: 4\n",
      "[['MS', 'problem'], ['MS', 'I-MS_no_subtype']]\n",
      "inscope: 1\n",
      "recent_00036 annotator2_recent_00036_correct\n",
      "recent_00036.txt\n"
     ]
    },
    {
     "name": "stderr",
     "output_type": "stream",
     "text": [
      "DEBUG:urllib3.connectionpool:https://huggingface.co:443 \"HEAD /sschet/bert-base-uncased_clinical-ner/resolve/main/config.json HTTP/1.1\" 200 0\n",
      "DEBUG:urllib3.connectionpool:https://huggingface.co:443 \"HEAD /sschet/bert-base-uncased_clinical-ner/resolve/main/vocab.txt HTTP/1.1\" 200 0\n"
     ]
    },
    {
     "name": "stdout",
     "output_type": "stream",
     "text": [
      "17 394 821 7\n",
      "annotated_num: 26\n",
      "[['MS', 'problem'], ['MS', 'B-SPMS']]\n",
      "[['MS', 'problem'], ['MS', 'B-SPMS']]\n",
      "[['-', 'problem'], ['-', 'I-SPMS']]\n",
      "[['MS', 'problem'], ['MS', 'B-SPMS']]\n",
      "[['secondarily', 'problem'], ['secondarily', 'I-SPMS']]\n",
      "[['progressive', 'problem'], ['progressive', 'I-SPMS']]\n",
      "[['3', 'problem'], ['3', 'B-Temporal_history_of_relapse']]\n",
      "[['attacks', 'problem'], ['attacks', 'I-Temporal_history_of_relapse']]\n",
      "[['progressive', 'problem'], ['progressive', 'I-SPMS']]\n",
      "[['relapse', 'problem'], ['relapse', 'B-Temporal_history_of_relapse']]\n",
      "[['brainstem', 'test'], ['brainstem', 'I-Temporal_history_of_relapse']]\n",
      "[['secondary', 'problem'], ['secondary', 'B-SPMS']]\n",
      "[['EDSS', 'test'], ['EDSS', 'B-EDSS']]\n",
      "[['MULTIPLE', 'problem'], ['MULTIPLE', 'B-SPMS']]\n",
      "[['SCLEROSIS', 'problem'], ['SCLEROSIS', 'I-SPMS']]\n",
      "[['PROGRESSIVE', 'problem'], ['PROGRESSIVE', 'I-SPMS']]\n",
      "[['progressive', 'problem'], ['progressive', 'I-SPMS']]\n",
      "inscope: 17\n",
      "recent_00037 annotator2_recent_00037_correct\n",
      "recent_00037.txt\n"
     ]
    },
    {
     "name": "stderr",
     "output_type": "stream",
     "text": [
      "DEBUG:urllib3.connectionpool:https://huggingface.co:443 \"HEAD /sschet/bert-base-uncased_clinical-ner/resolve/main/config.json HTTP/1.1\" 200 0\n",
      "DEBUG:urllib3.connectionpool:https://huggingface.co:443 \"HEAD /sschet/bert-base-uncased_clinical-ner/resolve/main/vocab.txt HTTP/1.1\" 200 0\n"
     ]
    },
    {
     "name": "stdout",
     "output_type": "stream",
     "text": [
      "8 122 201 5\n",
      "annotated_num: 13\n",
      "[['multiple', 'problem'], ['multiple', 'B-RRMS']]\n",
      "[['sclerosis', 'problem'], ['sclerosis', 'I-RRMS']]\n",
      "[['MULTIPLE', 'problem'], ['MULTIPLE', 'B-RRMS']]\n",
      "[['SCLEROSIS', 'problem'], ['SCLEROSIS', 'I-RRMS']]\n",
      "[['MS', 'problem'], ['MS', 'B-RRMS']]\n",
      "[['MS', 'problem'], ['MS', 'B-RRMS']]\n",
      "[['MULTIPLE', 'problem'], ['MULTIPLE', 'I-RRMS']]\n",
      "[['SCLEROSIS', 'problem'], ['SCLEROSIS', 'I-RRMS']]\n",
      "inscope: 8\n",
      "recent_00038 annotator2_recent_00038_correct\n",
      "recent_00038.txt\n"
     ]
    },
    {
     "name": "stderr",
     "output_type": "stream",
     "text": [
      "DEBUG:urllib3.connectionpool:https://huggingface.co:443 \"HEAD /sschet/bert-base-uncased_clinical-ner/resolve/main/config.json HTTP/1.1\" 200 0\n",
      "DEBUG:urllib3.connectionpool:https://huggingface.co:443 \"HEAD /sschet/bert-base-uncased_clinical-ner/resolve/main/vocab.txt HTTP/1.1\" 200 0\n"
     ]
    },
    {
     "name": "stdout",
     "output_type": "stream",
     "text": [
      "12 113 258 4\n",
      "annotated_num: 16\n",
      "[['MS', 'problem'], ['MS', 'B-RRMS']]\n",
      "[['multiple', 'problem'], ['multiple', 'B-RRMS']]\n",
      "[['sclerosis', 'problem'], ['sclerosis', 'I-RRMS']]\n",
      "[['Multiple', 'problem'], ['Multiple', 'B-RRMS']]\n",
      "[['sclerosis', 'problem'], ['sclerosis', 'I-RRMS']]\n",
      "[['MS', 'problem'], ['MS', 'B-RRMS']]\n",
      "[['MULTIPLE', 'problem'], ['MULTIPLE', 'B-RRMS']]\n",
      "[['SCLEROSIS', 'problem'], ['SCLEROSIS', 'I-RRMS']]\n",
      "[['MS', 'problem'], ['MS', 'B-RRMS']]\n",
      "[['MS', 'problem'], ['MS', 'B-RRMS']]\n",
      "[['MULTIPLE', 'problem'], ['MULTIPLE', 'I-RRMS']]\n",
      "[['SCLEROSIS', 'problem'], ['SCLEROSIS', 'I-RRMS']]\n",
      "inscope: 12\n",
      "recent_00039 annotator2_recent_00039_correct\n",
      "recent_00039.txt\n"
     ]
    },
    {
     "name": "stderr",
     "output_type": "stream",
     "text": [
      "DEBUG:urllib3.connectionpool:https://huggingface.co:443 \"HEAD /sschet/bert-base-uncased_clinical-ner/resolve/main/config.json HTTP/1.1\" 200 0\n",
      "DEBUG:urllib3.connectionpool:https://huggingface.co:443 \"HEAD /sschet/bert-base-uncased_clinical-ner/resolve/main/vocab.txt HTTP/1.1\" 200 0\n"
     ]
    },
    {
     "name": "stdout",
     "output_type": "stream",
     "text": [
      "2 731 703 3\n",
      "annotated_num: 7\n",
      "[['sclerosis', 'problem'], ['sclerosis', 'I-RRMS']]\n",
      "[['MS', 'test'], ['MS', 'B-RRMS']]\n",
      "inscope: 2\n",
      "recent_00040 annotator2_recent_00040_correct\n",
      "recent_00040.txt\n"
     ]
    },
    {
     "name": "stderr",
     "output_type": "stream",
     "text": [
      "DEBUG:urllib3.connectionpool:https://huggingface.co:443 \"HEAD /sschet/bert-base-uncased_clinical-ner/resolve/main/config.json HTTP/1.1\" 200 0\n",
      "DEBUG:urllib3.connectionpool:https://huggingface.co:443 \"HEAD /sschet/bert-base-uncased_clinical-ner/resolve/main/vocab.txt HTTP/1.1\" 200 0\n"
     ]
    },
    {
     "name": "stdout",
     "output_type": "stream",
     "text": [
      "1 107 466 2\n",
      "annotated_num: 9\n",
      "[['RRMS', 'problem'], ['RRMS', 'B-RRMS']]\n",
      "inscope: 1\n",
      "recent_00041 annotator2_recent_00041_correct\n",
      "recent_00041.txt\n"
     ]
    },
    {
     "name": "stderr",
     "output_type": "stream",
     "text": [
      "DEBUG:urllib3.connectionpool:https://huggingface.co:443 \"HEAD /sschet/bert-base-uncased_clinical-ner/resolve/main/config.json HTTP/1.1\" 200 0\n",
      "DEBUG:urllib3.connectionpool:https://huggingface.co:443 \"HEAD /sschet/bert-base-uncased_clinical-ner/resolve/main/vocab.txt HTTP/1.1\" 200 0\n"
     ]
    },
    {
     "name": "stdout",
     "output_type": "stream",
     "text": [
      "8 736 721 2\n",
      "annotated_num: 11\n",
      "[['Multiple', 'problem'], ['Multiple', 'B-RRMS']]\n",
      "[['sclerosis', 'problem'], ['sclerosis', 'I-RRMS']]\n",
      "[['multiple', 'problem'], ['multiple', 'B-RRMS']]\n",
      "[['sclerosis', 'problem'], ['sclerosis', 'I-RRMS']]\n",
      "[['Multiple', 'problem'], ['Multiple', 'B-RRMS']]\n",
      "[['sclerosis', 'problem'], ['sclerosis', 'I-RRMS']]\n",
      "[['MS', 'problem'], ['MS', 'B-RRMS']]\n",
      "[['EDSS', 'test'], ['EDSS', 'B-EDSS']]\n",
      "inscope: 8\n",
      "recent_00042 annotator2_recent_00042_correct\n",
      "recent_00042.txt\n"
     ]
    },
    {
     "name": "stderr",
     "output_type": "stream",
     "text": [
      "DEBUG:urllib3.connectionpool:https://huggingface.co:443 \"HEAD /sschet/bert-base-uncased_clinical-ner/resolve/main/config.json HTTP/1.1\" 200 0\n",
      "DEBUG:urllib3.connectionpool:https://huggingface.co:443 \"HEAD /sschet/bert-base-uncased_clinical-ner/resolve/main/vocab.txt HTTP/1.1\" 200 0\n"
     ]
    },
    {
     "name": "stdout",
     "output_type": "stream",
     "text": [
      "16 450 724 12\n",
      "annotated_num: 30\n",
      "[['-', 'problem'], ['-', 'I-RRMS']]\n",
      "[['multiple', 'problem'], ['multiple', 'I-RRMS']]\n",
      "[['sclerosis', 'problem'], ['sclerosis', 'I-RRMS']]\n",
      "[['MS', 'problem'], ['MS', 'B-RRMS']]\n",
      "[['episode', 'problem'], ['episode', 'I-Temporal_history_of_relapse']]\n",
      "[['relapse', 'problem'], ['relapse', 'I-Temporal_history_of_relapse']]\n",
      "[['multiple', 'problem'], ['multiple', 'B-RRMS']]\n",
      "[['sclerosis', 'problem'], ['sclerosis', 'I-RRMS']]\n",
      "[['-', 'problem'], ['-', 'I-RRMS']]\n",
      "[['EDSS', 'test'], ['EDSS', 'B-EDSS']]\n",
      "[['multiple', 'problem'], ['multiple', 'I-RRMS']]\n",
      "[['sclerosis', 'problem'], ['sclerosis', 'I-RRMS']]\n",
      "[['stable', 'problem'], ['stable', 'I-RRMS']]\n",
      "[['secondary', 'problem'], ['secondary', 'I-RRMS']]\n",
      "[['progressive', 'problem'], ['progressive', 'I-RRMS']]\n",
      "[['MS', 'problem'], ['MS', 'I-RRMS']]\n",
      "inscope: 16\n",
      "recent_00043 annotator2_recent_00043_correct\n",
      "recent_00043.txt\n"
     ]
    },
    {
     "name": "stderr",
     "output_type": "stream",
     "text": [
      "DEBUG:urllib3.connectionpool:https://huggingface.co:443 \"HEAD /sschet/bert-base-uncased_clinical-ner/resolve/main/config.json HTTP/1.1\" 200 0\n",
      "DEBUG:urllib3.connectionpool:https://huggingface.co:443 \"HEAD /sschet/bert-base-uncased_clinical-ner/resolve/main/vocab.txt HTTP/1.1\" 200 0\n"
     ]
    },
    {
     "name": "stdout",
     "output_type": "stream",
     "text": [
      "4 39 85 1\n",
      "annotated_num: 6\n",
      "[['Primary', 'problem'], ['Primary', 'B-PPMS']]\n",
      "[['Progressive', 'problem'], ['Progressive', 'I-PPMS']]\n",
      "[['Multiple', 'problem'], ['Multiple', 'I-PPMS']]\n",
      "[['Sclerosis', 'problem'], ['Sclerosis', 'I-PPMS']]\n",
      "inscope: 4\n",
      "recent_00044 annotator2_recent_00044_correct\n",
      "recent_00044.txt\n"
     ]
    },
    {
     "name": "stderr",
     "output_type": "stream",
     "text": [
      "DEBUG:urllib3.connectionpool:https://huggingface.co:443 \"HEAD /sschet/bert-base-uncased_clinical-ner/resolve/main/config.json HTTP/1.1\" 200 0\n",
      "DEBUG:urllib3.connectionpool:https://huggingface.co:443 \"HEAD /sschet/bert-base-uncased_clinical-ner/resolve/main/vocab.txt HTTP/1.1\" 200 0\n"
     ]
    },
    {
     "name": "stdout",
     "output_type": "stream",
     "text": [
      "11 412 751 9\n",
      "annotated_num: 20\n",
      "[['-', 'problem'], ['-', 'I-RRMS']]\n",
      "[['multiple', 'problem'], ['multiple', 'I-RRMS']]\n",
      "[['sclerosis', 'problem'], ['sclerosis', 'I-RRMS']]\n",
      "[['exacerbation', 'problem'], ['exacerbation', 'B-Temporal_history_of_relapse']]\n",
      "[['multiple', 'problem'], ['multiple', 'B-RRMS']]\n",
      "[['sclerosis', 'problem'], ['sclerosis', 'I-RRMS']]\n",
      "[['-', 'problem'], ['-', 'I-RRMS']]\n",
      "[['EDSS', 'test'], ['EDSS', 'B-EDSS']]\n",
      "[['multiple', 'problem'], ['multiple', 'I-RRMS']]\n",
      "[['sclerosis', 'problem'], ['sclerosis', 'I-RRMS']]\n",
      "[['MS', 'problem'], ['MS', 'B-RRMS']]\n",
      "inscope: 11\n",
      "recent_00046 annotator2_recent_00046_correct\n",
      "recent_00046.txt\n"
     ]
    },
    {
     "name": "stderr",
     "output_type": "stream",
     "text": [
      "DEBUG:urllib3.connectionpool:https://huggingface.co:443 \"HEAD /sschet/bert-base-uncased_clinical-ner/resolve/main/config.json HTTP/1.1\" 200 0\n",
      "DEBUG:urllib3.connectionpool:https://huggingface.co:443 \"HEAD /sschet/bert-base-uncased_clinical-ner/resolve/main/vocab.txt HTTP/1.1\" 200 0\n"
     ]
    },
    {
     "name": "stdout",
     "output_type": "stream",
     "text": [
      "3 120 200 1\n",
      "annotated_num: 5\n",
      "[['MS', 'test'], ['MS', 'B-RRMS']]\n",
      "[['EDSS', 'test'], ['EDSS', 'B-EDSS']]\n",
      "[['MS', 'test'], ['MS', 'B-RRMS']]\n",
      "inscope: 3\n",
      "recent_00047 annotator2_recent_00047_correct\n",
      "recent_00047.txt\n"
     ]
    },
    {
     "name": "stderr",
     "output_type": "stream",
     "text": [
      "DEBUG:urllib3.connectionpool:https://huggingface.co:443 \"HEAD /sschet/bert-base-uncased_clinical-ner/resolve/main/config.json HTTP/1.1\" 200 0\n",
      "DEBUG:urllib3.connectionpool:https://huggingface.co:443 \"HEAD /sschet/bert-base-uncased_clinical-ner/resolve/main/vocab.txt HTTP/1.1\" 200 0\n"
     ]
    },
    {
     "name": "stdout",
     "output_type": "stream",
     "text": [
      "10 605 834 0\n",
      "annotated_num: 11\n",
      "[['Progressive', 'problem'], ['Progressive', 'B-SPMS']]\n",
      "[['MS', 'problem'], ['MS', 'I-SPMS']]\n",
      "[['multiple', 'problem'], ['multiple', 'B-SPMS']]\n",
      "[['sclerosis', 'problem'], ['sclerosis', 'I-SPMS']]\n",
      "[['Multiple', 'problem'], ['Multiple', 'B-SPMS']]\n",
      "[['sclerosis', 'problem'], ['sclerosis', 'I-SPMS']]\n",
      "[['MS', 'problem'], ['MS', 'B-SPMS']]\n",
      "[['Progressive', 'problem'], ['Progressive', 'B-SPMS']]\n",
      "[['MS', 'problem'], ['MS', 'I-SPMS']]\n",
      "[['EDSS', 'test'], ['EDSS', 'B-EDSS']]\n",
      "inscope: 10\n",
      "recent_00048 annotator2_recent_00048_correct\n",
      "recent_00048.txt\n"
     ]
    },
    {
     "name": "stderr",
     "output_type": "stream",
     "text": [
      "DEBUG:urllib3.connectionpool:https://huggingface.co:443 \"HEAD /sschet/bert-base-uncased_clinical-ner/resolve/main/config.json HTTP/1.1\" 200 0\n",
      "DEBUG:urllib3.connectionpool:https://huggingface.co:443 \"HEAD /sschet/bert-base-uncased_clinical-ner/resolve/main/vocab.txt HTTP/1.1\" 200 0\n"
     ]
    },
    {
     "name": "stdout",
     "output_type": "stream",
     "text": [
      "4 231 614 1\n",
      "annotated_num: 5\n",
      "[['MS', 'problem'], ['MS', 'B-MS_no_subtype']]\n",
      "[['MS', 'problem'], ['MS', 'B-MS_no_subtype']]\n",
      "[['MS', 'problem'], ['MS', 'B-MS_no_subtype']]\n",
      "[['EDSS', 'test'], ['EDSS', 'B-EDSS']]\n",
      "inscope: 4\n",
      "recent_00049 annotator2_recent_00049_correct\n",
      "recent_00049.txt\n"
     ]
    },
    {
     "name": "stderr",
     "output_type": "stream",
     "text": [
      "DEBUG:urllib3.connectionpool:https://huggingface.co:443 \"HEAD /sschet/bert-base-uncased_clinical-ner/resolve/main/config.json HTTP/1.1\" 200 0\n",
      "DEBUG:urllib3.connectionpool:https://huggingface.co:443 \"HEAD /sschet/bert-base-uncased_clinical-ner/resolve/main/vocab.txt HTTP/1.1\" 200 0\n"
     ]
    },
    {
     "name": "stdout",
     "output_type": "stream",
     "text": [
      "5 680 801 4\n",
      "annotated_num: 9\n",
      "[['MS', 'problem'], ['MS', 'B-RRMS']]\n",
      "[['EDSS', 'test'], ['EDSS', 'B-EDSS']]\n",
      "[['-', 'problem'], ['-', 'I-RRMS']]\n",
      "[['multiple', 'problem'], ['multiple', 'I-RRMS']]\n",
      "[['sclerosis', 'problem'], ['sclerosis', 'I-RRMS']]\n",
      "inscope: 5\n",
      "recent_00050 annotator2_recent_00050_correct\n",
      "recent_00050.txt\n"
     ]
    },
    {
     "name": "stderr",
     "output_type": "stream",
     "text": [
      "DEBUG:urllib3.connectionpool:https://huggingface.co:443 \"HEAD /sschet/bert-base-uncased_clinical-ner/resolve/main/config.json HTTP/1.1\" 200 0\n"
     ]
    },
    {
     "name": "stdout",
     "output_type": "stream",
     "text": [
      "12 636 1104 5\n",
      "annotated_num: 20\n",
      "[['multiple', 'problem'], ['multiple', 'B-RRMS']]\n",
      "[['sclerosis', 'problem'], ['sclerosis', 'I-RRMS']]\n",
      "[['RRMS', 'problem'], ['RRMS', 'B-RRMS']]\n",
      "[['MS', 'problem'], ['MS', 'B-RRMS']]\n",
      "[['attacks', 'problem'], ['attacks', 'B-Temporal_history_of_relapse']]\n",
      "[['EDSS', 'test'], ['EDSS', 'B-EDSS']]\n",
      "[['EDSS', 'test'], ['EDSS', 'B-EDSS']]\n",
      "[['Multiple', 'problem'], ['Multiple', 'B-RRMS']]\n",
      "[['Sclerosis', 'problem'], ['Sclerosis', 'I-RRMS']]\n",
      "[['RRMS', 'problem'], ['RRMS', 'B-RRMS']]\n",
      "[['EDSS', 'test'], ['EDSS', 'B-EDSS']]\n",
      "[['MS', 'problem'], ['MS', 'B-RRMS']]\n",
      "inscope: 12\n",
      ".ipynb_checkpoints .ipynb_checkpoints\n",
      ".ipynb_checkpoints\n"
     ]
    },
    {
     "data": {
      "text/html": [
       "<pre style=\"white-space:pre;overflow-x:auto;line-height:normal;font-family:Menlo,'DejaVu Sans Mono',consolas,'Courier New',monospace\"><span style=\"color: #800000; text-decoration-color: #800000\">╭─────────────────────────────── </span><span style=\"color: #800000; text-decoration-color: #800000; font-weight: bold\">Traceback </span><span style=\"color: #bf7f7f; text-decoration-color: #bf7f7f; font-weight: bold\">(most recent call last)</span><span style=\"color: #800000; text-decoration-color: #800000\"> ────────────────────────────────╮</span>\n",
       "<span style=\"color: #800000; text-decoration-color: #800000\">│</span> in <span style=\"color: #00ff00; text-decoration-color: #00ff00\">&lt;module&gt;</span>:<span style=\"color: #0000ff; text-decoration-color: #0000ff\">275</span>                                                                                  <span style=\"color: #800000; text-decoration-color: #800000\">│</span>\n",
       "<span style=\"color: #800000; text-decoration-color: #800000\">│</span> in <span style=\"color: #00ff00; text-decoration-color: #00ff00\">ner</span>:<span style=\"color: #0000ff; text-decoration-color: #0000ff\">18</span>                                                                                        <span style=\"color: #800000; text-decoration-color: #800000\">│</span>\n",
       "<span style=\"color: #800000; text-decoration-color: #800000\">╰──────────────────────────────────────────────────────────────────────────────────────────────────╯</span>\n",
       "<span style=\"color: #ff0000; text-decoration-color: #ff0000; font-weight: bold\">IsADirectoryError: </span><span style=\"font-weight: bold\">[</span>Errno <span style=\"color: #008080; text-decoration-color: #008080; font-weight: bold\">21</span><span style=\"font-weight: bold\">]</span> Is a directory: <span style=\"color: #008000; text-decoration-color: #008000\">'/host/Sahithi/myenv/input/input/.ipynb_checkpoints'</span>\n",
       "</pre>\n"
      ],
      "text/plain": [
       "\u001b[31m╭─\u001b[0m\u001b[31m──────────────────────────────\u001b[0m\u001b[31m \u001b[0m\u001b[1;31mTraceback \u001b[0m\u001b[1;2;31m(most recent call last)\u001b[0m\u001b[31m \u001b[0m\u001b[31m───────────────────────────────\u001b[0m\u001b[31m─╮\u001b[0m\n",
       "\u001b[31m│\u001b[0m in \u001b[92m<module>\u001b[0m:\u001b[94m275\u001b[0m                                                                                  \u001b[31m│\u001b[0m\n",
       "\u001b[31m│\u001b[0m in \u001b[92mner\u001b[0m:\u001b[94m18\u001b[0m                                                                                        \u001b[31m│\u001b[0m\n",
       "\u001b[31m╰──────────────────────────────────────────────────────────────────────────────────────────────────╯\u001b[0m\n",
       "\u001b[1;91mIsADirectoryError: \u001b[0m\u001b[1m[\u001b[0mErrno \u001b[1;36m21\u001b[0m\u001b[1m]\u001b[0m Is a directory: \u001b[32m'/host/Sahithi/myenv/input/input/.ipynb_checkpoints'\u001b[0m\n"
      ]
     },
     "metadata": {},
     "output_type": "display_data"
    }
   ],
   "source": [
    "def ner(f,f1,a1):\n",
    "    from simpletransformers.ner import NERModel\n",
    "    import pandas as pd\n",
    "    import logging\n",
    "    import re\n",
    "    from nltk.tokenize import TreebankWordTokenizer, sent_tokenize\n",
    "    from transformers import pipeline\n",
    "    from transformers import AutoTokenizer, AutoModelForTokenClassification\n",
    "    import openpyxl\n",
    "    from openpyxl import load_workbook\n",
    "    logging.basicConfig(level=logging.DEBUG)\n",
    "    transformers_logger = logging.getLogger('transformers')\n",
    "    transformers_logger.setLevel(logging.WARNING)\n",
    "\n",
    "    \n",
    "   \n",
    "    file=\"/host/Sahithi/myenv/input/input/\"+f1\n",
    "    with open(file, \"r\") as cur:\n",
    "        text=cur.read()\n",
    "        #preprocessing of data\n",
    "    exceptions = {\n",
    "            r'\\d+mg': r'\\g<0> |\\g<1>',\n",
    "            r'\\d+:\\d+': r'\\g<0>',\n",
    "            r'[\\,\\-\\(\\)]': r' \\g<0> ',\n",
    "            r'(?<!\\d)\\d+\\.\\d+(?!\\d)': r'\\g<0>',\n",
    "            r'\\d+/\\d+': r'\\g<0>',\n",
    "            r'\\d{1,2}[/-]\\d{1,2}[/-]\\d{2,4}': r'\\g<0>',\n",
    "            r'[A-Za-z]\\d': r'\\g<0>',\n",
    "            r'[^\\.\\s]\\.[^\\.\\s]': r'\\g<0>',\n",
    "            r'\\d+\\.\\d+':r'\\g<0>',\n",
    "        }\n",
    "    tokenizer = TreebankWordTokenizer()\n",
    "    tokens = tokenizer.tokenize(text)\n",
    "    processed_tokens = []\n",
    "\n",
    "    a = [\"COVID-19\", \"4/5Unable\", \"workstation:<ID\", \"patientÂ\\x92s\"]\n",
    "    sentences = [] # List to store processed sentences\n",
    "\n",
    "    for token in tokens:\n",
    "        if token in a:\n",
    "            processed_tokens.append(token)\n",
    "        elif token not in exceptions and (\":\" in token or \",\" in token or \"/\" in token or \".\" in token or \"<\" in token or \">\" in token or \"-\" in token):\n",
    "            if re.match(r'\\d+/\\d+', token) or re.match(r'\\d+:\\d+', token):\n",
    "                processed_tokens.append(token)\n",
    "            elif re.match(r'(?<!\\d)\\d+\\.\\d+(?!\\d)', token):\n",
    "                processed_tokens.append(token)\n",
    "            else:\n",
    "                split_tokens = re.split(r'(:|,|/|\\.|<|>|-)', token)\n",
    "                processed_tokens.extend([t for t in split_tokens if t])\n",
    "        elif token in exceptions:\n",
    "            processed_tokens.append(exceptions[token])\n",
    "        else:\n",
    "            processed_tokens.append(token)\n",
    "\n",
    "        # Iterate over sentences and append processed tokens\n",
    "    current_sentence =\"\"\n",
    "    sentences=\"\"\n",
    "    for token in processed_tokens:\n",
    "        current_sentence=current_sentence+\" \"+token\n",
    "\n",
    "        if token.endswith('.') or token.endswith('!') or token.endswith('?'):\n",
    "            sentences=sentences+\" \"+current_sentence\n",
    "            current_sentence=\"\"\n",
    "\n",
    "    # Append the remaining tokens as the last sentence\n",
    "    if current_sentence:\n",
    "        sentences=sentences+current_sentence\n",
    "    c=[]\n",
    "        #splitting the total sentences with maximum length as 350 (can be done with any length)\n",
    "    def process_input(s, max_length):\n",
    "        if len(s) <= max_length:\n",
    "            c.append(s)\n",
    "        else:\n",
    "            while len(s) > 0:\n",
    "                chunk = s[:max_length] \n",
    "                c.append(chunk)\n",
    "                s = s[max_length:]\n",
    "\n",
    "\n",
    "    max_length = 350\n",
    "    process_input(sentences, max_length)\n",
    "\n",
    "\n",
    "\n",
    "    # Annotated file for each document\n",
    "    a2=\"/host/Sahithi/myenv/output_entity/\"+a1\n",
    "    df = pd.read_csv(a2, delimiter='\\n', header=None, quoting=3)\n",
    "    annotated_text = df[0].tolist()\n",
    "    a = []\n",
    "    for i in annotated_text:\n",
    "        b = i.split(' ')\n",
    "        a.append(b)\n",
    "\n",
    "\n",
    "\n",
    "    from transformers import BertTokenizer,BertForTokenClassification\n",
    "    tokenizer = BertTokenizer.from_pretrained(\"sschet/bert-base-uncased_clinical-ner\")\n",
    "    model = BertForTokenClassification.from_pretrained(\"sschet/bert-base-uncased_clinical-ner\")\n",
    "    pipe = pipeline(\"ner\", model=model, tokenizer=tokenizer, aggregation_strategy=\"simple\")\n",
    "    x=[]\n",
    "    p=[]\n",
    "    for i in c: #c is the chunks of the data with max limit 350\n",
    "        p.extend(pipe(i))\n",
    "    #predicted ones\n",
    "   \n",
    " #combining predictions dictioneries of the chunks into a list\n",
    "    predicted_tokens = []\n",
    "    ch=[]\n",
    "    predicted_tokens=[]\n",
    "    ch1=[]\n",
    "    for k in c:\n",
    "        ch.extend(k.split(\"/n\")) #splitting with respect to line\n",
    "    for i in ch:\n",
    "        ch1.extend(i.split(\" \")) #splitting with resepect to space\n",
    "    while (ch1.count('')):\n",
    "        ch1.remove('')\n",
    "       \n",
    "  \n",
    "    flag=''\n",
    "    for i in ch1:\n",
    "        for  j in p:\n",
    "            if i.lower()==j['word'] or i.lower() in j['word'] :\n",
    "                predicted_tokens.append([i,j['entity_group']])\n",
    "                flag='true'\n",
    "                break\n",
    "            else:\n",
    "                flag='false'\n",
    "        if flag=='false':\n",
    "            predicted_tokens.append([i,'O'])\n",
    "\n",
    "\n",
    "            \n",
    "    annotated_tokens = [[item[0],item[3]] for item in a] \n",
    "    annotated_num=0\n",
    "    for i in annotated_tokens:\n",
    "        if(i[1]!='O'):\n",
    "            annotated_num+=1 #counting the number of annotated tokens in the conll file\n",
    "\n",
    "\n",
    "    tp = []\n",
    "    tn = []\n",
    "    fp = []\n",
    "    fn = []\n",
    "    p=predicted_tokens\n",
    "    an=annotated_tokens\n",
    "    for item in predicted_tokens:\n",
    "        count = 0\n",
    "        for items in annotated_tokens:\n",
    "            if item[0] == items[0]: \n",
    "\n",
    "                count = 1\n",
    "                if (item[1] == 'O') & (items[1]=='O'):\n",
    "                    tn.append([item,items])\n",
    "                    annotated_tokens.remove(items)\n",
    "                    break\n",
    "                elif (item[1]==\"problem\" or item[1]=='test' ) & (items[1]!='O'):\n",
    "                    tp.append([item,items])\n",
    "                    annotated_tokens.remove(items)\n",
    "                    break\n",
    "                elif (item[1]==\"problem\" or item[1]=='test') & (items[1]=='O'):\n",
    "                    fp.append([item,items])\n",
    "                    annotated_tokens.remove(items)\n",
    "                    break\n",
    "                elif (item[1] == 'O') & (items[1]!='O'):\n",
    "                    fn.append([item,items])\n",
    "                    annotated_tokens.remove(items)\n",
    "                    break\n",
    "\n",
    "        if count == 0:\n",
    "\n",
    "            if  item[1]=='problem' or item[1]=='test':\n",
    "                fp.append([[item,[item[0],'O']]])\n",
    "            elif item[1] == 'O':\n",
    "                tn.append([[item,[item[0],'O']]])\n",
    "            \n",
    "    print(len(tp),len(fp),len(tn),len(fn))\n",
    "    \n",
    "    inscope=0\n",
    "    flag=False\n",
    "    anno=0\n",
    "    if(len(tp)==0 or len(fp)==0 or len(tn)==0 ):\n",
    "        print(\"somevalue is zero\")    \n",
    "    else:\n",
    "        \n",
    "        flag=True\n",
    "\n",
    "        total=[]\n",
    "        [total.extend(l) for l in (tp,tn,fp,fn)]\n",
    "\n",
    "        token=[]\n",
    "        predict=[]\n",
    "        annot=[]\n",
    "        for i in total:\n",
    "            if(len(i)==2):\n",
    "                token.append(i[0][0])\n",
    "                predict.append(i[0][1])\n",
    "                annot.append(i[1][1])\n",
    "            elif(len(i)==1):\n",
    "                for j in i:\n",
    "                    token.append(j[0][0])\n",
    "                    predict.append(j[0][1])\n",
    "                    annot.append(j[1][1])\n",
    "\n",
    "        output=pd.DataFrame({\n",
    "                        'token':token,\n",
    "                        'predictions':predict,\n",
    "                        'annotated':annot,\n",
    "                    })\n",
    "        \n",
    "\n",
    "        print(\"annotated_num:\",annotated_num)\n",
    "\n",
    "        \n",
    "        for i in total:\n",
    "            if(len(i)==2):\n",
    "                if(i[0][1]!='O' and i[1][1]!='O'):\n",
    "                    inscope=inscope+1\n",
    "                    print(i)\n",
    "            elif len(i)==1:\n",
    "                for j in i:\n",
    "                    if(j[0][1]!='O' and j[1][1]!='O'):\n",
    "                        inscope=inscope+1\n",
    "                        print(j)\n",
    "        print(\"inscope:\",inscope)\n",
    "        \n",
    "            \n",
    "        \n",
    "        \n",
    "    return len(token),annotated_num,inscope,flag,len(tp),len(tn),len(fp),len(fn)\n",
    "\n",
    "    \n",
    "\n",
    "import os\n",
    "files = os.listdir('/host/Sahithi/myenv/input/input/')\n",
    "an_files=os.listdir('/host/Sahithi/myenv/output_entity/')\n",
    "tokens=0\n",
    "annotated_tokens=0\n",
    "num_file=0\n",
    "inscope_tokens=0\n",
    "tp=0\n",
    "tn=0\n",
    "fp=0\n",
    "fn=0\n",
    "for an_file in an_files:\n",
    "    f=os.path.splitext(os.path.basename(an_file))[0]\n",
    "    for file in files:\n",
    "        f1=os.path.splitext(os.path.basename(file))[0]\n",
    "        if f1 in f:\n",
    "            print(f1,f)\n",
    "            print(file)\n",
    "            if file!=\".ipynb_checkpoints\":\n",
    "                t,an,ins,flag,t1,t2,t3,t4=ner(f1,file,an_file)\n",
    "                if flag==True:\n",
    "                    tokens=tokens+t\n",
    "                    annotated_tokens+=an\n",
    "                    tp=tp+t1\n",
    "                    tn=tn+t2\n",
    "                    fp=fp+t3\n",
    "                    fn=fn+t4\n",
    "                    inscope_tokens+=ins\n",
    "                    num_file+=1\n",
    "                \n",
    "                           \n",
    "            \n",
    "precision = tp/(tp+fp)\n",
    "recall = tp/(tp+fn)\n",
    "f1 = 2*(precision*recall)/(precision+recall)  \n",
    "\n",
    "    \n"
   ]
  },
  {
   "cell_type": "code",
   "execution_count": 3,
   "metadata": {},
   "outputs": [
    {
     "name": "stdout",
     "output_type": "stream",
     "text": [
      "452 5504 3387\n"
     ]
    }
   ],
   "source": [
    "print(num_file,predicted_annotated_tokens,inscope_tokens)"
   ]
  },
  {
   "cell_type": "code",
   "execution_count": 4,
   "metadata": {},
   "outputs": [
    {
     "name": "stdout",
     "output_type": "stream",
     "text": [
      "number of files: 452\n",
      "number of  tokens: 345895\n",
      "number of annotated tokens: 0\n",
      "inscope _tokens: 3387\n",
      "true positives: 3387\n",
      "true negatives: 208482\n",
      "false positives: 132244\n",
      "false negatives: 1782\n",
      "precision: 2.497216712993342\n",
      "recall: 65.52524666279744\n",
      "f1 score: 4.811079545454545\n"
     ]
    }
   ],
   "source": [
    "print(\"number of files:\",num_file)\n",
    "print(\"number of  tokens:\",tokens)\n",
    "print(\"number of annotated tokens:\",annotated_tokens)\n",
    "print(\"inscope _tokens:\",inscope_tokens)\n",
    "print(\"true positives:\",tp)\n",
    "print(\"true negatives:\",tn)\n",
    "print(\"false positives:\",fp)\n",
    "print(\"false negatives:\",fn)\n",
    "\n",
    "\n",
    "precision = tp/(tp+fp)\n",
    "recall = tp/(tp+fn)\n",
    "f1 = 2*(precision*recall)/(precision+recall)  \n",
    "\n",
    "print(\"precision:\",precision*100)\n",
    "print(\"recall:\",recall*100)\n",
    "print(\"f1 score:\",f1*100)"
   ]
  },
  {
   "cell_type": "code",
   "execution_count": null,
   "metadata": {},
   "outputs": [],
   "source": []
  }
 ],
 "metadata": {
  "kernelspec": {
   "display_name": "Python 3",
   "language": "python",
   "name": "python3"
  },
  "language_info": {
   "codemirror_mode": {
    "name": "ipython",
    "version": 3
   },
   "file_extension": ".py",
   "mimetype": "text/x-python",
   "name": "python",
   "nbconvert_exporter": "python",
   "pygments_lexer": "ipython3",
   "version": "3.7.3"
  }
 },
 "nbformat": 4,
 "nbformat_minor": 2
}
