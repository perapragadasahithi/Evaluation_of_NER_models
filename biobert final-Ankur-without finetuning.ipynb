{
 "cells": [
  {
   "cell_type": "code",
   "execution_count": 1,
   "metadata": {
    "scrolled": true
   },
   "outputs": [
    {
     "name": "stdout",
     "output_type": "stream",
     "text": [
      "batch_04_00011 annotator2_batch_04_00011_correct\n",
      "batch_04_00011.txt\n"
     ]
    },
    {
     "name": "stderr",
     "output_type": "stream",
     "text": [
      "DEBUG:urllib3.connectionpool:Starting new HTTPS connection (1): huggingface.co:443\n",
      "DEBUG:urllib3.connectionpool:https://huggingface.co:443 \"HEAD /alvaroalon2/biobert_diseases_ner/resolve/main/tokenizer_config.json HTTP/1.1\" 200 0\n",
      "DEBUG:urllib3.connectionpool:https://huggingface.co:443 \"HEAD /alvaroalon2/biobert_diseases_ner/resolve/main/config.json HTTP/1.1\" 200 0\n",
      "DEBUG:urllib3.connectionpool:https://huggingface.co:443 \"HEAD /alvaroalon2/biobert_diseases_ner/resolve/main/tokenizer_config.json HTTP/1.1\" 200 0\n"
     ]
    },
    {
     "name": "stdout",
     "output_type": "stream",
     "text": [
      "0 35 429 1\n",
      "somevalue is zer0\n",
      "batch_05_00176 annotator2_batch_05_00176_correct\n",
      "batch_05_00176.txt\n"
     ]
    },
    {
     "name": "stderr",
     "output_type": "stream",
     "text": [
      "DEBUG:urllib3.connectionpool:https://huggingface.co:443 \"HEAD /alvaroalon2/biobert_diseases_ner/resolve/main/config.json HTTP/1.1\" 200 0\n",
      "DEBUG:urllib3.connectionpool:https://huggingface.co:443 \"HEAD /alvaroalon2/biobert_diseases_ner/resolve/main/tokenizer_config.json HTTP/1.1\" 200 0\n"
     ]
    },
    {
     "name": "stdout",
     "output_type": "stream",
     "text": [
      "4 15 541 5\n",
      "[['Multiple', 'DISEASE'], ['Multiple', 'I-Disease_Subtype']]\n",
      "[['Sclerosis', 'DISEASE'], ['Sclerosis', 'I-Disease_Subtype']]\n",
      "[['MS', 'DISEASE'], ['MS', 'B-Disease_Subtype']]\n",
      "[['MS', 'DISEASE'], ['MS', 'I-Disease_Subtype']]\n",
      "inscope: 4\n",
      "batch_05_00177 annotator2_batch_05_00177_correct\n",
      "batch_05_00177.txt\n"
     ]
    },
    {
     "name": "stderr",
     "output_type": "stream",
     "text": [
      "DEBUG:urllib3.connectionpool:https://huggingface.co:443 \"HEAD /alvaroalon2/biobert_diseases_ner/resolve/main/config.json HTTP/1.1\" 200 0\n",
      "DEBUG:urllib3.connectionpool:https://huggingface.co:443 \"HEAD /alvaroalon2/biobert_diseases_ner/resolve/main/tokenizer_config.json HTTP/1.1\" 200 0\n"
     ]
    },
    {
     "name": "stdout",
     "output_type": "stream",
     "text": [
      "5 65 571 0\n",
      "[['MS', 'DISEASE'], ['MS', 'B-Disease_Subtype']]\n",
      "[['Multiple', 'DISEASE'], ['Multiple', 'B-Disease_Subtype']]\n",
      "[['sclerosis', 'DISEASE'], ['sclerosis', 'I-Disease_Subtype']]\n",
      "[['Multiple', 'DISEASE'], ['Multiple', 'B-Disease_Subtype']]\n",
      "[['sclerosis', 'DISEASE'], ['sclerosis', 'I-Disease_Subtype']]\n",
      "inscope: 5\n",
      "batch_05_00178 annotator2_batch_05_00178_correct\n",
      "batch_05_00178.txt\n"
     ]
    },
    {
     "name": "stderr",
     "output_type": "stream",
     "text": [
      "DEBUG:urllib3.connectionpool:https://huggingface.co:443 \"HEAD /alvaroalon2/biobert_diseases_ner/resolve/main/config.json HTTP/1.1\" 200 0\n",
      "DEBUG:urllib3.connectionpool:https://huggingface.co:443 \"HEAD /alvaroalon2/biobert_diseases_ner/resolve/main/tokenizer_config.json HTTP/1.1\" 200 0\n"
     ]
    },
    {
     "name": "stdout",
     "output_type": "stream",
     "text": [
      "3 14 583 2\n",
      "[['multiple', 'DISEASE'], ['multiple', 'I-Disease_Subtype']]\n",
      "[['MS', 'DISEASE'], ['MS', 'B-Disease_Subtype']]\n",
      "[['MS', 'DISEASE'], ['MS', 'B-Disease_Subtype']]\n",
      "inscope: 3\n",
      "batch_05_00179 annotator2_batch_05_00179_correct\n",
      "batch_05_00179.txt\n"
     ]
    },
    {
     "name": "stderr",
     "output_type": "stream",
     "text": [
      "DEBUG:urllib3.connectionpool:https://huggingface.co:443 \"HEAD /alvaroalon2/biobert_diseases_ner/resolve/main/config.json HTTP/1.1\" 200 0\n",
      "DEBUG:urllib3.connectionpool:https://huggingface.co:443 \"HEAD /alvaroalon2/biobert_diseases_ner/resolve/main/tokenizer_config.json HTTP/1.1\" 200 0\n"
     ]
    },
    {
     "name": "stdout",
     "output_type": "stream",
     "text": [
      "8 29 782 20\n",
      "[['Multiple', 'DISEASE'], ['Multiple', 'B-Disease_Subtype']]\n",
      "[['Sclerosis', 'DISEASE'], ['Sclerosis', 'I-Disease_Subtype']]\n",
      "[['MS', 'DISEASE'], ['MS', 'B-Disease_Subtype']]\n",
      "[['Multiple', 'DISEASE'], ['Multiple', 'B-Disease_Subtype']]\n",
      "[['sclerosis', 'DISEASE'], ['sclerosis', 'I-Disease_Subtype']]\n",
      "[['MS', 'DISEASE'], ['MS', 'B-Disease_Subtype']]\n",
      "[['MS', 'DISEASE'], ['MS', 'B-Disease_Subtype']]\n",
      "[['MS', 'DISEASE'], ['MS', 'B-Disease_Subtype']]\n",
      "inscope: 8\n",
      "batch_05_00180 annotator2_batch_05_00180_correct\n",
      "batch_05_00180.txt\n"
     ]
    },
    {
     "name": "stderr",
     "output_type": "stream",
     "text": [
      "DEBUG:urllib3.connectionpool:https://huggingface.co:443 \"HEAD /alvaroalon2/biobert_diseases_ner/resolve/main/config.json HTTP/1.1\" 200 0\n"
     ]
    },
    {
     "name": "stdout",
     "output_type": "stream",
     "text": [
      "2 51 989 7\n",
      "[['MS', 'DISEASE'], ['MS', 'I-Disease_Subtype']]\n",
      "[['RRMS', 'DISEASE'], ['RRMS', 'B-Disease_Subtype']]\n",
      "inscope: 2\n",
      "batch_05_00181 annotator2_batch_05_00181_correct\n",
      "batch_05_00181.txt\n"
     ]
    },
    {
     "name": "stderr",
     "output_type": "stream",
     "text": [
      "DEBUG:urllib3.connectionpool:https://huggingface.co:443 \"HEAD /alvaroalon2/biobert_diseases_ner/resolve/main/tokenizer_config.json HTTP/1.1\" 200 0\n",
      "DEBUG:urllib3.connectionpool:https://huggingface.co:443 \"HEAD /alvaroalon2/biobert_diseases_ner/resolve/main/config.json HTTP/1.1\" 200 0\n",
      "DEBUG:urllib3.connectionpool:https://huggingface.co:443 \"HEAD /alvaroalon2/biobert_diseases_ner/resolve/main/tokenizer_config.json HTTP/1.1\" 200 0\n"
     ]
    },
    {
     "name": "stdout",
     "output_type": "stream",
     "text": [
      "3 68 979 9\n",
      "[['MS', 'DISEASE'], ['MS', 'B-Disease_Subtype']]\n",
      "[['MS', 'DISEASE'], ['MS', 'I-Disease_Subtype']]\n",
      "[['MS', 'DISEASE'], ['MS', 'I-Disease_Subtype']]\n",
      "inscope: 3\n",
      "batch_05_00182 annotator2_batch_05_00182_correct\n",
      "batch_05_00182.txt\n"
     ]
    },
    {
     "name": "stderr",
     "output_type": "stream",
     "text": [
      "DEBUG:urllib3.connectionpool:https://huggingface.co:443 \"HEAD /alvaroalon2/biobert_diseases_ner/resolve/main/config.json HTTP/1.1\" 200 0\n",
      "DEBUG:urllib3.connectionpool:https://huggingface.co:443 \"HEAD /alvaroalon2/biobert_diseases_ner/resolve/main/tokenizer_config.json HTTP/1.1\" 200 0\n"
     ]
    },
    {
     "name": "stdout",
     "output_type": "stream",
     "text": [
      "10 42 727 2\n",
      "[['MS', 'DISEASE'], ['MS', 'B-Disease_Subtype']]\n",
      "[['multiple', 'DISEASE'], ['multiple', 'B-Disease_Subtype']]\n",
      "[['sclerosis', 'DISEASE'], ['sclerosis', 'I-Disease_Subtype']]\n",
      "[['multiple', 'DISEASE'], ['multiple', 'B-Disease_Subtype']]\n",
      "[['sclerosis', 'DISEASE'], ['sclerosis', 'I-Disease_Subtype']]\n",
      "[['multiple', 'DISEASE'], ['multiple', 'B-Disease_Subtype']]\n",
      "[['sclerosis', 'DISEASE'], ['sclerosis', 'I-Disease_Subtype']]\n",
      "[['MS', 'DISEASE'], ['MS', 'B-Disease_Subtype']]\n",
      "[['Multiple', 'DISEASE'], ['Multiple', 'B-Disease_Subtype']]\n",
      "[['sclerosis', 'DISEASE'], ['sclerosis', 'I-Disease_Subtype']]\n",
      "inscope: 10\n",
      "batch_05_00183 annotator2_batch_05_00183_correct\n",
      "batch_05_00183.txt\n"
     ]
    },
    {
     "name": "stderr",
     "output_type": "stream",
     "text": [
      "DEBUG:urllib3.connectionpool:https://huggingface.co:443 \"HEAD /alvaroalon2/biobert_diseases_ner/resolve/main/config.json HTTP/1.1\" 200 0\n"
     ]
    },
    {
     "name": "stdout",
     "output_type": "stream",
     "text": [
      "3 40 940 3\n",
      "[['Multiple', 'DISEASE'], ['Multiple', 'B-Disease_Subtype']]\n",
      "[['sclerosis', 'DISEASE'], ['sclerosis', 'I-Disease_Subtype']]\n",
      "[['MS', 'DISEASE'], ['MS', 'B-Disease_Subtype']]\n",
      "inscope: 3\n",
      "batch_05_00184 annotator2_batch_05_00184_correct\n",
      "batch_05_00184.txt\n"
     ]
    },
    {
     "name": "stderr",
     "output_type": "stream",
     "text": [
      "DEBUG:urllib3.connectionpool:https://huggingface.co:443 \"HEAD /alvaroalon2/biobert_diseases_ner/resolve/main/tokenizer_config.json HTTP/1.1\" 200 0\n",
      "DEBUG:urllib3.connectionpool:https://huggingface.co:443 \"HEAD /alvaroalon2/biobert_diseases_ner/resolve/main/config.json HTTP/1.1\" 200 0\n",
      "DEBUG:urllib3.connectionpool:https://huggingface.co:443 \"HEAD /alvaroalon2/biobert_diseases_ner/resolve/main/tokenizer_config.json HTTP/1.1\" 200 0\n"
     ]
    },
    {
     "name": "stdout",
     "output_type": "stream",
     "text": [
      "5 67 628 8\n",
      "[['Multiple', 'DISEASE'], ['Multiple', 'B-Disease_Subtype']]\n",
      "[['sclerosis', 'DISEASE'], ['sclerosis', 'I-Disease_Subtype']]\n",
      "[['multiple', 'DISEASE'], ['multiple', 'B-Disease_Subtype']]\n",
      "[['sclerosis', 'DISEASE'], ['sclerosis', 'I-Disease_Subtype']]\n",
      "[['##potms', 'DISEASE'], ['MS', 'B-Disease_Subtype']]\n",
      "inscope: 5\n",
      "batch_05_00185 annotator2_batch_05_00185_correct\n",
      "batch_05_00185.txt\n"
     ]
    },
    {
     "name": "stderr",
     "output_type": "stream",
     "text": [
      "DEBUG:urllib3.connectionpool:https://huggingface.co:443 \"HEAD /alvaroalon2/biobert_diseases_ner/resolve/main/config.json HTTP/1.1\" 200 0\n",
      "DEBUG:urllib3.connectionpool:https://huggingface.co:443 \"HEAD /alvaroalon2/biobert_diseases_ner/resolve/main/tokenizer_config.json HTTP/1.1\" 200 0\n"
     ]
    },
    {
     "name": "stdout",
     "output_type": "stream",
     "text": [
      "2 36 943 11\n",
      "[['Multiple', 'DISEASE'], ['Multiple', 'B-Disease_Subtype']]\n",
      "[['sclerosis', 'DISEASE'], ['sclerosis', 'I-Disease_Subtype']]\n",
      "inscope: 2\n",
      "batch_05_00186 annotator2_batch_05_00186_correct\n",
      "batch_05_00186.txt\n"
     ]
    },
    {
     "name": "stderr",
     "output_type": "stream",
     "text": [
      "DEBUG:urllib3.connectionpool:https://huggingface.co:443 \"HEAD /alvaroalon2/biobert_diseases_ner/resolve/main/config.json HTTP/1.1\" 200 0\n",
      "DEBUG:urllib3.connectionpool:https://huggingface.co:443 \"HEAD /alvaroalon2/biobert_diseases_ner/resolve/main/tokenizer_config.json HTTP/1.1\" 200 0\n"
     ]
    },
    {
     "name": "stdout",
     "output_type": "stream",
     "text": [
      "9 42 761 4\n",
      "[['MS', 'DISEASE'], ['MS', 'B-Disease_Subtype']]\n",
      "[['Multiple', 'DISEASE'], ['Multiple', 'B-Disease_Subtype']]\n",
      "[['Sclerosis', 'DISEASE'], ['Sclerosis', 'I-Disease_Subtype']]\n",
      "[['multiple', 'DISEASE'], ['multiple', 'B-Disease_Subtype']]\n",
      "[['sclerosis', 'DISEASE'], ['sclerosis', 'I-Disease_Subtype']]\n",
      "[['multiple', 'DISEASE'], ['multiple', 'B-Disease_Subtype']]\n",
      "[['sclerosis', 'DISEASE'], ['sclerosis', 'I-Disease_Subtype']]\n",
      "[['Multiple', 'DISEASE'], ['Multiple', 'B-Disease_Subtype']]\n",
      "[['Sclerosis', 'DISEASE'], ['Sclerosis', 'I-Disease_Subtype']]\n",
      "inscope: 9\n",
      "batch_05_00187 annotator2_batch_05_00187_correct\n",
      "batch_05_00187.txt\n"
     ]
    },
    {
     "name": "stderr",
     "output_type": "stream",
     "text": [
      "DEBUG:urllib3.connectionpool:https://huggingface.co:443 \"HEAD /alvaroalon2/biobert_diseases_ner/resolve/main/config.json HTTP/1.1\" 200 0\n",
      "DEBUG:urllib3.connectionpool:https://huggingface.co:443 \"HEAD /alvaroalon2/biobert_diseases_ner/resolve/main/tokenizer_config.json HTTP/1.1\" 200 0\n"
     ]
    },
    {
     "name": "stdout",
     "output_type": "stream",
     "text": [
      "6 48 745 5\n",
      "[['MS', 'DISEASE'], ['MS', 'B-Disease_Subtype']]\n",
      "[['multiple', 'DISEASE'], ['multiple', 'B-Disease_Subtype']]\n",
      "[['sclerosis', 'DISEASE'], ['sclerosis', 'I-Disease_Subtype']]\n",
      "[['MS', 'DISEASE'], ['MS', 'B-Disease_Subtype']]\n",
      "[['Multiple', 'DISEASE'], ['Multiple', 'B-Disease_Subtype']]\n",
      "[['Sclerosis', 'DISEASE'], ['Sclerosis', 'I-Disease_Subtype']]\n",
      "inscope: 6\n",
      "batch_05_00188 annotator2_batch_05_00188_correct\n",
      "batch_05_00188.txt\n"
     ]
    },
    {
     "name": "stderr",
     "output_type": "stream",
     "text": [
      "DEBUG:urllib3.connectionpool:https://huggingface.co:443 \"HEAD /alvaroalon2/biobert_diseases_ner/resolve/main/config.json HTTP/1.1\" 200 0\n",
      "DEBUG:urllib3.connectionpool:https://huggingface.co:443 \"HEAD /alvaroalon2/biobert_diseases_ner/resolve/main/tokenizer_config.json HTTP/1.1\" 200 0\n"
     ]
    },
    {
     "name": "stdout",
     "output_type": "stream",
     "text": [
      "2 17 691 18\n",
      "[['MS', 'DISEASE'], ['MS', 'B-Disease_Subtype']]\n",
      "[['numbness', 'DISEASE'], ['numbness', 'I-Disease_Subtype']]\n",
      "inscope: 2\n",
      "batch_05_00189 annotator2_batch_05_00189_correct\n",
      "batch_05_00189.txt\n"
     ]
    },
    {
     "name": "stderr",
     "output_type": "stream",
     "text": [
      "DEBUG:urllib3.connectionpool:https://huggingface.co:443 \"HEAD /alvaroalon2/biobert_diseases_ner/resolve/main/config.json HTTP/1.1\" 200 0\n",
      "DEBUG:urllib3.connectionpool:https://huggingface.co:443 \"HEAD /alvaroalon2/biobert_diseases_ner/resolve/main/tokenizer_config.json HTTP/1.1\" 200 0\n"
     ]
    },
    {
     "name": "stdout",
     "output_type": "stream",
     "text": [
      "0 12 477 3\n",
      "somevalue is zer0\n",
      "batch_05_00190 annotator2_batch_05_00190_correct\n",
      "batch_05_00190.txt\n"
     ]
    },
    {
     "name": "stderr",
     "output_type": "stream",
     "text": [
      "DEBUG:urllib3.connectionpool:https://huggingface.co:443 \"HEAD /alvaroalon2/biobert_diseases_ner/resolve/main/config.json HTTP/1.1\" 200 0\n",
      "DEBUG:urllib3.connectionpool:https://huggingface.co:443 \"HEAD /alvaroalon2/biobert_diseases_ner/resolve/main/tokenizer_config.json HTTP/1.1\" 200 0\n"
     ]
    },
    {
     "name": "stdout",
     "output_type": "stream",
     "text": [
      "6 75 1049 0\n",
      "[['MS', 'DISEASE'], ['MS', 'B-Disease_Subtype']]\n",
      "[['MS', 'DISEASE'], ['MS', 'B-Disease_Subtype']]\n",
      "[['Multiple', 'DISEASE'], ['Multiple', 'B-Disease_Subtype']]\n",
      "[['sclerosis', 'DISEASE'], ['sclerosis', 'I-Disease_Subtype']]\n",
      "[['multiple', 'DISEASE'], ['multiple', 'B-Disease_Subtype']]\n",
      "[['sclerosis', 'DISEASE'], ['sclerosis', 'I-Disease_Subtype']]\n",
      "inscope: 6\n",
      "batch_05_00191 annotator2_batch_05_00191_correct\n",
      "batch_05_00191.txt\n"
     ]
    },
    {
     "name": "stderr",
     "output_type": "stream",
     "text": [
      "DEBUG:urllib3.connectionpool:https://huggingface.co:443 \"HEAD /alvaroalon2/biobert_diseases_ner/resolve/main/config.json HTTP/1.1\" 200 0\n",
      "DEBUG:urllib3.connectionpool:https://huggingface.co:443 \"HEAD /alvaroalon2/biobert_diseases_ner/resolve/main/tokenizer_config.json HTTP/1.1\" 200 0\n"
     ]
    },
    {
     "name": "stdout",
     "output_type": "stream",
     "text": [
      "4 23 503 7\n",
      "[['multiple', 'DISEASE'], ['multiple', 'B-Disease_Subtype']]\n",
      "[['sclerosis', 'DISEASE'], ['sclerosis', 'I-Disease_Subtype']]\n",
      "[['multiple', 'DISEASE'], ['multiple', 'I-Disease_Subtype']]\n",
      "[['sclerosis', 'DISEASE'], ['sclerosis', 'I-Disease_Subtype']]\n",
      "inscope: 4\n",
      "batch_05_00192 annotator2_batch_05_00192_correct\n",
      "batch_05_00192.txt\n"
     ]
    },
    {
     "name": "stderr",
     "output_type": "stream",
     "text": [
      "DEBUG:urllib3.connectionpool:https://huggingface.co:443 \"HEAD /alvaroalon2/biobert_diseases_ner/resolve/main/config.json HTTP/1.1\" 200 0\n",
      "DEBUG:urllib3.connectionpool:https://huggingface.co:443 \"HEAD /alvaroalon2/biobert_diseases_ner/resolve/main/tokenizer_config.json HTTP/1.1\" 200 0\n"
     ]
    },
    {
     "name": "stdout",
     "output_type": "stream",
     "text": [
      "3 88 1042 6\n",
      "[['multiple', 'DISEASE'], ['multiple', 'B-Disease_Subtype']]\n",
      "[['sclerosis', 'DISEASE'], ['sclerosis', 'I-Disease_Subtype']]\n",
      "[['MS', 'DISEASE'], ['MS', 'B-Disease_Subtype']]\n",
      "inscope: 3\n",
      "batch_05_00193 annotator2_batch_05_00193_correct\n",
      "batch_05_00193.txt\n"
     ]
    },
    {
     "name": "stderr",
     "output_type": "stream",
     "text": [
      "DEBUG:urllib3.connectionpool:https://huggingface.co:443 \"HEAD /alvaroalon2/biobert_diseases_ner/resolve/main/config.json HTTP/1.1\" 200 0\n",
      "DEBUG:urllib3.connectionpool:https://huggingface.co:443 \"HEAD /alvaroalon2/biobert_diseases_ner/resolve/main/tokenizer_config.json HTTP/1.1\" 200 0\n"
     ]
    },
    {
     "name": "stdout",
     "output_type": "stream",
     "text": [
      "7 35 524 11\n",
      "[['Multiple', 'DISEASE'], ['Multiple', 'B-Disease_Subtype']]\n",
      "[['Sclerosis', 'DISEASE'], ['Sclerosis', 'I-Disease_Subtype']]\n",
      "[['MS', 'DISEASE'], ['MS', 'B-Disease_Subtype']]\n",
      "[['MS', 'DISEASE'], ['MS', 'B-Disease_Subtype']]\n",
      "[['Multiple', 'DISEASE'], ['Multiple', 'B-Disease_Subtype']]\n",
      "[['sclerosis', 'DISEASE'], ['sclerosis', 'I-Disease_Subtype']]\n",
      "[['RRMS', 'DISEASE'], ['RRMS', 'B-Disease_Subtype']]\n",
      "inscope: 7\n",
      "batch_05_00194 annotator2_batch_05_00194_correct\n",
      "batch_05_00194.txt\n"
     ]
    },
    {
     "name": "stderr",
     "output_type": "stream",
     "text": [
      "DEBUG:urllib3.connectionpool:https://huggingface.co:443 \"HEAD /alvaroalon2/biobert_diseases_ner/resolve/main/config.json HTTP/1.1\" 200 0\n",
      "DEBUG:urllib3.connectionpool:https://huggingface.co:443 \"HEAD /alvaroalon2/biobert_diseases_ner/resolve/main/tokenizer_config.json HTTP/1.1\" 200 0\n"
     ]
    },
    {
     "name": "stdout",
     "output_type": "stream",
     "text": [
      "5 15 544 9\n",
      "[['Multiple', 'DISEASE'], ['Multiple', 'B-Disease_Subtype']]\n",
      "[['Sclerosis', 'DISEASE'], ['Sclerosis', 'I-Disease_Subtype']]\n",
      "[['MS', 'DISEASE'], ['MS', 'B-Disease_Subtype']]\n",
      "[['MS', 'DISEASE'], ['MS', 'B-Disease_Subtype']]\n",
      "[['Multiple', 'DISEASE'], ['Multiple', 'B-Disease_Subtype']]\n",
      "inscope: 5\n",
      "batch_05_00195 annotator2_batch_05_00195_correct\n",
      "batch_05_00195.txt\n"
     ]
    },
    {
     "name": "stderr",
     "output_type": "stream",
     "text": [
      "DEBUG:urllib3.connectionpool:https://huggingface.co:443 \"HEAD /alvaroalon2/biobert_diseases_ner/resolve/main/config.json HTTP/1.1\" 200 0\n",
      "DEBUG:urllib3.connectionpool:https://huggingface.co:443 \"HEAD /alvaroalon2/biobert_diseases_ner/resolve/main/tokenizer_config.json HTTP/1.1\" 200 0\n"
     ]
    },
    {
     "name": "stdout",
     "output_type": "stream",
     "text": [
      "8 45 664 4\n",
      "[['multiple', 'DISEASE'], ['multiple', 'B-Disease_Subtype']]\n",
      "[['sclerosis', 'DISEASE'], ['sclerosis', 'I-Disease_Subtype']]\n",
      "[['multiple', 'DISEASE'], ['multiple', 'B-Disease_Subtype']]\n",
      "[['sclerosis', 'DISEASE'], ['sclerosis', 'I-Disease_Subtype']]\n",
      "[['MS', 'DISEASE'], ['MS', 'B-Disease_Subtype']]\n",
      "[['MS', 'DISEASE'], ['MS', 'B-Disease_Subtype']]\n",
      "[['MS', 'DISEASE'], ['MS', 'B-Disease_Subtype']]\n",
      "[['MS', 'DISEASE'], ['MS', 'B-Disease_Subtype']]\n",
      "inscope: 8\n",
      "batch_05_00196 annotator2_batch_05_00196_correct\n",
      "batch_05_00196.txt\n"
     ]
    },
    {
     "name": "stderr",
     "output_type": "stream",
     "text": [
      "DEBUG:urllib3.connectionpool:https://huggingface.co:443 \"HEAD /alvaroalon2/biobert_diseases_ner/resolve/main/config.json HTTP/1.1\" 200 0\n"
     ]
    },
    {
     "name": "stdout",
     "output_type": "stream",
     "text": [
      "2 38 538 5\n",
      "[['MS', 'DISEASE'], ['MS', 'I-Disease_Subtype']]\n",
      "[['RRMS', 'DISEASE'], ['RRMS', 'B-Disease_Subtype']]\n",
      "inscope: 2\n",
      "batch_05_00197 annotator2_batch_05_00197_correct\n",
      "batch_05_00197.txt\n"
     ]
    },
    {
     "name": "stderr",
     "output_type": "stream",
     "text": [
      "DEBUG:urllib3.connectionpool:https://huggingface.co:443 \"HEAD /alvaroalon2/biobert_diseases_ner/resolve/main/tokenizer_config.json HTTP/1.1\" 200 0\n",
      "DEBUG:urllib3.connectionpool:https://huggingface.co:443 \"HEAD /alvaroalon2/biobert_diseases_ner/resolve/main/config.json HTTP/1.1\" 200 0\n",
      "DEBUG:urllib3.connectionpool:https://huggingface.co:443 \"HEAD /alvaroalon2/biobert_diseases_ner/resolve/main/tokenizer_config.json HTTP/1.1\" 200 0\n"
     ]
    },
    {
     "name": "stdout",
     "output_type": "stream",
     "text": [
      "1 3 897 2\n",
      "[['MS', 'DISEASE'], ['MS', 'I-Disease_Subtype']]\n",
      "inscope: 1\n",
      "batch_05_00198 annotator2_batch_05_00198_correct\n",
      "batch_05_00198.txt\n"
     ]
    },
    {
     "name": "stderr",
     "output_type": "stream",
     "text": [
      "DEBUG:urllib3.connectionpool:https://huggingface.co:443 \"HEAD /alvaroalon2/biobert_diseases_ner/resolve/main/config.json HTTP/1.1\" 200 0\n"
     ]
    },
    {
     "name": "stdout",
     "output_type": "stream",
     "text": [
      "6 60 1003 6\n",
      "[['Multiple', 'DISEASE'], ['Multiple', 'B-Disease_Subtype']]\n",
      "[['Sclerosis', 'DISEASE'], ['Sclerosis', 'I-Disease_Subtype']]\n",
      "[['MS', 'DISEASE'], ['MS', 'B-Disease_Subtype']]\n",
      "[['Multiple', 'DISEASE'], ['Multiple', 'B-Disease_Subtype']]\n",
      "[['sclerosis', 'DISEASE'], ['sclerosis', 'I-Disease_Subtype']]\n",
      "[['MS', 'DISEASE'], ['MS', 'B-Disease_Subtype']]\n",
      "inscope: 6\n",
      "batch_05_00199 annotator2_batch_05_00199_correct\n",
      "batch_05_00199.txt\n"
     ]
    },
    {
     "name": "stderr",
     "output_type": "stream",
     "text": [
      "DEBUG:urllib3.connectionpool:https://huggingface.co:443 \"HEAD /alvaroalon2/biobert_diseases_ner/resolve/main/tokenizer_config.json HTTP/1.1\" 200 0\n",
      "DEBUG:urllib3.connectionpool:https://huggingface.co:443 \"HEAD /alvaroalon2/biobert_diseases_ner/resolve/main/config.json HTTP/1.1\" 200 0\n",
      "DEBUG:urllib3.connectionpool:https://huggingface.co:443 \"HEAD /alvaroalon2/biobert_diseases_ner/resolve/main/tokenizer_config.json HTTP/1.1\" 200 0\n"
     ]
    },
    {
     "name": "stdout",
     "output_type": "stream",
     "text": [
      "2 8 586 10\n",
      "[['MS', 'DISEASE'], ['MS', 'B-Disease_Subtype']]\n",
      "[['MS', 'DISEASE'], ['MS', 'B-Disease_Subtype']]\n",
      "inscope: 2\n",
      "batch_05_00200 annotator2_batch_05_00200_correct\n",
      "batch_05_00200.txt\n"
     ]
    },
    {
     "name": "stderr",
     "output_type": "stream",
     "text": [
      "DEBUG:urllib3.connectionpool:https://huggingface.co:443 \"HEAD /alvaroalon2/biobert_diseases_ner/resolve/main/config.json HTTP/1.1\" 200 0\n",
      "DEBUG:urllib3.connectionpool:https://huggingface.co:443 \"HEAD /alvaroalon2/biobert_diseases_ner/resolve/main/tokenizer_config.json HTTP/1.1\" 200 0\n"
     ]
    },
    {
     "name": "stdout",
     "output_type": "stream",
     "text": [
      "9 44 626 35\n",
      "[['MS', 'DISEASE'], ['MS', 'B-Disease_Subtype']]\n",
      "[['MS', 'DISEASE'], ['MS', 'I-Relapse_Temporality']]\n",
      "[['MS', 'DISEASE'], ['MS', 'I-Disease_Subtype']]\n",
      "[['weakness', 'DISEASE'], ['weakness', 'I-Disease_Subtype']]\n",
      "[['neurogenic', 'DISEASE'], ['neurogenic', 'I-Disease_Subtype']]\n",
      "[['bladder', 'DISEASE'], ['bladder', 'I-Disease_Subtype']]\n",
      "[['sx', 'DISEASE'], ['sx', 'I-Disease_Subtype']]\n",
      "[['MS', 'DISEASE'], ['MS', 'I-Disease_Subtype']]\n",
      "[['leg', 'DISEASE'], ['leg', 'I-Disease_Subtype']]\n",
      "inscope: 9\n",
      "batch_05_00201 annotator2_batch_05_00201_correct\n",
      "batch_05_00201.txt\n"
     ]
    },
    {
     "name": "stderr",
     "output_type": "stream",
     "text": [
      "DEBUG:urllib3.connectionpool:https://huggingface.co:443 \"HEAD /alvaroalon2/biobert_diseases_ner/resolve/main/config.json HTTP/1.1\" 200 0\n",
      "DEBUG:urllib3.connectionpool:https://huggingface.co:443 \"HEAD /alvaroalon2/biobert_diseases_ner/resolve/main/tokenizer_config.json HTTP/1.1\" 200 0\n"
     ]
    },
    {
     "name": "stdout",
     "output_type": "stream",
     "text": [
      "6 27 440 0\n",
      "[['MS', 'DISEASE'], ['MS', 'B-Disease_Subtype']]\n",
      "[['multiple', 'DISEASE'], ['multiple', 'B-Disease_Subtype']]\n",
      "[['sclerosis', 'DISEASE'], ['sclerosis', 'I-Disease_Subtype']]\n",
      "[['MS', 'DISEASE'], ['MS', 'B-Disease_Subtype']]\n",
      "[['Multiple', 'DISEASE'], ['Multiple', 'B-Disease_Subtype']]\n",
      "[['sclerosis', 'DISEASE'], ['sclerosis', 'I-Disease_Subtype']]\n",
      "inscope: 6\n",
      "batch_05_00202 annotator2_batch_05_00202_correct\n",
      "batch_05_00202.txt\n"
     ]
    },
    {
     "name": "stderr",
     "output_type": "stream",
     "text": [
      "DEBUG:urllib3.connectionpool:https://huggingface.co:443 \"HEAD /alvaroalon2/biobert_diseases_ner/resolve/main/config.json HTTP/1.1\" 200 0\n",
      "DEBUG:urllib3.connectionpool:https://huggingface.co:443 \"HEAD /alvaroalon2/biobert_diseases_ner/resolve/main/tokenizer_config.json HTTP/1.1\" 200 0\n"
     ]
    },
    {
     "name": "stdout",
     "output_type": "stream",
     "text": [
      "3 4 513 1\n",
      "[['MS', 'DISEASE'], ['MS', 'B-Disease_Subtype']]\n",
      "[['Multiple', 'DISEASE'], ['Multiple', 'B-Disease_Subtype']]\n",
      "[['sclerosis', 'DISEASE'], ['sclerosis', 'I-Disease_Subtype']]\n",
      "inscope: 3\n",
      "batch_05_00203 annotator2_batch_05_00203_correct\n",
      "batch_05_00203.txt\n"
     ]
    },
    {
     "name": "stderr",
     "output_type": "stream",
     "text": [
      "DEBUG:urllib3.connectionpool:https://huggingface.co:443 \"HEAD /alvaroalon2/biobert_diseases_ner/resolve/main/config.json HTTP/1.1\" 200 0\n",
      "DEBUG:urllib3.connectionpool:https://huggingface.co:443 \"HEAD /alvaroalon2/biobert_diseases_ner/resolve/main/tokenizer_config.json HTTP/1.1\" 200 0\n"
     ]
    },
    {
     "name": "stdout",
     "output_type": "stream",
     "text": [
      "4 17 597 6\n",
      "[['Multiple', 'DISEASE'], ['Multiple', 'B-Disease_Subtype']]\n",
      "[['Sclerosis', 'DISEASE'], ['Sclerosis', 'I-Disease_Subtype']]\n",
      "[['##RMS', 'DISEASE'], ['MS', 'B-Disease_Subtype']]\n",
      "[['RRMS', 'DISEASE'], ['RRMS', 'B-Disease_Subtype']]\n",
      "inscope: 4\n",
      "batch_05_00204 annotator2_batch_05_00204_correct\n",
      "batch_05_00204.txt\n"
     ]
    },
    {
     "name": "stderr",
     "output_type": "stream",
     "text": [
      "DEBUG:urllib3.connectionpool:https://huggingface.co:443 \"HEAD /alvaroalon2/biobert_diseases_ner/resolve/main/config.json HTTP/1.1\" 200 0\n",
      "DEBUG:urllib3.connectionpool:https://huggingface.co:443 \"HEAD /alvaroalon2/biobert_diseases_ner/resolve/main/tokenizer_config.json HTTP/1.1\" 200 0\n"
     ]
    },
    {
     "name": "stdout",
     "output_type": "stream",
     "text": [
      "2 21 656 3\n",
      "[['MS', 'DISEASE'], ['MS', 'B-Disease_Subtype']]\n",
      "[['MS', 'DISEASE'], ['MS', 'B-Disease_Subtype']]\n",
      "inscope: 2\n",
      "batch_05_00205 annotator2_batch_05_00205_correct\n",
      "batch_05_00205.txt\n"
     ]
    },
    {
     "name": "stderr",
     "output_type": "stream",
     "text": [
      "DEBUG:urllib3.connectionpool:https://huggingface.co:443 \"HEAD /alvaroalon2/biobert_diseases_ner/resolve/main/config.json HTTP/1.1\" 200 0\n",
      "DEBUG:urllib3.connectionpool:https://huggingface.co:443 \"HEAD /alvaroalon2/biobert_diseases_ner/resolve/main/tokenizer_config.json HTTP/1.1\" 200 0\n"
     ]
    },
    {
     "name": "stdout",
     "output_type": "stream",
     "text": [
      "3 13 508 7\n",
      "[['MS', 'DISEASE'], ['MS', 'I-Disease_Subtype']]\n",
      "[['MS', 'DISEASE'], ['MS', 'B-Disease_Subtype']]\n",
      "[['MS', 'DISEASE'], ['MS', 'I-Disease_Subtype']]\n",
      "inscope: 3\n",
      "batch_05_00206 annotator2_batch_05_00206_correct\n",
      "batch_05_00206.txt\n"
     ]
    },
    {
     "name": "stderr",
     "output_type": "stream",
     "text": [
      "DEBUG:urllib3.connectionpool:https://huggingface.co:443 \"HEAD /alvaroalon2/biobert_diseases_ner/resolve/main/config.json HTTP/1.1\" 200 0\n",
      "DEBUG:urllib3.connectionpool:https://huggingface.co:443 \"HEAD /alvaroalon2/biobert_diseases_ner/resolve/main/tokenizer_config.json HTTP/1.1\" 200 0\n"
     ]
    },
    {
     "name": "stdout",
     "output_type": "stream",
     "text": [
      "6 54 835 3\n",
      "[['MS', 'DISEASE'], ['MS', 'B-Disease_Subtype']]\n",
      "[['MS', 'DISEASE'], ['MS', 'B-Relapse_Temporality']]\n",
      "[['MS', 'DISEASE'], ['MS', 'B-Disease_Subtype']]\n",
      "[['MS', 'DISEASE'], ['MS', 'B-Disease_Subtype']]\n",
      "[['multiple', 'DISEASE'], ['multiple', 'B-Disease_Subtype']]\n",
      "[['sclerosis', 'DISEASE'], ['sclerosis', 'I-Disease_Subtype']]\n",
      "inscope: 6\n",
      "batch_05_00207 annotator2_batch_05_00207_correct\n",
      "batch_05_00207.txt\n"
     ]
    },
    {
     "name": "stderr",
     "output_type": "stream",
     "text": [
      "DEBUG:urllib3.connectionpool:https://huggingface.co:443 \"HEAD /alvaroalon2/biobert_diseases_ner/resolve/main/config.json HTTP/1.1\" 200 0\n",
      "DEBUG:urllib3.connectionpool:https://huggingface.co:443 \"HEAD /alvaroalon2/biobert_diseases_ner/resolve/main/tokenizer_config.json HTTP/1.1\" 200 0\n"
     ]
    },
    {
     "name": "stdout",
     "output_type": "stream",
     "text": [
      "2 106 930 1\n",
      "[['Multiple', 'DISEASE'], ['Multiple', 'B-Disease_Subtype']]\n",
      "[['Sclerosis', 'DISEASE'], ['Sclerosis', 'I-Disease_Subtype']]\n",
      "inscope: 2\n",
      "batch_05_00208 annotator2_batch_05_00208_correct\n",
      "batch_05_00208.txt\n"
     ]
    },
    {
     "name": "stderr",
     "output_type": "stream",
     "text": [
      "DEBUG:urllib3.connectionpool:https://huggingface.co:443 \"HEAD /alvaroalon2/biobert_diseases_ner/resolve/main/config.json HTTP/1.1\" 200 0\n",
      "DEBUG:urllib3.connectionpool:https://huggingface.co:443 \"HEAD /alvaroalon2/biobert_diseases_ner/resolve/main/tokenizer_config.json HTTP/1.1\" 200 0\n"
     ]
    },
    {
     "name": "stdout",
     "output_type": "stream",
     "text": [
      "3 68 649 1\n",
      "[['MS', 'DISEASE'], ['MS', 'B-Disease_Subtype']]\n",
      "[['multiple', 'DISEASE'], ['multiple', 'B-Disease_Subtype']]\n",
      "[['sclerosis', 'DISEASE'], ['sclerosis', 'I-Disease_Subtype']]\n",
      "inscope: 3\n",
      "batch_05_00209 annotator2_batch_05_00209_correct\n",
      "batch_05_00209.txt\n"
     ]
    },
    {
     "name": "stderr",
     "output_type": "stream",
     "text": [
      "DEBUG:urllib3.connectionpool:https://huggingface.co:443 \"HEAD /alvaroalon2/biobert_diseases_ner/resolve/main/config.json HTTP/1.1\" 200 0\n",
      "DEBUG:urllib3.connectionpool:https://huggingface.co:443 \"HEAD /alvaroalon2/biobert_diseases_ner/resolve/main/tokenizer_config.json HTTP/1.1\" 200 0\n"
     ]
    },
    {
     "name": "stdout",
     "output_type": "stream",
     "text": [
      "11 69 968 7\n",
      "[['MS', 'DISEASE'], ['MS', 'B-Disease_Subtype']]\n",
      "[['muscle', 'DISEASE'], ['muscle', 'I-Disease_Subtype']]\n",
      "[['spasms', 'DISEASE'], ['spasms', 'I-Disease_Subtype']]\n",
      "[['MS', 'DISEASE'], ['MS', 'B-Disease_Subtype']]\n",
      "[['Multiple', 'DISEASE'], ['Multiple', 'B-Disease_Subtype']]\n",
      "[['Sclerosis', 'DISEASE'], ['Sclerosis', 'I-Disease_Subtype']]\n",
      "[['muscle', 'DISEASE'], ['muscle', 'I-Disease_Subtype']]\n",
      "[['spasms', 'DISEASE'], ['spasms', 'I-Disease_Subtype']]\n",
      "[['MS', 'DISEASE'], ['MS', 'I-Disease_Subtype']]\n",
      "[['MS', 'DISEASE'], ['MS', 'B-Disease_Subtype']]\n",
      "[['spasm', 'DISEASE'], ['spasm', 'I-Disease_Subtype']]\n",
      "inscope: 11\n",
      "batch_05_00210 annotator2_batch_05_00210_correct\n",
      "batch_05_00210.txt\n"
     ]
    },
    {
     "name": "stderr",
     "output_type": "stream",
     "text": [
      "DEBUG:urllib3.connectionpool:https://huggingface.co:443 \"HEAD /alvaroalon2/biobert_diseases_ner/resolve/main/config.json HTTP/1.1\" 200 0\n",
      "DEBUG:urllib3.connectionpool:https://huggingface.co:443 \"HEAD /alvaroalon2/biobert_diseases_ner/resolve/main/tokenizer_config.json HTTP/1.1\" 200 0\n"
     ]
    },
    {
     "name": "stdout",
     "output_type": "stream",
     "text": [
      "4 54 728 0\n",
      "[['Multiple', 'DISEASE'], ['Multiple', 'B-Disease_Subtype']]\n",
      "[['sclerosis', 'DISEASE'], ['sclerosis', 'I-Disease_Subtype']]\n",
      "[['multiple', 'DISEASE'], ['multiple', 'B-Disease_Subtype']]\n",
      "[['sclerosis', 'DISEASE'], ['sclerosis', 'I-Disease_Subtype']]\n",
      "inscope: 4\n",
      "batch_05_00211 annotator2_batch_05_00211_correct\n",
      "batch_05_00211.txt\n"
     ]
    },
    {
     "name": "stderr",
     "output_type": "stream",
     "text": [
      "DEBUG:urllib3.connectionpool:https://huggingface.co:443 \"HEAD /alvaroalon2/biobert_diseases_ner/resolve/main/config.json HTTP/1.1\" 200 0\n",
      "DEBUG:urllib3.connectionpool:https://huggingface.co:443 \"HEAD /alvaroalon2/biobert_diseases_ner/resolve/main/tokenizer_config.json HTTP/1.1\" 200 0\n"
     ]
    },
    {
     "name": "stdout",
     "output_type": "stream",
     "text": [
      "5 66 580 11\n",
      "[['MS', 'DISEASE'], ['MS', 'B-Disease_Subtype']]\n",
      "[['Multiple', 'DISEASE'], ['Multiple', 'B-Disease_Subtype']]\n",
      "[['Sclerosis', 'DISEASE'], ['Sclerosis', 'I-Disease_Subtype']]\n",
      "[['Multiple', 'DISEASE'], ['Multiple', 'B-Disease_Subtype']]\n",
      "[['Sclerosis', 'DISEASE'], ['Sclerosis', 'I-Disease_Subtype']]\n",
      "inscope: 5\n",
      "batch_05_00212 annotator2_batch_05_00212_correct\n",
      "batch_05_00212.txt\n"
     ]
    },
    {
     "name": "stderr",
     "output_type": "stream",
     "text": [
      "DEBUG:urllib3.connectionpool:https://huggingface.co:443 \"HEAD /alvaroalon2/biobert_diseases_ner/resolve/main/config.json HTTP/1.1\" 200 0\n",
      "DEBUG:urllib3.connectionpool:https://huggingface.co:443 \"HEAD /alvaroalon2/biobert_diseases_ner/resolve/main/tokenizer_config.json HTTP/1.1\" 200 0\n"
     ]
    },
    {
     "name": "stdout",
     "output_type": "stream",
     "text": [
      "7 22 531 11\n",
      "[['MS', 'DISEASE'], ['MS', 'B-Disease_Subtype']]\n",
      "[['Multiple', 'DISEASE'], ['Multiple', 'B-Disease_Subtype']]\n",
      "[['Sclerosis', 'DISEASE'], ['Sclerosis', 'I-Disease_Subtype']]\n",
      "[['Multiple', 'DISEASE'], ['Multiple', 'B-Disease_Subtype']]\n",
      "[['Sclerosis', 'DISEASE'], ['Sclerosis', 'I-Disease_Subtype']]\n",
      "[['multiple', 'DISEASE'], ['multiple', 'B-Disease_Subtype']]\n",
      "[['sclerosis', 'DISEASE'], ['sclerosis', 'I-Disease_Subtype']]\n",
      "inscope: 7\n",
      "batch_05_00213 annotator2_batch_05_00213_correct\n",
      "batch_05_00213.txt\n"
     ]
    },
    {
     "name": "stderr",
     "output_type": "stream",
     "text": [
      "DEBUG:urllib3.connectionpool:https://huggingface.co:443 \"HEAD /alvaroalon2/biobert_diseases_ner/resolve/main/config.json HTTP/1.1\" 200 0\n",
      "DEBUG:urllib3.connectionpool:https://huggingface.co:443 \"HEAD /alvaroalon2/biobert_diseases_ner/resolve/main/tokenizer_config.json HTTP/1.1\" 200 0\n"
     ]
    },
    {
     "name": "stdout",
     "output_type": "stream",
     "text": [
      "9 82 1052 0\n",
      "[['MS', 'DISEASE'], ['MS', 'B-Disease_Subtype']]\n",
      "[['MS', 'DISEASE'], ['MS', 'B-Disease_Subtype']]\n",
      "[['MS', 'DISEASE'], ['MS', 'B-Disease_Subtype']]\n",
      "[['MS', 'DISEASE'], ['MS', 'B-Disease_Subtype']]\n",
      "[['multiple', 'DISEASE'], ['multiple', 'B-Disease_Subtype']]\n",
      "[['sclerosis', 'DISEASE'], ['sclerosis', 'I-Disease_Subtype']]\n",
      "[['MS', 'DISEASE'], ['MS', 'B-Disease_Subtype']]\n",
      "[['multiple', 'DISEASE'], ['multiple', 'B-Disease_Subtype']]\n",
      "[['sclerosis', 'DISEASE'], ['sclerosis', 'I-Disease_Subtype']]\n",
      "inscope: 9\n",
      "batch_05_00214 annotator2_batch_05_00214_correct\n",
      "batch_05_00214.txt\n"
     ]
    },
    {
     "name": "stderr",
     "output_type": "stream",
     "text": [
      "DEBUG:urllib3.connectionpool:https://huggingface.co:443 \"HEAD /alvaroalon2/biobert_diseases_ner/resolve/main/config.json HTTP/1.1\" 200 0\n",
      "DEBUG:urllib3.connectionpool:https://huggingface.co:443 \"HEAD /alvaroalon2/biobert_diseases_ner/resolve/main/tokenizer_config.json HTTP/1.1\" 200 0\n"
     ]
    },
    {
     "name": "stdout",
     "output_type": "stream",
     "text": [
      "4 92 510 0\n",
      "[['multiple', 'DISEASE'], ['multiple', 'B-Disease_Subtype']]\n",
      "[['sclerosis', 'DISEASE'], ['sclerosis', 'I-Disease_Subtype']]\n",
      "[['MS', 'DISEASE'], ['MS', 'B-Disease_Subtype']]\n",
      "[['sclerosis', 'DISEASE'], ['sclerosis', 'I-Disease_Subtype']]\n",
      "inscope: 4\n",
      "batch_05_00215 annotator2_batch_05_00215_correct\n",
      "batch_05_00215.txt\n"
     ]
    },
    {
     "name": "stderr",
     "output_type": "stream",
     "text": [
      "DEBUG:urllib3.connectionpool:https://huggingface.co:443 \"HEAD /alvaroalon2/biobert_diseases_ner/resolve/main/config.json HTTP/1.1\" 200 0\n",
      "DEBUG:urllib3.connectionpool:https://huggingface.co:443 \"HEAD /alvaroalon2/biobert_diseases_ner/resolve/main/tokenizer_config.json HTTP/1.1\" 200 0\n"
     ]
    },
    {
     "name": "stdout",
     "output_type": "stream",
     "text": [
      "8 31 990 4\n",
      "[['multiple', 'DISEASE'], ['multiple', 'B-Disease_Subtype']]\n",
      "[['sclerosis', 'DISEASE'], ['sclerosis', 'I-Disease_Subtype']]\n",
      "[['-', 'DISEASE'], ['-', 'I-Disease_Subtype']]\n",
      "[['remitting', 'DISEASE'], ['remitting', 'I-Disease_Subtype']]\n",
      "[['MS', 'DISEASE'], ['MS', 'B-Disease_Subtype']]\n",
      "[['Multiple', 'DISEASE'], ['Multiple', 'B-Disease_Subtype']]\n",
      "[['Sclerosis', 'DISEASE'], ['Sclerosis', 'I-Disease_Subtype']]\n",
      "[['MS', 'DISEASE'], ['MS', 'B-Disease_Subtype']]\n",
      "inscope: 8\n",
      "batch_05_00216 annotator2_batch_05_00216_correct\n",
      "batch_05_00216.txt\n"
     ]
    },
    {
     "name": "stderr",
     "output_type": "stream",
     "text": [
      "DEBUG:urllib3.connectionpool:https://huggingface.co:443 \"HEAD /alvaroalon2/biobert_diseases_ner/resolve/main/config.json HTTP/1.1\" 200 0\n",
      "DEBUG:urllib3.connectionpool:https://huggingface.co:443 \"HEAD /alvaroalon2/biobert_diseases_ner/resolve/main/tokenizer_config.json HTTP/1.1\" 200 0\n"
     ]
    },
    {
     "name": "stdout",
     "output_type": "stream",
     "text": [
      "1 14 308 9\n",
      "[['MS', 'DISEASE'], ['MS', 'I-Disease_Subtype']]\n",
      "inscope: 1\n",
      "batch_05_00217 annotator2_batch_05_00217_correct\n",
      "batch_05_00217.txt\n"
     ]
    },
    {
     "name": "stderr",
     "output_type": "stream",
     "text": [
      "DEBUG:urllib3.connectionpool:https://huggingface.co:443 \"HEAD /alvaroalon2/biobert_diseases_ner/resolve/main/config.json HTTP/1.1\" 200 0\n",
      "DEBUG:urllib3.connectionpool:https://huggingface.co:443 \"HEAD /alvaroalon2/biobert_diseases_ner/resolve/main/tokenizer_config.json HTTP/1.1\" 200 0\n"
     ]
    },
    {
     "name": "stdout",
     "output_type": "stream",
     "text": [
      "5 29 703 5\n",
      "[['MS', 'DISEASE'], ['MS', 'B-Disease_Subtype']]\n",
      "[['MS', 'DISEASE'], ['MS', 'B-Disease_Subtype']]\n",
      "[['multiple', 'DISEASE'], ['multiple', 'B-Disease_Subtype']]\n",
      "[['sclerosis', 'DISEASE'], ['sclerosis', 'I-Disease_Subtype']]\n",
      "[['MS', 'DISEASE'], ['MS', 'B-Disease_Subtype']]\n",
      "inscope: 5\n",
      "batch_05_00218 annotator2_batch_05_00218_correct\n",
      "batch_05_00218.txt\n"
     ]
    },
    {
     "name": "stderr",
     "output_type": "stream",
     "text": [
      "DEBUG:urllib3.connectionpool:https://huggingface.co:443 \"HEAD /alvaroalon2/biobert_diseases_ner/resolve/main/config.json HTTP/1.1\" 200 0\n",
      "DEBUG:urllib3.connectionpool:https://huggingface.co:443 \"HEAD /alvaroalon2/biobert_diseases_ner/resolve/main/tokenizer_config.json HTTP/1.1\" 200 0\n"
     ]
    },
    {
     "name": "stdout",
     "output_type": "stream",
     "text": [
      "1 10 642 0\n",
      "[['MS', 'DISEASE'], ['MS', 'B-Disease_Subtype']]\n",
      "inscope: 1\n",
      "batch_05_00219 annotator2_batch_05_00219_correct\n",
      "batch_05_00219.txt\n"
     ]
    },
    {
     "name": "stderr",
     "output_type": "stream",
     "text": [
      "DEBUG:urllib3.connectionpool:https://huggingface.co:443 \"HEAD /alvaroalon2/biobert_diseases_ner/resolve/main/config.json HTTP/1.1\" 200 0\n",
      "DEBUG:urllib3.connectionpool:https://huggingface.co:443 \"HEAD /alvaroalon2/biobert_diseases_ner/resolve/main/tokenizer_config.json HTTP/1.1\" 200 0\n"
     ]
    },
    {
     "name": "stdout",
     "output_type": "stream",
     "text": [
      "6 26 484 3\n",
      "[['MS', 'DISEASE'], ['MS', 'B-Disease_Subtype']]\n",
      "[['MS', 'DISEASE'], ['MS', 'B-Disease_Subtype']]\n",
      "[['MS', 'DISEASE'], ['MS', 'B-Disease_Subtype']]\n",
      "[['MS', 'DISEASE'], ['MS', 'B-Disease_Subtype']]\n",
      "[['multiple', 'DISEASE'], ['multiple', 'B-Disease_Subtype']]\n",
      "[['sclerosis', 'DISEASE'], ['sclerosis', 'I-Disease_Subtype']]\n",
      "inscope: 6\n",
      "batch_05_00220 annotator2_batch_05_00220_correct\n",
      "batch_05_00220.txt\n"
     ]
    },
    {
     "name": "stderr",
     "output_type": "stream",
     "text": [
      "DEBUG:urllib3.connectionpool:https://huggingface.co:443 \"HEAD /alvaroalon2/biobert_diseases_ner/resolve/main/config.json HTTP/1.1\" 200 0\n",
      "DEBUG:urllib3.connectionpool:https://huggingface.co:443 \"HEAD /alvaroalon2/biobert_diseases_ner/resolve/main/tokenizer_config.json HTTP/1.1\" 200 0\n"
     ]
    },
    {
     "name": "stdout",
     "output_type": "stream",
     "text": [
      "5 81 576 4\n",
      "[['multiple', 'DISEASE'], ['multiple', 'B-Disease_Subtype']]\n",
      "[['sclerosis', 'DISEASE'], ['sclerosis', 'I-Disease_Subtype']]\n",
      "[['MS', 'DISEASE'], ['MS', 'B-Disease_Subtype']]\n",
      "[['Multiple', 'DISEASE'], ['Multiple', 'B-Disease_Subtype']]\n",
      "[['sclerosis', 'DISEASE'], ['sclerosis', 'I-Disease_Subtype']]\n",
      "inscope: 5\n",
      "batch_05_00221 annotator2_batch_05_00221_correct\n",
      "batch_05_00221.txt\n"
     ]
    },
    {
     "name": "stderr",
     "output_type": "stream",
     "text": [
      "DEBUG:urllib3.connectionpool:https://huggingface.co:443 \"HEAD /alvaroalon2/biobert_diseases_ner/resolve/main/config.json HTTP/1.1\" 200 0\n",
      "DEBUG:urllib3.connectionpool:https://huggingface.co:443 \"HEAD /alvaroalon2/biobert_diseases_ner/resolve/main/tokenizer_config.json HTTP/1.1\" 200 0\n"
     ]
    },
    {
     "name": "stdout",
     "output_type": "stream",
     "text": [
      "4 37 674 2\n",
      "[['MS', 'DISEASE'], ['MS', 'B-Disease_Subtype']]\n",
      "[['Multiple', 'DISEASE'], ['Multiple', 'B-Disease_Subtype']]\n",
      "[['sclerosis', 'DISEASE'], ['sclerosis', 'I-Disease_Subtype']]\n",
      "[['MS', 'DISEASE'], ['MS', 'B-Disease_Subtype']]\n",
      "inscope: 4\n",
      "batch_05_00222 annotator2_batch_05_00222_correct\n",
      "batch_05_00222.txt\n"
     ]
    },
    {
     "name": "stderr",
     "output_type": "stream",
     "text": [
      "DEBUG:urllib3.connectionpool:https://huggingface.co:443 \"HEAD /alvaroalon2/biobert_diseases_ner/resolve/main/config.json HTTP/1.1\" 200 0\n",
      "DEBUG:urllib3.connectionpool:https://huggingface.co:443 \"HEAD /alvaroalon2/biobert_diseases_ner/resolve/main/tokenizer_config.json HTTP/1.1\" 200 0\n"
     ]
    },
    {
     "name": "stdout",
     "output_type": "stream",
     "text": [
      "5 30 638 2\n",
      "[['MS', 'DISEASE'], ['MS', 'B-Disease_Subtype']]\n",
      "[['MS', 'DISEASE'], ['MS', 'B-Disease_Subtype']]\n",
      "[['Multiple', 'DISEASE'], ['Multiple', 'B-Disease_Subtype']]\n",
      "[['sclerosis', 'DISEASE'], ['sclerosis', 'I-Disease_Subtype']]\n",
      "[['MS', 'DISEASE'], ['MS', 'I-Disease_Subtype']]\n",
      "inscope: 5\n",
      "batch_05_00223 annotator2_batch_05_00223_correct\n",
      "batch_05_00223.txt\n"
     ]
    },
    {
     "name": "stderr",
     "output_type": "stream",
     "text": [
      "DEBUG:urllib3.connectionpool:https://huggingface.co:443 \"HEAD /alvaroalon2/biobert_diseases_ner/resolve/main/config.json HTTP/1.1\" 200 0\n"
     ]
    },
    {
     "name": "stdout",
     "output_type": "stream",
     "text": [
      "1 40 949 4\n",
      "[['Sclerosis', 'DISEASE'], ['Sclerosis', 'I-Disease_Subtype']]\n",
      "inscope: 1\n",
      "batch_05_00224 annotator2_batch_05_00224_correct\n",
      "batch_05_00224.txt\n"
     ]
    },
    {
     "name": "stderr",
     "output_type": "stream",
     "text": [
      "DEBUG:urllib3.connectionpool:https://huggingface.co:443 \"HEAD /alvaroalon2/biobert_diseases_ner/resolve/main/tokenizer_config.json HTTP/1.1\" 200 0\n",
      "DEBUG:urllib3.connectionpool:https://huggingface.co:443 \"HEAD /alvaroalon2/biobert_diseases_ner/resolve/main/config.json HTTP/1.1\" 200 0\n"
     ]
    },
    {
     "name": "stdout",
     "output_type": "stream",
     "text": [
      "6 29 1047 5\n",
      "[['Multiple', 'DISEASE'], ['Multiple', 'B-Disease_Subtype']]\n",
      "[['Sclerosis', 'DISEASE'], ['Sclerosis', 'I-Disease_Subtype']]\n",
      "[['Multiple', 'DISEASE'], ['Multiple', 'B-Disease_Subtype']]\n",
      "[['sclerosis', 'DISEASE'], ['sclerosis', 'I-Disease_Subtype']]\n",
      "[['multiple', 'DISEASE'], ['multiple', 'I-Disease_Subtype']]\n",
      "[['sclerosis', 'DISEASE'], ['sclerosis', 'I-Disease_Subtype']]\n",
      "inscope: 6\n",
      "batch_05_00225 annotator2_batch_05_00225_correct\n",
      "batch_05_00225.txt\n"
     ]
    },
    {
     "name": "stderr",
     "output_type": "stream",
     "text": [
      "DEBUG:urllib3.connectionpool:https://huggingface.co:443 \"HEAD /alvaroalon2/biobert_diseases_ner/resolve/main/tokenizer_config.json HTTP/1.1\" 200 0\n",
      "DEBUG:urllib3.connectionpool:https://huggingface.co:443 \"HEAD /alvaroalon2/biobert_diseases_ner/resolve/main/config.json HTTP/1.1\" 200 0\n",
      "DEBUG:urllib3.connectionpool:https://huggingface.co:443 \"HEAD /alvaroalon2/biobert_diseases_ner/resolve/main/tokenizer_config.json HTTP/1.1\" 200 0\n"
     ]
    },
    {
     "name": "stdout",
     "output_type": "stream",
     "text": [
      "1 40 583 2\n",
      "[['MS', 'DISEASE'], ['MS', 'I-Disease_Subtype']]\n",
      "inscope: 1\n",
      "batch_05_00226 annotator2_batch_05_00226_correct\n",
      "batch_05_00226.txt\n"
     ]
    },
    {
     "name": "stderr",
     "output_type": "stream",
     "text": [
      "DEBUG:urllib3.connectionpool:https://huggingface.co:443 \"HEAD /alvaroalon2/biobert_diseases_ner/resolve/main/config.json HTTP/1.1\" 200 0\n",
      "DEBUG:urllib3.connectionpool:https://huggingface.co:443 \"HEAD /alvaroalon2/biobert_diseases_ner/resolve/main/tokenizer_config.json HTTP/1.1\" 200 0\n"
     ]
    },
    {
     "name": "stdout",
     "output_type": "stream",
     "text": [
      "2 96 589 1\n",
      "[['Multiple', 'DISEASE'], ['Multiple', 'B-Disease_Subtype']]\n",
      "[['sclerosis', 'DISEASE'], ['sclerosis', 'I-Disease_Subtype']]\n",
      "inscope: 2\n",
      "batch_05_00227 annotator2_batch_05_00227_correct\n",
      "batch_05_00227.txt\n"
     ]
    },
    {
     "name": "stderr",
     "output_type": "stream",
     "text": [
      "DEBUG:urllib3.connectionpool:https://huggingface.co:443 \"HEAD /alvaroalon2/biobert_diseases_ner/resolve/main/config.json HTTP/1.1\" 200 0\n"
     ]
    },
    {
     "name": "stdout",
     "output_type": "stream",
     "text": [
      "3 62 395 0\n",
      "[['multiple', 'DISEASE'], ['multiple', 'B-Disease_Subtype']]\n",
      "[['sclerosis', 'DISEASE'], ['sclerosis', 'I-Disease_Subtype']]\n",
      "[['CIS', 'DISEASE'], ['CIS', 'B-Disease_Subtype']]\n",
      "inscope: 3\n",
      "batch_05_00228 annotator2_batch_05_00228_correct\n",
      "batch_05_00228.txt\n"
     ]
    },
    {
     "name": "stderr",
     "output_type": "stream",
     "text": [
      "DEBUG:urllib3.connectionpool:https://huggingface.co:443 \"HEAD /alvaroalon2/biobert_diseases_ner/resolve/main/tokenizer_config.json HTTP/1.1\" 200 0\n",
      "DEBUG:urllib3.connectionpool:https://huggingface.co:443 \"HEAD /alvaroalon2/biobert_diseases_ner/resolve/main/config.json HTTP/1.1\" 200 0\n",
      "DEBUG:urllib3.connectionpool:https://huggingface.co:443 \"HEAD /alvaroalon2/biobert_diseases_ner/resolve/main/tokenizer_config.json HTTP/1.1\" 200 0\n"
     ]
    },
    {
     "name": "stdout",
     "output_type": "stream",
     "text": [
      "0 50 897 3\n",
      "somevalue is zer0\n",
      "batch_05_00229 annotator2_batch_05_00229_correct\n",
      "batch_05_00229.txt\n"
     ]
    },
    {
     "name": "stderr",
     "output_type": "stream",
     "text": [
      "DEBUG:urllib3.connectionpool:https://huggingface.co:443 \"HEAD /alvaroalon2/biobert_diseases_ner/resolve/main/config.json HTTP/1.1\" 200 0\n",
      "DEBUG:urllib3.connectionpool:https://huggingface.co:443 \"HEAD /alvaroalon2/biobert_diseases_ner/resolve/main/tokenizer_config.json HTTP/1.1\" 200 0\n"
     ]
    },
    {
     "name": "stdout",
     "output_type": "stream",
     "text": [
      "1 59 936 6\n",
      "[['MS', 'DISEASE'], ['MS', 'B-Disease_Subtype']]\n",
      "inscope: 1\n",
      "batch_05_00230 annotator2_batch_05_00230_correct\n",
      "batch_05_00230.txt\n"
     ]
    },
    {
     "name": "stderr",
     "output_type": "stream",
     "text": [
      "DEBUG:urllib3.connectionpool:https://huggingface.co:443 \"HEAD /alvaroalon2/biobert_diseases_ner/resolve/main/config.json HTTP/1.1\" 200 0\n",
      "DEBUG:urllib3.connectionpool:https://huggingface.co:443 \"HEAD /alvaroalon2/biobert_diseases_ner/resolve/main/tokenizer_config.json HTTP/1.1\" 200 0\n"
     ]
    },
    {
     "name": "stdout",
     "output_type": "stream",
     "text": [
      "3 46 902 3\n",
      "[['Sclerosis', 'DISEASE'], ['Sclerosis', 'I-Disease_Subtype']]\n",
      "[['MS', 'DISEASE'], ['MS', 'B-Disease_Subtype']]\n",
      "[['Multiple', 'DISEASE'], ['Multiple', 'B-Disease_Subtype']]\n",
      "inscope: 3\n",
      "batch_05_00231 annotator2_batch_05_00231_correct\n",
      "batch_05_00231.txt\n"
     ]
    },
    {
     "name": "stderr",
     "output_type": "stream",
     "text": [
      "DEBUG:urllib3.connectionpool:https://huggingface.co:443 \"HEAD /alvaroalon2/biobert_diseases_ner/resolve/main/config.json HTTP/1.1\" 200 0\n",
      "DEBUG:urllib3.connectionpool:https://huggingface.co:443 \"HEAD /alvaroalon2/biobert_diseases_ner/resolve/main/tokenizer_config.json HTTP/1.1\" 200 0\n"
     ]
    },
    {
     "name": "stdout",
     "output_type": "stream",
     "text": [
      "5 92 524 3\n",
      "[['Multiple', 'DISEASE'], ['Multiple', 'B-Disease_Subtype']]\n",
      "[['sclerosis', 'DISEASE'], ['sclerosis', 'I-Disease_Subtype']]\n",
      "[['Multiple', 'DISEASE'], ['Multiple', 'B-Disease_Subtype']]\n",
      "[['Multiple', 'DISEASE'], ['Multiple', 'B-Disease_Subtype']]\n",
      "[['sclerosis', 'DISEASE'], ['sclerosis', 'I-Disease_Subtype']]\n",
      "inscope: 5\n",
      "batch_05_00232 annotator2_batch_05_00232_correct\n",
      "batch_05_00232.txt\n"
     ]
    },
    {
     "name": "stderr",
     "output_type": "stream",
     "text": [
      "DEBUG:urllib3.connectionpool:https://huggingface.co:443 \"HEAD /alvaroalon2/biobert_diseases_ner/resolve/main/config.json HTTP/1.1\" 200 0\n",
      "DEBUG:urllib3.connectionpool:https://huggingface.co:443 \"HEAD /alvaroalon2/biobert_diseases_ner/resolve/main/tokenizer_config.json HTTP/1.1\" 200 0\n"
     ]
    },
    {
     "name": "stdout",
     "output_type": "stream",
     "text": [
      "7 64 686 2\n",
      "[['PPMS', 'DISEASE'], ['PPMS', 'B-Disease_Subtype']]\n",
      "[['Multiple', 'DISEASE'], ['Multiple', 'B-Disease_Subtype']]\n",
      "[['sclerosis', 'DISEASE'], ['sclerosis', 'I-Disease_Subtype']]\n",
      "[['multiple', 'DISEASE'], ['multiple', 'I-Disease_Subtype']]\n",
      "[['sclerosis', 'DISEASE'], ['sclerosis', 'I-Disease_Subtype']]\n",
      "[['Multiple', 'DISEASE'], ['Multiple', 'B-Disease_Subtype']]\n",
      "[['sclerosis', 'DISEASE'], ['sclerosis', 'I-Disease_Subtype']]\n",
      "inscope: 7\n",
      "batch_05_00233 annotator2_batch_05_00233_correct\n",
      "batch_05_00233.txt\n"
     ]
    },
    {
     "name": "stderr",
     "output_type": "stream",
     "text": [
      "DEBUG:urllib3.connectionpool:https://huggingface.co:443 \"HEAD /alvaroalon2/biobert_diseases_ner/resolve/main/config.json HTTP/1.1\" 200 0\n",
      "DEBUG:urllib3.connectionpool:https://huggingface.co:443 \"HEAD /alvaroalon2/biobert_diseases_ner/resolve/main/tokenizer_config.json HTTP/1.1\" 200 0\n"
     ]
    },
    {
     "name": "stdout",
     "output_type": "stream",
     "text": [
      "3 30 482 2\n",
      "[['MS', 'DISEASE'], ['MS', 'B-Disease_Subtype']]\n",
      "[['Multiple', 'DISEASE'], ['Multiple', 'B-Disease_Subtype']]\n",
      "[['sclerosis', 'DISEASE'], ['sclerosis', 'I-Disease_Subtype']]\n",
      "inscope: 3\n",
      "batch_05_00234 annotator2_batch_05_00234_correct\n",
      "batch_05_00234.txt\n"
     ]
    },
    {
     "name": "stderr",
     "output_type": "stream",
     "text": [
      "DEBUG:urllib3.connectionpool:https://huggingface.co:443 \"HEAD /alvaroalon2/biobert_diseases_ner/resolve/main/config.json HTTP/1.1\" 200 0\n",
      "DEBUG:urllib3.connectionpool:https://huggingface.co:443 \"HEAD /alvaroalon2/biobert_diseases_ner/resolve/main/tokenizer_config.json HTTP/1.1\" 200 0\n"
     ]
    },
    {
     "name": "stdout",
     "output_type": "stream",
     "text": [
      "6 50 871 6\n",
      "[['multiple', 'DISEASE'], ['multiple', 'I-Disease_Subtype']]\n",
      "[['sclerosis', 'DISEASE'], ['sclerosis', 'I-Disease_Subtype']]\n",
      "[['multiple', 'DISEASE'], ['multiple', 'I-Disease_Subtype']]\n",
      "[['sclerosis', 'DISEASE'], ['sclerosis', 'I-Disease_Subtype']]\n",
      "[['multiple', 'DISEASE'], ['multiple', 'I-Disease_Subtype']]\n",
      "[['sclerosis', 'DISEASE'], ['sclerosis', 'I-Disease_Subtype']]\n",
      "inscope: 6\n",
      "batch_05_00235 annotator2_batch_05_00235_correct\n",
      "batch_05_00235.txt\n"
     ]
    },
    {
     "name": "stderr",
     "output_type": "stream",
     "text": [
      "DEBUG:urllib3.connectionpool:https://huggingface.co:443 \"HEAD /alvaroalon2/biobert_diseases_ner/resolve/main/config.json HTTP/1.1\" 200 0\n",
      "DEBUG:urllib3.connectionpool:https://huggingface.co:443 \"HEAD /alvaroalon2/biobert_diseases_ner/resolve/main/tokenizer_config.json HTTP/1.1\" 200 0\n"
     ]
    },
    {
     "name": "stdout",
     "output_type": "stream",
     "text": [
      "0 21 531 2\n",
      "somevalue is zer0\n",
      "batch_05_00237 annotator2_batch_05_00237_correct\n",
      "batch_05_00237.txt\n"
     ]
    },
    {
     "name": "stderr",
     "output_type": "stream",
     "text": [
      "DEBUG:urllib3.connectionpool:https://huggingface.co:443 \"HEAD /alvaroalon2/biobert_diseases_ner/resolve/main/config.json HTTP/1.1\" 200 0\n"
     ]
    },
    {
     "name": "stdout",
     "output_type": "stream",
     "text": [
      "4 19 1093 2\n",
      "[['Multiple', 'DISEASE'], ['Multiple', 'B-Disease_Subtype']]\n",
      "[['sclerosis', 'DISEASE'], ['sclerosis', 'I-Disease_Subtype']]\n",
      "[['Multiple', 'DISEASE'], ['Multiple', 'B-Disease_Subtype']]\n",
      "[['sclerosis', 'DISEASE'], ['sclerosis', 'I-Disease_Subtype']]\n",
      "inscope: 4\n",
      "batch_05_00238 annotator2_batch_05_00238_correct\n",
      "batch_05_00238.txt\n"
     ]
    },
    {
     "name": "stderr",
     "output_type": "stream",
     "text": [
      "DEBUG:urllib3.connectionpool:https://huggingface.co:443 \"HEAD /alvaroalon2/biobert_diseases_ner/resolve/main/tokenizer_config.json HTTP/1.1\" 200 0\n",
      "DEBUG:urllib3.connectionpool:https://huggingface.co:443 \"HEAD /alvaroalon2/biobert_diseases_ner/resolve/main/config.json HTTP/1.1\" 200 0\n",
      "DEBUG:urllib3.connectionpool:https://huggingface.co:443 \"HEAD /alvaroalon2/biobert_diseases_ner/resolve/main/tokenizer_config.json HTTP/1.1\" 200 0\n"
     ]
    },
    {
     "name": "stdout",
     "output_type": "stream",
     "text": [
      "3 31 529 3\n",
      "[['multiple', 'DISEASE'], ['multiple', 'I-Disease_Subtype']]\n",
      "[['sclerosis', 'DISEASE'], ['sclerosis', 'I-Disease_Subtype']]\n",
      "[['sclerosis', 'DISEASE'], ['sclerosis', 'I-Disease_Subtype']]\n",
      "inscope: 3\n",
      "batch_05_00240 annotator2_batch_05_00240_correct\n",
      "batch_05_00240.txt\n"
     ]
    },
    {
     "name": "stderr",
     "output_type": "stream",
     "text": [
      "DEBUG:urllib3.connectionpool:https://huggingface.co:443 \"HEAD /alvaroalon2/biobert_diseases_ner/resolve/main/config.json HTTP/1.1\" 200 0\n",
      "DEBUG:urllib3.connectionpool:https://huggingface.co:443 \"HEAD /alvaroalon2/biobert_diseases_ner/resolve/main/tokenizer_config.json HTTP/1.1\" 200 0\n"
     ]
    },
    {
     "name": "stdout",
     "output_type": "stream",
     "text": [
      "6 23 452 2\n",
      "[['MS', 'DISEASE'], ['MS', 'I-Disease_Subtype']]\n",
      "[['MS', 'DISEASE'], ['MS', 'B-Disease_Subtype']]\n",
      "[['multiple', 'DISEASE'], ['multiple', 'B-Disease_Subtype']]\n",
      "[['sclerosis', 'DISEASE'], ['sclerosis', 'I-Disease_Subtype']]\n",
      "[['Multiple', 'DISEASE'], ['Multiple', 'B-Disease_Subtype']]\n",
      "[['sclerosis', 'DISEASE'], ['sclerosis', 'I-Disease_Subtype']]\n",
      "inscope: 6\n",
      "batch_05_00241 annotator2_batch_05_00241_correct\n",
      "batch_05_00241.txt\n"
     ]
    },
    {
     "name": "stderr",
     "output_type": "stream",
     "text": [
      "DEBUG:urllib3.connectionpool:https://huggingface.co:443 \"HEAD /alvaroalon2/biobert_diseases_ner/resolve/main/config.json HTTP/1.1\" 200 0\n",
      "DEBUG:urllib3.connectionpool:https://huggingface.co:443 \"HEAD /alvaroalon2/biobert_diseases_ner/resolve/main/tokenizer_config.json HTTP/1.1\" 200 0\n"
     ]
    },
    {
     "name": "stdout",
     "output_type": "stream",
     "text": [
      "4 16 436 0\n",
      "[['MS', 'DISEASE'], ['MS', 'B-Disease_Subtype']]\n",
      "[['MS', 'DISEASE'], ['MS', 'B-Disease_Subtype']]\n",
      "[['MS', 'DISEASE'], ['MS', 'B-Disease_Subtype']]\n",
      "[['PPMS', 'DISEASE'], ['PPMS', 'B-Disease_Subtype']]\n",
      "inscope: 4\n",
      "batch_05_00242 annotator2_batch_05_00242_correct\n",
      "batch_05_00242.txt\n"
     ]
    },
    {
     "name": "stderr",
     "output_type": "stream",
     "text": [
      "DEBUG:urllib3.connectionpool:https://huggingface.co:443 \"HEAD /alvaroalon2/biobert_diseases_ner/resolve/main/config.json HTTP/1.1\" 200 0\n",
      "DEBUG:urllib3.connectionpool:https://huggingface.co:443 \"HEAD /alvaroalon2/biobert_diseases_ner/resolve/main/tokenizer_config.json HTTP/1.1\" 200 0\n"
     ]
    },
    {
     "name": "stdout",
     "output_type": "stream",
     "text": [
      "3 19 647 4\n",
      "[['MS', 'DISEASE'], ['MS', 'B-Disease_Subtype']]\n",
      "[['multiple', 'DISEASE'], ['multiple', 'B-Disease_Subtype']]\n",
      "[['sclerosis', 'DISEASE'], ['sclerosis', 'I-Disease_Subtype']]\n",
      "inscope: 3\n",
      "batch_05_00243 annotator2_batch_05_00243_correct\n",
      "batch_05_00243.txt\n"
     ]
    },
    {
     "name": "stderr",
     "output_type": "stream",
     "text": [
      "DEBUG:urllib3.connectionpool:https://huggingface.co:443 \"HEAD /alvaroalon2/biobert_diseases_ner/resolve/main/config.json HTTP/1.1\" 200 0\n",
      "DEBUG:urllib3.connectionpool:https://huggingface.co:443 \"HEAD /alvaroalon2/biobert_diseases_ner/resolve/main/tokenizer_config.json HTTP/1.1\" 200 0\n"
     ]
    },
    {
     "name": "stdout",
     "output_type": "stream",
     "text": [
      "10 113 739 8\n",
      "[['Multiple', 'DISEASE'], ['Multiple', 'B-Disease_Subtype']]\n",
      "[['sclerosis', 'DISEASE'], ['sclerosis', 'I-Disease_Subtype']]\n",
      "[['multiple', 'DISEASE'], ['multiple', 'B-Disease_Subtype']]\n",
      "[['sclerosis', 'DISEASE'], ['sclerosis', 'I-Disease_Subtype']]\n",
      "[['Multiple', 'DISEASE'], ['Multiple', 'B-Disease_Subtype']]\n",
      "[['sclerosis', 'DISEASE'], ['sclerosis', 'I-Disease_Subtype']]\n",
      "[['multiple', 'DISEASE'], ['multiple', 'B-Disease_Subtype']]\n",
      "[['sclerosis', 'DISEASE'], ['sclerosis', 'I-Disease_Subtype']]\n",
      "[['Multiple', 'DISEASE'], ['Multiple', 'B-Disease_Subtype']]\n",
      "[['sclerosis', 'DISEASE'], ['sclerosis', 'I-Disease_Subtype']]\n",
      "inscope: 10\n",
      "batch_05_00244 annotator2_batch_05_00244_correct\n",
      "batch_05_00244.txt\n"
     ]
    },
    {
     "name": "stderr",
     "output_type": "stream",
     "text": [
      "DEBUG:urllib3.connectionpool:https://huggingface.co:443 \"HEAD /alvaroalon2/biobert_diseases_ner/resolve/main/config.json HTTP/1.1\" 200 0\n"
     ]
    },
    {
     "name": "stdout",
     "output_type": "stream",
     "text": [
      "7 49 947 4\n",
      "[['multiple', 'DISEASE'], ['multiple', 'B-Disease_Subtype']]\n",
      "[['sclerosis', 'DISEASE'], ['sclerosis', 'I-Disease_Subtype']]\n",
      "[['multiple', 'DISEASE'], ['multiple', 'B-Disease_Subtype']]\n",
      "[['sclerosis', 'DISEASE'], ['sclerosis', 'I-Disease_Subtype']]\n",
      "[['multiple', 'DISEASE'], ['multiple', 'I-Disease_Subtype']]\n",
      "[['sclerosis', 'DISEASE'], ['sclerosis', 'I-Disease_Subtype']]\n",
      "[['MS', 'DISEASE'], ['MS', 'I-Disease_Subtype']]\n",
      "inscope: 7\n",
      "batch_05_00245 annotator2_batch_05_00245_correct\n",
      "batch_05_00245.txt\n"
     ]
    },
    {
     "name": "stderr",
     "output_type": "stream",
     "text": [
      "DEBUG:urllib3.connectionpool:https://huggingface.co:443 \"HEAD /alvaroalon2/biobert_diseases_ner/resolve/main/tokenizer_config.json HTTP/1.1\" 200 0\n",
      "DEBUG:urllib3.connectionpool:https://huggingface.co:443 \"HEAD /alvaroalon2/biobert_diseases_ner/resolve/main/config.json HTTP/1.1\" 200 0\n",
      "DEBUG:urllib3.connectionpool:https://huggingface.co:443 \"HEAD /alvaroalon2/biobert_diseases_ner/resolve/main/tokenizer_config.json HTTP/1.1\" 200 0\n"
     ]
    },
    {
     "name": "stdout",
     "output_type": "stream",
     "text": [
      "9 18 587 10\n",
      "[['Multiple', 'DISEASE'], ['Multiple', 'B-Disease_Subtype']]\n",
      "[['Sclerosis', 'DISEASE'], ['Sclerosis', 'I-Disease_Subtype']]\n",
      "[['Multiple', 'DISEASE'], ['Multiple', 'B-Disease_Subtype']]\n",
      "[['sclerosis', 'DISEASE'], ['sclerosis', 'I-Disease_Subtype']]\n",
      "[['multiple', 'DISEASE'], ['multiple', 'B-Disease_Subtype']]\n",
      "[['sclerosis', 'DISEASE'], ['sclerosis', 'I-Disease_Subtype']]\n",
      "[['weakness', 'DISEASE'], ['weakness', 'I-Disease_Subtype']]\n",
      "[['progressive', 'DISEASE'], ['progressive', 'I-Disease_Subtype']]\n",
      "[['MS', 'DISEASE'], ['MS', 'I-Disease_Subtype']]\n",
      "inscope: 9\n",
      "batch_05_00246 annotator2_batch_05_00246_correct\n",
      "batch_05_00246.txt\n"
     ]
    },
    {
     "name": "stderr",
     "output_type": "stream",
     "text": [
      "DEBUG:urllib3.connectionpool:https://huggingface.co:443 \"HEAD /alvaroalon2/biobert_diseases_ner/resolve/main/config.json HTTP/1.1\" 200 0\n",
      "DEBUG:urllib3.connectionpool:https://huggingface.co:443 \"HEAD /alvaroalon2/biobert_diseases_ner/resolve/main/tokenizer_config.json HTTP/1.1\" 200 0\n"
     ]
    },
    {
     "name": "stdout",
     "output_type": "stream",
     "text": [
      "7 80 806 2\n",
      "[['MS', 'DISEASE'], ['MS', 'B-Disease_Subtype']]\n",
      "[['multiple', 'DISEASE'], ['multiple', 'B-Disease_Subtype']]\n",
      "[['sclerosis', 'DISEASE'], ['sclerosis', 'I-Disease_Subtype']]\n",
      "[['multiple', 'DISEASE'], ['multiple', 'I-Disease_Subtype']]\n",
      "[['sclerosis', 'DISEASE'], ['sclerosis', 'I-Disease_Subtype']]\n",
      "[['MS', 'DISEASE'], ['MS', 'B-Disease_Subtype']]\n",
      "[['MS', 'DISEASE'], ['MS', 'B-Disease_Subtype']]\n",
      "inscope: 7\n",
      "batch_05_00248 annotator2_batch_05_00248_correct\n",
      "batch_05_00248.txt\n"
     ]
    },
    {
     "name": "stderr",
     "output_type": "stream",
     "text": [
      "DEBUG:urllib3.connectionpool:https://huggingface.co:443 \"HEAD /alvaroalon2/biobert_diseases_ner/resolve/main/config.json HTTP/1.1\" 200 0\n",
      "DEBUG:urllib3.connectionpool:https://huggingface.co:443 \"HEAD /alvaroalon2/biobert_diseases_ner/resolve/main/tokenizer_config.json HTTP/1.1\" 200 0\n"
     ]
    },
    {
     "name": "stdout",
     "output_type": "stream",
     "text": [
      "5 26 524 5\n",
      "[['MS', 'DISEASE'], ['MS', 'I-Disease_Subtype']]\n",
      "[['multiple', 'DISEASE'], ['multiple', 'I-Disease_Subtype']]\n",
      "[['sclerosis', 'DISEASE'], ['sclerosis', 'I-Disease_Subtype']]\n",
      "[['multiple', 'DISEASE'], ['multiple', 'B-Disease_Subtype']]\n",
      "[['sclerosis', 'DISEASE'], ['sclerosis', 'I-Disease_Subtype']]\n",
      "inscope: 5\n",
      "batch_05_00249 annotator2_batch_05_00249_correct\n",
      "batch_05_00249.txt\n"
     ]
    },
    {
     "name": "stderr",
     "output_type": "stream",
     "text": [
      "DEBUG:urllib3.connectionpool:https://huggingface.co:443 \"HEAD /alvaroalon2/biobert_diseases_ner/resolve/main/config.json HTTP/1.1\" 200 0\n",
      "DEBUG:urllib3.connectionpool:https://huggingface.co:443 \"HEAD /alvaroalon2/biobert_diseases_ner/resolve/main/tokenizer_config.json HTTP/1.1\" 200 0\n"
     ]
    },
    {
     "name": "stdout",
     "output_type": "stream",
     "text": [
      "1 13 526 5\n",
      "[['MS', 'DISEASE'], ['MS', 'B-Disease_Subtype']]\n",
      "inscope: 1\n",
      "batch_05_00250 annotator2_batch_05_00250_correct\n",
      "batch_05_00250.txt\n"
     ]
    },
    {
     "name": "stderr",
     "output_type": "stream",
     "text": [
      "DEBUG:urllib3.connectionpool:https://huggingface.co:443 \"HEAD /alvaroalon2/biobert_diseases_ner/resolve/main/config.json HTTP/1.1\" 200 0\n",
      "DEBUG:urllib3.connectionpool:https://huggingface.co:443 \"HEAD /alvaroalon2/biobert_diseases_ner/resolve/main/tokenizer_config.json HTTP/1.1\" 200 0\n"
     ]
    },
    {
     "name": "stdout",
     "output_type": "stream",
     "text": [
      "8 66 664 4\n",
      "[['multiple', 'DISEASE'], ['multiple', 'B-Disease_Subtype']]\n",
      "[['sclerosis', 'DISEASE'], ['sclerosis', 'I-Disease_Subtype']]\n",
      "[['multiple', 'DISEASE'], ['multiple', 'B-Disease_Subtype']]\n",
      "[['sclerosis', 'DISEASE'], ['sclerosis', 'I-Disease_Subtype']]\n",
      "[['multiple', 'DISEASE'], ['multiple', 'I-Disease_Subtype']]\n",
      "[['sclerosis', 'DISEASE'], ['sclerosis', 'I-Disease_Subtype']]\n",
      "[['multiple', 'DISEASE'], ['multiple', 'I-Disease_Subtype']]\n",
      "[['sclerosis', 'DISEASE'], ['sclerosis', 'I-Disease_Subtype']]\n",
      "inscope: 8\n",
      "batch_05_00251 annotator2_batch_05_00251_correct\n",
      "batch_05_00251.txt\n"
     ]
    },
    {
     "name": "stderr",
     "output_type": "stream",
     "text": [
      "DEBUG:urllib3.connectionpool:https://huggingface.co:443 \"HEAD /alvaroalon2/biobert_diseases_ner/resolve/main/config.json HTTP/1.1\" 200 0\n",
      "DEBUG:urllib3.connectionpool:https://huggingface.co:443 \"HEAD /alvaroalon2/biobert_diseases_ner/resolve/main/tokenizer_config.json HTTP/1.1\" 200 0\n"
     ]
    },
    {
     "name": "stdout",
     "output_type": "stream",
     "text": [
      "6 55 495 0\n",
      "[['multiple', 'DISEASE'], ['multiple', 'B-Disease_Subtype']]\n",
      "[['sclerosis', 'DISEASE'], ['sclerosis', 'I-Disease_Subtype']]\n",
      "[['Secondary', 'DISEASE'], ['Secondary', 'B-Disease_Subtype']]\n",
      "[['progressive', 'DISEASE'], ['progressive', 'I-Disease_Subtype']]\n",
      "[['multiple', 'DISEASE'], ['multiple', 'I-Disease_Subtype']]\n",
      "[['sclerosis', 'DISEASE'], ['sclerosis', 'I-Disease_Subtype']]\n",
      "inscope: 6\n",
      "batch_05_00252 annotator2_batch_05_00252_correct\n",
      "batch_05_00252.txt\n"
     ]
    },
    {
     "name": "stderr",
     "output_type": "stream",
     "text": [
      "DEBUG:urllib3.connectionpool:https://huggingface.co:443 \"HEAD /alvaroalon2/biobert_diseases_ner/resolve/main/config.json HTTP/1.1\" 200 0\n",
      "DEBUG:urllib3.connectionpool:https://huggingface.co:443 \"HEAD /alvaroalon2/biobert_diseases_ner/resolve/main/tokenizer_config.json HTTP/1.1\" 200 0\n"
     ]
    },
    {
     "name": "stdout",
     "output_type": "stream",
     "text": [
      "5 25 506 2\n",
      "[['Multiple', 'DISEASE'], ['Multiple', 'B-Disease_Subtype']]\n",
      "[['Sclerosis', 'DISEASE'], ['Sclerosis', 'I-Disease_Subtype']]\n",
      "[['MS', 'DISEASE'], ['MS', 'I-Disease_Subtype']]\n",
      "[['MS', 'DISEASE'], ['MS', 'B-Disease_Subtype']]\n",
      "[['MS', 'DISEASE'], ['MS', 'B-Disease_Subtype']]\n",
      "inscope: 5\n",
      "batch_05_00253 annotator2_batch_05_00253_correct\n",
      "batch_05_00253.txt\n"
     ]
    },
    {
     "name": "stderr",
     "output_type": "stream",
     "text": [
      "DEBUG:urllib3.connectionpool:https://huggingface.co:443 \"HEAD /alvaroalon2/biobert_diseases_ner/resolve/main/config.json HTTP/1.1\" 200 0\n",
      "DEBUG:urllib3.connectionpool:https://huggingface.co:443 \"HEAD /alvaroalon2/biobert_diseases_ner/resolve/main/tokenizer_config.json HTTP/1.1\" 200 0\n"
     ]
    },
    {
     "name": "stdout",
     "output_type": "stream",
     "text": [
      "2 34 482 1\n",
      "[['multiple', 'DISEASE'], ['multiple', 'B-Disease_Subtype']]\n",
      "[['sclerosis', 'DISEASE'], ['sclerosis', 'I-Disease_Subtype']]\n",
      "inscope: 2\n",
      "batch_06_00075 annotator2_batch_06_00075_correct\n",
      "batch_06_00075.txt\n"
     ]
    },
    {
     "name": "stderr",
     "output_type": "stream",
     "text": [
      "DEBUG:urllib3.connectionpool:https://huggingface.co:443 \"HEAD /alvaroalon2/biobert_diseases_ner/resolve/main/config.json HTTP/1.1\" 200 0\n",
      "DEBUG:urllib3.connectionpool:https://huggingface.co:443 \"HEAD /alvaroalon2/biobert_diseases_ner/resolve/main/tokenizer_config.json HTTP/1.1\" 200 0\n"
     ]
    },
    {
     "name": "stdout",
     "output_type": "stream",
     "text": [
      "0 52 377 1\n",
      "somevalue is zer0\n",
      "batch_06_00103 annotator2_batch_06_00103_correct\n",
      "batch_06_00103.txt\n"
     ]
    },
    {
     "name": "stderr",
     "output_type": "stream",
     "text": [
      "DEBUG:urllib3.connectionpool:https://huggingface.co:443 \"HEAD /alvaroalon2/biobert_diseases_ner/resolve/main/config.json HTTP/1.1\" 200 0\n",
      "DEBUG:urllib3.connectionpool:https://huggingface.co:443 \"HEAD /alvaroalon2/biobert_diseases_ner/resolve/main/tokenizer_config.json HTTP/1.1\" 200 0\n"
     ]
    },
    {
     "name": "stdout",
     "output_type": "stream",
     "text": [
      "1 57 450 0\n",
      "[['MS', 'DISEASE'], ['MS', 'B-MS_no_subtype']]\n",
      "inscope: 1\n",
      "batch_06_00127 annotator2_batch_06_00127_correct\n",
      "batch_06_00127.txt\n"
     ]
    },
    {
     "name": "stderr",
     "output_type": "stream",
     "text": [
      "DEBUG:urllib3.connectionpool:https://huggingface.co:443 \"HEAD /alvaroalon2/biobert_diseases_ner/resolve/main/config.json HTTP/1.1\" 200 0\n",
      "DEBUG:urllib3.connectionpool:https://huggingface.co:443 \"HEAD /alvaroalon2/biobert_diseases_ner/resolve/main/tokenizer_config.json HTTP/1.1\" 200 0\n"
     ]
    },
    {
     "name": "stdout",
     "output_type": "stream",
     "text": [
      "2 60 798 2\n",
      "[['MS', 'DISEASE'], ['MS', 'B-MS_no_subtype']]\n",
      "[['MS', 'DISEASE'], ['MS', 'B-MS_no_subtype']]\n",
      "inscope: 2\n",
      "batch_07_00100 annotator2_batch_07_00100_correct\n",
      "batch_07_00100.txt\n"
     ]
    },
    {
     "name": "stderr",
     "output_type": "stream",
     "text": [
      "DEBUG:urllib3.connectionpool:https://huggingface.co:443 \"HEAD /alvaroalon2/biobert_diseases_ner/resolve/main/config.json HTTP/1.1\" 200 0\n",
      "DEBUG:urllib3.connectionpool:https://huggingface.co:443 \"HEAD /alvaroalon2/biobert_diseases_ner/resolve/main/tokenizer_config.json HTTP/1.1\" 200 0\n"
     ]
    },
    {
     "name": "stdout",
     "output_type": "stream",
     "text": [
      "6 28 534 8\n",
      "[['MS', 'DISEASE'], ['MS', 'B-RRMS']]\n",
      "[['MS', 'DISEASE'], ['MS', 'B-RRMS']]\n",
      "[['MS', 'DISEASE'], ['MS', 'B-RRMS']]\n",
      "[['MS', 'DISEASE'], ['MS', 'B-RRMS']]\n",
      "[['Multiple', 'DISEASE'], ['Multiple', 'B-RRMS']]\n",
      "[['sclerosis', 'DISEASE'], ['sclerosis', 'I-RRMS']]\n",
      "inscope: 6\n",
      "batch_07_00101 annotator2_batch_07_00101_correct\n",
      "batch_07_00101.txt\n"
     ]
    },
    {
     "name": "stderr",
     "output_type": "stream",
     "text": [
      "DEBUG:urllib3.connectionpool:https://huggingface.co:443 \"HEAD /alvaroalon2/biobert_diseases_ner/resolve/main/config.json HTTP/1.1\" 200 0\n",
      "DEBUG:urllib3.connectionpool:https://huggingface.co:443 \"HEAD /alvaroalon2/biobert_diseases_ner/resolve/main/tokenizer_config.json HTTP/1.1\" 200 0\n"
     ]
    },
    {
     "name": "stdout",
     "output_type": "stream",
     "text": [
      "7 19 498 5\n",
      "[['relapsing', 'DISEASE'], ['relapsing', 'B-RRMS']]\n",
      "[['-', 'DISEASE'], ['-', 'I-RRMS']]\n",
      "[['remitting', 'DISEASE'], ['remitting', 'I-RRMS']]\n",
      "[['MS', 'DISEASE'], ['MS', 'I-RRMS']]\n",
      "[['MS', 'DISEASE'], ['MS', 'I-RRMS']]\n",
      "[['MS', 'DISEASE'], ['MS', 'B-RRMS']]\n",
      "[['MS', 'DISEASE'], ['MS', 'B-RRMS']]\n",
      "inscope: 7\n",
      "batch_07_00102 annotator2_batch_07_00102_correct\n",
      "batch_07_00102.txt\n"
     ]
    },
    {
     "name": "stderr",
     "output_type": "stream",
     "text": [
      "DEBUG:urllib3.connectionpool:https://huggingface.co:443 \"HEAD /alvaroalon2/biobert_diseases_ner/resolve/main/config.json HTTP/1.1\" 200 0\n",
      "DEBUG:urllib3.connectionpool:https://huggingface.co:443 \"HEAD /alvaroalon2/biobert_diseases_ner/resolve/main/tokenizer_config.json HTTP/1.1\" 200 0\n"
     ]
    },
    {
     "name": "stdout",
     "output_type": "stream",
     "text": [
      "1 34 529 0\n",
      "[['MS', 'DISEASE'], ['MS', 'B-MS_no_subtype']]\n",
      "inscope: 1\n",
      "batch_07_00103 annotator2_batch_07_00103_correct\n",
      "batch_07_00103.txt\n"
     ]
    },
    {
     "name": "stderr",
     "output_type": "stream",
     "text": [
      "DEBUG:urllib3.connectionpool:https://huggingface.co:443 \"HEAD /alvaroalon2/biobert_diseases_ner/resolve/main/config.json HTTP/1.1\" 200 0\n",
      "DEBUG:urllib3.connectionpool:https://huggingface.co:443 \"HEAD /alvaroalon2/biobert_diseases_ner/resolve/main/tokenizer_config.json HTTP/1.1\" 200 0\n"
     ]
    },
    {
     "name": "stdout",
     "output_type": "stream",
     "text": [
      "4 66 1132 4\n",
      "[['Multiple', 'DISEASE'], ['Multiple', 'B-RRMS']]\n",
      "[['sclerosis', 'DISEASE'], ['sclerosis', 'I-RRMS']]\n",
      "[['MS', 'DISEASE'], ['MS', 'B-RRMS']]\n",
      "[['MS', 'DISEASE'], ['MS', 'B-RRMS']]\n",
      "inscope: 4\n",
      "batch_07_00105 annotator2_batch_07_00105_correct\n",
      "batch_07_00105.txt\n"
     ]
    },
    {
     "name": "stderr",
     "output_type": "stream",
     "text": [
      "DEBUG:urllib3.connectionpool:https://huggingface.co:443 \"HEAD /alvaroalon2/biobert_diseases_ner/resolve/main/config.json HTTP/1.1\" 200 0\n",
      "DEBUG:urllib3.connectionpool:https://huggingface.co:443 \"HEAD /alvaroalon2/biobert_diseases_ner/resolve/main/tokenizer_config.json HTTP/1.1\" 200 0\n"
     ]
    },
    {
     "name": "stdout",
     "output_type": "stream",
     "text": [
      "5 85 1232 3\n",
      "[['multiple', 'DISEASE'], ['multiple', 'B-PRMS']]\n",
      "[['sclerosis', 'DISEASE'], ['sclerosis', 'I-PRMS']]\n",
      "[['MS', 'DISEASE'], ['MS', 'B-PRMS']]\n",
      "[['multiple', 'DISEASE'], ['multiple', 'B-PRMS']]\n",
      "[['sclerosis', 'DISEASE'], ['sclerosis', 'I-PRMS']]\n",
      "inscope: 5\n",
      "batch_07_00106 annotator2_batch_07_00106_correct\n",
      "batch_07_00106.txt\n"
     ]
    },
    {
     "name": "stderr",
     "output_type": "stream",
     "text": [
      "DEBUG:urllib3.connectionpool:https://huggingface.co:443 \"HEAD /alvaroalon2/biobert_diseases_ner/resolve/main/config.json HTTP/1.1\" 200 0\n",
      "DEBUG:urllib3.connectionpool:https://huggingface.co:443 \"HEAD /alvaroalon2/biobert_diseases_ner/resolve/main/tokenizer_config.json HTTP/1.1\" 200 0\n"
     ]
    },
    {
     "name": "stdout",
     "output_type": "stream",
     "text": [
      "3 83 573 3\n",
      "[['Multiple', 'DISEASE'], ['Multiple', 'B-MS_no_subtype']]\n",
      "[['Sclerosis', 'DISEASE'], ['Sclerosis', 'I-MS_no_subtype']]\n",
      "[['MS', 'DISEASE'], ['MS', 'B-MS_no_subtype']]\n",
      "inscope: 3\n",
      "batch_07_00107 annotator2_batch_07_00107_correct\n",
      "batch_07_00107.txt\n"
     ]
    },
    {
     "name": "stderr",
     "output_type": "stream",
     "text": [
      "DEBUG:urllib3.connectionpool:https://huggingface.co:443 \"HEAD /alvaroalon2/biobert_diseases_ner/resolve/main/config.json HTTP/1.1\" 200 0\n",
      "DEBUG:urllib3.connectionpool:https://huggingface.co:443 \"HEAD /alvaroalon2/biobert_diseases_ner/resolve/main/tokenizer_config.json HTTP/1.1\" 200 0\n"
     ]
    },
    {
     "name": "stdout",
     "output_type": "stream",
     "text": [
      "4 50 437 4\n",
      "[['multiple', 'DISEASE'], ['multiple', 'B-RRMS']]\n",
      "[['sclerosis', 'DISEASE'], ['sclerosis', 'I-RRMS']]\n",
      "[['multiple', 'DISEASE'], ['multiple', 'I-RRMS']]\n",
      "[['sclerosis', 'DISEASE'], ['sclerosis', 'I-RRMS']]\n",
      "inscope: 4\n",
      "batch_07_00108 annotator2_batch_07_00108_correct\n",
      "batch_07_00108.txt\n"
     ]
    },
    {
     "name": "stderr",
     "output_type": "stream",
     "text": [
      "DEBUG:urllib3.connectionpool:https://huggingface.co:443 \"HEAD /alvaroalon2/biobert_diseases_ner/resolve/main/config.json HTTP/1.1\" 200 0\n",
      "DEBUG:urllib3.connectionpool:https://huggingface.co:443 \"HEAD /alvaroalon2/biobert_diseases_ner/resolve/main/tokenizer_config.json HTTP/1.1\" 200 0\n"
     ]
    },
    {
     "name": "stdout",
     "output_type": "stream",
     "text": [
      "4 14 383 7\n",
      "[['MS', 'DISEASE'], ['MS', 'B-RRMS']]\n",
      "[['multiple', 'DISEASE'], ['multiple', 'B-RRMS']]\n",
      "[['sclerosis', 'DISEASE'], ['sclerosis', 'I-RRMS']]\n",
      "[['MS', 'DISEASE'], ['MS', 'I-RRMS']]\n",
      "inscope: 4\n",
      "batch_07_00109 annotator2_batch_07_00109_correct\n",
      "batch_07_00109.txt\n"
     ]
    },
    {
     "name": "stderr",
     "output_type": "stream",
     "text": [
      "DEBUG:urllib3.connectionpool:https://huggingface.co:443 \"HEAD /alvaroalon2/biobert_diseases_ner/resolve/main/config.json HTTP/1.1\" 200 0\n",
      "DEBUG:urllib3.connectionpool:https://huggingface.co:443 \"HEAD /alvaroalon2/biobert_diseases_ner/resolve/main/tokenizer_config.json HTTP/1.1\" 200 0\n"
     ]
    },
    {
     "name": "stdout",
     "output_type": "stream",
     "text": [
      "6 83 774 4\n",
      "[['Multiple', 'DISEASE'], ['Multiple', 'B-RRMS']]\n",
      "[['Sclerosis', 'DISEASE'], ['Sclerosis', 'I-RRMS']]\n",
      "[['Multiple', 'DISEASE'], ['Multiple', 'B-RRMS']]\n",
      "[['sclerosis', 'DISEASE'], ['sclerosis', 'I-RRMS']]\n",
      "[['Multiple', 'DISEASE'], ['Multiple', 'B-RRMS']]\n",
      "[['sclerosis', 'DISEASE'], ['sclerosis', 'I-RRMS']]\n",
      "inscope: 6\n",
      "batch_07_00110 annotator2_batch_07_00110_correct\n",
      "batch_07_00110.txt\n"
     ]
    },
    {
     "name": "stderr",
     "output_type": "stream",
     "text": [
      "DEBUG:urllib3.connectionpool:https://huggingface.co:443 \"HEAD /alvaroalon2/biobert_diseases_ner/resolve/main/config.json HTTP/1.1\" 200 0\n",
      "DEBUG:urllib3.connectionpool:https://huggingface.co:443 \"HEAD /alvaroalon2/biobert_diseases_ner/resolve/main/tokenizer_config.json HTTP/1.1\" 200 0\n"
     ]
    },
    {
     "name": "stdout",
     "output_type": "stream",
     "text": [
      "9 50 938 10\n",
      "[['Multiple', 'DISEASE'], ['Multiple', 'B-RRMS']]\n",
      "[['sclerosis', 'DISEASE'], ['sclerosis', 'I-RRMS']]\n",
      "[['MS', 'DISEASE'], ['MS', 'B-RRMS']]\n",
      "[['Multiple', 'DISEASE'], ['Multiple', 'B-RRMS']]\n",
      "[['Sclerosis', 'DISEASE'], ['Sclerosis', 'I-RRMS']]\n",
      "[['Multiple', 'DISEASE'], ['Multiple', 'B-RRMS']]\n",
      "[['Sclerosis', 'DISEASE'], ['Sclerosis', 'I-RRMS']]\n",
      "[['multiple', 'DISEASE'], ['multiple', 'B-RRMS']]\n",
      "[['sclerosis', 'DISEASE'], ['sclerosis', 'I-RRMS']]\n",
      "inscope: 9\n",
      "batch_07_00111 annotator2_batch_07_00111_correct\n",
      "batch_07_00111.txt\n"
     ]
    },
    {
     "name": "stderr",
     "output_type": "stream",
     "text": [
      "DEBUG:urllib3.connectionpool:https://huggingface.co:443 \"HEAD /alvaroalon2/biobert_diseases_ner/resolve/main/config.json HTTP/1.1\" 200 0\n",
      "DEBUG:urllib3.connectionpool:https://huggingface.co:443 \"HEAD /alvaroalon2/biobert_diseases_ner/resolve/main/tokenizer_config.json HTTP/1.1\" 200 0\n"
     ]
    },
    {
     "name": "stdout",
     "output_type": "stream",
     "text": [
      "6 107 951 1\n",
      "[['Multiple', 'DISEASE'], ['Multiple', 'B-RRMS']]\n",
      "[['sclerosis', 'DISEASE'], ['sclerosis', 'I-RRMS']]\n",
      "[['MS', 'DISEASE'], ['MS', 'B-RRMS']]\n",
      "[['multiple', 'DISEASE'], ['multiple', 'B-RRMS']]\n",
      "[['sclerosis', 'DISEASE'], ['sclerosis', 'I-RRMS']]\n",
      "[['MS', 'DISEASE'], ['MS', 'B-RRMS']]\n",
      "inscope: 6\n",
      "batch_07_00112 annotator2_batch_07_00112_correct\n",
      "batch_07_00112.txt\n"
     ]
    },
    {
     "name": "stderr",
     "output_type": "stream",
     "text": [
      "DEBUG:urllib3.connectionpool:https://huggingface.co:443 \"HEAD /alvaroalon2/biobert_diseases_ner/resolve/main/config.json HTTP/1.1\" 200 0\n",
      "DEBUG:urllib3.connectionpool:https://huggingface.co:443 \"HEAD /alvaroalon2/biobert_diseases_ner/resolve/main/tokenizer_config.json HTTP/1.1\" 200 0\n"
     ]
    },
    {
     "name": "stdout",
     "output_type": "stream",
     "text": [
      "2 1 343 6\n",
      "[['multiple', 'DISEASE'], ['multiple', 'I-RRMS']]\n",
      "[['sclerosis', 'DISEASE'], ['sclerosis', 'I-RRMS']]\n",
      "inscope: 2\n",
      "batch_07_00113 annotator2_batch_07_00113_correct\n",
      "batch_07_00113.txt\n"
     ]
    },
    {
     "name": "stderr",
     "output_type": "stream",
     "text": [
      "DEBUG:urllib3.connectionpool:https://huggingface.co:443 \"HEAD /alvaroalon2/biobert_diseases_ner/resolve/main/config.json HTTP/1.1\" 200 0\n",
      "DEBUG:urllib3.connectionpool:https://huggingface.co:443 \"HEAD /alvaroalon2/biobert_diseases_ner/resolve/main/tokenizer_config.json HTTP/1.1\" 200 0\n"
     ]
    },
    {
     "name": "stdout",
     "output_type": "stream",
     "text": [
      "2 37 379 1\n",
      "[['multiple', 'DISEASE'], ['multiple', 'B-MS_no_subtype']]\n",
      "[['sclerosis', 'DISEASE'], ['sclerosis', 'I-MS_no_subtype']]\n",
      "inscope: 2\n",
      "batch_07_00114 annotator2_batch_07_00114_correct\n",
      "batch_07_00114.txt\n"
     ]
    },
    {
     "name": "stderr",
     "output_type": "stream",
     "text": [
      "DEBUG:urllib3.connectionpool:https://huggingface.co:443 \"HEAD /alvaroalon2/biobert_diseases_ner/resolve/main/config.json HTTP/1.1\" 200 0\n",
      "DEBUG:urllib3.connectionpool:https://huggingface.co:443 \"HEAD /alvaroalon2/biobert_diseases_ner/resolve/main/tokenizer_config.json HTTP/1.1\" 200 0\n"
     ]
    },
    {
     "name": "stdout",
     "output_type": "stream",
     "text": [
      "3 115 936 0\n",
      "[['MS', 'DISEASE'], ['MS', 'B-MS_no_subtype']]\n",
      "[['multiple', 'DISEASE'], ['multiple', 'B-MS_no_subtype']]\n",
      "[['sclerosis', 'DISEASE'], ['sclerosis', 'I-MS_no_subtype']]\n",
      "inscope: 3\n",
      "batch_07_00115 annotator2_batch_07_00115_correct\n",
      "batch_07_00115.txt\n"
     ]
    },
    {
     "name": "stderr",
     "output_type": "stream",
     "text": [
      "DEBUG:urllib3.connectionpool:https://huggingface.co:443 \"HEAD /alvaroalon2/biobert_diseases_ner/resolve/main/config.json HTTP/1.1\" 200 0\n",
      "DEBUG:urllib3.connectionpool:https://huggingface.co:443 \"HEAD /alvaroalon2/biobert_diseases_ner/resolve/main/tokenizer_config.json HTTP/1.1\" 200 0\n"
     ]
    },
    {
     "name": "stdout",
     "output_type": "stream",
     "text": [
      "2 21 929 0\n",
      "[['multiple', 'DISEASE'], ['multiple', 'B-MS_no_subtype']]\n",
      "[['sclerosis', 'DISEASE'], ['sclerosis', 'I-MS_no_subtype']]\n",
      "inscope: 2\n",
      "batch_07_00116 annotator2_batch_07_00116_correct\n",
      "batch_07_00116.txt\n"
     ]
    },
    {
     "name": "stderr",
     "output_type": "stream",
     "text": [
      "DEBUG:urllib3.connectionpool:https://huggingface.co:443 \"HEAD /alvaroalon2/biobert_diseases_ner/resolve/main/config.json HTTP/1.1\" 200 0\n",
      "DEBUG:urllib3.connectionpool:https://huggingface.co:443 \"HEAD /alvaroalon2/biobert_diseases_ner/resolve/main/tokenizer_config.json HTTP/1.1\" 200 0\n"
     ]
    },
    {
     "name": "stdout",
     "output_type": "stream",
     "text": [
      "5 67 1107 0\n",
      "[['Multiple', 'DISEASE'], ['Multiple', 'B-MS_no_subtype']]\n",
      "[['sclerosis', 'DISEASE'], ['sclerosis', 'I-MS_no_subtype']]\n",
      "[['sclerosis', 'DISEASE'], ['sclerosis', 'I-MS_no_subtype']]\n",
      "[['Multiple', 'DISEASE'], ['Multiple', 'B-MS_no_subtype']]\n",
      "[['sclerosis', 'DISEASE'], ['sclerosis', 'I-MS_no_subtype']]\n",
      "inscope: 5\n",
      "batch_07_00117 annotator2_batch_07_00117_correct\n",
      "batch_07_00117.txt\n"
     ]
    },
    {
     "name": "stderr",
     "output_type": "stream",
     "text": [
      "DEBUG:urllib3.connectionpool:https://huggingface.co:443 \"HEAD /alvaroalon2/biobert_diseases_ner/resolve/main/config.json HTTP/1.1\" 200 0\n",
      "DEBUG:urllib3.connectionpool:https://huggingface.co:443 \"HEAD /alvaroalon2/biobert_diseases_ner/resolve/main/tokenizer_config.json HTTP/1.1\" 200 0\n"
     ]
    },
    {
     "name": "stdout",
     "output_type": "stream",
     "text": [
      "5 17 626 4\n",
      "[['MS', 'DISEASE'], ['MS', 'B-RRMS']]\n",
      "[['MS', 'DISEASE'], ['MS', 'B-RRMS']]\n",
      "[['MS', 'DISEASE'], ['MS', 'B-RRMS']]\n",
      "[['symptoms', 'DISEASE'], ['symptoms', 'B-Relapse_date']]\n",
      "[['MS', 'DISEASE'], ['MS', 'B-RRMS']]\n",
      "inscope: 5\n",
      "batch_07_00118 annotator2_batch_07_00118_correct\n",
      "batch_07_00118.txt\n"
     ]
    },
    {
     "name": "stderr",
     "output_type": "stream",
     "text": [
      "DEBUG:urllib3.connectionpool:https://huggingface.co:443 \"HEAD /alvaroalon2/biobert_diseases_ner/resolve/main/config.json HTTP/1.1\" 200 0\n",
      "DEBUG:urllib3.connectionpool:https://huggingface.co:443 \"HEAD /alvaroalon2/biobert_diseases_ner/resolve/main/tokenizer_config.json HTTP/1.1\" 200 0\n"
     ]
    },
    {
     "name": "stdout",
     "output_type": "stream",
     "text": [
      "0 32 964 1\n",
      "somevalue is zer0\n",
      "batch_07_00119 annotator2_batch_07_00119_correct\n",
      "batch_07_00119.txt\n"
     ]
    },
    {
     "name": "stderr",
     "output_type": "stream",
     "text": [
      "DEBUG:urllib3.connectionpool:https://huggingface.co:443 \"HEAD /alvaroalon2/biobert_diseases_ner/resolve/main/config.json HTTP/1.1\" 200 0\n"
     ]
    },
    {
     "name": "stdout",
     "output_type": "stream",
     "text": [
      "2 18 645 2\n",
      "[['Multiple', 'DISEASE'], ['Multiple', 'B-RRMS']]\n",
      "[['sclerosis', 'DISEASE'], ['sclerosis', 'I-RRMS']]\n",
      "inscope: 2\n",
      "batch_07_00121 annotator2_batch_07_00121_correct\n",
      "batch_07_00121.txt\n"
     ]
    },
    {
     "name": "stderr",
     "output_type": "stream",
     "text": [
      "DEBUG:urllib3.connectionpool:https://huggingface.co:443 \"HEAD /alvaroalon2/biobert_diseases_ner/resolve/main/tokenizer_config.json HTTP/1.1\" 200 0\n",
      "DEBUG:urllib3.connectionpool:https://huggingface.co:443 \"HEAD /alvaroalon2/biobert_diseases_ner/resolve/main/config.json HTTP/1.1\" 200 0\n",
      "DEBUG:urllib3.connectionpool:https://huggingface.co:443 \"HEAD /alvaroalon2/biobert_diseases_ner/resolve/main/tokenizer_config.json HTTP/1.1\" 200 0\n"
     ]
    },
    {
     "name": "stdout",
     "output_type": "stream",
     "text": [
      "1 14 961 0\n",
      "[['MS', 'DISEASE'], ['MS', 'B-MS_no_subtype']]\n",
      "inscope: 1\n",
      "batch_07_00122 annotator2_batch_07_00122_correct\n",
      "batch_07_00122.txt\n"
     ]
    },
    {
     "name": "stderr",
     "output_type": "stream",
     "text": [
      "DEBUG:urllib3.connectionpool:https://huggingface.co:443 \"HEAD /alvaroalon2/biobert_diseases_ner/resolve/main/config.json HTTP/1.1\" 200 0\n",
      "DEBUG:urllib3.connectionpool:https://huggingface.co:443 \"HEAD /alvaroalon2/biobert_diseases_ner/resolve/main/tokenizer_config.json HTTP/1.1\" 200 0\n"
     ]
    },
    {
     "name": "stdout",
     "output_type": "stream",
     "text": [
      "8 6 379 25\n",
      "[['Multiple', 'DISEASE'], ['Multiple', 'B-SPMS']]\n",
      "[['Sclerosis', 'DISEASE'], ['Sclerosis', 'I-SPMS']]\n",
      "[['MS', 'DISEASE'], ['MS', 'B-SPMS']]\n",
      "[['MS', 'DISEASE'], ['MS', 'B-SPMS']]\n",
      "[['MS', 'DISEASE'], ['MS', 'B-SPMS']]\n",
      "[['RRMS', 'DISEASE'], ['RRMS', 'I-SPMS']]\n",
      "[['SPMS', 'DISEASE'], ['SPMS', 'I-SPMS']]\n",
      "[['MS', 'DISEASE'], ['MS', 'I-SPMS']]\n",
      "inscope: 8\n",
      "batch_07_00124 annotator2_batch_07_00124_correct\n",
      "batch_07_00124.txt\n"
     ]
    },
    {
     "name": "stderr",
     "output_type": "stream",
     "text": [
      "DEBUG:urllib3.connectionpool:https://huggingface.co:443 \"HEAD /alvaroalon2/biobert_diseases_ner/resolve/main/config.json HTTP/1.1\" 200 0\n",
      "DEBUG:urllib3.connectionpool:https://huggingface.co:443 \"HEAD /alvaroalon2/biobert_diseases_ner/resolve/main/tokenizer_config.json HTTP/1.1\" 200 0\n"
     ]
    },
    {
     "name": "stdout",
     "output_type": "stream",
     "text": [
      "4 45 893 2\n",
      "[['MS', 'DISEASE'], ['MS', 'B-RRMS']]\n",
      "[['MS', 'DISEASE'], ['MS', 'B-RRMS']]\n",
      "[['multiple', 'DISEASE'], ['multiple', 'I-RRMS']]\n",
      "[['sclerosis', 'DISEASE'], ['sclerosis', 'I-RRMS']]\n",
      "inscope: 4\n",
      "batch_07_00125 annotator2_batch_07_00125_correct\n",
      "batch_07_00125.txt\n"
     ]
    },
    {
     "name": "stderr",
     "output_type": "stream",
     "text": [
      "DEBUG:urllib3.connectionpool:https://huggingface.co:443 \"HEAD /alvaroalon2/biobert_diseases_ner/resolve/main/config.json HTTP/1.1\" 200 0\n",
      "DEBUG:urllib3.connectionpool:https://huggingface.co:443 \"HEAD /alvaroalon2/biobert_diseases_ner/resolve/main/tokenizer_config.json HTTP/1.1\" 200 0\n"
     ]
    },
    {
     "name": "stdout",
     "output_type": "stream",
     "text": [
      "8 25 620 7\n",
      "[['Multiple', 'DISEASE'], ['Multiple', 'B-RRMS']]\n",
      "[['Sclerosis', 'DISEASE'], ['Sclerosis', 'I-RRMS']]\n",
      "[['Multiple', 'DISEASE'], ['Multiple', 'B-RRMS']]\n",
      "[['Sclerosis', 'DISEASE'], ['Sclerosis', 'I-RRMS']]\n",
      "[['MS', 'DISEASE'], ['MS', 'B-RRMS']]\n",
      "[['Multiple', 'DISEASE'], ['Multiple', 'B-RRMS']]\n",
      "[['Sclerosis', 'DISEASE'], ['Sclerosis', 'I-RRMS']]\n",
      "[['MS', 'DISEASE'], ['MS', 'I-RRMS']]\n",
      "inscope: 8\n",
      "batch_07_00126 annotator2_batch_07_00126_correct\n",
      "batch_07_00126.txt\n"
     ]
    },
    {
     "name": "stderr",
     "output_type": "stream",
     "text": [
      "DEBUG:urllib3.connectionpool:https://huggingface.co:443 \"HEAD /alvaroalon2/biobert_diseases_ner/resolve/main/config.json HTTP/1.1\" 200 0\n",
      "DEBUG:urllib3.connectionpool:https://huggingface.co:443 \"HEAD /alvaroalon2/biobert_diseases_ner/resolve/main/tokenizer_config.json HTTP/1.1\" 200 0\n"
     ]
    },
    {
     "name": "stdout",
     "output_type": "stream",
     "text": [
      "6 25 295 4\n",
      "[['multiple', 'DISEASE'], ['multiple', 'B-RRMS']]\n",
      "[['sclerosis', 'DISEASE'], ['sclerosis', 'I-RRMS']]\n",
      "[['MS', 'DISEASE'], ['MS', 'B-RRMS']]\n",
      "[['MS', 'DISEASE'], ['MS', 'B-RRMS']]\n",
      "[['Multiple', 'DISEASE'], ['Multiple', 'B-RRMS']]\n",
      "[['sclerosis', 'DISEASE'], ['sclerosis', 'I-RRMS']]\n",
      "inscope: 6\n",
      "batch_07_00127 annotator2_batch_07_00127_correct\n",
      "batch_07_00127.txt\n"
     ]
    },
    {
     "name": "stderr",
     "output_type": "stream",
     "text": [
      "DEBUG:urllib3.connectionpool:https://huggingface.co:443 \"HEAD /alvaroalon2/biobert_diseases_ner/resolve/main/config.json HTTP/1.1\" 200 0\n",
      "DEBUG:urllib3.connectionpool:https://huggingface.co:443 \"HEAD /alvaroalon2/biobert_diseases_ner/resolve/main/tokenizer_config.json HTTP/1.1\" 200 0\n"
     ]
    },
    {
     "name": "stdout",
     "output_type": "stream",
     "text": [
      "11 25 841 10\n",
      "[['multiple', 'DISEASE'], ['multiple', 'B-RRMS']]\n",
      "[['sclerosis', 'DISEASE'], ['sclerosis', 'I-RRMS']]\n",
      "[['multiple', 'DISEASE'], ['multiple', 'B-RRMS']]\n",
      "[['sclerosis', 'DISEASE'], ['sclerosis', 'I-RRMS']]\n",
      "[['MS', 'DISEASE'], ['MS', 'B-Temporal_history_of_relapse']]\n",
      "[['multiple', 'DISEASE'], ['multiple', 'B-RRMS']]\n",
      "[['sclerosis', 'DISEASE'], ['sclerosis', 'I-RRMS']]\n",
      "[['Multiple', 'DISEASE'], ['Multiple', 'B-RRMS']]\n",
      "[['sclerosis', 'DISEASE'], ['sclerosis', 'I-RRMS']]\n",
      "[['multiple', 'DISEASE'], ['multiple', 'B-RRMS']]\n",
      "[['sclerosis', 'DISEASE'], ['sclerosis', 'I-RRMS']]\n",
      "inscope: 11\n",
      "batch_07_00128 annotator2_batch_07_00128_correct\n",
      "batch_07_00128.txt\n"
     ]
    },
    {
     "name": "stderr",
     "output_type": "stream",
     "text": [
      "DEBUG:urllib3.connectionpool:https://huggingface.co:443 \"HEAD /alvaroalon2/biobert_diseases_ner/resolve/main/config.json HTTP/1.1\" 200 0\n",
      "DEBUG:urllib3.connectionpool:https://huggingface.co:443 \"HEAD /alvaroalon2/biobert_diseases_ner/resolve/main/tokenizer_config.json HTTP/1.1\" 200 0\n"
     ]
    },
    {
     "name": "stdout",
     "output_type": "stream",
     "text": [
      "3 45 585 1\n",
      "[['multiple', 'DISEASE'], ['multiple', 'B-RRMS']]\n",
      "[['sclerosis', 'DISEASE'], ['sclerosis', 'I-RRMS']]\n",
      "[['MS', 'DISEASE'], ['MS', 'B-RRMS']]\n",
      "inscope: 3\n",
      "batch_07_00129 annotator2_batch_07_00129_correct\n",
      "batch_07_00129.txt\n"
     ]
    },
    {
     "name": "stderr",
     "output_type": "stream",
     "text": [
      "DEBUG:urllib3.connectionpool:https://huggingface.co:443 \"HEAD /alvaroalon2/biobert_diseases_ner/resolve/main/config.json HTTP/1.1\" 200 0\n",
      "DEBUG:urllib3.connectionpool:https://huggingface.co:443 \"HEAD /alvaroalon2/biobert_diseases_ner/resolve/main/tokenizer_config.json HTTP/1.1\" 200 0\n"
     ]
    },
    {
     "name": "stdout",
     "output_type": "stream",
     "text": [
      "5 14 409 0\n",
      "[['MS', 'DISEASE'], ['MS', 'B-MS_no_subtype']]\n",
      "[['Multiple', 'DISEASE'], ['Multiple', 'B-MS_no_subtype']]\n",
      "[['sclerosis', 'DISEASE'], ['sclerosis', 'I-MS_no_subtype']]\n",
      "[['Multiple', 'DISEASE'], ['Multiple', 'B-MS_no_subtype']]\n",
      "[['sclerosis', 'DISEASE'], ['sclerosis', 'I-MS_no_subtype']]\n",
      "inscope: 5\n",
      "batch_07_00130 annotator2_batch_07_00130_correct\n",
      "batch_07_00130.txt\n"
     ]
    },
    {
     "name": "stderr",
     "output_type": "stream",
     "text": [
      "DEBUG:urllib3.connectionpool:https://huggingface.co:443 \"HEAD /alvaroalon2/biobert_diseases_ner/resolve/main/config.json HTTP/1.1\" 200 0\n",
      "DEBUG:urllib3.connectionpool:https://huggingface.co:443 \"HEAD /alvaroalon2/biobert_diseases_ner/resolve/main/tokenizer_config.json HTTP/1.1\" 200 0\n"
     ]
    },
    {
     "name": "stdout",
     "output_type": "stream",
     "text": [
      "8 59 638 1\n",
      "[['Multiple', 'DISEASE'], ['Multiple', 'B-MS_no_subtype']]\n",
      "[['Sclerosis', 'DISEASE'], ['Sclerosis', 'I-MS_no_subtype']]\n",
      "[['Multiple', 'DISEASE'], ['Multiple', 'B-MS_no_subtype']]\n",
      "[['Sclerosis', 'DISEASE'], ['Sclerosis', 'I-MS_no_subtype']]\n",
      "[['Multiple', 'DISEASE'], ['Multiple', 'B-MS_no_subtype']]\n",
      "[['Sclerosis', 'DISEASE'], ['Sclerosis', 'I-MS_no_subtype']]\n",
      "[['Multiple', 'DISEASE'], ['Multiple', 'B-MS_no_subtype']]\n",
      "[['Sclerosis', 'DISEASE'], ['Sclerosis', 'I-MS_no_subtype']]\n",
      "inscope: 8\n",
      "batch_07_00131 annotator2_batch_07_00131_correct\n",
      "batch_07_00131.txt\n"
     ]
    },
    {
     "name": "stderr",
     "output_type": "stream",
     "text": [
      "DEBUG:urllib3.connectionpool:https://huggingface.co:443 \"HEAD /alvaroalon2/biobert_diseases_ner/resolve/main/config.json HTTP/1.1\" 200 0\n",
      "DEBUG:urllib3.connectionpool:https://huggingface.co:443 \"HEAD /alvaroalon2/biobert_diseases_ner/resolve/main/tokenizer_config.json HTTP/1.1\" 200 0\n"
     ]
    },
    {
     "name": "stdout",
     "output_type": "stream",
     "text": [
      "4 58 663 0\n",
      "[['multiple', 'DISEASE'], ['multiple', 'B-MS_no_subtype']]\n",
      "[['sclerosis', 'DISEASE'], ['sclerosis', 'I-MS_no_subtype']]\n",
      "[['Multiple', 'DISEASE'], ['Multiple', 'B-MS_no_subtype']]\n",
      "[['sclerosis', 'DISEASE'], ['sclerosis', 'I-MS_no_subtype']]\n",
      "inscope: 4\n",
      "batch_07_00132 annotator2_batch_07_00132_correct\n",
      "batch_07_00132.txt\n"
     ]
    },
    {
     "name": "stderr",
     "output_type": "stream",
     "text": [
      "DEBUG:urllib3.connectionpool:https://huggingface.co:443 \"HEAD /alvaroalon2/biobert_diseases_ner/resolve/main/config.json HTTP/1.1\" 200 0\n",
      "DEBUG:urllib3.connectionpool:https://huggingface.co:443 \"HEAD /alvaroalon2/biobert_diseases_ner/resolve/main/tokenizer_config.json HTTP/1.1\" 200 0\n"
     ]
    },
    {
     "name": "stdout",
     "output_type": "stream",
     "text": [
      "3 3 443 11\n",
      "[['Multiple', 'DISEASE'], ['Multiple', 'B-RRMS']]\n",
      "[['Sclerosis', 'DISEASE'], ['Sclerosis', 'I-RRMS']]\n",
      "[['MS', 'DISEASE'], ['MS', 'B-RRMS']]\n",
      "inscope: 3\n",
      "batch_07_00133 annotator2_batch_07_00133_correct\n",
      "batch_07_00133.txt\n"
     ]
    },
    {
     "name": "stderr",
     "output_type": "stream",
     "text": [
      "DEBUG:urllib3.connectionpool:https://huggingface.co:443 \"HEAD /alvaroalon2/biobert_diseases_ner/resolve/main/config.json HTTP/1.1\" 200 0\n",
      "DEBUG:urllib3.connectionpool:https://huggingface.co:443 \"HEAD /alvaroalon2/biobert_diseases_ner/resolve/main/tokenizer_config.json HTTP/1.1\" 200 0\n"
     ]
    },
    {
     "name": "stdout",
     "output_type": "stream",
     "text": [
      "4 118 754 0\n",
      "[['multiple', 'DISEASE'], ['multiple', 'B-MS_no_subtype']]\n",
      "[['sclerosis', 'DISEASE'], ['sclerosis', 'I-MS_no_subtype']]\n",
      "[['multiple', 'DISEASE'], ['multiple', 'B-MS_no_subtype']]\n",
      "[['sclerosis', 'DISEASE'], ['sclerosis', 'I-MS_no_subtype']]\n",
      "inscope: 4\n",
      "batch_07_00134 annotator2_batch_07_00134_correct\n",
      "batch_07_00134.txt\n"
     ]
    },
    {
     "name": "stderr",
     "output_type": "stream",
     "text": [
      "DEBUG:urllib3.connectionpool:https://huggingface.co:443 \"HEAD /alvaroalon2/biobert_diseases_ner/resolve/main/config.json HTTP/1.1\" 200 0\n",
      "DEBUG:urllib3.connectionpool:https://huggingface.co:443 \"HEAD /alvaroalon2/biobert_diseases_ner/resolve/main/tokenizer_config.json HTTP/1.1\" 200 0\n"
     ]
    },
    {
     "name": "stdout",
     "output_type": "stream",
     "text": [
      "0 2 368 0\n",
      "somevalue is zer0\n",
      "batch_07_00135 annotator2_batch_07_00135_correct\n",
      "batch_07_00135.txt\n"
     ]
    },
    {
     "name": "stderr",
     "output_type": "stream",
     "text": [
      "DEBUG:urllib3.connectionpool:https://huggingface.co:443 \"HEAD /alvaroalon2/biobert_diseases_ner/resolve/main/config.json HTTP/1.1\" 200 0\n",
      "DEBUG:urllib3.connectionpool:https://huggingface.co:443 \"HEAD /alvaroalon2/biobert_diseases_ner/resolve/main/tokenizer_config.json HTTP/1.1\" 200 0\n"
     ]
    },
    {
     "name": "stdout",
     "output_type": "stream",
     "text": [
      "0 2 217 1\n",
      "somevalue is zer0\n",
      "batch_07_00136 annotator2_batch_07_00136_correct\n",
      "batch_07_00136.txt\n"
     ]
    },
    {
     "name": "stderr",
     "output_type": "stream",
     "text": [
      "DEBUG:urllib3.connectionpool:https://huggingface.co:443 \"HEAD /alvaroalon2/biobert_diseases_ner/resolve/main/config.json HTTP/1.1\" 200 0\n",
      "DEBUG:urllib3.connectionpool:https://huggingface.co:443 \"HEAD /alvaroalon2/biobert_diseases_ner/resolve/main/tokenizer_config.json HTTP/1.1\" 200 0\n"
     ]
    },
    {
     "name": "stdout",
     "output_type": "stream",
     "text": [
      "4 67 940 0\n",
      "[['multiple', 'DISEASE'], ['multiple', 'B-MS_no_subtype']]\n",
      "[['sclerosis', 'DISEASE'], ['sclerosis', 'I-MS_no_subtype']]\n",
      "[['Multiple', 'DISEASE'], ['Multiple', 'B-MS_no_subtype']]\n",
      "[['sclerosis', 'DISEASE'], ['sclerosis', 'I-MS_no_subtype']]\n",
      "inscope: 4\n",
      "batch_07_00137 annotator2_batch_07_00137_correct\n",
      "batch_07_00137.txt\n"
     ]
    },
    {
     "name": "stderr",
     "output_type": "stream",
     "text": [
      "DEBUG:urllib3.connectionpool:https://huggingface.co:443 \"HEAD /alvaroalon2/biobert_diseases_ner/resolve/main/config.json HTTP/1.1\" 200 0\n",
      "DEBUG:urllib3.connectionpool:https://huggingface.co:443 \"HEAD /alvaroalon2/biobert_diseases_ner/resolve/main/tokenizer_config.json HTTP/1.1\" 200 0\n"
     ]
    },
    {
     "name": "stdout",
     "output_type": "stream",
     "text": [
      "2 38 494 1\n",
      "[['MS', 'DISEASE'], ['MS', 'B-MS_no_subtype']]\n",
      "[['MS', 'DISEASE'], ['MS', 'B-MS_no_subtype']]\n",
      "inscope: 2\n",
      "batch_07_00138 annotator2_batch_07_00138_correct\n",
      "batch_07_00138.txt\n"
     ]
    },
    {
     "name": "stderr",
     "output_type": "stream",
     "text": [
      "DEBUG:urllib3.connectionpool:https://huggingface.co:443 \"HEAD /alvaroalon2/biobert_diseases_ner/resolve/main/config.json HTTP/1.1\" 200 0\n",
      "DEBUG:urllib3.connectionpool:https://huggingface.co:443 \"HEAD /alvaroalon2/biobert_diseases_ner/resolve/main/tokenizer_config.json HTTP/1.1\" 200 0\n"
     ]
    },
    {
     "name": "stdout",
     "output_type": "stream",
     "text": [
      "5 55 930 3\n",
      "[['Multiple', 'DISEASE'], ['Multiple', 'B-RRMS']]\n",
      "[['sclerosis', 'DISEASE'], ['sclerosis', 'I-RRMS']]\n",
      "[['MS', 'DISEASE'], ['MS', 'B-RRMS']]\n",
      "[['multiple', 'DISEASE'], ['multiple', 'B-RRMS']]\n",
      "[['sclerosis', 'DISEASE'], ['sclerosis', 'I-RRMS']]\n",
      "inscope: 5\n",
      "batch_07_00139 annotator2_batch_07_00139_correct\n",
      "batch_07_00139.txt\n"
     ]
    },
    {
     "name": "stderr",
     "output_type": "stream",
     "text": [
      "DEBUG:urllib3.connectionpool:https://huggingface.co:443 \"HEAD /alvaroalon2/biobert_diseases_ner/resolve/main/config.json HTTP/1.1\" 200 0\n",
      "DEBUG:urllib3.connectionpool:https://huggingface.co:443 \"HEAD /alvaroalon2/biobert_diseases_ner/resolve/main/tokenizer_config.json HTTP/1.1\" 200 0\n"
     ]
    },
    {
     "name": "stdout",
     "output_type": "stream",
     "text": [
      "1 5 591 1\n",
      "[['MS', 'DISEASE'], ['MS', 'B-RRMS']]\n",
      "inscope: 1\n",
      "batch_07_00140 annotator2_batch_07_00140_correct\n",
      "batch_07_00140.txt\n"
     ]
    },
    {
     "name": "stderr",
     "output_type": "stream",
     "text": [
      "DEBUG:urllib3.connectionpool:https://huggingface.co:443 \"HEAD /alvaroalon2/biobert_diseases_ner/resolve/main/config.json HTTP/1.1\" 200 0\n",
      "DEBUG:urllib3.connectionpool:https://huggingface.co:443 \"HEAD /alvaroalon2/biobert_diseases_ner/resolve/main/tokenizer_config.json HTTP/1.1\" 200 0\n"
     ]
    },
    {
     "name": "stdout",
     "output_type": "stream",
     "text": [
      "2 26 975 8\n",
      "[['RRMS', 'DISEASE'], ['RRMS', 'B-RRMS']]\n",
      "[['MS', 'DISEASE'], ['MS', 'B-RRMS']]\n",
      "inscope: 2\n",
      "batch_07_00141 annotator2_batch_07_00141_correct\n",
      "batch_07_00141.txt\n"
     ]
    },
    {
     "name": "stderr",
     "output_type": "stream",
     "text": [
      "DEBUG:urllib3.connectionpool:https://huggingface.co:443 \"HEAD /alvaroalon2/biobert_diseases_ner/resolve/main/config.json HTTP/1.1\" 200 0\n"
     ]
    },
    {
     "name": "stdout",
     "output_type": "stream",
     "text": [
      "7 27 723 2\n",
      "[['MS', 'DISEASE'], ['MS', 'B-RRMS']]\n",
      "[['multiple', 'DISEASE'], ['MULTIPLE', 'I-RRMS']]\n",
      "[['sclerosis', 'DISEASE'], ['SCLEROSIS', 'I-RRMS']]\n",
      "[['MS', 'DISEASE'], ['MS', 'B-RRMS']]\n",
      "[['multiple', 'DISEASE'], ['multiple', 'B-RRMS']]\n",
      "[['sclerosis', 'DISEASE'], ['sclerosis', 'I-RRMS']]\n",
      "[['MS', 'DISEASE'], ['MS', 'B-RRMS']]\n",
      "inscope: 7\n",
      "batch_07_00142 annotator2_batch_07_00142_correct\n",
      "batch_07_00142.txt\n"
     ]
    },
    {
     "name": "stderr",
     "output_type": "stream",
     "text": [
      "DEBUG:urllib3.connectionpool:https://huggingface.co:443 \"HEAD /alvaroalon2/biobert_diseases_ner/resolve/main/tokenizer_config.json HTTP/1.1\" 200 0\n",
      "DEBUG:urllib3.connectionpool:https://huggingface.co:443 \"HEAD /alvaroalon2/biobert_diseases_ner/resolve/main/config.json HTTP/1.1\" 200 0\n",
      "DEBUG:urllib3.connectionpool:https://huggingface.co:443 \"HEAD /alvaroalon2/biobert_diseases_ner/resolve/main/tokenizer_config.json HTTP/1.1\" 200 0\n"
     ]
    },
    {
     "name": "stdout",
     "output_type": "stream",
     "text": [
      "2 6 550 0\n",
      "[['Multiple', 'DISEASE'], ['Multiple', 'B-MS_no_subtype']]\n",
      "[['sclerosis', 'DISEASE'], ['sclerosis', 'I-MS_no_subtype']]\n",
      "inscope: 2\n",
      "batch_07_00144 annotator2_batch_07_00144_correct\n",
      "batch_07_00144.txt\n"
     ]
    },
    {
     "name": "stderr",
     "output_type": "stream",
     "text": [
      "DEBUG:urllib3.connectionpool:https://huggingface.co:443 \"HEAD /alvaroalon2/biobert_diseases_ner/resolve/main/config.json HTTP/1.1\" 200 0\n",
      "DEBUG:urllib3.connectionpool:https://huggingface.co:443 \"HEAD /alvaroalon2/biobert_diseases_ner/resolve/main/tokenizer_config.json HTTP/1.1\" 200 0\n"
     ]
    },
    {
     "name": "stdout",
     "output_type": "stream",
     "text": [
      "2 81 482 0\n",
      "[['Multiple', 'DISEASE'], ['Multiple', 'B-MS_no_subtype']]\n",
      "[['Sclerosis', 'DISEASE'], ['Sclerosis', 'I-MS_no_subtype']]\n",
      "inscope: 2\n",
      "batch_07_00145 annotator2_batch_07_00145_correct\n",
      "batch_07_00145.txt\n"
     ]
    },
    {
     "name": "stderr",
     "output_type": "stream",
     "text": [
      "DEBUG:urllib3.connectionpool:https://huggingface.co:443 \"HEAD /alvaroalon2/biobert_diseases_ner/resolve/main/config.json HTTP/1.1\" 200 0\n",
      "DEBUG:urllib3.connectionpool:https://huggingface.co:443 \"HEAD /alvaroalon2/biobert_diseases_ner/resolve/main/tokenizer_config.json HTTP/1.1\" 200 0\n"
     ]
    },
    {
     "name": "stdout",
     "output_type": "stream",
     "text": [
      "2 53 833 0\n",
      "[['Multiple', 'DISEASE'], ['Multiple', 'B-MS_no_subtype']]\n",
      "[['Sclerosis', 'DISEASE'], ['Sclerosis', 'I-MS_no_subtype']]\n",
      "inscope: 2\n",
      "batch_07_00146 annotator2_batch_07_00146_correct\n",
      "batch_07_00146.txt\n"
     ]
    },
    {
     "name": "stderr",
     "output_type": "stream",
     "text": [
      "DEBUG:urllib3.connectionpool:https://huggingface.co:443 \"HEAD /alvaroalon2/biobert_diseases_ner/resolve/main/config.json HTTP/1.1\" 200 0\n",
      "DEBUG:urllib3.connectionpool:https://huggingface.co:443 \"HEAD /alvaroalon2/biobert_diseases_ner/resolve/main/tokenizer_config.json HTTP/1.1\" 200 0\n"
     ]
    },
    {
     "name": "stdout",
     "output_type": "stream",
     "text": [
      "3 14 371 5\n",
      "[['MS', 'DISEASE'], ['MS', 'B-Temporal_history_of_relapse']]\n",
      "[['Multiple', 'DISEASE'], ['Multiple', 'B-RRMS']]\n",
      "[['sclerosis', 'DISEASE'], ['sclerosis', 'I-RRMS']]\n",
      "inscope: 3\n",
      "batch_07_00147 annotator2_batch_07_00147_correct\n",
      "batch_07_00147.txt\n"
     ]
    },
    {
     "name": "stderr",
     "output_type": "stream",
     "text": [
      "DEBUG:urllib3.connectionpool:https://huggingface.co:443 \"HEAD /alvaroalon2/biobert_diseases_ner/resolve/main/config.json HTTP/1.1\" 200 0\n",
      "DEBUG:urllib3.connectionpool:https://huggingface.co:443 \"HEAD /alvaroalon2/biobert_diseases_ner/resolve/main/tokenizer_config.json HTTP/1.1\" 200 0\n"
     ]
    },
    {
     "name": "stdout",
     "output_type": "stream",
     "text": [
      "4 78 671 0\n",
      "[['Multiple', 'DISEASE'], ['Multiple', 'B-MS_no_subtype']]\n",
      "[['sclerosis', 'DISEASE'], ['sclerosis', 'I-MS_no_subtype']]\n",
      "[['Multiple', 'DISEASE'], ['Multiple', 'B-MS_no_subtype']]\n",
      "[['sclerosis', 'DISEASE'], ['sclerosis', 'I-MS_no_subtype']]\n",
      "inscope: 4\n",
      "batch_07_00149 annotator2_batch_07_00149_correct\n",
      "batch_07_00149.txt\n"
     ]
    },
    {
     "name": "stderr",
     "output_type": "stream",
     "text": [
      "DEBUG:urllib3.connectionpool:https://huggingface.co:443 \"HEAD /alvaroalon2/biobert_diseases_ner/resolve/main/config.json HTTP/1.1\" 200 0\n",
      "DEBUG:urllib3.connectionpool:https://huggingface.co:443 \"HEAD /alvaroalon2/biobert_diseases_ner/resolve/main/tokenizer_config.json HTTP/1.1\" 200 0\n"
     ]
    },
    {
     "name": "stdout",
     "output_type": "stream",
     "text": [
      "5 92 662 2\n",
      "[['MS', 'DISEASE'], ['MS', 'B-MS_no_subtype']]\n",
      "[['MS', 'DISEASE'], ['MS', 'B-MS_no_subtype']]\n",
      "[['MS', 'DISEASE'], ['MS', 'B-MS_no_subtype']]\n",
      "[['MS', 'DISEASE'], ['MS', 'B-MS_no_subtype']]\n",
      "[['MS', 'DISEASE'], ['MS', 'B-MS_no_subtype']]\n",
      "inscope: 5\n",
      "batch_07_00150 annotator2_batch_07_00150_correct\n",
      "batch_07_00150.txt\n"
     ]
    },
    {
     "name": "stderr",
     "output_type": "stream",
     "text": [
      "DEBUG:urllib3.connectionpool:https://huggingface.co:443 \"HEAD /alvaroalon2/biobert_diseases_ner/resolve/main/config.json HTTP/1.1\" 200 0\n",
      "DEBUG:urllib3.connectionpool:https://huggingface.co:443 \"HEAD /alvaroalon2/biobert_diseases_ner/resolve/main/tokenizer_config.json HTTP/1.1\" 200 0\n"
     ]
    },
    {
     "name": "stdout",
     "output_type": "stream",
     "text": [
      "7 99 699 1\n",
      "[['multiple', 'DISEASE'], ['multiple', 'B-MS_no_subtype']]\n",
      "[['sclerosis', 'DISEASE'], ['sclerosis', 'I-MS_no_subtype']]\n",
      "[['Multiple', 'DISEASE'], ['Multiple', 'B-MS_no_subtype']]\n",
      "[['sclerosis', 'DISEASE'], ['sclerosis', 'I-MS_no_subtype']]\n",
      "[['multiple', 'DISEASE'], ['multiple', 'B-MS_no_subtype']]\n",
      "[['sclerosis', 'DISEASE'], ['sclerosis', 'I-MS_no_subtype']]\n",
      "[['MS', 'DISEASE'], ['MS', 'B-MS_no_subtype']]\n",
      "inscope: 7\n",
      "batch_07_00217 annotator2_batch_07_00217_correct\n",
      "batch_07_00217.txt\n"
     ]
    },
    {
     "name": "stderr",
     "output_type": "stream",
     "text": [
      "DEBUG:urllib3.connectionpool:https://huggingface.co:443 \"HEAD /alvaroalon2/biobert_diseases_ner/resolve/main/config.json HTTP/1.1\" 200 0\n",
      "DEBUG:urllib3.connectionpool:https://huggingface.co:443 \"HEAD /alvaroalon2/biobert_diseases_ner/resolve/main/tokenizer_config.json HTTP/1.1\" 200 0\n"
     ]
    },
    {
     "name": "stdout",
     "output_type": "stream",
     "text": [
      "2 18 514 0\n",
      "[['multiple', 'DISEASE'], ['multiple', 'B-MS_no_subtype']]\n",
      "[['sclerosis', 'DISEASE'], ['sclerosis', 'I-MS_no_subtype']]\n",
      "inscope: 2\n",
      "change_00001 annotator2_change_00001_correct\n",
      "change_00001.txt\n"
     ]
    },
    {
     "name": "stderr",
     "output_type": "stream",
     "text": [
      "DEBUG:urllib3.connectionpool:https://huggingface.co:443 \"HEAD /alvaroalon2/biobert_diseases_ner/resolve/main/config.json HTTP/1.1\" 200 0\n",
      "DEBUG:urllib3.connectionpool:https://huggingface.co:443 \"HEAD /alvaroalon2/biobert_diseases_ner/resolve/main/tokenizer_config.json HTTP/1.1\" 200 0\n"
     ]
    },
    {
     "name": "stdout",
     "output_type": "stream",
     "text": [
      "0 10 243 1\n",
      "somevalue is zer0\n",
      "change_00002 annotator2_change_00002_correct\n",
      "change_00002.txt\n"
     ]
    },
    {
     "name": "stderr",
     "output_type": "stream",
     "text": [
      "DEBUG:urllib3.connectionpool:https://huggingface.co:443 \"HEAD /alvaroalon2/biobert_diseases_ner/resolve/main/config.json HTTP/1.1\" 200 0\n",
      "DEBUG:urllib3.connectionpool:https://huggingface.co:443 \"HEAD /alvaroalon2/biobert_diseases_ner/resolve/main/tokenizer_config.json HTTP/1.1\" 200 0\n"
     ]
    },
    {
     "name": "stdout",
     "output_type": "stream",
     "text": [
      "0 20 422 7\n",
      "somevalue is zer0\n",
      "change_00003 annotator2_change_00003_correct\n",
      "change_00003.txt\n"
     ]
    },
    {
     "name": "stderr",
     "output_type": "stream",
     "text": [
      "DEBUG:urllib3.connectionpool:https://huggingface.co:443 \"HEAD /alvaroalon2/biobert_diseases_ner/resolve/main/config.json HTTP/1.1\" 200 0\n",
      "DEBUG:urllib3.connectionpool:https://huggingface.co:443 \"HEAD /alvaroalon2/biobert_diseases_ner/resolve/main/tokenizer_config.json HTTP/1.1\" 200 0\n"
     ]
    },
    {
     "name": "stdout",
     "output_type": "stream",
     "text": [
      "8 70 941 26\n",
      "[['multiple', 'DISEASE'], ['multiple', 'I-RRMS']]\n",
      "[['sclerosis', 'DISEASE'], ['sclerosis', 'I-RRMS']]\n",
      "[['multiple', 'DISEASE'], ['multiple', 'I-RRMS']]\n",
      "[['sclerosis', 'DISEASE'], ['sclerosis', 'I-RRMS']]\n",
      "[['multiple', 'DISEASE'], ['multiple', 'B-SPMS']]\n",
      "[['Multiple', 'DISEASE'], ['Multiple', 'B-SPMS']]\n",
      "[['sclerosis', 'DISEASE'], ['sclerosis', 'I-SPMS']]\n",
      "[['MS', 'DISEASE'], ['MS', 'I-SPMS']]\n",
      "inscope: 8\n",
      "change_00004 annotator2_change_00004_correct\n",
      "change_00004.txt\n"
     ]
    },
    {
     "name": "stderr",
     "output_type": "stream",
     "text": [
      "DEBUG:urllib3.connectionpool:https://huggingface.co:443 \"HEAD /alvaroalon2/biobert_diseases_ner/resolve/main/config.json HTTP/1.1\" 200 0\n",
      "DEBUG:urllib3.connectionpool:https://huggingface.co:443 \"HEAD /alvaroalon2/biobert_diseases_ner/resolve/main/tokenizer_config.json HTTP/1.1\" 200 0\n"
     ]
    },
    {
     "name": "stdout",
     "output_type": "stream",
     "text": [
      "6 69 997 38\n",
      "[['multiple', 'DISEASE'], ['multiple', 'I-PRMS']]\n",
      "[['sclerosis', 'DISEASE'], ['sclerosis', 'I-PRMS']]\n",
      "[['multiple', 'DISEASE'], ['multiple', 'I-PRMS']]\n",
      "[['sclerosis', 'DISEASE'], ['sclerosis', 'I-PRMS']]\n",
      "[['multiple', 'DISEASE'], ['multiple', 'I-PRMS']]\n",
      "[['sclerosis', 'DISEASE'], ['sclerosis', 'I-PRMS']]\n",
      "inscope: 6\n",
      "change_00005 annotator2_change_00005_correct\n",
      "change_00005.txt\n"
     ]
    },
    {
     "name": "stderr",
     "output_type": "stream",
     "text": [
      "DEBUG:urllib3.connectionpool:https://huggingface.co:443 \"HEAD /alvaroalon2/biobert_diseases_ner/resolve/main/config.json HTTP/1.1\" 200 0\n",
      "DEBUG:urllib3.connectionpool:https://huggingface.co:443 \"HEAD /alvaroalon2/biobert_diseases_ner/resolve/main/tokenizer_config.json HTTP/1.1\" 200 0\n"
     ]
    },
    {
     "name": "stdout",
     "output_type": "stream",
     "text": [
      "6 60 1354 3\n",
      "[['multiple', 'DISEASE'], ['multiple', 'B-MS_no_subtype']]\n",
      "[['sclerosis', 'DISEASE'], ['sclerosis', 'I-MS_no_subtype']]\n",
      "[['multiple', 'DISEASE'], ['multiple', 'B-MS_no_subtype']]\n",
      "[['sclerosis', 'DISEASE'], ['sclerosis', 'I-MS_no_subtype']]\n",
      "[['Multiple', 'DISEASE'], ['Multiple', 'B-MS_no_subtype']]\n",
      "[['sclerosis', 'DISEASE'], ['sclerosis', 'I-MS_no_subtype']]\n",
      "inscope: 6\n",
      "change_00006 annotator2_change_00006_correct\n",
      "change_00006.txt\n"
     ]
    },
    {
     "name": "stderr",
     "output_type": "stream",
     "text": [
      "DEBUG:urllib3.connectionpool:https://huggingface.co:443 \"HEAD /alvaroalon2/biobert_diseases_ner/resolve/main/config.json HTTP/1.1\" 200 0\n",
      "DEBUG:urllib3.connectionpool:https://huggingface.co:443 \"HEAD /alvaroalon2/biobert_diseases_ner/resolve/main/tokenizer_config.json HTTP/1.1\" 200 0\n"
     ]
    },
    {
     "name": "stdout",
     "output_type": "stream",
     "text": [
      "6 19 779 11\n",
      "[['multiple', 'DISEASE'], ['multiple', 'I-RRMS']]\n",
      "[['sclerosis', 'DISEASE'], ['sclerosis', 'I-RRMS']]\n",
      "[['multiple', 'DISEASE'], ['multiple', 'B-RRMS']]\n",
      "[['sclerosis', 'DISEASE'], ['sclerosis', 'I-RRMS']]\n",
      "[['multiple', 'DISEASE'], ['multiple', 'I-RRMS']]\n",
      "[['sclerosis', 'DISEASE'], ['sclerosis', 'I-RRMS']]\n",
      "inscope: 6\n",
      "change_00007 annotator2_change_00007_correct\n",
      "change_00007.txt\n"
     ]
    },
    {
     "name": "stderr",
     "output_type": "stream",
     "text": [
      "DEBUG:urllib3.connectionpool:https://huggingface.co:443 \"HEAD /alvaroalon2/biobert_diseases_ner/resolve/main/config.json HTTP/1.1\" 200 0\n",
      "DEBUG:urllib3.connectionpool:https://huggingface.co:443 \"HEAD /alvaroalon2/biobert_diseases_ner/resolve/main/tokenizer_config.json HTTP/1.1\" 200 0\n"
     ]
    },
    {
     "name": "stdout",
     "output_type": "stream",
     "text": [
      "0 9 232 2\n",
      "somevalue is zer0\n",
      "change_00008 annotator2_change_00008_correct\n",
      "change_00008.txt\n"
     ]
    },
    {
     "name": "stderr",
     "output_type": "stream",
     "text": [
      "DEBUG:urllib3.connectionpool:https://huggingface.co:443 \"HEAD /alvaroalon2/biobert_diseases_ner/resolve/main/config.json HTTP/1.1\" 200 0\n",
      "DEBUG:urllib3.connectionpool:https://huggingface.co:443 \"HEAD /alvaroalon2/biobert_diseases_ner/resolve/main/tokenizer_config.json HTTP/1.1\" 200 0\n"
     ]
    },
    {
     "name": "stdout",
     "output_type": "stream",
     "text": [
      "9 37 960 24\n",
      "[['multiple', 'DISEASE'], ['multiple', 'I-SPMS']]\n",
      "[['sclerosis', 'DISEASE'], ['sclerosis', 'I-SPMS']]\n",
      "[['multiple', 'DISEASE'], ['multiple', 'I-SPMS']]\n",
      "[['sclerosis', 'DISEASE'], ['sclerosis', 'I-SPMS']]\n",
      "[['multiple', 'DISEASE'], ['multiple', 'B-SPMS']]\n",
      "[['sclerosis', 'DISEASE'], ['sclerosis', 'I-SPMS']]\n",
      "[['Multiple', 'DISEASE'], ['Multiple', 'B-SPMS']]\n",
      "[['sclerosis', 'DISEASE'], ['sclerosis', 'I-SPMS']]\n",
      "[['MS', 'DISEASE'], ['MS', 'I-SPMS']]\n",
      "inscope: 9\n",
      "change_00009 annotator2_change_00009_correct\n",
      "change_00009.txt\n"
     ]
    },
    {
     "name": "stderr",
     "output_type": "stream",
     "text": [
      "DEBUG:urllib3.connectionpool:https://huggingface.co:443 \"HEAD /alvaroalon2/biobert_diseases_ner/resolve/main/config.json HTTP/1.1\" 200 0\n",
      "DEBUG:urllib3.connectionpool:https://huggingface.co:443 \"HEAD /alvaroalon2/biobert_diseases_ner/resolve/main/tokenizer_config.json HTTP/1.1\" 200 0\n"
     ]
    },
    {
     "name": "stdout",
     "output_type": "stream",
     "text": [
      "5 85 1475 2\n",
      "[['multiple', 'DISEASE'], ['multiple', 'I-RRMS']]\n",
      "[['sclerosis', 'DISEASE'], ['sclerosis', 'I-RRMS']]\n",
      "[['sclerosis', 'DISEASE'], ['sclerosis', 'I-RRMS']]\n",
      "[['Multiple', 'DISEASE'], ['Multiple', 'B-RRMS']]\n",
      "[['sclerosis', 'DISEASE'], ['sclerosis', 'I-RRMS']]\n",
      "inscope: 5\n",
      "change_00010 annotator2_change_00010_correct\n",
      "change_00010.txt\n"
     ]
    },
    {
     "name": "stderr",
     "output_type": "stream",
     "text": [
      "DEBUG:urllib3.connectionpool:https://huggingface.co:443 \"HEAD /alvaroalon2/biobert_diseases_ner/resolve/main/config.json HTTP/1.1\" 200 0\n"
     ]
    },
    {
     "name": "stdout",
     "output_type": "stream",
     "text": [
      "0 22 411 1\n",
      "somevalue is zer0\n",
      "change_00011 annotator2_change_00011_correct\n",
      "change_00011.txt\n"
     ]
    },
    {
     "name": "stderr",
     "output_type": "stream",
     "text": [
      "DEBUG:urllib3.connectionpool:https://huggingface.co:443 \"HEAD /alvaroalon2/biobert_diseases_ner/resolve/main/tokenizer_config.json HTTP/1.1\" 200 0\n",
      "DEBUG:urllib3.connectionpool:https://huggingface.co:443 \"HEAD /alvaroalon2/biobert_diseases_ner/resolve/main/config.json HTTP/1.1\" 200 0\n",
      "DEBUG:urllib3.connectionpool:https://huggingface.co:443 \"HEAD /alvaroalon2/biobert_diseases_ner/resolve/main/tokenizer_config.json HTTP/1.1\" 200 0\n"
     ]
    },
    {
     "name": "stdout",
     "output_type": "stream",
     "text": [
      "0 14 406 5\n",
      "somevalue is zer0\n",
      "change_00012 annotator2_change_00012_correct\n",
      "change_00012.txt\n"
     ]
    },
    {
     "name": "stderr",
     "output_type": "stream",
     "text": [
      "DEBUG:urllib3.connectionpool:https://huggingface.co:443 \"HEAD /alvaroalon2/biobert_diseases_ner/resolve/main/config.json HTTP/1.1\" 200 0\n",
      "DEBUG:urllib3.connectionpool:https://huggingface.co:443 \"HEAD /alvaroalon2/biobert_diseases_ner/resolve/main/tokenizer_config.json HTTP/1.1\" 200 0\n"
     ]
    },
    {
     "name": "stdout",
     "output_type": "stream",
     "text": [
      "9 88 1273 18\n",
      "[['demyelinating', 'DISEASE'], ['demyelinating', 'I-RRMS']]\n",
      "[['disease', 'DISEASE'], ['disease', 'I-RRMS']]\n",
      "[['multiple', 'DISEASE'], ['multiple', 'I-RRMS']]\n",
      "[['sclerosis', 'DISEASE'], ['sclerosis', 'I-RRMS']]\n",
      "[['neurological', 'DISEASE'], ['neurological', 'I-RRMS']]\n",
      "[['multiple', 'DISEASE'], ['multiple', 'I-RRMS']]\n",
      "[['sclerosis', 'DISEASE'], ['sclerosis', 'I-RRMS']]\n",
      "[['disease', 'DISEASE'], ['disease', 'I-RRMS']]\n",
      "[['disease', 'DISEASE'], ['disease', 'I-RRMS']]\n",
      "inscope: 9\n",
      "change_00013 annotator2_change_00013_correct\n",
      "change_00013.txt\n"
     ]
    },
    {
     "name": "stderr",
     "output_type": "stream",
     "text": [
      "DEBUG:urllib3.connectionpool:https://huggingface.co:443 \"HEAD /alvaroalon2/biobert_diseases_ner/resolve/main/config.json HTTP/1.1\" 200 0\n",
      "DEBUG:urllib3.connectionpool:https://huggingface.co:443 \"HEAD /alvaroalon2/biobert_diseases_ner/resolve/main/tokenizer_config.json HTTP/1.1\" 200 0\n"
     ]
    },
    {
     "name": "stdout",
     "output_type": "stream",
     "text": [
      "7 91 1488 10\n",
      "[['multiple', 'DISEASE'], ['multiple', 'B-PPMS']]\n",
      "[['sclerosis', 'DISEASE'], ['sclerosis', 'I-PPMS']]\n",
      "[['multiple', 'DISEASE'], ['multiple', 'B-PPMS']]\n",
      "[['sclerosis', 'DISEASE'], ['sclerosis', 'I-PPMS']]\n",
      "[['MS', 'DISEASE'], ['MS', 'I-PPMS']]\n",
      "[['MS', 'DISEASE'], ['MS', 'I-PPMS']]\n",
      "[['MS', 'DISEASE'], ['MS', 'B-PPMS']]\n",
      "inscope: 7\n",
      "change_00014 annotator2_change_00014_correct\n",
      "change_00014.txt\n"
     ]
    },
    {
     "name": "stderr",
     "output_type": "stream",
     "text": [
      "DEBUG:urllib3.connectionpool:https://huggingface.co:443 \"HEAD /alvaroalon2/biobert_diseases_ner/resolve/main/config.json HTTP/1.1\" 200 0\n",
      "DEBUG:urllib3.connectionpool:https://huggingface.co:443 \"HEAD /alvaroalon2/biobert_diseases_ner/resolve/main/tokenizer_config.json HTTP/1.1\" 200 0\n"
     ]
    },
    {
     "name": "stdout",
     "output_type": "stream",
     "text": [
      "2 16 642 7\n",
      "[['multiple', 'DISEASE'], ['MULTIPLE', 'I-RRMS']]\n",
      "[['sclerosis', 'DISEASE'], ['SCLEROSIS', 'I-RRMS']]\n",
      "inscope: 2\n",
      "change_00015 annotator2_change_00015_correct\n",
      "change_00015.txt\n"
     ]
    },
    {
     "name": "stderr",
     "output_type": "stream",
     "text": [
      "DEBUG:urllib3.connectionpool:https://huggingface.co:443 \"HEAD /alvaroalon2/biobert_diseases_ner/resolve/main/config.json HTTP/1.1\" 200 0\n",
      "DEBUG:urllib3.connectionpool:https://huggingface.co:443 \"HEAD /alvaroalon2/biobert_diseases_ner/resolve/main/tokenizer_config.json HTTP/1.1\" 200 0\n"
     ]
    },
    {
     "name": "stdout",
     "output_type": "stream",
     "text": [
      "9 23 723 17\n",
      "[['multiple', 'DISEASE'], ['multiple', 'I-RRMS']]\n",
      "[['sclerosis', 'DISEASE'], ['sclerosis', 'I-RRMS']]\n",
      "[['multiple', 'DISEASE'], ['multiple', 'B-RRMS']]\n",
      "[['sclerosis', 'DISEASE'], ['sclerosis', 'I-RRMS']]\n",
      "[['multiple', 'DISEASE'], ['multiple', 'B-RRMS']]\n",
      "[['sclerosis', 'DISEASE'], ['sclerosis', 'I-RRMS']]\n",
      "[['multiple', 'DISEASE'], ['multiple', 'I-RRMS']]\n",
      "[['sclerosis', 'DISEASE'], ['sclerosis', 'I-RRMS']]\n",
      "[['MS', 'DISEASE'], ['MS', 'B-RRMS']]\n",
      "inscope: 9\n",
      "change_00016 annotator2_change_00016_correct\n",
      "change_00016.txt\n"
     ]
    },
    {
     "name": "stderr",
     "output_type": "stream",
     "text": [
      "DEBUG:urllib3.connectionpool:https://huggingface.co:443 \"HEAD /alvaroalon2/biobert_diseases_ner/resolve/main/config.json HTTP/1.1\" 200 0\n",
      "DEBUG:urllib3.connectionpool:https://huggingface.co:443 \"HEAD /alvaroalon2/biobert_diseases_ner/resolve/main/tokenizer_config.json HTTP/1.1\" 200 0\n"
     ]
    },
    {
     "name": "stdout",
     "output_type": "stream",
     "text": [
      "1 38 777 7\n",
      "[['sclerosis', 'DISEASE'], ['SCLEROSIS', 'I-RRMS']]\n",
      "inscope: 1\n",
      "change_00017 annotator2_change_00017_correct\n",
      "change_00017.txt\n"
     ]
    },
    {
     "name": "stderr",
     "output_type": "stream",
     "text": [
      "DEBUG:urllib3.connectionpool:https://huggingface.co:443 \"HEAD /alvaroalon2/biobert_diseases_ner/resolve/main/config.json HTTP/1.1\" 200 0\n",
      "DEBUG:urllib3.connectionpool:https://huggingface.co:443 \"HEAD /alvaroalon2/biobert_diseases_ner/resolve/main/tokenizer_config.json HTTP/1.1\" 200 0\n"
     ]
    },
    {
     "name": "stdout",
     "output_type": "stream",
     "text": [
      "6 44 839 21\n",
      "[['multiple', 'DISEASE'], ['multiple', 'I-RRMS']]\n",
      "[['sclerosis', 'DISEASE'], ['sclerosis', 'I-RRMS']]\n",
      "[['multiple', 'DISEASE'], ['multiple', 'I-SPMS']]\n",
      "[['sclerosis', 'DISEASE'], ['sclerosis', 'I-SPMS']]\n",
      "[['multiple', 'DISEASE'], ['multiple', 'I-SPMS']]\n",
      "[['sclerosis', 'DISEASE'], ['sclerosis', 'I-SPMS']]\n",
      "inscope: 6\n",
      "change_00018 annotator2_change_00018_correct\n",
      "change_00018.txt\n"
     ]
    },
    {
     "name": "stderr",
     "output_type": "stream",
     "text": [
      "DEBUG:urllib3.connectionpool:https://huggingface.co:443 \"HEAD /alvaroalon2/biobert_diseases_ner/resolve/main/config.json HTTP/1.1\" 200 0\n",
      "DEBUG:urllib3.connectionpool:https://huggingface.co:443 \"HEAD /alvaroalon2/biobert_diseases_ner/resolve/main/tokenizer_config.json HTTP/1.1\" 200 0\n"
     ]
    },
    {
     "name": "stdout",
     "output_type": "stream",
     "text": [
      "11 82 1396 10\n",
      "[['multiple', 'DISEASE'], ['multiple', 'I-RRMS']]\n",
      "[['sclerosis', 'DISEASE'], ['sclerosis', 'I-RRMS']]\n",
      "[['MS', 'DISEASE'], ['MS', 'B-RRMS']]\n",
      "[['MS', 'DISEASE'], ['MS', 'B-RRMS']]\n",
      "[['MS', 'DISEASE'], ['MS', 'B-RRMS']]\n",
      "[['multiple', 'DISEASE'], ['multiple', 'B-RRMS']]\n",
      "[['sclerosis', 'DISEASE'], ['sclerosis', 'I-RRMS']]\n",
      "[['multiple', 'DISEASE'], ['multiple', 'I-RRMS']]\n",
      "[['sclerosis', 'DISEASE'], ['sclerosis', 'I-RRMS']]\n",
      "[['MS', 'DISEASE'], ['MS', 'B-RRMS']]\n",
      "[['MS', 'DISEASE'], ['MS', 'B-RRMS']]\n",
      "inscope: 11\n",
      "change_00019 annotator2_change_00019_correct\n",
      "change_00019.txt\n"
     ]
    },
    {
     "name": "stderr",
     "output_type": "stream",
     "text": [
      "DEBUG:urllib3.connectionpool:https://huggingface.co:443 \"HEAD /alvaroalon2/biobert_diseases_ner/resolve/main/config.json HTTP/1.1\" 200 0\n",
      "DEBUG:urllib3.connectionpool:https://huggingface.co:443 \"HEAD /alvaroalon2/biobert_diseases_ner/resolve/main/tokenizer_config.json HTTP/1.1\" 200 0\n"
     ]
    },
    {
     "name": "stdout",
     "output_type": "stream",
     "text": [
      "2 0 274 6\n",
      "somevalue is zer0\n",
      "change_00020 annotator2_change_00020_correct\n",
      "change_00020.txt\n"
     ]
    },
    {
     "name": "stderr",
     "output_type": "stream",
     "text": [
      "DEBUG:urllib3.connectionpool:https://huggingface.co:443 \"HEAD /alvaroalon2/biobert_diseases_ner/resolve/main/config.json HTTP/1.1\" 200 0\n",
      "DEBUG:urllib3.connectionpool:https://huggingface.co:443 \"HEAD /alvaroalon2/biobert_diseases_ner/resolve/main/tokenizer_config.json HTTP/1.1\" 200 0\n"
     ]
    },
    {
     "name": "stdout",
     "output_type": "stream",
     "text": [
      "2 11 402 7\n",
      "[['sclerosis', 'DISEASE'], ['SCLEROSIS', 'I-RRMS']]\n",
      "[['MS', 'DISEASE'], ['MS', 'B-RRMS']]\n",
      "inscope: 2\n",
      "change_00021 annotator2_change_00021_correct\n",
      "change_00021.txt\n"
     ]
    },
    {
     "name": "stderr",
     "output_type": "stream",
     "text": [
      "DEBUG:urllib3.connectionpool:https://huggingface.co:443 \"HEAD /alvaroalon2/biobert_diseases_ner/resolve/main/config.json HTTP/1.1\" 200 0\n",
      "DEBUG:urllib3.connectionpool:https://huggingface.co:443 \"HEAD /alvaroalon2/biobert_diseases_ner/resolve/main/tokenizer_config.json HTTP/1.1\" 200 0\n"
     ]
    },
    {
     "name": "stdout",
     "output_type": "stream",
     "text": [
      "10 34 988 29\n",
      "[['multiple', 'DISEASE'], ['multiple', 'I-PRMS']]\n",
      "[['sclerosis', 'DISEASE'], ['sclerosis', 'I-PRMS']]\n",
      "[['multiple', 'DISEASE'], ['multiple', 'I-SPMS']]\n",
      "[['sclerosis', 'DISEASE'], ['sclerosis', 'I-SPMS']]\n",
      "[['multiple', 'DISEASE'], ['multiple', 'B-SPMS']]\n",
      "[['sclerosis', 'DISEASE'], ['sclerosis', 'I-SPMS']]\n",
      "[['multiple', 'DISEASE'], ['multiple', 'B-SPMS']]\n",
      "[['sclerosis', 'DISEASE'], ['sclerosis', 'I-SPMS']]\n",
      "[['multiple', 'DISEASE'], ['multiple', 'I-SPMS']]\n",
      "[['sclerosis', 'DISEASE'], ['sclerosis', 'I-SPMS']]\n",
      "inscope: 10\n",
      "change_00022 annotator2_change_00022_correct\n",
      "change_00022.txt\n"
     ]
    },
    {
     "name": "stderr",
     "output_type": "stream",
     "text": [
      "DEBUG:urllib3.connectionpool:https://huggingface.co:443 \"HEAD /alvaroalon2/biobert_diseases_ner/resolve/main/config.json HTTP/1.1\" 200 0\n",
      "DEBUG:urllib3.connectionpool:https://huggingface.co:443 \"HEAD /alvaroalon2/biobert_diseases_ner/resolve/main/tokenizer_config.json HTTP/1.1\" 200 0\n"
     ]
    },
    {
     "name": "stdout",
     "output_type": "stream",
     "text": [
      "4 74 1324 11\n",
      "[['MS', 'DISEASE'], ['MS', 'I-SPMS']]\n",
      "[['sms', 'DISEASE'], ['MS', 'I-SPMS']]\n",
      "[['multiple', 'DISEASE'], ['multiple', 'B-SPMS']]\n",
      "[['sclerosis', 'DISEASE'], ['sclerosis', 'I-SPMS']]\n",
      "inscope: 4\n",
      "change_00023 annotator2_change_00023_correct\n",
      "change_00023.txt\n"
     ]
    },
    {
     "name": "stderr",
     "output_type": "stream",
     "text": [
      "DEBUG:urllib3.connectionpool:https://huggingface.co:443 \"HEAD /alvaroalon2/biobert_diseases_ner/resolve/main/config.json HTTP/1.1\" 200 0\n",
      "DEBUG:urllib3.connectionpool:https://huggingface.co:443 \"HEAD /alvaroalon2/biobert_diseases_ner/resolve/main/tokenizer_config.json HTTP/1.1\" 200 0\n"
     ]
    },
    {
     "name": "stdout",
     "output_type": "stream",
     "text": [
      "2 3 126 3\n",
      "[['multiple', 'DISEASE'], ['MULTIPLE', 'I-RRMS']]\n",
      "[['sclerosis', 'DISEASE'], ['SCLEROSIS', 'I-RRMS']]\n",
      "inscope: 2\n",
      "change_00024 annotator2_change_00024_correct\n",
      "change_00024.txt\n"
     ]
    },
    {
     "name": "stderr",
     "output_type": "stream",
     "text": [
      "DEBUG:urllib3.connectionpool:https://huggingface.co:443 \"HEAD /alvaroalon2/biobert_diseases_ner/resolve/main/config.json HTTP/1.1\" 200 0\n",
      "DEBUG:urllib3.connectionpool:https://huggingface.co:443 \"HEAD /alvaroalon2/biobert_diseases_ner/resolve/main/tokenizer_config.json HTTP/1.1\" 200 0\n"
     ]
    },
    {
     "name": "stdout",
     "output_type": "stream",
     "text": [
      "10 63 1289 4\n",
      "[['multiple', 'DISEASE'], ['multiple', 'B-RRMS']]\n",
      "[['sclerosis', 'DISEASE'], ['sclerosis', 'I-RRMS']]\n",
      "[['multiple', 'DISEASE'], ['multiple', 'B-RRMS']]\n",
      "[['sclerosis', 'DISEASE'], ['sclerosis', 'I-RRMS']]\n",
      "[['multiple', 'DISEASE'], ['multiple', 'B-RRMS']]\n",
      "[['sclerosis', 'DISEASE'], ['sclerosis', 'I-RRMS']]\n",
      "[['multiple', 'DISEASE'], ['multiple', 'I-RRMS']]\n",
      "[['sclerosis', 'DISEASE'], ['sclerosis', 'I-RRMS']]\n",
      "[['multiple', 'DISEASE'], ['multiple', 'B-RRMS']]\n",
      "[['sclerosis', 'DISEASE'], ['sclerosis', 'I-RRMS']]\n",
      "inscope: 10\n",
      "change_00025 annotator2_change_00025_correct\n",
      "change_00025.txt\n"
     ]
    },
    {
     "name": "stderr",
     "output_type": "stream",
     "text": [
      "DEBUG:urllib3.connectionpool:https://huggingface.co:443 \"HEAD /alvaroalon2/biobert_diseases_ner/resolve/main/config.json HTTP/1.1\" 200 0\n",
      "DEBUG:urllib3.connectionpool:https://huggingface.co:443 \"HEAD /alvaroalon2/biobert_diseases_ner/resolve/main/tokenizer_config.json HTTP/1.1\" 200 0\n"
     ]
    },
    {
     "name": "stdout",
     "output_type": "stream",
     "text": [
      "4 7 482 7\n",
      "[['multiple', 'DISEASE'], ['MULTIPLE', 'I-RRMS']]\n",
      "[['sclerosis', 'DISEASE'], ['SCLEROSIS', 'I-RRMS']]\n",
      "[['multiple', 'DISEASE'], ['MULTIPLE', 'I-RRMS']]\n",
      "[['sclerosis', 'DISEASE'], ['SCLEROSIS', 'I-RRMS']]\n",
      "inscope: 4\n",
      "change_00026 annotator2_change_00026_correct\n",
      "change_00026.txt\n"
     ]
    },
    {
     "name": "stderr",
     "output_type": "stream",
     "text": [
      "DEBUG:urllib3.connectionpool:https://huggingface.co:443 \"HEAD /alvaroalon2/biobert_diseases_ner/resolve/main/config.json HTTP/1.1\" 200 0\n",
      "DEBUG:urllib3.connectionpool:https://huggingface.co:443 \"HEAD /alvaroalon2/biobert_diseases_ner/resolve/main/tokenizer_config.json HTTP/1.1\" 200 0\n"
     ]
    },
    {
     "name": "stdout",
     "output_type": "stream",
     "text": [
      "4 48 1016 15\n",
      "[['multiple', 'DISEASE'], ['multiple', 'I-RRMS']]\n",
      "[['sclerosis', 'DISEASE'], ['sclerosis', 'I-RRMS']]\n",
      "[['multiple', 'DISEASE'], ['multiple', 'I-SPMS']]\n",
      "[['sclerosis', 'DISEASE'], ['sclerosis', 'I-SPMS']]\n",
      "inscope: 4\n",
      "change_00027 annotator2_change_00027_correct\n",
      "change_00027.txt\n"
     ]
    },
    {
     "name": "stderr",
     "output_type": "stream",
     "text": [
      "DEBUG:urllib3.connectionpool:https://huggingface.co:443 \"HEAD /alvaroalon2/biobert_diseases_ner/resolve/main/config.json HTTP/1.1\" 200 0\n",
      "DEBUG:urllib3.connectionpool:https://huggingface.co:443 \"HEAD /alvaroalon2/biobert_diseases_ner/resolve/main/tokenizer_config.json HTTP/1.1\" 200 0\n"
     ]
    },
    {
     "name": "stdout",
     "output_type": "stream",
     "text": [
      "6 89 1428 4\n",
      "[['multiple', 'DISEASE'], ['multiple', 'B-RRMS']]\n",
      "[['sclerosis', 'DISEASE'], ['sclerosis', 'I-RRMS']]\n",
      "[['multiple', 'DISEASE'], ['multiple', 'I-RRMS']]\n",
      "[['sclerosis', 'DISEASE'], ['sclerosis', 'I-RRMS']]\n",
      "[['multiple', 'DISEASE'], ['multiple', 'B-RRMS']]\n",
      "[['sclerosis', 'DISEASE'], ['sclerosis', 'I-RRMS']]\n",
      "inscope: 6\n",
      "change_00028 annotator2_change_00028_correct\n",
      "change_00028.txt\n"
     ]
    },
    {
     "name": "stderr",
     "output_type": "stream",
     "text": [
      "DEBUG:urllib3.connectionpool:https://huggingface.co:443 \"HEAD /alvaroalon2/biobert_diseases_ner/resolve/main/config.json HTTP/1.1\" 200 0\n",
      "DEBUG:urllib3.connectionpool:https://huggingface.co:443 \"HEAD /alvaroalon2/biobert_diseases_ner/resolve/main/tokenizer_config.json HTTP/1.1\" 200 0\n"
     ]
    },
    {
     "name": "stdout",
     "output_type": "stream",
     "text": [
      "5 48 780 15\n",
      "[['multiple', 'DISEASE'], ['multiple', 'I-RRMS']]\n",
      "[['sclerosis', 'DISEASE'], ['sclerosis', 'I-RRMS']]\n",
      "[['multiple', 'DISEASE'], ['multiple', 'B-SPMS']]\n",
      "[['sclerosis', 'DISEASE'], ['sclerosis', 'I-SPMS']]\n",
      "[['sclerosis', 'DISEASE'], ['sclerosis', 'I-SPMS']]\n",
      "inscope: 5\n",
      "change_00029 annotator2_change_00029_correct\n",
      "change_00029.txt\n"
     ]
    },
    {
     "name": "stderr",
     "output_type": "stream",
     "text": [
      "DEBUG:urllib3.connectionpool:https://huggingface.co:443 \"HEAD /alvaroalon2/biobert_diseases_ner/resolve/main/config.json HTTP/1.1\" 200 0\n",
      "DEBUG:urllib3.connectionpool:https://huggingface.co:443 \"HEAD /alvaroalon2/biobert_diseases_ner/resolve/main/tokenizer_config.json HTTP/1.1\" 200 0\n"
     ]
    },
    {
     "name": "stdout",
     "output_type": "stream",
     "text": [
      "6 78 950 12\n",
      "[['multiple', 'DISEASE'], ['multiple', 'I-RRMS']]\n",
      "[['sclerosis', 'DISEASE'], ['sclerosis', 'I-RRMS']]\n",
      "[['multiple', 'DISEASE'], ['multiple', 'B-RRMS']]\n",
      "[['sclerosis', 'DISEASE'], ['sclerosis', 'I-RRMS']]\n",
      "[['multiple', 'DISEASE'], ['multiple', 'I-RRMS']]\n",
      "[['sclerosis', 'DISEASE'], ['sclerosis', 'I-RRMS']]\n",
      "inscope: 6\n",
      "change_00030 annotator2_change_00030_correct\n",
      "change_00030.txt\n"
     ]
    },
    {
     "name": "stderr",
     "output_type": "stream",
     "text": [
      "DEBUG:urllib3.connectionpool:https://huggingface.co:443 \"HEAD /alvaroalon2/biobert_diseases_ner/resolve/main/config.json HTTP/1.1\" 200 0\n",
      "DEBUG:urllib3.connectionpool:https://huggingface.co:443 \"HEAD /alvaroalon2/biobert_diseases_ner/resolve/main/tokenizer_config.json HTTP/1.1\" 200 0\n"
     ]
    },
    {
     "name": "stdout",
     "output_type": "stream",
     "text": [
      "8 36 1030 14\n",
      "[['multiple', 'DISEASE'], ['multiple', 'B-SPMS']]\n",
      "[['sclerosis', 'DISEASE'], ['sclerosis', 'I-SPMS']]\n",
      "[['Multiple', 'DISEASE'], ['Multiple', 'B-SPMS']]\n",
      "[['sclerosis', 'DISEASE'], ['sclerosis', 'I-SPMS']]\n",
      "[['Multiple', 'DISEASE'], ['Multiple', 'B-SPMS']]\n",
      "[['sclerosis', 'DISEASE'], ['sclerosis', 'I-SPMS']]\n",
      "[['multiple', 'DISEASE'], ['multiple', 'I-SPMS']]\n",
      "[['Multiple', 'DISEASE'], ['Multiple', 'B-SPMS']]\n",
      "inscope: 8\n",
      "change_00031 annotator2_change_00031_correct\n",
      "change_00031.txt\n"
     ]
    },
    {
     "name": "stderr",
     "output_type": "stream",
     "text": [
      "DEBUG:urllib3.connectionpool:https://huggingface.co:443 \"HEAD /alvaroalon2/biobert_diseases_ner/resolve/main/config.json HTTP/1.1\" 200 0\n",
      "DEBUG:urllib3.connectionpool:https://huggingface.co:443 \"HEAD /alvaroalon2/biobert_diseases_ner/resolve/main/tokenizer_config.json HTTP/1.1\" 200 0\n"
     ]
    },
    {
     "name": "stdout",
     "output_type": "stream",
     "text": [
      "10 44 945 22\n",
      "[['multiple', 'DISEASE'], ['multiple', 'I-RRMS']]\n",
      "[['sclerosis', 'DISEASE'], ['sclerosis', 'I-RRMS']]\n",
      "[['multiple', 'DISEASE'], ['multiple', 'I-RRMS']]\n",
      "[['sclerosis', 'DISEASE'], ['sclerosis', 'I-RRMS']]\n",
      "[['MS', 'DISEASE'], ['MS', 'I-Temporal_history_of_relapse']]\n",
      "[['UTI', 'DISEASE'], ['UTI', 'I-Temporal_history_of_relapse']]\n",
      "[['infection', 'DISEASE'], ['infection', 'I-Temporal_history_of_relapse']]\n",
      "[['multiple', 'DISEASE'], ['multiple', 'B-RRMS']]\n",
      "[['sclerosis', 'DISEASE'], ['sclerosis', 'I-RRMS']]\n",
      "[['sclerosis', 'DISEASE'], ['sclerosis', 'I-RRMS']]\n",
      "inscope: 10\n",
      "change_00032 annotator2_change_00032_correct\n",
      "change_00032.txt\n"
     ]
    },
    {
     "name": "stderr",
     "output_type": "stream",
     "text": [
      "DEBUG:urllib3.connectionpool:https://huggingface.co:443 \"HEAD /alvaroalon2/biobert_diseases_ner/resolve/main/config.json HTTP/1.1\" 200 0\n",
      "DEBUG:urllib3.connectionpool:https://huggingface.co:443 \"HEAD /alvaroalon2/biobert_diseases_ner/resolve/main/tokenizer_config.json HTTP/1.1\" 200 0\n"
     ]
    },
    {
     "name": "stdout",
     "output_type": "stream",
     "text": [
      "2 41 595 13\n",
      "[['MS', 'DISEASE'], ['MS', 'B-SPMS']]\n",
      "[['sclerosis', 'DISEASE'], ['SCLEROSIS', 'I-RRMS']]\n",
      "inscope: 2\n",
      "change_00033 annotator2_change_00033_correct\n",
      "change_00033.txt\n"
     ]
    },
    {
     "name": "stderr",
     "output_type": "stream",
     "text": [
      "DEBUG:urllib3.connectionpool:https://huggingface.co:443 \"HEAD /alvaroalon2/biobert_diseases_ner/resolve/main/config.json HTTP/1.1\" 200 0\n",
      "DEBUG:urllib3.connectionpool:https://huggingface.co:443 \"HEAD /alvaroalon2/biobert_diseases_ner/resolve/main/tokenizer_config.json HTTP/1.1\" 200 0\n"
     ]
    },
    {
     "name": "stdout",
     "output_type": "stream",
     "text": [
      "2 9 306 1\n",
      "[['MS', 'DISEASE'], ['MS', 'B-RRMS']]\n",
      "[['RRMS', 'DISEASE'], ['RRMS', 'B-RRMS']]\n",
      "inscope: 2\n",
      "change_00034 annotator2_change_00034_correct\n",
      "change_00034.txt\n"
     ]
    },
    {
     "name": "stderr",
     "output_type": "stream",
     "text": [
      "DEBUG:urllib3.connectionpool:https://huggingface.co:443 \"HEAD /alvaroalon2/biobert_diseases_ner/resolve/main/config.json HTTP/1.1\" 200 0\n",
      "DEBUG:urllib3.connectionpool:https://huggingface.co:443 \"HEAD /alvaroalon2/biobert_diseases_ner/resolve/main/tokenizer_config.json HTTP/1.1\" 200 0\n"
     ]
    },
    {
     "name": "stdout",
     "output_type": "stream",
     "text": [
      "2 23 361 9\n",
      "[['MS', 'DISEASE'], ['MS', 'I-RRMS']]\n",
      "[['MS', 'DISEASE'], ['MS', 'I-RRMS']]\n",
      "inscope: 2\n",
      "change_00035 annotator2_change_00035_correct\n",
      "change_00035.txt\n"
     ]
    },
    {
     "name": "stderr",
     "output_type": "stream",
     "text": [
      "DEBUG:urllib3.connectionpool:https://huggingface.co:443 \"HEAD /alvaroalon2/biobert_diseases_ner/resolve/main/config.json HTTP/1.1\" 200 0\n"
     ]
    },
    {
     "name": "stdout",
     "output_type": "stream",
     "text": [
      "1 36 613 9\n",
      "[['multiple', 'DISEASE'], ['MULTIPLE', 'I-RRMS']]\n",
      "inscope: 1\n",
      "change_00036 annotator2_change_00036_correct\n",
      "change_00036.txt\n"
     ]
    },
    {
     "name": "stderr",
     "output_type": "stream",
     "text": [
      "DEBUG:urllib3.connectionpool:https://huggingface.co:443 \"HEAD /alvaroalon2/biobert_diseases_ner/resolve/main/tokenizer_config.json HTTP/1.1\" 200 0\n",
      "DEBUG:urllib3.connectionpool:https://huggingface.co:443 \"HEAD /alvaroalon2/biobert_diseases_ner/resolve/main/config.json HTTP/1.1\" 200 0\n",
      "DEBUG:urllib3.connectionpool:https://huggingface.co:443 \"HEAD /alvaroalon2/biobert_diseases_ner/resolve/main/tokenizer_config.json HTTP/1.1\" 200 0\n"
     ]
    },
    {
     "name": "stdout",
     "output_type": "stream",
     "text": [
      "12 100 1593 3\n",
      "[['Multiple', 'DISEASE'], ['Multiple', 'B-RRMS']]\n",
      "[['sclerosis', 'DISEASE'], ['sclerosis', 'I-RRMS']]\n",
      "[['MS', 'DISEASE'], ['MS', 'B-RRMS']]\n",
      "[['MS', 'DISEASE'], ['MS', 'B-RRMS']]\n",
      "[['multiple', 'DISEASE'], ['multiple', 'B-RRMS']]\n",
      "[['sclerosis', 'DISEASE'], ['sclerosis', 'I-RRMS']]\n",
      "[['Multiple', 'DISEASE'], ['Multiple', 'B-RRMS']]\n",
      "[['sclerosis', 'DISEASE'], ['sclerosis', 'I-RRMS']]\n",
      "[['MS', 'DISEASE'], ['MS', 'B-RRMS']]\n",
      "[['MS', 'DISEASE'], ['MS', 'B-RRMS']]\n",
      "[['Multiple', 'DISEASE'], ['Multiple', 'B-RRMS']]\n",
      "[['sclerosis', 'DISEASE'], ['sclerosis', 'I-RRMS']]\n",
      "inscope: 12\n",
      "change_00037 annotator2_change_00037_correct\n",
      "change_00037.txt\n"
     ]
    },
    {
     "name": "stderr",
     "output_type": "stream",
     "text": [
      "DEBUG:urllib3.connectionpool:https://huggingface.co:443 \"HEAD /alvaroalon2/biobert_diseases_ner/resolve/main/config.json HTTP/1.1\" 200 0\n",
      "DEBUG:urllib3.connectionpool:https://huggingface.co:443 \"HEAD /alvaroalon2/biobert_diseases_ner/resolve/main/tokenizer_config.json HTTP/1.1\" 200 0\n"
     ]
    },
    {
     "name": "stdout",
     "output_type": "stream",
     "text": [
      "6 52 838 12\n",
      "[['multiple', 'DISEASE'], ['multiple', 'I-RRMS']]\n",
      "[['sclerosis', 'DISEASE'], ['sclerosis', 'I-RRMS']]\n",
      "[['multiple', 'DISEASE'], ['multiple', 'B-SPMS']]\n",
      "[['sclerosis', 'DISEASE'], ['sclerosis', 'I-SPMS']]\n",
      "[['multiple', 'DISEASE'], ['multiple', 'I-SPMS']]\n",
      "[['sclerosis', 'DISEASE'], ['sclerosis', 'I-SPMS']]\n",
      "inscope: 6\n",
      "change_00038 annotator2_change_00038_correct\n",
      "change_00038.txt\n"
     ]
    },
    {
     "name": "stderr",
     "output_type": "stream",
     "text": [
      "DEBUG:urllib3.connectionpool:https://huggingface.co:443 \"HEAD /alvaroalon2/biobert_diseases_ner/resolve/main/config.json HTTP/1.1\" 200 0\n",
      "DEBUG:urllib3.connectionpool:https://huggingface.co:443 \"HEAD /alvaroalon2/biobert_diseases_ner/resolve/main/tokenizer_config.json HTTP/1.1\" 200 0\n"
     ]
    },
    {
     "name": "stdout",
     "output_type": "stream",
     "text": [
      "7 90 1135 21\n",
      "[['multiple', 'DISEASE'], ['multiple', 'I-RRMS']]\n",
      "[['sclerosis', 'DISEASE'], ['sclerosis', 'I-RRMS']]\n",
      "[['multiple', 'DISEASE'], ['multiple', 'I-SPMS']]\n",
      "[['sclerosis', 'DISEASE'], ['sclerosis', 'I-SPMS']]\n",
      "[['multiple', 'DISEASE'], ['multiple', 'B-SPMS']]\n",
      "[['sclerosis', 'DISEASE'], ['sclerosis', 'I-SPMS']]\n",
      "[['sclerosis', 'DISEASE'], ['sclerosis', 'I-SPMS']]\n",
      "inscope: 7\n",
      "change_00039 annotator2_change_00039_correct\n",
      "change_00039.txt\n"
     ]
    },
    {
     "name": "stderr",
     "output_type": "stream",
     "text": [
      "DEBUG:urllib3.connectionpool:https://huggingface.co:443 \"HEAD /alvaroalon2/biobert_diseases_ner/resolve/main/config.json HTTP/1.1\" 200 0\n",
      "DEBUG:urllib3.connectionpool:https://huggingface.co:443 \"HEAD /alvaroalon2/biobert_diseases_ner/resolve/main/tokenizer_config.json HTTP/1.1\" 200 0\n"
     ]
    },
    {
     "name": "stdout",
     "output_type": "stream",
     "text": [
      "13 35 1182 12\n",
      "[['multiple', 'DISEASE'], ['multiple', 'B-RRMS']]\n",
      "[['sclerosis', 'DISEASE'], ['sclerosis', 'I-RRMS']]\n",
      "[['multiple', 'DISEASE'], ['multiple', 'B-RRMS']]\n",
      "[['sclerosis', 'DISEASE'], ['sclerosis', 'I-RRMS']]\n",
      "[['MS', 'DISEASE'], ['MS', 'I-RRMS']]\n",
      "[['MS', 'DISEASE'], ['MS', 'B-RRMS']]\n",
      "[['MS', 'DISEASE'], ['MS', 'B-RRMS']]\n",
      "[['MS', 'DISEASE'], ['MS', 'B-RRMS']]\n",
      "[['multiple', 'DISEASE'], ['multiple', 'I-RRMS']]\n",
      "[['sclerosis', 'DISEASE'], ['sclerosis', 'I-RRMS']]\n",
      "[['multiple', 'DISEASE'], ['multiple', 'I-RRMS']]\n",
      "[['sclerosis', 'DISEASE'], ['sclerosis', 'I-RRMS']]\n",
      "[['MS', 'DISEASE'], ['MS', 'I-RRMS']]\n",
      "inscope: 13\n",
      "change_00040 annotator2_change_00040_correct\n",
      "change_00040.txt\n"
     ]
    },
    {
     "name": "stderr",
     "output_type": "stream",
     "text": [
      "DEBUG:urllib3.connectionpool:https://huggingface.co:443 \"HEAD /alvaroalon2/biobert_diseases_ner/resolve/main/config.json HTTP/1.1\" 200 0\n",
      "DEBUG:urllib3.connectionpool:https://huggingface.co:443 \"HEAD /alvaroalon2/biobert_diseases_ner/resolve/main/tokenizer_config.json HTTP/1.1\" 200 0\n"
     ]
    },
    {
     "name": "stdout",
     "output_type": "stream",
     "text": [
      "2 12 415 7\n",
      "[['multiple', 'DISEASE'], ['MULTIPLE', 'I-RRMS']]\n",
      "[['sclerosis', 'DISEASE'], ['SCLEROSIS', 'I-RRMS']]\n",
      "inscope: 2\n",
      "change_00041 annotator2_change_00041_correct\n",
      "change_00041.txt\n"
     ]
    },
    {
     "name": "stderr",
     "output_type": "stream",
     "text": [
      "DEBUG:urllib3.connectionpool:https://huggingface.co:443 \"HEAD /alvaroalon2/biobert_diseases_ner/resolve/main/config.json HTTP/1.1\" 200 0\n",
      "DEBUG:urllib3.connectionpool:https://huggingface.co:443 \"HEAD /alvaroalon2/biobert_diseases_ner/resolve/main/tokenizer_config.json HTTP/1.1\" 200 0\n"
     ]
    },
    {
     "name": "stdout",
     "output_type": "stream",
     "text": [
      "13 83 1330 7\n",
      "[['multiple', 'DISEASE'], ['multiple', 'I-RRMS']]\n",
      "[['sclerosis', 'DISEASE'], ['sclerosis', 'I-RRMS']]\n",
      "[['multiple', 'DISEASE'], ['multiple', 'B-RRMS']]\n",
      "[['sclerosis', 'DISEASE'], ['sclerosis', 'I-RRMS']]\n",
      "[['multiple', 'DISEASE'], ['multiple', 'B-RRMS']]\n",
      "[['sclerosis', 'DISEASE'], ['sclerosis', 'I-RRMS']]\n",
      "[['multiple', 'DISEASE'], ['multiple', 'B-RRMS']]\n",
      "[['sclerosis', 'DISEASE'], ['sclerosis', 'I-RRMS']]\n",
      "[['remitting', 'DISEASE'], ['remitting', 'I-RRMS']]\n",
      "[['multiple', 'DISEASE'], ['multiple', 'I-RRMS']]\n",
      "[['sclerosis', 'DISEASE'], ['sclerosis', 'I-RRMS']]\n",
      "[['multiple', 'DISEASE'], ['multiple', 'B-RRMS']]\n",
      "[['sclerosis', 'DISEASE'], ['sclerosis', 'I-RRMS']]\n",
      "inscope: 13\n",
      "change_00042 annotator2_change_00042_correct\n",
      "change_00042.txt\n"
     ]
    },
    {
     "name": "stderr",
     "output_type": "stream",
     "text": [
      "DEBUG:urllib3.connectionpool:https://huggingface.co:443 \"HEAD /alvaroalon2/biobert_diseases_ner/resolve/main/config.json HTTP/1.1\" 200 0\n",
      "DEBUG:urllib3.connectionpool:https://huggingface.co:443 \"HEAD /alvaroalon2/biobert_diseases_ner/resolve/main/tokenizer_config.json HTTP/1.1\" 200 0\n"
     ]
    },
    {
     "name": "stdout",
     "output_type": "stream",
     "text": [
      "2 28 667 6\n",
      "[['RRMS', 'DISEASE'], ['RRMS', 'B-RRMS']]\n",
      "[['multiple', 'DISEASE'], ['multiple', 'I-RRMS']]\n",
      "inscope: 2\n",
      "change_00043 annotator2_change_00043_correct\n",
      "change_00043.txt\n"
     ]
    },
    {
     "name": "stderr",
     "output_type": "stream",
     "text": [
      "DEBUG:urllib3.connectionpool:https://huggingface.co:443 \"HEAD /alvaroalon2/biobert_diseases_ner/resolve/main/config.json HTTP/1.1\" 200 0\n",
      "DEBUG:urllib3.connectionpool:https://huggingface.co:443 \"HEAD /alvaroalon2/biobert_diseases_ner/resolve/main/tokenizer_config.json HTTP/1.1\" 200 0\n"
     ]
    },
    {
     "name": "stdout",
     "output_type": "stream",
     "text": [
      "6 38 792 4\n",
      "[['multiple', 'DISEASE'], ['multiple', 'I-SPMS']]\n",
      "[['sclerosis', 'DISEASE'], ['sclerosis', 'I-SPMS']]\n",
      "[['multiple', 'DISEASE'], ['multiple', 'B-SPMS']]\n",
      "[['sclerosis', 'DISEASE'], ['sclerosis', 'I-SPMS']]\n",
      "[['multiple', 'DISEASE'], ['multiple', 'B-SPMS']]\n",
      "[['sclerosis', 'DISEASE'], ['sclerosis', 'I-SPMS']]\n",
      "inscope: 6\n",
      "change_00044 annotator2_change_00044_correct\n",
      "change_00044.txt\n"
     ]
    },
    {
     "name": "stderr",
     "output_type": "stream",
     "text": [
      "DEBUG:urllib3.connectionpool:https://huggingface.co:443 \"HEAD /alvaroalon2/biobert_diseases_ner/resolve/main/config.json HTTP/1.1\" 200 0\n",
      "DEBUG:urllib3.connectionpool:https://huggingface.co:443 \"HEAD /alvaroalon2/biobert_diseases_ner/resolve/main/tokenizer_config.json HTTP/1.1\" 200 0\n"
     ]
    },
    {
     "name": "stdout",
     "output_type": "stream",
     "text": [
      "2 2 275 6\n",
      "[['multiple', 'DISEASE'], ['MULTIPLE', 'I-RRMS']]\n",
      "[['sclerosis', 'DISEASE'], ['SCLEROSIS', 'I-RRMS']]\n",
      "inscope: 2\n",
      "change_00045 annotator2_change_00045_correct\n",
      "change_00045.txt\n"
     ]
    },
    {
     "name": "stderr",
     "output_type": "stream",
     "text": [
      "DEBUG:urllib3.connectionpool:https://huggingface.co:443 \"HEAD /alvaroalon2/biobert_diseases_ner/resolve/main/config.json HTTP/1.1\" 200 0\n",
      "DEBUG:urllib3.connectionpool:https://huggingface.co:443 \"HEAD /alvaroalon2/biobert_diseases_ner/resolve/main/tokenizer_config.json HTTP/1.1\" 200 0\n"
     ]
    },
    {
     "name": "stdout",
     "output_type": "stream",
     "text": [
      "2 13 429 7\n",
      "[['multiple', 'DISEASE'], ['MULTIPLE', 'I-RRMS']]\n",
      "[['sclerosis', 'DISEASE'], ['SCLEROSIS', 'I-RRMS']]\n",
      "inscope: 2\n",
      "change_00046 annotator2_change_00046_correct\n",
      "change_00046.txt\n"
     ]
    },
    {
     "name": "stderr",
     "output_type": "stream",
     "text": [
      "DEBUG:urllib3.connectionpool:https://huggingface.co:443 \"HEAD /alvaroalon2/biobert_diseases_ner/resolve/main/config.json HTTP/1.1\" 200 0\n",
      "DEBUG:urllib3.connectionpool:https://huggingface.co:443 \"HEAD /alvaroalon2/biobert_diseases_ner/resolve/main/tokenizer_config.json HTTP/1.1\" 200 0\n"
     ]
    },
    {
     "name": "stdout",
     "output_type": "stream",
     "text": [
      "6 26 937 5\n",
      "[['multiple', 'DISEASE'], ['multiple', 'B-SPMS']]\n",
      "[['sclerosis', 'DISEASE'], ['sclerosis', 'I-SPMS']]\n",
      "[['multiple', 'DISEASE'], ['multiple', 'I-SPMS']]\n",
      "[['sclerosis', 'DISEASE'], ['sclerosis', 'I-SPMS']]\n",
      "[['multiple', 'DISEASE'], ['multiple', 'I-SPMS']]\n",
      "[['sclerosis', 'DISEASE'], ['sclerosis', 'I-SPMS']]\n",
      "inscope: 6\n",
      "change_00047 annotator2_change_00047_correct\n",
      "change_00047.txt\n"
     ]
    },
    {
     "name": "stderr",
     "output_type": "stream",
     "text": [
      "DEBUG:urllib3.connectionpool:https://huggingface.co:443 \"HEAD /alvaroalon2/biobert_diseases_ner/resolve/main/config.json HTTP/1.1\" 200 0\n",
      "DEBUG:urllib3.connectionpool:https://huggingface.co:443 \"HEAD /alvaroalon2/biobert_diseases_ner/resolve/main/tokenizer_config.json HTTP/1.1\" 200 0\n"
     ]
    },
    {
     "name": "stdout",
     "output_type": "stream",
     "text": [
      "7 55 1266 9\n",
      "[['remitting', 'DISEASE'], ['remitting', 'I-RRMS']]\n",
      "[['multiple', 'DISEASE'], ['multiple', 'I-RRMS']]\n",
      "[['sclerosis', 'DISEASE'], ['sclerosis', 'I-RRMS']]\n",
      "[['MS', 'DISEASE'], ['MS', 'B-RRMS']]\n",
      "[['MS', 'DISEASE'], ['MS', 'I-RRMS']]\n",
      "[['multiple', 'DISEASE'], ['multiple', 'I-RRMS']]\n",
      "[['sclerosis', 'DISEASE'], ['sclerosis', 'I-RRMS']]\n",
      "inscope: 7\n",
      "change_00048 annotator2_change_00048_correct\n",
      "change_00048.txt\n"
     ]
    },
    {
     "name": "stderr",
     "output_type": "stream",
     "text": [
      "DEBUG:urllib3.connectionpool:https://huggingface.co:443 \"HEAD /alvaroalon2/biobert_diseases_ner/resolve/main/config.json HTTP/1.1\" 200 0\n",
      "DEBUG:urllib3.connectionpool:https://huggingface.co:443 \"HEAD /alvaroalon2/biobert_diseases_ner/resolve/main/tokenizer_config.json HTTP/1.1\" 200 0\n"
     ]
    },
    {
     "name": "stdout",
     "output_type": "stream",
     "text": [
      "2 0 218 5\n",
      "somevalue is zer0\n",
      "change_00049 annotator2_change_00049_correct\n",
      "change_00049.txt\n"
     ]
    },
    {
     "name": "stderr",
     "output_type": "stream",
     "text": [
      "DEBUG:urllib3.connectionpool:https://huggingface.co:443 \"HEAD /alvaroalon2/biobert_diseases_ner/resolve/main/config.json HTTP/1.1\" 200 0\n",
      "DEBUG:urllib3.connectionpool:https://huggingface.co:443 \"HEAD /alvaroalon2/biobert_diseases_ner/resolve/main/tokenizer_config.json HTTP/1.1\" 200 0\n"
     ]
    },
    {
     "name": "stdout",
     "output_type": "stream",
     "text": [
      "6 25 963 24\n",
      "[['multiple', 'DISEASE'], ['multiple', 'I-SPMS']]\n",
      "[['sclerosis', 'DISEASE'], ['sclerosis', 'I-SPMS']]\n",
      "[['Multiple', 'DISEASE'], ['Multiple', 'B-SPMS']]\n",
      "[['sclerosis', 'DISEASE'], ['sclerosis', 'I-SPMS']]\n",
      "[['multiple', 'DISEASE'], ['multiple', 'I-SPMS']]\n",
      "[['sclerosis', 'DISEASE'], ['sclerosis', 'I-SPMS']]\n",
      "inscope: 6\n",
      "chron_00001 annotator2_chron_00001_correct\n",
      "chron_00001.txt\n"
     ]
    },
    {
     "name": "stderr",
     "output_type": "stream",
     "text": [
      "DEBUG:urllib3.connectionpool:https://huggingface.co:443 \"HEAD /alvaroalon2/biobert_diseases_ner/resolve/main/config.json HTTP/1.1\" 200 0\n"
     ]
    },
    {
     "name": "stdout",
     "output_type": "stream",
     "text": [
      "1 6 237 9\n",
      "[['MS', 'DISEASE'], ['MS', 'B-RRMS']]\n",
      "inscope: 1\n",
      "chron_00002 annotator2_chron_00002_correct\n",
      "chron_00002.txt\n"
     ]
    },
    {
     "name": "stderr",
     "output_type": "stream",
     "text": [
      "DEBUG:urllib3.connectionpool:https://huggingface.co:443 \"HEAD /alvaroalon2/biobert_diseases_ner/resolve/main/tokenizer_config.json HTTP/1.1\" 200 0\n",
      "DEBUG:urllib3.connectionpool:https://huggingface.co:443 \"HEAD /alvaroalon2/biobert_diseases_ner/resolve/main/config.json HTTP/1.1\" 200 0\n"
     ]
    },
    {
     "name": "stdout",
     "output_type": "stream",
     "text": [
      "2 14 401 23\n",
      "[['sensory', 'DISEASE'], ['sensory', 'B-Temporal_history_of_relapse']]\n",
      "[['MS', 'DISEASE'], ['MS', 'B-RRMS']]\n",
      "inscope: 2\n",
      "chron_00003 annotator2_chron_00003_correct\n",
      "chron_00003.txt\n"
     ]
    },
    {
     "name": "stderr",
     "output_type": "stream",
     "text": [
      "DEBUG:urllib3.connectionpool:https://huggingface.co:443 \"HEAD /alvaroalon2/biobert_diseases_ner/resolve/main/tokenizer_config.json HTTP/1.1\" 200 0\n",
      "DEBUG:urllib3.connectionpool:https://huggingface.co:443 \"HEAD /alvaroalon2/biobert_diseases_ner/resolve/main/config.json HTTP/1.1\" 200 0\n",
      "DEBUG:urllib3.connectionpool:https://huggingface.co:443 \"HEAD /alvaroalon2/biobert_diseases_ner/resolve/main/tokenizer_config.json HTTP/1.1\" 200 0\n"
     ]
    },
    {
     "name": "stdout",
     "output_type": "stream",
     "text": [
      "10 213 1802 6\n",
      "[['Multiple', 'DISEASE'], ['Multiple', 'B-RRMS']]\n",
      "[['sclerosis', 'DISEASE'], ['sclerosis', 'I-RRMS']]\n",
      "[['multiple', 'DISEASE'], ['multiple', 'B-RRMS']]\n",
      "[['sclerosis', 'DISEASE'], ['sclerosis', 'I-RRMS']]\n",
      "[['Multiple', 'DISEASE'], ['Multiple', 'B-RRMS']]\n",
      "[['sclerosis', 'DISEASE'], ['sclerosis', 'I-RRMS']]\n",
      "[['MS', 'DISEASE'], ['MS', 'I-RRMS']]\n",
      "[['MS', 'DISEASE'], ['MS', 'B-RRMS']]\n",
      "[['Multiple', 'DISEASE'], ['Multiple', 'B-RRMS']]\n",
      "[['sclerosis', 'DISEASE'], ['sclerosis', 'I-RRMS']]\n",
      "inscope: 10\n",
      "chron_00004 annotator2_chron_00004_correct\n",
      "chron_00004.txt\n"
     ]
    },
    {
     "name": "stderr",
     "output_type": "stream",
     "text": [
      "DEBUG:urllib3.connectionpool:https://huggingface.co:443 \"HEAD /alvaroalon2/biobert_diseases_ner/resolve/main/config.json HTTP/1.1\" 200 0\n",
      "DEBUG:urllib3.connectionpool:https://huggingface.co:443 \"HEAD /alvaroalon2/biobert_diseases_ner/resolve/main/tokenizer_config.json HTTP/1.1\" 200 0\n"
     ]
    },
    {
     "name": "stdout",
     "output_type": "stream",
     "text": [
      "1 69 1047 4\n",
      "[['RRMS', 'DISEASE'], ['RRMS', 'B-RRMS']]\n",
      "inscope: 1\n",
      "chron_00005 annotator2_chron_00005_correct\n",
      "chron_00005.txt\n"
     ]
    },
    {
     "name": "stderr",
     "output_type": "stream",
     "text": [
      "DEBUG:urllib3.connectionpool:https://huggingface.co:443 \"HEAD /alvaroalon2/biobert_diseases_ner/resolve/main/config.json HTTP/1.1\" 200 0\n",
      "DEBUG:urllib3.connectionpool:https://huggingface.co:443 \"HEAD /alvaroalon2/biobert_diseases_ner/resolve/main/tokenizer_config.json HTTP/1.1\" 200 0\n"
     ]
    },
    {
     "name": "stdout",
     "output_type": "stream",
     "text": [
      "2 25 815 8\n",
      "[['multiple', 'DISEASE'], ['multiple', 'I-SPMS']]\n",
      "[['sclerosis', 'DISEASE'], ['sclerosis', 'I-SPMS']]\n",
      "inscope: 2\n",
      "chron_00006 annotator2_chron_00006_correct\n",
      "chron_00006.txt\n"
     ]
    },
    {
     "name": "stderr",
     "output_type": "stream",
     "text": [
      "DEBUG:urllib3.connectionpool:https://huggingface.co:443 \"HEAD /alvaroalon2/biobert_diseases_ner/resolve/main/config.json HTTP/1.1\" 200 0\n",
      "DEBUG:urllib3.connectionpool:https://huggingface.co:443 \"HEAD /alvaroalon2/biobert_diseases_ner/resolve/main/tokenizer_config.json HTTP/1.1\" 200 0\n"
     ]
    },
    {
     "name": "stdout",
     "output_type": "stream",
     "text": [
      "3 62 1434 14\n",
      "[['multiple', 'DISEASE'], ['multiple', 'B-SPMS']]\n",
      "[['sclerosis', 'DISEASE'], ['SCLEROSIS', 'I-SPMS']]\n",
      "[['MS', 'DISEASE'], ['MS', 'B-SPMS']]\n",
      "inscope: 3\n",
      "chron_00007 annotator2_chron_00007_correct\n",
      "chron_00007.txt\n"
     ]
    },
    {
     "name": "stderr",
     "output_type": "stream",
     "text": [
      "DEBUG:urllib3.connectionpool:https://huggingface.co:443 \"HEAD /alvaroalon2/biobert_diseases_ner/resolve/main/config.json HTTP/1.1\" 200 0\n",
      "DEBUG:urllib3.connectionpool:https://huggingface.co:443 \"HEAD /alvaroalon2/biobert_diseases_ner/resolve/main/tokenizer_config.json HTTP/1.1\" 200 0\n"
     ]
    },
    {
     "name": "stdout",
     "output_type": "stream",
     "text": [
      "6 48 1342 9\n",
      "[['multiple', 'DISEASE'], ['multiple', 'I-RRMS']]\n",
      "[['sclerosis', 'DISEASE'], ['sclerosis', 'I-RRMS']]\n",
      "[['##RMS', 'DISEASE'], ['MS', 'B-RRMS']]\n",
      "[['MS', 'DISEASE'], ['MS', 'B-RRMS']]\n",
      "[['multiple', 'DISEASE'], ['multiple', 'B-RRMS']]\n",
      "[['sclerosis', 'DISEASE'], ['sclerosis', 'I-RRMS']]\n",
      "inscope: 6\n",
      "chron_00008 annotator2_chron_00008_correct\n",
      "chron_00008.txt\n"
     ]
    },
    {
     "name": "stderr",
     "output_type": "stream",
     "text": [
      "DEBUG:urllib3.connectionpool:https://huggingface.co:443 \"HEAD /alvaroalon2/biobert_diseases_ner/resolve/main/config.json HTTP/1.1\" 200 0\n",
      "DEBUG:urllib3.connectionpool:https://huggingface.co:443 \"HEAD /alvaroalon2/biobert_diseases_ner/resolve/main/tokenizer_config.json HTTP/1.1\" 200 0\n"
     ]
    },
    {
     "name": "stdout",
     "output_type": "stream",
     "text": [
      "1 14 428 14\n",
      "[['MS', 'DISEASE'], ['MS', 'I-RRMS']]\n",
      "inscope: 1\n",
      "chron_00009 annotator2_chron_00009_correct\n",
      "chron_00009.txt\n"
     ]
    },
    {
     "name": "stderr",
     "output_type": "stream",
     "text": [
      "DEBUG:urllib3.connectionpool:https://huggingface.co:443 \"HEAD /alvaroalon2/biobert_diseases_ner/resolve/main/config.json HTTP/1.1\" 200 0\n",
      "DEBUG:urllib3.connectionpool:https://huggingface.co:443 \"HEAD /alvaroalon2/biobert_diseases_ner/resolve/main/tokenizer_config.json HTTP/1.1\" 200 0\n"
     ]
    },
    {
     "name": "stdout",
     "output_type": "stream",
     "text": [
      "4 35 621 11\n",
      "[['Multiple', 'DISEASE'], ['Multiple', 'B-SPMS']]\n",
      "[['sclerosis', 'DISEASE'], ['sclerosis', 'I-SPMS']]\n",
      "[['multiple', 'DISEASE'], ['multiple', 'I-SPMS']]\n",
      "[['sclerosis', 'DISEASE'], ['sclerosis', 'I-SPMS']]\n",
      "inscope: 4\n",
      "chron_00010 annotator2_chron_00010_correct\n",
      "chron_00010.txt\n"
     ]
    },
    {
     "name": "stderr",
     "output_type": "stream",
     "text": [
      "DEBUG:urllib3.connectionpool:https://huggingface.co:443 \"HEAD /alvaroalon2/biobert_diseases_ner/resolve/main/config.json HTTP/1.1\" 200 0\n",
      "DEBUG:urllib3.connectionpool:https://huggingface.co:443 \"HEAD /alvaroalon2/biobert_diseases_ner/resolve/main/tokenizer_config.json HTTP/1.1\" 200 0\n"
     ]
    },
    {
     "name": "stdout",
     "output_type": "stream",
     "text": [
      "4 66 1367 11\n",
      "[['multiple', 'DISEASE'], ['MULTIPLE', 'B-RRMS']]\n",
      "[['sclerosis', 'DISEASE'], ['SCLEROSIS', 'I-RRMS']]\n",
      "[['Multiple', 'DISEASE'], ['Multiple', 'B-RRMS']]\n",
      "[['Disease', 'DISEASE'], ['Disease', 'I-Temporal_history_of_relapse']]\n",
      "inscope: 4\n",
      "chron_00011 annotator2_chron_00011_correct\n",
      "chron_00011.txt\n"
     ]
    },
    {
     "name": "stderr",
     "output_type": "stream",
     "text": [
      "DEBUG:urllib3.connectionpool:https://huggingface.co:443 \"HEAD /alvaroalon2/biobert_diseases_ner/resolve/main/config.json HTTP/1.1\" 200 0\n",
      "DEBUG:urllib3.connectionpool:https://huggingface.co:443 \"HEAD /alvaroalon2/biobert_diseases_ner/resolve/main/tokenizer_config.json HTTP/1.1\" 200 0\n"
     ]
    },
    {
     "name": "stdout",
     "output_type": "stream",
     "text": [
      "7 64 1307 25\n",
      "[['multiple', 'DISEASE'], ['multiple', 'B-RRMS']]\n",
      "[['sclerosis', 'DISEASE'], ['sclerosis', 'I-RRMS']]\n",
      "[['MS', 'DISEASE'], ['MS', 'B-RRMS']]\n",
      "[['Multiple', 'DISEASE'], ['Multiple', 'B-RRMS']]\n",
      "[['sclerosis', 'DISEASE'], ['sclerosis', 'I-RRMS']]\n",
      "[['multiple', 'DISEASE'], ['multiple', 'I-RRMS']]\n",
      "[['sclerosis', 'DISEASE'], ['sclerosis', 'I-RRMS']]\n",
      "inscope: 7\n",
      "chron_00012 annotator2_chron_00012_correct\n",
      "chron_00012.txt\n"
     ]
    },
    {
     "name": "stderr",
     "output_type": "stream",
     "text": [
      "DEBUG:urllib3.connectionpool:https://huggingface.co:443 \"HEAD /alvaroalon2/biobert_diseases_ner/resolve/main/config.json HTTP/1.1\" 200 0\n",
      "DEBUG:urllib3.connectionpool:https://huggingface.co:443 \"HEAD /alvaroalon2/biobert_diseases_ner/resolve/main/tokenizer_config.json HTTP/1.1\" 200 0\n"
     ]
    },
    {
     "name": "stdout",
     "output_type": "stream",
     "text": [
      "12 49 1080 5\n",
      "[['primary', 'DISEASE'], ['primary', 'B-PPMS']]\n",
      "[['progressive', 'DISEASE'], ['progressive', 'I-PPMS']]\n",
      "[['multiple', 'DISEASE'], ['multiple', 'I-PPMS']]\n",
      "[['sclerosis', 'DISEASE'], ['sclerosis', 'I-PPMS']]\n",
      "[['PPMS', 'DISEASE'], ['PPMS', 'B-PPMS']]\n",
      "[['Multiple', 'DISEASE'], ['Multiple', 'B-PPMS']]\n",
      "[['Sclerosis', 'DISEASE'], ['Sclerosis', 'I-PPMS']]\n",
      "[['Primary', 'DISEASE'], ['Primary', 'B-PPMS']]\n",
      "[['progressive', 'DISEASE'], ['progressive', 'I-PPMS']]\n",
      "[['multiple', 'DISEASE'], ['multiple', 'I-PPMS']]\n",
      "[['sclerosis', 'DISEASE'], ['sclerosis', 'I-PPMS']]\n",
      "[['PPMS', 'DISEASE'], ['PPMS', 'B-PPMS']]\n",
      "inscope: 12\n",
      "chron_00013 annotator2_chron_00013_correct\n",
      "chron_00013.txt\n"
     ]
    },
    {
     "name": "stderr",
     "output_type": "stream",
     "text": [
      "DEBUG:urllib3.connectionpool:https://huggingface.co:443 \"HEAD /alvaroalon2/biobert_diseases_ner/resolve/main/config.json HTTP/1.1\" 200 0\n",
      "DEBUG:urllib3.connectionpool:https://huggingface.co:443 \"HEAD /alvaroalon2/biobert_diseases_ner/resolve/main/tokenizer_config.json HTTP/1.1\" 200 0\n"
     ]
    },
    {
     "name": "stdout",
     "output_type": "stream",
     "text": [
      "0 4 40 2\n",
      "somevalue is zer0\n",
      "chron_00014 annotator2_chron_00014_correct\n",
      "chron_00014.txt\n"
     ]
    },
    {
     "name": "stderr",
     "output_type": "stream",
     "text": [
      "DEBUG:urllib3.connectionpool:https://huggingface.co:443 \"HEAD /alvaroalon2/biobert_diseases_ner/resolve/main/config.json HTTP/1.1\" 200 0\n",
      "DEBUG:urllib3.connectionpool:https://huggingface.co:443 \"HEAD /alvaroalon2/biobert_diseases_ner/resolve/main/tokenizer_config.json HTTP/1.1\" 200 0\n"
     ]
    },
    {
     "name": "stdout",
     "output_type": "stream",
     "text": [
      "0 14 388 20\n",
      "somevalue is zer0\n",
      "chron_00015 annotator2_chron_00015_correct\n",
      "chron_00015.txt\n"
     ]
    },
    {
     "name": "stderr",
     "output_type": "stream",
     "text": [
      "DEBUG:urllib3.connectionpool:https://huggingface.co:443 \"HEAD /alvaroalon2/biobert_diseases_ner/resolve/main/config.json HTTP/1.1\" 200 0\n",
      "DEBUG:urllib3.connectionpool:https://huggingface.co:443 \"HEAD /alvaroalon2/biobert_diseases_ner/resolve/main/tokenizer_config.json HTTP/1.1\" 200 0\n"
     ]
    },
    {
     "name": "stdout",
     "output_type": "stream",
     "text": [
      "7 58 886 9\n",
      "[['multiple', 'DISEASE'], ['multiple', 'I-RRMS']]\n",
      "[['sclerosis', 'DISEASE'], ['sclerosis', 'I-RRMS']]\n",
      "[['multiple', 'DISEASE'], ['multiple', 'B-RRMS']]\n",
      "[['sclerosis', 'DISEASE'], ['sclerosis', 'I-RRMS']]\n",
      "[['MS', 'DISEASE'], ['MS', 'B-RRMS']]\n",
      "[['multiple', 'DISEASE'], ['multiple', 'I-RRMS']]\n",
      "[['sclerosis', 'DISEASE'], ['sclerosis', 'I-RRMS']]\n",
      "inscope: 7\n",
      "chron_00016 annotator2_chron_00016_correct\n",
      "chron_00016.txt\n"
     ]
    },
    {
     "name": "stderr",
     "output_type": "stream",
     "text": [
      "DEBUG:urllib3.connectionpool:https://huggingface.co:443 \"HEAD /alvaroalon2/biobert_diseases_ner/resolve/main/config.json HTTP/1.1\" 200 0\n",
      "DEBUG:urllib3.connectionpool:https://huggingface.co:443 \"HEAD /alvaroalon2/biobert_diseases_ner/resolve/main/tokenizer_config.json HTTP/1.1\" 200 0\n"
     ]
    },
    {
     "name": "stdout",
     "output_type": "stream",
     "text": [
      "3 17 377 9\n",
      "[['multiple', 'DISEASE'], ['multiple', 'B-RRMS']]\n",
      "[['sclerosis', 'DISEASE'], ['sclerosis', 'I-RRMS']]\n",
      "[['RRMS', 'DISEASE'], ['RRMS', 'B-RRMS']]\n",
      "inscope: 3\n",
      "chron_00017 annotator2_chron_00017_correct\n",
      "chron_00017.txt\n"
     ]
    },
    {
     "name": "stderr",
     "output_type": "stream",
     "text": [
      "DEBUG:urllib3.connectionpool:https://huggingface.co:443 \"HEAD /alvaroalon2/biobert_diseases_ner/resolve/main/config.json HTTP/1.1\" 200 0\n",
      "DEBUG:urllib3.connectionpool:https://huggingface.co:443 \"HEAD /alvaroalon2/biobert_diseases_ner/resolve/main/tokenizer_config.json HTTP/1.1\" 200 0\n"
     ]
    },
    {
     "name": "stdout",
     "output_type": "stream",
     "text": [
      "8 52 869 9\n",
      "[['-', 'DISEASE'], ['-', 'I-RRMS']]\n",
      "[['remitting', 'DISEASE'], ['remitting', 'I-RRMS']]\n",
      "[['multiple', 'DISEASE'], ['multiple', 'I-RRMS']]\n",
      "[['sclerosis', 'DISEASE'], ['sclerosis', 'I-RRMS']]\n",
      "[['RRMS', 'DISEASE'], ['RRMS', 'B-RRMS']]\n",
      "[['Multiple', 'DISEASE'], ['Multiple', 'B-RRMS']]\n",
      "[['Sclerosis', 'DISEASE'], ['Sclerosis', 'I-RRMS']]\n",
      "[['MS', 'DISEASE'], ['MS', 'B-RRMS']]\n",
      "inscope: 8\n",
      "chron_00018 annotator2_chron_00018_correct\n",
      "chron_00018.txt\n"
     ]
    },
    {
     "name": "stderr",
     "output_type": "stream",
     "text": [
      "DEBUG:urllib3.connectionpool:https://huggingface.co:443 \"HEAD /alvaroalon2/biobert_diseases_ner/resolve/main/config.json HTTP/1.1\" 200 0\n",
      "DEBUG:urllib3.connectionpool:https://huggingface.co:443 \"HEAD /alvaroalon2/biobert_diseases_ner/resolve/main/tokenizer_config.json HTTP/1.1\" 200 0\n"
     ]
    },
    {
     "name": "stdout",
     "output_type": "stream",
     "text": [
      "7 33 656 5\n",
      "[['relapsing', 'DISEASE'], ['relapsing', 'B-RRMS']]\n",
      "[['remitting', 'DISEASE'], ['remitting', 'I-RRMS']]\n",
      "[['multiple', 'DISEASE'], ['multiple', 'I-RRMS']]\n",
      "[['multiple', 'DISEASE'], ['multiple', 'B-RRMS']]\n",
      "[['sclerosis', 'DISEASE'], ['sclerosis', 'I-RRMS']]\n",
      "[['multiple', 'DISEASE'], ['multiple', 'I-RRMS']]\n",
      "[['sclerosis', 'DISEASE'], ['sclerosis', 'I-RRMS']]\n",
      "inscope: 7\n",
      "chron_00019 annotator2_chron_00019_correct\n",
      "chron_00019.txt\n"
     ]
    },
    {
     "name": "stderr",
     "output_type": "stream",
     "text": [
      "DEBUG:urllib3.connectionpool:https://huggingface.co:443 \"HEAD /alvaroalon2/biobert_diseases_ner/resolve/main/config.json HTTP/1.1\" 200 0\n"
     ]
    },
    {
     "name": "stdout",
     "output_type": "stream",
     "text": [
      "6 15 884 10\n",
      "[['Multiple', 'DISEASE'], ['Multiple', 'B-PPMS']]\n",
      "[['Sclerosis', 'DISEASE'], ['Sclerosis', 'I-PPMS']]\n",
      "[['progressive', 'DISEASE'], ['progressive', 'I-PPMS']]\n",
      "[['multiple', 'DISEASE'], ['multiple', 'I-PPMS']]\n",
      "[['sclerosis', 'DISEASE'], ['sclerosis', 'I-PPMS']]\n",
      "[['MS', 'DISEASE'], ['MS', 'B-PPMS']]\n",
      "inscope: 6\n",
      "chron_00020 annotator2_chron_00020_correct\n",
      "chron_00020.txt\n"
     ]
    },
    {
     "name": "stderr",
     "output_type": "stream",
     "text": [
      "DEBUG:urllib3.connectionpool:https://huggingface.co:443 \"HEAD /alvaroalon2/biobert_diseases_ner/resolve/main/tokenizer_config.json HTTP/1.1\" 200 0\n",
      "DEBUG:urllib3.connectionpool:https://huggingface.co:443 \"HEAD /alvaroalon2/biobert_diseases_ner/resolve/main/config.json HTTP/1.1\" 200 0\n",
      "DEBUG:urllib3.connectionpool:https://huggingface.co:443 \"HEAD /alvaroalon2/biobert_diseases_ner/resolve/main/tokenizer_config.json HTTP/1.1\" 200 0\n"
     ]
    },
    {
     "name": "stdout",
     "output_type": "stream",
     "text": [
      "4 51 885 5\n",
      "[['multiple', 'DISEASE'], ['multiple', 'B-CIS']]\n",
      "[['sclerosis', 'DISEASE'], ['sclerosis', 'I-CIS']]\n",
      "[['multiple', 'DISEASE'], ['multiple', 'B-CIS']]\n",
      "[['sclerosis', 'DISEASE'], ['sclerosis', 'I-CIS']]\n",
      "inscope: 4\n",
      "chron_00021 annotator2_chron_00021_correct\n",
      "chron_00021.txt\n"
     ]
    },
    {
     "name": "stderr",
     "output_type": "stream",
     "text": [
      "DEBUG:urllib3.connectionpool:https://huggingface.co:443 \"HEAD /alvaroalon2/biobert_diseases_ner/resolve/main/config.json HTTP/1.1\" 200 0\n",
      "DEBUG:urllib3.connectionpool:https://huggingface.co:443 \"HEAD /alvaroalon2/biobert_diseases_ner/resolve/main/tokenizer_config.json HTTP/1.1\" 200 0\n"
     ]
    },
    {
     "name": "stdout",
     "output_type": "stream",
     "text": [
      "4 14 274 1\n",
      "[['Multiple', 'DISEASE'], ['Multiple', 'B-MS_no_subtype']]\n",
      "[['Sclerosis', 'DISEASE'], ['Sclerosis', 'I-MS_no_subtype']]\n",
      "[['multiple', 'DISEASE'], ['multiple', 'B-MS_no_subtype']]\n",
      "[['sclerosis', 'DISEASE'], ['sclerosis', 'I-MS_no_subtype']]\n",
      "inscope: 4\n",
      "chron_00022 annotator2_chron_00022_correct\n",
      "chron_00022.txt\n"
     ]
    },
    {
     "name": "stderr",
     "output_type": "stream",
     "text": [
      "DEBUG:urllib3.connectionpool:https://huggingface.co:443 \"HEAD /alvaroalon2/biobert_diseases_ner/resolve/main/config.json HTTP/1.1\" 200 0\n",
      "DEBUG:urllib3.connectionpool:https://huggingface.co:443 \"HEAD /alvaroalon2/biobert_diseases_ner/resolve/main/tokenizer_config.json HTTP/1.1\" 200 0\n"
     ]
    },
    {
     "name": "stdout",
     "output_type": "stream",
     "text": [
      "2 27 903 8\n",
      "[['multiple', 'DISEASE'], ['multiple', 'B-RRMS']]\n",
      "[['sclerosis', 'DISEASE'], ['sclerosis', 'I-RRMS']]\n",
      "inscope: 2\n",
      "chron_00023 annotator2_chron_00023_correct\n",
      "chron_00023.txt\n"
     ]
    },
    {
     "name": "stderr",
     "output_type": "stream",
     "text": [
      "DEBUG:urllib3.connectionpool:https://huggingface.co:443 \"HEAD /alvaroalon2/biobert_diseases_ner/resolve/main/config.json HTTP/1.1\" 200 0\n",
      "DEBUG:urllib3.connectionpool:https://huggingface.co:443 \"HEAD /alvaroalon2/biobert_diseases_ner/resolve/main/tokenizer_config.json HTTP/1.1\" 200 0\n"
     ]
    },
    {
     "name": "stdout",
     "output_type": "stream",
     "text": [
      "0 2 52 2\n",
      "somevalue is zer0\n",
      "chron_00024 annotator2_chron_00024_correct\n",
      "chron_00024.txt\n"
     ]
    },
    {
     "name": "stderr",
     "output_type": "stream",
     "text": [
      "DEBUG:urllib3.connectionpool:https://huggingface.co:443 \"HEAD /alvaroalon2/biobert_diseases_ner/resolve/main/config.json HTTP/1.1\" 200 0\n",
      "DEBUG:urllib3.connectionpool:https://huggingface.co:443 \"HEAD /alvaroalon2/biobert_diseases_ner/resolve/main/tokenizer_config.json HTTP/1.1\" 200 0\n"
     ]
    },
    {
     "name": "stdout",
     "output_type": "stream",
     "text": [
      "6 56 941 14\n",
      "[['multiple', 'DISEASE'], ['multiple', 'I-RRMS']]\n",
      "[['sclerosis', 'DISEASE'], ['sclerosis', 'I-RRMS']]\n",
      "[['MS', 'DISEASE'], ['MS', 'B-RRMS']]\n",
      "[['MS', 'DISEASE'], ['MS', 'B-RRMS']]\n",
      "[['Multiple', 'DISEASE'], ['Multiple', 'B-RRMS']]\n",
      "[['Sclerosis', 'DISEASE'], ['Sclerosis', 'I-RRMS']]\n",
      "inscope: 6\n",
      "chron_00025 annotator2_chron_00025_correct\n",
      "chron_00025.txt\n"
     ]
    },
    {
     "name": "stderr",
     "output_type": "stream",
     "text": [
      "DEBUG:urllib3.connectionpool:https://huggingface.co:443 \"HEAD /alvaroalon2/biobert_diseases_ner/resolve/main/config.json HTTP/1.1\" 200 0\n",
      "DEBUG:urllib3.connectionpool:https://huggingface.co:443 \"HEAD /alvaroalon2/biobert_diseases_ner/resolve/main/tokenizer_config.json HTTP/1.1\" 200 0\n"
     ]
    },
    {
     "name": "stdout",
     "output_type": "stream",
     "text": [
      "5 48 767 2\n",
      "[['multiple', 'DISEASE'], ['multiple', 'B-MS_no_subtype']]\n",
      "[['sclerosis', 'DISEASE'], ['sclerosis', 'I-MS_no_subtype']]\n",
      "[['MS', 'DISEASE'], ['MS', 'B-MS_no_subtype']]\n",
      "[['Multiple', 'DISEASE'], ['Multiple', 'B-MS_no_subtype']]\n",
      "[['sclerosis', 'DISEASE'], ['sclerosis', 'I-MS_no_subtype']]\n",
      "inscope: 5\n",
      "chron_00026 annotator2_chron_00026_correct\n",
      "chron_00026.txt\n"
     ]
    },
    {
     "name": "stderr",
     "output_type": "stream",
     "text": [
      "DEBUG:urllib3.connectionpool:https://huggingface.co:443 \"HEAD /alvaroalon2/biobert_diseases_ner/resolve/main/config.json HTTP/1.1\" 200 0\n",
      "DEBUG:urllib3.connectionpool:https://huggingface.co:443 \"HEAD /alvaroalon2/biobert_diseases_ner/resolve/main/tokenizer_config.json HTTP/1.1\" 200 0\n"
     ]
    },
    {
     "name": "stdout",
     "output_type": "stream",
     "text": [
      "2 45 1353 16\n",
      "[['fatigue', 'DISEASE'], ['fatigue', 'I-Temporal_history_of_relapse']]\n",
      "[['Allergies', 'DISEASE'], ['LLE', 'I-Temporal_history_of_relapse']]\n",
      "inscope: 2\n",
      "chron_00027 annotator2_chron_00027_correct\n",
      "chron_00027.txt\n"
     ]
    },
    {
     "name": "stderr",
     "output_type": "stream",
     "text": [
      "DEBUG:urllib3.connectionpool:https://huggingface.co:443 \"HEAD /alvaroalon2/biobert_diseases_ner/resolve/main/config.json HTTP/1.1\" 200 0\n",
      "DEBUG:urllib3.connectionpool:https://huggingface.co:443 \"HEAD /alvaroalon2/biobert_diseases_ner/resolve/main/tokenizer_config.json HTTP/1.1\" 200 0\n"
     ]
    },
    {
     "name": "stdout",
     "output_type": "stream",
     "text": [
      "2 72 1402 5\n",
      "[['MS', 'DISEASE'], ['MS', 'I-PPMS']]\n",
      "[['PPMS', 'DISEASE'], ['PPMS', 'B-PPMS']]\n",
      "inscope: 2\n",
      "chron_00028 annotator2_chron_00028_correct\n",
      "chron_00028.txt\n"
     ]
    },
    {
     "name": "stderr",
     "output_type": "stream",
     "text": [
      "DEBUG:urllib3.connectionpool:https://huggingface.co:443 \"HEAD /alvaroalon2/biobert_diseases_ner/resolve/main/config.json HTTP/1.1\" 200 0\n",
      "DEBUG:urllib3.connectionpool:https://huggingface.co:443 \"HEAD /alvaroalon2/biobert_diseases_ner/resolve/main/tokenizer_config.json HTTP/1.1\" 200 0\n"
     ]
    },
    {
     "name": "stdout",
     "output_type": "stream",
     "text": [
      "4 47 1329 23\n",
      "[['multiple', 'DISEASE'], ['multiple', 'B-SPMS']]\n",
      "[['sclerosis', 'DISEASE'], ['sclerosis', 'I-SPMS']]\n",
      "[['Multiple', 'DISEASE'], ['Multiple', 'B-SPMS']]\n",
      "[['Sclerosis', 'DISEASE'], ['Sclerosis', 'I-SPMS']]\n",
      "inscope: 4\n",
      "chron_00029 annotator2_chron_00029_correct\n",
      "chron_00029.txt\n"
     ]
    },
    {
     "name": "stderr",
     "output_type": "stream",
     "text": [
      "DEBUG:urllib3.connectionpool:https://huggingface.co:443 \"HEAD /alvaroalon2/biobert_diseases_ner/resolve/main/config.json HTTP/1.1\" 200 0\n",
      "DEBUG:urllib3.connectionpool:https://huggingface.co:443 \"HEAD /alvaroalon2/biobert_diseases_ner/resolve/main/tokenizer_config.json HTTP/1.1\" 200 0\n"
     ]
    },
    {
     "name": "stdout",
     "output_type": "stream",
     "text": [
      "6 78 1337 22\n",
      "[['multiple', 'DISEASE'], ['multiple', 'B-RRMS']]\n",
      "[['sclerosis', 'DISEASE'], ['sclerosis', 'I-RRMS']]\n",
      "[['Multiple', 'DISEASE'], ['Multiple', 'B-RRMS']]\n",
      "[['Sclerosis', 'DISEASE'], ['Sclerosis', 'I-RRMS']]\n",
      "[['MS', 'DISEASE'], ['MS', 'B-RRMS']]\n",
      "[['##RMS', 'DISEASE'], ['MS', 'B-RRMS']]\n",
      "inscope: 6\n",
      "chron_00030 annotator2_chron_00030_correct\n",
      "chron_00030.txt\n"
     ]
    },
    {
     "name": "stderr",
     "output_type": "stream",
     "text": [
      "DEBUG:urllib3.connectionpool:https://huggingface.co:443 \"HEAD /alvaroalon2/biobert_diseases_ner/resolve/main/config.json HTTP/1.1\" 200 0\n",
      "DEBUG:urllib3.connectionpool:https://huggingface.co:443 \"HEAD /alvaroalon2/biobert_diseases_ner/resolve/main/tokenizer_config.json HTTP/1.1\" 200 0\n"
     ]
    },
    {
     "name": "stdout",
     "output_type": "stream",
     "text": [
      "4 84 1375 13\n",
      "[['multiple', 'DISEASE'], ['multiple', 'B-RRMS']]\n",
      "[['sclerosis', 'DISEASE'], ['sclerosis', 'I-RRMS']]\n",
      "[['Multiple', 'DISEASE'], ['Multiple', 'B-RRMS']]\n",
      "[['Sclerosis', 'DISEASE'], ['Sclerosis', 'I-RRMS']]\n",
      "inscope: 4\n",
      "chron_00031 annotator2_chron_00031_correct\n",
      "chron_00031.txt\n"
     ]
    },
    {
     "name": "stderr",
     "output_type": "stream",
     "text": [
      "DEBUG:urllib3.connectionpool:https://huggingface.co:443 \"HEAD /alvaroalon2/biobert_diseases_ner/resolve/main/config.json HTTP/1.1\" 200 0\n",
      "DEBUG:urllib3.connectionpool:https://huggingface.co:443 \"HEAD /alvaroalon2/biobert_diseases_ner/resolve/main/tokenizer_config.json HTTP/1.1\" 200 0\n"
     ]
    },
    {
     "name": "stdout",
     "output_type": "stream",
     "text": [
      "2 90 1014 3\n",
      "[['MS', 'DISEASE'], ['MS', 'B-MS_no_subtype']]\n",
      "[['MS', 'DISEASE'], ['MS', 'B-MS_no_subtype']]\n",
      "inscope: 2\n",
      "chron_00032 annotator2_chron_00032_correct\n",
      "chron_00032.txt\n"
     ]
    },
    {
     "name": "stderr",
     "output_type": "stream",
     "text": [
      "DEBUG:urllib3.connectionpool:https://huggingface.co:443 \"HEAD /alvaroalon2/biobert_diseases_ner/resolve/main/config.json HTTP/1.1\" 200 0\n",
      "DEBUG:urllib3.connectionpool:https://huggingface.co:443 \"HEAD /alvaroalon2/biobert_diseases_ner/resolve/main/tokenizer_config.json HTTP/1.1\" 200 0\n"
     ]
    },
    {
     "name": "stdout",
     "output_type": "stream",
     "text": [
      "3 56 778 7\n",
      "[['MS', 'DISEASE'], ['MS', 'B-RRMS']]\n",
      "[['MS', 'DISEASE'], ['MS', 'B-RRMS']]\n",
      "[['MS', 'DISEASE'], ['MS', 'B-RRMS']]\n",
      "inscope: 3\n",
      "chron_00033 annotator2_chron_00033_correct\n",
      "chron_00033.txt\n"
     ]
    },
    {
     "name": "stderr",
     "output_type": "stream",
     "text": [
      "DEBUG:urllib3.connectionpool:https://huggingface.co:443 \"HEAD /alvaroalon2/biobert_diseases_ner/resolve/main/config.json HTTP/1.1\" 200 0\n",
      "DEBUG:urllib3.connectionpool:https://huggingface.co:443 \"HEAD /alvaroalon2/biobert_diseases_ner/resolve/main/tokenizer_config.json HTTP/1.1\" 200 0\n"
     ]
    },
    {
     "name": "stdout",
     "output_type": "stream",
     "text": [
      "2 36 970 1\n",
      "[['CIS', 'DISEASE'], ['CIS', 'B-CIS']]\n",
      "[['RRMS', 'DISEASE'], ['RRMS', 'B-RRMS']]\n",
      "inscope: 2\n",
      "chron_00034 annotator2_chron_00034_correct\n",
      "chron_00034.txt\n"
     ]
    },
    {
     "name": "stderr",
     "output_type": "stream",
     "text": [
      "DEBUG:urllib3.connectionpool:https://huggingface.co:443 \"HEAD /alvaroalon2/biobert_diseases_ner/resolve/main/config.json HTTP/1.1\" 200 0\n",
      "DEBUG:urllib3.connectionpool:https://huggingface.co:443 \"HEAD /alvaroalon2/biobert_diseases_ner/resolve/main/tokenizer_config.json HTTP/1.1\" 200 0\n"
     ]
    },
    {
     "name": "stdout",
     "output_type": "stream",
     "text": [
      "4 35 619 13\n",
      "[['Multiple', 'DISEASE'], ['Multiple', 'B-SPMS']]\n",
      "[['sclerosis', 'DISEASE'], ['sclerosis', 'I-SPMS']]\n",
      "[['multiple', 'DISEASE'], ['multiple', 'I-SPMS']]\n",
      "[['sclerosis', 'DISEASE'], ['sclerosis', 'I-SPMS']]\n",
      "inscope: 4\n",
      "chron_00035 annotator2_chron_00035_correct\n",
      "chron_00035.txt\n"
     ]
    },
    {
     "name": "stderr",
     "output_type": "stream",
     "text": [
      "DEBUG:urllib3.connectionpool:https://huggingface.co:443 \"HEAD /alvaroalon2/biobert_diseases_ner/resolve/main/config.json HTTP/1.1\" 200 0\n",
      "DEBUG:urllib3.connectionpool:https://huggingface.co:443 \"HEAD /alvaroalon2/biobert_diseases_ner/resolve/main/tokenizer_config.json HTTP/1.1\" 200 0\n"
     ]
    },
    {
     "name": "stdout",
     "output_type": "stream",
     "text": [
      "10 66 1245 6\n",
      "[['multiple', 'DISEASE'], ['multiple', 'B-PPMS']]\n",
      "[['sclerosis', 'DISEASE'], ['sclerosis', 'I-PPMS']]\n",
      "[['primary', 'DISEASE'], ['primary', 'B-PPMS']]\n",
      "[['progressive', 'DISEASE'], ['progressive', 'I-PPMS']]\n",
      "[['MS', 'DISEASE'], ['MS', 'I-PPMS']]\n",
      "[['PPMS', 'DISEASE'], ['PPMS', 'B-PPMS']]\n",
      "[['Multiple', 'DISEASE'], ['Multiple', 'B-PPMS']]\n",
      "[['Sclerosis', 'DISEASE'], ['Sclerosis', 'I-PPMS']]\n",
      "[['multiple', 'DISEASE'], ['multiple', 'I-PPMS']]\n",
      "[['sclerosis', 'DISEASE'], ['sclerosis', 'I-PPMS']]\n",
      "inscope: 10\n",
      "chron_00036 annotator2_chron_00036_correct\n",
      "chron_00036.txt\n"
     ]
    },
    {
     "name": "stderr",
     "output_type": "stream",
     "text": [
      "DEBUG:urllib3.connectionpool:https://huggingface.co:443 \"HEAD /alvaroalon2/biobert_diseases_ner/resolve/main/config.json HTTP/1.1\" 200 0\n",
      "DEBUG:urllib3.connectionpool:https://huggingface.co:443 \"HEAD /alvaroalon2/biobert_diseases_ner/resolve/main/tokenizer_config.json HTTP/1.1\" 200 0\n"
     ]
    },
    {
     "name": "stdout",
     "output_type": "stream",
     "text": [
      "7 58 1614 26\n",
      "[['RRMS', 'DISEASE'], ['RRMS', 'B-RRMS']]\n",
      "[['numbness', 'DISEASE'], ['numbness', 'I-Temporal_history_of_relapse']]\n",
      "[['tingling', 'DISEASE'], ['tingling', 'I-Temporal_history_of_relapse']]\n",
      "[['Multiple', 'DISEASE'], ['Multiple', 'B-RRMS']]\n",
      "[['sclerosis', 'DISEASE'], ['sclerosis', 'I-RRMS']]\n",
      "[['Multiple', 'DISEASE'], ['Multiple', 'B-RRMS']]\n",
      "[['sclerosis', 'DISEASE'], ['sclerosis', 'I-RRMS']]\n",
      "inscope: 7\n",
      "chron_00037 annotator2_chron_00037_correct\n",
      "chron_00037.txt\n"
     ]
    },
    {
     "name": "stderr",
     "output_type": "stream",
     "text": [
      "DEBUG:urllib3.connectionpool:https://huggingface.co:443 \"HEAD /alvaroalon2/biobert_diseases_ner/resolve/main/config.json HTTP/1.1\" 200 0\n",
      "DEBUG:urllib3.connectionpool:https://huggingface.co:443 \"HEAD /alvaroalon2/biobert_diseases_ner/resolve/main/tokenizer_config.json HTTP/1.1\" 200 0\n"
     ]
    },
    {
     "name": "stdout",
     "output_type": "stream",
     "text": [
      "4 47 953 13\n",
      "[['multiple', 'DISEASE'], ['multiple', 'I-RRMS']]\n",
      "[['sclerosis', 'DISEASE'], ['sclerosis', 'I-RRMS']]\n",
      "[['multiple', 'DISEASE'], ['multiple', 'I-RRMS']]\n",
      "[['sclerosis', 'DISEASE'], ['sclerosis', 'I-RRMS']]\n",
      "inscope: 4\n",
      "chron_00038 annotator2_chron_00038_correct\n",
      "chron_00038.txt\n"
     ]
    },
    {
     "name": "stderr",
     "output_type": "stream",
     "text": [
      "DEBUG:urllib3.connectionpool:https://huggingface.co:443 \"HEAD /alvaroalon2/biobert_diseases_ner/resolve/main/config.json HTTP/1.1\" 200 0\n",
      "DEBUG:urllib3.connectionpool:https://huggingface.co:443 \"HEAD /alvaroalon2/biobert_diseases_ner/resolve/main/tokenizer_config.json HTTP/1.1\" 200 0\n"
     ]
    },
    {
     "name": "stdout",
     "output_type": "stream",
     "text": [
      "7 37 1128 7\n",
      "[['-', 'DISEASE'], ['-', 'I-RRMS']]\n",
      "[['remitting', 'DISEASE'], ['remitting', 'I-RRMS']]\n",
      "[['multiple', 'DISEASE'], ['multiple', 'I-RRMS']]\n",
      "[['sclerosis', 'DISEASE'], ['sclerosis', 'I-RRMS']]\n",
      "[['RRMS', 'DISEASE'], ['RRMS', 'B-RRMS']]\n",
      "[['MS', 'DISEASE'], ['MS', 'B-RRMS']]\n",
      "[['MS', 'DISEASE'], ['MS', 'B-RRMS']]\n",
      "inscope: 7\n",
      "chron_00039 annotator2_chron_00039_correct\n",
      "chron_00039.txt\n"
     ]
    },
    {
     "name": "stderr",
     "output_type": "stream",
     "text": [
      "DEBUG:urllib3.connectionpool:https://huggingface.co:443 \"HEAD /alvaroalon2/biobert_diseases_ner/resolve/main/config.json HTTP/1.1\" 200 0\n",
      "DEBUG:urllib3.connectionpool:https://huggingface.co:443 \"HEAD /alvaroalon2/biobert_diseases_ner/resolve/main/tokenizer_config.json HTTP/1.1\" 200 0\n"
     ]
    },
    {
     "name": "stdout",
     "output_type": "stream",
     "text": [
      "4 42 1039 10\n",
      "[['multiple', 'DISEASE'], ['multiple', 'B-RRMS']]\n",
      "[['sclerosis', 'DISEASE'], ['sclerosis', 'I-RRMS']]\n",
      "[['Multiple', 'DISEASE'], ['Multiple', 'B-RRMS']]\n",
      "[['Sclerosis', 'DISEASE'], ['Sclerosis', 'I-RRMS']]\n",
      "inscope: 4\n",
      "chron_00040 annotator2_chron_00040_correct\n",
      "chron_00040.txt\n"
     ]
    },
    {
     "name": "stderr",
     "output_type": "stream",
     "text": [
      "DEBUG:urllib3.connectionpool:https://huggingface.co:443 \"HEAD /alvaroalon2/biobert_diseases_ner/resolve/main/config.json HTTP/1.1\" 200 0\n",
      "DEBUG:urllib3.connectionpool:https://huggingface.co:443 \"HEAD /alvaroalon2/biobert_diseases_ner/resolve/main/tokenizer_config.json HTTP/1.1\" 200 0\n"
     ]
    },
    {
     "name": "stdout",
     "output_type": "stream",
     "text": [
      "2 61 1451 8\n",
      "[['MS', 'DISEASE'], ['MS', 'B-RRMS']]\n",
      "[['RRMS', 'DISEASE'], ['RRMS', 'B-RRMS']]\n",
      "inscope: 2\n",
      "gastropa_00031 annotator2_gastropa_00031_correct\n",
      "gastropa_00031.txt\n"
     ]
    },
    {
     "name": "stderr",
     "output_type": "stream",
     "text": [
      "DEBUG:urllib3.connectionpool:https://huggingface.co:443 \"HEAD /alvaroalon2/biobert_diseases_ner/resolve/main/config.json HTTP/1.1\" 200 0\n",
      "DEBUG:urllib3.connectionpool:https://huggingface.co:443 \"HEAD /alvaroalon2/biobert_diseases_ner/resolve/main/tokenizer_config.json HTTP/1.1\" 200 0\n"
     ]
    },
    {
     "name": "stdout",
     "output_type": "stream",
     "text": [
      "0 45 178 1\n",
      "somevalue is zer0\n",
      "quantitative_00001 annotator2_quantitative_00001_correct\n",
      "quantitative_00001.txt\n"
     ]
    },
    {
     "name": "stderr",
     "output_type": "stream",
     "text": [
      "DEBUG:urllib3.connectionpool:https://huggingface.co:443 \"HEAD /alvaroalon2/biobert_diseases_ner/resolve/main/config.json HTTP/1.1\" 200 0\n",
      "DEBUG:urllib3.connectionpool:https://huggingface.co:443 \"HEAD /alvaroalon2/biobert_diseases_ner/resolve/main/tokenizer_config.json HTTP/1.1\" 200 0\n"
     ]
    },
    {
     "name": "stdout",
     "output_type": "stream",
     "text": [
      "4 84 1330 3\n",
      "[['MS', 'DISEASE'], ['MS', 'B-RRMS']]\n",
      "[['Multiple', 'DISEASE'], ['Multiple', 'B-RRMS']]\n",
      "[['sclerosis', 'DISEASE'], ['sclerosis', 'I-RRMS']]\n",
      "[['MS', 'DISEASE'], ['MS', 'B-RRMS']]\n",
      "inscope: 4\n",
      "quantitative_00002 annotator2_quantitative_00002_correct\n",
      "quantitative_00002.txt\n"
     ]
    },
    {
     "name": "stderr",
     "output_type": "stream",
     "text": [
      "DEBUG:urllib3.connectionpool:https://huggingface.co:443 \"HEAD /alvaroalon2/biobert_diseases_ner/resolve/main/config.json HTTP/1.1\" 200 0\n",
      "DEBUG:urllib3.connectionpool:https://huggingface.co:443 \"HEAD /alvaroalon2/biobert_diseases_ner/resolve/main/tokenizer_config.json HTTP/1.1\" 200 0\n"
     ]
    },
    {
     "name": "stdout",
     "output_type": "stream",
     "text": [
      "6 79 1323 3\n",
      "[['MS', 'DISEASE'], ['MS', 'B-RRMS']]\n",
      "[['MS', 'DISEASE'], ['MS', 'B-RRMS']]\n",
      "[['multiple', 'DISEASE'], ['multiple', 'B-RRMS']]\n",
      "[['Multiple', 'DISEASE'], ['Multiple', 'B-RRMS']]\n",
      "[['sclerosis', 'DISEASE'], ['sclerosis', 'I-RRMS']]\n",
      "[['MS', 'DISEASE'], ['MS', 'B-RRMS']]\n",
      "inscope: 6\n",
      "quantitative_00003 annotator2_quantitative_00003_correct\n",
      "quantitative_00003.txt\n"
     ]
    },
    {
     "name": "stderr",
     "output_type": "stream",
     "text": [
      "DEBUG:urllib3.connectionpool:https://huggingface.co:443 \"HEAD /alvaroalon2/biobert_diseases_ner/resolve/main/config.json HTTP/1.1\" 200 0\n",
      "DEBUG:urllib3.connectionpool:https://huggingface.co:443 \"HEAD /alvaroalon2/biobert_diseases_ner/resolve/main/tokenizer_config.json HTTP/1.1\" 200 0\n"
     ]
    },
    {
     "name": "stdout",
     "output_type": "stream",
     "text": [
      "5 18 282 3\n",
      "[['multiple', 'DISEASE'], ['multiple', 'B-MS_no_subtype']]\n",
      "[['sclerosis', 'DISEASE'], ['sclerosis', 'I-MS_no_subtype']]\n",
      "[['multiple', 'DISEASE'], ['multiple', 'B-MS_no_subtype']]\n",
      "[['sclerosis', 'DISEASE'], ['sclerosis', 'I-MS_no_subtype']]\n",
      "[['MS', 'DISEASE'], ['MS', 'B-MS_no_subtype']]\n",
      "inscope: 5\n",
      "quantitative_00004 annotator2_quantitative_00004_correct\n",
      "quantitative_00004.txt\n"
     ]
    },
    {
     "name": "stderr",
     "output_type": "stream",
     "text": [
      "DEBUG:urllib3.connectionpool:https://huggingface.co:443 \"HEAD /alvaroalon2/biobert_diseases_ner/resolve/main/config.json HTTP/1.1\" 200 0\n",
      "DEBUG:urllib3.connectionpool:https://huggingface.co:443 \"HEAD /alvaroalon2/biobert_diseases_ner/resolve/main/tokenizer_config.json HTTP/1.1\" 200 0\n"
     ]
    },
    {
     "name": "stdout",
     "output_type": "stream",
     "text": [
      "8 20 785 9\n",
      "[['multiple', 'DISEASE'], ['multiple', 'I-RRMS']]\n",
      "[['sclerosis', 'DISEASE'], ['sclerosis', 'I-RRMS']]\n",
      "[['multiple', 'DISEASE'], ['multiple', 'I-RRMS']]\n",
      "[['sclerosis', 'DISEASE'], ['sclerosis', 'I-RRMS']]\n",
      "[['multiple', 'DISEASE'], ['multiple', 'B-RRMS']]\n",
      "[['sclerosis', 'DISEASE'], ['sclerosis', 'I-RRMS']]\n",
      "[['multiple', 'DISEASE'], ['multiple', 'I-RRMS']]\n",
      "[['sclerosis', 'DISEASE'], ['sclerosis', 'I-RRMS']]\n",
      "inscope: 8\n",
      "quantitative_00006 annotator2_quantitative_00006_correct\n",
      "quantitative_00006.txt\n"
     ]
    },
    {
     "name": "stderr",
     "output_type": "stream",
     "text": [
      "DEBUG:urllib3.connectionpool:https://huggingface.co:443 \"HEAD /alvaroalon2/biobert_diseases_ner/resolve/main/config.json HTTP/1.1\" 200 0\n",
      "DEBUG:urllib3.connectionpool:https://huggingface.co:443 \"HEAD /alvaroalon2/biobert_diseases_ner/resolve/main/tokenizer_config.json HTTP/1.1\" 200 0\n"
     ]
    },
    {
     "name": "stdout",
     "output_type": "stream",
     "text": [
      "6 41 1229 17\n",
      "[['multiple', 'DISEASE'], ['multiple', 'I-RRMS']]\n",
      "[['sclerosis', 'DISEASE'], ['sclerosis', 'I-RRMS']]\n",
      "[['multiple', 'DISEASE'], ['multiple', 'B-RRMS']]\n",
      "[['sclerosis', 'DISEASE'], ['sclerosis', 'I-RRMS']]\n",
      "[['multiple', 'DISEASE'], ['multiple', 'I-RRMS']]\n",
      "[['sclerosis', 'DISEASE'], ['sclerosis', 'I-RRMS']]\n",
      "inscope: 6\n",
      "quantitative_00007 annotator2_quantitative_00007_correct\n",
      "quantitative_00007.txt\n"
     ]
    },
    {
     "name": "stderr",
     "output_type": "stream",
     "text": [
      "DEBUG:urllib3.connectionpool:https://huggingface.co:443 \"HEAD /alvaroalon2/biobert_diseases_ner/resolve/main/config.json HTTP/1.1\" 200 0\n",
      "DEBUG:urllib3.connectionpool:https://huggingface.co:443 \"HEAD /alvaroalon2/biobert_diseases_ner/resolve/main/tokenizer_config.json HTTP/1.1\" 200 0\n"
     ]
    },
    {
     "name": "stdout",
     "output_type": "stream",
     "text": [
      "1 4 162 1\n",
      "[['MS', 'DISEASE'], ['MS', 'B-RRMS']]\n",
      "inscope: 1\n",
      "quantitative_00008 annotator2_quantitative_00008_correct\n",
      "quantitative_00008.txt\n"
     ]
    },
    {
     "name": "stderr",
     "output_type": "stream",
     "text": [
      "DEBUG:urllib3.connectionpool:https://huggingface.co:443 \"HEAD /alvaroalon2/biobert_diseases_ner/resolve/main/config.json HTTP/1.1\" 200 0\n",
      "DEBUG:urllib3.connectionpool:https://huggingface.co:443 \"HEAD /alvaroalon2/biobert_diseases_ner/resolve/main/tokenizer_config.json HTTP/1.1\" 200 0\n"
     ]
    },
    {
     "name": "stdout",
     "output_type": "stream",
     "text": [
      "6 55 1368 6\n",
      "[['MS', 'DISEASE'], ['MS', 'B-RRMS']]\n",
      "[['Multiple', 'DISEASE'], ['Multiple', 'I-RRMS']]\n",
      "[['Sclerosis', 'DISEASE'], ['Sclerosis', 'I-RRMS']]\n",
      "[['Multiple', 'DISEASE'], ['Multiple', 'B-RRMS']]\n",
      "[['sclerosis', 'DISEASE'], ['sclerosis', 'I-RRMS']]\n",
      "[['sclerosis', 'DISEASE'], ['sclerosis', 'I-RRMS']]\n",
      "inscope: 6\n",
      "quantitative_00009 annotator2_quantitative_00009_correct\n",
      "quantitative_00009.txt\n"
     ]
    },
    {
     "name": "stderr",
     "output_type": "stream",
     "text": [
      "DEBUG:urllib3.connectionpool:https://huggingface.co:443 \"HEAD /alvaroalon2/biobert_diseases_ner/resolve/main/config.json HTTP/1.1\" 200 0\n",
      "DEBUG:urllib3.connectionpool:https://huggingface.co:443 \"HEAD /alvaroalon2/biobert_diseases_ner/resolve/main/tokenizer_config.json HTTP/1.1\" 200 0\n"
     ]
    },
    {
     "name": "stdout",
     "output_type": "stream",
     "text": [
      "0 4 187 3\n",
      "somevalue is zer0\n",
      "quantitative_00010 annotator2_quantitative_00010_correct\n",
      "quantitative_00010.txt\n"
     ]
    },
    {
     "name": "stderr",
     "output_type": "stream",
     "text": [
      "DEBUG:urllib3.connectionpool:https://huggingface.co:443 \"HEAD /alvaroalon2/biobert_diseases_ner/resolve/main/config.json HTTP/1.1\" 200 0\n",
      "DEBUG:urllib3.connectionpool:https://huggingface.co:443 \"HEAD /alvaroalon2/biobert_diseases_ner/resolve/main/tokenizer_config.json HTTP/1.1\" 200 0\n"
     ]
    },
    {
     "name": "stdout",
     "output_type": "stream",
     "text": [
      "2 1 180 5\n",
      "[['multiple', 'DISEASE'], ['MULTIPLE', 'I-RRMS']]\n",
      "[['sclerosis', 'DISEASE'], ['SCLEROSIS', 'I-RRMS']]\n",
      "inscope: 2\n",
      "quantitative_00011 annotator2_quantitative_00011_correct\n",
      "quantitative_00011.txt\n"
     ]
    },
    {
     "name": "stderr",
     "output_type": "stream",
     "text": [
      "DEBUG:urllib3.connectionpool:https://huggingface.co:443 \"HEAD /alvaroalon2/biobert_diseases_ner/resolve/main/config.json HTTP/1.1\" 200 0\n",
      "DEBUG:urllib3.connectionpool:https://huggingface.co:443 \"HEAD /alvaroalon2/biobert_diseases_ner/resolve/main/tokenizer_config.json HTTP/1.1\" 200 0\n"
     ]
    },
    {
     "name": "stdout",
     "output_type": "stream",
     "text": [
      "3 45 545 4\n",
      "[['PPMS', 'DISEASE'], ['PPMS', 'B-PPMS']]\n",
      "[['MS', 'DISEASE'], ['MS', 'B-PPMS']]\n",
      "[['MS', 'DISEASE'], ['MS', 'B-PPMS']]\n",
      "inscope: 3\n",
      "quantitative_00012 annotator2_quantitative_00012_correct\n",
      "quantitative_00012.txt\n"
     ]
    },
    {
     "name": "stderr",
     "output_type": "stream",
     "text": [
      "DEBUG:urllib3.connectionpool:https://huggingface.co:443 \"HEAD /alvaroalon2/biobert_diseases_ner/resolve/main/config.json HTTP/1.1\" 200 0\n",
      "DEBUG:urllib3.connectionpool:https://huggingface.co:443 \"HEAD /alvaroalon2/biobert_diseases_ner/resolve/main/tokenizer_config.json HTTP/1.1\" 200 0\n"
     ]
    },
    {
     "name": "stdout",
     "output_type": "stream",
     "text": [
      "3 22 493 2\n",
      "[['MS', 'DISEASE'], ['MS', 'B-PPMS']]\n",
      "[['MS', 'DISEASE'], ['MS', 'B-PPMS']]\n",
      "[['PPMS', 'DISEASE'], ['PPMS', 'B-PPMS']]\n",
      "inscope: 3\n",
      "quantitative_00013 annotator2_quantitative_00013_correct\n",
      "quantitative_00013.txt\n"
     ]
    },
    {
     "name": "stderr",
     "output_type": "stream",
     "text": [
      "DEBUG:urllib3.connectionpool:https://huggingface.co:443 \"HEAD /alvaroalon2/biobert_diseases_ner/resolve/main/config.json HTTP/1.1\" 200 0\n"
     ]
    },
    {
     "name": "stdout",
     "output_type": "stream",
     "text": [
      "7 54 896 13\n",
      "[['multiple', 'DISEASE'], ['multiple', 'B-SPMS']]\n",
      "[['sclerosis', 'DISEASE'], ['sclerosis', 'I-SPMS']]\n",
      "[['MS', 'DISEASE'], ['MS', 'B-SPMS']]\n",
      "[['MS', 'DISEASE'], ['MS', 'I-SPMS']]\n",
      "[['MS', 'DISEASE'], ['MS', 'B-SPMS']]\n",
      "[['Multiple', 'DISEASE'], ['Multiple', 'B-SPMS']]\n",
      "[['sclerosis', 'DISEASE'], ['sclerosis', 'I-SPMS']]\n",
      "inscope: 7\n",
      "quantitative_00014 annotator2_quantitative_00014_correct\n",
      "quantitative_00014.txt\n"
     ]
    },
    {
     "name": "stderr",
     "output_type": "stream",
     "text": [
      "DEBUG:urllib3.connectionpool:https://huggingface.co:443 \"HEAD /alvaroalon2/biobert_diseases_ner/resolve/main/tokenizer_config.json HTTP/1.1\" 200 0\n",
      "DEBUG:urllib3.connectionpool:https://huggingface.co:443 \"HEAD /alvaroalon2/biobert_diseases_ner/resolve/main/config.json HTTP/1.1\" 200 0\n",
      "DEBUG:urllib3.connectionpool:https://huggingface.co:443 \"HEAD /alvaroalon2/biobert_diseases_ner/resolve/main/tokenizer_config.json HTTP/1.1\" 200 0\n"
     ]
    },
    {
     "name": "stdout",
     "output_type": "stream",
     "text": [
      "10 117 1141 6\n",
      "[['multiple', 'DISEASE'], ['multiple', 'B-PPMS']]\n",
      "[['sclerosis', 'DISEASE'], ['sclerosis', 'I-PPMS']]\n",
      "[['multiple', 'DISEASE'], ['multiple', 'B-PPMS']]\n",
      "[['sclerosis', 'DISEASE'], ['sclerosis', 'I-PPMS']]\n",
      "[['primary', 'DISEASE'], ['primary', 'B-PPMS']]\n",
      "[['progressive', 'DISEASE'], ['progressive', 'I-PPMS']]\n",
      "[['MS', 'DISEASE'], ['MS', 'I-PPMS']]\n",
      "[['MS', 'DISEASE'], ['MS', 'I-PPMS']]\n",
      "[['multiple', 'DISEASE'], ['multiple', 'I-PPMS']]\n",
      "[['sclerosis', 'DISEASE'], ['sclerosis', 'I-PPMS']]\n",
      "inscope: 10\n",
      "quantitative_00015 annotator2_quantitative_00015_correct\n",
      "quantitative_00015.txt\n"
     ]
    },
    {
     "name": "stderr",
     "output_type": "stream",
     "text": [
      "DEBUG:urllib3.connectionpool:https://huggingface.co:443 \"HEAD /alvaroalon2/biobert_diseases_ner/resolve/main/config.json HTTP/1.1\" 200 0\n",
      "DEBUG:urllib3.connectionpool:https://huggingface.co:443 \"HEAD /alvaroalon2/biobert_diseases_ner/resolve/main/tokenizer_config.json HTTP/1.1\" 200 0\n"
     ]
    },
    {
     "name": "stdout",
     "output_type": "stream",
     "text": [
      "8 60 1177 11\n",
      "[['multiple', 'DISEASE'], ['multiple', 'B-RRMS']]\n",
      "[['sclerosis', 'DISEASE'], ['sclerosis', 'I-RRMS']]\n",
      "[['multiple', 'DISEASE'], ['multiple', 'I-RRMS']]\n",
      "[['sclerosis', 'DISEASE'], ['sclerosis', 'I-RRMS']]\n",
      "[['Multiple', 'DISEASE'], ['Multiple', 'B-RRMS']]\n",
      "[['sclerosis', 'DISEASE'], ['sclerosis', 'I-RRMS']]\n",
      "[['multiple', 'DISEASE'], ['multiple', 'I-RRMS']]\n",
      "[['sclerosis', 'DISEASE'], ['sclerosis', 'I-RRMS']]\n",
      "inscope: 8\n",
      "quantitative_00016 annotator2_quantitative_00016_correct\n",
      "quantitative_00016.txt\n"
     ]
    },
    {
     "name": "stderr",
     "output_type": "stream",
     "text": [
      "DEBUG:urllib3.connectionpool:https://huggingface.co:443 \"HEAD /alvaroalon2/biobert_diseases_ner/resolve/main/config.json HTTP/1.1\" 200 0\n",
      "DEBUG:urllib3.connectionpool:https://huggingface.co:443 \"HEAD /alvaroalon2/biobert_diseases_ner/resolve/main/tokenizer_config.json HTTP/1.1\" 200 0\n"
     ]
    },
    {
     "name": "stdout",
     "output_type": "stream",
     "text": [
      "5 105 1593 2\n",
      "[['MS', 'DISEASE'], ['MS', 'B-RRMS']]\n",
      "[['Multiple', 'DISEASE'], ['Multiple', 'B-RRMS']]\n",
      "[['sclerosis', 'DISEASE'], ['sclerosis', 'I-RRMS']]\n",
      "[['Multiple', 'DISEASE'], ['Multiple', 'B-RRMS']]\n",
      "[['sclerosis', 'DISEASE'], ['sclerosis', 'I-RRMS']]\n",
      "inscope: 5\n",
      "quantitative_00017 annotator2_quantitative_00017_correct\n",
      "quantitative_00017.txt\n"
     ]
    },
    {
     "name": "stderr",
     "output_type": "stream",
     "text": [
      "DEBUG:urllib3.connectionpool:https://huggingface.co:443 \"HEAD /alvaroalon2/biobert_diseases_ner/resolve/main/config.json HTTP/1.1\" 200 0\n",
      "DEBUG:urllib3.connectionpool:https://huggingface.co:443 \"HEAD /alvaroalon2/biobert_diseases_ner/resolve/main/tokenizer_config.json HTTP/1.1\" 200 0\n"
     ]
    },
    {
     "name": "stdout",
     "output_type": "stream",
     "text": [
      "4 88 896 2\n",
      "[['MS', 'DISEASE'], ['MS', 'B-SPMS']]\n",
      "[['Multiple', 'DISEASE'], ['Multiple', 'B-SPMS']]\n",
      "[['sclerosis', 'DISEASE'], ['sclerosis', 'I-SPMS']]\n",
      "[['SPMS', 'DISEASE'], ['SPMS', 'B-SPMS']]\n",
      "inscope: 4\n",
      "quantitative_00018 annotator2_quantitative_00018_correct\n",
      "quantitative_00018.txt\n"
     ]
    },
    {
     "name": "stderr",
     "output_type": "stream",
     "text": [
      "DEBUG:urllib3.connectionpool:https://huggingface.co:443 \"HEAD /alvaroalon2/biobert_diseases_ner/resolve/main/config.json HTTP/1.1\" 200 0\n"
     ]
    },
    {
     "name": "stdout",
     "output_type": "stream",
     "text": [
      "7 84 1578 2\n",
      "[['MS', 'DISEASE'], ['MS', 'B-RRMS']]\n",
      "[['Multiple', 'DISEASE'], ['Multiple', 'B-RRMS']]\n",
      "[['sclerosis', 'DISEASE'], ['sclerosis', 'I-RRMS']]\n",
      "[['Multiple', 'DISEASE'], ['Multiple', 'B-RRMS']]\n",
      "[['sclerosis', 'DISEASE'], ['sclerosis', 'I-RRMS']]\n",
      "[['MS', 'DISEASE'], ['MS', 'B-RRMS']]\n",
      "[['MS', 'DISEASE'], ['MS', 'B-RRMS']]\n",
      "inscope: 7\n",
      "quantitative_00019 annotator2_quantitative_00019_correct\n",
      "quantitative_00019.txt\n"
     ]
    },
    {
     "name": "stderr",
     "output_type": "stream",
     "text": [
      "DEBUG:urllib3.connectionpool:https://huggingface.co:443 \"HEAD /alvaroalon2/biobert_diseases_ner/resolve/main/tokenizer_config.json HTTP/1.1\" 200 0\n",
      "DEBUG:urllib3.connectionpool:https://huggingface.co:443 \"HEAD /alvaroalon2/biobert_diseases_ner/resolve/main/config.json HTTP/1.1\" 200 0\n",
      "DEBUG:urllib3.connectionpool:https://huggingface.co:443 \"HEAD /alvaroalon2/biobert_diseases_ner/resolve/main/tokenizer_config.json HTTP/1.1\" 200 0\n"
     ]
    },
    {
     "name": "stdout",
     "output_type": "stream",
     "text": [
      "9 32 954 7\n",
      "[['multiple', 'DISEASE'], ['multiple', 'I-RRMS']]\n",
      "[['sclerosis', 'DISEASE'], ['sclerosis', 'I-RRMS']]\n",
      "[['MS', 'DISEASE'], ['MS', 'B-RRMS']]\n",
      "[['MS', 'DISEASE'], ['MS', 'B-RRMS']]\n",
      "[['multiple', 'DISEASE'], ['multiple', 'B-RRMS']]\n",
      "[['sclerosis', 'DISEASE'], ['sclerosis', 'I-RRMS']]\n",
      "[['multiple', 'DISEASE'], ['multiple', 'I-RRMS']]\n",
      "[['sclerosis', 'DISEASE'], ['sclerosis', 'I-RRMS']]\n",
      "[['MS', 'DISEASE'], ['MS', 'B-RRMS']]\n",
      "inscope: 9\n",
      "quantitative_00020 annotator2_quantitative_00020_correct\n",
      "quantitative_00020.txt\n"
     ]
    },
    {
     "name": "stderr",
     "output_type": "stream",
     "text": [
      "DEBUG:urllib3.connectionpool:https://huggingface.co:443 \"HEAD /alvaroalon2/biobert_diseases_ner/resolve/main/config.json HTTP/1.1\" 200 0\n",
      "DEBUG:urllib3.connectionpool:https://huggingface.co:443 \"HEAD /alvaroalon2/biobert_diseases_ner/resolve/main/tokenizer_config.json HTTP/1.1\" 200 0\n"
     ]
    },
    {
     "name": "stdout",
     "output_type": "stream",
     "text": [
      "4 10 463 4\n",
      "[['MS', 'DISEASE'], ['MS', 'B-MS_no_subtype']]\n",
      "[['multiple', 'DISEASE'], ['multiple', 'B-MS_no_subtype']]\n",
      "[['sclerosis', 'DISEASE'], ['sclerosis', 'I-MS_no_subtype']]\n",
      "[['MS', 'DISEASE'], ['MS', 'B-MS_no_subtype']]\n",
      "inscope: 4\n",
      "quantitative_00021 annotator2_quantitative_00021_correct\n",
      "quantitative_00021.txt\n"
     ]
    },
    {
     "name": "stderr",
     "output_type": "stream",
     "text": [
      "DEBUG:urllib3.connectionpool:https://huggingface.co:443 \"HEAD /alvaroalon2/biobert_diseases_ner/resolve/main/config.json HTTP/1.1\" 200 0\n",
      "DEBUG:urllib3.connectionpool:https://huggingface.co:443 \"HEAD /alvaroalon2/biobert_diseases_ner/resolve/main/tokenizer_config.json HTTP/1.1\" 200 0\n"
     ]
    },
    {
     "name": "stdout",
     "output_type": "stream",
     "text": [
      "2 17 253 1\n",
      "[['MS', 'DISEASE'], ['MS', 'B-RRMS']]\n",
      "[['RRMS', 'DISEASE'], ['RRMS', 'B-RRMS']]\n",
      "inscope: 2\n",
      "quantitative_00022 annotator2_quantitative_00022_correct\n",
      "quantitative_00022.txt\n"
     ]
    },
    {
     "name": "stderr",
     "output_type": "stream",
     "text": [
      "DEBUG:urllib3.connectionpool:https://huggingface.co:443 \"HEAD /alvaroalon2/biobert_diseases_ner/resolve/main/config.json HTTP/1.1\" 200 0\n",
      "DEBUG:urllib3.connectionpool:https://huggingface.co:443 \"HEAD /alvaroalon2/biobert_diseases_ner/resolve/main/tokenizer_config.json HTTP/1.1\" 200 0\n"
     ]
    },
    {
     "name": "stdout",
     "output_type": "stream",
     "text": [
      "6 76 1477 2\n",
      "[['MS', 'DISEASE'], ['MS', 'B-RRMS']]\n",
      "[['Multiple', 'DISEASE'], ['Multiple', 'B-RRMS']]\n",
      "[['sclerosis', 'DISEASE'], ['sclerosis', 'I-RRMS']]\n",
      "[['Multiple', 'DISEASE'], ['Multiple', 'B-RRMS']]\n",
      "[['sclerosis', 'DISEASE'], ['sclerosis', 'I-RRMS']]\n",
      "[['MS', 'DISEASE'], ['MS', 'B-RRMS']]\n",
      "inscope: 6\n",
      "quantitative_00023 annotator2_quantitative_00023_correct\n",
      "quantitative_00023.txt\n"
     ]
    },
    {
     "name": "stderr",
     "output_type": "stream",
     "text": [
      "DEBUG:urllib3.connectionpool:https://huggingface.co:443 \"HEAD /alvaroalon2/biobert_diseases_ner/resolve/main/config.json HTTP/1.1\" 200 0\n"
     ]
    },
    {
     "name": "stdout",
     "output_type": "stream",
     "text": [
      "3 60 1002 6\n",
      "[['MS', 'DISEASE'], ['MS', 'B-RRMS']]\n",
      "[['MS', 'DISEASE'], ['MS', 'B-RRMS']]\n",
      "[['MS', 'DISEASE'], ['MS', 'B-RRMS']]\n",
      "inscope: 3\n",
      "quantitative_00024 annotator2_quantitative_00024_correct\n",
      "quantitative_00024.txt\n"
     ]
    },
    {
     "name": "stderr",
     "output_type": "stream",
     "text": [
      "DEBUG:urllib3.connectionpool:https://huggingface.co:443 \"HEAD /alvaroalon2/biobert_diseases_ner/resolve/main/tokenizer_config.json HTTP/1.1\" 200 0\n",
      "DEBUG:urllib3.connectionpool:https://huggingface.co:443 \"HEAD /alvaroalon2/biobert_diseases_ner/resolve/main/config.json HTTP/1.1\" 200 0\n",
      "DEBUG:urllib3.connectionpool:https://huggingface.co:443 \"HEAD /alvaroalon2/biobert_diseases_ner/resolve/main/tokenizer_config.json HTTP/1.1\" 200 0\n"
     ]
    },
    {
     "name": "stdout",
     "output_type": "stream",
     "text": [
      "9 59 1231 4\n",
      "[['multiple', 'DISEASE'], ['multiple', 'B-RRMS']]\n",
      "[['MS', 'DISEASE'], ['MS', 'B-RRMS']]\n",
      "[['multiple', 'DISEASE'], ['multiple', 'B-RRMS']]\n",
      "[['sclerosis', 'DISEASE'], ['sclerosis', 'I-RRMS']]\n",
      "[['multiple', 'DISEASE'], ['multiple', 'B-RRMS']]\n",
      "[['sclerosis', 'DISEASE'], ['sclerosis', 'I-RRMS']]\n",
      "[['multiple', 'DISEASE'], ['multiple', 'I-RRMS']]\n",
      "[['sclerosis', 'DISEASE'], ['sclerosis', 'I-RRMS']]\n",
      "[['MS', 'DISEASE'], ['MS', 'B-RRMS']]\n",
      "inscope: 9\n",
      "quantitative_00025 annotator2_quantitative_00025_correct\n",
      "quantitative_00025.txt\n"
     ]
    },
    {
     "name": "stderr",
     "output_type": "stream",
     "text": [
      "DEBUG:urllib3.connectionpool:https://huggingface.co:443 \"HEAD /alvaroalon2/biobert_diseases_ner/resolve/main/config.json HTTP/1.1\" 200 0\n",
      "DEBUG:urllib3.connectionpool:https://huggingface.co:443 \"HEAD /alvaroalon2/biobert_diseases_ner/resolve/main/tokenizer_config.json HTTP/1.1\" 200 0\n"
     ]
    },
    {
     "name": "stdout",
     "output_type": "stream",
     "text": [
      "1 77 1013 4\n",
      "[['MS', 'DISEASE'], ['MS', 'B-SPMS']]\n",
      "inscope: 1\n",
      "quantitative_00026 annotator2_quantitative_00026_correct\n",
      "quantitative_00026.txt\n"
     ]
    },
    {
     "name": "stderr",
     "output_type": "stream",
     "text": [
      "DEBUG:urllib3.connectionpool:https://huggingface.co:443 \"HEAD /alvaroalon2/biobert_diseases_ner/resolve/main/config.json HTTP/1.1\" 200 0\n",
      "DEBUG:urllib3.connectionpool:https://huggingface.co:443 \"HEAD /alvaroalon2/biobert_diseases_ner/resolve/main/tokenizer_config.json HTTP/1.1\" 200 0\n"
     ]
    },
    {
     "name": "stdout",
     "output_type": "stream",
     "text": [
      "2 4 286 4\n",
      "[['multiple', 'DISEASE'], ['MULTIPLE', 'I-RRMS']]\n",
      "[['sclerosis', 'DISEASE'], ['SCLEROSIS', 'I-RRMS']]\n",
      "inscope: 2\n",
      "quantitative_00027 annotator2_quantitative_00027_correct\n",
      "quantitative_00027.txt\n"
     ]
    },
    {
     "name": "stderr",
     "output_type": "stream",
     "text": [
      "DEBUG:urllib3.connectionpool:https://huggingface.co:443 \"HEAD /alvaroalon2/biobert_diseases_ner/resolve/main/config.json HTTP/1.1\" 200 0\n",
      "DEBUG:urllib3.connectionpool:https://huggingface.co:443 \"HEAD /alvaroalon2/biobert_diseases_ner/resolve/main/tokenizer_config.json HTTP/1.1\" 200 0\n"
     ]
    },
    {
     "name": "stdout",
     "output_type": "stream",
     "text": [
      "2 35 560 4\n",
      "[['multiple', 'DISEASE'], ['MULTIPLE', 'I-RRMS']]\n",
      "[['sclerosis', 'DISEASE'], ['SCLEROSIS', 'I-RRMS']]\n",
      "inscope: 2\n",
      "quantitative_00028 annotator2_quantitative_00028_correct\n",
      "quantitative_00028.txt\n"
     ]
    },
    {
     "name": "stderr",
     "output_type": "stream",
     "text": [
      "DEBUG:urllib3.connectionpool:https://huggingface.co:443 \"HEAD /alvaroalon2/biobert_diseases_ner/resolve/main/config.json HTTP/1.1\" 200 0\n",
      "DEBUG:urllib3.connectionpool:https://huggingface.co:443 \"HEAD /alvaroalon2/biobert_diseases_ner/resolve/main/tokenizer_config.json HTTP/1.1\" 200 0\n"
     ]
    },
    {
     "name": "stdout",
     "output_type": "stream",
     "text": [
      "2 57 795 5\n",
      "[['multiple', 'DISEASE'], ['MULTIPLE', 'I-RRMS']]\n",
      "[['sclerosis', 'DISEASE'], ['SCLEROSIS', 'I-RRMS']]\n",
      "inscope: 2\n",
      "quantitative_00029 annotator2_quantitative_00029_correct\n",
      "quantitative_00029.txt\n"
     ]
    },
    {
     "name": "stderr",
     "output_type": "stream",
     "text": [
      "DEBUG:urllib3.connectionpool:https://huggingface.co:443 \"HEAD /alvaroalon2/biobert_diseases_ner/resolve/main/config.json HTTP/1.1\" 200 0\n",
      "DEBUG:urllib3.connectionpool:https://huggingface.co:443 \"HEAD /alvaroalon2/biobert_diseases_ner/resolve/main/tokenizer_config.json HTTP/1.1\" 200 0\n"
     ]
    },
    {
     "name": "stdout",
     "output_type": "stream",
     "text": [
      "4 67 1302 3\n",
      "[['Multiple', 'DISEASE'], ['Multiple', 'B-MS_no_subtype']]\n",
      "[['sclerosis', 'DISEASE'], ['sclerosis', 'I-MS_no_subtype']]\n",
      "[['MS', 'DISEASE'], ['MS', 'B-MS_no_subtype']]\n",
      "[['MS', 'DISEASE'], ['MS', 'B-MS_no_subtype']]\n",
      "inscope: 4\n",
      "quantitative_00030 annotator2_quantitative_00030_correct\n",
      "quantitative_00030.txt\n"
     ]
    },
    {
     "name": "stderr",
     "output_type": "stream",
     "text": [
      "DEBUG:urllib3.connectionpool:https://huggingface.co:443 \"HEAD /alvaroalon2/biobert_diseases_ner/resolve/main/config.json HTTP/1.1\" 200 0\n",
      "DEBUG:urllib3.connectionpool:https://huggingface.co:443 \"HEAD /alvaroalon2/biobert_diseases_ner/resolve/main/tokenizer_config.json HTTP/1.1\" 200 0\n"
     ]
    },
    {
     "name": "stdout",
     "output_type": "stream",
     "text": [
      "2 0 227 5\n",
      "somevalue is zer0\n",
      "quantitative_00031 annotator2_quantitative_00031_correct\n",
      "quantitative_00031.txt\n"
     ]
    },
    {
     "name": "stderr",
     "output_type": "stream",
     "text": [
      "DEBUG:urllib3.connectionpool:https://huggingface.co:443 \"HEAD /alvaroalon2/biobert_diseases_ner/resolve/main/config.json HTTP/1.1\" 200 0\n",
      "DEBUG:urllib3.connectionpool:https://huggingface.co:443 \"HEAD /alvaroalon2/biobert_diseases_ner/resolve/main/tokenizer_config.json HTTP/1.1\" 200 0\n"
     ]
    },
    {
     "name": "stdout",
     "output_type": "stream",
     "text": [
      "1 6 287 5\n",
      "[['sclerosis', 'DISEASE'], ['SCLEROSIS', 'I-RRMS']]\n",
      "inscope: 1\n",
      "quantitative_00032 annotator2_quantitative_00032_correct\n",
      "quantitative_00032.txt\n"
     ]
    },
    {
     "name": "stderr",
     "output_type": "stream",
     "text": [
      "DEBUG:urllib3.connectionpool:https://huggingface.co:443 \"HEAD /alvaroalon2/biobert_diseases_ner/resolve/main/config.json HTTP/1.1\" 200 0\n",
      "DEBUG:urllib3.connectionpool:https://huggingface.co:443 \"HEAD /alvaroalon2/biobert_diseases_ner/resolve/main/tokenizer_config.json HTTP/1.1\" 200 0\n"
     ]
    },
    {
     "name": "stdout",
     "output_type": "stream",
     "text": [
      "5 24 383 7\n",
      "[['MS', 'DISEASE'], ['MS', 'B-RRMS']]\n",
      "[['MS', 'DISEASE'], ['MS', 'B-RRMS']]\n",
      "[['MS', 'DISEASE'], ['MS', 'B-RRMS']]\n",
      "[['MS', 'DISEASE'], ['MS', 'I-RRMS']]\n",
      "[['MS', 'DISEASE'], ['MS', 'B-RRMS']]\n",
      "inscope: 5\n",
      "quantitative_00033 annotator2_quantitative_00033_correct\n",
      "quantitative_00033.txt\n"
     ]
    },
    {
     "name": "stderr",
     "output_type": "stream",
     "text": [
      "DEBUG:urllib3.connectionpool:https://huggingface.co:443 \"HEAD /alvaroalon2/biobert_diseases_ner/resolve/main/config.json HTTP/1.1\" 200 0\n",
      "DEBUG:urllib3.connectionpool:https://huggingface.co:443 \"HEAD /alvaroalon2/biobert_diseases_ner/resolve/main/tokenizer_config.json HTTP/1.1\" 200 0\n"
     ]
    },
    {
     "name": "stdout",
     "output_type": "stream",
     "text": [
      "6 97 1276 3\n",
      "[['sclerosis', 'DISEASE'], ['sclerosis', 'I-RRMS']]\n",
      "[['Multiple', 'DISEASE'], ['Multiple', 'B-RRMS']]\n",
      "[['sclerosis', 'DISEASE'], ['sclerosis', 'I-RRMS']]\n",
      "[['multiple', 'DISEASE'], ['multiple', 'B-RRMS']]\n",
      "[['sclerosis', 'DISEASE'], ['sclerosis', 'I-RRMS']]\n",
      "[['MS', 'DISEASE'], ['MS', 'B-RRMS']]\n",
      "inscope: 6\n",
      "quantitative_00034 annotator2_quantitative_00034_correct\n",
      "quantitative_00034.txt\n"
     ]
    },
    {
     "name": "stderr",
     "output_type": "stream",
     "text": [
      "DEBUG:urllib3.connectionpool:https://huggingface.co:443 \"HEAD /alvaroalon2/biobert_diseases_ner/resolve/main/config.json HTTP/1.1\" 200 0\n",
      "DEBUG:urllib3.connectionpool:https://huggingface.co:443 \"HEAD /alvaroalon2/biobert_diseases_ner/resolve/main/tokenizer_config.json HTTP/1.1\" 200 0\n"
     ]
    },
    {
     "name": "stdout",
     "output_type": "stream",
     "text": [
      "10 98 1453 6\n",
      "[['MS', 'DISEASE'], ['MS', 'I-PPMS']]\n",
      "[['MS', 'DISEASE'], ['MS', 'B-PPMS']]\n",
      "[['MS', 'DISEASE'], ['MS', 'B-PPMS']]\n",
      "[['MS', 'DISEASE'], ['MS', 'B-PPMS']]\n",
      "[['multiple', 'DISEASE'], ['multiple', 'B-PPMS']]\n",
      "[['sclerosis', 'DISEASE'], ['sclerosis', 'I-PPMS']]\n",
      "[['primary', 'DISEASE'], ['primary', 'B-PPMS']]\n",
      "[['progressive', 'DISEASE'], ['progressive', 'I-PPMS']]\n",
      "[['MS', 'DISEASE'], ['MS', 'I-PPMS']]\n",
      "[['MS', 'DISEASE'], ['MS', 'B-PPMS']]\n",
      "inscope: 10\n",
      "quantitative_00036 annotator2_quantitative_00036_correct\n",
      "quantitative_00036.txt\n"
     ]
    },
    {
     "name": "stderr",
     "output_type": "stream",
     "text": [
      "DEBUG:urllib3.connectionpool:https://huggingface.co:443 \"HEAD /alvaroalon2/biobert_diseases_ner/resolve/main/config.json HTTP/1.1\" 200 0\n",
      "DEBUG:urllib3.connectionpool:https://huggingface.co:443 \"HEAD /alvaroalon2/biobert_diseases_ner/resolve/main/tokenizer_config.json HTTP/1.1\" 200 0\n"
     ]
    },
    {
     "name": "stdout",
     "output_type": "stream",
     "text": [
      "2 28 547 4\n",
      "[['multiple', 'DISEASE'], ['MULTIPLE', 'I-RRMS']]\n",
      "[['sclerosis', 'DISEASE'], ['SCLEROSIS', 'I-RRMS']]\n",
      "inscope: 2\n",
      "quantitative_00037 annotator2_quantitative_00037_correct\n",
      "quantitative_00037.txt\n"
     ]
    },
    {
     "name": "stderr",
     "output_type": "stream",
     "text": [
      "DEBUG:urllib3.connectionpool:https://huggingface.co:443 \"HEAD /alvaroalon2/biobert_diseases_ner/resolve/main/config.json HTTP/1.1\" 200 0\n",
      "DEBUG:urllib3.connectionpool:https://huggingface.co:443 \"HEAD /alvaroalon2/biobert_diseases_ner/resolve/main/tokenizer_config.json HTTP/1.1\" 200 0\n"
     ]
    },
    {
     "name": "stdout",
     "output_type": "stream",
     "text": [
      "7 25 689 2\n",
      "[['MS', 'DISEASE'], ['MS', 'B-RRMS']]\n",
      "[['MS', 'DISEASE'], ['MS', 'B-RRMS']]\n",
      "[['MS', 'DISEASE'], ['MS', 'B-RRMS']]\n",
      "[['MS', 'DISEASE'], ['MS', 'B-RRMS']]\n",
      "[['Multiple', 'DISEASE'], ['Multiple', 'B-RRMS']]\n",
      "[['MS', 'DISEASE'], ['MS', 'B-RRMS']]\n",
      "[['RRMS', 'DISEASE'], ['RRMS', 'B-RRMS']]\n",
      "inscope: 7\n",
      "quantitative_00038 annotator2_quantitative_00038_correct\n",
      "quantitative_00038.txt\n"
     ]
    },
    {
     "name": "stderr",
     "output_type": "stream",
     "text": [
      "DEBUG:urllib3.connectionpool:https://huggingface.co:443 \"HEAD /alvaroalon2/biobert_diseases_ner/resolve/main/config.json HTTP/1.1\" 200 0\n",
      "DEBUG:urllib3.connectionpool:https://huggingface.co:443 \"HEAD /alvaroalon2/biobert_diseases_ner/resolve/main/tokenizer_config.json HTTP/1.1\" 200 0\n"
     ]
    },
    {
     "name": "stdout",
     "output_type": "stream",
     "text": [
      "6 39 1047 14\n",
      "[['multiple', 'DISEASE'], ['multiple', 'I-RRMS']]\n",
      "[['sclerosis', 'DISEASE'], ['sclerosis', 'I-RRMS']]\n",
      "[['multiple', 'DISEASE'], ['multiple', 'I-RRMS']]\n",
      "[['sclerosis', 'DISEASE'], ['sclerosis', 'I-RRMS']]\n",
      "[['multiple', 'DISEASE'], ['multiple', 'I-RRMS']]\n",
      "[['sclerosis', 'DISEASE'], ['sclerosis', 'I-RRMS']]\n",
      "inscope: 6\n",
      "quantitative_00039 annotator2_quantitative_00039_correct\n",
      "quantitative_00039.txt\n"
     ]
    },
    {
     "name": "stderr",
     "output_type": "stream",
     "text": [
      "DEBUG:urllib3.connectionpool:https://huggingface.co:443 \"HEAD /alvaroalon2/biobert_diseases_ner/resolve/main/config.json HTTP/1.1\" 200 0\n",
      "DEBUG:urllib3.connectionpool:https://huggingface.co:443 \"HEAD /alvaroalon2/biobert_diseases_ner/resolve/main/tokenizer_config.json HTTP/1.1\" 200 0\n"
     ]
    },
    {
     "name": "stdout",
     "output_type": "stream",
     "text": [
      "2 6 326 5\n",
      "[['multiple', 'DISEASE'], ['MULTIPLE', 'I-RRMS']]\n",
      "[['sclerosis', 'DISEASE'], ['SCLEROSIS', 'I-RRMS']]\n",
      "inscope: 2\n",
      "quantitative_00040 annotator2_quantitative_00040_correct\n",
      "quantitative_00040.txt\n"
     ]
    },
    {
     "name": "stderr",
     "output_type": "stream",
     "text": [
      "DEBUG:urllib3.connectionpool:https://huggingface.co:443 \"HEAD /alvaroalon2/biobert_diseases_ner/resolve/main/config.json HTTP/1.1\" 200 0\n",
      "DEBUG:urllib3.connectionpool:https://huggingface.co:443 \"HEAD /alvaroalon2/biobert_diseases_ner/resolve/main/tokenizer_config.json HTTP/1.1\" 200 0\n"
     ]
    },
    {
     "name": "stdout",
     "output_type": "stream",
     "text": [
      "0 19 209 2\n",
      "somevalue is zer0\n",
      "quantitative_00041 annotator2_quantitative_00041_correct\n",
      "quantitative_00041.txt\n"
     ]
    },
    {
     "name": "stderr",
     "output_type": "stream",
     "text": [
      "DEBUG:urllib3.connectionpool:https://huggingface.co:443 \"HEAD /alvaroalon2/biobert_diseases_ner/resolve/main/config.json HTTP/1.1\" 200 0\n",
      "DEBUG:urllib3.connectionpool:https://huggingface.co:443 \"HEAD /alvaroalon2/biobert_diseases_ner/resolve/main/tokenizer_config.json HTTP/1.1\" 200 0\n"
     ]
    },
    {
     "name": "stdout",
     "output_type": "stream",
     "text": [
      "2 133 1422 7\n",
      "[['multiple', 'DISEASE'], ['multiple', 'B-SPMS']]\n",
      "[['sclerosis', 'DISEASE'], ['sclerosis', 'I-SPMS']]\n",
      "inscope: 2\n",
      "quantitative_00042 annotator2_quantitative_00042_correct\n",
      "quantitative_00042.txt\n"
     ]
    },
    {
     "name": "stderr",
     "output_type": "stream",
     "text": [
      "DEBUG:urllib3.connectionpool:https://huggingface.co:443 \"HEAD /alvaroalon2/biobert_diseases_ner/resolve/main/config.json HTTP/1.1\" 200 0\n",
      "DEBUG:urllib3.connectionpool:https://huggingface.co:443 \"HEAD /alvaroalon2/biobert_diseases_ner/resolve/main/tokenizer_config.json HTTP/1.1\" 200 0\n"
     ]
    },
    {
     "name": "stdout",
     "output_type": "stream",
     "text": [
      "0 5 338 6\n",
      "somevalue is zer0\n",
      "quantitative_00043 annotator2_quantitative_00043_correct\n",
      "quantitative_00043.txt\n"
     ]
    },
    {
     "name": "stderr",
     "output_type": "stream",
     "text": [
      "DEBUG:urllib3.connectionpool:https://huggingface.co:443 \"HEAD /alvaroalon2/biobert_diseases_ner/resolve/main/config.json HTTP/1.1\" 200 0\n",
      "DEBUG:urllib3.connectionpool:https://huggingface.co:443 \"HEAD /alvaroalon2/biobert_diseases_ner/resolve/main/tokenizer_config.json HTTP/1.1\" 200 0\n"
     ]
    },
    {
     "name": "stdout",
     "output_type": "stream",
     "text": [
      "0 8 134 1\n",
      "somevalue is zer0\n",
      "quantitative_00044 annotator2_quantitative_00044_correct\n",
      "quantitative_00044.txt\n"
     ]
    },
    {
     "name": "stderr",
     "output_type": "stream",
     "text": [
      "DEBUG:urllib3.connectionpool:https://huggingface.co:443 \"HEAD /alvaroalon2/biobert_diseases_ner/resolve/main/config.json HTTP/1.1\" 200 0\n",
      "DEBUG:urllib3.connectionpool:https://huggingface.co:443 \"HEAD /alvaroalon2/biobert_diseases_ner/resolve/main/tokenizer_config.json HTTP/1.1\" 200 0\n"
     ]
    },
    {
     "name": "stdout",
     "output_type": "stream",
     "text": [
      "1 15 270 6\n",
      "[['multiple', 'DISEASE'], ['MULTIPLE', 'I-RRMS']]\n",
      "inscope: 1\n",
      "quantitative_00045 annotator2_quantitative_00045_correct\n",
      "quantitative_00045.txt\n"
     ]
    },
    {
     "name": "stderr",
     "output_type": "stream",
     "text": [
      "DEBUG:urllib3.connectionpool:https://huggingface.co:443 \"HEAD /alvaroalon2/biobert_diseases_ner/resolve/main/config.json HTTP/1.1\" 200 0\n",
      "DEBUG:urllib3.connectionpool:https://huggingface.co:443 \"HEAD /alvaroalon2/biobert_diseases_ner/resolve/main/tokenizer_config.json HTTP/1.1\" 200 0\n"
     ]
    },
    {
     "name": "stdout",
     "output_type": "stream",
     "text": [
      "2 16 301 8\n",
      "[['Multiple', 'DISEASE'], ['Multiple', 'I-MS_no_subtype']]\n",
      "[['Sclerosis', 'DISEASE'], ['Sclerosis', 'I-MS_no_subtype']]\n",
      "inscope: 2\n",
      "quantitative_00046 annotator2_quantitative_00046_correct\n",
      "quantitative_00046.txt\n"
     ]
    },
    {
     "name": "stderr",
     "output_type": "stream",
     "text": [
      "DEBUG:urllib3.connectionpool:https://huggingface.co:443 \"HEAD /alvaroalon2/biobert_diseases_ner/resolve/main/config.json HTTP/1.1\" 200 0\n",
      "DEBUG:urllib3.connectionpool:https://huggingface.co:443 \"HEAD /alvaroalon2/biobert_diseases_ner/resolve/main/tokenizer_config.json HTTP/1.1\" 200 0\n"
     ]
    },
    {
     "name": "stdout",
     "output_type": "stream",
     "text": [
      "0 35 239 4\n",
      "somevalue is zer0\n",
      "quantitative_00047 annotator2_quantitative_00047_correct\n",
      "quantitative_00047.txt\n"
     ]
    },
    {
     "name": "stderr",
     "output_type": "stream",
     "text": [
      "DEBUG:urllib3.connectionpool:https://huggingface.co:443 \"HEAD /alvaroalon2/biobert_diseases_ner/resolve/main/config.json HTTP/1.1\" 200 0\n",
      "DEBUG:urllib3.connectionpool:https://huggingface.co:443 \"HEAD /alvaroalon2/biobert_diseases_ner/resolve/main/tokenizer_config.json HTTP/1.1\" 200 0\n"
     ]
    },
    {
     "name": "stdout",
     "output_type": "stream",
     "text": [
      "2 22 663 6\n",
      "[['multiple', 'DISEASE'], ['MULTIPLE', 'I-RRMS']]\n",
      "[['sclerosis', 'DISEASE'], ['SCLEROSIS', 'I-RRMS']]\n",
      "inscope: 2\n",
      "quantitative_00048 annotator2_quantitative_00048_correct\n",
      "quantitative_00048.txt\n"
     ]
    },
    {
     "name": "stderr",
     "output_type": "stream",
     "text": [
      "DEBUG:urllib3.connectionpool:https://huggingface.co:443 \"HEAD /alvaroalon2/biobert_diseases_ner/resolve/main/config.json HTTP/1.1\" 200 0\n",
      "DEBUG:urllib3.connectionpool:https://huggingface.co:443 \"HEAD /alvaroalon2/biobert_diseases_ner/resolve/main/tokenizer_config.json HTTP/1.1\" 200 0\n"
     ]
    },
    {
     "name": "stdout",
     "output_type": "stream",
     "text": [
      "0 15 231 1\n",
      "somevalue is zer0\n",
      "quantitative_00049 annotator2_quantitative_00049_correct\n",
      "quantitative_00049.txt\n"
     ]
    },
    {
     "name": "stderr",
     "output_type": "stream",
     "text": [
      "DEBUG:urllib3.connectionpool:https://huggingface.co:443 \"HEAD /alvaroalon2/biobert_diseases_ner/resolve/main/config.json HTTP/1.1\" 200 0\n",
      "DEBUG:urllib3.connectionpool:https://huggingface.co:443 \"HEAD /alvaroalon2/biobert_diseases_ner/resolve/main/tokenizer_config.json HTTP/1.1\" 200 0\n"
     ]
    },
    {
     "name": "stdout",
     "output_type": "stream",
     "text": [
      "1 87 665 1\n",
      "[['MS', 'DISEASE'], ['MS', 'B-RRMS']]\n",
      "inscope: 1\n",
      "quantitative_00050 annotator2_quantitative_00050_correct\n",
      "quantitative_00050.txt\n"
     ]
    },
    {
     "name": "stderr",
     "output_type": "stream",
     "text": [
      "DEBUG:urllib3.connectionpool:https://huggingface.co:443 \"HEAD /alvaroalon2/biobert_diseases_ner/resolve/main/config.json HTTP/1.1\" 200 0\n",
      "DEBUG:urllib3.connectionpool:https://huggingface.co:443 \"HEAD /alvaroalon2/biobert_diseases_ner/resolve/main/tokenizer_config.json HTTP/1.1\" 200 0\n"
     ]
    },
    {
     "name": "stdout",
     "output_type": "stream",
     "text": [
      "0 13 375 9\n",
      "somevalue is zer0\n",
      "quantitative_00051 annotator2_quantitative_00051_correct\n",
      "quantitative_00051.txt\n"
     ]
    },
    {
     "name": "stderr",
     "output_type": "stream",
     "text": [
      "DEBUG:urllib3.connectionpool:https://huggingface.co:443 \"HEAD /alvaroalon2/biobert_diseases_ner/resolve/main/config.json HTTP/1.1\" 200 0\n",
      "DEBUG:urllib3.connectionpool:https://huggingface.co:443 \"HEAD /alvaroalon2/biobert_diseases_ner/resolve/main/tokenizer_config.json HTTP/1.1\" 200 0\n"
     ]
    },
    {
     "name": "stdout",
     "output_type": "stream",
     "text": [
      "2 0 256 4\n",
      "somevalue is zer0\n",
      "quantitative_00052 annotator2_quantitative_00052_correct\n",
      "quantitative_00052.txt\n"
     ]
    },
    {
     "name": "stderr",
     "output_type": "stream",
     "text": [
      "DEBUG:urllib3.connectionpool:https://huggingface.co:443 \"HEAD /alvaroalon2/biobert_diseases_ner/resolve/main/config.json HTTP/1.1\" 200 0\n",
      "DEBUG:urllib3.connectionpool:https://huggingface.co:443 \"HEAD /alvaroalon2/biobert_diseases_ner/resolve/main/tokenizer_config.json HTTP/1.1\" 200 0\n"
     ]
    },
    {
     "name": "stdout",
     "output_type": "stream",
     "text": [
      "5 96 1533 26\n",
      "[['MS', 'DISEASE'], ['MS', 'B-RRMS']]\n",
      "[['sclerosis', 'DISEASE'], ['sclerosis', 'I-RRMS']]\n",
      "[['RRMS', 'DISEASE'], ['RRMS', 'B-RRMS']]\n",
      "[['MS', 'DISEASE'], ['MS', 'B-RRMS']]\n",
      "[['MS', 'DISEASE'], ['MS', 'B-RRMS']]\n",
      "inscope: 5\n",
      "quantitative_00053 annotator2_quantitative_00053_correct\n",
      "quantitative_00053.txt\n"
     ]
    },
    {
     "name": "stderr",
     "output_type": "stream",
     "text": [
      "DEBUG:urllib3.connectionpool:https://huggingface.co:443 \"HEAD /alvaroalon2/biobert_diseases_ner/resolve/main/config.json HTTP/1.1\" 200 0\n",
      "DEBUG:urllib3.connectionpool:https://huggingface.co:443 \"HEAD /alvaroalon2/biobert_diseases_ner/resolve/main/tokenizer_config.json HTTP/1.1\" 200 0\n"
     ]
    },
    {
     "name": "stdout",
     "output_type": "stream",
     "text": [
      "1 6 252 1\n",
      "[['MS', 'DISEASE'], ['MS', 'B-RRMS']]\n",
      "inscope: 1\n",
      "quantitative_00054 annotator2_quantitative_00054_correct\n",
      "quantitative_00054.txt\n"
     ]
    },
    {
     "name": "stderr",
     "output_type": "stream",
     "text": [
      "DEBUG:urllib3.connectionpool:https://huggingface.co:443 \"HEAD /alvaroalon2/biobert_diseases_ner/resolve/main/config.json HTTP/1.1\" 200 0\n",
      "DEBUG:urllib3.connectionpool:https://huggingface.co:443 \"HEAD /alvaroalon2/biobert_diseases_ner/resolve/main/tokenizer_config.json HTTP/1.1\" 200 0\n"
     ]
    },
    {
     "name": "stdout",
     "output_type": "stream",
     "text": [
      "9 71 1550 3\n",
      "[['MS', 'DISEASE'], ['MS', 'B-RRMS']]\n",
      "[['multiple', 'DISEASE'], ['multiple', 'B-RRMS']]\n",
      "[['sclerosis', 'DISEASE'], ['sclerosis', 'I-RRMS']]\n",
      "[['Multiple', 'DISEASE'], ['Multiple', 'B-RRMS']]\n",
      "[['sclerosis', 'DISEASE'], ['sclerosis', 'I-RRMS']]\n",
      "[['Multiple', 'DISEASE'], ['Multiple', 'B-RRMS']]\n",
      "[['sclerosis', 'DISEASE'], ['sclerosis', 'I-RRMS']]\n",
      "[['MS', 'DISEASE'], ['MS', 'B-RRMS']]\n",
      "[['MS', 'DISEASE'], ['MS', 'B-RRMS']]\n",
      "inscope: 9\n",
      "quantitative_00055 annotator2_quantitative_00055_correct\n",
      "quantitative_00055.txt\n"
     ]
    },
    {
     "name": "stderr",
     "output_type": "stream",
     "text": [
      "DEBUG:urllib3.connectionpool:https://huggingface.co:443 \"HEAD /alvaroalon2/biobert_diseases_ner/resolve/main/config.json HTTP/1.1\" 200 0\n",
      "DEBUG:urllib3.connectionpool:https://huggingface.co:443 \"HEAD /alvaroalon2/biobert_diseases_ner/resolve/main/tokenizer_config.json HTTP/1.1\" 200 0\n"
     ]
    },
    {
     "name": "stdout",
     "output_type": "stream",
     "text": [
      "1 80 1119 6\n",
      "[['RRMS', 'DISEASE'], ['RRMS', 'B-RRMS']]\n",
      "inscope: 1\n",
      "quantitative_00056 annotator2_quantitative_00056_correct\n",
      "quantitative_00056.txt\n"
     ]
    },
    {
     "name": "stderr",
     "output_type": "stream",
     "text": [
      "DEBUG:urllib3.connectionpool:https://huggingface.co:443 \"HEAD /alvaroalon2/biobert_diseases_ner/resolve/main/config.json HTTP/1.1\" 200 0\n",
      "DEBUG:urllib3.connectionpool:https://huggingface.co:443 \"HEAD /alvaroalon2/biobert_diseases_ner/resolve/main/tokenizer_config.json HTTP/1.1\" 200 0\n"
     ]
    },
    {
     "name": "stdout",
     "output_type": "stream",
     "text": [
      "0 23 478 8\n",
      "somevalue is zer0\n",
      "quantitative_00057 annotator2_quantitative_00057_correct\n",
      "quantitative_00057.txt\n"
     ]
    },
    {
     "name": "stderr",
     "output_type": "stream",
     "text": [
      "DEBUG:urllib3.connectionpool:https://huggingface.co:443 \"HEAD /alvaroalon2/biobert_diseases_ner/resolve/main/config.json HTTP/1.1\" 200 0\n"
     ]
    },
    {
     "name": "stdout",
     "output_type": "stream",
     "text": [
      "0 11 181 1\n",
      "somevalue is zer0\n",
      "quantitative_00058 annotator2_quantitative_00058_correct\n",
      "quantitative_00058.txt\n"
     ]
    },
    {
     "name": "stderr",
     "output_type": "stream",
     "text": [
      "DEBUG:urllib3.connectionpool:https://huggingface.co:443 \"HEAD /alvaroalon2/biobert_diseases_ner/resolve/main/tokenizer_config.json HTTP/1.1\" 200 0\n",
      "DEBUG:urllib3.connectionpool:https://huggingface.co:443 \"HEAD /alvaroalon2/biobert_diseases_ner/resolve/main/config.json HTTP/1.1\" 200 0\n",
      "DEBUG:urllib3.connectionpool:https://huggingface.co:443 \"HEAD /alvaroalon2/biobert_diseases_ner/resolve/main/tokenizer_config.json HTTP/1.1\" 200 0\n"
     ]
    },
    {
     "name": "stdout",
     "output_type": "stream",
     "text": [
      "1 21 196 1\n",
      "[['MS', 'DISEASE'], ['MS', 'B-RRMS']]\n",
      "inscope: 1\n",
      "quantitative_00059 annotator2_quantitative_00059_correct\n",
      "quantitative_00059.txt\n"
     ]
    },
    {
     "name": "stderr",
     "output_type": "stream",
     "text": [
      "DEBUG:urllib3.connectionpool:https://huggingface.co:443 \"HEAD /alvaroalon2/biobert_diseases_ner/resolve/main/config.json HTTP/1.1\" 200 0\n",
      "DEBUG:urllib3.connectionpool:https://huggingface.co:443 \"HEAD /alvaroalon2/biobert_diseases_ner/resolve/main/tokenizer_config.json HTTP/1.1\" 200 0\n"
     ]
    },
    {
     "name": "stdout",
     "output_type": "stream",
     "text": [
      "2 21 638 6\n",
      "[['multiple', 'DISEASE'], ['MULTIPLE', 'I-RRMS']]\n",
      "[['sclerosis', 'DISEASE'], ['SCLEROSIS', 'I-RRMS']]\n",
      "inscope: 2\n",
      "quantitative_00060 annotator2_quantitative_00060_correct\n",
      "quantitative_00060.txt\n"
     ]
    },
    {
     "name": "stderr",
     "output_type": "stream",
     "text": [
      "DEBUG:urllib3.connectionpool:https://huggingface.co:443 \"HEAD /alvaroalon2/biobert_diseases_ner/resolve/main/config.json HTTP/1.1\" 200 0\n",
      "DEBUG:urllib3.connectionpool:https://huggingface.co:443 \"HEAD /alvaroalon2/biobert_diseases_ner/resolve/main/tokenizer_config.json HTTP/1.1\" 200 0\n"
     ]
    },
    {
     "name": "stdout",
     "output_type": "stream",
     "text": [
      "6 43 1030 24\n",
      "[['multiple', 'DISEASE'], ['multiple', 'B-CIS']]\n",
      "[['sclerosis', 'DISEASE'], ['sclerosis', 'I-CIS']]\n",
      "[['multiple', 'DISEASE'], ['multiple', 'B-CIS']]\n",
      "[['sclerosis', 'DISEASE'], ['sclerosis', 'I-CIS']]\n",
      "[['multiple', 'DISEASE'], ['multiple', 'I-CIS']]\n",
      "[['sclerosis', 'DISEASE'], ['sclerosis', 'I-CIS']]\n",
      "inscope: 6\n",
      "quantitative_00061 annotator2_quantitative_00061_correct\n",
      "quantitative_00061.txt\n"
     ]
    },
    {
     "name": "stderr",
     "output_type": "stream",
     "text": [
      "DEBUG:urllib3.connectionpool:https://huggingface.co:443 \"HEAD /alvaroalon2/biobert_diseases_ner/resolve/main/config.json HTTP/1.1\" 200 0\n",
      "DEBUG:urllib3.connectionpool:https://huggingface.co:443 \"HEAD /alvaroalon2/biobert_diseases_ner/resolve/main/tokenizer_config.json HTTP/1.1\" 200 0\n"
     ]
    },
    {
     "name": "stdout",
     "output_type": "stream",
     "text": [
      "2 59 958 2\n",
      "[['Multiple', 'DISEASE'], ['Multiple', 'B-RRMS']]\n",
      "[['sclerosis', 'DISEASE'], ['sclerosis', 'I-RRMS']]\n",
      "inscope: 2\n",
      "quantitative_00062 annotator2_quantitative_00062_correct\n",
      "quantitative_00062.txt\n"
     ]
    },
    {
     "name": "stderr",
     "output_type": "stream",
     "text": [
      "DEBUG:urllib3.connectionpool:https://huggingface.co:443 \"HEAD /alvaroalon2/biobert_diseases_ner/resolve/main/config.json HTTP/1.1\" 200 0\n",
      "DEBUG:urllib3.connectionpool:https://huggingface.co:443 \"HEAD /alvaroalon2/biobert_diseases_ner/resolve/main/tokenizer_config.json HTTP/1.1\" 200 0\n"
     ]
    },
    {
     "name": "stdout",
     "output_type": "stream",
     "text": [
      "6 31 802 7\n",
      "[['multiple', 'DISEASE'], ['multiple', 'I-RRMS']]\n",
      "[['sclerosis', 'DISEASE'], ['sclerosis', 'I-RRMS']]\n",
      "[['multiple', 'DISEASE'], ['multiple', 'B-RRMS']]\n",
      "[['sclerosis', 'DISEASE'], ['sclerosis', 'I-RRMS']]\n",
      "[['multiple', 'DISEASE'], ['multiple', 'I-RRMS']]\n",
      "[['sclerosis', 'DISEASE'], ['sclerosis', 'I-RRMS']]\n",
      "inscope: 6\n",
      "quantitative_00063 annotator2_quantitative_00063_correct\n",
      "quantitative_00063.txt\n"
     ]
    },
    {
     "name": "stderr",
     "output_type": "stream",
     "text": [
      "DEBUG:urllib3.connectionpool:https://huggingface.co:443 \"HEAD /alvaroalon2/biobert_diseases_ner/resolve/main/config.json HTTP/1.1\" 200 0\n",
      "DEBUG:urllib3.connectionpool:https://huggingface.co:443 \"HEAD /alvaroalon2/biobert_diseases_ner/resolve/main/tokenizer_config.json HTTP/1.1\" 200 0\n"
     ]
    },
    {
     "name": "stdout",
     "output_type": "stream",
     "text": [
      "3 58 1106 4\n",
      "[['RRMS', 'DISEASE'], ['RRMS', 'B-RRMS']]\n",
      "[['MS', 'DISEASE'], ['MS', 'B-RRMS']]\n",
      "[['MS', 'DISEASE'], ['MS', 'B-RRMS']]\n",
      "inscope: 3\n",
      "quantitative_00064 annotator2_quantitative_00064_correct\n",
      "quantitative_00064.txt\n"
     ]
    },
    {
     "name": "stderr",
     "output_type": "stream",
     "text": [
      "DEBUG:urllib3.connectionpool:https://huggingface.co:443 \"HEAD /alvaroalon2/biobert_diseases_ner/resolve/main/config.json HTTP/1.1\" 200 0\n",
      "DEBUG:urllib3.connectionpool:https://huggingface.co:443 \"HEAD /alvaroalon2/biobert_diseases_ner/resolve/main/tokenizer_config.json HTTP/1.1\" 200 0\n"
     ]
    },
    {
     "name": "stdout",
     "output_type": "stream",
     "text": [
      "6 110 1636 4\n",
      "[['MS', 'DISEASE'], ['MS', 'B-RRMS']]\n",
      "[['Multiple', 'DISEASE'], ['Multiple', 'B-RRMS']]\n",
      "[['sclerosis', 'DISEASE'], ['sclerosis', 'I-RRMS']]\n",
      "[['##RMS', 'DISEASE'], ['MS', 'B-RRMS']]\n",
      "[['MS', 'DISEASE'], ['MS', 'B-RRMS']]\n",
      "[['MS', 'DISEASE'], ['MS', 'B-RRMS']]\n",
      "inscope: 6\n",
      "quantitative_00066 annotator2_quantitative_00066_correct\n",
      "quantitative_00066.txt\n"
     ]
    },
    {
     "name": "stderr",
     "output_type": "stream",
     "text": [
      "DEBUG:urllib3.connectionpool:https://huggingface.co:443 \"HEAD /alvaroalon2/biobert_diseases_ner/resolve/main/config.json HTTP/1.1\" 200 0\n",
      "DEBUG:urllib3.connectionpool:https://huggingface.co:443 \"HEAD /alvaroalon2/biobert_diseases_ner/resolve/main/tokenizer_config.json HTTP/1.1\" 200 0\n"
     ]
    },
    {
     "name": "stdout",
     "output_type": "stream",
     "text": [
      "6 29 516 0\n",
      "[['Multiple', 'DISEASE'], ['Multiple', 'B-MS_no_subtype']]\n",
      "[['Sclerosis', 'DISEASE'], ['Sclerosis', 'I-MS_no_subtype']]\n",
      "[['MS', 'DISEASE'], ['MS', 'B-MS_no_subtype']]\n",
      "[['Multiple', 'DISEASE'], ['Multiple', 'B-MS_no_subtype']]\n",
      "[['sclerosis', 'DISEASE'], ['sclerosis', 'I-MS_no_subtype']]\n",
      "[['MS', 'DISEASE'], ['MS', 'B-MS_no_subtype']]\n",
      "inscope: 6\n",
      "quantitative_00067 annotator2_quantitative_00067_correct\n",
      "quantitative_00067.txt\n"
     ]
    },
    {
     "name": "stderr",
     "output_type": "stream",
     "text": [
      "DEBUG:urllib3.connectionpool:https://huggingface.co:443 \"HEAD /alvaroalon2/biobert_diseases_ner/resolve/main/config.json HTTP/1.1\" 200 0\n"
     ]
    },
    {
     "name": "stdout",
     "output_type": "stream",
     "text": [
      "7 122 1624 2\n",
      "[['MS', 'DISEASE'], ['MS', 'B-RRMS']]\n",
      "[['Multiple', 'DISEASE'], ['Multiple', 'B-RRMS']]\n",
      "[['sclerosis', 'DISEASE'], ['sclerosis', 'I-RRMS']]\n",
      "[['multiple', 'DISEASE'], ['multiple', 'B-RRMS']]\n",
      "[['sclerosis', 'DISEASE'], ['sclerosis', 'I-RRMS']]\n",
      "[['Multiple', 'DISEASE'], ['Multiple', 'B-RRMS']]\n",
      "[['sclerosis', 'DISEASE'], ['sclerosis', 'I-RRMS']]\n",
      "inscope: 7\n",
      "quantitative_00068 annotator2_quantitative_00068_correct\n",
      "quantitative_00068.txt\n"
     ]
    },
    {
     "name": "stderr",
     "output_type": "stream",
     "text": [
      "DEBUG:urllib3.connectionpool:https://huggingface.co:443 \"HEAD /alvaroalon2/biobert_diseases_ner/resolve/main/tokenizer_config.json HTTP/1.1\" 200 0\n",
      "DEBUG:urllib3.connectionpool:https://huggingface.co:443 \"HEAD /alvaroalon2/biobert_diseases_ner/resolve/main/config.json HTTP/1.1\" 200 0\n",
      "DEBUG:urllib3.connectionpool:https://huggingface.co:443 \"HEAD /alvaroalon2/biobert_diseases_ner/resolve/main/tokenizer_config.json HTTP/1.1\" 200 0\n"
     ]
    },
    {
     "name": "stdout",
     "output_type": "stream",
     "text": [
      "4 10 174 5\n",
      "[['MS', 'DISEASE'], ['MS', 'B-RRMS']]\n",
      "[['multiple', 'DISEASE'], ['MULTIPLE', 'I-RRMS']]\n",
      "[['sclerosis', 'DISEASE'], ['SCLEROSIS', 'I-RRMS']]\n",
      "[['MS', 'DISEASE'], ['MS', 'B-RRMS']]\n",
      "inscope: 4\n",
      "quantitative_00069 annotator2_quantitative_00069_correct\n",
      "quantitative_00069.txt\n"
     ]
    },
    {
     "name": "stderr",
     "output_type": "stream",
     "text": [
      "DEBUG:urllib3.connectionpool:https://huggingface.co:443 \"HEAD /alvaroalon2/biobert_diseases_ner/resolve/main/config.json HTTP/1.1\" 200 0\n",
      "DEBUG:urllib3.connectionpool:https://huggingface.co:443 \"HEAD /alvaroalon2/biobert_diseases_ner/resolve/main/tokenizer_config.json HTTP/1.1\" 200 0\n"
     ]
    },
    {
     "name": "stdout",
     "output_type": "stream",
     "text": [
      "3 22 730 5\n",
      "[['MS', 'DISEASE'], ['MS', 'B-SPMS']]\n",
      "[['MS', 'DISEASE'], ['MS', 'B-SPMS']]\n",
      "[['MS', 'DISEASE'], ['MS', 'I-SPMS']]\n",
      "inscope: 3\n",
      "quantitative_00070 annotator2_quantitative_00070_correct\n",
      "quantitative_00070.txt\n"
     ]
    },
    {
     "name": "stderr",
     "output_type": "stream",
     "text": [
      "DEBUG:urllib3.connectionpool:https://huggingface.co:443 \"HEAD /alvaroalon2/biobert_diseases_ner/resolve/main/config.json HTTP/1.1\" 200 0\n",
      "DEBUG:urllib3.connectionpool:https://huggingface.co:443 \"HEAD /alvaroalon2/biobert_diseases_ner/resolve/main/tokenizer_config.json HTTP/1.1\" 200 0\n"
     ]
    },
    {
     "name": "stdout",
     "output_type": "stream",
     "text": [
      "4 107 1400 4\n",
      "[['MS', 'DISEASE'], ['MS', 'B-RRMS']]\n",
      "[['Multiple', 'DISEASE'], ['Multiple', 'B-RRMS']]\n",
      "[['sclerosis', 'DISEASE'], ['sclerosis', 'I-RRMS']]\n",
      "[['MS', 'DISEASE'], ['MS', 'B-RRMS']]\n",
      "inscope: 4\n",
      "quantitative_00071 annotator2_quantitative_00071_correct\n",
      "quantitative_00071.txt\n"
     ]
    },
    {
     "name": "stderr",
     "output_type": "stream",
     "text": [
      "DEBUG:urllib3.connectionpool:https://huggingface.co:443 \"HEAD /alvaroalon2/biobert_diseases_ner/resolve/main/config.json HTTP/1.1\" 200 0\n",
      "DEBUG:urllib3.connectionpool:https://huggingface.co:443 \"HEAD /alvaroalon2/biobert_diseases_ner/resolve/main/tokenizer_config.json HTTP/1.1\" 200 0\n"
     ]
    },
    {
     "name": "stdout",
     "output_type": "stream",
     "text": [
      "2 0 310 7\n",
      "somevalue is zer0\n",
      "quantitative_00072 annotator2_quantitative_00072_correct\n",
      "quantitative_00072.txt\n"
     ]
    },
    {
     "name": "stderr",
     "output_type": "stream",
     "text": [
      "DEBUG:urllib3.connectionpool:https://huggingface.co:443 \"HEAD /alvaroalon2/biobert_diseases_ner/resolve/main/config.json HTTP/1.1\" 200 0\n",
      "DEBUG:urllib3.connectionpool:https://huggingface.co:443 \"HEAD /alvaroalon2/biobert_diseases_ner/resolve/main/tokenizer_config.json HTTP/1.1\" 200 0\n"
     ]
    },
    {
     "name": "stdout",
     "output_type": "stream",
     "text": [
      "2 18 278 2\n",
      "[['MS', 'DISEASE'], ['MS', 'B-RRMS']]\n",
      "[['MS', 'DISEASE'], ['MS', 'B-RRMS']]\n",
      "inscope: 2\n",
      "quantitative_00073 annotator2_quantitative_00073_correct\n",
      "quantitative_00073.txt\n"
     ]
    },
    {
     "name": "stderr",
     "output_type": "stream",
     "text": [
      "DEBUG:urllib3.connectionpool:https://huggingface.co:443 \"HEAD /alvaroalon2/biobert_diseases_ner/resolve/main/config.json HTTP/1.1\" 200 0\n",
      "DEBUG:urllib3.connectionpool:https://huggingface.co:443 \"HEAD /alvaroalon2/biobert_diseases_ner/resolve/main/tokenizer_config.json HTTP/1.1\" 200 0\n"
     ]
    },
    {
     "name": "stdout",
     "output_type": "stream",
     "text": [
      "10 43 1198 3\n",
      "[['MS', 'DISEASE'], ['MS', 'B-RRMS']]\n",
      "[['Multiple', 'DISEASE'], ['Multiple', 'B-RRMS']]\n",
      "[['sclerosis', 'DISEASE'], ['sclerosis', 'I-RRMS']]\n",
      "[['multiple', 'DISEASE'], ['multiple', 'B-RRMS']]\n",
      "[['sclerosis', 'DISEASE'], ['sclerosis', 'I-RRMS']]\n",
      "[['multiple', 'DISEASE'], ['multiple', 'B-RRMS']]\n",
      "[['sclerosis', 'DISEASE'], ['sclerosis', 'I-RRMS']]\n",
      "[['Multiple', 'DISEASE'], ['Multiple', 'B-RRMS']]\n",
      "[['sclerosis', 'DISEASE'], ['sclerosis', 'I-RRMS']]\n",
      "[['RRMS', 'DISEASE'], ['RRMS', 'B-RRMS']]\n",
      "inscope: 10\n",
      "quantitative_00074 annotator2_quantitative_00074_correct\n",
      "quantitative_00074.txt\n"
     ]
    },
    {
     "name": "stderr",
     "output_type": "stream",
     "text": [
      "DEBUG:urllib3.connectionpool:https://huggingface.co:443 \"HEAD /alvaroalon2/biobert_diseases_ner/resolve/main/config.json HTTP/1.1\" 200 0\n",
      "DEBUG:urllib3.connectionpool:https://huggingface.co:443 \"HEAD /alvaroalon2/biobert_diseases_ner/resolve/main/tokenizer_config.json HTTP/1.1\" 200 0\n"
     ]
    },
    {
     "name": "stdout",
     "output_type": "stream",
     "text": [
      "6 46 1029 10\n",
      "[['multiple', 'DISEASE'], ['multiple', 'I-RRMS']]\n",
      "[['sclerosis', 'DISEASE'], ['sclerosis', 'I-RRMS']]\n",
      "[['multiple', 'DISEASE'], ['multiple', 'B-RRMS']]\n",
      "[['sclerosis', 'DISEASE'], ['sclerosis', 'I-RRMS']]\n",
      "[['multiple', 'DISEASE'], ['multiple', 'I-RRMS']]\n",
      "[['sclerosis', 'DISEASE'], ['sclerosis', 'I-RRMS']]\n",
      "inscope: 6\n",
      "quantitative_00075 annotator2_quantitative_00075_correct\n",
      "quantitative_00075.txt\n"
     ]
    },
    {
     "name": "stderr",
     "output_type": "stream",
     "text": [
      "DEBUG:urllib3.connectionpool:https://huggingface.co:443 \"HEAD /alvaroalon2/biobert_diseases_ner/resolve/main/config.json HTTP/1.1\" 200 0\n",
      "DEBUG:urllib3.connectionpool:https://huggingface.co:443 \"HEAD /alvaroalon2/biobert_diseases_ner/resolve/main/tokenizer_config.json HTTP/1.1\" 200 0\n"
     ]
    },
    {
     "name": "stdout",
     "output_type": "stream",
     "text": [
      "4 51 609 1\n",
      "[['multiple', 'DISEASE'], ['multiple', 'B-RRMS']]\n",
      "[['sclerosis', 'DISEASE'], ['sclerosis', 'I-RRMS']]\n",
      "[['multiple', 'DISEASE'], ['multiple', 'B-RRMS']]\n",
      "[['sclerosis', 'DISEASE'], ['sclerosis', 'I-RRMS']]\n",
      "inscope: 4\n",
      "quantitative_00076 annotator2_quantitative_00076_correct\n",
      "quantitative_00076.txt\n"
     ]
    },
    {
     "name": "stderr",
     "output_type": "stream",
     "text": [
      "DEBUG:urllib3.connectionpool:https://huggingface.co:443 \"HEAD /alvaroalon2/biobert_diseases_ner/resolve/main/config.json HTTP/1.1\" 200 0\n",
      "DEBUG:urllib3.connectionpool:https://huggingface.co:443 \"HEAD /alvaroalon2/biobert_diseases_ner/resolve/main/tokenizer_config.json HTTP/1.1\" 200 0\n"
     ]
    },
    {
     "name": "stdout",
     "output_type": "stream",
     "text": [
      "4 32 1118 10\n",
      "[['multiple', 'DISEASE'], ['multiple', 'I-RRMS']]\n",
      "[['sclerosis', 'DISEASE'], ['sclerosis', 'I-RRMS']]\n",
      "[['multiple', 'DISEASE'], ['multiple', 'I-RRMS']]\n",
      "[['sclerosis', 'DISEASE'], ['sclerosis', 'I-RRMS']]\n",
      "inscope: 4\n",
      "quantitative_00077 annotator2_quantitative_00077_correct\n",
      "quantitative_00077.txt\n"
     ]
    },
    {
     "name": "stderr",
     "output_type": "stream",
     "text": [
      "DEBUG:urllib3.connectionpool:https://huggingface.co:443 \"HEAD /alvaroalon2/biobert_diseases_ner/resolve/main/config.json HTTP/1.1\" 200 0\n",
      "DEBUG:urllib3.connectionpool:https://huggingface.co:443 \"HEAD /alvaroalon2/biobert_diseases_ner/resolve/main/tokenizer_config.json HTTP/1.1\" 200 0\n"
     ]
    },
    {
     "name": "stdout",
     "output_type": "stream",
     "text": [
      "2 57 604 1\n",
      "[['MS', 'DISEASE'], ['MS', 'B-SPMS']]\n",
      "[['SPMS', 'DISEASE'], ['SPMS', 'B-SPMS']]\n",
      "inscope: 2\n",
      "quantitative_00078 annotator2_quantitative_00078_correct\n",
      "quantitative_00078.txt\n"
     ]
    },
    {
     "name": "stderr",
     "output_type": "stream",
     "text": [
      "DEBUG:urllib3.connectionpool:https://huggingface.co:443 \"HEAD /alvaroalon2/biobert_diseases_ner/resolve/main/config.json HTTP/1.1\" 200 0\n",
      "DEBUG:urllib3.connectionpool:https://huggingface.co:443 \"HEAD /alvaroalon2/biobert_diseases_ner/resolve/main/tokenizer_config.json HTTP/1.1\" 200 0\n"
     ]
    },
    {
     "name": "stdout",
     "output_type": "stream",
     "text": [
      "1 56 595 1\n",
      "[['MS', 'DISEASE'], ['MS', 'B-RRMS']]\n",
      "inscope: 1\n",
      "quantitative_00079 annotator2_quantitative_00079_correct\n",
      "quantitative_00079.txt\n"
     ]
    },
    {
     "name": "stderr",
     "output_type": "stream",
     "text": [
      "DEBUG:urllib3.connectionpool:https://huggingface.co:443 \"HEAD /alvaroalon2/biobert_diseases_ner/resolve/main/config.json HTTP/1.1\" 200 0\n",
      "DEBUG:urllib3.connectionpool:https://huggingface.co:443 \"HEAD /alvaroalon2/biobert_diseases_ner/resolve/main/tokenizer_config.json HTTP/1.1\" 200 0\n"
     ]
    },
    {
     "name": "stdout",
     "output_type": "stream",
     "text": [
      "2 21 315 5\n",
      "[['multiple', 'DISEASE'], ['multiple', 'B-RRMS']]\n",
      "[['sclerosis', 'DISEASE'], ['sclerosis', 'I-RRMS']]\n",
      "inscope: 2\n",
      "quantitative_00080 annotator2_quantitative_00080_correct\n",
      "quantitative_00080.txt\n"
     ]
    },
    {
     "name": "stderr",
     "output_type": "stream",
     "text": [
      "DEBUG:urllib3.connectionpool:https://huggingface.co:443 \"HEAD /alvaroalon2/biobert_diseases_ner/resolve/main/config.json HTTP/1.1\" 200 0\n",
      "DEBUG:urllib3.connectionpool:https://huggingface.co:443 \"HEAD /alvaroalon2/biobert_diseases_ner/resolve/main/tokenizer_config.json HTTP/1.1\" 200 0\n"
     ]
    },
    {
     "name": "stdout",
     "output_type": "stream",
     "text": [
      "7 61 1499 11\n",
      "[['multiple', 'DISEASE'], ['multiple', 'I-RRMS']]\n",
      "[['sclerosis', 'DISEASE'], ['sclerosis', 'I-RRMS']]\n",
      "[['MS', 'DISEASE'], ['MS', 'B-RRMS']]\n",
      "[['multiple', 'DISEASE'], ['multiple', 'B-RRMS']]\n",
      "[['sclerosis', 'DISEASE'], ['sclerosis', 'I-RRMS']]\n",
      "[['multiple', 'DISEASE'], ['multiple', 'I-RRMS']]\n",
      "[['sclerosis', 'DISEASE'], ['sclerosis', 'I-RRMS']]\n",
      "inscope: 7\n",
      "quantitative_00081 annotator2_quantitative_00081_correct\n",
      "quantitative_00081.txt\n"
     ]
    },
    {
     "name": "stderr",
     "output_type": "stream",
     "text": [
      "DEBUG:urllib3.connectionpool:https://huggingface.co:443 \"HEAD /alvaroalon2/biobert_diseases_ner/resolve/main/config.json HTTP/1.1\" 200 0\n",
      "DEBUG:urllib3.connectionpool:https://huggingface.co:443 \"HEAD /alvaroalon2/biobert_diseases_ner/resolve/main/tokenizer_config.json HTTP/1.1\" 200 0\n"
     ]
    },
    {
     "name": "stdout",
     "output_type": "stream",
     "text": [
      "7 56 1292 12\n",
      "[['multiple', 'DISEASE'], ['multiple', 'I-RRMS']]\n",
      "[['sclerosis', 'DISEASE'], ['sclerosis', 'I-RRMS']]\n",
      "[['MS', 'DISEASE'], ['MS', 'B-RRMS']]\n",
      "[['multiple', 'DISEASE'], ['multiple', 'B-RRMS']]\n",
      "[['sclerosis', 'DISEASE'], ['sclerosis', 'I-RRMS']]\n",
      "[['multiple', 'DISEASE'], ['multiple', 'I-RRMS']]\n",
      "[['sclerosis', 'DISEASE'], ['sclerosis', 'I-RRMS']]\n",
      "inscope: 7\n",
      "quantitative_00082 annotator2_quantitative_00082_correct\n",
      "quantitative_00082.txt\n"
     ]
    },
    {
     "name": "stderr",
     "output_type": "stream",
     "text": [
      "DEBUG:urllib3.connectionpool:https://huggingface.co:443 \"HEAD /alvaroalon2/biobert_diseases_ner/resolve/main/config.json HTTP/1.1\" 200 0\n",
      "DEBUG:urllib3.connectionpool:https://huggingface.co:443 \"HEAD /alvaroalon2/biobert_diseases_ner/resolve/main/tokenizer_config.json HTTP/1.1\" 200 0\n"
     ]
    },
    {
     "name": "stdout",
     "output_type": "stream",
     "text": [
      "4 77 1449 2\n",
      "[['MS', 'DISEASE'], ['MS', 'B-RRMS']]\n",
      "[['Multiple', 'DISEASE'], ['Multiple', 'B-RRMS']]\n",
      "[['sclerosis', 'DISEASE'], ['sclerosis', 'I-RRMS']]\n",
      "[['MS', 'DISEASE'], ['MS', 'B-RRMS']]\n",
      "inscope: 4\n",
      "quantitative_00083 annotator2_quantitative_00083_correct\n",
      "quantitative_00083.txt\n"
     ]
    },
    {
     "name": "stderr",
     "output_type": "stream",
     "text": [
      "DEBUG:urllib3.connectionpool:https://huggingface.co:443 \"HEAD /alvaroalon2/biobert_diseases_ner/resolve/main/config.json HTTP/1.1\" 200 0\n",
      "DEBUG:urllib3.connectionpool:https://huggingface.co:443 \"HEAD /alvaroalon2/biobert_diseases_ner/resolve/main/tokenizer_config.json HTTP/1.1\" 200 0\n"
     ]
    },
    {
     "name": "stdout",
     "output_type": "stream",
     "text": [
      "8 79 1365 4\n",
      "[['MS', 'DISEASE'], ['MS', 'B-RRMS']]\n",
      "[['multiple', 'DISEASE'], ['multiple', 'B-RRMS']]\n",
      "[['sclerosis', 'DISEASE'], ['sclerosis', 'I-RRMS']]\n",
      "[['multiple', 'DISEASE'], ['multiple', 'B-RRMS']]\n",
      "[['sclerosis', 'DISEASE'], ['sclerosis', 'I-RRMS']]\n",
      "[['Multiple', 'DISEASE'], ['Multiple', 'B-RRMS']]\n",
      "[['sclerosis', 'DISEASE'], ['sclerosis', 'I-RRMS']]\n",
      "[['MS', 'DISEASE'], ['MS', 'B-RRMS']]\n",
      "inscope: 8\n",
      "quantitative_00084 annotator2_quantitative_00084_correct\n",
      "quantitative_00084.txt\n"
     ]
    },
    {
     "name": "stderr",
     "output_type": "stream",
     "text": [
      "DEBUG:urllib3.connectionpool:https://huggingface.co:443 \"HEAD /alvaroalon2/biobert_diseases_ner/resolve/main/config.json HTTP/1.1\" 200 0\n"
     ]
    },
    {
     "name": "stdout",
     "output_type": "stream",
     "text": [
      "1 70 598 2\n",
      "[['MS', 'DISEASE'], ['MS', 'B-RRMS']]\n",
      "inscope: 1\n",
      "quantitative_00085 annotator2_quantitative_00085_correct\n",
      "quantitative_00085.txt\n"
     ]
    },
    {
     "name": "stderr",
     "output_type": "stream",
     "text": [
      "DEBUG:urllib3.connectionpool:https://huggingface.co:443 \"HEAD /alvaroalon2/biobert_diseases_ner/resolve/main/tokenizer_config.json HTTP/1.1\" 200 0\n",
      "DEBUG:urllib3.connectionpool:https://huggingface.co:443 \"HEAD /alvaroalon2/biobert_diseases_ner/resolve/main/config.json HTTP/1.1\" 200 0\n",
      "DEBUG:urllib3.connectionpool:https://huggingface.co:443 \"HEAD /alvaroalon2/biobert_diseases_ner/resolve/main/tokenizer_config.json HTTP/1.1\" 200 0\n"
     ]
    },
    {
     "name": "stdout",
     "output_type": "stream",
     "text": [
      "3 63 1154 7\n",
      "[['MS', 'DISEASE'], ['MS', 'B-RRMS']]\n",
      "[['multiple', 'DISEASE'], ['MULTIPLE', 'I-RRMS']]\n",
      "[['sclerosis', 'DISEASE'], ['SCLEROSIS', 'I-RRMS']]\n",
      "inscope: 3\n",
      "quantitative_00086 annotator2_quantitative_00086_correct\n",
      "quantitative_00086.txt\n"
     ]
    },
    {
     "name": "stderr",
     "output_type": "stream",
     "text": [
      "DEBUG:urllib3.connectionpool:https://huggingface.co:443 \"HEAD /alvaroalon2/biobert_diseases_ner/resolve/main/config.json HTTP/1.1\" 200 0\n",
      "DEBUG:urllib3.connectionpool:https://huggingface.co:443 \"HEAD /alvaroalon2/biobert_diseases_ner/resolve/main/tokenizer_config.json HTTP/1.1\" 200 0\n"
     ]
    },
    {
     "name": "stdout",
     "output_type": "stream",
     "text": [
      "6 59 1915 16\n",
      "[['multiple', 'DISEASE'], ['multiple', 'B-SPMS']]\n",
      "[['sclerosis', 'DISEASE'], ['sclerosis', 'I-SPMS']]\n",
      "[['MS', 'DISEASE'], ['MS', 'B-SPMS']]\n",
      "[['Multiple', 'DISEASE'], ['Multiple', 'B-RRMS']]\n",
      "[['sclerosis', 'DISEASE'], ['sclerosis', 'I-RRMS']]\n",
      "[['MS', 'DISEASE'], ['MS', 'B-SPMS']]\n",
      "inscope: 6\n",
      "quantitative_00087 annotator2_quantitative_00087_correct\n",
      "quantitative_00087.txt\n"
     ]
    },
    {
     "name": "stderr",
     "output_type": "stream",
     "text": [
      "DEBUG:urllib3.connectionpool:https://huggingface.co:443 \"HEAD /alvaroalon2/biobert_diseases_ner/resolve/main/config.json HTTP/1.1\" 200 0\n",
      "DEBUG:urllib3.connectionpool:https://huggingface.co:443 \"HEAD /alvaroalon2/biobert_diseases_ner/resolve/main/tokenizer_config.json HTTP/1.1\" 200 0\n"
     ]
    },
    {
     "name": "stdout",
     "output_type": "stream",
     "text": [
      "8 148 1952 4\n",
      "[['Multiple', 'DISEASE'], ['Multiple', 'B-RRMS']]\n",
      "[['sclerosis', 'DISEASE'], ['sclerosis', 'I-RRMS']]\n",
      "[['MS', 'DISEASE'], ['MS', 'B-RRMS']]\n",
      "[['Multiple', 'DISEASE'], ['Multiple', 'B-RRMS']]\n",
      "[['sclerosis', 'DISEASE'], ['sclerosis', 'I-RRMS']]\n",
      "[['MS', 'DISEASE'], ['MS', 'B-RRMS']]\n",
      "[['Multiple', 'DISEASE'], ['Multiple', 'B-RRMS']]\n",
      "[['sclerosis', 'DISEASE'], ['sclerosis', 'I-RRMS']]\n",
      "inscope: 8\n",
      "quantitative_00088 annotator2_quantitative_00088_correct\n",
      "quantitative_00088.txt\n"
     ]
    },
    {
     "name": "stderr",
     "output_type": "stream",
     "text": [
      "DEBUG:urllib3.connectionpool:https://huggingface.co:443 \"HEAD /alvaroalon2/biobert_diseases_ner/resolve/main/config.json HTTP/1.1\" 200 0\n",
      "DEBUG:urllib3.connectionpool:https://huggingface.co:443 \"HEAD /alvaroalon2/biobert_diseases_ner/resolve/main/tokenizer_config.json HTTP/1.1\" 200 0\n"
     ]
    },
    {
     "name": "stdout",
     "output_type": "stream",
     "text": [
      "2 19 294 6\n",
      "[['MS', 'DISEASE'], ['MS', 'B-RRMS']]\n",
      "[['RRMS', 'DISEASE'], ['RRMS', 'B-RRMS']]\n",
      "inscope: 2\n",
      "quantitative_00089 annotator2_quantitative_00089_correct\n",
      "quantitative_00089.txt\n"
     ]
    },
    {
     "name": "stderr",
     "output_type": "stream",
     "text": [
      "DEBUG:urllib3.connectionpool:https://huggingface.co:443 \"HEAD /alvaroalon2/biobert_diseases_ner/resolve/main/config.json HTTP/1.1\" 200 0\n",
      "DEBUG:urllib3.connectionpool:https://huggingface.co:443 \"HEAD /alvaroalon2/biobert_diseases_ner/resolve/main/tokenizer_config.json HTTP/1.1\" 200 0\n"
     ]
    },
    {
     "name": "stdout",
     "output_type": "stream",
     "text": [
      "11 62 1350 37\n",
      "[['multiple', 'DISEASE'], ['multiple', 'I-RRMS']]\n",
      "[['sclerosis', 'DISEASE'], ['sclerosis', 'I-RRMS']]\n",
      "[['Multiple', 'DISEASE'], ['Multiple', 'I-RRMS']]\n",
      "[['Sclerosis', 'DISEASE'], ['Sclerosis', 'I-RRMS']]\n",
      "[['multiple', 'DISEASE'], ['multiple', 'I-RRMS']]\n",
      "[['sclerosis', 'DISEASE'], ['sclerosis', 'I-RRMS']]\n",
      "[['MS', 'DISEASE'], ['MS', 'B-RRMS']]\n",
      "[['multiple', 'DISEASE'], ['multiple', 'I-RRMS']]\n",
      "[['sclerosis', 'DISEASE'], ['sclerosis', 'I-RRMS']]\n",
      "[['multiple', 'DISEASE'], ['multiple', 'I-RRMS']]\n",
      "[['sclerosis', 'DISEASE'], ['sclerosis', 'I-RRMS']]\n",
      "inscope: 11\n",
      "quantitative_00090 annotator2_quantitative_00090_correct\n",
      "quantitative_00090.txt\n"
     ]
    },
    {
     "name": "stderr",
     "output_type": "stream",
     "text": [
      "DEBUG:urllib3.connectionpool:https://huggingface.co:443 \"HEAD /alvaroalon2/biobert_diseases_ner/resolve/main/config.json HTTP/1.1\" 200 0\n",
      "DEBUG:urllib3.connectionpool:https://huggingface.co:443 \"HEAD /alvaroalon2/biobert_diseases_ner/resolve/main/tokenizer_config.json HTTP/1.1\" 200 0\n"
     ]
    },
    {
     "name": "stdout",
     "output_type": "stream",
     "text": [
      "8 80 1060 15\n",
      "[['multiple', 'DISEASE'], ['multiple', 'I-RRMS']]\n",
      "[['RRMS', 'DISEASE'], ['RRMS', 'B-RRMS']]\n",
      "[['sclerosis', 'DISEASE'], ['sclerosis', 'I-RRMS']]\n",
      "[['multiple', 'DISEASE'], ['multiple', 'B-RRMS']]\n",
      "[['multiple', 'DISEASE'], ['multiple', 'B-RRMS']]\n",
      "[['sclerosis', 'DISEASE'], ['sclerosis', 'I-RRMS']]\n",
      "[['multiple', 'DISEASE'], ['multiple', 'I-RRMS']]\n",
      "[['sclerosis', 'DISEASE'], ['sclerosis', 'I-RRMS']]\n",
      "inscope: 8\n",
      "quantitative_00091 annotator2_quantitative_00091_correct\n",
      "quantitative_00091.txt\n"
     ]
    },
    {
     "name": "stderr",
     "output_type": "stream",
     "text": [
      "DEBUG:urllib3.connectionpool:https://huggingface.co:443 \"HEAD /alvaroalon2/biobert_diseases_ner/resolve/main/config.json HTTP/1.1\" 200 0\n"
     ]
    },
    {
     "name": "stdout",
     "output_type": "stream",
     "text": [
      "2 117 1519 3\n",
      "[['multiple', 'DISEASE'], ['multiple', 'B-RRMS']]\n",
      "[['sclerosis', 'DISEASE'], ['sclerosis', 'I-RRMS']]\n",
      "inscope: 2\n",
      "quantitative_00092 annotator2_quantitative_00092_correct\n",
      "quantitative_00092.txt\n"
     ]
    },
    {
     "name": "stderr",
     "output_type": "stream",
     "text": [
      "DEBUG:urllib3.connectionpool:https://huggingface.co:443 \"HEAD /alvaroalon2/biobert_diseases_ner/resolve/main/tokenizer_config.json HTTP/1.1\" 200 0\n",
      "DEBUG:urllib3.connectionpool:https://huggingface.co:443 \"HEAD /alvaroalon2/biobert_diseases_ner/resolve/main/config.json HTTP/1.1\" 200 0\n",
      "DEBUG:urllib3.connectionpool:https://huggingface.co:443 \"HEAD /alvaroalon2/biobert_diseases_ner/resolve/main/tokenizer_config.json HTTP/1.1\" 200 0\n"
     ]
    },
    {
     "name": "stdout",
     "output_type": "stream",
     "text": [
      "1 2 243 5\n",
      "[['multiple', 'DISEASE'], ['MULTIPLE', 'I-RRMS']]\n",
      "inscope: 1\n",
      "quantitative_00093 annotator2_quantitative_00093_correct\n",
      "quantitative_00093.txt\n"
     ]
    },
    {
     "name": "stderr",
     "output_type": "stream",
     "text": [
      "DEBUG:urllib3.connectionpool:https://huggingface.co:443 \"HEAD /alvaroalon2/biobert_diseases_ner/resolve/main/config.json HTTP/1.1\" 200 0\n",
      "DEBUG:urllib3.connectionpool:https://huggingface.co:443 \"HEAD /alvaroalon2/biobert_diseases_ner/resolve/main/tokenizer_config.json HTTP/1.1\" 200 0\n"
     ]
    },
    {
     "name": "stdout",
     "output_type": "stream",
     "text": [
      "6 21 689 11\n",
      "[['multiple', 'DISEASE'], ['multiple', 'I-RRMS']]\n",
      "[['sclerosis', 'DISEASE'], ['sclerosis', 'I-RRMS']]\n",
      "[['multiple', 'DISEASE'], ['multiple', 'I-RRMS']]\n",
      "[['sclerosis', 'DISEASE'], ['sclerosis', 'I-RRMS']]\n",
      "[['multiple', 'DISEASE'], ['multiple', 'I-RRMS']]\n",
      "[['sclerosis', 'DISEASE'], ['sclerosis', 'I-RRMS']]\n",
      "inscope: 6\n",
      "quantitative_00094 annotator2_quantitative_00094_correct\n",
      "quantitative_00094.txt\n"
     ]
    },
    {
     "name": "stderr",
     "output_type": "stream",
     "text": [
      "DEBUG:urllib3.connectionpool:https://huggingface.co:443 \"HEAD /alvaroalon2/biobert_diseases_ner/resolve/main/config.json HTTP/1.1\" 200 0\n",
      "DEBUG:urllib3.connectionpool:https://huggingface.co:443 \"HEAD /alvaroalon2/biobert_diseases_ner/resolve/main/tokenizer_config.json HTTP/1.1\" 200 0\n"
     ]
    },
    {
     "name": "stdout",
     "output_type": "stream",
     "text": [
      "4 11 340 3\n",
      "[['multiple', 'DISEASE'], ['multiple', 'B-RRMS']]\n",
      "[['sclerosis', 'DISEASE'], ['sclerosis', 'I-RRMS']]\n",
      "[['RRMS', 'DISEASE'], ['RRMS', 'B-RRMS']]\n",
      "[['RRMS', 'DISEASE'], ['RRMS', 'B-RRMS']]\n",
      "inscope: 4\n",
      "quantitative_00095 annotator2_quantitative_00095_correct\n",
      "quantitative_00095.txt\n"
     ]
    },
    {
     "name": "stderr",
     "output_type": "stream",
     "text": [
      "DEBUG:urllib3.connectionpool:https://huggingface.co:443 \"HEAD /alvaroalon2/biobert_diseases_ner/resolve/main/config.json HTTP/1.1\" 200 0\n",
      "DEBUG:urllib3.connectionpool:https://huggingface.co:443 \"HEAD /alvaroalon2/biobert_diseases_ner/resolve/main/tokenizer_config.json HTTP/1.1\" 200 0\n"
     ]
    },
    {
     "name": "stdout",
     "output_type": "stream",
     "text": [
      "2 24 360 5\n",
      "[['multiple', 'DISEASE'], ['multiple', 'B-SPMS']]\n",
      "[['sclerosis', 'DISEASE'], ['sclerosis', 'I-SPMS']]\n",
      "inscope: 2\n",
      "quantitative_00096 annotator2_quantitative_00096_correct\n",
      "quantitative_00096.txt\n"
     ]
    },
    {
     "name": "stderr",
     "output_type": "stream",
     "text": [
      "DEBUG:urllib3.connectionpool:https://huggingface.co:443 \"HEAD /alvaroalon2/biobert_diseases_ner/resolve/main/config.json HTTP/1.1\" 200 0\n",
      "DEBUG:urllib3.connectionpool:https://huggingface.co:443 \"HEAD /alvaroalon2/biobert_diseases_ner/resolve/main/tokenizer_config.json HTTP/1.1\" 200 0\n"
     ]
    },
    {
     "name": "stdout",
     "output_type": "stream",
     "text": [
      "6 73 1343 15\n",
      "[['multiple', 'DISEASE'], ['multiple', 'I-RRMS']]\n",
      "[['sclerosis', 'DISEASE'], ['sclerosis', 'I-RRMS']]\n",
      "[['multiple', 'DISEASE'], ['multiple', 'B-RRMS']]\n",
      "[['sclerosis', 'DISEASE'], ['sclerosis', 'I-RRMS']]\n",
      "[['multiple', 'DISEASE'], ['multiple', 'I-RRMS']]\n",
      "[['sclerosis', 'DISEASE'], ['sclerosis', 'I-RRMS']]\n",
      "inscope: 6\n",
      "quantitative_00097 annotator2_quantitative_00097_correct\n",
      "quantitative_00097.txt\n"
     ]
    },
    {
     "name": "stderr",
     "output_type": "stream",
     "text": [
      "DEBUG:urllib3.connectionpool:https://huggingface.co:443 \"HEAD /alvaroalon2/biobert_diseases_ner/resolve/main/config.json HTTP/1.1\" 200 0\n",
      "DEBUG:urllib3.connectionpool:https://huggingface.co:443 \"HEAD /alvaroalon2/biobert_diseases_ner/resolve/main/tokenizer_config.json HTTP/1.1\" 200 0\n"
     ]
    },
    {
     "name": "stdout",
     "output_type": "stream",
     "text": [
      "2 10 265 3\n",
      "[['MS', 'DISEASE'], ['MS', 'B-CIS']]\n",
      "[['CIS', 'DISEASE'], ['CIS', 'B-CIS']]\n",
      "inscope: 2\n",
      "quantitative_00098 annotator2_quantitative_00098_correct\n",
      "quantitative_00098.txt\n"
     ]
    },
    {
     "name": "stderr",
     "output_type": "stream",
     "text": [
      "DEBUG:urllib3.connectionpool:https://huggingface.co:443 \"HEAD /alvaroalon2/biobert_diseases_ner/resolve/main/config.json HTTP/1.1\" 200 0\n",
      "DEBUG:urllib3.connectionpool:https://huggingface.co:443 \"HEAD /alvaroalon2/biobert_diseases_ner/resolve/main/tokenizer_config.json HTTP/1.1\" 200 0\n"
     ]
    },
    {
     "name": "stdout",
     "output_type": "stream",
     "text": [
      "5 109 1495 6\n",
      "[['Multiple', 'DISEASE'], ['Multiple', 'B-RRMS']]\n",
      "[['sclerosis', 'DISEASE'], ['sclerosis', 'I-RRMS']]\n",
      "[['Multiple', 'DISEASE'], ['Multiple', 'B-RRMS']]\n",
      "[['sclerosis', 'DISEASE'], ['sclerosis', 'I-RRMS']]\n",
      "[['MS', 'DISEASE'], ['MS', 'B-RRMS']]\n",
      "inscope: 5\n",
      "quantitative_00099 annotator2_quantitative_00099_correct\n",
      "quantitative_00099.txt\n"
     ]
    },
    {
     "name": "stderr",
     "output_type": "stream",
     "text": [
      "DEBUG:urllib3.connectionpool:https://huggingface.co:443 \"HEAD /alvaroalon2/biobert_diseases_ner/resolve/main/config.json HTTP/1.1\" 200 0\n",
      "DEBUG:urllib3.connectionpool:https://huggingface.co:443 \"HEAD /alvaroalon2/biobert_diseases_ner/resolve/main/tokenizer_config.json HTTP/1.1\" 200 0\n"
     ]
    },
    {
     "name": "stdout",
     "output_type": "stream",
     "text": [
      "9 67 1154 13\n",
      "[['multiple', 'DISEASE'], ['multiple', 'I-RRMS']]\n",
      "[['sclerosis', 'DISEASE'], ['sclerosis', 'I-RRMS']]\n",
      "[['RRMS', 'DISEASE'], ['RRMS', 'B-RRMS']]\n",
      "[['multiple', 'DISEASE'], ['multiple', 'B-RRMS']]\n",
      "[['sclerosis', 'DISEASE'], ['sclerosis', 'I-RRMS']]\n",
      "[['multiple', 'DISEASE'], ['multiple', 'B-RRMS']]\n",
      "[['sclerosis', 'DISEASE'], ['sclerosis', 'I-RRMS']]\n",
      "[['multiple', 'DISEASE'], ['multiple', 'I-RRMS']]\n",
      "[['sclerosis', 'DISEASE'], ['sclerosis', 'I-RRMS']]\n",
      "inscope: 9\n",
      "quantitative_00100 annotator2_quantitative_00100_correct\n",
      "quantitative_00100.txt\n"
     ]
    },
    {
     "name": "stderr",
     "output_type": "stream",
     "text": [
      "DEBUG:urllib3.connectionpool:https://huggingface.co:443 \"HEAD /alvaroalon2/biobert_diseases_ner/resolve/main/config.json HTTP/1.1\" 200 0\n",
      "DEBUG:urllib3.connectionpool:https://huggingface.co:443 \"HEAD /alvaroalon2/biobert_diseases_ner/resolve/main/tokenizer_config.json HTTP/1.1\" 200 0\n"
     ]
    },
    {
     "name": "stdout",
     "output_type": "stream",
     "text": [
      "3 111 1585 9\n",
      "[['##RMS', 'DISEASE'], ['MS', 'B-SPMS']]\n",
      "[['Multiple', 'DISEASE'], ['Multiple', 'B-SPMS']]\n",
      "[['sclerosis', 'DISEASE'], ['sclerosis', 'I-SPMS']]\n",
      "inscope: 3\n",
      "quantitative_00101 annotator2_quantitative_00101_correct\n",
      "quantitative_00101.txt\n"
     ]
    },
    {
     "name": "stderr",
     "output_type": "stream",
     "text": [
      "DEBUG:urllib3.connectionpool:https://huggingface.co:443 \"HEAD /alvaroalon2/biobert_diseases_ner/resolve/main/config.json HTTP/1.1\" 200 0\n",
      "DEBUG:urllib3.connectionpool:https://huggingface.co:443 \"HEAD /alvaroalon2/biobert_diseases_ner/resolve/main/tokenizer_config.json HTTP/1.1\" 200 0\n"
     ]
    },
    {
     "name": "stdout",
     "output_type": "stream",
     "text": [
      "6 8 290 7\n",
      "[['MS', 'DISEASE'], ['MS', 'B-RRMS']]\n",
      "[['MS', 'DISEASE'], ['MS', 'B-RRMS']]\n",
      "[['multiple', 'DISEASE'], ['multiple', 'I-RRMS']]\n",
      "[['sclerosis', 'DISEASE'], ['sclerosis', 'I-RRMS']]\n",
      "[['multiple', 'DISEASE'], ['MULTIPLE', 'I-RRMS']]\n",
      "[['sclerosis', 'DISEASE'], ['SCLEROSIS', 'I-RRMS']]\n",
      "inscope: 6\n",
      "quantitative_00102 annotator2_quantitative_00102_correct\n",
      "quantitative_00102.txt\n"
     ]
    },
    {
     "name": "stderr",
     "output_type": "stream",
     "text": [
      "DEBUG:urllib3.connectionpool:https://huggingface.co:443 \"HEAD /alvaroalon2/biobert_diseases_ner/resolve/main/config.json HTTP/1.1\" 200 0\n",
      "DEBUG:urllib3.connectionpool:https://huggingface.co:443 \"HEAD /alvaroalon2/biobert_diseases_ner/resolve/main/tokenizer_config.json HTTP/1.1\" 200 0\n"
     ]
    },
    {
     "name": "stdout",
     "output_type": "stream",
     "text": [
      "4 57 905 19\n",
      "[['MS', 'DISEASE'], ['MS', 'I-RRMS']]\n",
      "[['multiple', 'DISEASE'], ['multiple', 'I-RRMS']]\n",
      "[['sclerosis', 'DISEASE'], ['sclerosis', 'I-RRMS']]\n",
      "[['MS', 'DISEASE'], ['MS', 'I-RRMS']]\n",
      "inscope: 4\n",
      "quantitative_00103 annotator2_quantitative_00103_correct\n",
      "quantitative_00103.txt\n"
     ]
    },
    {
     "name": "stderr",
     "output_type": "stream",
     "text": [
      "DEBUG:urllib3.connectionpool:https://huggingface.co:443 \"HEAD /alvaroalon2/biobert_diseases_ner/resolve/main/config.json HTTP/1.1\" 200 0\n",
      "DEBUG:urllib3.connectionpool:https://huggingface.co:443 \"HEAD /alvaroalon2/biobert_diseases_ner/resolve/main/tokenizer_config.json HTTP/1.1\" 200 0\n"
     ]
    },
    {
     "name": "stdout",
     "output_type": "stream",
     "text": [
      "8 118 886 26\n",
      "[['MS', 'DISEASE'], ['MS', 'B-RRMS']]\n",
      "[['MS', 'DISEASE'], ['MS', 'B-RRMS']]\n",
      "[['ON', 'DISEASE'], ['ON', 'I-RRMS']]\n",
      "[['weakness', 'DISEASE'], ['weakness', 'I-RRMS']]\n",
      "[['MS', 'DISEASE'], ['MS', 'B-RRMS']]\n",
      "[['MS', 'DISEASE'], ['MS', 'B-RRMS']]\n",
      "[['optic', 'DISEASE'], ['optic', 'I-RRMS']]\n",
      "[['neuritis', 'DISEASE'], ['neuritis', 'I-RRMS']]\n",
      "inscope: 8\n",
      "quantitative_00104 annotator2_quantitative_00104_correct\n",
      "quantitative_00104.txt\n"
     ]
    },
    {
     "name": "stderr",
     "output_type": "stream",
     "text": [
      "DEBUG:urllib3.connectionpool:https://huggingface.co:443 \"HEAD /alvaroalon2/biobert_diseases_ner/resolve/main/config.json HTTP/1.1\" 200 0\n",
      "DEBUG:urllib3.connectionpool:https://huggingface.co:443 \"HEAD /alvaroalon2/biobert_diseases_ner/resolve/main/tokenizer_config.json HTTP/1.1\" 200 0\n"
     ]
    },
    {
     "name": "stdout",
     "output_type": "stream",
     "text": [
      "0 21 142 2\n",
      "somevalue is zer0\n",
      "quantitative_00105 annotator2_quantitative_00105_correct\n",
      "quantitative_00105.txt\n"
     ]
    },
    {
     "name": "stderr",
     "output_type": "stream",
     "text": [
      "DEBUG:urllib3.connectionpool:https://huggingface.co:443 \"HEAD /alvaroalon2/biobert_diseases_ner/resolve/main/config.json HTTP/1.1\" 200 0\n",
      "DEBUG:urllib3.connectionpool:https://huggingface.co:443 \"HEAD /alvaroalon2/biobert_diseases_ner/resolve/main/tokenizer_config.json HTTP/1.1\" 200 0\n"
     ]
    },
    {
     "name": "stdout",
     "output_type": "stream",
     "text": [
      "2 78 1323 1\n",
      "[['Multiple', 'DISEASE'], ['Multiple', 'B-MS_no_subtype']]\n",
      "[['sclerosis', 'DISEASE'], ['sclerosis', 'I-MS_no_subtype']]\n",
      "inscope: 2\n",
      "quantitative_00106 annotator2_quantitative_00106_correct\n",
      "quantitative_00106.txt\n"
     ]
    },
    {
     "name": "stderr",
     "output_type": "stream",
     "text": [
      "DEBUG:urllib3.connectionpool:https://huggingface.co:443 \"HEAD /alvaroalon2/biobert_diseases_ner/resolve/main/config.json HTTP/1.1\" 200 0\n",
      "DEBUG:urllib3.connectionpool:https://huggingface.co:443 \"HEAD /alvaroalon2/biobert_diseases_ner/resolve/main/tokenizer_config.json HTTP/1.1\" 200 0\n"
     ]
    },
    {
     "name": "stdout",
     "output_type": "stream",
     "text": [
      "5 71 820 8\n",
      "[['MS', 'DISEASE'], ['MS', 'I-SPMS']]\n",
      "[['Multiple', 'DISEASE'], ['Multiple', 'B-SPMS']]\n",
      "[['sclerosis', 'DISEASE'], ['sclerosis', 'I-SPMS']]\n",
      "[['MS', 'DISEASE'], ['MS', 'B-SPMS']]\n",
      "[['MS', 'DISEASE'], ['MS', 'I-SPMS']]\n",
      "inscope: 5\n",
      "quantitative_00107 annotator2_quantitative_00107_correct\n",
      "quantitative_00107.txt\n"
     ]
    },
    {
     "name": "stderr",
     "output_type": "stream",
     "text": [
      "DEBUG:urllib3.connectionpool:https://huggingface.co:443 \"HEAD /alvaroalon2/biobert_diseases_ner/resolve/main/config.json HTTP/1.1\" 200 0\n",
      "DEBUG:urllib3.connectionpool:https://huggingface.co:443 \"HEAD /alvaroalon2/biobert_diseases_ner/resolve/main/tokenizer_config.json HTTP/1.1\" 200 0\n"
     ]
    },
    {
     "name": "stdout",
     "output_type": "stream",
     "text": [
      "12 88 1462 2\n",
      "[['Multiple', 'DISEASE'], ['Multiple', 'B-RRMS']]\n",
      "[['sclerosis', 'DISEASE'], ['sclerosis', 'I-RRMS']]\n",
      "[['multiple', 'DISEASE'], ['multiple', 'B-RRMS']]\n",
      "[['sclerosis', 'DISEASE'], ['sclerosis', 'I-RRMS']]\n",
      "[['multiple', 'DISEASE'], ['multiple', 'B-RRMS']]\n",
      "[['sclerosis', 'DISEASE'], ['sclerosis', 'I-RRMS']]\n",
      "[['Multiple', 'DISEASE'], ['Multiple', 'B-RRMS']]\n",
      "[['sclerosis', 'DISEASE'], ['sclerosis', 'I-RRMS']]\n",
      "[['multiple', 'DISEASE'], ['multiple', 'B-RRMS']]\n",
      "[['sclerosis', 'DISEASE'], ['sclerosis', 'I-RRMS']]\n",
      "[['multiple', 'DISEASE'], ['multiple', 'B-RRMS']]\n",
      "[['sclerosis', 'DISEASE'], ['sclerosis', 'I-RRMS']]\n",
      "inscope: 12\n",
      "quantitative_00108 annotator2_quantitative_00108_correct\n",
      "quantitative_00108.txt\n"
     ]
    },
    {
     "name": "stderr",
     "output_type": "stream",
     "text": [
      "DEBUG:urllib3.connectionpool:https://huggingface.co:443 \"HEAD /alvaroalon2/biobert_diseases_ner/resolve/main/config.json HTTP/1.1\" 200 0\n",
      "DEBUG:urllib3.connectionpool:https://huggingface.co:443 \"HEAD /alvaroalon2/biobert_diseases_ner/resolve/main/tokenizer_config.json HTTP/1.1\" 200 0\n"
     ]
    },
    {
     "name": "stdout",
     "output_type": "stream",
     "text": [
      "0 9 279 6\n",
      "somevalue is zer0\n",
      "quantitative_00109 annotator2_quantitative_00109_correct\n",
      "quantitative_00109.txt\n"
     ]
    },
    {
     "name": "stderr",
     "output_type": "stream",
     "text": [
      "DEBUG:urllib3.connectionpool:https://huggingface.co:443 \"HEAD /alvaroalon2/biobert_diseases_ner/resolve/main/config.json HTTP/1.1\" 200 0\n",
      "DEBUG:urllib3.connectionpool:https://huggingface.co:443 \"HEAD /alvaroalon2/biobert_diseases_ner/resolve/main/tokenizer_config.json HTTP/1.1\" 200 0\n"
     ]
    },
    {
     "name": "stdout",
     "output_type": "stream",
     "text": [
      "3 63 1165 2\n",
      "[['Multiple', 'DISEASE'], ['Multiple', 'B-MS_no_subtype']]\n",
      "[['sclerosis', 'DISEASE'], ['sclerosis', 'I-MS_no_subtype']]\n",
      "[['MS', 'DISEASE'], ['MS', 'B-MS_no_subtype']]\n",
      "inscope: 3\n",
      "quantitative_00110 annotator2_quantitative_00110_correct\n",
      "quantitative_00110.txt\n"
     ]
    },
    {
     "name": "stderr",
     "output_type": "stream",
     "text": [
      "DEBUG:urllib3.connectionpool:https://huggingface.co:443 \"HEAD /alvaroalon2/biobert_diseases_ner/resolve/main/config.json HTTP/1.1\" 200 0\n",
      "DEBUG:urllib3.connectionpool:https://huggingface.co:443 \"HEAD /alvaroalon2/biobert_diseases_ner/resolve/main/tokenizer_config.json HTTP/1.1\" 200 0\n"
     ]
    },
    {
     "name": "stdout",
     "output_type": "stream",
     "text": [
      "1 5 205 1\n",
      "[['MS', 'DISEASE'], ['MS', 'B-RRMS']]\n",
      "inscope: 1\n",
      "quantitative_00111 annotator2_quantitative_00111_correct\n",
      "quantitative_00111.txt\n"
     ]
    },
    {
     "name": "stderr",
     "output_type": "stream",
     "text": [
      "DEBUG:urllib3.connectionpool:https://huggingface.co:443 \"HEAD /alvaroalon2/biobert_diseases_ner/resolve/main/config.json HTTP/1.1\" 200 0\n",
      "DEBUG:urllib3.connectionpool:https://huggingface.co:443 \"HEAD /alvaroalon2/biobert_diseases_ner/resolve/main/tokenizer_config.json HTTP/1.1\" 200 0\n"
     ]
    },
    {
     "name": "stdout",
     "output_type": "stream",
     "text": [
      "4 32 783 15\n",
      "[['multiple', 'DISEASE'], ['multiple', 'I-RRMS']]\n",
      "[['sclerosis', 'DISEASE'], ['sclerosis', 'I-RRMS']]\n",
      "[['multiple', 'DISEASE'], ['multiple', 'I-RRMS']]\n",
      "[['sclerosis', 'DISEASE'], ['sclerosis', 'I-RRMS']]\n",
      "inscope: 4\n",
      "quantitative_00112 annotator2_quantitative_00112_correct\n",
      "quantitative_00112.txt\n"
     ]
    },
    {
     "name": "stderr",
     "output_type": "stream",
     "text": [
      "DEBUG:urllib3.connectionpool:https://huggingface.co:443 \"HEAD /alvaroalon2/biobert_diseases_ner/resolve/main/config.json HTTP/1.1\" 200 0\n",
      "DEBUG:urllib3.connectionpool:https://huggingface.co:443 \"HEAD /alvaroalon2/biobert_diseases_ner/resolve/main/tokenizer_config.json HTTP/1.1\" 200 0\n"
     ]
    },
    {
     "name": "stdout",
     "output_type": "stream",
     "text": [
      "0 8 228 1\n",
      "somevalue is zer0\n",
      "quantitative_00113 annotator2_quantitative_00113_correct\n",
      "quantitative_00113.txt\n"
     ]
    },
    {
     "name": "stderr",
     "output_type": "stream",
     "text": [
      "DEBUG:urllib3.connectionpool:https://huggingface.co:443 \"HEAD /alvaroalon2/biobert_diseases_ner/resolve/main/config.json HTTP/1.1\" 200 0\n",
      "DEBUG:urllib3.connectionpool:https://huggingface.co:443 \"HEAD /alvaroalon2/biobert_diseases_ner/resolve/main/tokenizer_config.json HTTP/1.1\" 200 0\n"
     ]
    },
    {
     "name": "stdout",
     "output_type": "stream",
     "text": [
      "4 85 1305 12\n",
      "[['SPMS', 'DISEASE'], ['SPMS', 'B-SPMS']]\n",
      "[['Multiple', 'DISEASE'], ['Multiple', 'B-SPMS']]\n",
      "[['sclerosis', 'DISEASE'], ['sclerosis', 'I-SPMS']]\n",
      "[['MS', 'DISEASE'], ['MS', 'B-SPMS']]\n",
      "inscope: 4\n",
      "quantitative_00114 annotator2_quantitative_00114_correct\n",
      "quantitative_00114.txt\n"
     ]
    },
    {
     "name": "stderr",
     "output_type": "stream",
     "text": [
      "DEBUG:urllib3.connectionpool:https://huggingface.co:443 \"HEAD /alvaroalon2/biobert_diseases_ner/resolve/main/config.json HTTP/1.1\" 200 0\n",
      "DEBUG:urllib3.connectionpool:https://huggingface.co:443 \"HEAD /alvaroalon2/biobert_diseases_ner/resolve/main/tokenizer_config.json HTTP/1.1\" 200 0\n"
     ]
    },
    {
     "name": "stdout",
     "output_type": "stream",
     "text": [
      "3 1 329 4\n",
      "[['multiple', 'DISEASE'], ['MULTIPLE', 'I-RRMS']]\n",
      "[['sclerosis', 'DISEASE'], ['SCLEROSIS', 'I-RRMS']]\n",
      "[['MS', 'DISEASE'], ['MS', 'B-RRMS']]\n",
      "inscope: 3\n",
      "quantitative_00115 annotator2_quantitative_00115_correct\n",
      "quantitative_00115.txt\n"
     ]
    },
    {
     "name": "stderr",
     "output_type": "stream",
     "text": [
      "DEBUG:urllib3.connectionpool:https://huggingface.co:443 \"HEAD /alvaroalon2/biobert_diseases_ner/resolve/main/config.json HTTP/1.1\" 200 0\n",
      "DEBUG:urllib3.connectionpool:https://huggingface.co:443 \"HEAD /alvaroalon2/biobert_diseases_ner/resolve/main/tokenizer_config.json HTTP/1.1\" 200 0\n"
     ]
    },
    {
     "name": "stdout",
     "output_type": "stream",
     "text": [
      "6 37 826 7\n",
      "[['multiple', 'DISEASE'], ['MULTIPLE', 'I-RRMS']]\n",
      "[['MS', 'DISEASE'], ['MS', 'B-RRMS']]\n",
      "[['multiple', 'DISEASE'], ['multiple', 'B-RRMS']]\n",
      "[['sclerosis', 'DISEASE'], ['SCLEROSIS', 'I-RRMS']]\n",
      "[['multiple', 'DISEASE'], ['MULTIPLE', 'I-RRMS']]\n",
      "[['sclerosis', 'DISEASE'], ['sclerosis', 'I-RRMS']]\n",
      "inscope: 6\n",
      "quantitative_00116 annotator2_quantitative_00116_correct\n",
      "quantitative_00116.txt\n"
     ]
    },
    {
     "name": "stderr",
     "output_type": "stream",
     "text": [
      "DEBUG:urllib3.connectionpool:https://huggingface.co:443 \"HEAD /alvaroalon2/biobert_diseases_ner/resolve/main/config.json HTTP/1.1\" 200 0\n",
      "DEBUG:urllib3.connectionpool:https://huggingface.co:443 \"HEAD /alvaroalon2/biobert_diseases_ner/resolve/main/tokenizer_config.json HTTP/1.1\" 200 0\n"
     ]
    },
    {
     "name": "stdout",
     "output_type": "stream",
     "text": [
      "1 43 479 1\n",
      "[['MS', 'DISEASE'], ['MS', 'B-RRMS']]\n",
      "inscope: 1\n",
      "quantitative_00117 annotator2_quantitative_00117_correct\n",
      "quantitative_00117.txt\n"
     ]
    },
    {
     "name": "stderr",
     "output_type": "stream",
     "text": [
      "DEBUG:urllib3.connectionpool:https://huggingface.co:443 \"HEAD /alvaroalon2/biobert_diseases_ner/resolve/main/config.json HTTP/1.1\" 200 0\n",
      "DEBUG:urllib3.connectionpool:https://huggingface.co:443 \"HEAD /alvaroalon2/biobert_diseases_ner/resolve/main/tokenizer_config.json HTTP/1.1\" 200 0\n"
     ]
    },
    {
     "name": "stdout",
     "output_type": "stream",
     "text": [
      "6 34 1017 10\n",
      "[['multiple', 'DISEASE'], ['multiple', 'I-RRMS']]\n",
      "[['sclerosis', 'DISEASE'], ['sclerosis', 'I-RRMS']]\n",
      "[['multiple', 'DISEASE'], ['multiple', 'I-RRMS']]\n",
      "[['sclerosis', 'DISEASE'], ['sclerosis', 'I-RRMS']]\n",
      "[['multiple', 'DISEASE'], ['multiple', 'I-RRMS']]\n",
      "[['sclerosis', 'DISEASE'], ['sclerosis', 'I-RRMS']]\n",
      "inscope: 6\n",
      "quantitative_00118 annotator2_quantitative_00118_correct\n",
      "quantitative_00118.txt\n"
     ]
    },
    {
     "name": "stderr",
     "output_type": "stream",
     "text": [
      "DEBUG:urllib3.connectionpool:https://huggingface.co:443 \"HEAD /alvaroalon2/biobert_diseases_ner/resolve/main/config.json HTTP/1.1\" 200 0\n",
      "DEBUG:urllib3.connectionpool:https://huggingface.co:443 \"HEAD /alvaroalon2/biobert_diseases_ner/resolve/main/tokenizer_config.json HTTP/1.1\" 200 0\n"
     ]
    },
    {
     "name": "stdout",
     "output_type": "stream",
     "text": [
      "4 71 1135 4\n",
      "[['Multiple', 'DISEASE'], ['Multiple', 'B-PPMS']]\n",
      "[['sclerosis', 'DISEASE'], ['sclerosis', 'I-PPMS']]\n",
      "[['Multiple', 'DISEASE'], ['Multiple', 'I-PPMS']]\n",
      "[['Sclerosis', 'DISEASE'], ['Sclerosis', 'I-PPMS']]\n",
      "inscope: 4\n",
      "quantitative_00119 annotator2_quantitative_00119_correct\n",
      "quantitative_00119.txt\n"
     ]
    },
    {
     "name": "stderr",
     "output_type": "stream",
     "text": [
      "DEBUG:urllib3.connectionpool:https://huggingface.co:443 \"HEAD /alvaroalon2/biobert_diseases_ner/resolve/main/config.json HTTP/1.1\" 200 0\n",
      "DEBUG:urllib3.connectionpool:https://huggingface.co:443 \"HEAD /alvaroalon2/biobert_diseases_ner/resolve/main/tokenizer_config.json HTTP/1.1\" 200 0\n"
     ]
    },
    {
     "name": "stdout",
     "output_type": "stream",
     "text": [
      "2 1 256 7\n",
      "[['multiple', 'DISEASE'], ['MULTIPLE', 'I-RRMS']]\n",
      "[['sclerosis', 'DISEASE'], ['SCLEROSIS', 'I-RRMS']]\n",
      "inscope: 2\n",
      "quantitative_00120 annotator2_quantitative_00120_correct\n",
      "quantitative_00120.txt\n"
     ]
    },
    {
     "name": "stderr",
     "output_type": "stream",
     "text": [
      "DEBUG:urllib3.connectionpool:https://huggingface.co:443 \"HEAD /alvaroalon2/biobert_diseases_ner/resolve/main/config.json HTTP/1.1\" 200 0\n",
      "DEBUG:urllib3.connectionpool:https://huggingface.co:443 \"HEAD /alvaroalon2/biobert_diseases_ner/resolve/main/tokenizer_config.json HTTP/1.1\" 200 0\n"
     ]
    },
    {
     "name": "stdout",
     "output_type": "stream",
     "text": [
      "3 18 357 10\n",
      "[['multiple', 'DISEASE'], ['multiple', 'B-RRMS']]\n",
      "[['sclerosis', 'DISEASE'], ['sclerosis', 'I-RRMS']]\n",
      "[['MS', 'DISEASE'], ['MS', 'B-RRMS']]\n",
      "inscope: 3\n",
      "quantitative_00121 annotator2_quantitative_00121_correct\n",
      "quantitative_00121.txt\n"
     ]
    },
    {
     "name": "stderr",
     "output_type": "stream",
     "text": [
      "DEBUG:urllib3.connectionpool:https://huggingface.co:443 \"HEAD /alvaroalon2/biobert_diseases_ner/resolve/main/config.json HTTP/1.1\" 200 0\n",
      "DEBUG:urllib3.connectionpool:https://huggingface.co:443 \"HEAD /alvaroalon2/biobert_diseases_ner/resolve/main/tokenizer_config.json HTTP/1.1\" 200 0\n"
     ]
    },
    {
     "name": "stdout",
     "output_type": "stream",
     "text": [
      "1 3 228 1\n",
      "[['RRMS', 'DISEASE'], ['RRMS', 'B-RRMS']]\n",
      "inscope: 1\n",
      "quantitative_00122 annotator2_quantitative_00122_correct\n",
      "quantitative_00122.txt\n"
     ]
    },
    {
     "name": "stderr",
     "output_type": "stream",
     "text": [
      "DEBUG:urllib3.connectionpool:https://huggingface.co:443 \"HEAD /alvaroalon2/biobert_diseases_ner/resolve/main/config.json HTTP/1.1\" 200 0\n",
      "DEBUG:urllib3.connectionpool:https://huggingface.co:443 \"HEAD /alvaroalon2/biobert_diseases_ner/resolve/main/tokenizer_config.json HTTP/1.1\" 200 0\n"
     ]
    },
    {
     "name": "stdout",
     "output_type": "stream",
     "text": [
      "2 55 568 3\n",
      "[['multiple', 'DISEASE'], ['multiple', 'B-RRMS']]\n",
      "[['sclerosis', 'DISEASE'], ['sclerosis', 'I-RRMS']]\n",
      "inscope: 2\n",
      "quantitative_00123 annotator2_quantitative_00123_correct\n",
      "quantitative_00123.txt\n"
     ]
    },
    {
     "name": "stderr",
     "output_type": "stream",
     "text": [
      "DEBUG:urllib3.connectionpool:https://huggingface.co:443 \"HEAD /alvaroalon2/biobert_diseases_ner/resolve/main/config.json HTTP/1.1\" 200 0\n",
      "DEBUG:urllib3.connectionpool:https://huggingface.co:443 \"HEAD /alvaroalon2/biobert_diseases_ner/resolve/main/tokenizer_config.json HTTP/1.1\" 200 0\n"
     ]
    },
    {
     "name": "stdout",
     "output_type": "stream",
     "text": [
      "6 46 1415 4\n",
      "[['MS', 'DISEASE'], ['MS', 'I-SPMS']]\n",
      "[['multiple', 'DISEASE'], ['multiple', 'B-SPMS']]\n",
      "[['sclerosis', 'DISEASE'], ['sclerosis', 'I-SPMS']]\n",
      "[['Multiple', 'DISEASE'], ['Multiple', 'B-SPMS']]\n",
      "[['sclerosis', 'DISEASE'], ['sclerosis', 'I-SPMS']]\n",
      "[['MS', 'DISEASE'], ['MS', 'I-SPMS']]\n",
      "inscope: 6\n",
      "quantitative_00124 annotator2_quantitative_00124_correct\n",
      "quantitative_00124.txt\n"
     ]
    },
    {
     "name": "stderr",
     "output_type": "stream",
     "text": [
      "DEBUG:urllib3.connectionpool:https://huggingface.co:443 \"HEAD /alvaroalon2/biobert_diseases_ner/resolve/main/config.json HTTP/1.1\" 200 0\n",
      "DEBUG:urllib3.connectionpool:https://huggingface.co:443 \"HEAD /alvaroalon2/biobert_diseases_ner/resolve/main/tokenizer_config.json HTTP/1.1\" 200 0\n"
     ]
    },
    {
     "name": "stdout",
     "output_type": "stream",
     "text": [
      "1 8 193 3\n",
      "[['RRMS', 'DISEASE'], ['RRMS', 'B-RRMS']]\n",
      "inscope: 1\n",
      "quantitative_00125 annotator2_quantitative_00125_correct\n",
      "quantitative_00125.txt\n"
     ]
    },
    {
     "name": "stderr",
     "output_type": "stream",
     "text": [
      "DEBUG:urllib3.connectionpool:https://huggingface.co:443 \"HEAD /alvaroalon2/biobert_diseases_ner/resolve/main/config.json HTTP/1.1\" 200 0\n",
      "DEBUG:urllib3.connectionpool:https://huggingface.co:443 \"HEAD /alvaroalon2/biobert_diseases_ner/resolve/main/tokenizer_config.json HTTP/1.1\" 200 0\n"
     ]
    },
    {
     "name": "stdout",
     "output_type": "stream",
     "text": [
      "0 8 170 2\n",
      "somevalue is zer0\n",
      "quantitative_00126 annotator2_quantitative_00126_correct\n",
      "quantitative_00126.txt\n"
     ]
    },
    {
     "name": "stderr",
     "output_type": "stream",
     "text": [
      "DEBUG:urllib3.connectionpool:https://huggingface.co:443 \"HEAD /alvaroalon2/biobert_diseases_ner/resolve/main/config.json HTTP/1.1\" 200 0\n",
      "DEBUG:urllib3.connectionpool:https://huggingface.co:443 \"HEAD /alvaroalon2/biobert_diseases_ner/resolve/main/tokenizer_config.json HTTP/1.1\" 200 0\n"
     ]
    },
    {
     "name": "stdout",
     "output_type": "stream",
     "text": [
      "3 29 1108 4\n",
      "[['MS', 'DISEASE'], ['MS', 'B-RRMS']]\n",
      "[['Multiple', 'DISEASE'], ['Multiple', 'B-RRMS']]\n",
      "[['sclerosis', 'DISEASE'], ['sclerosis', 'I-RRMS']]\n",
      "inscope: 3\n",
      "quantitative_00127 annotator2_quantitative_00127_correct\n",
      "quantitative_00127.txt\n"
     ]
    },
    {
     "name": "stderr",
     "output_type": "stream",
     "text": [
      "DEBUG:urllib3.connectionpool:https://huggingface.co:443 \"HEAD /alvaroalon2/biobert_diseases_ner/resolve/main/config.json HTTP/1.1\" 200 0\n",
      "DEBUG:urllib3.connectionpool:https://huggingface.co:443 \"HEAD /alvaroalon2/biobert_diseases_ner/resolve/main/tokenizer_config.json HTTP/1.1\" 200 0\n"
     ]
    },
    {
     "name": "stdout",
     "output_type": "stream",
     "text": [
      "4 15 276 8\n",
      "[['MS', 'DISEASE'], ['MS', 'I-SPMS']]\n",
      "[['MS', 'DISEASE'], ['MS', 'B-SPMS']]\n",
      "[['MS', 'DISEASE'], ['MS', 'I-SPMS']]\n",
      "[['falling', 'DISEASE'], ['falling', 'I-SPMS']]\n",
      "inscope: 4\n",
      "quantitative_00128 annotator2_quantitative_00128_correct\n",
      "quantitative_00128.txt\n"
     ]
    },
    {
     "name": "stderr",
     "output_type": "stream",
     "text": [
      "DEBUG:urllib3.connectionpool:https://huggingface.co:443 \"HEAD /alvaroalon2/biobert_diseases_ner/resolve/main/config.json HTTP/1.1\" 200 0\n",
      "DEBUG:urllib3.connectionpool:https://huggingface.co:443 \"HEAD /alvaroalon2/biobert_diseases_ner/resolve/main/tokenizer_config.json HTTP/1.1\" 200 0\n"
     ]
    },
    {
     "name": "stdout",
     "output_type": "stream",
     "text": [
      "3 10 321 9\n",
      "[['multiple', 'DISEASE'], ['MULTIPLE', 'I-RRMS']]\n",
      "[['sclerosis', 'DISEASE'], ['SCLEROSIS', 'I-RRMS']]\n",
      "[['MS', 'DISEASE'], ['MS', 'B-RRMS']]\n",
      "inscope: 3\n",
      "quantitative_00129 annotator2_quantitative_00129_correct\n",
      "quantitative_00129.txt\n"
     ]
    },
    {
     "name": "stderr",
     "output_type": "stream",
     "text": [
      "DEBUG:urllib3.connectionpool:https://huggingface.co:443 \"HEAD /alvaroalon2/biobert_diseases_ner/resolve/main/config.json HTTP/1.1\" 200 0\n",
      "DEBUG:urllib3.connectionpool:https://huggingface.co:443 \"HEAD /alvaroalon2/biobert_diseases_ner/resolve/main/tokenizer_config.json HTTP/1.1\" 200 0\n"
     ]
    },
    {
     "name": "stdout",
     "output_type": "stream",
     "text": [
      "5 69 1130 3\n",
      "[['Multiple', 'DISEASE'], ['Multiple', 'B-RRMS']]\n",
      "[['sclerosis', 'DISEASE'], ['sclerosis', 'I-RRMS']]\n",
      "[['Multiple', 'DISEASE'], ['Multiple', 'B-RRMS']]\n",
      "[['sclerosis', 'DISEASE'], ['sclerosis', 'I-RRMS']]\n",
      "[['MS', 'DISEASE'], ['MS', 'B-RRMS']]\n",
      "inscope: 5\n",
      "quantitative_00130 annotator2_quantitative_00130_correct\n",
      "quantitative_00130.txt\n"
     ]
    },
    {
     "name": "stderr",
     "output_type": "stream",
     "text": [
      "DEBUG:urllib3.connectionpool:https://huggingface.co:443 \"HEAD /alvaroalon2/biobert_diseases_ner/resolve/main/config.json HTTP/1.1\" 200 0\n",
      "DEBUG:urllib3.connectionpool:https://huggingface.co:443 \"HEAD /alvaroalon2/biobert_diseases_ner/resolve/main/tokenizer_config.json HTTP/1.1\" 200 0\n"
     ]
    },
    {
     "name": "stdout",
     "output_type": "stream",
     "text": [
      "5 129 1559 4\n",
      "[['MS', 'DISEASE'], ['MS', 'B-RRMS']]\n",
      "[['Multiple', 'DISEASE'], ['Multiple', 'B-RRMS']]\n",
      "[['sclerosis', 'DISEASE'], ['sclerosis', 'I-RRMS']]\n",
      "[['Multiple', 'DISEASE'], ['Multiple', 'B-RRMS']]\n",
      "[['sclerosis', 'DISEASE'], ['sclerosis', 'I-RRMS']]\n",
      "inscope: 5\n",
      "quantitative_00131 annotator2_quantitative_00131_correct\n",
      "quantitative_00131.txt\n"
     ]
    },
    {
     "name": "stderr",
     "output_type": "stream",
     "text": [
      "DEBUG:urllib3.connectionpool:https://huggingface.co:443 \"HEAD /alvaroalon2/biobert_diseases_ner/resolve/main/config.json HTTP/1.1\" 200 0\n",
      "DEBUG:urllib3.connectionpool:https://huggingface.co:443 \"HEAD /alvaroalon2/biobert_diseases_ner/resolve/main/tokenizer_config.json HTTP/1.1\" 200 0\n"
     ]
    },
    {
     "name": "stdout",
     "output_type": "stream",
     "text": [
      "9 64 1575 2\n",
      "[['multiple', 'DISEASE'], ['multiple', 'B-RRMS']]\n",
      "[['sclerosis', 'DISEASE'], ['sclerosis', 'I-RRMS']]\n",
      "[['Multiple', 'DISEASE'], ['Multiple', 'B-RRMS']]\n",
      "[['sclerosis', 'DISEASE'], ['sclerosis', 'I-RRMS']]\n",
      "[['multiple', 'DISEASE'], ['multiple', 'B-RRMS']]\n",
      "[['sclerosis', 'DISEASE'], ['sclerosis', 'I-RRMS']]\n",
      "[['Multiple', 'DISEASE'], ['Multiple', 'B-RRMS']]\n",
      "[['sclerosis', 'DISEASE'], ['sclerosis', 'I-RRMS']]\n",
      "[['MS', 'DISEASE'], ['MS', 'B-RRMS']]\n",
      "inscope: 9\n",
      "quantitative_00132 annotator2_quantitative_00132_correct\n",
      "quantitative_00132.txt\n"
     ]
    },
    {
     "name": "stderr",
     "output_type": "stream",
     "text": [
      "DEBUG:urllib3.connectionpool:https://huggingface.co:443 \"HEAD /alvaroalon2/biobert_diseases_ner/resolve/main/config.json HTTP/1.1\" 200 0\n",
      "DEBUG:urllib3.connectionpool:https://huggingface.co:443 \"HEAD /alvaroalon2/biobert_diseases_ner/resolve/main/tokenizer_config.json HTTP/1.1\" 200 0\n"
     ]
    },
    {
     "name": "stdout",
     "output_type": "stream",
     "text": [
      "1 6 231 1\n",
      "[['MS', 'DISEASE'], ['MS', 'B-RRMS']]\n",
      "inscope: 1\n",
      "quantitative_00133 annotator2_quantitative_00133_correct\n",
      "quantitative_00133.txt\n"
     ]
    },
    {
     "name": "stderr",
     "output_type": "stream",
     "text": [
      "DEBUG:urllib3.connectionpool:https://huggingface.co:443 \"HEAD /alvaroalon2/biobert_diseases_ner/resolve/main/config.json HTTP/1.1\" 200 0\n",
      "DEBUG:urllib3.connectionpool:https://huggingface.co:443 \"HEAD /alvaroalon2/biobert_diseases_ner/resolve/main/tokenizer_config.json HTTP/1.1\" 200 0\n"
     ]
    },
    {
     "name": "stdout",
     "output_type": "stream",
     "text": [
      "0 8 159 2\n",
      "somevalue is zer0\n",
      "quantitative_00134 annotator2_quantitative_00134_correct\n",
      "quantitative_00134.txt\n"
     ]
    },
    {
     "name": "stderr",
     "output_type": "stream",
     "text": [
      "DEBUG:urllib3.connectionpool:https://huggingface.co:443 \"HEAD /alvaroalon2/biobert_diseases_ner/resolve/main/config.json HTTP/1.1\" 200 0\n",
      "DEBUG:urllib3.connectionpool:https://huggingface.co:443 \"HEAD /alvaroalon2/biobert_diseases_ner/resolve/main/tokenizer_config.json HTTP/1.1\" 200 0\n"
     ]
    },
    {
     "name": "stdout",
     "output_type": "stream",
     "text": [
      "0 14 158 2\n",
      "somevalue is zer0\n",
      "quantitative_00135 annotator2_quantitative_00135_correct\n",
      "quantitative_00135.txt\n"
     ]
    },
    {
     "name": "stderr",
     "output_type": "stream",
     "text": [
      "DEBUG:urllib3.connectionpool:https://huggingface.co:443 \"HEAD /alvaroalon2/biobert_diseases_ner/resolve/main/config.json HTTP/1.1\" 200 0\n",
      "DEBUG:urllib3.connectionpool:https://huggingface.co:443 \"HEAD /alvaroalon2/biobert_diseases_ner/resolve/main/tokenizer_config.json HTTP/1.1\" 200 0\n"
     ]
    },
    {
     "name": "stdout",
     "output_type": "stream",
     "text": [
      "0 10 194 2\n",
      "somevalue is zer0\n",
      "quantitative_00136 annotator2_quantitative_00136_correct\n",
      "quantitative_00136.txt\n"
     ]
    },
    {
     "name": "stderr",
     "output_type": "stream",
     "text": [
      "DEBUG:urllib3.connectionpool:https://huggingface.co:443 \"HEAD /alvaroalon2/biobert_diseases_ner/resolve/main/config.json HTTP/1.1\" 200 0\n",
      "DEBUG:urllib3.connectionpool:https://huggingface.co:443 \"HEAD /alvaroalon2/biobert_diseases_ner/resolve/main/tokenizer_config.json HTTP/1.1\" 200 0\n"
     ]
    },
    {
     "name": "stdout",
     "output_type": "stream",
     "text": [
      "1 20 208 4\n",
      "[['MS', 'DISEASE'], ['MS', 'B-RRMS']]\n",
      "inscope: 1\n",
      "quantitative_00137 annotator2_quantitative_00137_correct\n",
      "quantitative_00137.txt\n"
     ]
    },
    {
     "name": "stderr",
     "output_type": "stream",
     "text": [
      "DEBUG:urllib3.connectionpool:https://huggingface.co:443 \"HEAD /alvaroalon2/biobert_diseases_ner/resolve/main/config.json HTTP/1.1\" 200 0\n",
      "DEBUG:urllib3.connectionpool:https://huggingface.co:443 \"HEAD /alvaroalon2/biobert_diseases_ner/resolve/main/tokenizer_config.json HTTP/1.1\" 200 0\n"
     ]
    },
    {
     "name": "stdout",
     "output_type": "stream",
     "text": [
      "7 81 1416 14\n",
      "[['multiple', 'DISEASE'], ['multiple', 'I-RRMS']]\n",
      "[['sclerosis', 'DISEASE'], ['sclerosis', 'I-RRMS']]\n",
      "[['multiple', 'DISEASE'], ['multiple', 'B-RRMS']]\n",
      "[['sclerosis', 'DISEASE'], ['sclerosis', 'I-RRMS']]\n",
      "[['multiple', 'DISEASE'], ['multiple', 'I-RRMS']]\n",
      "[['sclerosis', 'DISEASE'], ['sclerosis', 'I-RRMS']]\n",
      "[['MS', 'DISEASE'], ['MS', 'B-RRMS']]\n",
      "inscope: 7\n",
      "quantitative_00138 annotator2_quantitative_00138_correct\n",
      "quantitative_00138.txt\n"
     ]
    },
    {
     "name": "stderr",
     "output_type": "stream",
     "text": [
      "DEBUG:urllib3.connectionpool:https://huggingface.co:443 \"HEAD /alvaroalon2/biobert_diseases_ner/resolve/main/config.json HTTP/1.1\" 200 0\n",
      "DEBUG:urllib3.connectionpool:https://huggingface.co:443 \"HEAD /alvaroalon2/biobert_diseases_ner/resolve/main/tokenizer_config.json HTTP/1.1\" 200 0\n"
     ]
    },
    {
     "name": "stdout",
     "output_type": "stream",
     "text": [
      "3 44 836 3\n",
      "[['MS', 'DISEASE'], ['MS', 'B-MS_no_subtype']]\n",
      "[['MS', 'DISEASE'], ['MS', 'B-MS_no_subtype']]\n",
      "[['MS', 'DISEASE'], ['MS', 'B-MS_no_subtype']]\n",
      "inscope: 3\n",
      "quantitative_00139 annotator2_quantitative_00139_correct\n",
      "quantitative_00139.txt\n"
     ]
    },
    {
     "name": "stderr",
     "output_type": "stream",
     "text": [
      "DEBUG:urllib3.connectionpool:https://huggingface.co:443 \"HEAD /alvaroalon2/biobert_diseases_ner/resolve/main/config.json HTTP/1.1\" 200 0\n",
      "DEBUG:urllib3.connectionpool:https://huggingface.co:443 \"HEAD /alvaroalon2/biobert_diseases_ner/resolve/main/tokenizer_config.json HTTP/1.1\" 200 0\n"
     ]
    },
    {
     "name": "stdout",
     "output_type": "stream",
     "text": [
      "2 8 286 4\n",
      "[['MS', 'DISEASE'], ['MS', 'B-RRMS']]\n",
      "[['MS', 'DISEASE'], ['MS', 'B-RRMS']]\n",
      "inscope: 2\n",
      "quantitative_00140 annotator2_quantitative_00140_correct\n",
      "quantitative_00140.txt\n"
     ]
    },
    {
     "name": "stderr",
     "output_type": "stream",
     "text": [
      "DEBUG:urllib3.connectionpool:https://huggingface.co:443 \"HEAD /alvaroalon2/biobert_diseases_ner/resolve/main/config.json HTTP/1.1\" 200 0\n"
     ]
    },
    {
     "name": "stdout",
     "output_type": "stream",
     "text": [
      "6 125 1499 5\n",
      "[['multiple', 'DISEASE'], ['multiple', 'B-RRMS']]\n",
      "[['sclerosis', 'DISEASE'], ['sclerosis', 'I-RRMS']]\n",
      "[['sclerosis', 'DISEASE'], ['sclerosis', 'I-RRMS']]\n",
      "[['MS', 'DISEASE'], ['MS', 'B-RRMS']]\n",
      "[['multiple', 'DISEASE'], ['multiple', 'B-RRMS']]\n",
      "[['sclerosis', 'DISEASE'], ['sclerosis', 'I-RRMS']]\n",
      "inscope: 6\n",
      "quantitative_00141 annotator2_quantitative_00141_correct\n",
      "quantitative_00141.txt\n"
     ]
    },
    {
     "name": "stderr",
     "output_type": "stream",
     "text": [
      "DEBUG:urllib3.connectionpool:https://huggingface.co:443 \"HEAD /alvaroalon2/biobert_diseases_ner/resolve/main/tokenizer_config.json HTTP/1.1\" 200 0\n",
      "DEBUG:urllib3.connectionpool:https://huggingface.co:443 \"HEAD /alvaroalon2/biobert_diseases_ner/resolve/main/config.json HTTP/1.1\" 200 0\n",
      "DEBUG:urllib3.connectionpool:https://huggingface.co:443 \"HEAD /alvaroalon2/biobert_diseases_ner/resolve/main/tokenizer_config.json HTTP/1.1\" 200 0\n"
     ]
    },
    {
     "name": "stdout",
     "output_type": "stream",
     "text": [
      "12 68 924 16\n",
      "[['multiple', 'DISEASE'], ['multiple', 'I-RRMS']]\n",
      "[['sclerosis', 'DISEASE'], ['sclerosis', 'I-RRMS']]\n",
      "[['multiple', 'DISEASE'], ['multiple', 'I-RRMS']]\n",
      "[['sclerosis', 'DISEASE'], ['sclerosis', 'I-RRMS']]\n",
      "[['multiple', 'DISEASE'], ['multiple', 'B-RRMS']]\n",
      "[['sclerosis', 'DISEASE'], ['sclerosis', 'I-RRMS']]\n",
      "[['multiple', 'DISEASE'], ['multiple', 'B-RRMS']]\n",
      "[['sclerosis', 'DISEASE'], ['sclerosis', 'I-RRMS']]\n",
      "[['multiple', 'DISEASE'], ['multiple', 'I-RRMS']]\n",
      "[['sclerosis', 'DISEASE'], ['sclerosis', 'I-RRMS']]\n",
      "[['multiple', 'DISEASE'], ['multiple', 'B-RRMS']]\n",
      "[['sclerosis', 'DISEASE'], ['sclerosis', 'I-RRMS']]\n",
      "inscope: 12\n",
      "quantitative_00142 annotator2_quantitative_00142_correct\n",
      "quantitative_00142.txt\n"
     ]
    },
    {
     "name": "stderr",
     "output_type": "stream",
     "text": [
      "DEBUG:urllib3.connectionpool:https://huggingface.co:443 \"HEAD /alvaroalon2/biobert_diseases_ner/resolve/main/config.json HTTP/1.1\" 200 0\n",
      "DEBUG:urllib3.connectionpool:https://huggingface.co:443 \"HEAD /alvaroalon2/biobert_diseases_ner/resolve/main/tokenizer_config.json HTTP/1.1\" 200 0\n"
     ]
    },
    {
     "name": "stdout",
     "output_type": "stream",
     "text": [
      "0 38 887 9\n",
      "somevalue is zer0\n",
      "quantitative_00143 annotator2_quantitative_00143_correct\n",
      "quantitative_00143.txt\n"
     ]
    },
    {
     "name": "stderr",
     "output_type": "stream",
     "text": [
      "DEBUG:urllib3.connectionpool:https://huggingface.co:443 \"HEAD /alvaroalon2/biobert_diseases_ner/resolve/main/config.json HTTP/1.1\" 200 0\n",
      "DEBUG:urllib3.connectionpool:https://huggingface.co:443 \"HEAD /alvaroalon2/biobert_diseases_ner/resolve/main/tokenizer_config.json HTTP/1.1\" 200 0\n"
     ]
    },
    {
     "name": "stdout",
     "output_type": "stream",
     "text": [
      "5 59 1052 5\n",
      "[['MS', 'DISEASE'], ['MS', 'B-RRMS']]\n",
      "[['MS', 'DISEASE'], ['MS', 'B-RRMS']]\n",
      "[['multiple', 'DISEASE'], ['MULTIPLE', 'I-RRMS']]\n",
      "[['sclerosis', 'DISEASE'], ['SCLEROSIS', 'I-RRMS']]\n",
      "[['MS', 'DISEASE'], ['MS', 'B-RRMS']]\n",
      "inscope: 5\n",
      "quantitative_00144 annotator2_quantitative_00144_correct\n",
      "quantitative_00144.txt\n"
     ]
    },
    {
     "name": "stderr",
     "output_type": "stream",
     "text": [
      "DEBUG:urllib3.connectionpool:https://huggingface.co:443 \"HEAD /alvaroalon2/biobert_diseases_ner/resolve/main/config.json HTTP/1.1\" 200 0\n",
      "DEBUG:urllib3.connectionpool:https://huggingface.co:443 \"HEAD /alvaroalon2/biobert_diseases_ner/resolve/main/tokenizer_config.json HTTP/1.1\" 200 0\n"
     ]
    },
    {
     "name": "stdout",
     "output_type": "stream",
     "text": [
      "6 97 1368 6\n",
      "[['MS', 'DISEASE'], ['MS', 'I-SPMS']]\n",
      "[['Multiple', 'DISEASE'], ['Multiple', 'B-SPMS']]\n",
      "[['sclerosis', 'DISEASE'], ['sclerosis', 'I-SPMS']]\n",
      "[['MS', 'DISEASE'], ['MS', 'B-SPMS']]\n",
      "[['MS', 'DISEASE'], ['MS', 'B-SPMS']]\n",
      "[['MS', 'DISEASE'], ['MS', 'I-SPMS']]\n",
      "inscope: 6\n",
      "quantitative_00145 annotator2_quantitative_00145_correct\n",
      "quantitative_00145.txt\n"
     ]
    },
    {
     "name": "stderr",
     "output_type": "stream",
     "text": [
      "DEBUG:urllib3.connectionpool:https://huggingface.co:443 \"HEAD /alvaroalon2/biobert_diseases_ner/resolve/main/config.json HTTP/1.1\" 200 0\n",
      "DEBUG:urllib3.connectionpool:https://huggingface.co:443 \"HEAD /alvaroalon2/biobert_diseases_ner/resolve/main/tokenizer_config.json HTTP/1.1\" 200 0\n"
     ]
    },
    {
     "name": "stdout",
     "output_type": "stream",
     "text": [
      "7 56 1109 9\n",
      "[['MS', 'DISEASE'], ['MS', 'B-RRMS']]\n",
      "[['-', 'DISEASE'], ['-', 'I-RRMS']]\n",
      "[['remitting', 'DISEASE'], ['remitting', 'I-RRMS']]\n",
      "[['MS', 'DISEASE'], ['MS', 'I-RRMS']]\n",
      "[['MS', 'DISEASE'], ['MS', 'B-RRMS']]\n",
      "[['MS', 'DISEASE'], ['MS', 'I-RRMS']]\n",
      "[['MS', 'DISEASE'], ['MS', 'I-RRMS']]\n",
      "inscope: 7\n",
      "quantitative_00147 annotator2_quantitative_00147_correct\n",
      "quantitative_00147.txt\n"
     ]
    },
    {
     "name": "stderr",
     "output_type": "stream",
     "text": [
      "DEBUG:urllib3.connectionpool:https://huggingface.co:443 \"HEAD /alvaroalon2/biobert_diseases_ner/resolve/main/config.json HTTP/1.1\" 200 0\n",
      "DEBUG:urllib3.connectionpool:https://huggingface.co:443 \"HEAD /alvaroalon2/biobert_diseases_ner/resolve/main/tokenizer_config.json HTTP/1.1\" 200 0\n"
     ]
    },
    {
     "name": "stdout",
     "output_type": "stream",
     "text": [
      "4 71 1481 11\n",
      "[['MS', 'DISEASE'], ['MS', 'I-PPMS']]\n",
      "[['MS', 'DISEASE'], ['MS', 'I-PPMS']]\n",
      "[['sclerosis', 'DISEASE'], ['sclerosis', 'I-PPMS']]\n",
      "[['MS', 'DISEASE'], ['MS', 'I-PPMS']]\n",
      "inscope: 4\n",
      "quantitative_00148 annotator2_quantitative_00148_correct\n",
      "quantitative_00148.txt\n"
     ]
    },
    {
     "name": "stderr",
     "output_type": "stream",
     "text": [
      "DEBUG:urllib3.connectionpool:https://huggingface.co:443 \"HEAD /alvaroalon2/biobert_diseases_ner/resolve/main/config.json HTTP/1.1\" 200 0\n",
      "DEBUG:urllib3.connectionpool:https://huggingface.co:443 \"HEAD /alvaroalon2/biobert_diseases_ner/resolve/main/tokenizer_config.json HTTP/1.1\" 200 0\n"
     ]
    },
    {
     "name": "stdout",
     "output_type": "stream",
     "text": [
      "4 13 473 4\n",
      "[['multiple', 'DISEASE'], ['multiple', 'B-RRMS']]\n",
      "[['sclerosis', 'DISEASE'], ['sclerosis', 'I-RRMS']]\n",
      "[['multiple', 'DISEASE'], ['MULTIPLE', 'I-RRMS']]\n",
      "[['sclerosis', 'DISEASE'], ['SCLEROSIS', 'I-RRMS']]\n",
      "inscope: 4\n",
      "quantitative_00149 annotator2_quantitative_00149_correct\n",
      "quantitative_00149.txt\n"
     ]
    },
    {
     "name": "stderr",
     "output_type": "stream",
     "text": [
      "DEBUG:urllib3.connectionpool:https://huggingface.co:443 \"HEAD /alvaroalon2/biobert_diseases_ner/resolve/main/config.json HTTP/1.1\" 200 0\n",
      "DEBUG:urllib3.connectionpool:https://huggingface.co:443 \"HEAD /alvaroalon2/biobert_diseases_ner/resolve/main/tokenizer_config.json HTTP/1.1\" 200 0\n"
     ]
    },
    {
     "name": "stdout",
     "output_type": "stream",
     "text": [
      "4 26 711 1\n",
      "[['multiple', 'DISEASE'], ['multiple', 'B-MS_no_subtype']]\n",
      "[['sclerosis', 'DISEASE'], ['sclerosis', 'I-MS_no_subtype']]\n",
      "[['Multiple', 'DISEASE'], ['Multiple', 'B-MS_no_subtype']]\n",
      "[['sclerosis', 'DISEASE'], ['sclerosis', 'I-MS_no_subtype']]\n",
      "inscope: 4\n",
      "quantitative_00150 annotator2_quantitative_00150_correct\n",
      "quantitative_00150.txt\n"
     ]
    },
    {
     "name": "stderr",
     "output_type": "stream",
     "text": [
      "DEBUG:urllib3.connectionpool:https://huggingface.co:443 \"HEAD /alvaroalon2/biobert_diseases_ner/resolve/main/config.json HTTP/1.1\" 200 0\n",
      "DEBUG:urllib3.connectionpool:https://huggingface.co:443 \"HEAD /alvaroalon2/biobert_diseases_ner/resolve/main/tokenizer_config.json HTTP/1.1\" 200 0\n"
     ]
    },
    {
     "name": "stdout",
     "output_type": "stream",
     "text": [
      "5 24 611 18\n",
      "[['relapsing', 'DISEASE'], ['relapsing', 'B-RRMS']]\n",
      "[['-', 'DISEASE'], ['-', 'I-RRMS']]\n",
      "[['remitting', 'DISEASE'], ['remitting', 'I-RRMS']]\n",
      "[['MS', 'DISEASE'], ['MS', 'I-RRMS']]\n",
      "[['MS', 'DISEASE'], ['MS', 'I-RRMS']]\n",
      "inscope: 5\n",
      "quantitative_00151 annotator2_quantitative_00151_correct\n",
      "quantitative_00151.txt\n"
     ]
    },
    {
     "name": "stderr",
     "output_type": "stream",
     "text": [
      "DEBUG:urllib3.connectionpool:https://huggingface.co:443 \"HEAD /alvaroalon2/biobert_diseases_ner/resolve/main/config.json HTTP/1.1\" 200 0\n",
      "DEBUG:urllib3.connectionpool:https://huggingface.co:443 \"HEAD /alvaroalon2/biobert_diseases_ner/resolve/main/tokenizer_config.json HTTP/1.1\" 200 0\n"
     ]
    },
    {
     "name": "stdout",
     "output_type": "stream",
     "text": [
      "4 92 737 1\n",
      "[['multiple', 'DISEASE'], ['multiple', 'B-MS_no_subtype']]\n",
      "[['sclerosis', 'DISEASE'], ['sclerosis', 'I-MS_no_subtype']]\n",
      "[['Multiple', 'DISEASE'], ['Multiple', 'B-MS_no_subtype']]\n",
      "[['sclerosis', 'DISEASE'], ['sclerosis', 'I-MS_no_subtype']]\n",
      "inscope: 4\n",
      "quantitative_00152 annotator2_quantitative_00152_correct\n",
      "quantitative_00152.txt\n"
     ]
    },
    {
     "name": "stderr",
     "output_type": "stream",
     "text": [
      "DEBUG:urllib3.connectionpool:https://huggingface.co:443 \"HEAD /alvaroalon2/biobert_diseases_ner/resolve/main/config.json HTTP/1.1\" 200 0\n",
      "DEBUG:urllib3.connectionpool:https://huggingface.co:443 \"HEAD /alvaroalon2/biobert_diseases_ner/resolve/main/tokenizer_config.json HTTP/1.1\" 200 0\n"
     ]
    },
    {
     "name": "stdout",
     "output_type": "stream",
     "text": [
      "5 47 979 17\n",
      "[['multiple', 'DISEASE'], ['multiple', 'I-RRMS']]\n",
      "[['sclerosis', 'DISEASE'], ['sclerosis', 'I-RRMS']]\n",
      "[['multiple', 'DISEASE'], ['multiple', 'B-RRMS']]\n",
      "[['sclerosis', 'DISEASE'], ['sclerosis', 'I-RRMS']]\n",
      "[['MS', 'DISEASE'], ['MS', 'B-RRMS']]\n",
      "inscope: 5\n",
      "quantitative_00153 annotator2_quantitative_00153_correct\n",
      "quantitative_00153.txt\n"
     ]
    },
    {
     "name": "stderr",
     "output_type": "stream",
     "text": [
      "DEBUG:urllib3.connectionpool:https://huggingface.co:443 \"HEAD /alvaroalon2/biobert_diseases_ner/resolve/main/config.json HTTP/1.1\" 200 0\n",
      "DEBUG:urllib3.connectionpool:https://huggingface.co:443 \"HEAD /alvaroalon2/biobert_diseases_ner/resolve/main/tokenizer_config.json HTTP/1.1\" 200 0\n"
     ]
    },
    {
     "name": "stdout",
     "output_type": "stream",
     "text": [
      "2 4 192 11\n",
      "[['MS', 'DISEASE'], ['MS', 'B-MS_no_subtype']]\n",
      "[['MS', 'DISEASE'], ['MS', 'I-MS_no_subtype']]\n",
      "inscope: 2\n",
      "quantitative_00154 annotator2_quantitative_00154_correct\n",
      "quantitative_00154.txt\n"
     ]
    },
    {
     "name": "stderr",
     "output_type": "stream",
     "text": [
      "DEBUG:urllib3.connectionpool:https://huggingface.co:443 \"HEAD /alvaroalon2/biobert_diseases_ner/resolve/main/config.json HTTP/1.1\" 200 0\n",
      "DEBUG:urllib3.connectionpool:https://huggingface.co:443 \"HEAD /alvaroalon2/biobert_diseases_ner/resolve/main/tokenizer_config.json HTTP/1.1\" 200 0\n"
     ]
    },
    {
     "name": "stdout",
     "output_type": "stream",
     "text": [
      "2 8 329 4\n",
      "[['Multiple', 'DISEASE'], ['Multiple', 'B-SPMS']]\n",
      "[['sclerosis', 'DISEASE'], ['sclerosis', 'I-SPMS']]\n",
      "inscope: 2\n",
      "quantitative_00155 annotator2_quantitative_00155_correct\n",
      "quantitative_00155.txt\n"
     ]
    },
    {
     "name": "stderr",
     "output_type": "stream",
     "text": [
      "DEBUG:urllib3.connectionpool:https://huggingface.co:443 \"HEAD /alvaroalon2/biobert_diseases_ner/resolve/main/config.json HTTP/1.1\" 200 0\n",
      "DEBUG:urllib3.connectionpool:https://huggingface.co:443 \"HEAD /alvaroalon2/biobert_diseases_ner/resolve/main/tokenizer_config.json HTTP/1.1\" 200 0\n"
     ]
    },
    {
     "name": "stdout",
     "output_type": "stream",
     "text": [
      "1 74 774 2\n",
      "[['MS', 'DISEASE'], ['MS', 'B-RRMS']]\n",
      "inscope: 1\n",
      "quantitative_00156 annotator2_quantitative_00156_correct\n",
      "quantitative_00156.txt\n"
     ]
    },
    {
     "name": "stderr",
     "output_type": "stream",
     "text": [
      "DEBUG:urllib3.connectionpool:https://huggingface.co:443 \"HEAD /alvaroalon2/biobert_diseases_ner/resolve/main/config.json HTTP/1.1\" 200 0\n",
      "DEBUG:urllib3.connectionpool:https://huggingface.co:443 \"HEAD /alvaroalon2/biobert_diseases_ner/resolve/main/tokenizer_config.json HTTP/1.1\" 200 0\n"
     ]
    },
    {
     "name": "stdout",
     "output_type": "stream",
     "text": [
      "2 4 367 4\n",
      "[['multiple', 'DISEASE'], ['MULTIPLE', 'I-RRMS']]\n",
      "[['sclerosis', 'DISEASE'], ['SCLEROSIS', 'I-RRMS']]\n",
      "inscope: 2\n",
      "quantitative_00157 annotator2_quantitative_00157_correct\n",
      "quantitative_00157.txt\n"
     ]
    },
    {
     "name": "stderr",
     "output_type": "stream",
     "text": [
      "DEBUG:urllib3.connectionpool:https://huggingface.co:443 \"HEAD /alvaroalon2/biobert_diseases_ner/resolve/main/config.json HTTP/1.1\" 200 0\n",
      "DEBUG:urllib3.connectionpool:https://huggingface.co:443 \"HEAD /alvaroalon2/biobert_diseases_ner/resolve/main/tokenizer_config.json HTTP/1.1\" 200 0\n"
     ]
    },
    {
     "name": "stdout",
     "output_type": "stream",
     "text": [
      "7 20 676 5\n",
      "[['Multiple', 'DISEASE'], ['Multiple', 'B-RRMS']]\n",
      "[['sclerosis', 'DISEASE'], ['sclerosis', 'I-RRMS']]\n",
      "[['MS', 'DISEASE'], ['MS', 'B-RRMS']]\n",
      "[['multiple', 'DISEASE'], ['multiple', 'I-RRMS']]\n",
      "[['sclerosis', 'DISEASE'], ['sclerosis', 'I-RRMS']]\n",
      "[['multiple', 'DISEASE'], ['multiple', 'B-RRMS']]\n",
      "[['sclerosis', 'DISEASE'], ['sclerosis', 'I-RRMS']]\n",
      "inscope: 7\n",
      "quantitative_00158 annotator2_quantitative_00158_correct\n",
      "quantitative_00158.txt\n"
     ]
    },
    {
     "name": "stderr",
     "output_type": "stream",
     "text": [
      "DEBUG:urllib3.connectionpool:https://huggingface.co:443 \"HEAD /alvaroalon2/biobert_diseases_ner/resolve/main/config.json HTTP/1.1\" 200 0\n",
      "DEBUG:urllib3.connectionpool:https://huggingface.co:443 \"HEAD /alvaroalon2/biobert_diseases_ner/resolve/main/tokenizer_config.json HTTP/1.1\" 200 0\n"
     ]
    },
    {
     "name": "stdout",
     "output_type": "stream",
     "text": [
      "9 24 436 14\n",
      "[['MS', 'DISEASE'], ['MS', 'B-RRMS']]\n",
      "[['multiple', 'DISEASE'], ['multiple', 'I-RRMS']]\n",
      "[['sclerosis', 'DISEASE'], ['sclerosis', 'I-RRMS']]\n",
      "[['multiple', 'DISEASE'], ['multiple', 'B-RRMS']]\n",
      "[['sclerosis', 'DISEASE'], ['sclerosis', 'I-RRMS']]\n",
      "[['Multiple', 'DISEASE'], ['Multiple', 'B-RRMS']]\n",
      "[['Sclerosis', 'DISEASE'], ['Sclerosis', 'I-RRMS']]\n",
      "[['multiple', 'DISEASE'], ['MULTIPLE', 'I-RRMS']]\n",
      "[['sclerosis', 'DISEASE'], ['SCLEROSIS', 'I-RRMS']]\n",
      "inscope: 9\n",
      "quantitative_00159 annotator2_quantitative_00159_correct\n",
      "quantitative_00159.txt\n"
     ]
    },
    {
     "name": "stderr",
     "output_type": "stream",
     "text": [
      "DEBUG:urllib3.connectionpool:https://huggingface.co:443 \"HEAD /alvaroalon2/biobert_diseases_ner/resolve/main/config.json HTTP/1.1\" 200 0\n"
     ]
    },
    {
     "name": "stdout",
     "output_type": "stream",
     "text": [
      "3 35 336 4\n",
      "[['multiple', 'DISEASE'], ['multiple', 'B-RRMS']]\n",
      "[['sclerosis', 'DISEASE'], ['sclerosis', 'I-RRMS']]\n",
      "[['RRMS', 'DISEASE'], ['RRMS', 'B-RRMS']]\n",
      "inscope: 3\n",
      "quantitative_00160 annotator2_quantitative_00160_correct\n",
      "quantitative_00160.txt\n"
     ]
    },
    {
     "name": "stderr",
     "output_type": "stream",
     "text": [
      "DEBUG:urllib3.connectionpool:https://huggingface.co:443 \"HEAD /alvaroalon2/biobert_diseases_ner/resolve/main/tokenizer_config.json HTTP/1.1\" 200 0\n",
      "DEBUG:urllib3.connectionpool:https://huggingface.co:443 \"HEAD /alvaroalon2/biobert_diseases_ner/resolve/main/config.json HTTP/1.1\" 200 0\n",
      "DEBUG:urllib3.connectionpool:https://huggingface.co:443 \"HEAD /alvaroalon2/biobert_diseases_ner/resolve/main/tokenizer_config.json HTTP/1.1\" 200 0\n"
     ]
    },
    {
     "name": "stdout",
     "output_type": "stream",
     "text": [
      "2 0 229 5\n",
      "somevalue is zer0\n",
      "quantitative_00161 annotator2_quantitative_00161_correct\n",
      "quantitative_00161.txt\n"
     ]
    },
    {
     "name": "stderr",
     "output_type": "stream",
     "text": [
      "DEBUG:urllib3.connectionpool:https://huggingface.co:443 \"HEAD /alvaroalon2/biobert_diseases_ner/resolve/main/config.json HTTP/1.1\" 200 0\n",
      "DEBUG:urllib3.connectionpool:https://huggingface.co:443 \"HEAD /alvaroalon2/biobert_diseases_ner/resolve/main/tokenizer_config.json HTTP/1.1\" 200 0\n"
     ]
    },
    {
     "name": "stdout",
     "output_type": "stream",
     "text": [
      "2 46 253 1\n",
      "[['MS', 'DISEASE'], ['MS', 'B-MS_no_subtype']]\n",
      "[['MS', 'DISEASE'], ['MS', 'B-MS_no_subtype']]\n",
      "inscope: 2\n",
      "quantitative_00162 annotator2_quantitative_00162_correct\n",
      "quantitative_00162.txt\n"
     ]
    },
    {
     "name": "stderr",
     "output_type": "stream",
     "text": [
      "DEBUG:urllib3.connectionpool:https://huggingface.co:443 \"HEAD /alvaroalon2/biobert_diseases_ner/resolve/main/config.json HTTP/1.1\" 200 0\n"
     ]
    },
    {
     "name": "stdout",
     "output_type": "stream",
     "text": [
      "0 43 572 5\n",
      "somevalue is zer0\n",
      "quantitative_00163 annotator2_quantitative_00163_correct\n",
      "quantitative_00163.txt\n"
     ]
    },
    {
     "name": "stderr",
     "output_type": "stream",
     "text": [
      "DEBUG:urllib3.connectionpool:https://huggingface.co:443 \"HEAD /alvaroalon2/biobert_diseases_ner/resolve/main/tokenizer_config.json HTTP/1.1\" 200 0\n",
      "DEBUG:urllib3.connectionpool:https://huggingface.co:443 \"HEAD /alvaroalon2/biobert_diseases_ner/resolve/main/config.json HTTP/1.1\" 200 0\n",
      "DEBUG:urllib3.connectionpool:https://huggingface.co:443 \"HEAD /alvaroalon2/biobert_diseases_ner/resolve/main/tokenizer_config.json HTTP/1.1\" 200 0\n"
     ]
    },
    {
     "name": "stdout",
     "output_type": "stream",
     "text": [
      "4 25 732 4\n",
      "[['multiple', 'DISEASE'], ['multiple', 'B-MS_no_subtype']]\n",
      "[['sclerosis', 'DISEASE'], ['sclerosis', 'I-MS_no_subtype']]\n",
      "[['Multiple', 'DISEASE'], ['Multiple', 'B-MS_no_subtype']]\n",
      "[['Sclerosis', 'DISEASE'], ['Sclerosis', 'I-MS_no_subtype']]\n",
      "inscope: 4\n",
      "quantitative_00164 annotator2_quantitative_00164_correct\n",
      "quantitative_00164.txt\n"
     ]
    },
    {
     "name": "stderr",
     "output_type": "stream",
     "text": [
      "DEBUG:urllib3.connectionpool:https://huggingface.co:443 \"HEAD /alvaroalon2/biobert_diseases_ner/resolve/main/config.json HTTP/1.1\" 200 0\n",
      "DEBUG:urllib3.connectionpool:https://huggingface.co:443 \"HEAD /alvaroalon2/biobert_diseases_ner/resolve/main/tokenizer_config.json HTTP/1.1\" 200 0\n"
     ]
    },
    {
     "name": "stdout",
     "output_type": "stream",
     "text": [
      "3 28 1124 25\n",
      "[['multiple', 'DISEASE'], ['multiple', 'I-SPMS']]\n",
      "[['sclerosis', 'DISEASE'], ['sclerosis', 'I-SPMS']]\n",
      "[['MS', 'DISEASE'], ['MS', 'I-SPMS']]\n",
      "inscope: 3\n",
      "quantitative_00165 annotator2_quantitative_00165_correct\n",
      "quantitative_00165.txt\n"
     ]
    },
    {
     "name": "stderr",
     "output_type": "stream",
     "text": [
      "DEBUG:urllib3.connectionpool:https://huggingface.co:443 \"HEAD /alvaroalon2/biobert_diseases_ner/resolve/main/config.json HTTP/1.1\" 200 0\n",
      "DEBUG:urllib3.connectionpool:https://huggingface.co:443 \"HEAD /alvaroalon2/biobert_diseases_ner/resolve/main/tokenizer_config.json HTTP/1.1\" 200 0\n"
     ]
    },
    {
     "name": "stdout",
     "output_type": "stream",
     "text": [
      "3 17 240 4\n",
      "[['multiple', 'DISEASE'], ['multiple', 'B-MS_no_subtype']]\n",
      "[['sclerosis', 'DISEASE'], ['sclerosis', 'I-MS_no_subtype']]\n",
      "[['MS', 'DISEASE'], ['MS', 'B-MS_no_subtype']]\n",
      "inscope: 3\n",
      "quantitative_00166 annotator2_quantitative_00166_correct\n",
      "quantitative_00166.txt\n"
     ]
    },
    {
     "name": "stderr",
     "output_type": "stream",
     "text": [
      "DEBUG:urllib3.connectionpool:https://huggingface.co:443 \"HEAD /alvaroalon2/biobert_diseases_ner/resolve/main/config.json HTTP/1.1\" 200 0\n",
      "DEBUG:urllib3.connectionpool:https://huggingface.co:443 \"HEAD /alvaroalon2/biobert_diseases_ner/resolve/main/tokenizer_config.json HTTP/1.1\" 200 0\n"
     ]
    },
    {
     "name": "stdout",
     "output_type": "stream",
     "text": [
      "4 81 1555 3\n",
      "[['MS', 'DISEASE'], ['MS', 'B-RRMS']]\n",
      "[['Multiple', 'DISEASE'], ['Multiple', 'B-RRMS']]\n",
      "[['sclerosis', 'DISEASE'], ['sclerosis', 'I-RRMS']]\n",
      "[['MS', 'DISEASE'], ['MS', 'I-RRMS']]\n",
      "inscope: 4\n",
      "quantitative_00167 annotator2_quantitative_00167_correct\n",
      "quantitative_00167.txt\n"
     ]
    },
    {
     "name": "stderr",
     "output_type": "stream",
     "text": [
      "DEBUG:urllib3.connectionpool:https://huggingface.co:443 \"HEAD /alvaroalon2/biobert_diseases_ner/resolve/main/config.json HTTP/1.1\" 200 0\n",
      "DEBUG:urllib3.connectionpool:https://huggingface.co:443 \"HEAD /alvaroalon2/biobert_diseases_ner/resolve/main/tokenizer_config.json HTTP/1.1\" 200 0\n"
     ]
    },
    {
     "name": "stdout",
     "output_type": "stream",
     "text": [
      "8 47 1321 4\n",
      "[['multiple', 'DISEASE'], ['multiple', 'I-RRMS']]\n",
      "[['sclerosis', 'DISEASE'], ['sclerosis', 'I-RRMS']]\n",
      "[['multiple', 'DISEASE'], ['multiple', 'I-RRMS']]\n",
      "[['sclerosis', 'DISEASE'], ['sclerosis', 'I-RRMS']]\n",
      "[['multiple', 'DISEASE'], ['multiple', 'B-RRMS']]\n",
      "[['sclerosis', 'DISEASE'], ['sclerosis', 'I-RRMS']]\n",
      "[['multiple', 'DISEASE'], ['multiple', 'I-RRMS']]\n",
      "[['sclerosis', 'DISEASE'], ['sclerosis', 'I-RRMS']]\n",
      "inscope: 8\n",
      "quantitative_00168 annotator2_quantitative_00168_correct\n",
      "quantitative_00168.txt\n"
     ]
    },
    {
     "name": "stderr",
     "output_type": "stream",
     "text": [
      "DEBUG:urllib3.connectionpool:https://huggingface.co:443 \"HEAD /alvaroalon2/biobert_diseases_ner/resolve/main/config.json HTTP/1.1\" 200 0\n",
      "DEBUG:urllib3.connectionpool:https://huggingface.co:443 \"HEAD /alvaroalon2/biobert_diseases_ner/resolve/main/tokenizer_config.json HTTP/1.1\" 200 0\n"
     ]
    },
    {
     "name": "stdout",
     "output_type": "stream",
     "text": [
      "0 12 135 2\n",
      "somevalue is zer0\n",
      "quantitative_00169 annotator2_quantitative_00169_correct\n",
      "quantitative_00169.txt\n"
     ]
    },
    {
     "name": "stderr",
     "output_type": "stream",
     "text": [
      "DEBUG:urllib3.connectionpool:https://huggingface.co:443 \"HEAD /alvaroalon2/biobert_diseases_ner/resolve/main/config.json HTTP/1.1\" 200 0\n",
      "DEBUG:urllib3.connectionpool:https://huggingface.co:443 \"HEAD /alvaroalon2/biobert_diseases_ner/resolve/main/tokenizer_config.json HTTP/1.1\" 200 0\n"
     ]
    },
    {
     "name": "stdout",
     "output_type": "stream",
     "text": [
      "1 14 253 2\n",
      "[['MS', 'DISEASE'], ['MS', 'B-RRMS']]\n",
      "inscope: 1\n",
      "quantitative_00170 annotator2_quantitative_00170_correct\n",
      "quantitative_00170.txt\n"
     ]
    },
    {
     "name": "stderr",
     "output_type": "stream",
     "text": [
      "DEBUG:urllib3.connectionpool:https://huggingface.co:443 \"HEAD /alvaroalon2/biobert_diseases_ner/resolve/main/config.json HTTP/1.1\" 200 0\n",
      "DEBUG:urllib3.connectionpool:https://huggingface.co:443 \"HEAD /alvaroalon2/biobert_diseases_ner/resolve/main/tokenizer_config.json HTTP/1.1\" 200 0\n"
     ]
    },
    {
     "name": "stdout",
     "output_type": "stream",
     "text": [
      "6 26 744 11\n",
      "[['multiple', 'DISEASE'], ['multiple', 'I-RRMS']]\n",
      "[['sclerosis', 'DISEASE'], ['sclerosis', 'I-RRMS']]\n",
      "[['multiple', 'DISEASE'], ['multiple', 'I-RRMS']]\n",
      "[['sclerosis', 'DISEASE'], ['sclerosis', 'I-RRMS']]\n",
      "[['multiple', 'DISEASE'], ['multiple', 'I-RRMS']]\n",
      "[['sclerosis', 'DISEASE'], ['sclerosis', 'I-RRMS']]\n",
      "inscope: 6\n",
      "quantitative_00171 annotator2_quantitative_00171_correct\n",
      "quantitative_00171.txt\n"
     ]
    },
    {
     "name": "stderr",
     "output_type": "stream",
     "text": [
      "DEBUG:urllib3.connectionpool:https://huggingface.co:443 \"HEAD /alvaroalon2/biobert_diseases_ner/resolve/main/config.json HTTP/1.1\" 200 0\n",
      "DEBUG:urllib3.connectionpool:https://huggingface.co:443 \"HEAD /alvaroalon2/biobert_diseases_ner/resolve/main/tokenizer_config.json HTTP/1.1\" 200 0\n"
     ]
    },
    {
     "name": "stdout",
     "output_type": "stream",
     "text": [
      "0 0 343 12\n",
      "somevalue is zer0\n",
      "quantitative_00172 annotator2_quantitative_00172_correct\n",
      "quantitative_00172.txt\n"
     ]
    },
    {
     "name": "stderr",
     "output_type": "stream",
     "text": [
      "DEBUG:urllib3.connectionpool:https://huggingface.co:443 \"HEAD /alvaroalon2/biobert_diseases_ner/resolve/main/config.json HTTP/1.1\" 200 0\n",
      "DEBUG:urllib3.connectionpool:https://huggingface.co:443 \"HEAD /alvaroalon2/biobert_diseases_ner/resolve/main/tokenizer_config.json HTTP/1.1\" 200 0\n"
     ]
    },
    {
     "name": "stdout",
     "output_type": "stream",
     "text": [
      "3 52 712 3\n",
      "[['Multiple', 'DISEASE'], ['Multiple', 'B-RRMS']]\n",
      "[['sclerosis', 'DISEASE'], ['sclerosis', 'I-RRMS']]\n",
      "[['MS', 'DISEASE'], ['MS', 'B-RRMS']]\n",
      "inscope: 3\n",
      "quantitative_00173 annotator2_quantitative_00173_correct\n",
      "quantitative_00173.txt\n"
     ]
    },
    {
     "name": "stderr",
     "output_type": "stream",
     "text": [
      "DEBUG:urllib3.connectionpool:https://huggingface.co:443 \"HEAD /alvaroalon2/biobert_diseases_ner/resolve/main/config.json HTTP/1.1\" 200 0\n",
      "DEBUG:urllib3.connectionpool:https://huggingface.co:443 \"HEAD /alvaroalon2/biobert_diseases_ner/resolve/main/tokenizer_config.json HTTP/1.1\" 200 0\n"
     ]
    },
    {
     "name": "stdout",
     "output_type": "stream",
     "text": [
      "0 9 727 6\n",
      "somevalue is zer0\n",
      "quantitative_00174 annotator2_quantitative_00174_correct\n",
      "quantitative_00174.txt\n"
     ]
    },
    {
     "name": "stderr",
     "output_type": "stream",
     "text": [
      "DEBUG:urllib3.connectionpool:https://huggingface.co:443 \"HEAD /alvaroalon2/biobert_diseases_ner/resolve/main/config.json HTTP/1.1\" 200 0\n",
      "DEBUG:urllib3.connectionpool:https://huggingface.co:443 \"HEAD /alvaroalon2/biobert_diseases_ner/resolve/main/tokenizer_config.json HTTP/1.1\" 200 0\n"
     ]
    },
    {
     "name": "stdout",
     "output_type": "stream",
     "text": [
      "1 16 218 1\n",
      "[['MS', 'DISEASE'], ['MS', 'B-RRMS']]\n",
      "inscope: 1\n",
      "quantitative_00175 annotator2_quantitative_00175_correct\n",
      "quantitative_00175.txt\n"
     ]
    },
    {
     "name": "stderr",
     "output_type": "stream",
     "text": [
      "DEBUG:urllib3.connectionpool:https://huggingface.co:443 \"HEAD /alvaroalon2/biobert_diseases_ner/resolve/main/config.json HTTP/1.1\" 200 0\n",
      "DEBUG:urllib3.connectionpool:https://huggingface.co:443 \"HEAD /alvaroalon2/biobert_diseases_ner/resolve/main/tokenizer_config.json HTTP/1.1\" 200 0\n"
     ]
    },
    {
     "name": "stdout",
     "output_type": "stream",
     "text": [
      "9 88 1614 4\n",
      "[['MS', 'DISEASE'], ['MS', 'B-RRMS']]\n",
      "[['Multiple', 'DISEASE'], ['Multiple', 'B-RRMS']]\n",
      "[['sclerosis', 'DISEASE'], ['sclerosis', 'I-RRMS']]\n",
      "[['multiple', 'DISEASE'], ['multiple', 'B-RRMS']]\n",
      "[['sclerosis', 'DISEASE'], ['sclerosis', 'I-RRMS']]\n",
      "[['multiple', 'DISEASE'], ['multiple', 'B-RRMS']]\n",
      "[['sclerosis', 'DISEASE'], ['sclerosis', 'I-RRMS']]\n",
      "[['Multiple', 'DISEASE'], ['Multiple', 'B-RRMS']]\n",
      "[['sclerosis', 'DISEASE'], ['sclerosis', 'I-RRMS']]\n",
      "inscope: 9\n",
      "quantitative_00176 annotator2_quantitative_00176_correct\n",
      "quantitative_00176.txt\n"
     ]
    },
    {
     "name": "stderr",
     "output_type": "stream",
     "text": [
      "DEBUG:urllib3.connectionpool:https://huggingface.co:443 \"HEAD /alvaroalon2/biobert_diseases_ner/resolve/main/config.json HTTP/1.1\" 200 0\n",
      "DEBUG:urllib3.connectionpool:https://huggingface.co:443 \"HEAD /alvaroalon2/biobert_diseases_ner/resolve/main/tokenizer_config.json HTTP/1.1\" 200 0\n"
     ]
    },
    {
     "name": "stdout",
     "output_type": "stream",
     "text": [
      "2 11 894 2\n",
      "[['Multiple', 'DISEASE'], ['Multiple', 'B-PPMS']]\n",
      "[['Sclerosis', 'DISEASE'], ['Sclerosis', 'I-PPMS']]\n",
      "inscope: 2\n",
      "quantitative_00177 annotator2_quantitative_00177_correct\n",
      "quantitative_00177.txt\n"
     ]
    },
    {
     "name": "stderr",
     "output_type": "stream",
     "text": [
      "DEBUG:urllib3.connectionpool:https://huggingface.co:443 \"HEAD /alvaroalon2/biobert_diseases_ner/resolve/main/config.json HTTP/1.1\" 200 0\n",
      "DEBUG:urllib3.connectionpool:https://huggingface.co:443 \"HEAD /alvaroalon2/biobert_diseases_ner/resolve/main/tokenizer_config.json HTTP/1.1\" 200 0\n"
     ]
    },
    {
     "name": "stdout",
     "output_type": "stream",
     "text": [
      "1 13 202 1\n",
      "[['MS', 'DISEASE'], ['MS', 'B-RRMS']]\n",
      "inscope: 1\n",
      "quantitative_00178 annotator2_quantitative_00178_correct\n",
      "quantitative_00178.txt\n"
     ]
    },
    {
     "name": "stderr",
     "output_type": "stream",
     "text": [
      "DEBUG:urllib3.connectionpool:https://huggingface.co:443 \"HEAD /alvaroalon2/biobert_diseases_ner/resolve/main/config.json HTTP/1.1\" 200 0\n",
      "DEBUG:urllib3.connectionpool:https://huggingface.co:443 \"HEAD /alvaroalon2/biobert_diseases_ner/resolve/main/tokenizer_config.json HTTP/1.1\" 200 0\n"
     ]
    },
    {
     "name": "stdout",
     "output_type": "stream",
     "text": [
      "8 115 1710 4\n",
      "[['MS', 'DISEASE'], ['MS', 'B-RRMS']]\n",
      "[['multiple', 'DISEASE'], ['multiple', 'B-RRMS']]\n",
      "[['sclerosis', 'DISEASE'], ['sclerosis', 'I-RRMS']]\n",
      "[['Multiple', 'DISEASE'], ['Multiple', 'B-RRMS']]\n",
      "[['sclerosis', 'DISEASE'], ['sclerosis', 'I-RRMS']]\n",
      "[['Multiple', 'DISEASE'], ['Multiple', 'B-RRMS']]\n",
      "[['sclerosis', 'DISEASE'], ['sclerosis', 'I-RRMS']]\n",
      "[['MS', 'DISEASE'], ['MS', 'B-RRMS']]\n",
      "inscope: 8\n",
      "quantitative_00179 annotator2_quantitative_00179_correct\n",
      "quantitative_00179.txt\n"
     ]
    },
    {
     "name": "stderr",
     "output_type": "stream",
     "text": [
      "DEBUG:urllib3.connectionpool:https://huggingface.co:443 \"HEAD /alvaroalon2/biobert_diseases_ner/resolve/main/config.json HTTP/1.1\" 200 0\n",
      "DEBUG:urllib3.connectionpool:https://huggingface.co:443 \"HEAD /alvaroalon2/biobert_diseases_ner/resolve/main/tokenizer_config.json HTTP/1.1\" 200 0\n"
     ]
    },
    {
     "name": "stdout",
     "output_type": "stream",
     "text": [
      "5 57 1039 10\n",
      "[['multiple', 'DISEASE'], ['multiple', 'I-RRMS']]\n",
      "[['sclerosis', 'DISEASE'], ['sclerosis', 'I-RRMS']]\n",
      "[['multiple', 'DISEASE'], ['multiple', 'I-RRMS']]\n",
      "[['sclerosis', 'DISEASE'], ['sclerosis', 'I-RRMS']]\n",
      "[['MS', 'DISEASE'], ['MS', 'I-RRMS']]\n",
      "inscope: 5\n",
      "quantitative_00180 annotator2_quantitative_00180_correct\n",
      "quantitative_00180.txt\n"
     ]
    },
    {
     "name": "stderr",
     "output_type": "stream",
     "text": [
      "DEBUG:urllib3.connectionpool:https://huggingface.co:443 \"HEAD /alvaroalon2/biobert_diseases_ner/resolve/main/config.json HTTP/1.1\" 200 0\n",
      "DEBUG:urllib3.connectionpool:https://huggingface.co:443 \"HEAD /alvaroalon2/biobert_diseases_ner/resolve/main/tokenizer_config.json HTTP/1.1\" 200 0\n"
     ]
    },
    {
     "name": "stdout",
     "output_type": "stream",
     "text": [
      "5 49 1253 16\n",
      "[['multiple', 'DISEASE'], ['multiple', 'I-RRMS']]\n",
      "[['sclerosis', 'DISEASE'], ['sclerosis', 'I-RRMS']]\n",
      "[['sclerosis', 'DISEASE'], ['sclerosis', 'I-RRMS']]\n",
      "[['multiple', 'DISEASE'], ['multiple', 'B-RRMS']]\n",
      "[['sclerosis', 'DISEASE'], ['sclerosis', 'I-RRMS']]\n",
      "inscope: 5\n",
      "quantitative_00181 annotator2_quantitative_00181_correct\n",
      "quantitative_00181.txt\n"
     ]
    },
    {
     "name": "stderr",
     "output_type": "stream",
     "text": [
      "DEBUG:urllib3.connectionpool:https://huggingface.co:443 \"HEAD /alvaroalon2/biobert_diseases_ner/resolve/main/config.json HTTP/1.1\" 200 0\n",
      "DEBUG:urllib3.connectionpool:https://huggingface.co:443 \"HEAD /alvaroalon2/biobert_diseases_ner/resolve/main/tokenizer_config.json HTTP/1.1\" 200 0\n"
     ]
    },
    {
     "name": "stdout",
     "output_type": "stream",
     "text": [
      "3 6 157 3\n",
      "[['multiple', 'DISEASE'], ['multiple', 'B-SPMS']]\n",
      "[['sclerosis', 'DISEASE'], ['sclerosis', 'I-SPMS']]\n",
      "[['SPMS', 'DISEASE'], ['SPMS', 'B-SPMS']]\n",
      "inscope: 3\n",
      "quantitative_00182 annotator2_quantitative_00182_correct\n",
      "quantitative_00182.txt\n"
     ]
    },
    {
     "name": "stderr",
     "output_type": "stream",
     "text": [
      "DEBUG:urllib3.connectionpool:https://huggingface.co:443 \"HEAD /alvaroalon2/biobert_diseases_ner/resolve/main/config.json HTTP/1.1\" 200 0\n",
      "DEBUG:urllib3.connectionpool:https://huggingface.co:443 \"HEAD /alvaroalon2/biobert_diseases_ner/resolve/main/tokenizer_config.json HTTP/1.1\" 200 0\n"
     ]
    },
    {
     "name": "stdout",
     "output_type": "stream",
     "text": [
      "3 84 1457 12\n",
      "[['MS', 'DISEASE'], ['MS', 'B-MS_no_subtype']]\n",
      "[['MS', 'DISEASE'], ['MS', 'B-MS_no_subtype']]\n",
      "[['MS', 'DISEASE'], ['MS', 'B-MS_no_subtype']]\n",
      "inscope: 3\n",
      "quantitative_00184 annotator2_quantitative_00184_correct\n",
      "quantitative_00184.txt\n"
     ]
    },
    {
     "name": "stderr",
     "output_type": "stream",
     "text": [
      "DEBUG:urllib3.connectionpool:https://huggingface.co:443 \"HEAD /alvaroalon2/biobert_diseases_ner/resolve/main/config.json HTTP/1.1\" 200 0\n",
      "DEBUG:urllib3.connectionpool:https://huggingface.co:443 \"HEAD /alvaroalon2/biobert_diseases_ner/resolve/main/tokenizer_config.json HTTP/1.1\" 200 0\n"
     ]
    },
    {
     "name": "stdout",
     "output_type": "stream",
     "text": [
      "4 0 708 11\n",
      "somevalue is zer0\n",
      "quantitative_00185 annotator2_quantitative_00185_correct\n",
      "quantitative_00185.txt\n"
     ]
    },
    {
     "name": "stderr",
     "output_type": "stream",
     "text": [
      "DEBUG:urllib3.connectionpool:https://huggingface.co:443 \"HEAD /alvaroalon2/biobert_diseases_ner/resolve/main/config.json HTTP/1.1\" 200 0\n",
      "DEBUG:urllib3.connectionpool:https://huggingface.co:443 \"HEAD /alvaroalon2/biobert_diseases_ner/resolve/main/tokenizer_config.json HTTP/1.1\" 200 0\n"
     ]
    },
    {
     "name": "stdout",
     "output_type": "stream",
     "text": [
      "1 30 257 2\n",
      "[['MS', 'DISEASE'], ['MS', 'B-RRMS']]\n",
      "inscope: 1\n",
      "quantitative_00186 annotator2_quantitative_00186_correct\n",
      "quantitative_00186.txt\n"
     ]
    },
    {
     "name": "stderr",
     "output_type": "stream",
     "text": [
      "DEBUG:urllib3.connectionpool:https://huggingface.co:443 \"HEAD /alvaroalon2/biobert_diseases_ner/resolve/main/config.json HTTP/1.1\" 200 0\n",
      "DEBUG:urllib3.connectionpool:https://huggingface.co:443 \"HEAD /alvaroalon2/biobert_diseases_ner/resolve/main/tokenizer_config.json HTTP/1.1\" 200 0\n"
     ]
    },
    {
     "name": "stdout",
     "output_type": "stream",
     "text": [
      "11 62 1461 10\n",
      "[['multiple', 'DISEASE'], ['multiple', 'B-RRMS']]\n",
      "[['sclerosis', 'DISEASE'], ['sclerosis', 'I-RRMS']]\n",
      "[['multiple', 'DISEASE'], ['multiple', 'I-RRMS']]\n",
      "[['sclerosis', 'DISEASE'], ['sclerosis', 'I-RRMS']]\n",
      "[['multiple', 'DISEASE'], ['multiple', 'B-RRMS']]\n",
      "[['sclerosis', 'DISEASE'], ['sclerosis', 'I-RRMS']]\n",
      "[['MS', 'DISEASE'], ['MS', 'B-RRMS']]\n",
      "[['multiple', 'DISEASE'], ['multiple', 'I-RRMS']]\n",
      "[['sclerosis', 'DISEASE'], ['sclerosis', 'I-RRMS']]\n",
      "[['multiple', 'DISEASE'], ['multiple', 'I-RRMS']]\n",
      "[['sclerosis', 'DISEASE'], ['sclerosis', 'I-RRMS']]\n",
      "inscope: 11\n",
      "quantitative_00187 annotator2_quantitative_00187_correct\n",
      "quantitative_00187.txt\n"
     ]
    },
    {
     "name": "stderr",
     "output_type": "stream",
     "text": [
      "DEBUG:urllib3.connectionpool:https://huggingface.co:443 \"HEAD /alvaroalon2/biobert_diseases_ner/resolve/main/config.json HTTP/1.1\" 200 0\n",
      "DEBUG:urllib3.connectionpool:https://huggingface.co:443 \"HEAD /alvaroalon2/biobert_diseases_ner/resolve/main/tokenizer_config.json HTTP/1.1\" 200 0\n"
     ]
    },
    {
     "name": "stdout",
     "output_type": "stream",
     "text": [
      "5 53 1091 6\n",
      "[['syndrome', 'DISEASE'], ['syndrome', 'I-CIS']]\n",
      "[['MS', 'DISEASE'], ['MS', 'B-CIS']]\n",
      "[['MS', 'DISEASE'], ['MS', 'B-CIS']]\n",
      "[['multiple', 'DISEASE'], ['multiple', 'B-CIS']]\n",
      "[['sclerosis', 'DISEASE'], ['sclerosis', 'I-CIS']]\n",
      "inscope: 5\n",
      "quantitative_00188 annotator2_quantitative_00188_correct\n",
      "quantitative_00188.txt\n"
     ]
    },
    {
     "name": "stderr",
     "output_type": "stream",
     "text": [
      "DEBUG:urllib3.connectionpool:https://huggingface.co:443 \"HEAD /alvaroalon2/biobert_diseases_ner/resolve/main/config.json HTTP/1.1\" 200 0\n",
      "DEBUG:urllib3.connectionpool:https://huggingface.co:443 \"HEAD /alvaroalon2/biobert_diseases_ner/resolve/main/tokenizer_config.json HTTP/1.1\" 200 0\n"
     ]
    },
    {
     "name": "stdout",
     "output_type": "stream",
     "text": [
      "1 12 141 1\n",
      "[['MS', 'DISEASE'], ['MS', 'B-RRMS']]\n",
      "inscope: 1\n",
      "quantitative_00189 annotator2_quantitative_00189_correct\n",
      "quantitative_00189.txt\n"
     ]
    },
    {
     "name": "stderr",
     "output_type": "stream",
     "text": [
      "DEBUG:urllib3.connectionpool:https://huggingface.co:443 \"HEAD /alvaroalon2/biobert_diseases_ner/resolve/main/config.json HTTP/1.1\" 200 0\n",
      "DEBUG:urllib3.connectionpool:https://huggingface.co:443 \"HEAD /alvaroalon2/biobert_diseases_ner/resolve/main/tokenizer_config.json HTTP/1.1\" 200 0\n"
     ]
    },
    {
     "name": "stdout",
     "output_type": "stream",
     "text": [
      "2 24 651 2\n",
      "[['multiple', 'DISEASE'], ['multiple', 'B-MS_no_subtype']]\n",
      "[['sclerosis', 'DISEASE'], ['sclerosis', 'I-MS_no_subtype']]\n",
      "inscope: 2\n",
      "quantitative_00190 annotator2_quantitative_00190_correct\n",
      "quantitative_00190.txt\n"
     ]
    },
    {
     "name": "stderr",
     "output_type": "stream",
     "text": [
      "DEBUG:urllib3.connectionpool:https://huggingface.co:443 \"HEAD /alvaroalon2/biobert_diseases_ner/resolve/main/config.json HTTP/1.1\" 200 0\n",
      "DEBUG:urllib3.connectionpool:https://huggingface.co:443 \"HEAD /alvaroalon2/biobert_diseases_ner/resolve/main/tokenizer_config.json HTTP/1.1\" 200 0\n"
     ]
    },
    {
     "name": "stdout",
     "output_type": "stream",
     "text": [
      "4 65 798 5\n",
      "[['optic', 'DISEASE'], ['optic', 'I-CIS']]\n",
      "[['neuritis', 'DISEASE'], ['neuritis', 'I-CIS']]\n",
      "[['Optic', 'DISEASE'], ['Optic', 'B-CIS']]\n",
      "[['Neuritis', 'DISEASE'], ['Neuritis', 'I-CIS']]\n",
      "inscope: 4\n",
      "quantitative_00191 annotator2_quantitative_00191_correct\n",
      "quantitative_00191.txt\n"
     ]
    },
    {
     "name": "stderr",
     "output_type": "stream",
     "text": [
      "DEBUG:urllib3.connectionpool:https://huggingface.co:443 \"HEAD /alvaroalon2/biobert_diseases_ner/resolve/main/config.json HTTP/1.1\" 200 0\n",
      "DEBUG:urllib3.connectionpool:https://huggingface.co:443 \"HEAD /alvaroalon2/biobert_diseases_ner/resolve/main/tokenizer_config.json HTTP/1.1\" 200 0\n"
     ]
    },
    {
     "name": "stdout",
     "output_type": "stream",
     "text": [
      "8 41 811 6\n",
      "[['-', 'DISEASE'], ['-', 'I-RRMS']]\n",
      "[['remitting', 'DISEASE'], ['remitting', 'I-RRMS']]\n",
      "[['multiple', 'DISEASE'], ['multiple', 'I-RRMS']]\n",
      "[['sclerosis', 'DISEASE'], ['sclerosis', 'I-RRMS']]\n",
      "[['multiple', 'DISEASE'], ['multiple', 'B-RRMS']]\n",
      "[['sclerosis', 'DISEASE'], ['sclerosis', 'I-RRMS']]\n",
      "[['multiple', 'DISEASE'], ['multiple', 'I-RRMS']]\n",
      "[['sclerosis', 'DISEASE'], ['sclerosis', 'I-RRMS']]\n",
      "inscope: 8\n",
      "quantitative_00193 annotator2_quantitative_00193_correct\n",
      "quantitative_00193.txt\n"
     ]
    },
    {
     "name": "stderr",
     "output_type": "stream",
     "text": [
      "DEBUG:urllib3.connectionpool:https://huggingface.co:443 \"HEAD /alvaroalon2/biobert_diseases_ner/resolve/main/config.json HTTP/1.1\" 200 0\n",
      "DEBUG:urllib3.connectionpool:https://huggingface.co:443 \"HEAD /alvaroalon2/biobert_diseases_ner/resolve/main/tokenizer_config.json HTTP/1.1\" 200 0\n"
     ]
    },
    {
     "name": "stdout",
     "output_type": "stream",
     "text": [
      "0 37 648 6\n",
      "somevalue is zer0\n",
      "quantitative_00194 annotator2_quantitative_00194_correct\n",
      "quantitative_00194.txt\n"
     ]
    },
    {
     "name": "stderr",
     "output_type": "stream",
     "text": [
      "DEBUG:urllib3.connectionpool:https://huggingface.co:443 \"HEAD /alvaroalon2/biobert_diseases_ner/resolve/main/config.json HTTP/1.1\" 200 0\n",
      "DEBUG:urllib3.connectionpool:https://huggingface.co:443 \"HEAD /alvaroalon2/biobert_diseases_ner/resolve/main/tokenizer_config.json HTTP/1.1\" 200 0\n"
     ]
    },
    {
     "name": "stdout",
     "output_type": "stream",
     "text": [
      "8 39 1076 8\n",
      "[['multiple', 'DISEASE'], ['multiple', 'I-RRMS']]\n",
      "[['sclerosis', 'DISEASE'], ['sclerosis', 'I-RRMS']]\n",
      "[['MS', 'DISEASE'], ['MS', 'B-RRMS']]\n",
      "[['multiple', 'DISEASE'], ['multiple', 'B-RRMS']]\n",
      "[['sclerosis', 'DISEASE'], ['sclerosis', 'I-RRMS']]\n",
      "[['multiple', 'DISEASE'], ['multiple', 'I-RRMS']]\n",
      "[['sclerosis', 'DISEASE'], ['sclerosis', 'I-RRMS']]\n",
      "[['MS', 'DISEASE'], ['MS', 'B-RRMS']]\n",
      "inscope: 8\n",
      "quantitative_00195 annotator2_quantitative_00195_correct\n",
      "quantitative_00195.txt\n"
     ]
    },
    {
     "name": "stderr",
     "output_type": "stream",
     "text": [
      "DEBUG:urllib3.connectionpool:https://huggingface.co:443 \"HEAD /alvaroalon2/biobert_diseases_ner/resolve/main/config.json HTTP/1.1\" 200 0\n",
      "DEBUG:urllib3.connectionpool:https://huggingface.co:443 \"HEAD /alvaroalon2/biobert_diseases_ner/resolve/main/tokenizer_config.json HTTP/1.1\" 200 0\n"
     ]
    },
    {
     "name": "stdout",
     "output_type": "stream",
     "text": [
      "4 30 334 6\n",
      "[['MS', 'DISEASE'], ['MS', 'B-SPMS']]\n",
      "[['RRMS', 'DISEASE'], ['RRMS', 'B-RRMS']]\n",
      "[['MS', 'DISEASE'], ['MS', 'B-SPMS']]\n",
      "[['MS', 'DISEASE'], ['MS', 'I-SPMS']]\n",
      "inscope: 4\n",
      "quantitative_00196 annotator2_quantitative_00196_correct\n",
      "quantitative_00196.txt\n"
     ]
    },
    {
     "name": "stderr",
     "output_type": "stream",
     "text": [
      "DEBUG:urllib3.connectionpool:https://huggingface.co:443 \"HEAD /alvaroalon2/biobert_diseases_ner/resolve/main/config.json HTTP/1.1\" 200 0\n",
      "DEBUG:urllib3.connectionpool:https://huggingface.co:443 \"HEAD /alvaroalon2/biobert_diseases_ner/resolve/main/tokenizer_config.json HTTP/1.1\" 200 0\n"
     ]
    },
    {
     "name": "stdout",
     "output_type": "stream",
     "text": [
      "5 64 1320 10\n",
      "[['Multiple', 'DISEASE'], ['Multiple', 'B-RRMS']]\n",
      "[['sclerosis', 'DISEASE'], ['sclerosis', 'I-RRMS']]\n",
      "[['Multiple', 'DISEASE'], ['Multiple', 'B-RRMS']]\n",
      "[['sclerosis', 'DISEASE'], ['sclerosis', 'I-RRMS']]\n",
      "[['RRMS', 'DISEASE'], ['RRMS', 'B-RRMS']]\n",
      "inscope: 5\n",
      "quantitative_00197 annotator2_quantitative_00197_correct\n",
      "quantitative_00197.txt\n"
     ]
    },
    {
     "name": "stderr",
     "output_type": "stream",
     "text": [
      "DEBUG:urllib3.connectionpool:https://huggingface.co:443 \"HEAD /alvaroalon2/biobert_diseases_ner/resolve/main/config.json HTTP/1.1\" 200 0\n",
      "DEBUG:urllib3.connectionpool:https://huggingface.co:443 \"HEAD /alvaroalon2/biobert_diseases_ner/resolve/main/tokenizer_config.json HTTP/1.1\" 200 0\n"
     ]
    },
    {
     "name": "stdout",
     "output_type": "stream",
     "text": [
      "7 56 1324 14\n",
      "[['multiple', 'DISEASE'], ['multiple', 'I-RRMS']]\n",
      "[['sclerosis', 'DISEASE'], ['sclerosis', 'I-RRMS']]\n",
      "[['multiple', 'DISEASE'], ['multiple', 'B-RRMS']]\n",
      "[['sclerosis', 'DISEASE'], ['sclerosis', 'I-RRMS']]\n",
      "[['multiple', 'DISEASE'], ['multiple', 'I-RRMS']]\n",
      "[['sclerosis', 'DISEASE'], ['sclerosis', 'I-RRMS']]\n",
      "[['MS', 'DISEASE'], ['MS', 'B-RRMS']]\n",
      "inscope: 7\n",
      "quantitative_00198 annotator2_quantitative_00198_correct\n",
      "quantitative_00198.txt\n"
     ]
    },
    {
     "name": "stderr",
     "output_type": "stream",
     "text": [
      "DEBUG:urllib3.connectionpool:https://huggingface.co:443 \"HEAD /alvaroalon2/biobert_diseases_ner/resolve/main/config.json HTTP/1.1\" 200 0\n",
      "DEBUG:urllib3.connectionpool:https://huggingface.co:443 \"HEAD /alvaroalon2/biobert_diseases_ner/resolve/main/tokenizer_config.json HTTP/1.1\" 200 0\n"
     ]
    },
    {
     "name": "stdout",
     "output_type": "stream",
     "text": [
      "0 8 232 6\n",
      "somevalue is zer0\n",
      "quantitative_00199 annotator2_quantitative_00199_correct\n",
      "quantitative_00199.txt\n"
     ]
    },
    {
     "name": "stderr",
     "output_type": "stream",
     "text": [
      "DEBUG:urllib3.connectionpool:https://huggingface.co:443 \"HEAD /alvaroalon2/biobert_diseases_ner/resolve/main/config.json HTTP/1.1\" 200 0\n",
      "DEBUG:urllib3.connectionpool:https://huggingface.co:443 \"HEAD /alvaroalon2/biobert_diseases_ner/resolve/main/tokenizer_config.json HTTP/1.1\" 200 0\n"
     ]
    },
    {
     "name": "stdout",
     "output_type": "stream",
     "text": [
      "4 0 198 8\n",
      "somevalue is zer0\n",
      "recent_00001 annotator2_recent_00001_correct\n",
      "recent_00001.txt\n"
     ]
    },
    {
     "name": "stderr",
     "output_type": "stream",
     "text": [
      "DEBUG:urllib3.connectionpool:https://huggingface.co:443 \"HEAD /alvaroalon2/biobert_diseases_ner/resolve/main/config.json HTTP/1.1\" 200 0\n",
      "DEBUG:urllib3.connectionpool:https://huggingface.co:443 \"HEAD /alvaroalon2/biobert_diseases_ner/resolve/main/tokenizer_config.json HTTP/1.1\" 200 0\n"
     ]
    },
    {
     "name": "stdout",
     "output_type": "stream",
     "text": [
      "6 89 693 6\n",
      "[['multiple', 'DISEASE'], ['multiple', 'B-RRMS']]\n",
      "[['sclerosis', 'DISEASE'], ['sclerosis', 'I-RRMS']]\n",
      "[['MS', 'DISEASE'], ['MS', 'B-RRMS']]\n",
      "[['sclerosis', 'DISEASE'], ['sclerosis', 'I-RRMS']]\n",
      "[['multiple', 'DISEASE'], ['multiple', 'B-RRMS']]\n",
      "[['sclerosis', 'DISEASE'], ['SCLEROSIS', 'I-RRMS']]\n",
      "inscope: 6\n",
      "recent_00002 annotator2_recent_00002_correct\n",
      "recent_00002.txt\n"
     ]
    },
    {
     "name": "stderr",
     "output_type": "stream",
     "text": [
      "DEBUG:urllib3.connectionpool:https://huggingface.co:443 \"HEAD /alvaroalon2/biobert_diseases_ner/resolve/main/config.json HTTP/1.1\" 200 0\n",
      "DEBUG:urllib3.connectionpool:https://huggingface.co:443 \"HEAD /alvaroalon2/biobert_diseases_ner/resolve/main/tokenizer_config.json HTTP/1.1\" 200 0\n"
     ]
    },
    {
     "name": "stdout",
     "output_type": "stream",
     "text": [
      "1 53 589 1\n",
      "[['RRMS', 'DISEASE'], ['RRMS', 'B-RRMS']]\n",
      "inscope: 1\n",
      "recent_00003 annotator2_recent_00003_correct\n",
      "recent_00003.txt\n"
     ]
    },
    {
     "name": "stderr",
     "output_type": "stream",
     "text": [
      "DEBUG:urllib3.connectionpool:https://huggingface.co:443 \"HEAD /alvaroalon2/biobert_diseases_ner/resolve/main/config.json HTTP/1.1\" 200 0\n",
      "DEBUG:urllib3.connectionpool:https://huggingface.co:443 \"HEAD /alvaroalon2/biobert_diseases_ner/resolve/main/tokenizer_config.json HTTP/1.1\" 200 0\n"
     ]
    },
    {
     "name": "stdout",
     "output_type": "stream",
     "text": [
      "2 80 1199 11\n",
      "[['Multiple', 'DISEASE'], ['Multiple', 'B-RRMS']]\n",
      "[['sclerosis', 'DISEASE'], ['sclerosis', 'I-RRMS']]\n",
      "inscope: 2\n",
      "recent_00004 annotator2_recent_00004_correct\n",
      "recent_00004.txt\n"
     ]
    },
    {
     "name": "stderr",
     "output_type": "stream",
     "text": [
      "DEBUG:urllib3.connectionpool:https://huggingface.co:443 \"HEAD /alvaroalon2/biobert_diseases_ner/resolve/main/config.json HTTP/1.1\" 200 0\n",
      "DEBUG:urllib3.connectionpool:https://huggingface.co:443 \"HEAD /alvaroalon2/biobert_diseases_ner/resolve/main/tokenizer_config.json HTTP/1.1\" 200 0\n"
     ]
    },
    {
     "name": "stdout",
     "output_type": "stream",
     "text": [
      "0 24 538 7\n",
      "somevalue is zer0\n",
      "recent_00005 annotator2_recent_00005_correct\n",
      "recent_00005.txt\n"
     ]
    },
    {
     "name": "stderr",
     "output_type": "stream",
     "text": [
      "DEBUG:urllib3.connectionpool:https://huggingface.co:443 \"HEAD /alvaroalon2/biobert_diseases_ner/resolve/main/config.json HTTP/1.1\" 200 0\n",
      "DEBUG:urllib3.connectionpool:https://huggingface.co:443 \"HEAD /alvaroalon2/biobert_diseases_ner/resolve/main/tokenizer_config.json HTTP/1.1\" 200 0\n"
     ]
    },
    {
     "name": "stdout",
     "output_type": "stream",
     "text": [
      "7 39 605 5\n",
      "[['MS', 'DISEASE'], ['MS', 'B-MS_no_subtype']]\n",
      "[['MS', 'DISEASE'], ['MS', 'B-MS_no_subtype']]\n",
      "[['MS', 'DISEASE'], ['MS', 'B-MS_no_subtype']]\n",
      "[['MS', 'DISEASE'], ['MS', 'I-MS_no_subtype']]\n",
      "[['Multiple', 'DISEASE'], ['Multiple', 'B-MS_no_subtype']]\n",
      "[['Sclerosis', 'DISEASE'], ['Sclerosis', 'I-MS_no_subtype']]\n",
      "[['MS', 'DISEASE'], ['MS', 'B-MS_no_subtype']]\n",
      "inscope: 7\n",
      "recent_00006 annotator2_recent_00006_correct\n",
      "recent_00006.txt\n"
     ]
    },
    {
     "name": "stderr",
     "output_type": "stream",
     "text": [
      "DEBUG:urllib3.connectionpool:https://huggingface.co:443 \"HEAD /alvaroalon2/biobert_diseases_ner/resolve/main/config.json HTTP/1.1\" 200 0\n",
      "DEBUG:urllib3.connectionpool:https://huggingface.co:443 \"HEAD /alvaroalon2/biobert_diseases_ner/resolve/main/tokenizer_config.json HTTP/1.1\" 200 0\n"
     ]
    },
    {
     "name": "stdout",
     "output_type": "stream",
     "text": [
      "2 3 255 2\n",
      "[['MS', 'DISEASE'], ['MS', 'B-SPMS']]\n",
      "[['SPMS', 'DISEASE'], ['SPMS', 'B-SPMS']]\n",
      "inscope: 2\n",
      "recent_00007 annotator2_recent_00007_correct\n",
      "recent_00007.txt\n"
     ]
    },
    {
     "name": "stderr",
     "output_type": "stream",
     "text": [
      "DEBUG:urllib3.connectionpool:https://huggingface.co:443 \"HEAD /alvaroalon2/biobert_diseases_ner/resolve/main/config.json HTTP/1.1\" 200 0\n",
      "DEBUG:urllib3.connectionpool:https://huggingface.co:443 \"HEAD /alvaroalon2/biobert_diseases_ner/resolve/main/tokenizer_config.json HTTP/1.1\" 200 0\n"
     ]
    },
    {
     "name": "stdout",
     "output_type": "stream",
     "text": [
      "2 71 757 4\n",
      "[['multiple', 'DISEASE'], ['MULTIPLE', 'B-RRMS']]\n",
      "[['sclerosis', 'DISEASE'], ['sclerosis', 'I-RRMS']]\n",
      "inscope: 2\n",
      "recent_00008 annotator2_recent_00008_correct\n",
      "recent_00008.txt\n"
     ]
    },
    {
     "name": "stderr",
     "output_type": "stream",
     "text": [
      "DEBUG:urllib3.connectionpool:https://huggingface.co:443 \"HEAD /alvaroalon2/biobert_diseases_ner/resolve/main/config.json HTTP/1.1\" 200 0\n",
      "DEBUG:urllib3.connectionpool:https://huggingface.co:443 \"HEAD /alvaroalon2/biobert_diseases_ner/resolve/main/tokenizer_config.json HTTP/1.1\" 200 0\n"
     ]
    },
    {
     "name": "stdout",
     "output_type": "stream",
     "text": [
      "1 9 186 1\n",
      "[['MS', 'DISEASE'], ['MS', 'B-RRMS']]\n",
      "inscope: 1\n",
      "recent_00009 annotator2_recent_00009_correct\n",
      "recent_00009.txt\n"
     ]
    },
    {
     "name": "stderr",
     "output_type": "stream",
     "text": [
      "DEBUG:urllib3.connectionpool:https://huggingface.co:443 \"HEAD /alvaroalon2/biobert_diseases_ner/resolve/main/config.json HTTP/1.1\" 200 0\n",
      "DEBUG:urllib3.connectionpool:https://huggingface.co:443 \"HEAD /alvaroalon2/biobert_diseases_ner/resolve/main/tokenizer_config.json HTTP/1.1\" 200 0\n"
     ]
    },
    {
     "name": "stdout",
     "output_type": "stream",
     "text": [
      "8 57 1019 10\n",
      "[['multiple', 'DISEASE'], ['multiple', 'I-RRMS']]\n",
      "[['sclerosis', 'DISEASE'], ['sclerosis', 'I-RRMS']]\n",
      "[['MS', 'DISEASE'], ['MS', 'B-RRMS']]\n",
      "[['multiple', 'DISEASE'], ['multiple', 'B-RRMS']]\n",
      "[['sclerosis', 'DISEASE'], ['sclerosis', 'I-RRMS']]\n",
      "[['multiple', 'DISEASE'], ['multiple', 'I-RRMS']]\n",
      "[['sclerosis', 'DISEASE'], ['sclerosis', 'I-RRMS']]\n",
      "[['MS', 'DISEASE'], ['MS', 'B-RRMS']]\n",
      "inscope: 8\n",
      "recent_00010 annotator2_recent_00010_correct\n",
      "recent_00010.txt\n"
     ]
    },
    {
     "name": "stderr",
     "output_type": "stream",
     "text": [
      "DEBUG:urllib3.connectionpool:https://huggingface.co:443 \"HEAD /alvaroalon2/biobert_diseases_ner/resolve/main/config.json HTTP/1.1\" 200 0\n",
      "DEBUG:urllib3.connectionpool:https://huggingface.co:443 \"HEAD /alvaroalon2/biobert_diseases_ner/resolve/main/tokenizer_config.json HTTP/1.1\" 200 0\n"
     ]
    },
    {
     "name": "stdout",
     "output_type": "stream",
     "text": [
      "2 1 290 5\n",
      "[['multiple', 'DISEASE'], ['MULTIPLE', 'I-RRMS']]\n",
      "[['sclerosis', 'DISEASE'], ['SCLEROSIS', 'I-RRMS']]\n",
      "inscope: 2\n",
      "recent_00011 annotator2_recent_00011_correct\n",
      "recent_00011.txt\n"
     ]
    },
    {
     "name": "stderr",
     "output_type": "stream",
     "text": [
      "DEBUG:urllib3.connectionpool:https://huggingface.co:443 \"HEAD /alvaroalon2/biobert_diseases_ner/resolve/main/config.json HTTP/1.1\" 200 0\n",
      "DEBUG:urllib3.connectionpool:https://huggingface.co:443 \"HEAD /alvaroalon2/biobert_diseases_ner/resolve/main/tokenizer_config.json HTTP/1.1\" 200 0\n"
     ]
    },
    {
     "name": "stdout",
     "output_type": "stream",
     "text": [
      "3 110 1392 3\n",
      "[['Multiple', 'DISEASE'], ['Multiple', 'B-RRMS']]\n",
      "[['sclerosis', 'DISEASE'], ['sclerosis', 'I-RRMS']]\n",
      "[['MS', 'DISEASE'], ['MS', 'B-RRMS']]\n",
      "inscope: 3\n",
      "recent_00012 annotator2_recent_00012_correct\n",
      "recent_00012.txt\n"
     ]
    },
    {
     "name": "stderr",
     "output_type": "stream",
     "text": [
      "DEBUG:urllib3.connectionpool:https://huggingface.co:443 \"HEAD /alvaroalon2/biobert_diseases_ner/resolve/main/config.json HTTP/1.1\" 200 0\n",
      "DEBUG:urllib3.connectionpool:https://huggingface.co:443 \"HEAD /alvaroalon2/biobert_diseases_ner/resolve/main/tokenizer_config.json HTTP/1.1\" 200 0\n"
     ]
    },
    {
     "name": "stdout",
     "output_type": "stream",
     "text": [
      "2 19 306 4\n",
      "[['Multiple', 'DISEASE'], ['Multiple', 'I-MS_no_subtype']]\n",
      "[['Sclerosis', 'DISEASE'], ['Sclerosis', 'I-MS_no_subtype']]\n",
      "inscope: 2\n",
      "recent_00013 annotator2_recent_00013_correct\n",
      "recent_00013.txt\n"
     ]
    },
    {
     "name": "stderr",
     "output_type": "stream",
     "text": [
      "DEBUG:urllib3.connectionpool:https://huggingface.co:443 \"HEAD /alvaroalon2/biobert_diseases_ner/resolve/main/config.json HTTP/1.1\" 200 0\n",
      "DEBUG:urllib3.connectionpool:https://huggingface.co:443 \"HEAD /alvaroalon2/biobert_diseases_ner/resolve/main/tokenizer_config.json HTTP/1.1\" 200 0\n"
     ]
    },
    {
     "name": "stdout",
     "output_type": "stream",
     "text": [
      "4 59 792 30\n",
      "[['MS', 'DISEASE'], ['MS', 'B-RRMS']]\n",
      "[['Multiple', 'DISEASE'], ['Multiple', 'B-RRMS']]\n",
      "[['sclerosis', 'DISEASE'], ['sclerosis', 'I-RRMS']]\n",
      "[['MS', 'DISEASE'], ['MS', 'B-RRMS']]\n",
      "inscope: 4\n",
      "recent_00014 annotator2_recent_00014_correct\n",
      "recent_00014.txt\n"
     ]
    },
    {
     "name": "stderr",
     "output_type": "stream",
     "text": [
      "DEBUG:urllib3.connectionpool:https://huggingface.co:443 \"HEAD /alvaroalon2/biobert_diseases_ner/resolve/main/config.json HTTP/1.1\" 200 0\n",
      "DEBUG:urllib3.connectionpool:https://huggingface.co:443 \"HEAD /alvaroalon2/biobert_diseases_ner/resolve/main/tokenizer_config.json HTTP/1.1\" 200 0\n"
     ]
    },
    {
     "name": "stdout",
     "output_type": "stream",
     "text": [
      "1 20 195 4\n",
      "[['RRMS', 'DISEASE'], ['RRMS', 'B-RRMS']]\n",
      "inscope: 1\n",
      "recent_00016 annotator2_recent_00016_correct\n",
      "recent_00016.txt\n"
     ]
    },
    {
     "name": "stderr",
     "output_type": "stream",
     "text": [
      "DEBUG:urllib3.connectionpool:https://huggingface.co:443 \"HEAD /alvaroalon2/biobert_diseases_ner/resolve/main/config.json HTTP/1.1\" 200 0\n",
      "DEBUG:urllib3.connectionpool:https://huggingface.co:443 \"HEAD /alvaroalon2/biobert_diseases_ner/resolve/main/tokenizer_config.json HTTP/1.1\" 200 0\n"
     ]
    },
    {
     "name": "stdout",
     "output_type": "stream",
     "text": [
      "7 70 1373 13\n",
      "[['multiple', 'DISEASE'], ['multiple', 'I-RRMS']]\n",
      "[['sclerosis', 'DISEASE'], ['sclerosis', 'I-RRMS']]\n",
      "[['multiple', 'DISEASE'], ['multiple', 'B-RRMS']]\n",
      "[['sclerosis', 'DISEASE'], ['sclerosis', 'I-RRMS']]\n",
      "[['MS', 'DISEASE'], ['MS', 'B-RRMS']]\n",
      "[['multiple', 'DISEASE'], ['multiple', 'I-RRMS']]\n",
      "[['sclerosis', 'DISEASE'], ['sclerosis', 'I-RRMS']]\n",
      "inscope: 7\n",
      "recent_00017 annotator2_recent_00017_correct\n",
      "recent_00017.txt\n"
     ]
    },
    {
     "name": "stderr",
     "output_type": "stream",
     "text": [
      "DEBUG:urllib3.connectionpool:https://huggingface.co:443 \"HEAD /alvaroalon2/biobert_diseases_ner/resolve/main/config.json HTTP/1.1\" 200 0\n",
      "DEBUG:urllib3.connectionpool:https://huggingface.co:443 \"HEAD /alvaroalon2/biobert_diseases_ner/resolve/main/tokenizer_config.json HTTP/1.1\" 200 0\n"
     ]
    },
    {
     "name": "stdout",
     "output_type": "stream",
     "text": [
      "4 92 1326 3\n",
      "[['Multiple', 'DISEASE'], ['Multiple', 'B-RRMS']]\n",
      "[['sclerosis', 'DISEASE'], ['sclerosis', 'I-RRMS']]\n",
      "[['MS', 'DISEASE'], ['MS', 'B-RRMS']]\n",
      "[['MS', 'DISEASE'], ['MS', 'B-RRMS']]\n",
      "inscope: 4\n",
      "recent_00018 annotator2_recent_00018_correct\n",
      "recent_00018.txt\n"
     ]
    },
    {
     "name": "stderr",
     "output_type": "stream",
     "text": [
      "DEBUG:urllib3.connectionpool:https://huggingface.co:443 \"HEAD /alvaroalon2/biobert_diseases_ner/resolve/main/config.json HTTP/1.1\" 200 0\n",
      "DEBUG:urllib3.connectionpool:https://huggingface.co:443 \"HEAD /alvaroalon2/biobert_diseases_ner/resolve/main/tokenizer_config.json HTTP/1.1\" 200 0\n"
     ]
    },
    {
     "name": "stdout",
     "output_type": "stream",
     "text": [
      "6 48 1371 9\n",
      "[['multiple', 'DISEASE'], ['multiple', 'I-RRMS']]\n",
      "[['sclerosis', 'DISEASE'], ['sclerosis', 'I-RRMS']]\n",
      "[['multiple', 'DISEASE'], ['multiple', 'B-RRMS']]\n",
      "[['sclerosis', 'DISEASE'], ['sclerosis', 'I-RRMS']]\n",
      "[['multiple', 'DISEASE'], ['multiple', 'I-RRMS']]\n",
      "[['sclerosis', 'DISEASE'], ['sclerosis', 'I-RRMS']]\n",
      "inscope: 6\n",
      "recent_00019 annotator2_recent_00019_correct\n",
      "recent_00019.txt\n"
     ]
    },
    {
     "name": "stderr",
     "output_type": "stream",
     "text": [
      "DEBUG:urllib3.connectionpool:https://huggingface.co:443 \"HEAD /alvaroalon2/biobert_diseases_ner/resolve/main/config.json HTTP/1.1\" 200 0\n",
      "DEBUG:urllib3.connectionpool:https://huggingface.co:443 \"HEAD /alvaroalon2/biobert_diseases_ner/resolve/main/tokenizer_config.json HTTP/1.1\" 200 0\n"
     ]
    },
    {
     "name": "stdout",
     "output_type": "stream",
     "text": [
      "6 38 799 4\n",
      "[['multiple', 'DISEASE'], ['multiple', 'B-RRMS']]\n",
      "[['sclerosis', 'DISEASE'], ['sclerosis', 'I-RRMS']]\n",
      "[['multiple', 'DISEASE'], ['multiple', 'B-RRMS']]\n",
      "[['sclerosis', 'DISEASE'], ['sclerosis', 'I-RRMS']]\n",
      "[['multiple', 'DISEASE'], ['MULTIPLE', 'I-RRMS']]\n",
      "[['sclerosis', 'DISEASE'], ['SCLEROSIS', 'I-RRMS']]\n",
      "inscope: 6\n",
      "recent_00020 annotator2_recent_00020_correct\n",
      "recent_00020.txt\n"
     ]
    },
    {
     "name": "stderr",
     "output_type": "stream",
     "text": [
      "DEBUG:urllib3.connectionpool:https://huggingface.co:443 \"HEAD /alvaroalon2/biobert_diseases_ner/resolve/main/config.json HTTP/1.1\" 200 0\n",
      "DEBUG:urllib3.connectionpool:https://huggingface.co:443 \"HEAD /alvaroalon2/biobert_diseases_ner/resolve/main/tokenizer_config.json HTTP/1.1\" 200 0\n"
     ]
    },
    {
     "name": "stdout",
     "output_type": "stream",
     "text": [
      "0 22 255 1\n",
      "somevalue is zer0\n",
      "recent_00021 annotator2_recent_00021_correct\n",
      "recent_00021.txt\n"
     ]
    },
    {
     "name": "stderr",
     "output_type": "stream",
     "text": [
      "DEBUG:urllib3.connectionpool:https://huggingface.co:443 \"HEAD /alvaroalon2/biobert_diseases_ner/resolve/main/config.json HTTP/1.1\" 200 0\n",
      "DEBUG:urllib3.connectionpool:https://huggingface.co:443 \"HEAD /alvaroalon2/biobert_diseases_ner/resolve/main/tokenizer_config.json HTTP/1.1\" 200 0\n"
     ]
    },
    {
     "name": "stdout",
     "output_type": "stream",
     "text": [
      "8 44 782 17\n",
      "[['-', 'DISEASE'], ['-', 'I-RRMS']]\n",
      "[['remitting', 'DISEASE'], ['remitting', 'I-RRMS']]\n",
      "[['multiple', 'DISEASE'], ['multiple', 'I-RRMS']]\n",
      "[['sclerosis', 'DISEASE'], ['sclerosis', 'I-RRMS']]\n",
      "[['multiple', 'DISEASE'], ['multiple', 'I-RRMS']]\n",
      "[['sclerosis', 'DISEASE'], ['sclerosis', 'I-RRMS']]\n",
      "[['multiple', 'DISEASE'], ['multiple', 'I-RRMS']]\n",
      "[['sclerosis', 'DISEASE'], ['sclerosis', 'I-RRMS']]\n",
      "inscope: 8\n",
      "recent_00022 annotator2_recent_00022_correct\n",
      "recent_00022.txt\n"
     ]
    },
    {
     "name": "stderr",
     "output_type": "stream",
     "text": [
      "DEBUG:urllib3.connectionpool:https://huggingface.co:443 \"HEAD /alvaroalon2/biobert_diseases_ner/resolve/main/config.json HTTP/1.1\" 200 0\n",
      "DEBUG:urllib3.connectionpool:https://huggingface.co:443 \"HEAD /alvaroalon2/biobert_diseases_ner/resolve/main/tokenizer_config.json HTTP/1.1\" 200 0\n"
     ]
    },
    {
     "name": "stdout",
     "output_type": "stream",
     "text": [
      "0 69 632 3\n",
      "somevalue is zer0\n",
      "recent_00023 annotator2_recent_00023_correct\n",
      "recent_00023.txt\n"
     ]
    },
    {
     "name": "stderr",
     "output_type": "stream",
     "text": [
      "DEBUG:urllib3.connectionpool:https://huggingface.co:443 \"HEAD /alvaroalon2/biobert_diseases_ner/resolve/main/config.json HTTP/1.1\" 200 0\n",
      "DEBUG:urllib3.connectionpool:https://huggingface.co:443 \"HEAD /alvaroalon2/biobert_diseases_ner/resolve/main/tokenizer_config.json HTTP/1.1\" 200 0\n"
     ]
    },
    {
     "name": "stdout",
     "output_type": "stream",
     "text": [
      "8 30 507 5\n",
      "[['-', 'DISEASE'], ['-', 'I-RRMS']]\n",
      "[['remitting', 'DISEASE'], ['remitting', 'I-RRMS']]\n",
      "[['multiple', 'DISEASE'], ['multiple', 'I-RRMS']]\n",
      "[['sclerosis', 'DISEASE'], ['sclerosis', 'I-RRMS']]\n",
      "[['multiple', 'DISEASE'], ['multiple', 'B-RRMS']]\n",
      "[['sclerosis', 'DISEASE'], ['sclerosis', 'I-RRMS']]\n",
      "[['multiple', 'DISEASE'], ['multiple', 'I-RRMS']]\n",
      "[['sclerosis', 'DISEASE'], ['sclerosis', 'I-RRMS']]\n",
      "inscope: 8\n",
      "recent_00024 annotator2_recent_00024_correct\n",
      "recent_00024.txt\n"
     ]
    },
    {
     "name": "stderr",
     "output_type": "stream",
     "text": [
      "DEBUG:urllib3.connectionpool:https://huggingface.co:443 \"HEAD /alvaroalon2/biobert_diseases_ner/resolve/main/config.json HTTP/1.1\" 200 0\n"
     ]
    },
    {
     "name": "stdout",
     "output_type": "stream",
     "text": [
      "6 38 1048 22\n",
      "[['multiple', 'DISEASE'], ['multiple', 'I-RRMS']]\n",
      "[['sclerosis', 'DISEASE'], ['sclerosis', 'I-RRMS']]\n",
      "[['MS', 'DISEASE'], ['MS', 'B-RRMS']]\n",
      "[['MS', 'DISEASE'], ['MS', 'B-RRMS']]\n",
      "[['multiple', 'DISEASE'], ['multiple', 'I-RRMS']]\n",
      "[['sclerosis', 'DISEASE'], ['sclerosis', 'I-RRMS']]\n",
      "inscope: 6\n",
      "recent_00025 annotator2_recent_00025_correct\n",
      "recent_00025.txt\n"
     ]
    },
    {
     "name": "stderr",
     "output_type": "stream",
     "text": [
      "DEBUG:urllib3.connectionpool:https://huggingface.co:443 \"HEAD /alvaroalon2/biobert_diseases_ner/resolve/main/tokenizer_config.json HTTP/1.1\" 200 0\n",
      "DEBUG:urllib3.connectionpool:https://huggingface.co:443 \"HEAD /alvaroalon2/biobert_diseases_ner/resolve/main/config.json HTTP/1.1\" 200 0\n",
      "DEBUG:urllib3.connectionpool:https://huggingface.co:443 \"HEAD /alvaroalon2/biobert_diseases_ner/resolve/main/tokenizer_config.json HTTP/1.1\" 200 0\n"
     ]
    },
    {
     "name": "stdout",
     "output_type": "stream",
     "text": [
      "1 6 281 8\n",
      "[['MS', 'DISEASE'], ['MS', 'B-SPMS']]\n",
      "inscope: 1\n",
      "recent_00026 annotator2_recent_00026_correct\n",
      "recent_00026.txt\n"
     ]
    },
    {
     "name": "stderr",
     "output_type": "stream",
     "text": [
      "DEBUG:urllib3.connectionpool:https://huggingface.co:443 \"HEAD /alvaroalon2/biobert_diseases_ner/resolve/main/config.json HTTP/1.1\" 200 0\n",
      "DEBUG:urllib3.connectionpool:https://huggingface.co:443 \"HEAD /alvaroalon2/biobert_diseases_ner/resolve/main/tokenizer_config.json HTTP/1.1\" 200 0\n"
     ]
    },
    {
     "name": "stdout",
     "output_type": "stream",
     "text": [
      "2 3 223 4\n",
      "[['multiple', 'DISEASE'], ['MULTIPLE', 'I-RRMS']]\n",
      "[['sclerosis', 'DISEASE'], ['SCLEROSIS', 'I-RRMS']]\n",
      "inscope: 2\n",
      "recent_00028 annotator2_recent_00028_correct\n",
      "recent_00028.txt\n"
     ]
    },
    {
     "name": "stderr",
     "output_type": "stream",
     "text": [
      "DEBUG:urllib3.connectionpool:https://huggingface.co:443 \"HEAD /alvaroalon2/biobert_diseases_ner/resolve/main/config.json HTTP/1.1\" 200 0\n",
      "DEBUG:urllib3.connectionpool:https://huggingface.co:443 \"HEAD /alvaroalon2/biobert_diseases_ner/resolve/main/tokenizer_config.json HTTP/1.1\" 200 0\n"
     ]
    },
    {
     "name": "stdout",
     "output_type": "stream",
     "text": [
      "1 24 883 1\n",
      "[['CIS', 'DISEASE'], ['CIS', 'B-CIS']]\n",
      "inscope: 1\n",
      "recent_00029 annotator2_recent_00029_correct\n",
      "recent_00029.txt\n"
     ]
    },
    {
     "name": "stderr",
     "output_type": "stream",
     "text": [
      "DEBUG:urllib3.connectionpool:https://huggingface.co:443 \"HEAD /alvaroalon2/biobert_diseases_ner/resolve/main/config.json HTTP/1.1\" 200 0\n"
     ]
    },
    {
     "name": "stdout",
     "output_type": "stream",
     "text": [
      "1 26 411 5\n",
      "[['sclerosis', 'DISEASE'], ['SCLEROSIS', 'I-RRMS']]\n",
      "inscope: 1\n",
      "recent_00030 annotator2_recent_00030_correct\n",
      "recent_00030.txt\n"
     ]
    },
    {
     "name": "stderr",
     "output_type": "stream",
     "text": [
      "DEBUG:urllib3.connectionpool:https://huggingface.co:443 \"HEAD /alvaroalon2/biobert_diseases_ner/resolve/main/tokenizer_config.json HTTP/1.1\" 200 0\n",
      "DEBUG:urllib3.connectionpool:https://huggingface.co:443 \"HEAD /alvaroalon2/biobert_diseases_ner/resolve/main/config.json HTTP/1.1\" 200 0\n",
      "DEBUG:urllib3.connectionpool:https://huggingface.co:443 \"HEAD /alvaroalon2/biobert_diseases_ner/resolve/main/tokenizer_config.json HTTP/1.1\" 200 0\n"
     ]
    },
    {
     "name": "stdout",
     "output_type": "stream",
     "text": [
      "3 28 1129 22\n",
      "[['multiple', 'DISEASE'], ['multiple', 'I-SPMS']]\n",
      "[['sclerosis', 'DISEASE'], ['sclerosis', 'I-SPMS']]\n",
      "[['MS', 'DISEASE'], ['MS', 'I-SPMS']]\n",
      "inscope: 3\n",
      "recent_00031 annotator2_recent_00031_correct\n",
      "recent_00031.txt\n"
     ]
    },
    {
     "name": "stderr",
     "output_type": "stream",
     "text": [
      "DEBUG:urllib3.connectionpool:https://huggingface.co:443 \"HEAD /alvaroalon2/biobert_diseases_ner/resolve/main/config.json HTTP/1.1\" 200 0\n",
      "DEBUG:urllib3.connectionpool:https://huggingface.co:443 \"HEAD /alvaroalon2/biobert_diseases_ner/resolve/main/tokenizer_config.json HTTP/1.1\" 200 0\n"
     ]
    },
    {
     "name": "stdout",
     "output_type": "stream",
     "text": [
      "3 44 290 3\n",
      "[['multiple', 'DISEASE'], ['multiple', 'B-MS_no_subtype']]\n",
      "[['sclerosis', 'DISEASE'], ['sclerosis', 'I-MS_no_subtype']]\n",
      "[['MS', 'DISEASE'], ['MS', 'B-MS_no_subtype']]\n",
      "inscope: 3\n",
      "recent_00032 annotator2_recent_00032_correct\n",
      "recent_00032.txt\n"
     ]
    },
    {
     "name": "stderr",
     "output_type": "stream",
     "text": [
      "DEBUG:urllib3.connectionpool:https://huggingface.co:443 \"HEAD /alvaroalon2/biobert_diseases_ner/resolve/main/config.json HTTP/1.1\" 200 0\n",
      "DEBUG:urllib3.connectionpool:https://huggingface.co:443 \"HEAD /alvaroalon2/biobert_diseases_ner/resolve/main/tokenizer_config.json HTTP/1.1\" 200 0\n"
     ]
    },
    {
     "name": "stdout",
     "output_type": "stream",
     "text": [
      "2 2 308 5\n",
      "[['multiple', 'DISEASE'], ['MULTIPLE', 'I-RRMS']]\n",
      "[['sclerosis', 'DISEASE'], ['SCLEROSIS', 'I-RRMS']]\n",
      "inscope: 2\n",
      "recent_00033 annotator2_recent_00033_correct\n",
      "recent_00033.txt\n"
     ]
    },
    {
     "name": "stderr",
     "output_type": "stream",
     "text": [
      "DEBUG:urllib3.connectionpool:https://huggingface.co:443 \"HEAD /alvaroalon2/biobert_diseases_ner/resolve/main/config.json HTTP/1.1\" 200 0\n",
      "DEBUG:urllib3.connectionpool:https://huggingface.co:443 \"HEAD /alvaroalon2/biobert_diseases_ner/resolve/main/tokenizer_config.json HTTP/1.1\" 200 0\n"
     ]
    },
    {
     "name": "stdout",
     "output_type": "stream",
     "text": [
      "3 71 1259 4\n",
      "[['Multiple', 'DISEASE'], ['Multiple', 'B-SPMS']]\n",
      "[['sclerosis', 'DISEASE'], ['sclerosis', 'I-SPMS']]\n",
      "[['MS', 'DISEASE'], ['MS', 'B-SPMS']]\n",
      "inscope: 3\n",
      "recent_00034 annotator2_recent_00034_correct\n",
      "recent_00034.txt\n"
     ]
    },
    {
     "name": "stderr",
     "output_type": "stream",
     "text": [
      "DEBUG:urllib3.connectionpool:https://huggingface.co:443 \"HEAD /alvaroalon2/biobert_diseases_ner/resolve/main/config.json HTTP/1.1\" 200 0\n",
      "DEBUG:urllib3.connectionpool:https://huggingface.co:443 \"HEAD /alvaroalon2/biobert_diseases_ner/resolve/main/tokenizer_config.json HTTP/1.1\" 200 0\n"
     ]
    },
    {
     "name": "stdout",
     "output_type": "stream",
     "text": [
      "10 59 1721 17\n",
      "[['multiple', 'DISEASE'], ['multiple', 'I-SPMS']]\n",
      "[['sclerosis', 'DISEASE'], ['sclerosis', 'I-SPMS']]\n",
      "[['multiple', 'DISEASE'], ['multiple', 'I-SPMS']]\n",
      "[['sclerosis', 'DISEASE'], ['sclerosis', 'I-SPMS']]\n",
      "[['multiple', 'DISEASE'], ['multiple', 'B-SPMS']]\n",
      "[['sclerosis', 'DISEASE'], ['sclerosis', 'I-SPMS']]\n",
      "[['multiple', 'DISEASE'], ['multiple', 'B-SPMS']]\n",
      "[['sclerosis', 'DISEASE'], ['sclerosis', 'I-SPMS']]\n",
      "[['multiple', 'DISEASE'], ['multiple', 'I-SPMS']]\n",
      "[['sclerosis', 'DISEASE'], ['sclerosis', 'I-SPMS']]\n",
      "inscope: 10\n",
      "recent_00035 annotator2_recent_00035_correct\n",
      "recent_00035.txt\n"
     ]
    },
    {
     "name": "stderr",
     "output_type": "stream",
     "text": [
      "DEBUG:urllib3.connectionpool:https://huggingface.co:443 \"HEAD /alvaroalon2/biobert_diseases_ner/resolve/main/config.json HTTP/1.1\" 200 0\n",
      "DEBUG:urllib3.connectionpool:https://huggingface.co:443 \"HEAD /alvaroalon2/biobert_diseases_ner/resolve/main/tokenizer_config.json HTTP/1.1\" 200 0\n"
     ]
    },
    {
     "name": "stdout",
     "output_type": "stream",
     "text": [
      "1 92 784 3\n",
      "[['MS', 'DISEASE'], ['MS', 'I-MS_no_subtype']]\n",
      "inscope: 1\n",
      "recent_00036 annotator2_recent_00036_correct\n",
      "recent_00036.txt\n"
     ]
    },
    {
     "name": "stderr",
     "output_type": "stream",
     "text": [
      "DEBUG:urllib3.connectionpool:https://huggingface.co:443 \"HEAD /alvaroalon2/biobert_diseases_ner/resolve/main/config.json HTTP/1.1\" 200 0\n",
      "DEBUG:urllib3.connectionpool:https://huggingface.co:443 \"HEAD /alvaroalon2/biobert_diseases_ner/resolve/main/tokenizer_config.json HTTP/1.1\" 200 0\n"
     ]
    },
    {
     "name": "stdout",
     "output_type": "stream",
     "text": [
      "3 60 1431 15\n",
      "[['MS', 'DISEASE'], ['MS', 'B-SPMS']]\n",
      "[['MS', 'DISEASE'], ['MS', 'B-SPMS']]\n",
      "[['MS', 'DISEASE'], ['MS', 'B-SPMS']]\n",
      "inscope: 3\n",
      "recent_00037 annotator2_recent_00037_correct\n",
      "recent_00037.txt\n"
     ]
    },
    {
     "name": "stderr",
     "output_type": "stream",
     "text": [
      "DEBUG:urllib3.connectionpool:https://huggingface.co:443 \"HEAD /alvaroalon2/biobert_diseases_ner/resolve/main/config.json HTTP/1.1\" 200 0\n",
      "DEBUG:urllib3.connectionpool:https://huggingface.co:443 \"HEAD /alvaroalon2/biobert_diseases_ner/resolve/main/tokenizer_config.json HTTP/1.1\" 200 0\n"
     ]
    },
    {
     "name": "stdout",
     "output_type": "stream",
     "text": [
      "2 15 334 10\n",
      "[['multiple', 'DISEASE'], ['multiple', 'B-RRMS']]\n",
      "[['sclerosis', 'DISEASE'], ['sclerosis', 'I-RRMS']]\n",
      "inscope: 2\n",
      "recent_00038 annotator2_recent_00038_correct\n",
      "recent_00038.txt\n"
     ]
    },
    {
     "name": "stderr",
     "output_type": "stream",
     "text": [
      "DEBUG:urllib3.connectionpool:https://huggingface.co:443 \"HEAD /alvaroalon2/biobert_diseases_ner/resolve/main/config.json HTTP/1.1\" 200 0\n",
      "DEBUG:urllib3.connectionpool:https://huggingface.co:443 \"HEAD /alvaroalon2/biobert_diseases_ner/resolve/main/tokenizer_config.json HTTP/1.1\" 200 0\n"
     ]
    },
    {
     "name": "stdout",
     "output_type": "stream",
     "text": [
      "8 20 374 7\n",
      "[['MS', 'DISEASE'], ['MS', 'B-RRMS']]\n",
      "[['multiple', 'DISEASE'], ['multiple', 'B-RRMS']]\n",
      "[['sclerosis', 'DISEASE'], ['sclerosis', 'I-RRMS']]\n",
      "[['Multiple', 'DISEASE'], ['Multiple', 'B-RRMS']]\n",
      "[['sclerosis', 'DISEASE'], ['sclerosis', 'I-RRMS']]\n",
      "[['MS', 'DISEASE'], ['MS', 'B-RRMS']]\n",
      "[['multiple', 'DISEASE'], ['MULTIPLE', 'I-RRMS']]\n",
      "[['sclerosis', 'DISEASE'], ['SCLEROSIS', 'I-RRMS']]\n",
      "inscope: 8\n",
      "recent_00039 annotator2_recent_00039_correct\n",
      "recent_00039.txt\n"
     ]
    },
    {
     "name": "stderr",
     "output_type": "stream",
     "text": [
      "DEBUG:urllib3.connectionpool:https://huggingface.co:443 \"HEAD /alvaroalon2/biobert_diseases_ner/resolve/main/config.json HTTP/1.1\" 200 0\n",
      "DEBUG:urllib3.connectionpool:https://huggingface.co:443 \"HEAD /alvaroalon2/biobert_diseases_ner/resolve/main/tokenizer_config.json HTTP/1.1\" 200 0\n"
     ]
    },
    {
     "name": "stdout",
     "output_type": "stream",
     "text": [
      "1 101 1464 3\n",
      "[['sclerosis', 'DISEASE'], ['sclerosis', 'I-RRMS']]\n",
      "inscope: 1\n",
      "recent_00040 annotator2_recent_00040_correct\n",
      "recent_00040.txt\n"
     ]
    },
    {
     "name": "stderr",
     "output_type": "stream",
     "text": [
      "DEBUG:urllib3.connectionpool:https://huggingface.co:443 \"HEAD /alvaroalon2/biobert_diseases_ner/resolve/main/config.json HTTP/1.1\" 200 0\n",
      "DEBUG:urllib3.connectionpool:https://huggingface.co:443 \"HEAD /alvaroalon2/biobert_diseases_ner/resolve/main/tokenizer_config.json HTTP/1.1\" 200 0\n"
     ]
    },
    {
     "name": "stdout",
     "output_type": "stream",
     "text": [
      "7 26 648 2\n",
      "[['Multiple', 'DISEASE'], ['Multiple', 'B-RRMS']]\n",
      "[['sclerosis', 'DISEASE'], ['sclerosis', 'I-RRMS']]\n",
      "[['multiple', 'DISEASE'], ['multiple', 'B-RRMS']]\n",
      "[['sclerosis', 'DISEASE'], ['sclerosis', 'I-RRMS']]\n",
      "[['RRMS', 'DISEASE'], ['RRMS', 'B-RRMS']]\n",
      "[['multiple', 'DISEASE'], ['multiple', 'B-RRMS']]\n",
      "[['sclerosis', 'DISEASE'], ['sclerosis', 'I-RRMS']]\n",
      "inscope: 7\n",
      "recent_00041 annotator2_recent_00041_correct\n",
      "recent_00041.txt\n"
     ]
    },
    {
     "name": "stderr",
     "output_type": "stream",
     "text": [
      "DEBUG:urllib3.connectionpool:https://huggingface.co:443 \"HEAD /alvaroalon2/biobert_diseases_ner/resolve/main/config.json HTTP/1.1\" 200 0\n",
      "DEBUG:urllib3.connectionpool:https://huggingface.co:443 \"HEAD /alvaroalon2/biobert_diseases_ner/resolve/main/tokenizer_config.json HTTP/1.1\" 200 0\n"
     ]
    },
    {
     "name": "stdout",
     "output_type": "stream",
     "text": [
      "6 105 1556 3\n",
      "[['Multiple', 'DISEASE'], ['Multiple', 'B-RRMS']]\n",
      "[['sclerosis', 'DISEASE'], ['sclerosis', 'I-RRMS']]\n",
      "[['multiple', 'DISEASE'], ['multiple', 'B-RRMS']]\n",
      "[['sclerosis', 'DISEASE'], ['sclerosis', 'I-RRMS']]\n",
      "[['Multiple', 'DISEASE'], ['Multiple', 'B-RRMS']]\n",
      "[['sclerosis', 'DISEASE'], ['sclerosis', 'I-RRMS']]\n",
      "inscope: 6\n",
      "recent_00042 annotator2_recent_00042_correct\n",
      "recent_00042.txt\n"
     ]
    },
    {
     "name": "stderr",
     "output_type": "stream",
     "text": [
      "DEBUG:urllib3.connectionpool:https://huggingface.co:443 \"HEAD /alvaroalon2/biobert_diseases_ner/resolve/main/config.json HTTP/1.1\" 200 0\n",
      "DEBUG:urllib3.connectionpool:https://huggingface.co:443 \"HEAD /alvaroalon2/biobert_diseases_ner/resolve/main/tokenizer_config.json HTTP/1.1\" 200 0\n"
     ]
    },
    {
     "name": "stdout",
     "output_type": "stream",
     "text": [
      "8 48 1171 22\n",
      "[['multiple', 'DISEASE'], ['multiple', 'I-RRMS']]\n",
      "[['sclerosis', 'DISEASE'], ['sclerosis', 'I-RRMS']]\n",
      "[['MS', 'DISEASE'], ['MS', 'B-RRMS']]\n",
      "[['multiple', 'DISEASE'], ['multiple', 'B-RRMS']]\n",
      "[['sclerosis', 'DISEASE'], ['sclerosis', 'I-RRMS']]\n",
      "[['multiple', 'DISEASE'], ['multiple', 'I-RRMS']]\n",
      "[['sclerosis', 'DISEASE'], ['sclerosis', 'I-RRMS']]\n",
      "[['MS', 'DISEASE'], ['MS', 'I-RRMS']]\n",
      "inscope: 8\n",
      "recent_00043 annotator2_recent_00043_correct\n",
      "recent_00043.txt\n"
     ]
    },
    {
     "name": "stderr",
     "output_type": "stream",
     "text": [
      "DEBUG:urllib3.connectionpool:https://huggingface.co:443 \"HEAD /alvaroalon2/biobert_diseases_ner/resolve/main/config.json HTTP/1.1\" 200 0\n",
      "DEBUG:urllib3.connectionpool:https://huggingface.co:443 \"HEAD /alvaroalon2/biobert_diseases_ner/resolve/main/tokenizer_config.json HTTP/1.1\" 200 0\n"
     ]
    },
    {
     "name": "stdout",
     "output_type": "stream",
     "text": [
      "2 10 141 3\n",
      "[['Multiple', 'DISEASE'], ['Multiple', 'I-PPMS']]\n",
      "[['Sclerosis', 'DISEASE'], ['Sclerosis', 'I-PPMS']]\n",
      "inscope: 2\n",
      "recent_00044 annotator2_recent_00044_correct\n",
      "recent_00044.txt\n"
     ]
    },
    {
     "name": "stderr",
     "output_type": "stream",
     "text": [
      "DEBUG:urllib3.connectionpool:https://huggingface.co:443 \"HEAD /alvaroalon2/biobert_diseases_ner/resolve/main/config.json HTTP/1.1\" 200 0\n",
      "DEBUG:urllib3.connectionpool:https://huggingface.co:443 \"HEAD /alvaroalon2/biobert_diseases_ner/resolve/main/tokenizer_config.json HTTP/1.1\" 200 0\n"
     ]
    },
    {
     "name": "stdout",
     "output_type": "stream",
     "text": [
      "7 41 1250 11\n",
      "[['multiple', 'DISEASE'], ['multiple', 'I-RRMS']]\n",
      "[['sclerosis', 'DISEASE'], ['sclerosis', 'I-RRMS']]\n",
      "[['multiple', 'DISEASE'], ['multiple', 'B-RRMS']]\n",
      "[['sclerosis', 'DISEASE'], ['sclerosis', 'I-RRMS']]\n",
      "[['multiple', 'DISEASE'], ['multiple', 'I-RRMS']]\n",
      "[['sclerosis', 'DISEASE'], ['sclerosis', 'I-RRMS']]\n",
      "[['MS', 'DISEASE'], ['MS', 'B-RRMS']]\n",
      "inscope: 7\n",
      "recent_00046 annotator2_recent_00046_correct\n",
      "recent_00046.txt\n"
     ]
    },
    {
     "name": "stderr",
     "output_type": "stream",
     "text": [
      "DEBUG:urllib3.connectionpool:https://huggingface.co:443 \"HEAD /alvaroalon2/biobert_diseases_ner/resolve/main/config.json HTTP/1.1\" 200 0\n",
      "DEBUG:urllib3.connectionpool:https://huggingface.co:443 \"HEAD /alvaroalon2/biobert_diseases_ner/resolve/main/tokenizer_config.json HTTP/1.1\" 200 0\n"
     ]
    },
    {
     "name": "stdout",
     "output_type": "stream",
     "text": [
      "2 15 339 2\n",
      "[['MS', 'DISEASE'], ['MS', 'B-RRMS']]\n",
      "[['MS', 'DISEASE'], ['MS', 'B-RRMS']]\n",
      "inscope: 2\n",
      "recent_00047 annotator2_recent_00047_correct\n",
      "recent_00047.txt\n"
     ]
    },
    {
     "name": "stderr",
     "output_type": "stream",
     "text": [
      "DEBUG:urllib3.connectionpool:https://huggingface.co:443 \"HEAD /alvaroalon2/biobert_diseases_ner/resolve/main/config.json HTTP/1.1\" 200 0\n",
      "DEBUG:urllib3.connectionpool:https://huggingface.co:443 \"HEAD /alvaroalon2/biobert_diseases_ner/resolve/main/tokenizer_config.json HTTP/1.1\" 200 0\n"
     ]
    },
    {
     "name": "stdout",
     "output_type": "stream",
     "text": [
      "5 59 1387 5\n",
      "[['MS', 'DISEASE'], ['MS', 'I-SPMS']]\n",
      "[['multiple', 'DISEASE'], ['multiple', 'B-SPMS']]\n",
      "[['sclerosis', 'DISEASE'], ['sclerosis', 'I-SPMS']]\n",
      "[['Multiple', 'DISEASE'], ['Multiple', 'B-SPMS']]\n",
      "[['sclerosis', 'DISEASE'], ['sclerosis', 'I-SPMS']]\n",
      "inscope: 5\n",
      "recent_00048 annotator2_recent_00048_correct\n",
      "recent_00048.txt\n"
     ]
    },
    {
     "name": "stderr",
     "output_type": "stream",
     "text": [
      "DEBUG:urllib3.connectionpool:https://huggingface.co:443 \"HEAD /alvaroalon2/biobert_diseases_ner/resolve/main/config.json HTTP/1.1\" 200 0\n",
      "DEBUG:urllib3.connectionpool:https://huggingface.co:443 \"HEAD /alvaroalon2/biobert_diseases_ner/resolve/main/tokenizer_config.json HTTP/1.1\" 200 0\n"
     ]
    },
    {
     "name": "stdout",
     "output_type": "stream",
     "text": [
      "2 34 985 2\n",
      "[['MS', 'DISEASE'], ['MS', 'B-MS_no_subtype']]\n",
      "[['MS', 'DISEASE'], ['MS', 'B-MS_no_subtype']]\n",
      "inscope: 2\n",
      "recent_00049 annotator2_recent_00049_correct\n",
      "recent_00049.txt\n"
     ]
    },
    {
     "name": "stderr",
     "output_type": "stream",
     "text": [
      "DEBUG:urllib3.connectionpool:https://huggingface.co:443 \"HEAD /alvaroalon2/biobert_diseases_ner/resolve/main/config.json HTTP/1.1\" 200 0\n",
      "DEBUG:urllib3.connectionpool:https://huggingface.co:443 \"HEAD /alvaroalon2/biobert_diseases_ner/resolve/main/tokenizer_config.json HTTP/1.1\" 200 0\n"
     ]
    },
    {
     "name": "stdout",
     "output_type": "stream",
     "text": [
      "3 95 1418 5\n",
      "[['MS', 'DISEASE'], ['MS', 'B-RRMS']]\n",
      "[['multiple', 'DISEASE'], ['multiple', 'I-RRMS']]\n",
      "[['sclerosis', 'DISEASE'], ['sclerosis', 'I-RRMS']]\n",
      "inscope: 3\n",
      "recent_00050 annotator2_recent_00050_correct\n",
      "recent_00050.txt\n"
     ]
    },
    {
     "name": "stderr",
     "output_type": "stream",
     "text": [
      "DEBUG:urllib3.connectionpool:https://huggingface.co:443 \"HEAD /alvaroalon2/biobert_diseases_ner/resolve/main/config.json HTTP/1.1\" 200 0\n"
     ]
    },
    {
     "name": "stdout",
     "output_type": "stream",
     "text": [
      "6 57 1930 7\n",
      "[['multiple', 'DISEASE'], ['multiple', 'B-RRMS']]\n",
      "[['sclerosis', 'DISEASE'], ['sclerosis', 'I-RRMS']]\n",
      "[['##RMS', 'DISEASE'], ['MS', 'B-RRMS']]\n",
      "[['Multiple', 'DISEASE'], ['Multiple', 'B-RRMS']]\n",
      "[['Sclerosis', 'DISEASE'], ['Sclerosis', 'I-RRMS']]\n",
      "[['MS', 'DISEASE'], ['MS', 'B-RRMS']]\n",
      "inscope: 6\n",
      ".ipynb_checkpoints .ipynb_checkpoints\n",
      ".ipynb_checkpoints\n"
     ]
    },
    {
     "data": {
      "text/html": [
       "<pre style=\"white-space:pre;overflow-x:auto;line-height:normal;font-family:Menlo,'DejaVu Sans Mono',consolas,'Courier New',monospace\"><span style=\"color: #800000; text-decoration-color: #800000\">╭─────────────────────────────── </span><span style=\"color: #800000; text-decoration-color: #800000; font-weight: bold\">Traceback </span><span style=\"color: #bf7f7f; text-decoration-color: #bf7f7f; font-weight: bold\">(most recent call last)</span><span style=\"color: #800000; text-decoration-color: #800000\"> ────────────────────────────────╮</span>\n",
       "<span style=\"color: #800000; text-decoration-color: #800000\">│</span> in <span style=\"color: #00ff00; text-decoration-color: #00ff00\">&lt;module&gt;</span>:<span style=\"color: #0000ff; text-decoration-color: #0000ff\">249</span>                                                                                  <span style=\"color: #800000; text-decoration-color: #800000\">│</span>\n",
       "<span style=\"color: #800000; text-decoration-color: #800000\">│</span> in <span style=\"color: #00ff00; text-decoration-color: #00ff00\">ner</span>:<span style=\"color: #0000ff; text-decoration-color: #0000ff\">18</span>                                                                                        <span style=\"color: #800000; text-decoration-color: #800000\">│</span>\n",
       "<span style=\"color: #800000; text-decoration-color: #800000\">╰──────────────────────────────────────────────────────────────────────────────────────────────────╯</span>\n",
       "<span style=\"color: #ff0000; text-decoration-color: #ff0000; font-weight: bold\">IsADirectoryError: </span><span style=\"font-weight: bold\">[</span>Errno <span style=\"color: #008080; text-decoration-color: #008080; font-weight: bold\">21</span><span style=\"font-weight: bold\">]</span> Is a directory: <span style=\"color: #008000; text-decoration-color: #008000\">'/host/Sahithi/myenv/input/input/.ipynb_checkpoints'</span>\n",
       "</pre>\n"
      ],
      "text/plain": [
       "\u001b[31m╭─\u001b[0m\u001b[31m──────────────────────────────\u001b[0m\u001b[31m \u001b[0m\u001b[1;31mTraceback \u001b[0m\u001b[1;2;31m(most recent call last)\u001b[0m\u001b[31m \u001b[0m\u001b[31m───────────────────────────────\u001b[0m\u001b[31m─╮\u001b[0m\n",
       "\u001b[31m│\u001b[0m in \u001b[92m<module>\u001b[0m:\u001b[94m249\u001b[0m                                                                                  \u001b[31m│\u001b[0m\n",
       "\u001b[31m│\u001b[0m in \u001b[92mner\u001b[0m:\u001b[94m18\u001b[0m                                                                                        \u001b[31m│\u001b[0m\n",
       "\u001b[31m╰──────────────────────────────────────────────────────────────────────────────────────────────────╯\u001b[0m\n",
       "\u001b[1;91mIsADirectoryError: \u001b[0m\u001b[1m[\u001b[0mErrno \u001b[1;36m21\u001b[0m\u001b[1m]\u001b[0m Is a directory: \u001b[32m'/host/Sahithi/myenv/input/input/.ipynb_checkpoints'\u001b[0m\n"
      ]
     },
     "metadata": {},
     "output_type": "display_data"
    }
   ],
   "source": [
    "def ner(f,f1,a1):\n",
    "    from simpletransformers.ner import NERModel\n",
    "    import pandas as pd\n",
    "    import logging\n",
    "    import re\n",
    "    from nltk.tokenize import TreebankWordTokenizer, sent_tokenize\n",
    "    from transformers import pipeline\n",
    "    from transformers import AutoTokenizer, AutoModelForTokenClassification\n",
    "    import openpyxl\n",
    "    from openpyxl import load_workbook\n",
    "    logging.basicConfig(level=logging.DEBUG)\n",
    "    transformers_logger = logging.getLogger('transformers')\n",
    "    transformers_logger.setLevel(logging.WARNING)\n",
    "\n",
    "    \n",
    "   \n",
    "    file=\"/host/Sahithi/myenv/input/input/\"+f1\n",
    "    with open(file, \"r\") as cur:\n",
    "        text=cur.read()\n",
    "        #preprocessing of data\n",
    "    exceptions = {\n",
    "            r'\\d+mg': r'\\g<0> |\\g<1>',\n",
    "            r'\\d+:\\d+': r'\\g<0>',\n",
    "            r'[\\,\\-\\(\\)]': r' \\g<0> ',\n",
    "            r'(?<!\\d)\\d+\\.\\d+(?!\\d)': r'\\g<0>',\n",
    "            r'\\d+/\\d+': r'\\g<0>',\n",
    "            r'\\d{1,2}[/-]\\d{1,2}[/-]\\d{2,4}': r'\\g<0>',\n",
    "            r'[A-Za-z]\\d': r'\\g<0>',\n",
    "            r'[^\\.\\s]\\.[^\\.\\s]': r'\\g<0>',\n",
    "            r'\\d+\\.\\d+':r'\\g<0>',\n",
    "        }\n",
    "    tokenizer = TreebankWordTokenizer()\n",
    "    tokens = tokenizer.tokenize(text)\n",
    "    processed_tokens = []\n",
    "\n",
    "    a = [\"COVID-19\", \"4/5Unable\", \"workstation:<ID\", \"patientÂ\\x92s\"]\n",
    "    sentences = [] # List to store processed sentences\n",
    "\n",
    "    for token in tokens:\n",
    "        if token in a:\n",
    "            processed_tokens.append(token)\n",
    "        elif token not in exceptions and (\":\" in token or \",\" in token or \"/\" in token or \".\" in token or \"<\" in token or \">\" in token or \"-\" in token):\n",
    "            if re.match(r'\\d+/\\d+', token) or re.match(r'\\d+:\\d+', token):\n",
    "                processed_tokens.append(token)\n",
    "            elif re.match(r'(?<!\\d)\\d+\\.\\d+(?!\\d)', token):\n",
    "                processed_tokens.append(token)\n",
    "            else:\n",
    "                split_tokens = re.split(r'(:|,|/|\\.|<|>|-)', token)\n",
    "                processed_tokens.extend([t for t in split_tokens if t])\n",
    "        elif token in exceptions:\n",
    "            processed_tokens.append(exceptions[token])\n",
    "        else:\n",
    "            processed_tokens.append(token)\n",
    "\n",
    "    # Iterate over sentences and append processed tokens\n",
    "    current_sentence =\"\"\n",
    "    sentences=\"\"\n",
    "    for token in processed_tokens:\n",
    "        current_sentence=current_sentence+\" \"+token\n",
    "   \n",
    "        if token.endswith('.') or token.endswith('!') or token.endswith('?'):\n",
    "            sentences=sentences+\" \"+current_sentence\n",
    "            current_sentence=\"\"\n",
    "\n",
    "    # Append the remaining tokens as the last sentence\n",
    "    if current_sentence:\n",
    "        sentences=sentences+current_sentence\n",
    "    c=[]\n",
    "    sentences1=sentences.replace('REMITTING MULTIPLE SCLEROSIS','remitting multiple sclerosis')\n",
    "    \n",
    "        #splitting the total sentences with maximum length as 350(it can be userdefined )\n",
    "    def process_input(s, max_length):\n",
    "        if len(s) <= max_length:\n",
    "            c.append(s)\n",
    "        else:\n",
    "            while len(s) > 0:\n",
    "                chunk = s[:max_length] \n",
    "                c.append(chunk)\n",
    "                s = s[max_length:]\n",
    "\n",
    "\n",
    "    max_length = 350\n",
    "    process_input(sentences1, max_length)\n",
    "\n",
    "\n",
    "\n",
    "    # Annotated file for each document\n",
    "    a2=\"/host/Sahithi/myenv/output_entity/\"+a1\n",
    "    df = pd.read_csv(a2, delimiter='\\n', header=None, quoting=3)\n",
    "    annotated_text = df[0].tolist()\n",
    "    a = []\n",
    "    for i in annotated_text:\n",
    "        b = i.split(' ')\n",
    "        a.append(b)\n",
    "\n",
    "\n",
    "\n",
    "    tokenizer = AutoTokenizer.from_pretrained(\"alvaroalon2/biobert_diseases_ner\")\n",
    "    model = AutoModelForTokenClassification.from_pretrained(\"alvaroalon2/biobert_diseases_ner\")\n",
    "    pipe = pipeline(\"ner\", model=model, tokenizer=tokenizer, aggregation_strategy=\"simple\")\n",
    "    x=[]\n",
    "    p=[]\n",
    "    for i in c: #c is the chunks of the data with max limit 350\n",
    "        p.extend(pipe(i))\n",
    "    #predicted ones\n",
    "    \n",
    "#     for i in x:\n",
    "#         p.extend(i)  #combining predictions dictioneries of the chunks into a list\n",
    "    predicted_tokens = []\n",
    "    for item in p:\n",
    "        for word in item['word'].split():\n",
    "            predicted_tokens.append([word,item['entity_group']])\n",
    "\n",
    "    annotated_tokens = [[item[0],item[3]] for item in a] #making list of annotated_tokens and labels\n",
    "    annotated_num=0\n",
    "    for i in annotated_tokens:\n",
    "        if(i[1]!='O'):\n",
    "            annotated_num+=1 #counting the number of annotated tokens of the corresponding conll files\n",
    "\n",
    "\n",
    "    tp = []\n",
    "    tn = []\n",
    "    fp = []\n",
    "    fn = []\n",
    "\n",
    "    for item in predicted_tokens:\n",
    "        count = 0\n",
    "        for items in annotated_tokens:\n",
    "            if item[0] == items[0]  or items[0] in item[0].upper(): \n",
    "                count = 1\n",
    "                if (item[1] == '0') & (items[1]=='O'):\n",
    "                    tn.append([item,items])\n",
    "                    annotated_tokens.remove(items)\n",
    "                    break\n",
    "                elif (item[1] == 'DISEASE') & (items[1]!='O'):\n",
    "                    tp.append([item,items])\n",
    "                    annotated_tokens.remove(items)\n",
    "                    break\n",
    "                elif (item[1] == 'DISEASE') & (items[1]=='O'):\n",
    "                    fp.append([item,items])\n",
    "                    annotated_tokens.remove(items)\n",
    "                    break\n",
    "                elif (item[1] == '0') & (items[1]!='O'):\n",
    "                    fn.append([item,items])\n",
    "                    annotated_tokens.remove(items)\n",
    "                    break\n",
    "\n",
    "        if count == 0:\n",
    "            if item[1] == 'DISEASE':\n",
    "                fp.append([[item,[item[0],'O']]])\n",
    "            elif item[1] == '0':\n",
    "                tn.append([[item,[item[0],'O']]])\n",
    "    print(len(tp),len(fp),len(tn),len(fn))\n",
    "    \n",
    "    inscope=0\n",
    "    flag=False\n",
    "    anno=0\n",
    "    if(len(tp)==0 or len(fp)==0 or len(tn)==0 ):\n",
    "        print(\"somevalue is zer0\")\n",
    "          \n",
    "    else:\n",
    "         \n",
    "        flag=True\n",
    "\n",
    "        total=[]\n",
    "        [total.extend(l) for l in (tp,tn,fp,fn)]\n",
    "\n",
    "        token=[]\n",
    "        predict=[]\n",
    "        annot=[]\n",
    "        for i in total:\n",
    "            if(len(i)==2):\n",
    "                token.append(i[0][0])\n",
    "                predict.append(i[0][1])\n",
    "                annot.append(i[1][1])\n",
    "            elif(len(i)==1):\n",
    "                for j in i:\n",
    "                    token.append(j[0][0])\n",
    "                    predict.append(j[0][1])\n",
    "                    annot.append(j[1][1])\n",
    "\n",
    "        output=pd.DataFrame({\n",
    "                        'token':token,\n",
    "                        'predictions':predict,\n",
    "                        'annotated':annot,\n",
    "                    })\n",
    "        \n",
    "        \n",
    "        for i in total:   #finding the number of inscope tokens \n",
    "            if(len(i)==2):\n",
    "                if(i[0][1]!='0' and i[1][1]!='O'):\n",
    "                    inscope=inscope+1\n",
    "                    print(i)\n",
    "            elif len(i)==1:\n",
    "                for j in i:\n",
    "                    if(j[0][1]!='0' and j[1][1]!='O'):\n",
    "                        inscope=inscope+1\n",
    "                        print(j)\n",
    "       \n",
    "                        \n",
    "        print(\"inscope:\",inscope)\n",
    "        \n",
    "            \n",
    "        \n",
    "        \n",
    "    return len(token),annotated_num,inscope,flag,len(tp),len(tn),len(fp),len(fn)\n",
    "\n",
    "    \n",
    "\n",
    "import os\n",
    "files = os.listdir('/host/Sahithi/myenv/input/input/')\n",
    "an_files=os.listdir('/host/Sahithi/myenv/output_entity/')\n",
    "tokens=0\n",
    "annotated_tokens=0\n",
    "num_file=0\n",
    "inscope_tokens=0\n",
    "tp=0\n",
    "tn=0\n",
    "fp=0\n",
    "fn=0\n",
    "for an_file in an_files:\n",
    "    f=os.path.splitext(os.path.basename(an_file))[0]\n",
    "    for file in files:\n",
    "        f1=os.path.splitext(os.path.basename(file))[0]\n",
    "        if f1 in f:\n",
    "            print(f1,f)\n",
    "            print(file)\n",
    "            t,an,ins,flag,t1,t2,t3,t4=ner(f1,file,an_file)\n",
    "#             if(t1!=0 and t2!=0 and t3!=0 and t4!=0):\n",
    "            if flag==True:\n",
    "                tokens=tokens+t\n",
    "                annotated_tokens=annotated_tokens+an\n",
    "                tp=tp+t1\n",
    "                tn=tn+t2\n",
    "                fp=fp+t3\n",
    "                fn=fn+t4\n",
    "                inscope_tokens+=ins\n",
    "                num_file+=1\n",
    "                \n",
    "                \n",
    "            \n",
    "            \n",
    "precision = tp/(tp+fp)\n",
    "recall = tp/(tp+fn)\n",
    "f1 = 2*(precision*recall)/(precision+recall)  \n",
    "\n"
   ]
  },
  {
   "cell_type": "code",
   "execution_count": 3,
   "metadata": {},
   "outputs": [
    {
     "name": "stdout",
     "output_type": "stream",
     "text": [
      "405 1839 5201\n"
     ]
    }
   ],
   "source": [
    "print(num_file,inscope_tokens,annotated_tokens)"
   ]
  },
  {
   "cell_type": "code",
   "execution_count": 5,
   "metadata": {},
   "outputs": [
    {
     "name": "stdout",
     "output_type": "stream",
     "text": [
      "number of  tokens: 358006\n",
      "number of annotated tokens: 5201\n",
      "inscope _tokens: 1839\n",
      "true positives: 1839\n",
      "true negatives: 334370\n",
      "false positives: 19041\n",
      "false negatives: 2756\n",
      "precision: 8.807471264367816\n",
      "recall: 40.02176278563656\n",
      "f1 score: 14.437684003925416\n"
     ]
    }
   ],
   "source": [
    "print(\"number of  tokens:\",tokens  )\n",
    "print(\"number of annotated tokens:\",annotated_tokens)\n",
    "print(\"inscope _tokens:\",inscope_tokens)\n",
    "print(\"true positives:\",tp)\n",
    "print(\"true negatives:\",tn)\n",
    "print(\"false positives:\",fp)\n",
    "print(\"false negatives:\",fn)\n",
    "\n",
    "\n",
    "precision = tp/(tp+fp)\n",
    "recall = tp/(tp+fn)\n",
    "f1 = 2*(precision*recall)/(precision+recall)  \n",
    "\n",
    "print(\"precision:\",precision*100)\n",
    "print(\"recall:\",recall*100)\n",
    "print(\"f1 score:\",f1*100)"
   ]
  },
  {
   "cell_type": "code",
   "execution_count": null,
   "metadata": {},
   "outputs": [],
   "source": []
  }
 ],
 "metadata": {
  "kernelspec": {
   "display_name": "Python 3",
   "language": "python",
   "name": "python3"
  },
  "language_info": {
   "codemirror_mode": {
    "name": "ipython",
    "version": 3
   },
   "file_extension": ".py",
   "mimetype": "text/x-python",
   "name": "python",
   "nbconvert_exporter": "python",
   "pygments_lexer": "ipython3",
   "version": "3.7.3"
  }
 },
 "nbformat": 4,
 "nbformat_minor": 2
}
